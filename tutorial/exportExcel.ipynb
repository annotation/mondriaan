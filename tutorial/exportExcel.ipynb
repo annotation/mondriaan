{
 "cells": [
  {
   "cell_type": "markdown",
   "metadata": {
    "tags": []
   },
   "source": [
    "<img align=\"right\" src=\"images/tf.png\" width=\"128\"/>\n",
    "<img align=\"right\" src=\"images/huc.png\"/>\n",
    "<img align=\"right\" src=\"images/logo.png\" width=\"200\"/>\n",
    "\n",
    "To get started: consult [start](start.ipynb)\n",
    "\n",
    "---\n",
    "\n",
    "# Export to Excel\n",
    "\n",
    "Sometimes you want to use the convenience of Excel.\n",
    "\n",
    "Here are ways to put your data into a spreadsheet.\n",
    "\n",
    "In fact, what we produce are *tab-separated* files that open easily in \n",
    "Excel, Numbers, or any spreadsheet app, including ordinary text-editors."
   ]
  },
  {
   "cell_type": "code",
   "execution_count": 1,
   "metadata": {},
   "outputs": [],
   "source": [
    "%load_ext autoreload\n",
    "%autoreload 2"
   ]
  },
  {
   "cell_type": "code",
   "execution_count": 2,
   "metadata": {},
   "outputs": [],
   "source": [
    "from tf.app import use"
   ]
  },
  {
   "cell_type": "code",
   "execution_count": 3,
   "metadata": {},
   "outputs": [
    {
     "data": {
      "text/markdown": [
       "**Locating corpus resources ...**"
      ],
      "text/plain": [
       "<IPython.core.display.Markdown object>"
      ]
     },
     "metadata": {},
     "output_type": "display_data"
    },
    {
     "data": {
      "text/html": [
       "<b title=\"local github\">app:</b> <span title=\"repo clone offline under /Users/me/github\">~/github/annotation/mondriaan/app</span>"
      ],
      "text/plain": [
       "<IPython.core.display.HTML object>"
      ]
     },
     "metadata": {},
     "output_type": "display_data"
    },
    {
     "name": "stderr",
     "output_type": "stream",
     "text": [
      "The requested data is not available offline\n",
      "\t~/github/annotation/mondriaan/tf/0.8 not found\n",
      "There were problems with loading data.\n",
      "The Text-Fabric API has not been loaded!\n",
      "The app \"annotation/mondriaan\" will not work!\n",
      "There was an error loading corpus annotation/mondriaan\n",
      "AttributeError(\"'NoneType' object has no attribute 'Fall'\")\n",
      "Traceback (most recent call last):\n",
      "  File \"/Users/me/github/annotation/text-fabric/tf/advanced/app.py\", line 584, in findApp\n",
      "    app = appClass(\n",
      "          ^^^^^^^^^\n",
      "  File \"/Users/me/github/annotation/mondriaan/app/app.py\", line 18, in __init__\n",
      "    (f, f[5:]) for f in app.api.Fall() if f.startswith(\"rend_\")\n",
      "                        ^^^^^^^^^^^^\n",
      "AttributeError: 'NoneType' object has no attribute 'Fall'\n",
      "Text-Fabric is not loaded\n"
     ]
    }
   ],
   "source": [
    "A = use(\"annotation/mondriaan:clone\", checkout=\"clone\", hoist=globals())"
   ]
  },
  {
   "cell_type": "markdown",
   "metadata": {},
   "source": [
    "We are going to export all `<rs>` elements with a `person` type to Excel.\n",
    "We also want to include the feature `key` in the results, so we mention it in the query.\n",
    "\n",
    "First we execute the query and have a quick preview:"
   ]
  },
  {
   "cell_type": "code",
   "execution_count": 5,
   "metadata": {},
   "outputs": [
    {
     "name": "stdout",
     "output_type": "stream",
     "text": [
      "  0.00s 113 results\n"
     ]
    }
   ],
   "source": [
    "results = A.search(\"\"\"\n",
    "rs type=person key*\n",
    "\"\"\")"
   ]
  },
  {
   "cell_type": "code",
   "execution_count": 6,
   "metadata": {},
   "outputs": [
    {
     "data": {
      "text/html": [
       "<table><tr class=\"tf ltr\"><th class=\"tf ltr\">n</th><th class=\"tf ltr\">p</th><th class=\"tf ltr\">rs</th></tr>\n",
       "<tr class=\"tf ltr\"><td class=\"tf ltr\">1</td><td class=\"tf ltr\"><span class=\"tfsechead ltr\"><span class=\"ltr\"><a target=\"_blank\" href=\"https://public.mondriaan.org/letters/proeftuin/19090216y_IONG_1303/1&amp;version=0.7\" title=\"Show this on the website\" sec=\"proeftuin@19090216y_IONG_1303:1\">proeftuin@19090216y_IONG_1303:1</a></span></span></td><td class=\"tf ltr\"><span class=\" ubd\"><span class=\"plain   hlbx\" ><span class=\"txtu\"><span class=\" is_meta\">Aletta </span></span><span class=\"txtu\"><span class=\" is_meta\">de </span></span><span class=\"txtu\"><span class=\" is_meta\">Iongh. </span></span></span></span></td></tr>\n",
       "<tr class=\"tf ltr\"><td class=\"tf ltr\">2</td><td class=\"tf ltr\"><span class=\"tfsechead ltr\"><span class=\"ltr\"><a target=\"_blank\" href=\"https://public.mondriaan.org/letters/proeftuin/19090216y_IONG_1303/5&amp;version=0.7\" title=\"Show this on the website\" sec=\"proeftuin@19090216y_IONG_1303:5\">proeftuin@19090216y_IONG_1303:5</a></span></span></td><td class=\"tf ltr\"><span class=\" ubd\"><span class=\"plain   hlbx\" ><span class=\"txtu\">Bulhlig </span></span></span></td></tr>\n",
       "<tr class=\"tf ltr\"><td class=\"tf ltr\">3</td><td class=\"tf ltr\"><span class=\"tfsechead ltr\"><span class=\"ltr\"><a target=\"_blank\" href=\"https://public.mondriaan.org/letters/proeftuin/19090216y_IONG_1303/6&amp;version=0.7\" title=\"Show this on the website\" sec=\"proeftuin@19090216y_IONG_1303:6\">proeftuin@19090216y_IONG_1303:6</a></span></span></td><td class=\"tf ltr\"><span class=\" ubd\"><span class=\"plain   hlbx\" ><span class=\"txtu\"><span class=\" is_note\">Richard </span></span><span class=\"txtu\"><span class=\" is_note\">Buhlig </span></span></span></span></td></tr>\n",
       "<tr class=\"tf ltr\"><td class=\"tf ltr\">4</td><td class=\"tf ltr\"><span class=\"tfsechead ltr\"><span class=\"ltr\"><a target=\"_blank\" href=\"https://public.mondriaan.org/letters/proeftuin/19090216y_IONG_1303/6&amp;version=0.7\" title=\"Show this on the website\" sec=\"proeftuin@19090216y_IONG_1303:6\">proeftuin@19090216y_IONG_1303:6</a></span></span></td><td class=\"tf ltr\"><span class=\" ubd\"><span class=\"plain   hlbx\" ><span class=\"txtu\"><span class=\" is_note\">Aletta </span></span></span></span></td></tr>\n",
       "<tr class=\"tf ltr\"><td class=\"tf ltr\">5</td><td class=\"tf ltr\"><span class=\"tfsechead ltr\"><span class=\"ltr\"><a target=\"_blank\" href=\"https://public.mondriaan.org/letters/proeftuin/19090216y_IONG_1303/6&amp;version=0.7\" title=\"Show this on the website\" sec=\"proeftuin@19090216y_IONG_1303:6\">proeftuin@19090216y_IONG_1303:6</a></span></span></td><td class=\"tf ltr\"><span class=\" ubd\"><span class=\"plain   hlbx\" ><span class=\"txtu\"><span class=\" is_note\">Richard </span></span><span class=\"txtu\"><span class=\" is_note\">Moritz </span></span><span class=\"txtu\"><span class=\" is_note\">Buhlig (</span></span></span></span></td></tr>\n",
       "<tr class=\"tf ltr\"><td class=\"tf ltr\">6</td><td class=\"tf ltr\"><span class=\"tfsechead ltr\"><span class=\"ltr\"><a target=\"_blank\" href=\"https://public.mondriaan.org/letters/proeftuin/19090216y_IONG_1303/6&amp;version=0.7\" title=\"Show this on the website\" sec=\"proeftuin@19090216y_IONG_1303:6\">proeftuin@19090216y_IONG_1303:6</a></span></span></td><td class=\"tf ltr\"><span class=\" ubd\"><span class=\"plain   hlbx\" ><span class=\"txtu\">Buhlig </span></span></span></td></tr>\n",
       "<tr class=\"tf ltr\"><td class=\"tf ltr\">7</td><td class=\"tf ltr\"><span class=\"tfsechead ltr\"><span class=\"ltr\"><a target=\"_blank\" href=\"https://public.mondriaan.org/letters/proeftuin/19090407y_IONG_1739/1&amp;version=0.7\" title=\"Show this on the website\" sec=\"proeftuin@19090407y_IONG_1739:1\">proeftuin@19090407y_IONG_1739:1</a></span></span></td><td class=\"tf ltr\"><span class=\" ubd\"><span class=\"plain   hlbx\" ><span class=\"txtu\"><span class=\" is_meta\">Aletta </span></span><span class=\"txtu\"><span class=\" is_meta\">de </span></span><span class=\"txtu\"><span class=\" is_meta\">Iongh. </span></span></span></span></td></tr>\n",
       "<tr class=\"tf ltr\"><td class=\"tf ltr\">8</td><td class=\"tf ltr\"><span class=\"tfsechead ltr\"><span class=\"ltr\"><a target=\"_blank\" href=\"https://public.mondriaan.org/letters/proeftuin/19090407y_IONG_1739/6&amp;version=0.7\" title=\"Show this on the website\" sec=\"proeftuin@19090407y_IONG_1739:6\">proeftuin@19090407y_IONG_1739:6</a></span></span></td><td class=\"tf ltr\"><span class=\" ubd\"><span class=\"plain   hlbx\" ><span class=\"txtu\"><span class=\" is_note\">De </span></span><span class=\"txtu\"><span class=\" is_note\">Iongh </span></span></span></span></td></tr>\n",
       "<tr class=\"tf ltr\"><td class=\"tf ltr\">9</td><td class=\"tf ltr\"><span class=\"tfsechead ltr\"><span class=\"ltr\"><a target=\"_blank\" href=\"https://public.mondriaan.org/letters/proeftuin/19090407y_IONG_1739/6&amp;version=0.7\" title=\"Show this on the website\" sec=\"proeftuin@19090407y_IONG_1739:6\">proeftuin@19090407y_IONG_1739:6</a></span></span></td><td class=\"tf ltr\"><span class=\" ubd\"><span class=\"plain   hlbx\" ><span class=\"txtu\"><span class=\" is_note\">zijn </span></span><span class=\"txtu\"><span class=\" is_note\">vader. </span></span></span></span></td></tr>\n",
       "<tr class=\"tf ltr\"><td class=\"tf ltr\">10</td><td class=\"tf ltr\"><span class=\"tfsechead ltr\"><span class=\"ltr\"><a target=\"_blank\" href=\"https://public.mondriaan.org/letters/proeftuin/19090421y_IONG_1304/1&amp;version=0.7\" title=\"Show this on the website\" sec=\"proeftuin@19090421y_IONG_1304:1\">proeftuin@19090421y_IONG_1304:1</a></span></span></td><td class=\"tf ltr\"><span class=\" ubd\"><span class=\"plain   hlbx\" ><span class=\"txtu\"><span class=\" is_meta\">Aletta </span></span><span class=\"txtu\"><span class=\" is_meta\">de </span></span><span class=\"txtu\"><span class=\" is_meta\">Iongh. </span></span></span></span></td></tr></table>"
      ],
      "text/plain": [
       "<IPython.core.display.HTML object>"
      ]
     },
     "metadata": {},
     "output_type": "display_data"
    }
   ],
   "source": [
    "A.table(results, end=10)"
   ]
  },
  {
   "cell_type": "markdown",
   "metadata": {},
   "source": [
    "With a bit more info:"
   ]
  },
  {
   "cell_type": "code",
   "execution_count": 7,
   "metadata": {},
   "outputs": [
    {
     "data": {
      "text/html": [
       "<p><b>result</b> <i>1</i>"
      ],
      "text/plain": [
       "<IPython.core.display.HTML object>"
      ]
     },
     "metadata": {},
     "output_type": "display_data"
    },
    {
     "data": {
      "text/html": [
       "<div class=\"tfsechead \"><span class=\"ltr\"><a target=\"_blank\" href=\"https://public.mondriaan.org/letters/proeftuin/19090216y_IONG_1303/1&amp;version=0.7\" title=\"Show this on the website\" sec=\"proeftuin@19090216y_IONG_1303:1\">proeftuin@19090216y_IONG_1303:1</a></span></div><div class=\" children\"><div class=\"contnr c1    \" ><div class=\"lbl c1  \" ><span class=\"nd\">rs </span></div><div class=\"children hor wrap \"><div class=\"contnr c0 trm   \" ><div class=\"lbl c0 trm \" ><span class=\"txtu\"><span class=\" is_meta\">Aletta </span></span></div></div><div class=\"contnr c0 trm   \" ><div class=\"lbl c0 trm \" ><span class=\"txtu\"><span class=\" is_meta\">de </span></span></div></div><div class=\"contnr c0 trm   \" ><div class=\"lbl c0 trm \" ><span class=\"txtu\"><span class=\" is_meta\">Iongh. </span></span></div></div></div></div></div>"
      ],
      "text/plain": [
       "<IPython.core.display.HTML object>"
      ]
     },
     "metadata": {},
     "output_type": "display_data"
    },
    {
     "data": {
      "text/html": [
       "<p><b>result</b> <i>2</i>"
      ],
      "text/plain": [
       "<IPython.core.display.HTML object>"
      ]
     },
     "metadata": {},
     "output_type": "display_data"
    },
    {
     "data": {
      "text/html": [
       "<div class=\"tfsechead \"><span class=\"ltr\"><a target=\"_blank\" href=\"https://public.mondriaan.org/letters/proeftuin/19090216y_IONG_1303/5&amp;version=0.7\" title=\"Show this on the website\" sec=\"proeftuin@19090216y_IONG_1303:5\">proeftuin@19090216y_IONG_1303:5</a></span></div><div class=\" children\"><div class=\"contnr c1    \" ><div class=\"lbl c1  \" ><span class=\"nd\">rs </span></div><div class=\"children hor wrap \"><div class=\"contnr c1    \" ><div class=\"lbl c1  \" ><span class=\"nd\">del </span></div><div class=\"features\"><span class=\"type xft\" ><span class=\"f\">type=</span>overwritten</span></div><div class=\"children hor wrap \"><div class=\"contnr c1    \" ><div class=\"lbl c1  \" ><span class=\"nd\">add </span></div><div class=\"children hor wrap \"><div class=\"contnr c0 trm   \" ><div class=\"lbl c0 trm \" ><span class=\"txtu\">Bulhlig </span></div></div></div></div></div></div></div></div></div>"
      ],
      "text/plain": [
       "<IPython.core.display.HTML object>"
      ]
     },
     "metadata": {},
     "output_type": "display_data"
    }
   ],
   "source": [
    "A.show(results, end=2, condenseType=\"rs\")"
   ]
  },
  {
   "cell_type": "markdown",
   "metadata": {},
   "source": [
    "And context:"
   ]
  },
  {
   "cell_type": "code",
   "execution_count": 8,
   "metadata": {},
   "outputs": [
    {
     "data": {
      "text/html": [
       "<p><b>result</b> <i>1</i>"
      ],
      "text/plain": [
       "<IPython.core.display.HTML object>"
      ]
     },
     "metadata": {},
     "output_type": "display_data"
    },
    {
     "data": {
      "text/html": [
       "<p><b>result</b> <i>2</i>"
      ],
      "text/plain": [
       "<IPython.core.display.HTML object>"
      ]
     },
     "metadata": {},
     "output_type": "display_data"
    },
    {
     "data": {
      "text/html": [
       "<div class=\"tfsechead \"><span class=\"ltr\"><a target=\"_blank\" href=\"https://public.mondriaan.org/letters/proeftuin/19090216y_IONG_1303/5&amp;version=0.7\" title=\"Show this on the website\" sec=\"proeftuin@19090216y_IONG_1303:5\">proeftuin@19090216y_IONG_1303:5</a></span></div><div class=\" children\"><div class=\"contnr c2    \" ><div class=\"lbl c2  \" ><span class=\"nd\">p </span></div><div class=\"children hor wrap \"><div class=\"contnr c1    \" ><div class=\"lbl c1  \" ><span class=\"nd\">ptr </span></div><div class=\"features\"><span class=\"type xft\" ><span class=\"f\">type=</span>note</span></div><div class=\"children hor wrap \"><div class=\"contnr c0 trm   \" ><div class=\"lbl c0 trm \" ><span class=\"txtu\">kom </span></div></div></div></div><div class=\"contnr c0 trm   \" ><div class=\"lbl c0 trm \" ><span class=\"txtu\">je </span></div></div><div class=\"contnr c0 trm   \" ><div class=\"lbl c0 trm \" ><span class=\"txtu\">morgenavond (</span></div></div><div class=\"contnr c0 trm   \" ><div class=\"lbl c0 trm \" ><span class=\"txtu\">Woensdag) </span></div></div><div class=\"contnr c0 trm   \" ><div class=\"lbl c0 trm \" ><span class=\"txtu\">om </span></div></div><div class=\"contnr c0 trm   \" ><div class=\"lbl c0 trm \" ><span class=\"txtu\">kwart </span></div></div><div class=\"contnr c0 trm   \" ><div class=\"lbl c0 trm \" ><span class=\"txtu\">voor </span></div></div><div class=\"contnr c0 trm   \" ><div class=\"lbl c0 trm \" ><span class=\"txtu\">acht \n",
       "</span></div></div><div class=\"contnr c0 trm   \" ><div class=\"lbl c0 trm \" ><span class=\"txtu\">ingang </span></div></div><div class=\"contnr c0 trm   \" ><div class=\"lbl c0 trm \" ><span class=\"txtu\">kleine </span></div></div><div class=\"contnr c0 trm   \" ><div class=\"lbl c0 trm \" ><span class=\"txtu\">zaal </span></div></div><div class=\"contnr c1    \" ><div class=\"lbl c1  \" ><span class=\"nd\">choice </span></div><div class=\"children hor wrap \"><div class=\"contnr c1    \" ><div class=\"lbl c1  \" ><span class=\"nd\">orig </span></div><div class=\"children hor wrap \"><div class=\"contnr c0 trm   \" ><div class=\"lbl c0 trm \" ><span class=\"txtu\">Concertgebouw</span></div></div></div></div><div class=\"contnr c1    \" ><div class=\"lbl c1  \" ><span class=\"nd\">reg </span></div><div class=\"features\"><span class=\"type xft\" ><span class=\"f\">type=</span>punctuation</span></div><div class=\"children hor wrap \"><div class=\"contnr c1    \" ><div class=\"lbl c1  \" ><span class=\"nd\">c </span></div><div class=\"features\"><span class=\"type xft\" ><span class=\"f\">type=</span>wbh></span></div><div class=\"children hor wrap \"><div class=\"contnr c0 trm   \" ><div class=\"lbl c0 trm \" ><span class=\"txtu\">Concert-gebouw, </span></div></div></div></div></div></div></div></div><div class=\"contnr c0 trm   \" ><div class=\"lbl c0 trm \" ><span class=\"txtu\">dan </span></div></div><div class=\"contnr c0 trm   \" ><div class=\"lbl c0 trm \" ><span class=\"txtu\">heb </span></div></div><div class=\"contnr c0 trm   \" ><div class=\"lbl c0 trm \" ><span class=\"txtu\">ik </span></div></div><div class=\"contnr c0 trm   \" ><div class=\"lbl c0 trm \" ><span class=\"txtu\">een </span></div></div><div class=\"contnr c0 trm   \" ><div class=\"lbl c0 trm \" ><span class=\"txtu\">plaats </span></div></div><div class=\"contnr c0 trm   \" ><div class=\"lbl c0 trm \" ><span class=\"txtu\">voor </span></div></div><div class=\"contnr c1    \" ><div class=\"lbl c1  \" ><span class=\"nd\">choice </span></div><div class=\"children hor wrap \"><div class=\"contnr c1    \" ><div class=\"lbl c1  \" ><span class=\"nd\">orig </span></div><div class=\"children hor wrap \"><div class=\"contnr c0 trm   \" ><div class=\"lbl c0 trm \" ><span class=\"txtu\">v</span></div></div></div></div><div class=\"contnr c1    \" ><div class=\"lbl c1  \" ><span class=\"nd\">reg </span></div><div class=\"features\"><span class=\"type xft\" ><span class=\"f\">type=</span>punctuation</span></div><div class=\"children hor wrap \"><div class=\"contnr c0 trm   \" ><div class=\"lbl c0 trm \" ><span class=\"txtu\">v. </span></div></div></div></div></div></div><div class=\"contnr c1    hl\" ><div class=\"lbl c1  hl\" ><span class=\"nd\">rs </span></div><div class=\"children hor wrap \"><div class=\"contnr c1    \" ><div class=\"lbl c1  \" ><span class=\"nd\">del </span></div><div class=\"features\"><span class=\"type xft\" ><span class=\"f\">type=</span>overwritten</span></div><div class=\"children hor wrap \"><div class=\"contnr c1    \" ><div class=\"lbl c1  \" ><span class=\"nd\">add </span></div><div class=\"children hor wrap \"><div class=\"contnr c0 trm   \" ><div class=\"lbl c0 trm \" ><span class=\"txtu\">Bulhlig </span></div></div></div></div></div></div></div></div><div class=\"contnr c0 trm   \" ><div class=\"lbl c0 trm \" ><span class=\"txtu\">voor </span></div></div><div class=\"contnr c0 trm   \" ><div class=\"lbl c0 trm \" ><span class=\"txtu\">je</span></div></div><div class=\"contnr c1    \" ><div class=\"lbl c1  \" ><span class=\"nd\">ptr </span></div><div class=\"features\"><span class=\"type xft\" ><span class=\"f\">type=</span>note</span></div><div class=\"children hor wrap \"><div class=\"contnr c0 trm   \" ><div class=\"lbl c0 trm \" ><span class=\"txtu\"> </span></div></div></div></div><div class=\"contnr c0 trm   \" ><div class=\"lbl c0 trm \" ><span class=\"txtu\">En </span></div></div><div class=\"contnr c0 trm   \" ><div class=\"lbl c0 trm \" ><span class=\"txtu\">dan </span></div></div><div class=\"contnr c0 trm   \" ><div class=\"lbl c0 trm \" ><span class=\"txtu\">kunnen </span></div></div><div class=\"contnr c0 trm   \" ><div class=\"lbl c0 trm \" ><span class=\"txtu\">we </span></div></div><div class=\"contnr c0 trm   \" ><div class=\"lbl c0 trm \" ><span class=\"txtu\">een </span></div></div><div class=\"contnr c0 trm   \" ><div class=\"lbl c0 trm \" ><span class=\"txtu\">andere </span></div></div><div class=\"contnr c0 trm   \" ><div class=\"lbl c0 trm \" ><span class=\"txtu\">dan </span></div></div><div class=\"contnr c0 trm   \" ><div class=\"lbl c0 trm \" ><span class=\"txtu\">Donderdagmiddag </span></div></div><div class=\"contnr c0 trm   \" ><div class=\"lbl c0 trm \" ><span class=\"txtu\">afspreken </span></div></div><div class=\"contnr c0 trm   \" ><div class=\"lbl c0 trm \" ><span class=\"txtu\">want </span></div></div><div class=\"contnr c0 trm   \" ><div class=\"lbl c0 trm \" ><span class=\"txtu\">dan </span></div></div><div class=\"contnr c0 trm   \" ><div class=\"lbl c0 trm \" ><span class=\"txtu\">kan </span></div></div><div class=\"contnr c0 trm   \" ><div class=\"lbl c0 trm \" ><span class=\"txtu\">ik </span></div></div><div class=\"contnr c0 trm   \" ><div class=\"lbl c0 trm \" ><span class=\"txtu\">niet </span></div></div><div class=\"contnr c0 trm   \" ><div class=\"lbl c0 trm \" ><span class=\"txtu\">goed.</span></div></div></div></div></div>"
      ],
      "text/plain": [
       "<IPython.core.display.HTML object>"
      ]
     },
     "metadata": {},
     "output_type": "display_data"
    }
   ],
   "source": [
    "A.show(results, end=2, condenseType=\"p\")"
   ]
  },
  {
   "cell_type": "markdown",
   "metadata": {},
   "source": [
    "Now we export them to file."
   ]
  },
  {
   "cell_type": "code",
   "execution_count": 9,
   "metadata": {},
   "outputs": [],
   "source": [
    "A.export(results)"
   ]
  },
  {
   "cell_type": "markdown",
   "metadata": {},
   "source": [
    "But where are they? Here:"
   ]
  },
  {
   "cell_type": "code",
   "execution_count": 10,
   "metadata": {},
   "outputs": [
    {
     "name": "stdout",
     "output_type": "stream",
     "text": [
      "��R\u0000\t\u0000S\u00001\u0000\t\u0000S\u00002\u0000\t\u0000S\u00003\u0000\t\u0000N\u0000O\u0000D\u0000E\u00001\u0000\t\u0000T\u0000Y\u0000P\u0000E\u00001\u0000\t\u0000T\u0000E\u0000X\u0000T\u00001\u0000\t\u0000k\u0000e\u0000y\u00001\u0000\t\u0000t\u0000y\u0000p\u0000e\u00001\u0000\n",
      "\u00001\u0000\t\u0000p\u0000r\u0000o\u0000e\u0000f\u0000t\u0000u\u0000i\u0000n\u0000\t\u00001\u00009\u00000\u00009\u00000\u00002\u00001\u00006\u0000y\u0000_\u0000I\u0000O\u0000N\u0000G\u0000_\u00001\u00003\u00000\u00003\u0000\t\u00001\u0000\t\u00001\u00002\u00005\u00005\u00009\u0000\t\u0000r\u0000s\u0000\t\u0000<\u0000s\u0000p\u0000a\u0000n\u0000 \u0000c\u0000l\u0000a\u0000s\u0000s\u0000=\u0000\"\u0000 \u0000i\u0000s\u0000_\u0000m\u0000e\u0000t\u0000a\u0000\"\u0000>\u0000A\u0000l\u0000e\u0000t\u0000t\u0000a\u0000 \u0000<\u0000/\u0000s\u0000p\u0000a\u0000n\u0000>\u0000<\u0000s\u0000p\u0000a\u0000n\u0000 \u0000c\u0000l\u0000a\u0000s\u0000s\u0000=\u0000\"\u0000 \u0000i\u0000s\u0000_\u0000m\u0000e\u0000t\u0000a\u0000\"\u0000>\u0000d\u0000e\u0000 \u0000<\u0000/\u0000s\u0000p\u0000a\u0000n\u0000>\u0000<\u0000s\u0000p\u0000a\u0000n\u0000 \u0000c\u0000l\u0000a\u0000s\u0000s\u0000=\u0000\"\u0000 \u0000i\u0000s\u0000_\u0000m\u0000e\u0000t\u0000a\u0000\"\u0000>\u0000I\u0000o\u0000n\u0000g\u0000h\u0000.\u0000 \u0000<\u0000/\u0000s\u0000p\u0000a\u0000n\u0000>\u0000\t\u0000i\u0000o\u0000n\u0000g\u0000h\u0000_\u0000a\u0000l\u0000e\u0000t\u0000t\u0000a\u0000_\u0000d\u0000e\u0000\t\u0000p\u0000e\u0000r\u0000s\u0000o\u0000n\u0000\n",
      "\u00002\u0000\t\u0000p\u0000r\u0000o\u0000e\u0000f\u0000t\u0000u\u0000i\u0000n\u0000\t\u00001\u00009\u00000\u00009\u00000\u00002\u00001\u00006\u0000y\u0000_\u0000I\u0000O\u0000N\u0000G\u0000_\u00001\u00003\u00000\u00003\u0000\t\u00005\u0000\t\u00001\u00002\u00005\u00006\u00000\u0000\t\u0000r\u0000s\u0000\t\u0000B\u0000u\u0000l\u0000h\u0000l\u0000i\u0000g\u0000 \u0000\t\u0000b\u0000u\u0000h\u0000l\u0000i\u0000g\u0000_\u0000r\u0000i\u0000c\u0000h\u0000a\u0000r\u0000d\u0000\t\u0000p\u0000e\u0000r\u0000s\u0000o\u0000n\u0000\n",
      "\u00003\u0000\t\u0000p\u0000r\u0000o\u0000e\u0000f\u0000t\u0000u\u0000i\u0000n\u0000\t\u00001\u00009\u00000\u00009\u00000\u00002\u00001\u00006\u0000y\u0000_\u0000I\u0000O\u0000N\u0000G\u0000_\u00001\u00003\u00000\u00003\u0000\t\u00006\u0000\t\u00001\u00002\u00005\u00006\u00001\u0000\t\u0000r\u0000s\u0000\t\u0000<\u0000s\u0000p\u0000a\u0000n\u0000 \u0000c\u0000l\u0000a\u0000s\u0000s\u0000=\u0000\"\u0000 \u0000i\u0000s\u0000_\u0000n\u0000o\u0000t\u0000e\u0000\"\u0000>\u0000R\u0000i\u0000c\u0000h\u0000a\u0000r\u0000d\u0000 \u0000<\u0000/\u0000s\u0000p\u0000a\u0000n\u0000>\u0000<\u0000s\u0000p\u0000a\u0000n\u0000 \u0000c\u0000l\u0000a\u0000s\u0000s\u0000=\u0000\"\u0000 \u0000i\u0000s\u0000_\u0000n\u0000o\u0000t\u0000e\u0000\"\u0000>\u0000B\u0000u\u0000h\u0000l\u0000i\u0000g\u0000 \u0000<\u0000/\u0000s\u0000p\u0000a\u0000n\u0000>\u0000\t\u0000b\u0000u\u0000h\u0000l\u0000i\u0000g\u0000_\u0000r\u0000i\u0000c\u0000h\u0000a\u0000r\u0000d\u0000\t\u0000p\u0000e\u0000r\u0000s\u0000o\u0000n\u0000\n",
      "\u00004\u0000\t\u0000p\u0000r\u0000o\u0000e\u0000f\u0000t\u0000u\u0000i\u0000n\u0000\t\u00001\u00009\u00000\u00009\u00000\u00002\u00001\u00006\u0000y\u0000_\u0000I\u0000O\u0000N\u0000G\u0000_\u00001\u00003\u00000\u00003\u0000\t\u00006\u0000\t\u00001\u00002\u00005\u00006\u00002\u0000\t\u0000r\u0000s\u0000\t\u0000<\u0000s\u0000p\u0000a\u0000n\u0000 \u0000c\u0000l\u0000a\u0000s\u0000s\u0000=\u0000\"\u0000 \u0000i\u0000s\u0000_\u0000n\u0000o\u0000t\u0000e\u0000\"\u0000>\u0000A\u0000l\u0000e\u0000t\u0000t\u0000a\u0000 \u0000<\u0000/\u0000s\u0000p\u0000a\u0000n\u0000>\u0000\t\u0000i\u0000o\u0000n\u0000g\u0000h\u0000_\u0000a\u0000l\u0000e\u0000t\u0000t\u0000a\u0000_\u0000d\u0000e\u0000\t\u0000p\u0000e\u0000r\u0000s\u0000o\u0000n\u0000\n",
      "\u00005\u0000\t\u0000p\u0000r\u0000o\u0000e\u0000f\u0000t\u0000u\u0000i\u0000n\u0000\t\u00001\u00009\u00000\u00009\u00000\u00002\u00001\u00006\u0000y\u0000_\u0000I\u0000O\u0000N\u0000G\u0000_\u00001\u00003\u00000\u00003\u0000\t\u00006\u0000\t\u00001\u00002\u00005\u00006\u00003\u0000\t\u0000r\u0000s\u0000\t\u0000<\u0000s\u0000p\u0000a\u0000n\u0000 \u0000c\u0000l\u0000a\u0000s\u0000s\u0000=\u0000\"\u0000 \u0000i\u0000s\u0000_\u0000n\u0000o\u0000t\u0000e\u0000\"\u0000>\u0000R\u0000i\u0000c\u0000h\u0000a\u0000r\u0000d\u0000 \u0000<\u0000/\u0000s\u0000p\u0000a\u0000n\u0000>\u0000<\u0000s\u0000p\u0000a\u0000n\u0000 \u0000c\u0000l\u0000a\u0000s\u0000s\u0000=\u0000\"\u0000 \u0000i\u0000s\u0000_\u0000n\u0000o\u0000t\u0000e\u0000\"\u0000>\u0000M\u0000o\u0000r\u0000i\u0000t\u0000z\u0000 \u0000<\u0000/\u0000s\u0000p\u0000a\u0000n\u0000>\u0000<\u0000s\u0000p\u0000a\u0000n\u0000 \u0000c\u0000l\u0000a\u0000s\u0000s\u0000=\u0000\"\u0000 \u0000i\u0000s\u0000_\u0000n\u0000o\u0000t\u0000e\u0000\"\u0000>\u0000B\u0000u\u0000h\u0000l\u0000i\u0000g\u0000 \u0000(\u0000<\u0000/\u0000s\u0000p\u0000a\u0000n\u0000>\u0000\t\u0000b\u0000u\u0000h\u0000l\u0000i\u0000g\u0000_\u0000r\u0000i\u0000c\u0000h\u0000a\u0000r\u0000d\u0000\t\u0000p\u0000e\u0000r\u0000s\u0000o\u0000n\u0000\n",
      "\u00006\u0000\t\u0000p\u0000r\u0000o\u0000e\u0000f\u0000t\u0000u\u0000i\u0000n\u0000\t\u00001\u00009\u00000\u00009\u00000\u00002\u00001\u00006\u0000y\u0000_\u0000I\u0000O\u0000N\u0000G\u0000_\u00001\u00003\u00000\u00003\u0000\t\u00006\u0000\t\u00001\u00002\u00005\u00006\u00004\u0000\t\u0000r\u0000s\u0000\t\u0000B\u0000u\u0000h\u0000l\u0000i\u0000g\u0000 \u0000\t\u0000b\u0000u\u0000h\u0000l\u0000i\u0000g\u0000_\u0000r\u0000i\u0000c\u0000h\u0000a\u0000r\u0000d\u0000\t\u0000p\u0000e\u0000r\u0000s\u0000o\u0000n\u0000\n",
      "\u00007\u0000\t\u0000p\u0000r\u0000o\u0000e\u0000f\u0000t\u0000u\u0000i\u0000n\u0000\t\u00001\u00009\u00000\u00009\u00000\u00004\u00000\u00007\u0000y\u0000_\u0000I\u0000O\u0000N\u0000G\u0000_\u00001\u00007\u00003\u00009\u0000\t\u00001\u0000\t\u00001\u00002\u00005\u00006\u00005\u0000\t\u0000r\u0000s\u0000\t\u0000<\u0000s\u0000p\u0000a\u0000n\u0000 \u0000c\u0000l\u0000a\u0000s\u0000s\u0000=\u0000\"\u0000 \u0000i\u0000s\u0000_\u0000m\u0000e\u0000t\u0000a\u0000\"\u0000>\u0000A\u0000l\u0000e\u0000t\u0000t\u0000a\u0000 \u0000<\u0000/\u0000s\u0000p\u0000a\u0000n\u0000>\u0000<\u0000s\u0000p\u0000a\u0000n\u0000 \u0000c\u0000l\u0000a\u0000s\u0000s\u0000=\u0000\"\u0000 \u0000i\u0000s\u0000_\u0000m\u0000e\u0000t\u0000a\u0000\"\u0000>\u0000d\u0000e\u0000 \u0000<\u0000/\u0000s\u0000p\u0000a\u0000n\u0000>\u0000<\u0000s\u0000p\u0000a\u0000n\u0000 \u0000c\u0000l\u0000a\u0000s\u0000s\u0000=\u0000\"\u0000 \u0000i\u0000s\u0000_\u0000m\u0000e\u0000t\u0000a\u0000\"\u0000>\u0000I\u0000o\u0000n\u0000g\u0000h\u0000.\u0000 \u0000<\u0000/\u0000s\u0000p\u0000a\u0000n\u0000>\u0000\t\u0000i\u0000o\u0000n\u0000g\u0000h\u0000_\u0000a\u0000l\u0000e\u0000t\u0000t\u0000a\u0000_\u0000d\u0000e\u0000\t\u0000p\u0000e\u0000r\u0000s\u0000o\u0000n\u0000\n",
      "\u00008\u0000\t\u0000p\u0000r\u0000o\u0000e\u0000f\u0000t\u0000u\u0000i\u0000n\u0000\t\u00001\u00009\u00000\u00009\u00000\u00004\u00000\u00007\u0000y\u0000_\u0000I\u0000O\u0000N\u0000G\u0000_\u00001\u00007\u00003\u00009\u0000\t\u00006\u0000\t\u00001\u00002\u00005\u00006\u00007\u0000\t\u0000r\u0000s\u0000\t\u0000<\u0000s\u0000p\u0000a\u0000n\u0000 \u0000c\u0000l\u0000a\u0000s\u0000s\u0000=\u0000\"\u0000 \u0000i\u0000s\u0000_\u0000n\u0000o\u0000t\u0000e\u0000\"\u0000>\u0000D\u0000e\u0000 \u0000<\u0000/\u0000s\u0000p\u0000a\u0000n\u0000>\u0000<\u0000s\u0000p\u0000a\u0000n\u0000 \u0000c\u0000l\u0000a\u0000s\u0000s\u0000=\u0000\"\u0000 \u0000i\u0000s\u0000_\u0000n\u0000o\u0000t\u0000e\u0000\"\u0000>\u0000I\u0000o\u0000n\u0000g\u0000h\u0000 \u0000<\u0000/\u0000s\u0000p\u0000a\u0000n\u0000>\u0000\t\u0000i\u0000o\u0000n\u0000g\u0000h\u0000_\u0000a\u0000l\u0000e\u0000t\u0000t\u0000a\u0000_\u0000d\u0000e\u0000\t\u0000p\u0000e\u0000r\u0000s\u0000o\u0000n\u0000\n",
      "\u00009\u0000\t\u0000p\u0000r\u0000o\u0000e\u0000f\u0000t\u0000u\u0000i\u0000n\u0000\t\u00001\u00009\u00000\u00009\u00000\u00004\u00000\u00007\u0000y\u0000_\u0000I\u0000O\u0000N\u0000G\u0000_\u00001\u00007\u00003\u00009\u0000\t\u00006\u0000\t\u00001\u00002\u00005\u00007\u00000\u0000\t\u0000r\u0000s\u0000\t\u0000<\u0000s\u0000p\u0000a\u0000n\u0000 \u0000c\u0000l\u0000a\u0000s\u0000s\u0000=\u0000\"\u0000 \u0000i\u0000s\u0000_\u0000n\u0000o\u0000t\u0000e\u0000\"\u0000>\u0000z\u0000i\u0000j\u0000n\u0000 \u0000<\u0000/\u0000s\u0000p\u0000a\u0000n\u0000>\u0000<\u0000s\u0000p\u0000a\u0000n\u0000 \u0000c\u0000l\u0000a\u0000s\u0000s\u0000=\u0000\"\u0000 \u0000i\u0000s\u0000_\u0000n\u0000o\u0000t\u0000e\u0000\"\u0000>\u0000v\u0000a\u0000d\u0000e\u0000r\u0000.\u0000 \u0000<\u0000/\u0000s\u0000p\u0000a\u0000n\u0000>\u0000\t\u0000m\u0000o\u0000n\u0000d\u0000r\u0000i\u0000a\u0000a\u0000n\u0000_\u0000p\u0000i\u0000e\u0000t\u0000e\u0000r\u0000_\u0000s\u0000e\u0000n\u0000i\u0000o\u0000r\u0000\t\u0000p\u0000e\u0000r\u0000s\u0000o\u0000n\u0000\n"
     ]
    }
   ],
   "source": [
    "!head -n 10 ~/Downloads/results.tsv"
   ]
  },
  {
   "cell_type": "markdown",
   "metadata": {
    "tags": []
   },
   "source": [
    "---\n",
    "\n",
    "# Next steps\n",
    "\n",
    "By now you have an impression how to orient yourself in the Missieven dataset.\n",
    "The next steps will show you how to get powerful: searching and computing.\n",
    "\n",
    "After that it is time for collecting results, use them in new annotations and share them.\n",
    "\n",
    "* **[start](start.ipynb)** start computing with this corpus\n",
    "* **[search](search.ipynb)** turbo charge your hand-coding with search templates\n",
    "* **[compute](compute.ipynb)** sink down a level and compute it yourself\n",
    "* **[exportExcel](exportExcel.ipynb)** make tailor-made spreadsheets out of your results\n",
    "\n",
    "CC-BY Dirk Roorda"
   ]
  }
 ],
 "metadata": {
  "kernelspec": {
   "display_name": "Python 3 (ipykernel)",
   "language": "python",
   "name": "python3"
  },
  "language_info": {
   "codemirror_mode": {
    "name": "ipython",
    "version": 3
   },
   "file_extension": ".py",
   "mimetype": "text/x-python",
   "name": "python",
   "nbconvert_exporter": "python",
   "pygments_lexer": "ipython3",
   "version": "3.11.1"
  },
  "widgets": {
   "application/vnd.jupyter.widget-state+json": {
    "state": {},
    "version_major": 2,
    "version_minor": 0
   }
  }
 },
 "nbformat": 4,
 "nbformat_minor": 4
}
