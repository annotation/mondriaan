{
 "cells": [
  {
   "cell_type": "markdown",
   "id": "ad58f0cc-1b02-4189-91bb-1270bbd098b7",
   "metadata": {},
   "source": [
    "<img align=\"right\" src=\"images/tf.png\" width=\"200\"/>\n",
    "<img align=\"right\" src=\"images/huc.png\" width=\"200\"/>\n",
    "<img align=\"right\" src=\"images/logo.png\" width=\"200\"/>\n",
    "\n",
    "---\n",
    "\n",
    "To get started: consult [start](start.ipynb)\n",
    "\n",
    "---\n",
    "\n",
    "# Computing \"by hand\"\n",
    "\n",
    "We descend to a more concrete level, and interact with the data by means of a bit of hand-coding.\n",
    "\n",
    "Familiarity with the underlying\n",
    "[data model](https://annotation.github.io/text-fabric/tf/about/datamodel.html)\n",
    "is recommended."
   ]
  },
  {
   "cell_type": "code",
   "execution_count": 1,
   "id": "f47fda04-f32b-469c-8eb0-e8d163ba411a",
   "metadata": {
    "ExecuteTime": {
     "end_time": "2018-10-18T10:40:34.922214Z",
     "start_time": "2018-10-18T10:40:34.901689Z"
    }
   },
   "outputs": [],
   "source": [
    "%load_ext autoreload\n",
    "%autoreload 2"
   ]
  },
  {
   "cell_type": "code",
   "execution_count": 2,
   "id": "fd626c78-1225-4315-a354-eb0c2f52b1b0",
   "metadata": {
    "ExecuteTime": {
     "end_time": "2018-10-18T10:40:36.468086Z",
     "start_time": "2018-10-18T10:40:36.442023Z"
    }
   },
   "outputs": [],
   "source": [
    "import collections"
   ]
  },
  {
   "cell_type": "code",
   "execution_count": 3,
   "id": "83580f3a-6c0b-4db4-88e8-b74c9df5bf2c",
   "metadata": {
    "ExecuteTime": {
     "end_time": "2018-10-18T10:40:37.964346Z",
     "start_time": "2018-10-18T10:40:37.346091Z"
    }
   },
   "outputs": [],
   "source": [
    "from tf.app import use"
   ]
  },
  {
   "cell_type": "code",
   "execution_count": 5,
   "id": "32a749f0-3e8e-4242-961c-510aebe51478",
   "metadata": {},
   "outputs": [
    {
     "data": {
      "text/markdown": [
       "**Locating corpus resources ...**"
      ],
      "text/plain": [
       "<IPython.core.display.Markdown object>"
      ]
     },
     "metadata": {},
     "output_type": "display_data"
    },
    {
     "data": {
      "text/html": [
       "<b title=\"local release\">app:</b> <span title=\"rv0.8.1=#g1367901fa217377c61ace488879451f260ad68f1 offline under /Users/me/text-fabric-data/github\">~/text-fabric-data/github/annotation/mondriaan/app</span>"
      ],
      "text/plain": [
       "<IPython.core.display.HTML object>"
      ]
     },
     "metadata": {},
     "output_type": "display_data"
    },
    {
     "data": {
      "text/html": [
       "<b title=\"local release\">data:</b> <span title=\"rv0.8.1=#g1367901fa217377c61ace488879451f260ad68f1 offline under /Users/me/text-fabric-data/github\">~/text-fabric-data/github/annotation/mondriaan/tf/0.8.1</span>"
      ],
      "text/plain": [
       "<IPython.core.display.HTML object>"
      ]
     },
     "metadata": {},
     "output_type": "display_data"
    },
    {
     "data": {
      "text/html": [
       "\n",
       "            <b>Text-Fabric:</b> <a target=\"_blank\" href=\"https://annotation.github.io/text-fabric/tf/cheatsheet.html\" title=\"text-fabric-api\">Text-Fabric API 11.3.1</a>, <a target=\"_blank\" href=\"https://github.com/annotation/mondriaan/blob/main/app\" title=\"annotation/mondriaan app\">annotation/mondriaan/app  v3</a>, <a target=\"_blank\" href=\"https://annotation.github.io/text-fabric/tf/about/searchusage.html\" title=\"Search Templates Introduction and Reference\">Search Reference</a><br>\n",
       "            <b>Data:</b> <a target=\"_blank\" href=\"https://github.com/annotation/mondriaan/blob/main/tf/docs/about.md\" title=\"provenance of annotation - mondriaan/tf\">annotation - mondriaan 0.8.1</a>, <a target=\"_blank\" href=\"https://annotation.github.io/text-fabric/tf/writing/\" title=\"How TF features represent text\">Character table</a>, <a target=\"_blank\" href=\"https://github.com/annotation/mondriaan/blob/main/tf/docs/transcription.md\" title=\"annotation - mondriaan feature documentation\">Feature docs</a><br>\n",
       "            <details class=\"nodeinfo\"><summary><b>Node types</b></summary>\n",
       "<table class=\"nodeinfo\">\n",
       "    <tr>\n",
       "        <th>Name</th>\n",
       "        <th># of nodes</th>\n",
       "        <th># slots/node</th>\n",
       "        <th>% coverage</th>\n",
       "    </tr>\n",
       "\n",
       "<tr>\n",
       "    <th>folder</th>\n",
       "    <td>1</td>\n",
       "    <td>13761.00</td>\n",
       "    <td><b>100</b></td>\n",
       "</tr>\n",
       "\n",
       "<tr>\n",
       "    <th>letter</th>\n",
       "    <td>14</td>\n",
       "    <td>982.93</td>\n",
       "    <td><b>100</b></td>\n",
       "</tr>\n",
       "\n",
       "<tr>\n",
       "    <th>body</th>\n",
       "    <td>14</td>\n",
       "    <td>849.93</td>\n",
       "    <td>86</td>\n",
       "</tr>\n",
       "\n",
       "<tr>\n",
       "    <th>text</th>\n",
       "    <td>14</td>\n",
       "    <td>849.93</td>\n",
       "    <td>86</td>\n",
       "</tr>\n",
       "\n",
       "<tr>\n",
       "    <th>chunk</th>\n",
       "    <td>86</td>\n",
       "    <td>160.00</td>\n",
       "    <td><b>100</b></td>\n",
       "</tr>\n",
       "\n",
       "<tr>\n",
       "    <th>div</th>\n",
       "    <td>93</td>\n",
       "    <td>219.99</td>\n",
       "    <td><i>149</i></td>\n",
       "</tr>\n",
       "\n",
       "<tr>\n",
       "    <th>teiHeader</th>\n",
       "    <td>14</td>\n",
       "    <td>124.57</td>\n",
       "    <td>13</td>\n",
       "</tr>\n",
       "\n",
       "<tr>\n",
       "    <th>p</th>\n",
       "    <td>95</td>\n",
       "    <td>73.39</td>\n",
       "    <td>51</td>\n",
       "</tr>\n",
       "\n",
       "<tr>\n",
       "    <th>postscript</th>\n",
       "    <td>6</td>\n",
       "    <td>62.83</td>\n",
       "    <td>3</td>\n",
       "</tr>\n",
       "\n",
       "<tr>\n",
       "    <th>revisionDesc</th>\n",
       "    <td>14</td>\n",
       "    <td>61.00</td>\n",
       "    <td>6</td>\n",
       "</tr>\n",
       "\n",
       "<tr>\n",
       "    <th>note</th>\n",
       "    <td>86</td>\n",
       "    <td>49.66</td>\n",
       "    <td>31</td>\n",
       "</tr>\n",
       "\n",
       "<tr>\n",
       "    <th>fileDesc</th>\n",
       "    <td>14</td>\n",
       "    <td>45.07</td>\n",
       "    <td>5</td>\n",
       "</tr>\n",
       "\n",
       "<tr>\n",
       "    <th>titleStmt</th>\n",
       "    <td>14</td>\n",
       "    <td>24.07</td>\n",
       "    <td>2</td>\n",
       "</tr>\n",
       "\n",
       "<tr>\n",
       "    <th>msDesc</th>\n",
       "    <td>14</td>\n",
       "    <td>20.00</td>\n",
       "    <td>2</td>\n",
       "</tr>\n",
       "\n",
       "<tr>\n",
       "    <th>sourceDesc</th>\n",
       "    <td>14</td>\n",
       "    <td>20.00</td>\n",
       "    <td>2</td>\n",
       "</tr>\n",
       "\n",
       "<tr>\n",
       "    <th>msIdentifier</th>\n",
       "    <td>14</td>\n",
       "    <td>15.86</td>\n",
       "    <td>2</td>\n",
       "</tr>\n",
       "\n",
       "<tr>\n",
       "    <th>correspDesc</th>\n",
       "    <td>14</td>\n",
       "    <td>15.50</td>\n",
       "    <td>2</td>\n",
       "</tr>\n",
       "\n",
       "<tr>\n",
       "    <th>profileDesc</th>\n",
       "    <td>14</td>\n",
       "    <td>15.50</td>\n",
       "    <td>2</td>\n",
       "</tr>\n",
       "\n",
       "<tr>\n",
       "    <th>title</th>\n",
       "    <td>14</td>\n",
       "    <td>15.07</td>\n",
       "    <td>2</td>\n",
       "</tr>\n",
       "\n",
       "<tr>\n",
       "    <th>closer</th>\n",
       "    <td>31</td>\n",
       "    <td>12.71</td>\n",
       "    <td>3</td>\n",
       "</tr>\n",
       "\n",
       "<tr>\n",
       "    <th>sentence</th>\n",
       "    <td>756</td>\n",
       "    <td>11.72</td>\n",
       "    <td>64</td>\n",
       "</tr>\n",
       "\n",
       "<tr>\n",
       "    <th>address</th>\n",
       "    <td>5</td>\n",
       "    <td>8.00</td>\n",
       "    <td>0</td>\n",
       "</tr>\n",
       "\n",
       "<tr>\n",
       "    <th>correspAction</th>\n",
       "    <td>28</td>\n",
       "    <td>7.75</td>\n",
       "    <td>2</td>\n",
       "</tr>\n",
       "\n",
       "<tr>\n",
       "    <th>facsimile</th>\n",
       "    <td>14</td>\n",
       "    <td>7.43</td>\n",
       "    <td>1</td>\n",
       "</tr>\n",
       "\n",
       "<tr>\n",
       "    <th>date</th>\n",
       "    <td>16</td>\n",
       "    <td>5.81</td>\n",
       "    <td>1</td>\n",
       "</tr>\n",
       "\n",
       "<tr>\n",
       "    <th>change</th>\n",
       "    <td>154</td>\n",
       "    <td>5.55</td>\n",
       "    <td>6</td>\n",
       "</tr>\n",
       "\n",
       "<tr>\n",
       "    <th>salute</th>\n",
       "    <td>55</td>\n",
       "    <td>5.13</td>\n",
       "    <td>2</td>\n",
       "</tr>\n",
       "\n",
       "<tr>\n",
       "    <th>opener</th>\n",
       "    <td>29</td>\n",
       "    <td>4.97</td>\n",
       "    <td>1</td>\n",
       "</tr>\n",
       "\n",
       "<tr>\n",
       "    <th>dateline</th>\n",
       "    <td>9</td>\n",
       "    <td>4.22</td>\n",
       "    <td>0</td>\n",
       "</tr>\n",
       "\n",
       "<tr>\n",
       "    <th>physDesc</th>\n",
       "    <td>14</td>\n",
       "    <td>4.14</td>\n",
       "    <td>0</td>\n",
       "</tr>\n",
       "\n",
       "<tr>\n",
       "    <th>institution</th>\n",
       "    <td>14</td>\n",
       "    <td>3.79</td>\n",
       "    <td>0</td>\n",
       "</tr>\n",
       "\n",
       "<tr>\n",
       "    <th>name</th>\n",
       "    <td>28</td>\n",
       "    <td>3.39</td>\n",
       "    <td>1</td>\n",
       "</tr>\n",
       "\n",
       "<tr>\n",
       "    <th>choice</th>\n",
       "    <td>12</td>\n",
       "    <td>3.17</td>\n",
       "    <td>0</td>\n",
       "</tr>\n",
       "\n",
       "<tr>\n",
       "    <th>addrLine</th>\n",
       "    <td>8</td>\n",
       "    <td>3.00</td>\n",
       "    <td>0</td>\n",
       "</tr>\n",
       "\n",
       "<tr>\n",
       "    <th>decoDesc</th>\n",
       "    <td>14</td>\n",
       "    <td>3.00</td>\n",
       "    <td>0</td>\n",
       "</tr>\n",
       "\n",
       "<tr>\n",
       "    <th>editor</th>\n",
       "    <td>28</td>\n",
       "    <td>3.00</td>\n",
       "    <td>1</td>\n",
       "</tr>\n",
       "\n",
       "<tr>\n",
       "    <th>sponsor</th>\n",
       "    <td>14</td>\n",
       "    <td>3.00</td>\n",
       "    <td>0</td>\n",
       "</tr>\n",
       "\n",
       "<tr>\n",
       "    <th>signed</th>\n",
       "    <td>31</td>\n",
       "    <td>2.61</td>\n",
       "    <td>1</td>\n",
       "</tr>\n",
       "\n",
       "<tr>\n",
       "    <th>placeName</th>\n",
       "    <td>14</td>\n",
       "    <td>2.43</td>\n",
       "    <td>0</td>\n",
       "</tr>\n",
       "\n",
       "<tr>\n",
       "    <th>rs</th>\n",
       "    <td>172</td>\n",
       "    <td>2.39</td>\n",
       "    <td>3</td>\n",
       "</tr>\n",
       "\n",
       "<tr>\n",
       "    <th>idno</th>\n",
       "    <td>42</td>\n",
       "    <td>2.33</td>\n",
       "    <td>1</td>\n",
       "</tr>\n",
       "\n",
       "<tr>\n",
       "    <th>hi</th>\n",
       "    <td>81</td>\n",
       "    <td>2.27</td>\n",
       "    <td>1</td>\n",
       "</tr>\n",
       "\n",
       "<tr>\n",
       "    <th>ref</th>\n",
       "    <td>57</td>\n",
       "    <td>2.25</td>\n",
       "    <td>1</td>\n",
       "</tr>\n",
       "\n",
       "<tr>\n",
       "    <th>decoNote</th>\n",
       "    <td>14</td>\n",
       "    <td>2.07</td>\n",
       "    <td>0</td>\n",
       "</tr>\n",
       "\n",
       "<tr>\n",
       "    <th>settlement</th>\n",
       "    <td>14</td>\n",
       "    <td>2.07</td>\n",
       "    <td>0</td>\n",
       "</tr>\n",
       "\n",
       "<tr>\n",
       "    <th>accMat</th>\n",
       "    <td>1</td>\n",
       "    <td>2.00</td>\n",
       "    <td>0</td>\n",
       "</tr>\n",
       "\n",
       "<tr>\n",
       "    <th>altIdentifier</th>\n",
       "    <td>28</td>\n",
       "    <td>2.00</td>\n",
       "    <td>0</td>\n",
       "</tr>\n",
       "\n",
       "<tr>\n",
       "    <th>country</th>\n",
       "    <td>14</td>\n",
       "    <td>2.00</td>\n",
       "    <td>0</td>\n",
       "</tr>\n",
       "\n",
       "<tr>\n",
       "    <th>reg</th>\n",
       "    <td>10</td>\n",
       "    <td>2.00</td>\n",
       "    <td>0</td>\n",
       "</tr>\n",
       "\n",
       "<tr>\n",
       "    <th>surface</th>\n",
       "    <td>52</td>\n",
       "    <td>2.00</td>\n",
       "    <td>1</td>\n",
       "</tr>\n",
       "\n",
       "<tr>\n",
       "    <th>del</th>\n",
       "    <td>9</td>\n",
       "    <td>1.67</td>\n",
       "    <td>0</td>\n",
       "</tr>\n",
       "\n",
       "<tr>\n",
       "    <th>orig</th>\n",
       "    <td>10</td>\n",
       "    <td>1.40</td>\n",
       "    <td>0</td>\n",
       "</tr>\n",
       "\n",
       "<tr>\n",
       "    <th>add</th>\n",
       "    <td>8</td>\n",
       "    <td>1.12</td>\n",
       "    <td>0</td>\n",
       "</tr>\n",
       "\n",
       "<tr>\n",
       "    <th>c</th>\n",
       "    <td>1</td>\n",
       "    <td>1.00</td>\n",
       "    <td>0</td>\n",
       "</tr>\n",
       "\n",
       "<tr>\n",
       "    <th>graphic</th>\n",
       "    <td>52</td>\n",
       "    <td>1.00</td>\n",
       "    <td>0</td>\n",
       "</tr>\n",
       "\n",
       "<tr>\n",
       "    <th>objectDesc</th>\n",
       "    <td>14</td>\n",
       "    <td>1.00</td>\n",
       "    <td>0</td>\n",
       "</tr>\n",
       "\n",
       "<tr>\n",
       "    <th>pb</th>\n",
       "    <td>50</td>\n",
       "    <td>1.00</td>\n",
       "    <td>0</td>\n",
       "</tr>\n",
       "\n",
       "<tr>\n",
       "    <th>postmark</th>\n",
       "    <td>2</td>\n",
       "    <td>1.00</td>\n",
       "    <td>0</td>\n",
       "</tr>\n",
       "\n",
       "<tr>\n",
       "    <th>ptr</th>\n",
       "    <td>76</td>\n",
       "    <td>1.00</td>\n",
       "    <td>1</td>\n",
       "</tr>\n",
       "\n",
       "<tr>\n",
       "    <th>publicationStmt</th>\n",
       "    <td>14</td>\n",
       "    <td>1.00</td>\n",
       "    <td>0</td>\n",
       "</tr>\n",
       "\n",
       "<tr>\n",
       "    <th>space</th>\n",
       "    <td>9</td>\n",
       "    <td>1.00</td>\n",
       "    <td>0</td>\n",
       "</tr>\n",
       "\n",
       "<tr>\n",
       "    <th>unclear</th>\n",
       "    <td>4</td>\n",
       "    <td>1.00</td>\n",
       "    <td>0</td>\n",
       "</tr>\n",
       "\n",
       "<tr>\n",
       "    <th><i>token</i></th>\n",
       "    <td>13761</td>\n",
       "    <td>1.00</td>\n",
       "    <td><b>100</b></td>\n",
       "</tr>\n",
       "</table></details>\n",
       "            <b>Sets:</b> no custom sets<br>\n",
       "            <b>Features:</b><br>\n",
       "<details><summary><b>annotation - mondriaan/tf</b></summary>\n",
       "    <div class=\"fcorpus\">\n",
       "\n",
       "<div class=\"frow\">\n",
       "    <div class=\"fnamecat \">\n",
       "<a target=\"_blank\" href=\"https://github.com/annotation/mondriaan/blob/main/tf/docs/transcription.md\" title=\"~/text-fabric-data/github/annotation/mondriaan/tf/0.8.1/after.tf\">after</a>\n",
       "</div>\n",
       "<div class=\"fmono\">str</div>\n",
       "\n",
       "<span> the text after a word till the next word</span>\n",
       "\n",
       "</div>\n",
       "\n",
       "<div class=\"frow\">\n",
       "    <div class=\"fnamecat \">\n",
       "<a target=\"_blank\" href=\"https://github.com/annotation/mondriaan/blob/main/tf/docs/transcription.md\" title=\"~/text-fabric-data/github/annotation/mondriaan/tf/0.8.1/chunk.tf\">chunk</a>\n",
       "</div>\n",
       "<div class=\"fmono\">int</div>\n",
       "\n",
       "<span> number of a chunk within a document</span>\n",
       "\n",
       "</div>\n",
       "\n",
       "<div class=\"frow\">\n",
       "    <div class=\"fnamecat \">\n",
       "<a target=\"_blank\" href=\"https://github.com/annotation/mondriaan/blob/main/tf/docs/transcription.md\" title=\"~/text-fabric-data/github/annotation/mondriaan/tf/0.8.1/dim.tf\">dim</a>\n",
       "</div>\n",
       "<div class=\"fmono\">str</div>\n",
       "\n",
       "<span> this is TEI attribute dim</span>\n",
       "\n",
       "</div>\n",
       "\n",
       "<div class=\"frow\">\n",
       "    <div class=\"fnamecat \">\n",
       "<a target=\"_blank\" href=\"https://github.com/annotation/mondriaan/blob/main/tf/docs/transcription.md\" title=\"~/text-fabric-data/github/annotation/mondriaan/tf/0.8.1/empty.tf\">empty</a>\n",
       "</div>\n",
       "<div class=\"fmono\">int</div>\n",
       "\n",
       "<span> whether a slot has been inserted in an empty element</span>\n",
       "\n",
       "</div>\n",
       "\n",
       "<div class=\"frow\">\n",
       "    <div class=\"fnamecat \">\n",
       "<a target=\"_blank\" href=\"https://github.com/annotation/mondriaan/blob/main/tf/docs/transcription.md\" title=\"~/text-fabric-data/github/annotation/mondriaan/tf/0.8.1/extraspace.tf\">extraspace</a>\n",
       "</div>\n",
       "<div class=\"fmono\">str</div>\n",
       "\n",
       "<span> this is TEI attribute extraspace</span>\n",
       "\n",
       "</div>\n",
       "\n",
       "<div class=\"frow\">\n",
       "    <div class=\"fnamecat \">\n",
       "<a target=\"_blank\" href=\"https://github.com/annotation/mondriaan/blob/main/tf/docs/transcription.md\" title=\"~/text-fabric-data/github/annotation/mondriaan/tf/0.8.1/f.tf\">f</a>\n",
       "</div>\n",
       "<div class=\"fmono\">str</div>\n",
       "\n",
       "<span> this is TEI attribute f</span>\n",
       "\n",
       "</div>\n",
       "\n",
       "<div class=\"frow\">\n",
       "    <div class=\"fnamecat \">\n",
       "<a target=\"_blank\" href=\"https://github.com/annotation/mondriaan/blob/main/tf/docs/transcription.md\" title=\"~/text-fabric-data/github/annotation/mondriaan/tf/0.8.1/facs.tf\">facs</a>\n",
       "</div>\n",
       "<div class=\"fmono\">str</div>\n",
       "\n",
       "<span> this is TEI attribute facs</span>\n",
       "\n",
       "</div>\n",
       "\n",
       "<div class=\"frow\">\n",
       "    <div class=\"fnamecat \">\n",
       "<a target=\"_blank\" href=\"https://github.com/annotation/mondriaan/blob/main/tf/docs/transcription.md\" title=\"~/text-fabric-data/github/annotation/mondriaan/tf/0.8.1/folder.tf\">folder</a>\n",
       "</div>\n",
       "<div class=\"fmono\">str</div>\n",
       "\n",
       "<span> name of source folder</span>\n",
       "\n",
       "</div>\n",
       "\n",
       "<div class=\"frow\">\n",
       "    <div class=\"fnamecat \">\n",
       "<a target=\"_blank\" href=\"https://github.com/annotation/mondriaan/blob/main/tf/docs/transcription.md\" title=\"~/text-fabric-data/github/annotation/mondriaan/tf/0.8.1/form.tf\">form</a>\n",
       "</div>\n",
       "<div class=\"fmono\">str</div>\n",
       "\n",
       "<span> this is TEI attribute form</span>\n",
       "\n",
       "</div>\n",
       "\n",
       "<div class=\"frow\">\n",
       "    <div class=\"fnamecat \">\n",
       "<a target=\"_blank\" href=\"https://github.com/annotation/mondriaan/blob/main/tf/docs/transcription.md\" title=\"~/text-fabric-data/github/annotation/mondriaan/tf/0.8.1/id.tf\">id</a>\n",
       "</div>\n",
       "<div class=\"fmono\">str</div>\n",
       "\n",
       "<span> this is TEI attribute id</span>\n",
       "\n",
       "</div>\n",
       "\n",
       "<div class=\"frow\">\n",
       "    <div class=\"fnamecat \">\n",
       "<a target=\"_blank\" href=\"https://github.com/annotation/mondriaan/blob/main/tf/docs/transcription.md\" title=\"~/text-fabric-data/github/annotation/mondriaan/tf/0.8.1/is_meta.tf\">is_meta</a>\n",
       "</div>\n",
       "<div class=\"fmono\">str</div>\n",
       "\n",
       "<span> whether a slot or word is in the teiHeader element</span>\n",
       "\n",
       "</div>\n",
       "\n",
       "<div class=\"frow\">\n",
       "    <div class=\"fnamecat \">\n",
       "<a target=\"_blank\" href=\"https://github.com/annotation/mondriaan/blob/main/tf/docs/transcription.md\" title=\"~/text-fabric-data/github/annotation/mondriaan/tf/0.8.1/is_note.tf\">is_note</a>\n",
       "</div>\n",
       "<div class=\"fmono\">str</div>\n",
       "\n",
       "<span> whether a slot or word is in the note element</span>\n",
       "\n",
       "</div>\n",
       "\n",
       "<div class=\"frow\">\n",
       "    <div class=\"fnamecat \">\n",
       "<a target=\"_blank\" href=\"https://github.com/annotation/mondriaan/blob/main/tf/docs/transcription.md\" title=\"~/text-fabric-data/github/annotation/mondriaan/tf/0.8.1/key.tf\">key</a>\n",
       "</div>\n",
       "<div class=\"fmono\">str</div>\n",
       "\n",
       "<span> this is TEI attribute key</span>\n",
       "\n",
       "</div>\n",
       "\n",
       "<div class=\"frow\">\n",
       "    <div class=\"fnamecat \">\n",
       "<a target=\"_blank\" href=\"https://github.com/annotation/mondriaan/blob/main/tf/docs/transcription.md\" title=\"~/text-fabric-data/github/annotation/mondriaan/tf/0.8.1/lang.tf\">lang</a>\n",
       "</div>\n",
       "<div class=\"fmono\">str</div>\n",
       "\n",
       "<span> this is TEI attribute lang</span>\n",
       "\n",
       "</div>\n",
       "\n",
       "<div class=\"frow\">\n",
       "    <div class=\"fnamecat \">\n",
       "<a target=\"_blank\" href=\"https://github.com/annotation/mondriaan/blob/main/tf/docs/transcription.md\" title=\"~/text-fabric-data/github/annotation/mondriaan/tf/0.8.1/letter.tf\">letter</a>\n",
       "</div>\n",
       "<div class=\"fmono\">str</div>\n",
       "\n",
       "<span> name of source letter</span>\n",
       "\n",
       "</div>\n",
       "\n",
       "<div class=\"frow\">\n",
       "    <div class=\"fnamecat \">\n",
       "<a target=\"_blank\" href=\"https://github.com/annotation/mondriaan/blob/main/tf/docs/transcription.md\" title=\"~/text-fabric-data/github/annotation/mondriaan/tf/0.8.1/n.tf\">n</a>\n",
       "</div>\n",
       "<div class=\"fmono\">str</div>\n",
       "\n",
       "<span> this is TEI attribute n</span>\n",
       "\n",
       "</div>\n",
       "\n",
       "<div class=\"frow\">\n",
       "    <div class=\"fnamecat \">\n",
       "<a target=\"_blank\" href=\"https://github.com/annotation/mondriaan/blob/main/tf/docs/transcription.md\" title=\"~/text-fabric-data/github/annotation/mondriaan/tf/0.8.1/nsent.tf\">nsent</a>\n",
       "</div>\n",
       "<div class=\"fmono\">int</div>\n",
       "\n",
       "<span> number of sentence in corpus</span>\n",
       "\n",
       "</div>\n",
       "\n",
       "<div class=\"frow\">\n",
       "    <div class=\"fnamecat \">\n",
       "<a target=\"_blank\" href=\"https://github.com/annotation/mondriaan/blob/main/tf/docs/transcription.md\" title=\"~/text-fabric-data/github/annotation/mondriaan/tf/0.8.1/otype.tf\">otype</a>\n",
       "</div>\n",
       "<div class=\"fmono\">str</div>\n",
       "\n",
       "<span> </span>\n",
       "\n",
       "</div>\n",
       "\n",
       "<div class=\"frow\">\n",
       "    <div class=\"fnamecat \">\n",
       "<a target=\"_blank\" href=\"https://github.com/annotation/mondriaan/blob/main/tf/docs/transcription.md\" title=\"~/text-fabric-data/github/annotation/mondriaan/tf/0.8.1/quantity.tf\">quantity</a>\n",
       "</div>\n",
       "<div class=\"fmono\">str</div>\n",
       "\n",
       "<span> this is TEI attribute quantity</span>\n",
       "\n",
       "</div>\n",
       "\n",
       "<div class=\"frow\">\n",
       "    <div class=\"fnamecat \">\n",
       "<a target=\"_blank\" href=\"https://github.com/annotation/mondriaan/blob/main/tf/docs/transcription.md\" title=\"~/text-fabric-data/github/annotation/mondriaan/tf/0.8.1/reason.tf\">reason</a>\n",
       "</div>\n",
       "<div class=\"fmono\">str</div>\n",
       "\n",
       "<span> this is TEI attribute reason</span>\n",
       "\n",
       "</div>\n",
       "\n",
       "<div class=\"frow\">\n",
       "    <div class=\"fnamecat \">\n",
       "<a target=\"_blank\" href=\"https://github.com/annotation/mondriaan/blob/main/tf/docs/transcription.md\" title=\"~/text-fabric-data/github/annotation/mondriaan/tf/0.8.1/rend.tf\">rend</a>\n",
       "</div>\n",
       "<div class=\"fmono\">str</div>\n",
       "\n",
       "<span> this is TEI attribute rend</span>\n",
       "\n",
       "</div>\n",
       "\n",
       "<div class=\"frow\">\n",
       "    <div class=\"fnamecat \">\n",
       "<a target=\"_blank\" href=\"https://github.com/annotation/mondriaan/blob/main/tf/docs/transcription.md\" title=\"~/text-fabric-data/github/annotation/mondriaan/tf/0.8.1/rend_above.tf\">rend_above</a>\n",
       "</div>\n",
       "<div class=\"fmono\">int</div>\n",
       "\n",
       "<span> whether text is to be rendered as above</span>\n",
       "\n",
       "</div>\n",
       "\n",
       "<div class=\"frow\">\n",
       "    <div class=\"fnamecat \">\n",
       "<a target=\"_blank\" href=\"https://github.com/annotation/mondriaan/blob/main/tf/docs/transcription.md\" title=\"~/text-fabric-data/github/annotation/mondriaan/tf/0.8.1/rend_below.tf\">rend_below</a>\n",
       "</div>\n",
       "<div class=\"fmono\">int</div>\n",
       "\n",
       "<span> whether text is to be rendered as below</span>\n",
       "\n",
       "</div>\n",
       "\n",
       "<div class=\"frow\">\n",
       "    <div class=\"fnamecat \">\n",
       "<a target=\"_blank\" href=\"https://github.com/annotation/mondriaan/blob/main/tf/docs/transcription.md\" title=\"~/text-fabric-data/github/annotation/mondriaan/tf/0.8.1/rend_blockletter.tf\">rend_blockletter</a>\n",
       "</div>\n",
       "<div class=\"fmono\">int</div>\n",
       "\n",
       "<span> whether text is to be rendered as blockletter</span>\n",
       "\n",
       "</div>\n",
       "\n",
       "<div class=\"frow\">\n",
       "    <div class=\"fnamecat \">\n",
       "<a target=\"_blank\" href=\"https://github.com/annotation/mondriaan/blob/main/tf/docs/transcription.md\" title=\"~/text-fabric-data/github/annotation/mondriaan/tf/0.8.1/rend_center.tf\">rend_center</a>\n",
       "</div>\n",
       "<div class=\"fmono\">int</div>\n",
       "\n",
       "<span> whether text is to be rendered as center</span>\n",
       "\n",
       "</div>\n",
       "\n",
       "<div class=\"frow\">\n",
       "    <div class=\"fnamecat \">\n",
       "<a target=\"_blank\" href=\"https://github.com/annotation/mondriaan/blob/main/tf/docs/transcription.md\" title=\"~/text-fabric-data/github/annotation/mondriaan/tf/0.8.1/rend_inline.tf\">rend_inline</a>\n",
       "</div>\n",
       "<div class=\"fmono\">int</div>\n",
       "\n",
       "<span> whether text is to be rendered as inline</span>\n",
       "\n",
       "</div>\n",
       "\n",
       "<div class=\"frow\">\n",
       "    <div class=\"fnamecat \">\n",
       "<a target=\"_blank\" href=\"https://github.com/annotation/mondriaan/blob/main/tf/docs/transcription.md\" title=\"~/text-fabric-data/github/annotation/mondriaan/tf/0.8.1/rend_italics.tf\">rend_italics</a>\n",
       "</div>\n",
       "<div class=\"fmono\">int</div>\n",
       "\n",
       "<span> whether text is to be rendered as italics</span>\n",
       "\n",
       "</div>\n",
       "\n",
       "<div class=\"frow\">\n",
       "    <div class=\"fnamecat \">\n",
       "<a target=\"_blank\" href=\"https://github.com/annotation/mondriaan/blob/main/tf/docs/transcription.md\" title=\"~/text-fabric-data/github/annotation/mondriaan/tf/0.8.1/rend_overwritten.tf\">rend_overwritten</a>\n",
       "</div>\n",
       "<div class=\"fmono\">int</div>\n",
       "\n",
       "<span> whether text is to be rendered as overwritten</span>\n",
       "\n",
       "</div>\n",
       "\n",
       "<div class=\"frow\">\n",
       "    <div class=\"fnamecat \">\n",
       "<a target=\"_blank\" href=\"https://github.com/annotation/mondriaan/blob/main/tf/docs/transcription.md\" title=\"~/text-fabric-data/github/annotation/mondriaan/tf/0.8.1/rend_right.tf\">rend_right</a>\n",
       "</div>\n",
       "<div class=\"fmono\">int</div>\n",
       "\n",
       "<span> whether text is to be rendered as right</span>\n",
       "\n",
       "</div>\n",
       "\n",
       "<div class=\"frow\">\n",
       "    <div class=\"fnamecat \">\n",
       "<a target=\"_blank\" href=\"https://github.com/annotation/mondriaan/blob/main/tf/docs/transcription.md\" title=\"~/text-fabric-data/github/annotation/mondriaan/tf/0.8.1/rend_right_underline.tf\">rend_right_underline</a>\n",
       "</div>\n",
       "<div class=\"fmono\">int</div>\n",
       "\n",
       "<span> whether text is to be rendered as right_underline</span>\n",
       "\n",
       "</div>\n",
       "\n",
       "<div class=\"frow\">\n",
       "    <div class=\"fnamecat \">\n",
       "<a target=\"_blank\" href=\"https://github.com/annotation/mondriaan/blob/main/tf/docs/transcription.md\" title=\"~/text-fabric-data/github/annotation/mondriaan/tf/0.8.1/rend_spaced.tf\">rend_spaced</a>\n",
       "</div>\n",
       "<div class=\"fmono\">int</div>\n",
       "\n",
       "<span> whether text is to be rendered as spaced</span>\n",
       "\n",
       "</div>\n",
       "\n",
       "<div class=\"frow\">\n",
       "    <div class=\"fnamecat \">\n",
       "<a target=\"_blank\" href=\"https://github.com/annotation/mondriaan/blob/main/tf/docs/transcription.md\" title=\"~/text-fabric-data/github/annotation/mondriaan/tf/0.8.1/rend_super.tf\">rend_super</a>\n",
       "</div>\n",
       "<div class=\"fmono\">int</div>\n",
       "\n",
       "<span> whether text is to be rendered as super</span>\n",
       "\n",
       "</div>\n",
       "\n",
       "<div class=\"frow\">\n",
       "    <div class=\"fnamecat \">\n",
       "<a target=\"_blank\" href=\"https://github.com/annotation/mondriaan/blob/main/tf/docs/transcription.md\" title=\"~/text-fabric-data/github/annotation/mondriaan/tf/0.8.1/rend_super_underline.tf\">rend_super_underline</a>\n",
       "</div>\n",
       "<div class=\"fmono\">int</div>\n",
       "\n",
       "<span> whether text is to be rendered as super_underline</span>\n",
       "\n",
       "</div>\n",
       "\n",
       "<div class=\"frow\">\n",
       "    <div class=\"fnamecat \">\n",
       "<a target=\"_blank\" href=\"https://github.com/annotation/mondriaan/blob/main/tf/docs/transcription.md\" title=\"~/text-fabric-data/github/annotation/mondriaan/tf/0.8.1/rend_super_underline2.tf\">rend_super_underline2</a>\n",
       "</div>\n",
       "<div class=\"fmono\">int</div>\n",
       "\n",
       "<span> whether text is to be rendered as super_underline2</span>\n",
       "\n",
       "</div>\n",
       "\n",
       "<div class=\"frow\">\n",
       "    <div class=\"fnamecat \">\n",
       "<a target=\"_blank\" href=\"https://github.com/annotation/mondriaan/blob/main/tf/docs/transcription.md\" title=\"~/text-fabric-data/github/annotation/mondriaan/tf/0.8.1/rend_underline.tf\">rend_underline</a>\n",
       "</div>\n",
       "<div class=\"fmono\">int</div>\n",
       "\n",
       "<span> whether text is to be rendered as underline</span>\n",
       "\n",
       "</div>\n",
       "\n",
       "<div class=\"frow\">\n",
       "    <div class=\"fnamecat \">\n",
       "<a target=\"_blank\" href=\"https://github.com/annotation/mondriaan/blob/main/tf/docs/transcription.md\" title=\"~/text-fabric-data/github/annotation/mondriaan/tf/0.8.1/rend_underline2.tf\">rend_underline2</a>\n",
       "</div>\n",
       "<div class=\"fmono\">int</div>\n",
       "\n",
       "<span> whether text is to be rendered as underline2</span>\n",
       "\n",
       "</div>\n",
       "\n",
       "<div class=\"frow\">\n",
       "    <div class=\"fnamecat \">\n",
       "<a target=\"_blank\" href=\"https://github.com/annotation/mondriaan/blob/main/tf/docs/transcription.md\" title=\"~/text-fabric-data/github/annotation/mondriaan/tf/0.8.1/rend_upsidedown.tf\">rend_upsidedown</a>\n",
       "</div>\n",
       "<div class=\"fmono\">int</div>\n",
       "\n",
       "<span> whether text is to be rendered as upsidedown</span>\n",
       "\n",
       "</div>\n",
       "\n",
       "<div class=\"frow\">\n",
       "    <div class=\"fnamecat \">\n",
       "<a target=\"_blank\" href=\"https://github.com/annotation/mondriaan/blob/main/tf/docs/transcription.md\" title=\"~/text-fabric-data/github/annotation/mondriaan/tf/0.8.1/str.tf\">str</a>\n",
       "</div>\n",
       "<div class=\"fmono\">str</div>\n",
       "\n",
       "<span> the text of a word</span>\n",
       "\n",
       "</div>\n",
       "\n",
       "<div class=\"frow\">\n",
       "    <div class=\"fnamecat \">\n",
       "<a target=\"_blank\" href=\"https://github.com/annotation/mondriaan/blob/main/tf/docs/transcription.md\" title=\"~/text-fabric-data/github/annotation/mondriaan/tf/0.8.1/target.tf\">target</a>\n",
       "</div>\n",
       "<div class=\"fmono\">str</div>\n",
       "\n",
       "<span> this is TEI attribute target</span>\n",
       "\n",
       "</div>\n",
       "\n",
       "<div class=\"frow\">\n",
       "    <div class=\"fnamecat \">\n",
       "<a target=\"_blank\" href=\"https://github.com/annotation/mondriaan/blob/main/tf/docs/transcription.md\" title=\"~/text-fabric-data/github/annotation/mondriaan/tf/0.8.1/type.tf\">type</a>\n",
       "</div>\n",
       "<div class=\"fmono\">str</div>\n",
       "\n",
       "<span> this is TEI attribute type</span>\n",
       "\n",
       "</div>\n",
       "\n",
       "<div class=\"frow\">\n",
       "    <div class=\"fnamecat \">\n",
       "<a target=\"_blank\" href=\"https://github.com/annotation/mondriaan/blob/main/tf/docs/transcription.md\" title=\"~/text-fabric-data/github/annotation/mondriaan/tf/0.8.1/unit.tf\">unit</a>\n",
       "</div>\n",
       "<div class=\"fmono\">str</div>\n",
       "\n",
       "<span> this is TEI attribute unit</span>\n",
       "\n",
       "</div>\n",
       "\n",
       "<div class=\"frow\">\n",
       "    <div class=\"fnamecat \">\n",
       "<a target=\"_blank\" href=\"https://github.com/annotation/mondriaan/blob/main/tf/docs/transcription.md\" title=\"~/text-fabric-data/github/annotation/mondriaan/tf/0.8.1/url.tf\">url</a>\n",
       "</div>\n",
       "<div class=\"fmono\">str</div>\n",
       "\n",
       "<span> this is TEI attribute url</span>\n",
       "\n",
       "</div>\n",
       "\n",
       "<div class=\"frow\">\n",
       "    <div class=\"fnamecat \">\n",
       "<a target=\"_blank\" href=\"https://github.com/annotation/mondriaan/blob/main/tf/docs/transcription.md\" title=\"~/text-fabric-data/github/annotation/mondriaan/tf/0.8.1/when.tf\">when</a>\n",
       "</div>\n",
       "<div class=\"fmono\">str</div>\n",
       "\n",
       "<span> this is TEI attribute when</span>\n",
       "\n",
       "</div>\n",
       "\n",
       "<div class=\"frow\">\n",
       "    <div class=\"fnamecat \">\n",
       "<a target=\"_blank\" href=\"https://github.com/annotation/mondriaan/blob/main/tf/docs/transcription.md\" title=\"~/text-fabric-data/github/annotation/mondriaan/tf/0.8.1/who.tf\">who</a>\n",
       "</div>\n",
       "<div class=\"fmono\">str</div>\n",
       "\n",
       "<span> this is TEI attribute who</span>\n",
       "\n",
       "</div>\n",
       "\n",
       "<div class=\"frow\">\n",
       "    <div class=\"fnamecat edge\">\n",
       "<a target=\"_blank\" href=\"https://github.com/annotation/mondriaan/blob/main/tf/docs/transcription.md\" title=\"~/text-fabric-data/github/annotation/mondriaan/tf/0.8.1/oslots.tf\">oslots</a>\n",
       "</div>\n",
       "<div class=\"fmono\">none</div>\n",
       "\n",
       "<span> </span>\n",
       "\n",
       "</div>\n",
       "\n",
       "    </div>\n",
       "</details>\n",
       "\n"
      ],
      "text/plain": [
       "<IPython.core.display.HTML object>"
      ]
     },
     "metadata": {},
     "output_type": "display_data"
    },
    {
     "data": {
      "text/html": [
       "<style>tr.tf.ltr, td.tf.ltr, th.tf.ltr { text-align: left ! important;}\n",
       "tr.tf.rtl, td.tf.rtl, th.tf.rtl { text-align: right ! important;}\n",
       "@font-face {\n",
       "  font-family: \"Gentium Plus\";\n",
       "  src: local('Gentium Plus'), local('GentiumPlus'),\n",
       "    url('/server/static/fonts/GentiumPlus-R.woff') format('woff'),\n",
       "    url('https://github.com/annotation/text-fabric/blob/master/tf/server/static/fonts/GentiumPlus-R.woff?raw=true') format('woff');\n",
       "}\n",
       "\n",
       "@font-face {\n",
       "  font-family: \"Ezra SIL\";\n",
       "  src: local('Ezra SIL'), local('EzraSIL'),\n",
       "    url('/server/static/fonts/SILEOT.woff') format('woff'),\n",
       "    url('https://github.com/annotation/text-fabric/blob/master/tf/server/static/fonts/SILEOT.woff?raw=true') format('woff');\n",
       "}\n",
       "\n",
       "@font-face {\n",
       "  font-family: \"SBL Hebrew\";\n",
       "  src: local('SBL Hebrew'), local('SBLHebrew'),\n",
       "    url('/server/static/fonts/SBL_Hbrw.woff') format('woff'),\n",
       "    url('https://github.com/annotation/text-fabric/blob/master/tf/server/static/fonts/SBL_Hbrw.woff?raw=true') format('woff');\n",
       "}\n",
       "\n",
       "@font-face {\n",
       "  font-family: \"Estrangelo Edessa\";\n",
       "  src: local('Estrangelo Edessa'), local('EstrangeloEdessa');\n",
       "    url('/server/static/fonts/SyrCOMEdessa.woff') format('woff'),\n",
       "    url('https://github.com/annotation/text-fabric/blob/master/tf/server/static/fonts/SyrCOMEdessa.woff?raw=true') format('woff');\n",
       "}\n",
       "\n",
       "@font-face {\n",
       "  font-family: AmiriQuran;\n",
       "  font-style: normal;\n",
       "  font-weight: 400;\n",
       "  src: local('Amiri Quran'), local('AmiriQuran'),\n",
       "    url('/server/static/fonts/AmiriQuran.woff') format('woff'),\n",
       "    url('https://github.com/annotation/text-fabric/blob/master/tf/server/static/fonts/AmiriQuran.woff?raw=true') format('woff');\n",
       "}\n",
       "\n",
       "@font-face {\n",
       "  font-family: AmiriQuranColored;\n",
       "  font-style: normal;\n",
       "  font-weight: 400;\n",
       "  src: local('Amiri Quran Colored'), local('AmiriQuranColored'),\n",
       "    url('/server/static/fonts/AmiriQuranColored.woff') format('woff'),\n",
       "    url('https://github.com/annotation/text-fabric/blob/master/tf/server/static/fonts/AmiriQuranColored.woff?raw=true') format('woff');\n",
       "}\n",
       "\n",
       "@font-face {\n",
       "  font-family: \"Santakku\";\n",
       "  src: local('Santakku'),\n",
       "    url('/server/static/fonts/Santakku.woff') format('woff'),\n",
       "    url('https://github.com/annotation/text-fabric/blob/master/tf/server/static/fonts/Santakku.woff?raw=true') format('woff');\n",
       "}\n",
       "\n",
       "@font-face {\n",
       "  font-family: \"SantakkuM\";\n",
       "  src: local('SantakkuM'),\n",
       "    url('/server/static/fonts/SantakkuM.woff') format('woff'),\n",
       "    url('https://github.com/annotation/text-fabric/blob/master/tf/server/static/fonts/SantakkuM.woff?raw=true') format('woff');\n",
       "}\n",
       "/* bypassing some classical notebook settings */\n",
       "div#notebook {\n",
       "  line-height: unset;\n",
       "}\n",
       "/* neutral text */\n",
       ".txtn,.txtn a:visited,.txtn a:link {\n",
       "    font-family: sans-serif;\n",
       "    font-size: medium;\n",
       "    direction: ltr;\n",
       "    unicode-bidi: embed;\n",
       "    text-decoration: none;\n",
       "    color: var(--text-color);\n",
       "}\n",
       "/* transcription text */\n",
       ".txtt,.txtt a:visited,.txtt a:link {\n",
       "    font-family: monospace;\n",
       "    font-size: medium;\n",
       "    direction: ltr;\n",
       "    unicode-bidi: embed;\n",
       "    text-decoration: none;\n",
       "    color: var(--text-color);\n",
       "}\n",
       "/* source text */\n",
       ".txto,.txto a:visited,.txto a:link {\n",
       "    font-family: serif;\n",
       "    font-size: medium;\n",
       "    direction: ltr;\n",
       "    unicode-bidi: embed;\n",
       "    text-decoration: none;\n",
       "    color: var(--text-color);\n",
       "}\n",
       "/* phonetic text */\n",
       ".txtp,.txtp a:visited,.txtp a:link {\n",
       "    font-family: Gentium, sans-serif;\n",
       "    font-size: medium;\n",
       "    direction: ltr;\n",
       "    unicode-bidi: embed;\n",
       "    text-decoration: none;\n",
       "    color: var(--text-color);\n",
       "}\n",
       "/* original script text */\n",
       ".txtu,.txtu a:visited,.txtu a:link {\n",
       "    font-family: Gentium, sans-serif;\n",
       "    font-size: medium;\n",
       "    text-decoration: none;\n",
       "    color: var(--text-color);\n",
       "}\n",
       "/* hebrew */\n",
       ".txtu.hbo,.lex.hbo {\n",
       "    font-family: \"Ezra SIL\", \"SBL Hebrew\", sans-serif;\n",
       "    font-size: large;\n",
       "    direction: rtl ! important;\n",
       "    unicode-bidi: embed;\n",
       "}\n",
       "/* syriac */\n",
       ".txtu.syc,.lex.syc {\n",
       "    font-family: \"Estrangelo Edessa\", sans-serif;\n",
       "    font-size: medium;\n",
       "    direction: rtl ! important;\n",
       "    unicode-bidi: embed;\n",
       "}\n",
       "/* neo aramaic */\n",
       ".txtu.cld,.lex.cld {\n",
       "    font-family: \"CharisSIL-R\", sans-serif;\n",
       "    font-size: medium;\n",
       "    direction: ltr ! important;\n",
       "    unicode-bidi: embed;\n",
       "}\n",
       "/* standard arabic */\n",
       ".txtu.ara,.lex.ara {\n",
       "    font-family: \"AmiriQuran\", sans-serif;\n",
       "    font-size: large;\n",
       "    direction: rtl ! important;\n",
       "    unicode-bidi: embed;\n",
       "}\n",
       "/* cuneiform */\n",
       ".txtu.akk,.lex.akk {\n",
       "    font-family: Santakku, sans-serif;\n",
       "    font-size: large;\n",
       "    direction: ltr ! important;\n",
       "    unicode-bidi: embed;\n",
       "}\n",
       "/* greek */\n",
       ".txtu.grc,.lex.grc a:link {\n",
       "    font-family: Gentium, sans-serif;\n",
       "    font-size: medium;\n",
       "    direction: ltr ! important;\n",
       "    unicode-bidi: embed;\n",
       "}\n",
       "a:hover {\n",
       "    text-decoration: underline | important;\n",
       "    color: #0000ff | important;\n",
       "}\n",
       ".ltr {\n",
       "    direction: ltr ! important;\n",
       "    unicode-bidi: embed;\n",
       "}\n",
       ".rtl {\n",
       "    direction: rtl ! important;\n",
       "    unicode-bidi: embed;\n",
       "}\n",
       ".ubd {\n",
       "    unicode-bidi: embed;\n",
       "}\n",
       ".col {\n",
       "   display: inline-block;\n",
       "}\n",
       ".features {\n",
       "    font-family: monospace;\n",
       "    font-size: medium;\n",
       "    font-weight: bold;\n",
       "    color: var(--features);\n",
       "    display: flex;\n",
       "    flex-flow: column nowrap;\n",
       "    justify-content: flex-start;\n",
       "    align-items: flex-start;\n",
       "    align-content: flex-start;\n",
       "    padding: 2px;\n",
       "    margin: 2px;\n",
       "    direction: ltr;\n",
       "    unicode-bidi: embed;\n",
       "    border: var(--meta-width) solid var(--meta-color);\n",
       "    border-radius: var(--meta-width);\n",
       "}\n",
       ".features div,.features span {\n",
       "    padding: 0;\n",
       "    margin: -2px 0;\n",
       "}\n",
       ".features .f {\n",
       "    font-family: sans-serif;\n",
       "    font-size: small;\n",
       "    font-weight: normal;\n",
       "    color: #5555bb;\n",
       "}\n",
       ".features .xft {\n",
       "  color: #000000;\n",
       "  background-color: #eeeeee;\n",
       "  font-size: medium;\n",
       "  margin: 2px 0px;\n",
       "}\n",
       ".features .xft .f {\n",
       "  color: #000000;\n",
       "  background-color: #eeeeee;\n",
       "  font-size: small;\n",
       "  font-weight: normal;\n",
       "}\n",
       ".tfsechead {\n",
       "    font-family: sans-serif;\n",
       "    font-size: small;\n",
       "    font-weight: bold;\n",
       "    color: var(--tfsechead);\n",
       "    unicode-bidi: embed;\n",
       "    text-align: start;\n",
       "}\n",
       ".structure {\n",
       "    font-family: sans-serif;\n",
       "    font-size: small;\n",
       "    font-weight: bold;\n",
       "    color: var(--structure);\n",
       "    unicode-bidi: embed;\n",
       "    text-align: start;\n",
       "}\n",
       ".comments {\n",
       "    display: flex;\n",
       "    justify-content: flex-start;\n",
       "    align-items: flex-start;\n",
       "    align-content: flex-start;\n",
       "    flex-flow: column nowrap;\n",
       "}\n",
       ".nd, a:link.nd {\n",
       "    font-family: sans-serif;\n",
       "    font-size: small;\n",
       "    color: var(--node);\n",
       "    vertical-align: super;\n",
       "    direction: ltr ! important;\n",
       "    unicode-bidi: embed;\n",
       "}\n",
       ".lex {\n",
       "  color: var(--lex-color);;\n",
       "}\n",
       ".children,.children.ltr {\n",
       "    display: flex;\n",
       "    border: 0;\n",
       "    background-color: #ffffff;\n",
       "    justify-content: flex-start;\n",
       "    align-items: flex-start;\n",
       "    align-content: flex-start;\n",
       "}\n",
       ".children.stretch {\n",
       "    align-items: stretch;\n",
       "}\n",
       ".children.hor {\n",
       "    flex-flow: row nowrap;\n",
       "}\n",
       ".children.hor.wrap {\n",
       "    flex-flow: row wrap;\n",
       "}\n",
       ".children.ver {\n",
       "    flex-flow: column nowrap;\n",
       "}\n",
       ".children.ver.wrap {\n",
       "    flex-flow: column wrap;\n",
       "}\n",
       ".contnr {\n",
       "    width: fit-content;\n",
       "    display: flex;\n",
       "    justify-content: flex-start;\n",
       "    align-items: flex-start;\n",
       "    align-content: flex-start;\n",
       "    flex-flow: column nowrap;\n",
       "    background: #ffffff none repeat scroll 0 0;\n",
       "    padding:  10px 2px 2px 2px;\n",
       "    margin: 16px 2px 2px 2px;\n",
       "    border-style: solid;\n",
       "    font-size: small;\n",
       "}\n",
       ".contnr.trm {\n",
       "    background-attachment: local;\n",
       "}\n",
       ".contnr.cnul {\n",
       "    padding:  0;\n",
       "    margin: 0;\n",
       "    border-style: solid;\n",
       "    font-size: xx-small;\n",
       "}\n",
       ".contnr.cnul,.lbl.cnul {\n",
       "    border-color: var(--border-color-nul);\n",
       "    border-width: var(--border-width-nul);\n",
       "    border-radius: var(--border-width-nul);\n",
       "}\n",
       ".contnr.c0,.lbl.c0 {\n",
       "    border-color: var(--border-color0);\n",
       "    border-width: var(--border-width0);\n",
       "    border-radius: var(--border-width0);\n",
       "}\n",
       ".contnr.c1,.lbl.c1 {\n",
       "    border-color: var(--border-color1);\n",
       "    border-width: var(--border-width1);\n",
       "    border-radius: var(--border-width1);\n",
       "}\n",
       ".contnr.c2,.lbl.c2 {\n",
       "    border-color: var(--border-color2);\n",
       "    border-width: var(--border-width2);\n",
       "    border-radius: var(--border-width2);\n",
       "}\n",
       ".contnr.c3,.lbl.c3 {\n",
       "    border-color: var(--border-color3);\n",
       "    border-width: var(--border-width3);\n",
       "    border-radius: var(--border-width3);\n",
       "}\n",
       ".contnr.c4,.lbl.c4 {\n",
       "    border-color: var(--border-color4);\n",
       "    border-width: var(--border-width4);\n",
       "    border-radius: var(--border-width4);\n",
       "}\n",
       "span.plain {\n",
       "    /*display: inline-block;*/\n",
       "    display: inline-flex;\n",
       "    flex-flow: row wrap;\n",
       "    white-space: pre-wrap;\n",
       "}\n",
       "span.break {\n",
       "  flex-basis: 100%;\n",
       "  height: 0;\n",
       "}\n",
       ".plain {\n",
       "    background-color: #ffffff;\n",
       "}\n",
       ".plain.l,.contnr.l,.contnr.l>.lbl {\n",
       "    border-left-style: dotted\n",
       "}\n",
       ".plain.r,.contnr.r,.contnr.r>.lbl {\n",
       "    border-right-style: dotted\n",
       "}\n",
       ".plain.lno,.contnr.lno,.contnr.lno>.lbl {\n",
       "    border-left-style: none\n",
       "}\n",
       ".plain.rno,.contnr.rno,.contnr.rno>.lbl {\n",
       "    border-right-style: none\n",
       "}\n",
       ".plain.l {\n",
       "    padding-left: 4px;\n",
       "    margin-left: 2px;\n",
       "    border-width: var(--border-width-plain);\n",
       "}\n",
       ".plain.r {\n",
       "    padding-right: 4px;\n",
       "    margin-right: 2px;\n",
       "    border-width: var(--border-width-plain);\n",
       "}\n",
       ".lbl {\n",
       "    font-family: monospace;\n",
       "    margin-top: -24px;\n",
       "    margin-left: 20px;\n",
       "    background: #ffffff none repeat scroll 0 0;\n",
       "    padding: 0 6px;\n",
       "    border-style: solid;\n",
       "    display: block;\n",
       "    color: var(--label)\n",
       "}\n",
       ".lbl.trm {\n",
       "    background-attachment: local;\n",
       "    margin-top: 2px;\n",
       "    margin-left: 2px;\n",
       "    padding: 2px 2px;\n",
       "    border-style: none;\n",
       "}\n",
       ".lbl.cnul {\n",
       "    font-size: xx-small;\n",
       "}\n",
       ".lbl.c0 {\n",
       "    font-size: small;\n",
       "}\n",
       ".lbl.c1 {\n",
       "    font-size: small;\n",
       "}\n",
       ".lbl.c2 {\n",
       "    font-size: medium;\n",
       "}\n",
       ".lbl.c3 {\n",
       "    font-size: medium;\n",
       "}\n",
       ".lbl.c4 {\n",
       "    font-size: large;\n",
       "}\n",
       ".occs, a:link.occs {\n",
       "    font-size: small;\n",
       "}\n",
       "\n",
       "/* PROVENANCE */\n",
       "\n",
       "div.prov {\n",
       "\tmargin: 40px;\n",
       "\tpadding: 20px;\n",
       "\tborder: 2px solid var(--fog-rim);\n",
       "}\n",
       "div.pline {\n",
       "\tdisplay: flex;\n",
       "\tflex-flow: row nowrap;\n",
       "\tjustify-content: stretch;\n",
       "\talign-items: baseline;\n",
       "}\n",
       "div.p2line {\n",
       "\tmargin-left: 2em;\n",
       "\tdisplay: flex;\n",
       "\tflex-flow: row nowrap;\n",
       "\tjustify-content: stretch;\n",
       "\talign-items: baseline;\n",
       "}\n",
       "div.psline {\n",
       "\tdisplay: flex;\n",
       "\tflex-flow: row nowrap;\n",
       "\tjustify-content: stretch;\n",
       "\talign-items: baseline;\n",
       "\tbackground-color: var(--gold-mist-back);\n",
       "}\n",
       "div.pname {\n",
       "\tflex: 0 0 5rem;\n",
       "\tfont-weight: bold;\n",
       "}\n",
       "div.pval {\n",
       "    flex: 1 1 auto;\n",
       "}\n",
       "\n",
       "/* KEYBOARD */\n",
       ".ccoff {\n",
       "  background-color: inherit;\n",
       "}\n",
       ".ccon {\n",
       "  background-color: yellow ! important;\n",
       "}\n",
       ".ccon,.ccoff {\n",
       "  padding: 0.2rem;\n",
       "  margin: 0.2rem;\n",
       "  border: 0.1rem solid var(--letter-box-border);\n",
       "  border-radius: 0.1rem;\n",
       "}\n",
       ".ccline {\n",
       "  font-size: xx-large ! important;\n",
       "  font-weight: bold;\n",
       "  line-height: 2em ! important;\n",
       "}\n",
       "/* TF header */\n",
       "\n",
       "summary {\n",
       "  /* needed to override the normalize.less\n",
       "   * in the classical jupyter notebook\n",
       "   */\n",
       "  display: list-item ! important;\n",
       "}\n",
       "\n",
       ".fcorpus {\n",
       "  display: flex;\n",
       "  flex-flow: column nowrap;\n",
       "  justify-content: flex-start;\n",
       "  align-items: flex-start;\n",
       "  align-content: flex-start;\n",
       "}\n",
       ".frow {\n",
       "  display: flex;\n",
       "  flex-flow: row nowrap;\n",
       "  justify-content: flex-start;\n",
       "  align-items: flex-start;\n",
       "  align-content: flex-start;\n",
       "}\n",
       ".fmeta {\n",
       "  display: flex;\n",
       "  flex-flow: column nowrap;\n",
       "  justify-content: flex-start;\n",
       "  align-items: flex-start;\n",
       "  align-content: flex-start;\n",
       "}\n",
       ".fmetarow {\n",
       "  display: flex;\n",
       "  flex-flow: row nowrap;\n",
       "  justify-content: flex-start;\n",
       "  align-items: flex-start;\n",
       "  align-content: flex-start;\n",
       "}\n",
       ".fmetakey {\n",
       "  min-width: 8em;\n",
       "  font-family: monospace;\n",
       "}\n",
       ".fnamecat {\n",
       "  min-width: 8em;\n",
       "}\n",
       ".fnamecat.edge {\n",
       "  font-weight: bold;\n",
       "  font-style: italic;\n",
       "}\n",
       ".fmono {\n",
       "    font-family: monospace;\n",
       "}\n",
       "\n",
       ":root {\n",
       "\t--node:               hsla(120, 100%,  20%, 1.0  );\n",
       "\t--label:              hsla(  0, 100%,  20%, 1.0  );\n",
       "\t--tfsechead:          hsla(  0, 100%,  25%, 1.0  );\n",
       "\t--structure:          hsla(120, 100%,  25%, 1.0  );\n",
       "\t--features:           hsla(  0,   0%,  30%, 1.0  );\n",
       "  --text-color:         hsla( 60,  80%,  10%, 1.0  );\n",
       "  --lex-color:          hsla(220,  90%,  60%, 1.0  );\n",
       "  --meta-color:         hsla(  0,   0%,  90%, 0.7  );\n",
       "  --meta-width:         3px;\n",
       "  --border-color-nul:   hsla(  0,   0%,  90%, 0.5  );\n",
       "  --border-color0:      hsla(  0,   0%,  90%, 0.9  );\n",
       "  --border-color1:      hsla(  0,   0%,  80%, 0.9  );\n",
       "  --border-color2:      hsla(  0,   0%,  70%, 0.9  );\n",
       "  --border-color3:      hsla(  0,   0%,  80%, 0.8  );\n",
       "  --border-color4:      hsla(  0,   0%,  60%, 0.9  );\n",
       "\t--letter-box-border:  hsla(  0,   0%,  80%, 0.5  );\n",
       "  --border-width-nul:   2px;\n",
       "  --border-width0:      2px;\n",
       "  --border-width1:      3px;\n",
       "  --border-width2:      4px;\n",
       "  --border-width3:      6px;\n",
       "  --border-width4:      5px;\n",
       "  --border-width-plain: 2px;\n",
       "}\n",
       ".hl {\n",
       "  background-color: var(--hl-strong);\n",
       "}\n",
       "span.hl {\n",
       "\tbackground-color: var(--hl-strong);\n",
       "\tborder-width: 0;\n",
       "\tborder-radius: 2px;\n",
       "\tborder-style: solid;\n",
       "}\n",
       "div.contnr.hl,div.lbl.hl {\n",
       "  background-color: var(--hl-strong);\n",
       "}\n",
       "div.contnr.hl {\n",
       "  border-color: var(--hl-rim) ! important;\n",
       "\tborder-width: 4px ! important;\n",
       "}\n",
       "\n",
       "span.hlbx {\n",
       "\tborder-color: var(--hl-rim);\n",
       "\tborder-width: 4px ! important;\n",
       "\tborder-style: solid;\n",
       "\tborder-radius: 6px;\n",
       "  padding: 4px;\n",
       "  margin: 4px;\n",
       "}\n",
       "\n",
       ":root {\n",
       "\t--hl-strong:        hsla( 60, 100%,  70%, 0.9  );\n",
       "\t--hl-rim:           hsla( 55,  80%,  50%, 1.0  );\n",
       "}\n",
       "\n",
       ".r_above {\n",
       "position: relative;\n",
       "top: -0.3em;\n",
       "}\n",
       "\n",
       ".r_below {\n",
       "position: relative;\n",
       "top: 0.3em;\n",
       "}\n",
       "\n",
       ".r_b,.r_bold {\n",
       "font-weight: bold;\n",
       "}\n",
       "\n",
       ".r_center {\n",
       "text-align: center;\n",
       "}\n",
       "\n",
       ".r_h1 {\n",
       "font-size: xx-large;\n",
       "font-weight: bold;\n",
       "margin-top: 3rem;\n",
       "margin-bottom: 1rem;\n",
       "}\n",
       "\n",
       ".r_h2 {\n",
       "font-size: x-large;\n",
       "font-weight: bold;\n",
       "margin-top: 2rem;\n",
       "margin-bottom: 1rem;\n",
       "}\n",
       "\n",
       ".r_h3 {\n",
       "font-size: large;\n",
       "font-weight: bold;\n",
       "margin-top: 1rem;\n",
       "margin-bottom: 0.5rem;\n",
       "}\n",
       "\n",
       ".r_h4 {\n",
       "font-size: large;\n",
       "font-style: italic;\n",
       "margin-top: 1rem;\n",
       "margin-bottom: 0.5rem;\n",
       "}\n",
       "\n",
       ".r_h5 {\n",
       "font-size: medium;\n",
       "font-weight: bold;\n",
       "font-variant: small-caps;\n",
       "margin-top: 0.5rem;\n",
       "margin-bottom: 0.25rem;\n",
       "}\n",
       "\n",
       ".r_h6 {\n",
       "font-size: medium;\n",
       "font-weight: normal;\n",
       "font-variant: small-caps;\n",
       "margin-top: 0.25rem;\n",
       "margin-bottom: 0.125rem;\n",
       "}\n",
       "\n",
       ".r_i,.r_italic,.r_italics {\n",
       "font-style: italic;\n",
       "}\n",
       "\n",
       ".r_large {\n",
       "font-size: large;\n",
       "}\n",
       "\n",
       ".r_margin {\n",
       "position: relative;\n",
       "top: -0.3em;\n",
       "font-weight: bold;\n",
       "color: #0000ee;\n",
       "}\n",
       "\n",
       ".r_sc,.r_small_caps,.r_smallcaps {\n",
       "font-variant: small-caps;\n",
       "}\n",
       "\n",
       ".r_spaced,.r_spat {\n",
       "letter-spacing: .2rem;\n",
       "}\n",
       "\n",
       ".r_sub {\n",
       "vertical-align: sub;\n",
       "font-size: small;\n",
       "}\n",
       "\n",
       ".r_sup,.r_super {\n",
       "vertical-align: super;\n",
       "font-size: small;\n",
       "}\n",
       "\n",
       ".r_ul,.r_underline {\n",
       "text-decoration: underline;\n",
       "}\n",
       "\n",
       ".r_ {\n",
       "  color: #dd22ff;\n",
       "  text-decoration: underline;\n",
       "}\n",
       ".is_meta {\n",
       "  font-family: monospace;\n",
       "  color: #008800;\n",
       "}\n",
       ".is_note {\n",
       "  font-size: small;\n",
       "  color: #dd0055;\n",
       "}\n",
       "\n",
       "/* GRAPHICS */\n",
       "\n",
       "\n",
       ".graphic_item {\n",
       "  display: inline-block;\n",
       "  padding: 0.5rem;\n",
       "}\n",
       "\n",
       ".graphic_set {\n",
       "    display: flex;\n",
       "    flex-flow: row nowrap;\n",
       "    justify-content: flex-start;\n",
       "    align-items: center;\n",
       "    align-content: flex-start;\n",
       "}\n",
       "\n",
       ".graphic_img {\n",
       "    display: block;\n",
       "    max-width: 15rem ! important;\n",
       "    max-height: 15rem ! important;\n",
       "}\n",
       ".graphic_caption {\n",
       "    display: block;\n",
       "    max-width: 15rem ! important;\n",
       "    max-height: 15rem ! important;\n",
       "}\n",
       "\n",
       "</style>"
      ],
      "text/plain": [
       "<IPython.core.display.HTML object>"
      ]
     },
     "metadata": {},
     "output_type": "display_data"
    },
    {
     "data": {
      "text/html": [
       "\n",
       "<script>\n",
       "globalThis.copyChar = (el, c) => {\n",
       "    for (const el of document.getElementsByClassName('ccon')) {\n",
       "        el.className = 'ccoff'\n",
       "    }\n",
       "    el.className = 'ccon'\n",
       "    navigator.clipboard.writeText(String.fromCharCode(c))\n",
       "}\n",
       "</script>\n"
      ],
      "text/plain": [
       "<IPython.core.display.HTML object>"
      ]
     },
     "metadata": {},
     "output_type": "display_data"
    },
    {
     "data": {
      "text/html": [
       "<div><b>Text-Fabric API:</b> names <a target=\"_blank\" href=\"https://annotation.github.io/text-fabric/tf/cheatsheet.html\" title=\"doc\">N F E L T S C TF</a> directly usable</div><hr>"
      ],
      "text/plain": [
       "<IPython.core.display.HTML object>"
      ]
     },
     "metadata": {},
     "output_type": "display_data"
    },
    {
     "data": {
      "text/html": [
       "<b title=\"local release\">data:</b> <span title=\"rv0.8.1=#g1367901fa217377c61ace488879451f260ad68f1 offline under /Users/me/text-fabric-data/github\">~/text-fabric-data/github/annotation/mondriaan/illustrations</span>"
      ],
      "text/plain": [
       "<IPython.core.display.HTML object>"
      ]
     },
     "metadata": {},
     "output_type": "display_data"
    },
    {
     "data": {
      "text/html": [
       "Found 28 artwork-ms<br>"
      ],
      "text/plain": [
       "<IPython.core.display.HTML object>"
      ]
     },
     "metadata": {},
     "output_type": "display_data"
    }
   ],
   "source": [
    "A = use(\"annotation/mondriaan\", hoist=globals())"
   ]
  },
  {
   "cell_type": "markdown",
   "id": "d0e8e576-9e8a-4183-94e0-5553d3008be3",
   "metadata": {
    "tags": []
   },
   "source": [
    "# What have we got?\n",
    "\n",
    "Let's inspect the data.\n",
    "\n",
    "The text is represented as nodes with properties. The first word is node 1, the second word is node 2, and so on.\n",
    "After the last word node we get nodes for the elements, such a p, rs, etc. We also have nodes for folders and files.\n",
    "\n",
    "All nodes can be dressed up with *features*.\n",
    "A feature is a piece of data that specifies values for nodes.\n",
    "\n",
    "For example, the feature `str` gives the text of each word node, and the feature `after` gives the text after a word but before the next word.\n",
    "\n",
    "This gives a very crude insight in the data that Text-Fabric works with. Text-Fabric is a machine\n",
    "that can weave the orginal text out of the threads given by the features.\n",
    "\n",
    "Think of the nodes as the warp, through which the features are woven as wefts.\n",
    "See also the [fabric metaphor](https://annotation.github.io/text-fabric/tf/about/datamodel.html#fabric-metaphor).\n",
    "\n",
    "But it can also weave all kinds of other things out of the data.\n",
    "\n",
    "We can get a stock overview of the ware house of nodes and features as follows:\n",
    "\n",
    "* **nodes** if you click on the trainagle before **Node types** above,\n",
    "  you'll see an inventory of node types that make up the corpus.\n",
    "  They correspond to the elements in the original TEI.\n",
    "\n",
    "* **features** if you click on the little triangle before **mondriaan - letters** above,\n",
    "  you'll see a list of features with their descriptions:\n",
    "  * you can see which features have been loaded;\n",
    "  * if you click on a feature name, you find its documentation;\n",
    "  * if you hover over a name, you see where the feature is located on your system;\n",
    "  * edge features are marked by **_bold italic_** formatting.\n",
    "  [`C.levels.data`](https://annotation.github.io/text-fabric/tf/cheatsheet.html#c-computed-data-components)"
   ]
  },
  {
   "cell_type": "markdown",
   "id": "63daf300-ebf1-485c-aca1-4eceb7997def",
   "metadata": {},
   "source": [
    "# Counting\n",
    "We count all nodes, of any type."
   ]
  },
  {
   "cell_type": "code",
   "execution_count": 6,
   "id": "ede0a9de-2e8c-47de-993d-924dd6375ec9",
   "metadata": {
    "ExecuteTime": {
     "end_time": "2018-05-18T09:17:43.894153Z",
     "start_time": "2018-05-18T09:17:43.597128Z"
    }
   },
   "outputs": [
    {
     "name": "stdout",
     "output_type": "stream",
     "text": [
      "  0.00s Counting nodes ...\n",
      "  0.00s 16318 nodes\n"
     ]
    }
   ],
   "source": [
    "A.indent(reset=True)\n",
    "A.info(\"Counting nodes ...\")\n",
    "\n",
    "i = 0\n",
    "for n in N.walk():\n",
    "    i += 1\n",
    "\n",
    "A.info(\"{} nodes\".format(i))"
   ]
  },
  {
   "cell_type": "markdown",
   "id": "8ce2aaca-184c-4917-91ec-e39b345a0529",
   "metadata": {},
   "source": [
    "# Node types\n",
    "\n",
    "What is the basic textual unit in this corpus?"
   ]
  },
  {
   "cell_type": "code",
   "execution_count": 7,
   "id": "65ffa665-67e3-4fe0-a5e1-ef210fbae2c7",
   "metadata": {
    "ExecuteTime": {
     "end_time": "2018-05-18T09:17:47.820323Z",
     "start_time": "2018-05-18T09:17:47.812328Z"
    }
   },
   "outputs": [
    {
     "data": {
      "text/plain": [
       "'token'"
      ]
     },
     "execution_count": 7,
     "metadata": {},
     "output_type": "execute_result"
    }
   ],
   "source": [
    "F.otype.slotType"
   ]
  },
  {
   "cell_type": "markdown",
   "id": "827680c2-3c27-4ac4-b0c9-0c5e08055df0",
   "metadata": {},
   "source": [
    "A quick way to list all node types:"
   ]
  },
  {
   "cell_type": "code",
   "execution_count": 8,
   "id": "b85d5e3c-140a-4522-85d6-df31ed9d408a",
   "metadata": {
    "ExecuteTime": {
     "end_time": "2018-05-18T09:17:49.922863Z",
     "start_time": "2018-05-18T09:17:49.916078Z"
    }
   },
   "outputs": [
    {
     "data": {
      "text/plain": [
       "('folder',\n",
       " 'letter',\n",
       " 'body',\n",
       " 'text',\n",
       " 'chunk',\n",
       " 'div',\n",
       " 'teiHeader',\n",
       " 'p',\n",
       " 'postscript',\n",
       " 'revisionDesc',\n",
       " 'note',\n",
       " 'fileDesc',\n",
       " 'titleStmt',\n",
       " 'msDesc',\n",
       " 'sourceDesc',\n",
       " 'msIdentifier',\n",
       " 'correspDesc',\n",
       " 'profileDesc',\n",
       " 'title',\n",
       " 'closer',\n",
       " 'sentence',\n",
       " 'address',\n",
       " 'correspAction',\n",
       " 'facsimile',\n",
       " 'date',\n",
       " 'change',\n",
       " 'salute',\n",
       " 'opener',\n",
       " 'dateline',\n",
       " 'physDesc',\n",
       " 'institution',\n",
       " 'name',\n",
       " 'choice',\n",
       " 'addrLine',\n",
       " 'decoDesc',\n",
       " 'editor',\n",
       " 'sponsor',\n",
       " 'signed',\n",
       " 'placeName',\n",
       " 'rs',\n",
       " 'idno',\n",
       " 'hi',\n",
       " 'ref',\n",
       " 'decoNote',\n",
       " 'settlement',\n",
       " 'accMat',\n",
       " 'altIdentifier',\n",
       " 'country',\n",
       " 'reg',\n",
       " 'surface',\n",
       " 'del',\n",
       " 'orig',\n",
       " 'add',\n",
       " 'c',\n",
       " 'graphic',\n",
       " 'objectDesc',\n",
       " 'pb',\n",
       " 'postmark',\n",
       " 'ptr',\n",
       " 'publicationStmt',\n",
       " 'space',\n",
       " 'unclear',\n",
       " 'token')"
      ]
     },
     "execution_count": 8,
     "metadata": {},
     "output_type": "execute_result"
    }
   ],
   "source": [
    "F.otype.all"
   ]
  },
  {
   "cell_type": "markdown",
   "id": "c8194a07-913c-4fb3-8b64-4451a2274cf1",
   "metadata": {},
   "source": [
    "# Word matters\n",
    "\n",
    "We can only work with the surface forms of words, there is no concept of lexeme in the corpus (yet).\n",
    "\n",
    "## Top 30 frequent words\n",
    "\n",
    "There is a simple function to get a frequency list of feature values.\n",
    "Here we call it for the feature `str`, which contains the text for every word in the text:"
   ]
  },
  {
   "cell_type": "code",
   "execution_count": 10,
   "id": "ad775575-3b68-4a22-850b-68fe3ceb1def",
   "metadata": {},
   "outputs": [
    {
     "name": "stdout",
     "output_type": "stream",
     "text": [
      "   782 \n",
      "\n",
      "   587 ,\n",
      "   554 .\n",
      "   225 de\n",
      "   204 in\n",
      "   202 ​\n",
      "   157 van\n",
      "   148 I\n",
      "   148 the\n",
      "   144  \n",
      "   133 '\n",
      "   131 :\n",
      "   124 en\n",
      "   112 to\n",
      "   108 (\n",
      "   105 )\n",
      "   105 is\n",
      "   103 you\n",
      "   100 Mondriaan\n",
      "    95 of\n",
      "    93 that\n",
      "    89 ik\n",
      "    80 and\n",
      "    80 dat\n",
      "    78 een\n",
      "    73 a\n",
      "    72 je\n",
      "    70 1909\n",
      "    69 voltooid\n",
      "    67 t\n",
      "    63 De\n",
      "    63 op\n",
      "    63 zijn\n",
      "    57 aan\n",
      "    57 voor\n",
      "    56 te\n",
      "    55 ;\n",
      "    55 brief\n",
      "    54 -\n",
      "    54 het\n",
      "    54 niet\n",
      "    50 *\n",
      "    49 Piet\n",
      "    46 met\n",
      "    44 Iongh\n",
      "    42 collatie\n",
      "    41 me\n",
      "    39 it\n",
      "    38 for\n",
      "    37 have\n"
     ]
    }
   ],
   "source": [
    "for (word, amount) in F.str.freqList()[0:50]:\n",
    "    print(f\"{amount:>6} {word}\")"
   ]
  },
  {
   "cell_type": "markdown",
   "id": "b29cf9ec-7ea1-486f-9578-597dcabf8e7a",
   "metadata": {},
   "source": [
    "# Words that are unique to a letter\n",
    "\n",
    "Are there words that are unique to a letter?\n",
    "And if so, which letter has the most of them?\n",
    "That letter is the most idiosyncratic letter.\n",
    "\n",
    "Task: list the letters in a table sorted by degree of idiosyncrasy, and show the\n",
    "idiosyncrasy of each letter.\n",
    "\n",
    "## Method\n",
    "\n",
    "For each word, the support base is the set of letters in which the word occurs.\n",
    "We take only distinct words into account when we count words.\n",
    "We make all words lower case.\n",
    "\n",
    "We exclude words that occur in the tei header and in notes.\n",
    "\n",
    "Let's compute the support base of all words.\n",
    "\n",
    "We also need to count how much distinct words each letter contains.\n",
    "\n",
    "And we also want to find out how many hapaxes there are, so we also make an\n",
    "index for the occurrences of each word form.\n",
    "\n",
    "Note that each file corresponds to a letter.\n",
    "Note also, after reading the feature docs, that we have features `is_meta` and `is_note` that tell us whether a word\n",
    "occurrence is in the tei header or a note."
   ]
  },
  {
   "cell_type": "code",
   "execution_count": 11,
   "id": "0dbae8c1-1bb1-4a62-b105-14b43be5b022",
   "metadata": {},
   "outputs": [
    {
     "name": "stdout",
     "output_type": "stream",
     "text": [
      "There are 1536 distinct words\n"
     ]
    }
   ],
   "source": [
    "wordOccs = collections.defaultdict(list)\n",
    "wordsByLetter = collections.defaultdict(set)\n",
    "supportBase = collections.defaultdict(set)\n",
    "\n",
    "for letter in F.otype.s(\"letter\"):\n",
    "    for w in L.d(letter, otype=\"token\"):\n",
    "        if F.is_meta.v(w) or F.is_note.v(w) or F.empty.v(w):\n",
    "            continue\n",
    "        word = F.str.v(w)\n",
    "        if not word or not word.isalpha():\n",
    "            continue\n",
    "            \n",
    "        wordOccs[word].append(w)\n",
    "        wordsByLetter[letter].add(word)\n",
    "        supportBase[word].add(letter)\n",
    "        \n",
    "print(f\"There are {len(wordOccs)} distinct words\")"
   ]
  },
  {
   "cell_type": "markdown",
   "id": "40882651-877e-4ffd-80eb-8ec29f5ed9a5",
   "metadata": {},
   "source": [
    "We can find the hapaxes as follows:"
   ]
  },
  {
   "cell_type": "code",
   "execution_count": 12,
   "id": "b95b3358-e03a-4884-87d7-c2515428bbd8",
   "metadata": {},
   "outputs": [
    {
     "name": "stdout",
     "output_type": "stream",
     "text": [
      "There are 796 hapaxes\n"
     ]
    }
   ],
   "source": [
    "hapaxes = {word for (word, occs) in wordOccs.items() if len(occs) == 1}\n",
    "\n",
    "print(f\"There are {len(hapaxes)} hapaxes\")"
   ]
  },
  {
   "cell_type": "markdown",
   "id": "995227bf-15aa-4678-995f-aa2f7fdf3b5c",
   "metadata": {},
   "source": [
    "In the same way we can find the idiosyncratic words:"
   ]
  },
  {
   "cell_type": "code",
   "execution_count": 13,
   "id": "f8335a08-36c8-439d-8e27-7c279d3b8d5b",
   "metadata": {},
   "outputs": [
    {
     "name": "stdout",
     "output_type": "stream",
     "text": [
      "There are 1039 idiosyncratic words\n"
     ]
    }
   ],
   "source": [
    "idiosyncraticWords = {word for (word, letters) in supportBase.items() if len(letters) == 1}\n",
    "\n",
    "print(f\"There are {len(idiosyncraticWords)} idiosyncratic words\")"
   ]
  },
  {
   "cell_type": "markdown",
   "id": "7f249d83-60aa-4d3e-bc39-979db26ec603",
   "metadata": {},
   "source": [
    "Now we can make a table of the letters where for each letter we list the total\n",
    "amount of distinct words, the amount of idiosyncratic words,\n",
    "and the percentage of idiosyncratic words wrt. to the total number of words."
   ]
  },
  {
   "cell_type": "code",
   "execution_count": 14,
   "id": "72efbbda-c8ec-4619-9e67-ac501bd20744",
   "metadata": {},
   "outputs": [
    {
     "data": {
      "text/plain": [
       "[('19090216y_IONG_1303', 80, 13, 16),\n",
       " ('19090407y_IONG_1739', 133, 22, 17),\n",
       " ('19090421y_IONG_1304', 157, 36, 23),\n",
       " ('19090426y_IONG_1738', 132, 33, 25),\n",
       " ('19090513y_IONG_1293', 166, 42, 25),\n",
       " ('19090624_IONG_1294', 110, 16, 15),\n",
       " ('19090807y_IONG_1296', 157, 30, 19),\n",
       " ('19090824y_KNAP_1747', 50, 10, 20),\n",
       " ('19090905y_IONG_1295', 254, 64, 25),\n",
       " ('190909XX_QUER_1654', 750, 439, 59)]"
      ]
     },
     "execution_count": 14,
     "metadata": {},
     "output_type": "execute_result"
    }
   ],
   "source": [
    "table = []\n",
    "\n",
    "for letter in F.otype.s(\"letter\"):\n",
    "    letterId = F.letter.v(letter)\n",
    "    words = wordsByLetter[letter]\n",
    "    idio = {word for word in words if word in idiosyncraticWords}\n",
    "    \n",
    "    nWords = len(words)\n",
    "    nIdio = len(idio)\n",
    "    perc = int(round(100 * nIdio / nWords))\n",
    "    \n",
    "    table.append((letterId, nWords, nIdio, perc))\n",
    "    \n",
    "table[0:10]"
   ]
  },
  {
   "cell_type": "markdown",
   "id": "cbfe510b-3f37-4ab8-b7a4-6f6cf705290a",
   "metadata": {},
   "source": [
    "We can make that prettier by rendering it in Markdown.\n",
    "And we have to sort it on the percentage column.\n",
    "And we add a grand total.\n",
    "\n",
    "We do not show the letters that have less than 20% idiosyncratic words."
   ]
  },
  {
   "cell_type": "code",
   "execution_count": 15,
   "id": "58a47257-47b6-40ac-8ea3-74b775b3d05e",
   "metadata": {},
   "outputs": [
    {
     "data": {
      "text/markdown": [
       "\n",
       "letter | #words | #idio | %perc\n",
       "--- | --- | --- | ---\n",
       "190909XX_QUER_1654 | 750 | 439 | 59\n",
       "19100131_SAAL_ARNO_0018 | 447 | 174 | 39\n",
       "19091024y_IONG_1297 | 341 | 121 | 35\n",
       "19090905y_IONG_1295 | 254 | 64 | 25\n",
       "19090513y_IONG_1293 | 166 | 42 | 25\n",
       "19090426y_IONG_1738 | 132 | 33 | 25\n",
       "19090421y_IONG_1304 | 157 | 36 | 23\n",
       "19091024_SPOO_0016 | 83 | 18 | 22\n",
       "19090824y_KNAP_1747 | 50 | 10 | 20\n",
       "**14** letters | **1536** | **1039** | **68**\n",
       "**14** letters | **2981** | **1039** | **35**\n"
      ],
      "text/plain": [
       "<IPython.core.display.Markdown object>"
      ]
     },
     "metadata": {},
     "output_type": "display_data"
    }
   ],
   "source": [
    "md = \"\"\"\n",
    "letter | #words | #idio | %perc\n",
    "--- | --- | --- | ---\n",
    "\"\"\"\n",
    "\n",
    "totalNw = 0\n",
    "\n",
    "for (letter, nw, ni, per) in sorted(table, key=lambda x: (-x[-1], -x[-2], x[1], x[0])):\n",
    "    if per >= 20:\n",
    "        md += f\"\"\"{letter} | {nw} | {ni} | {per}\\n\"\"\"\n",
    "    totalNw += nw\n",
    "    \n",
    "    \n",
    "overall = int(round(100 * len(idiosyncraticWords) / len(wordOccs)))\n",
    "overall2 = int(round(100 * len(idiosyncraticWords) / totalNw))\n",
    "md += f\"\"\"**{len(table)}** letters | **{len(wordOccs)}** | **{len(idiosyncraticWords)}** | **{overall}**\\n\"\"\"\n",
    "md += f\"\"\"**{len(table)}** letters | **{totalNw}** | **{len(idiosyncraticWords)}** | **{overall2}**\\n\"\"\"\n",
    "\n",
    "A.dm(md)"
   ]
  },
  {
   "cell_type": "markdown",
   "id": "77b1e6d6-01c6-4bfa-b938-9d5f96e3e2d8",
   "metadata": {},
   "source": [
    "It might seem strange that the overall idiosyncracy is much bigger than the idiosyncracy of the individual\n",
    "letters.\n",
    "\n",
    "This follows from the fact that if we take the amounts of distinct words per letter and take the sum of that,\n",
    "we end up with a much bigger number than the total amount of distinct words in the whole book.\n",
    "\n",
    "Because words that occur in multiple letters are counted multiple times.\n",
    "\n",
    "If we use the sum of the per-letter distinct words, the total idiosyncracy is the weighted average of the letter\n",
    "idiosyncracies."
   ]
  },
  {
   "cell_type": "markdown",
   "id": "34b20558-f784-4581-923f-7a3ecfe0a733",
   "metadata": {
    "tags": []
   },
   "source": [
    "# `<rs>` elements\n",
    "\n",
    "These elements have sometimes artworks under them, for example if they have `type=artwork-m`.\n",
    "\n",
    "But what types do we have in the corpus?"
   ]
  },
  {
   "cell_type": "code",
   "execution_count": 16,
   "id": "dfa23b8e-cd90-492b-8143-7407f058ec6a",
   "metadata": {},
   "outputs": [
    {
     "data": {
      "text/plain": [
       "(('person', 113),\n",
       " ('artwork-m', 18),\n",
       " ('exhibition', 9),\n",
       " ('artistsassoc', 7),\n",
       " ('org', 7),\n",
       " ('journal', 5),\n",
       " ('museum', 5),\n",
       " ('firm', 3),\n",
       " ('photograph', 3),\n",
       " ('article', 2))"
      ]
     },
     "execution_count": 16,
     "metadata": {},
     "output_type": "execute_result"
    }
   ],
   "source": [
    "F.type.freqList(nodeTypes={\"rs\"})"
   ]
  },
  {
   "cell_type": "markdown",
   "id": "2242b7bf-b24d-4b0d-bb8e-4479058bae95",
   "metadata": {},
   "source": [
    "That's a rather clear answer.\n",
    "\n",
    "## Photographs\n",
    "\n",
    "Now we want to see all features that photographs can have."
   ]
  },
  {
   "cell_type": "code",
   "execution_count": 17,
   "id": "81ea0246-a772-4ba5-bd13-873401bf18d1",
   "metadata": {},
   "outputs": [],
   "source": [
    "allFeatures = Fall()\n",
    "\n",
    "data = {}\n",
    "\n",
    "for rs in F.otype.s(\"rs\"):\n",
    "    data[rs] = {}\n",
    "    for feat in allFeatures:\n",
    "        if feat == \"otype\":\n",
    "            continue\n",
    "        val = Fs(feat).v(rs)\n",
    "        if val:\n",
    "            data[rs][feat] = val\n"
   ]
  },
  {
   "cell_type": "code",
   "execution_count": 18,
   "id": "04d4d5e3-c940-4bac-84e4-1173b37f9faf",
   "metadata": {},
   "outputs": [],
   "source": [
    "photoData = {\n",
    "    rs: feats for (rs, feats) in data.items() if feats.get(\"type\", None) == \"photograph\"\n",
    "}"
   ]
  },
  {
   "cell_type": "code",
   "execution_count": 19,
   "id": "9709a097-851f-4dea-b75c-101bb071cce1",
   "metadata": {},
   "outputs": [
    {
     "data": {
      "text/html": [
       "<div class=\"\"><span class=\"tfsechead \"><span class=\"ltr\"><a target=\"_blank\" href=\"https://public.annotation.org/mondriaan/proeftuin/19090421y_IONG_1304/6&amp;version=0.8.1\" title=\"Show this on the website\" sec=\"proeftuin@19090421y_IONG_1304:6\">proeftuin@19090421y_IONG_1304:6</a></span></span>  <span class=\"txtu\"><span class=\" is_note\">een </span></span><span class=\"txtu\"><span class=\" is_note\">portretfoto </span></span><span class=\"txtu\"><span class=\" is_note\">van </span></span><span class=\"txtu\"><span class=\" is_note\">Mondriaan</span></span></div>"
      ],
      "text/plain": [
       "<IPython.core.display.HTML object>"
      ]
     },
     "metadata": {},
     "output_type": "display_data"
    },
    {
     "name": "stdout",
     "output_type": "stream",
     "text": [
      "\tkey = '217669'\n",
      "\ttype = 'photograph'\n"
     ]
    },
    {
     "data": {
      "text/html": [
       "<div class=\"\"><span class=\"tfsechead \"><span class=\"ltr\"><a target=\"_blank\" href=\"https://public.annotation.org/mondriaan/proeftuin/19090905y_IONG_1295/5&amp;version=0.8.1\" title=\"Show this on the website\" sec=\"proeftuin@19090905y_IONG_1295:5\">proeftuin@19090905y_IONG_1295:5</a></span></span>  <span class=\"txtu\">photo</span><span class=\"txtu\">'s </span><span class=\"txtu\">van </span><span class=\"txtu\">een </span><span class=\"txtu\">dame </span><span class=\"txtu\">— </span><span class=\"txtu\">van </span><span class=\"txtu\">jouw </span></div>"
      ],
      "text/plain": [
       "<IPython.core.display.HTML object>"
      ]
     },
     "metadata": {},
     "output_type": "display_data"
    },
    {
     "name": "stdout",
     "output_type": "stream",
     "text": [
      "\ttype = 'photograph'\n"
     ]
    },
    {
     "data": {
      "text/html": [
       "<div class=\"\"><span class=\"tfsechead \"><span class=\"ltr\"><a target=\"_blank\" href=\"https://public.annotation.org/mondriaan/proeftuin/19090905y_IONG_1295/6&amp;version=0.8.1\" title=\"Show this on the website\" sec=\"proeftuin@19090905y_IONG_1295:6\">proeftuin@19090905y_IONG_1295:6</a></span></span>  <span class=\"txtu\">photographs </span><span class=\"txtu\">of </span><span class=\"txtu\">a </span><span class=\"txtu\">woman </span><span class=\"txtu\">— </span><span class=\"txtu\">of </span><span class=\"txtu\">you </span></div>"
      ],
      "text/plain": [
       "<IPython.core.display.HTML object>"
      ]
     },
     "metadata": {},
     "output_type": "display_data"
    },
    {
     "name": "stdout",
     "output_type": "stream",
     "text": [
      "\ttype = 'photograph'\n"
     ]
    }
   ],
   "source": [
    "for (rs, feats) in photoData.items():\n",
    "    A.plain(rs)\n",
    "    for (feat, val) in sorted(feats.items()):\n",
    "        print(f\"\\t{feat} = '{val}'\")"
   ]
  },
  {
   "cell_type": "markdown",
   "id": "ce487a68-6f9d-440d-9f9a-7c6b8818944a",
   "metadata": {},
   "source": [
    "## Artworks\n",
    "\n",
    "Now the same for artworks."
   ]
  },
  {
   "cell_type": "code",
   "execution_count": 20,
   "id": "f013bac2-4e27-4ba7-9d32-467aa995c0e5",
   "metadata": {},
   "outputs": [],
   "source": [
    "artworkData = {\n",
    "    rs: feats for (rs, feats) in data.items() if feats.get(\"type\", None) == \"artwork-m\"\n",
    "}"
   ]
  },
  {
   "cell_type": "code",
   "execution_count": 21,
   "id": "6c4da9a9-2580-4100-8574-598c47319bfa",
   "metadata": {},
   "outputs": [
    {
     "data": {
      "text/html": [
       "<div class=\"\"><span class=\"tfsechead \"><span class=\"ltr\"><a target=\"_blank\" href=\"https://public.annotation.org/mondriaan/proeftuin/19090421y_IONG_1304/5&amp;version=0.8.1\" title=\"Show this on the website\" sec=\"proeftuin@19090421y_IONG_1304:5\">proeftuin@19090421y_IONG_1304:5</a></span></span>  <span class=\"txtu\">de </span><span class=\"txtu\">schetsen </span></div>"
      ],
      "text/plain": [
       "<IPython.core.display.HTML object>"
      ]
     },
     "metadata": {},
     "output_type": "display_data"
    },
    {
     "name": "stdout",
     "output_type": "stream",
     "text": [
      "\ttype = 'artwork-m'\n"
     ]
    },
    {
     "data": {
      "text/html": [
       "<div class=\"\"><span class=\"tfsechead \"><span class=\"ltr\"><a target=\"_blank\" href=\"https://public.annotation.org/mondriaan/proeftuin/19090421y_IONG_1304/6&amp;version=0.8.1\" title=\"Show this on the website\" sec=\"proeftuin@19090421y_IONG_1304:6\">proeftuin@19090421y_IONG_1304:6</a></span></span>   <div class=\"graphic_set\"><div class=\"graphic_item\"><img src=\"illustrations/artwork-m-15163.jpg\" class=\"graphic_img\" /><span class=\"graphic_caption\">Piet Mondriaan, Leo Gestel, <i>Meisjeskop, 1910 Alkmaar, Stedelijk Museum Alkmaar, inv./cat.nr. [..]</i>. conté on papier. <a target=\"_blank\" href=\"https://rkd.nl/explore/images/277201\" title=\"visit this artwork on the RKD site\">RKD 277201►</a></span></div></div><span class=\"txtu\"><span class=\" is_note\">[</span></span><span class=\"txtu\"><span class=\" is_note\">*</span></span><span class=\"txtu\"><span class=\" is_note\">*</span></span><span class=\"txtu\"><span class=\" is_note\">Meisjeskop</span></span><span class=\"txtu\"><span class=\" is_note\">*</span></span><span class=\"txtu\"><span class=\" is_note\">*</span></span><span class=\"txtu\"><span class=\" is_note\">] </span></span><span class=\"txtu\"><span class=\" is_note\">(</span></span><span class=\"txtu\"><span class=\" is_note\">UA38</span></span><span class=\"txtu\"><span class=\" is_note\">)</span></span></div>"
      ],
      "text/plain": [
       "<IPython.core.display.HTML object>"
      ]
     },
     "metadata": {},
     "output_type": "display_data"
    },
    {
     "name": "stdout",
     "output_type": "stream",
     "text": [
      "\tkey = '277201'\n",
      "\ttype = 'artwork-m'\n"
     ]
    },
    {
     "data": {
      "text/html": [
       "<div class=\"\"><span class=\"tfsechead \"><span class=\"ltr\"><a target=\"_blank\" href=\"https://public.annotation.org/mondriaan/proeftuin/19090421y_IONG_1304/6&amp;version=0.8.1\" title=\"Show this on the website\" sec=\"proeftuin@19090421y_IONG_1304:6\">proeftuin@19090421y_IONG_1304:6</a></span></span>   <div class=\"graphic_set\"><div class=\"graphic_item\"><img src=\"illustrations/artwork-m-15164.jpg\" class=\"graphic_img\" /><span class=\"graphic_caption\">Piet Mondriaan, <i>Female nude: bust portrait, ca. 1909-1911 Private collection</i>. houtskool, zwart krijt on papier. <a target=\"_blank\" href=\"https://rkd.nl/explore/images/68554\" title=\"visit this artwork on the RKD site\">RKD 68554►</a></span></div></div><span class=\"txtu\"><span class=\" is_note\">[</span></span><span class=\"txtu\"><span class=\" is_note\">*</span></span><span class=\"txtu\"><span class=\" is_note\">*</span></span><span class=\"txtu\"><span class=\" is_note\">Female </span></span><span class=\"txtu\"><span class=\" is_note\">nude</span></span><span class=\"txtu\"><span class=\" is_note\">: </span></span><span class=\"txtu\"><span class=\" is_note\">bust </span></span><span class=\"txtu\"><span class=\" is_note\">portrait</span></span><span class=\"txtu\"><span class=\" is_note\">*</span></span><span class=\"txtu\"><span class=\" is_note\">*</span></span><span class=\"txtu\"><span class=\" is_note\">]</span></span></div>"
      ],
      "text/plain": [
       "<IPython.core.display.HTML object>"
      ]
     },
     "metadata": {},
     "output_type": "display_data"
    },
    {
     "name": "stdout",
     "output_type": "stream",
     "text": [
      "\tkey = '68554'\n",
      "\ttype = 'artwork-m'\n"
     ]
    },
    {
     "data": {
      "text/html": [
       "<div class=\"\"><span class=\"tfsechead \"><span class=\"ltr\"><a target=\"_blank\" href=\"https://public.annotation.org/mondriaan/proeftuin/19090905y_IONG_1295/6&amp;version=0.8.1\" title=\"Show this on the website\" sec=\"proeftuin@19090905y_IONG_1295:6\">proeftuin@19090905y_IONG_1295:6</a></span></span>   <div class=\"graphic_set\"><div class=\"graphic_item\"><img src=\"illustrations/artwork-m-15215.jpg\" class=\"graphic_img\" /><span class=\"graphic_caption\">Piet Mondriaan, <i>Zeeuws(ch)e boer (authentiek), 1909-begin 1910 The Hague, Kunstmuseum Den Haag, inv./cat.nr. [..]</i>. olieverf on doek. <a target=\"_blank\" href=\"https://rkd.nl/explore/images/62319\" title=\"visit this artwork on the RKD site\">RKD 62319►</a></span></div></div><span class=\"txtu\"><span class=\"r_italics is_note\">Zeeland </span></span><span class=\"txtu\"><span class=\"r_italics is_note\">farmer</span></span></div>"
      ],
      "text/plain": [
       "<IPython.core.display.HTML object>"
      ]
     },
     "metadata": {},
     "output_type": "display_data"
    },
    {
     "name": "stdout",
     "output_type": "stream",
     "text": [
      "\tkey = '62319'\n",
      "\ttype = 'artwork-m'\n"
     ]
    },
    {
     "data": {
      "text/html": [
       "<div class=\"\"><span class=\"tfsechead \"><span class=\"ltr\"><a target=\"_blank\" href=\"https://public.annotation.org/mondriaan/proeftuin/19090905y_IONG_1295/6&amp;version=0.8.1\" title=\"Show this on the website\" sec=\"proeftuin@19090905y_IONG_1295:6\">proeftuin@19090905y_IONG_1295:6</a></span></span>   <div class=\"graphic_set\"><div class=\"graphic_item\"><img src=\"illustrations/artwork-m-15216.jpg\" class=\"graphic_img\" /><span class=\"graphic_caption\">Piet Mondriaan, <i>Zeeuws(ch) meisje (authentiek), 1909-begin 1910 Christie's (London (England)) 2005-06-21, nr. 24</i>. olieverf on doek. <a target=\"_blank\" href=\"https://rkd.nl/explore/images/68733\" title=\"visit this artwork on the RKD site\">RKD 68733►</a></span></div></div><span class=\"txtu\"><span class=\"r_italics is_note\">Zeeland </span></span><span class=\"txtu\"><span class=\"r_italics is_note\">girl</span></span></div>"
      ],
      "text/plain": [
       "<IPython.core.display.HTML object>"
      ]
     },
     "metadata": {},
     "output_type": "display_data"
    },
    {
     "name": "stdout",
     "output_type": "stream",
     "text": [
      "\tkey = '68733'\n",
      "\ttype = 'artwork-m'\n"
     ]
    },
    {
     "data": {
      "text/html": [
       "<div class=\"\"><span class=\"tfsechead \"><span class=\"ltr\"><a target=\"_blank\" href=\"https://public.annotation.org/mondriaan/proeftuin/19090905y_IONG_1295/6&amp;version=0.8.1\" title=\"Show this on the website\" sec=\"proeftuin@19090905y_IONG_1295:6\">proeftuin@19090905y_IONG_1295:6</a></span></span>   <div class=\"graphic_set\"><div class=\"graphic_item\"><img src=\"illustrations/artwork-m-15222.jpg\" class=\"graphic_img\" /><span class=\"graphic_caption\">Piet Mondriaan, Leo Gestel, <i>Meisjeskop, 1910 Alkmaar, Stedelijk Museum Alkmaar, inv./cat.nr. [..]</i>. conté on papier. <a target=\"_blank\" href=\"https://rkd.nl/explore/images/277201\" title=\"visit this artwork on the RKD site\">RKD 277201►</a></span></div></div><span class=\"txtu\"><span class=\" is_note\">het </span></span><span class=\"txtu\"><span class=\" is_note\">krijtportret</span></span></div>"
      ],
      "text/plain": [
       "<IPython.core.display.HTML object>"
      ]
     },
     "metadata": {},
     "output_type": "display_data"
    },
    {
     "name": "stdout",
     "output_type": "stream",
     "text": [
      "\tkey = '277201'\n",
      "\ttype = 'artwork-m'\n"
     ]
    },
    {
     "data": {
      "text/html": [
       "<div class=\"\"><span class=\"tfsechead \"><span class=\"ltr\"><a target=\"_blank\" href=\"https://public.annotation.org/mondriaan/proeftuin/190909XX_QUER_1654/6&amp;version=0.8.1\" title=\"Show this on the website\" sec=\"proeftuin@190909XX_QUER_1654:6\">proeftuin@190909XX_QUER_1654:6</a></span></span>   <div class=\"graphic_set\"><div class=\"graphic_item\"><span class=\"graphic_caption\"><a target=\"_blank\" href=\"https://rkd.nl/explore/images/000000\" title=\"visit this artwork on the RKD site\">RKD 000000►</a></span></div></div><span class=\"txtu\"><span class=\"r_italics is_note\">Mill </span></span><span class=\"txtu\"><span class=\"r_italics is_note\">in </span></span><span class=\"txtu\"><span class=\"r_italics is_note\">sunlight</span></span><span class=\"txtu\"><span class=\"r_italics is_note\">: </span></span><span class=\"txtu\"><span class=\"r_italics is_note\">the </span></span><span class=\"txtu\"><span class=\"r_italics is_note\">Winkel </span></span><span class=\"txtu\"><span class=\"r_italics is_note\">mill</span></span></div>"
      ],
      "text/plain": [
       "<IPython.core.display.HTML object>"
      ]
     },
     "metadata": {},
     "output_type": "display_data"
    },
    {
     "name": "stdout",
     "output_type": "stream",
     "text": [
      "\tkey = '000000'\n",
      "\ttype = 'artwork-m'\n"
     ]
    },
    {
     "data": {
      "text/html": [
       "<div class=\"\"><span class=\"tfsechead \"><span class=\"ltr\"><a target=\"_blank\" href=\"https://public.annotation.org/mondriaan/proeftuin/190909XX_QUER_1654/6&amp;version=0.8.1\" title=\"Show this on the website\" sec=\"proeftuin@190909XX_QUER_1654:6\">proeftuin@190909XX_QUER_1654:6</a></span></span>   <div class=\"graphic_set\"><div class=\"graphic_item\"><span class=\"graphic_caption\"><a target=\"_blank\" href=\"https://rkd.nl/explore/images/000000\" title=\"visit this artwork on the RKD site\">RKD 000000►</a></span></div></div><span class=\"txtu\"><span class=\"r_italics is_note\">Woods</span></span></div>"
      ],
      "text/plain": [
       "<IPython.core.display.HTML object>"
      ]
     },
     "metadata": {},
     "output_type": "display_data"
    },
    {
     "name": "stdout",
     "output_type": "stream",
     "text": [
      "\tkey = '000000'\n",
      "\ttype = 'artwork-m'\n"
     ]
    },
    {
     "data": {
      "text/html": [
       "<div class=\"\"><span class=\"tfsechead \"><span class=\"ltr\"><a target=\"_blank\" href=\"https://public.annotation.org/mondriaan/proeftuin/190909XX_QUER_1654/6&amp;version=0.8.1\" title=\"Show this on the website\" sec=\"proeftuin@190909XX_QUER_1654:6\">proeftuin@190909XX_QUER_1654:6</a></span></span>   <div class=\"graphic_set\"><div class=\"graphic_item\"><span class=\"graphic_caption\"><a target=\"_blank\" href=\"https://rkd.nl/explore/images/000000\" title=\"visit this artwork on the RKD site\">RKD 000000►</a></span></div></div><span class=\"txtu\"><span class=\"r_italics is_note\">Flower</span></span></div>"
      ],
      "text/plain": [
       "<IPython.core.display.HTML object>"
      ]
     },
     "metadata": {},
     "output_type": "display_data"
    },
    {
     "name": "stdout",
     "output_type": "stream",
     "text": [
      "\tkey = '000000'\n",
      "\ttype = 'artwork-m'\n"
     ]
    },
    {
     "data": {
      "text/html": [
       "<div class=\"\"><span class=\"tfsechead \"><span class=\"ltr\"><a target=\"_blank\" href=\"https://public.annotation.org/mondriaan/proeftuin/190909XX_QUER_1654/6&amp;version=0.8.1\" title=\"Show this on the website\" sec=\"proeftuin@190909XX_QUER_1654:6\">proeftuin@190909XX_QUER_1654:6</a></span></span>  <span class=\"txtu\"><span class=\" is_note\">Devotie </span></span><span class=\"txtu\"><span class=\" is_note\">(</span></span><span class=\"txtu\"><span class=\" is_note\">A642</span></span><span class=\"txtu\"><span class=\" is_note\">)</span></span></div>"
      ],
      "text/plain": [
       "<IPython.core.display.HTML object>"
      ]
     },
     "metadata": {},
     "output_type": "display_data"
    },
    {
     "name": "stdout",
     "output_type": "stream",
     "text": [
      "\ttype = 'artwork-m'\n"
     ]
    },
    {
     "data": {
      "text/html": [
       "<div class=\"\"><span class=\"tfsechead \"><span class=\"ltr\"><a target=\"_blank\" href=\"https://public.annotation.org/mondriaan/proeftuin/19091024y_IONG_1297/5&amp;version=0.8.1\" title=\"Show this on the website\" sec=\"proeftuin@19091024y_IONG_1297:5\">proeftuin@19091024y_IONG_1297:5</a></span></span>  <span class=\"txtu\">eenige </span><span class=\"txtu\">bloemen </span></div>"
      ],
      "text/plain": [
       "<IPython.core.display.HTML object>"
      ]
     },
     "metadata": {},
     "output_type": "display_data"
    },
    {
     "name": "stdout",
     "output_type": "stream",
     "text": [
      "\ttype = 'artwork-m'\n"
     ]
    },
    {
     "data": {
      "text/html": [
       "<div class=\"\"><span class=\"tfsechead \"><span class=\"ltr\"><a target=\"_blank\" href=\"https://public.annotation.org/mondriaan/proeftuin/19091024y_IONG_1297/5&amp;version=0.8.1\" title=\"Show this on the website\" sec=\"proeftuin@19091024y_IONG_1297:5\">proeftuin@19091024y_IONG_1297:5</a></span></span>  <span class=\"txtu\">eenige </span><span class=\"txtu\">schilderijtjes </span></div>"
      ],
      "text/plain": [
       "<IPython.core.display.HTML object>"
      ]
     },
     "metadata": {},
     "output_type": "display_data"
    },
    {
     "name": "stdout",
     "output_type": "stream",
     "text": [
      "\ttype = 'artwork-m'\n"
     ]
    },
    {
     "data": {
      "text/html": [
       "<div class=\"\"><span class=\"tfsechead \"><span class=\"ltr\"><a target=\"_blank\" href=\"https://public.annotation.org/mondriaan/proeftuin/19091024y_IONG_1297/6&amp;version=0.8.1\" title=\"Show this on the website\" sec=\"proeftuin@19091024y_IONG_1297:6\">proeftuin@19091024y_IONG_1297:6</a></span></span>   <div class=\"graphic_set\"><div class=\"graphic_item\"><img src=\"illustrations/artwork-m-15284.jpg\" class=\"graphic_img\" /><span class=\"graphic_caption\">Piet Mondriaan, <i>Lelie (authentiek), eind 1909 The Hague, Kunstmuseum Den Haag, inv./cat.nr. [..]</i>. houtskool, zwart krijt, gewassen in zwart on papier. <a target=\"_blank\" href=\"https://rkd.nl/explore/images/68728\" title=\"visit this artwork on the RKD site\">RKD 68728►</a></span></div></div><span class=\"txtu\"><span class=\" is_note\">[</span></span><span class=\"txtu\"><span class=\" is_note\">*</span></span><span class=\"txtu\"><span class=\" is_note\">*</span></span><span class=\"txtu\"><span class=\" is_note\">Lily</span></span><span class=\"txtu\"><span class=\" is_note\">*</span></span><span class=\"txtu\"><span class=\" is_note\">*</span></span><span class=\"txtu\"><span class=\" is_note\">] </span></span><span class=\"txtu\"><span class=\" is_note\">(</span></span><span class=\"txtu\"><span class=\" is_note\">A619</span></span><span class=\"txtu\"><span class=\" is_note\">)</span></span></div>"
      ],
      "text/plain": [
       "<IPython.core.display.HTML object>"
      ]
     },
     "metadata": {},
     "output_type": "display_data"
    },
    {
     "name": "stdout",
     "output_type": "stream",
     "text": [
      "\tkey = '68728'\n",
      "\ttype = 'artwork-m'\n"
     ]
    },
    {
     "data": {
      "text/html": [
       "<div class=\"\"><span class=\"tfsechead \"><span class=\"ltr\"><a target=\"_blank\" href=\"https://public.annotation.org/mondriaan/proeftuin/19091024y_IONG_1297/6&amp;version=0.8.1\" title=\"Show this on the website\" sec=\"proeftuin@19091024y_IONG_1297:6\">proeftuin@19091024y_IONG_1297:6</a></span></span>  <span class=\"txtu\">a </span><span class=\"txtu\">few </span><span class=\"txtu\">flowers </span></div>"
      ],
      "text/plain": [
       "<IPython.core.display.HTML object>"
      ]
     },
     "metadata": {},
     "output_type": "display_data"
    },
    {
     "name": "stdout",
     "output_type": "stream",
     "text": [
      "\ttype = 'artwork-m'\n"
     ]
    },
    {
     "data": {
      "text/html": [
       "<div class=\"\"><span class=\"tfsechead \"><span class=\"ltr\"><a target=\"_blank\" href=\"https://public.annotation.org/mondriaan/proeftuin/19091024y_IONG_1297/6&amp;version=0.8.1\" title=\"Show this on the website\" sec=\"proeftuin@19091024y_IONG_1297:6\">proeftuin@19091024y_IONG_1297:6</a></span></span>  <span class=\"txtu\">some </span><span class=\"txtu\">small </span><span class=\"txtu\">paintings </span></div>"
      ],
      "text/plain": [
       "<IPython.core.display.HTML object>"
      ]
     },
     "metadata": {},
     "output_type": "display_data"
    },
    {
     "name": "stdout",
     "output_type": "stream",
     "text": [
      "\ttype = 'artwork-m'\n"
     ]
    },
    {
     "data": {
      "text/html": [
       "<div class=\"\"><span class=\"tfsechead \"><span class=\"ltr\"><a target=\"_blank\" href=\"https://public.annotation.org/mondriaan/proeftuin/19100131_SAAL_ARNO_0018/6&amp;version=0.8.1\" title=\"Show this on the website\" sec=\"proeftuin@19100131_SAAL_ARNO_0018:6\">proeftuin@19100131_SAAL_ARNO_0018:6</a></span></span>  <span class=\"txtu\"><span class=\"r_italics is_note\">Dying </span></span><span class=\"txtu\"><span class=\"r_italics is_note\">sunflower </span></span><span class=\"txtu\"><span class=\"r_italics is_note\">II</span></span></div>"
      ],
      "text/plain": [
       "<IPython.core.display.HTML object>"
      ]
     },
     "metadata": {},
     "output_type": "display_data"
    },
    {
     "name": "stdout",
     "output_type": "stream",
     "text": [
      "\ttype = 'artwork-m'\n"
     ]
    },
    {
     "data": {
      "text/html": [
       "<div class=\"\"><span class=\"tfsechead \"><span class=\"ltr\"><a target=\"_blank\" href=\"https://public.annotation.org/mondriaan/proeftuin/19100131_SAAL_ARNO_0018/6&amp;version=0.8.1\" title=\"Show this on the website\" sec=\"proeftuin@19100131_SAAL_ARNO_0018:6\">proeftuin@19100131_SAAL_ARNO_0018:6</a></span></span>   <div class=\"graphic_set\"><div class=\"graphic_item\"><img src=\"illustrations/artwork-m-15305.jpg\" class=\"graphic_img\" /><span class=\"graphic_caption\">Piet Mondriaan, <i>Dying sunflower II, 1908 The Hague, Kunstmuseum Den Haag, inv./cat.nr. [..]</i>. olieverf on karton. <a target=\"_blank\" href=\"https://rkd.nl/explore/images/268864\" title=\"visit this artwork on the RKD site\">RKD 268864►</a></span></div></div><span class=\"txtu\"><span class=\"r_italics is_note\">Dying </span></span><span class=\"txtu\"><span class=\"r_italics is_note\">sunflower </span></span><span class=\"txtu\"><span class=\"r_italics is_note\">II</span></span></div>"
      ],
      "text/plain": [
       "<IPython.core.display.HTML object>"
      ]
     },
     "metadata": {},
     "output_type": "display_data"
    },
    {
     "name": "stdout",
     "output_type": "stream",
     "text": [
      "\tkey = '268864'\n",
      "\ttype = 'artwork-m'\n"
     ]
    },
    {
     "data": {
      "text/html": [
       "<div class=\"\"><span class=\"tfsechead \"><span class=\"ltr\"><a target=\"_blank\" href=\"https://public.annotation.org/mondriaan/proeftuin/19100131_SAAL_ARNO_0018/6&amp;version=0.8.1\" title=\"Show this on the website\" sec=\"proeftuin@19100131_SAAL_ARNO_0018:6\">proeftuin@19100131_SAAL_ARNO_0018:6</a></span></span>   <div class=\"graphic_set\"><div class=\"graphic_item\"><img src=\"illustrations/artwork-m-15312.jpg\" class=\"graphic_img\" /><span class=\"graphic_caption\">Piet Mondriaan, <i>Dying sunflower II, 1908 The Hague, Kunstmuseum Den Haag, inv./cat.nr. [..]</i>. olieverf on karton. <a target=\"_blank\" href=\"https://rkd.nl/explore/images/268864\" title=\"visit this artwork on the RKD site\">RKD 268864►</a></span></div></div><span class=\"txtu\"><span class=\"r_italics is_note\">Dying </span></span><span class=\"txtu\"><span class=\"r_italics is_note\">sunflower </span></span><span class=\"txtu\"><span class=\"r_italics is_note\">II</span></span></div>"
      ],
      "text/plain": [
       "<IPython.core.display.HTML object>"
      ]
     },
     "metadata": {},
     "output_type": "display_data"
    },
    {
     "name": "stdout",
     "output_type": "stream",
     "text": [
      "\tkey = '268864'\n",
      "\ttype = 'artwork-m'\n"
     ]
    }
   ],
   "source": [
    "for (rs, feats) in artworkData.items():\n",
    "    A.plain(rs)\n",
    "    for (feat, val) in sorted(feats.items()):\n",
    "        print(f\"\\t{feat} = '{val}'\")"
   ]
  },
  {
   "cell_type": "markdown",
   "id": "d6022ce4-6ee9-45ef-b5db-2ed71e031c51",
   "metadata": {},
   "source": [
    "## Persons\n",
    "\n",
    "How many *different* persons are referenced by `<rs>` elements?\n",
    "\n",
    "We make a complete inventory of all `<rs type=\"person\">` elements and there attributes and values."
   ]
  },
  {
   "cell_type": "code",
   "execution_count": 22,
   "id": "b4b26cd8-3023-4b6f-b589-6b662debfb7f",
   "metadata": {},
   "outputs": [],
   "source": [
    "allFeatures = Fall()\n",
    "\n",
    "personData = {}\n",
    "\n",
    "for rs in F.otype.s(\"rs\"):\n",
    "    if F.type.v(rs) != \"person\":\n",
    "        continue\n",
    "    for feat in allFeatures:\n",
    "        val = Fs(feat).v(rs)\n",
    "        if not val:\n",
    "            continue\n",
    "        personData.setdefault(feat, {}).setdefault(val, []).append(rs)"
   ]
  },
  {
   "cell_type": "markdown",
   "id": "c0ae9518-3347-406c-9beb-e170cff164cd",
   "metadata": {},
   "source": [
    "Let's see what we've got:"
   ]
  },
  {
   "cell_type": "code",
   "execution_count": 23,
   "id": "03a203c6-bf8c-4c14-94a6-ca728de8b7f3",
   "metadata": {},
   "outputs": [
    {
     "name": "stdout",
     "output_type": "stream",
     "text": [
      "key:\n",
      "\tbesant_annie    1 x\n",
      "\tbriel_albert_van_den    1 x\n",
      "\tbuhlig_richard    4 x\n",
      "\tcalcar_reinder_van    3 x\n",
      "\tfernhout_henk    5 x\n",
      "\tiongh_aletta_de   30 x\n",
      "\tiongh_anna_de    7 x\n",
      "\tiongh_anna_maria_de    1 x\n",
      "\tiongh_daniel_de    1 x\n",
      "\tiongh_de_frederika    3 x\n",
      "\tknap_gerrit_willem    5 x\n",
      "\tmondriaan_pieter_senior    1 x\n",
      "\tphilippona_reinier    2 x\n",
      "\tphilippona_reinier philippona_mien    2 x\n",
      "\tquerido_israel    6 x\n",
      "\tsaalborn_arnold    5 x\n",
      "\tsluijters_jan    1 x\n",
      "\tsmeenk_josina    1 x\n",
      "\tspoor_kees    9 x\n",
      "\tteirlinck_herman    4 x\n",
      "\ttoorop_charley    1 x\n",
      "\twaldenburg_alfred   17 x\n",
      "\twisse_adriana    1 x\n",
      "\twisse_ko      1 x\n",
      "otype:\n",
      "\trs          113 x\n",
      "type:\n",
      "\tperson      113 x\n"
     ]
    }
   ],
   "source": [
    "for (feat, fInfo) in sorted(personData.items()):\n",
    "    print(f\"{feat}:\")\n",
    "    for (val, rsNodes) in sorted(fInfo.items()):\n",
    "        print(f\"\\t{val:<10} {len(rsNodes):>4} x\")"
   ]
  },
  {
   "cell_type": "markdown",
   "id": "13877482-903b-4e92-8c9c-ec98d1adaa69",
   "metadata": {},
   "source": [
    "So, the identifying information is in the `key` feature,\n",
    "let's see how many distinct values it has."
   ]
  },
  {
   "cell_type": "code",
   "execution_count": 24,
   "id": "bbacecbf-9720-4a76-97bd-a0cba7f1e4b0",
   "metadata": {},
   "outputs": [
    {
     "data": {
      "text/plain": [
       "24"
      ]
     },
     "execution_count": 24,
     "metadata": {},
     "output_type": "execute_result"
    }
   ],
   "source": [
    "len(personData[\"key\"])"
   ]
  },
  {
   "cell_type": "markdown",
   "id": "b7a99731-505a-4cb6-bbb6-0a79f955c940",
   "metadata": {},
   "source": [
    "Some persons have a numeric `key` attribute.\n",
    "\n",
    "At least one of them identifies the person on the RKD site:\n",
    "\n",
    "`90099` goes to [Jan Schüller](https://rkd.nl/nl/explore/artists/record?query=90099&start=0)."
   ]
  },
  {
   "cell_type": "markdown",
   "id": "dd34fe32-9857-4843-bb3e-8b1f4c1950fd",
   "metadata": {},
   "source": [
    "## Everything with a numeric `key` feature\n",
    "\n",
    "So the question arises: which elements have a key feature with numeric content?\n",
    "\n",
    "We make an inventory."
   ]
  },
  {
   "cell_type": "code",
   "execution_count": 25,
   "id": "3d225e39-26a8-4d98-874a-3a1699eac4fc",
   "metadata": {},
   "outputs": [],
   "source": [
    "keyNodes = {}\n",
    "\n",
    "for n in N.walk():\n",
    "    key = F.key.v(n)\n",
    "    if key is None or not key.isdecimal():\n",
    "        continue\n",
    "    nType = F.otype.v(n)\n",
    "    keyNodes.setdefault(nType, []).append(n)"
   ]
  },
  {
   "cell_type": "code",
   "execution_count": 26,
   "id": "7897e01e-ef2b-492b-a1c8-9d56cd79da84",
   "metadata": {},
   "outputs": [
    {
     "name": "stdout",
     "output_type": "stream",
     "text": [
      "rs           12 nodes\n"
     ]
    }
   ],
   "source": [
    "for (nType, nodes) in keyNodes.items():\n",
    "    print(f\"{nType:<10} {len(nodes):>4} nodes\")"
   ]
  },
  {
   "cell_type": "markdown",
   "id": "42f7862a-f673-4851-a4cd-0c2468e389c8",
   "metadata": {},
   "source": [
    "We refine the exploration: which `type`s have those `rs` nodes?"
   ]
  },
  {
   "cell_type": "code",
   "execution_count": 27,
   "id": "10e0195f-887c-446c-933a-12b364bd7996",
   "metadata": {},
   "outputs": [],
   "source": [
    "rsTypes = collections.Counter()\n",
    "\n",
    "for n in keyNodes[\"rs\"]:\n",
    "    typ = F.type.v(n)\n",
    "    rsTypes[typ] += 1"
   ]
  },
  {
   "cell_type": "code",
   "execution_count": 28,
   "id": "367b735b-a928-4688-916e-4f97e9653269",
   "metadata": {},
   "outputs": [
    {
     "data": {
      "text/plain": [
       "Counter({'photograph': 1, 'artwork-m': 11})"
      ]
     },
     "execution_count": 28,
     "metadata": {},
     "output_type": "execute_result"
    }
   ],
   "source": [
    "rsTypes"
   ]
  },
  {
   "cell_type": "markdown",
   "id": "09577595-dbb0-4322-a61f-1615613325d3",
   "metadata": {
    "tags": []
   },
   "source": [
    "---\n",
    "\n",
    "# Next steps\n",
    "\n",
    "By now you have an impression how to orient yourself in this corpus.\n",
    "The next steps will show you how to get powerful: searching and computing.\n",
    "\n",
    "After that it is time for collecting results, use them in new annotations and share them.\n",
    "\n",
    "* **[start](start.ipynb)** intro and highlights\n",
    "* **explore** explore the corpus by coding away in it\n",
    "* **[search](search.ipynb)** turbo charge your hand-coding with search templates\n",
    "* **[exportExcel](exportExcel.ipynb)** make tailor-made spreadsheets out of your results\n",
    "\n",
    "CC-BY Dirk Roorda"
   ]
  }
 ],
 "metadata": {
  "kernelspec": {
   "display_name": "Python 3 (ipykernel)",
   "language": "python",
   "name": "python3"
  },
  "language_info": {
   "codemirror_mode": {
    "name": "ipython",
    "version": 3
   },
   "file_extension": ".py",
   "mimetype": "text/x-python",
   "name": "python",
   "nbconvert_exporter": "python",
   "pygments_lexer": "ipython3",
   "version": "3.11.1"
  }
 },
 "nbformat": 4,
 "nbformat_minor": 5
}
