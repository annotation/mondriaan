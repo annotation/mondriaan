{
 "cells": [
  {
   "cell_type": "markdown",
   "id": "ad58f0cc-1b02-4189-91bb-1270bbd098b7",
   "metadata": {},
   "source": [
    "<img align=\"right\" src=\"images/tf.png\" width=\"200\"/>\n",
    "<img align=\"right\" src=\"images/huc.png\" width=\"200\"/>\n",
    "<img align=\"right\" src=\"images/logo.png\" width=\"200\"/>\n",
    "\n",
    "---\n",
    "\n",
    "To get started: consult [start](start.ipynb)\n",
    "\n",
    "---\n",
    "\n",
    "# Computing \"by hand\"\n",
    "\n",
    "We descend to a more concrete level, and interact with the data by means of a bit of hand-coding.\n",
    "\n",
    "Familiarity with the underlying\n",
    "[data model](https://annotation.github.io/text-fabric/tf/about/datamodel.html)\n",
    "is recommended."
   ]
  },
  {
   "cell_type": "code",
   "execution_count": 1,
   "id": "f47fda04-f32b-469c-8eb0-e8d163ba411a",
   "metadata": {
    "ExecuteTime": {
     "end_time": "2018-10-18T10:40:34.922214Z",
     "start_time": "2018-10-18T10:40:34.901689Z"
    }
   },
   "outputs": [],
   "source": [
    "%load_ext autoreload\n",
    "%autoreload 2"
   ]
  },
  {
   "cell_type": "code",
   "execution_count": 2,
   "id": "fd626c78-1225-4315-a354-eb0c2f52b1b0",
   "metadata": {
    "ExecuteTime": {
     "end_time": "2018-10-18T10:40:36.468086Z",
     "start_time": "2018-10-18T10:40:36.442023Z"
    }
   },
   "outputs": [],
   "source": [
    "import collections"
   ]
  },
  {
   "cell_type": "code",
   "execution_count": 3,
   "id": "83580f3a-6c0b-4db4-88e8-b74c9df5bf2c",
   "metadata": {
    "ExecuteTime": {
     "end_time": "2018-10-18T10:40:37.964346Z",
     "start_time": "2018-10-18T10:40:37.346091Z"
    }
   },
   "outputs": [],
   "source": [
    "from tf.app import use"
   ]
  },
  {
   "cell_type": "code",
   "execution_count": 4,
   "id": "32a749f0-3e8e-4242-961c-510aebe51478",
   "metadata": {},
   "outputs": [
    {
     "data": {
      "text/markdown": [
       "**Locating corpus resources ...**"
      ],
      "text/plain": [
       "<IPython.core.display.Markdown object>"
      ]
     },
     "metadata": {},
     "output_type": "display_data"
    },
    {
     "data": {
      "text/html": [
       "<b title=\"local github\">app:</b> <span title=\"repo clone offline under /Users/me/github\">~/github/annotation/mondriaan/app</span>"
      ],
      "text/plain": [
       "<IPython.core.display.HTML object>"
      ]
     },
     "metadata": {},
     "output_type": "display_data"
    },
    {
     "name": "stderr",
     "output_type": "stream",
     "text": [
      "The requested data is not available offline\n",
      "\t~/github/annotation/mondriaan/tf/0.8 not found\n",
      "There were problems with loading data.\n",
      "The Text-Fabric API has not been loaded!\n",
      "The app \"annotation/mondriaan\" will not work!\n",
      "There was an error loading corpus annotation/mondriaan\n",
      "AttributeError(\"'NoneType' object has no attribute 'Fall'\")\n",
      "Traceback (most recent call last):\n",
      "  File \"/Users/me/github/annotation/text-fabric/tf/advanced/app.py\", line 584, in findApp\n",
      "    app = appClass(\n",
      "          ^^^^^^^^^\n",
      "  File \"/Users/me/github/annotation/mondriaan/app/app.py\", line 18, in __init__\n",
      "    (f, f[5:]) for f in app.api.Fall() if f.startswith(\"rend_\")\n",
      "                        ^^^^^^^^^^^^\n",
      "AttributeError: 'NoneType' object has no attribute 'Fall'\n",
      "Text-Fabric is not loaded\n"
     ]
    }
   ],
   "source": [
    "A = use(\"annotation/mondriaan:clone\", checkout=\"clone\", hoist=globals())"
   ]
  },
  {
   "cell_type": "markdown",
   "id": "d0e8e576-9e8a-4183-94e0-5553d3008be3",
   "metadata": {
    "tags": []
   },
   "source": [
    "# What have we got?\n",
    "\n",
    "Let's inspect the data.\n",
    "\n",
    "The text is represented as nodes with properties. The first word is node 1, the second word is node 2, and so on.\n",
    "After the last word node we get nodes for the elements, such a p, rs, etc. We also have nodes for folders and files.\n",
    "\n",
    "All nodes can be dressed up with *features*.\n",
    "A feature is a piece of data that specifies values for nodes.\n",
    "\n",
    "For example, the feature `str` gives the text of each word node, and the feature `after` gives the text after a word but before the next word.\n",
    "\n",
    "This gives a very crude insight in the data that Text-Fabric works with. Text-Fabric is a machine\n",
    "that can weave the orginal text out of the threads given by the features.\n",
    "\n",
    "Think of the nodes as the warp, through which the features are woven as wefts.\n",
    "See also the [fabric metaphor](https://annotation.github.io/text-fabric/tf/about/datamodel.html#fabric-metaphor).\n",
    "\n",
    "But it can also weave all kinds of other things out of the data.\n",
    "\n",
    "We can get a stock overview of the ware house of nodes and features as follows:\n",
    "\n",
    "* **nodes** if you click on the trainagle before **Node types** above,\n",
    "  you'll see an inventory of node types that make up the corpus.\n",
    "  They correspond to the elements in the original TEI.\n",
    "\n",
    "* **features** if you click on the little triangle before **mondriaan - letters** above,\n",
    "  you'll see a list of features with their descriptions:\n",
    "  * you can see which features have been loaded;\n",
    "  * if you click on a feature name, you find its documentation;\n",
    "  * if you hover over a name, you see where the feature is located on your system;\n",
    "  * edge features are marked by **_bold italic_** formatting.\n",
    "  [`C.levels.data`](https://annotation.github.io/text-fabric/tf/cheatsheet.html#c-computed-data-components)"
   ]
  },
  {
   "cell_type": "markdown",
   "id": "63daf300-ebf1-485c-aca1-4eceb7997def",
   "metadata": {},
   "source": [
    "# Counting\n",
    "We count all nodes, of any type."
   ]
  },
  {
   "cell_type": "code",
   "execution_count": 6,
   "id": "ede0a9de-2e8c-47de-993d-924dd6375ec9",
   "metadata": {
    "ExecuteTime": {
     "end_time": "2018-05-18T09:17:43.894153Z",
     "start_time": "2018-05-18T09:17:43.597128Z"
    }
   },
   "outputs": [
    {
     "name": "stdout",
     "output_type": "stream",
     "text": [
      "  0.00s Counting nodes ...\n",
      "  0.00s 12965 nodes\n"
     ]
    }
   ],
   "source": [
    "A.indent(reset=True)\n",
    "A.info(\"Counting nodes ...\")\n",
    "\n",
    "i = 0\n",
    "for n in N.walk():\n",
    "    i += 1\n",
    "\n",
    "A.info(\"{} nodes\".format(i))"
   ]
  },
  {
   "cell_type": "markdown",
   "id": "8ce2aaca-184c-4917-91ec-e39b345a0529",
   "metadata": {},
   "source": [
    "# Node types\n",
    "\n",
    "What is the basic textual unit in this corpus?"
   ]
  },
  {
   "cell_type": "code",
   "execution_count": 7,
   "id": "65ffa665-67e3-4fe0-a5e1-ef210fbae2c7",
   "metadata": {
    "ExecuteTime": {
     "end_time": "2018-05-18T09:17:47.820323Z",
     "start_time": "2018-05-18T09:17:47.812328Z"
    }
   },
   "outputs": [
    {
     "data": {
      "text/plain": [
       "'word'"
      ]
     },
     "execution_count": 7,
     "metadata": {},
     "output_type": "execute_result"
    }
   ],
   "source": [
    "F.otype.slotType"
   ]
  },
  {
   "cell_type": "markdown",
   "id": "827680c2-3c27-4ac4-b0c9-0c5e08055df0",
   "metadata": {},
   "source": [
    "A quick way to list all node types:"
   ]
  },
  {
   "cell_type": "code",
   "execution_count": 8,
   "id": "b85d5e3c-140a-4522-85d6-df31ed9d408a",
   "metadata": {
    "ExecuteTime": {
     "end_time": "2018-05-18T09:17:49.922863Z",
     "start_time": "2018-05-18T09:17:49.916078Z"
    }
   },
   "outputs": [
    {
     "data": {
      "text/plain": [
       "('folder',\n",
       " 'letter',\n",
       " 'body',\n",
       " 'text',\n",
       " 'div',\n",
       " 'chunk',\n",
       " 'p',\n",
       " 'revisionDesc',\n",
       " 'postscript',\n",
       " 'note',\n",
       " 'fileDesc',\n",
       " 'titleStmt',\n",
       " 'msDesc',\n",
       " 'sourceDesc',\n",
       " 'msIdentifier',\n",
       " 'correspDesc',\n",
       " 'profileDesc',\n",
       " 'title',\n",
       " 'closer',\n",
       " 'correspAction',\n",
       " 'change',\n",
       " 'address',\n",
       " 'date',\n",
       " 'salute',\n",
       " 'facsimile',\n",
       " 'dateline',\n",
       " 'institution',\n",
       " 'opener',\n",
       " 'idno',\n",
       " 'name',\n",
       " 'ref',\n",
       " 'addrLine',\n",
       " 'choice',\n",
       " 'rs',\n",
       " 'physDesc',\n",
       " 'altIdentifier',\n",
       " 'decoDesc',\n",
       " 'decoNote',\n",
       " 'editor',\n",
       " 'sponsor',\n",
       " 'hi',\n",
       " 'signed',\n",
       " 'del',\n",
       " 'add',\n",
       " 'orig',\n",
       " 'reg',\n",
       " 'settlement',\n",
       " 'accMat',\n",
       " 'c',\n",
       " 'country',\n",
       " 'graphic',\n",
       " 'objectDesc',\n",
       " 'pb',\n",
       " 'placeName',\n",
       " 'postmark',\n",
       " 'ptr',\n",
       " 'publicationStmt',\n",
       " 'space',\n",
       " 'surface',\n",
       " 'unclear',\n",
       " 'word')"
      ]
     },
     "execution_count": 8,
     "metadata": {},
     "output_type": "execute_result"
    }
   ],
   "source": [
    "F.otype.all"
   ]
  },
  {
   "cell_type": "markdown",
   "id": "c8194a07-913c-4fb3-8b64-4451a2274cf1",
   "metadata": {},
   "source": [
    "# Word matters\n",
    "\n",
    "We can only work with the surface forms of words, there is no concept of lexeme in the corpus (yet).\n",
    "\n",
    "## Top 30 frequent words\n",
    "\n",
    "There is a simple function to get a frequency list of feature values.\n",
    "Here we call it for the feature `str`, which contains the text for every word in the text:"
   ]
  },
  {
   "cell_type": "code",
   "execution_count": 9,
   "id": "ad775575-3b68-4a22-850b-68fe3ceb1def",
   "metadata": {},
   "outputs": [
    {
     "name": "stdout",
     "output_type": "stream",
     "text": [
      "   225 de\n",
      "   208 \n",
      "   204 in\n",
      "   157 van\n",
      "   148 the\n",
      "   147 I\n",
      "   123 en\n",
      "   112 to\n",
      "   105 is\n",
      "   104 you\n",
      "   100 Mondriaan\n",
      "    96 t\n",
      "    95 of\n",
      "    93 that\n",
      "    89 ik\n",
      "    80 and\n",
      "    80 dat\n",
      "    77 een\n",
      "    75 a\n",
      "    72 je\n",
      "    69 1909\n",
      "    69 voltooid\n",
      "    63 De\n",
      "    63 op\n",
      "    63 zijn\n",
      "    57 aan\n",
      "    57 voor\n",
      "    56 te\n",
      "    55 brief\n",
      "    54 het\n"
     ]
    }
   ],
   "source": [
    "for (word, amount) in F.str.freqList()[0:30]:\n",
    "    print(f\"{amount:>6} {word}\")"
   ]
  },
  {
   "cell_type": "markdown",
   "id": "b29cf9ec-7ea1-486f-9578-597dcabf8e7a",
   "metadata": {},
   "source": [
    "# Words that are unique to a letter\n",
    "\n",
    "Are there words that are unique to a letter?\n",
    "And if so, which letter has the most of them?\n",
    "That letter is the most idiosyncratic letter.\n",
    "\n",
    "Task: list the letters in a table sorted by degree of idiosyncrasy, and show the\n",
    "idiosyncrasy of each letter.\n",
    "\n",
    "## Method\n",
    "\n",
    "For each word, the support base is the set of letters in which the word occurs.\n",
    "We take only distinct words into account when we count words.\n",
    "We make all words lower case.\n",
    "\n",
    "We exclude words that occur in the tei header and in notes.\n",
    "\n",
    "Let's compute the support base of all words.\n",
    "\n",
    "We also need to count how much distinct words each letter contains.\n",
    "\n",
    "And we also want to find out how many hapaxes there are, so we also make an\n",
    "index for the occurrences of each word form.\n",
    "\n",
    "Note that each file corresponds to a letter.\n",
    "Note also, after reading the feature docs, that we have features `is_meta` and `is_note` that tell us whether a word\n",
    "occurrence is in the tei header or a note."
   ]
  },
  {
   "cell_type": "code",
   "execution_count": 12,
   "id": "0dbae8c1-1bb1-4a62-b105-14b43be5b022",
   "metadata": {},
   "outputs": [
    {
     "name": "stdout",
     "output_type": "stream",
     "text": [
      "There are 1580 distinct words\n"
     ]
    }
   ],
   "source": [
    "wordOccs = collections.defaultdict(list)\n",
    "wordsByLetter = collections.defaultdict(set)\n",
    "supportBase = collections.defaultdict(set)\n",
    "\n",
    "for letter in F.otype.s(\"letter\"):\n",
    "    for w in L.d(letter, otype=\"word\"):\n",
    "        if F.is_meta.v(w) or F.is_note.v(w) or F.empty.v(w):\n",
    "            continue\n",
    "        word = F.str.v(w)\n",
    "        if not word:\n",
    "            continue\n",
    "            \n",
    "        wordOccs[word].append(w)\n",
    "        wordsByLetter[letter].add(word)\n",
    "        supportBase[word].add(letter)\n",
    "        \n",
    "print(f\"There are {len(wordOccs)} distinct words\")"
   ]
  },
  {
   "cell_type": "markdown",
   "id": "40882651-877e-4ffd-80eb-8ec29f5ed9a5",
   "metadata": {},
   "source": [
    "We can find the hapaxes as follows:"
   ]
  },
  {
   "cell_type": "code",
   "execution_count": 13,
   "id": "b95b3358-e03a-4884-87d7-c2515428bbd8",
   "metadata": {},
   "outputs": [
    {
     "name": "stdout",
     "output_type": "stream",
     "text": [
      "There are 822 hapaxes\n"
     ]
    }
   ],
   "source": [
    "hapaxes = {word for (word, occs) in wordOccs.items() if len(occs) == 1}\n",
    "\n",
    "print(f\"There are {len(hapaxes)} hapaxes\")"
   ]
  },
  {
   "cell_type": "markdown",
   "id": "995227bf-15aa-4678-995f-aa2f7fdf3b5c",
   "metadata": {},
   "source": [
    "In the same way we can find the idiosyncratic words:"
   ]
  },
  {
   "cell_type": "code",
   "execution_count": 14,
   "id": "f8335a08-36c8-439d-8e27-7c279d3b8d5b",
   "metadata": {},
   "outputs": [
    {
     "name": "stdout",
     "output_type": "stream",
     "text": [
      "There are 1075 idiosyncratic words\n"
     ]
    }
   ],
   "source": [
    "idiosyncraticWords = {word for (word, letters) in supportBase.items() if len(letters) == 1}\n",
    "\n",
    "print(f\"There are {len(idiosyncraticWords)} idiosyncratic words\")"
   ]
  },
  {
   "cell_type": "markdown",
   "id": "7f249d83-60aa-4d3e-bc39-979db26ec603",
   "metadata": {},
   "source": [
    "Now we can make a table of the letters where for each letter we list the total\n",
    "amount of distinct words, the amount of idiosyncratic words,\n",
    "and the percentage of idiosyncratic words wrt. to the total number of words."
   ]
  },
  {
   "cell_type": "code",
   "execution_count": 17,
   "id": "72efbbda-c8ec-4619-9e67-ac501bd20744",
   "metadata": {},
   "outputs": [
    {
     "data": {
      "text/plain": [
       "[('19090216y_IONG_1303', 77, 11, 14),\n",
       " ('19090407y_IONG_1739', 141, 22, 16),\n",
       " ('19090421y_IONG_1304', 160, 36, 22),\n",
       " ('19090426y_IONG_1738', 138, 38, 28),\n",
       " ('19090513y_IONG_1293', 171, 45, 26),\n",
       " ('19090624_IONG_1294', 113, 17, 15),\n",
       " ('19090807y_IONG_1296', 161, 32, 20),\n",
       " ('19090824y_KNAP_1747', 52, 13, 25),\n",
       " ('19090905y_IONG_1295', 262, 71, 27),\n",
       " ('190909XX_QUER_1654', 750, 442, 59)]"
      ]
     },
     "execution_count": 17,
     "metadata": {},
     "output_type": "execute_result"
    }
   ],
   "source": [
    "table = []\n",
    "\n",
    "for letter in F.otype.s(\"letter\"):\n",
    "    letterId = F.letter.v(letter)\n",
    "    words = wordsByLetter[letter]\n",
    "    idio = {word for word in words if word in idiosyncraticWords}\n",
    "    \n",
    "    nWords = len(words)\n",
    "    nIdio = len(idio)\n",
    "    perc = int(round(100 * nIdio / nWords))\n",
    "    \n",
    "    table.append((letterId, nWords, nIdio, perc))\n",
    "    \n",
    "table[0:10]"
   ]
  },
  {
   "cell_type": "markdown",
   "id": "cbfe510b-3f37-4ab8-b7a4-6f6cf705290a",
   "metadata": {},
   "source": [
    "We can make that prettier by rendering it in Markdown.\n",
    "And we have to sort it on the percentage column.\n",
    "And we add a grand total.\n",
    "\n",
    "We do not show the letters that have less than 20% idiosyncratic words."
   ]
  },
  {
   "cell_type": "code",
   "execution_count": 18,
   "id": "58a47257-47b6-40ac-8ea3-74b775b3d05e",
   "metadata": {},
   "outputs": [
    {
     "data": {
      "text/markdown": [
       "\n",
       "letter | #words | #idio | %perc\n",
       "--- | --- | --- | ---\n",
       "190909XX_QUER_1654 | 750 | 442 | 59\n",
       "19100131_SAAL_ARNO_0018 | 458 | 183 | 40\n",
       "19091024y_IONG_1297 | 348 | 125 | 36\n",
       "19090426y_IONG_1738 | 138 | 38 | 28\n",
       "19090905y_IONG_1295 | 262 | 71 | 27\n",
       "19090513y_IONG_1293 | 171 | 45 | 26\n",
       "19090824y_KNAP_1747 | 52 | 13 | 25\n",
       "19090421y_IONG_1304 | 160 | 36 | 22\n",
       "19090807y_IONG_1296 | 161 | 32 | 20\n",
       "19091024_SPOO_0016 | 84 | 17 | 20\n",
       "**14** letters | **1580** | **1075** | **68**\n",
       "**14** letters | **3039** | **1075** | **35**\n"
      ],
      "text/plain": [
       "<IPython.core.display.Markdown object>"
      ]
     },
     "metadata": {},
     "output_type": "display_data"
    }
   ],
   "source": [
    "md = \"\"\"\n",
    "letter | #words | #idio | %perc\n",
    "--- | --- | --- | ---\n",
    "\"\"\"\n",
    "\n",
    "totalNw = 0\n",
    "\n",
    "for (letter, nw, ni, per) in sorted(table, key=lambda x: (-x[-1], -x[-2], x[1], x[0])):\n",
    "    if per >= 20:\n",
    "        md += f\"\"\"{letter} | {nw} | {ni} | {per}\\n\"\"\"\n",
    "    totalNw += nw\n",
    "    \n",
    "    \n",
    "overall = int(round(100 * len(idiosyncraticWords) / len(wordOccs)))\n",
    "overall2 = int(round(100 * len(idiosyncraticWords) / totalNw))\n",
    "md += f\"\"\"**{len(table)}** letters | **{len(wordOccs)}** | **{len(idiosyncraticWords)}** | **{overall}**\\n\"\"\"\n",
    "md += f\"\"\"**{len(table)}** letters | **{totalNw}** | **{len(idiosyncraticWords)}** | **{overall2}**\\n\"\"\"\n",
    "\n",
    "A.dm(md)"
   ]
  },
  {
   "cell_type": "markdown",
   "id": "77b1e6d6-01c6-4bfa-b938-9d5f96e3e2d8",
   "metadata": {},
   "source": [
    "It might seem strange that the overall idiosyncracy is much bigger than the idiosyncracy of the individual\n",
    "letters.\n",
    "\n",
    "This follows from the fact that if we take the amounts of distinct words per letter and take the sum of that,\n",
    "we end up with a much bigger number than the total amount of distinct words in the whole book.\n",
    "\n",
    "Because words that occur in multiple letters are counted multiple times.\n",
    "\n",
    "If we use the sum of the per-letter distinct words, the total idiosyncracy is the weighted average of the letter\n",
    "idiosyncracies."
   ]
  },
  {
   "cell_type": "markdown",
   "id": "34b20558-f784-4581-923f-7a3ecfe0a733",
   "metadata": {
    "tags": []
   },
   "source": [
    "# `<rs>` elements\n",
    "\n",
    "These elements have sometimes artworks under them, for example if they have `type=artwork-m`.\n",
    "\n",
    "But what types do we have in the corpus?"
   ]
  },
  {
   "cell_type": "code",
   "execution_count": 19,
   "id": "dfa23b8e-cd90-492b-8143-7407f058ec6a",
   "metadata": {},
   "outputs": [
    {
     "data": {
      "text/plain": [
       "(('person', 113),\n",
       " ('artwork-m', 18),\n",
       " ('exhibition', 9),\n",
       " ('artistsassoc', 7),\n",
       " ('org', 7),\n",
       " ('journal', 5),\n",
       " ('museum', 5),\n",
       " ('firm', 3),\n",
       " ('photograph', 3),\n",
       " ('article', 2))"
      ]
     },
     "execution_count": 19,
     "metadata": {},
     "output_type": "execute_result"
    }
   ],
   "source": [
    "F.type.freqList(nodeTypes={\"rs\"})"
   ]
  },
  {
   "cell_type": "markdown",
   "id": "2242b7bf-b24d-4b0d-bb8e-4479058bae95",
   "metadata": {},
   "source": [
    "That's a rather clear answer.\n",
    "\n",
    "## Photographs\n",
    "\n",
    "Now we want to see all features that photographs can have."
   ]
  },
  {
   "cell_type": "code",
   "execution_count": 25,
   "id": "81ea0246-a772-4ba5-bd13-873401bf18d1",
   "metadata": {},
   "outputs": [],
   "source": [
    "allFeatures = Fall()\n",
    "\n",
    "data = {}\n",
    "\n",
    "for rs in F.otype.s(\"rs\"):\n",
    "    data[rs] = {}\n",
    "    for feat in allFeatures:\n",
    "        if feat == \"otype\":\n",
    "            continue\n",
    "        val = Fs(feat).v(rs)\n",
    "        if val:\n",
    "            data[rs][feat] = val\n"
   ]
  },
  {
   "cell_type": "code",
   "execution_count": 26,
   "id": "04d4d5e3-c940-4bac-84e4-1173b37f9faf",
   "metadata": {},
   "outputs": [],
   "source": [
    "photoData = {\n",
    "    rs: feats for (rs, feats) in data.items() if feats.get(\"type\", None) == \"photograph\"\n",
    "}"
   ]
  },
  {
   "cell_type": "code",
   "execution_count": 27,
   "id": "9709a097-851f-4dea-b75c-101bb071cce1",
   "metadata": {},
   "outputs": [
    {
     "data": {
      "text/html": [
       "<div class=\"\"><span class=\"tfsechead \"><span class=\"ltr\"><a target=\"_blank\" href=\"https://public.mondriaan.org/letters/proeftuin/19090421y_IONG_1304/6&amp;version=0.7\" title=\"Show this on the website\" sec=\"proeftuin@19090421y_IONG_1304:6\">proeftuin@19090421y_IONG_1304:6</a></span></span>  <span class=\"txtu\"><span class=\" is_note\">een </span></span><span class=\"txtu\"><span class=\" is_note\">portretfoto </span></span><span class=\"txtu\"><span class=\" is_note\">van </span></span><span class=\"txtu\"><span class=\" is_note\">Mondriaan. </span></span></div>"
      ],
      "text/plain": [
       "<IPython.core.display.HTML object>"
      ]
     },
     "metadata": {},
     "output_type": "display_data"
    },
    {
     "name": "stdout",
     "output_type": "stream",
     "text": [
      "\tkey = '217669'\n",
      "\ttype = 'photograph'\n"
     ]
    },
    {
     "data": {
      "text/html": [
       "<div class=\"\"><span class=\"tfsechead \"><span class=\"ltr\"><a target=\"_blank\" href=\"https://public.mondriaan.org/letters/proeftuin/19090905y_IONG_1295/5&amp;version=0.7\" title=\"Show this on the website\" sec=\"proeftuin@19090905y_IONG_1295:5\">proeftuin@19090905y_IONG_1295:5</a></span></span>  <span class=\"txtu\">photo'</span><span class=\"txtu\">s </span><span class=\"txtu\">van </span><span class=\"txtu\">een </span><span class=\"txtu\">dame — </span><span class=\"txtu\">van </span><span class=\"txtu\">jouw — </span></div>"
      ],
      "text/plain": [
       "<IPython.core.display.HTML object>"
      ]
     },
     "metadata": {},
     "output_type": "display_data"
    },
    {
     "name": "stdout",
     "output_type": "stream",
     "text": [
      "\ttype = 'photograph'\n"
     ]
    },
    {
     "data": {
      "text/html": [
       "<div class=\"\"><span class=\"tfsechead \"><span class=\"ltr\"><a target=\"_blank\" href=\"https://public.mondriaan.org/letters/proeftuin/19090905y_IONG_1295/6&amp;version=0.7\" title=\"Show this on the website\" sec=\"proeftuin@19090905y_IONG_1295:6\">proeftuin@19090905y_IONG_1295:6</a></span></span>  <span class=\"txtu\">photographs </span><span class=\"txtu\">of </span><span class=\"txtu\">a </span><span class=\"txtu\">woman — </span><span class=\"txtu\">of </span><span class=\"txtu\">you — </span></div>"
      ],
      "text/plain": [
       "<IPython.core.display.HTML object>"
      ]
     },
     "metadata": {},
     "output_type": "display_data"
    },
    {
     "name": "stdout",
     "output_type": "stream",
     "text": [
      "\ttype = 'photograph'\n"
     ]
    }
   ],
   "source": [
    "for (rs, feats) in photoData.items():\n",
    "    A.plain(rs)\n",
    "    for (feat, val) in sorted(feats.items()):\n",
    "        print(f\"\\t{feat} = '{val}'\")"
   ]
  },
  {
   "cell_type": "markdown",
   "id": "ce487a68-6f9d-440d-9f9a-7c6b8818944a",
   "metadata": {},
   "source": [
    "## Artworks\n",
    "\n",
    "Now the same for artworks."
   ]
  },
  {
   "cell_type": "code",
   "execution_count": 28,
   "id": "f013bac2-4e27-4ba7-9d32-467aa995c0e5",
   "metadata": {},
   "outputs": [],
   "source": [
    "artworkData = {\n",
    "    rs: feats for (rs, feats) in data.items() if feats.get(\"type\", None) == \"artwork-m\"\n",
    "}"
   ]
  },
  {
   "cell_type": "code",
   "execution_count": 29,
   "id": "6c4da9a9-2580-4100-8574-598c47319bfa",
   "metadata": {},
   "outputs": [
    {
     "data": {
      "text/html": [
       "<div class=\"\"><span class=\"tfsechead \"><span class=\"ltr\"><a target=\"_blank\" href=\"https://public.mondriaan.org/letters/proeftuin/19090421y_IONG_1304/5&amp;version=0.7\" title=\"Show this on the website\" sec=\"proeftuin@19090421y_IONG_1304:5\">proeftuin@19090421y_IONG_1304:5</a></span></span>  <span class=\"txtu\">de </span><span class=\"txtu\">schetsen </span></div>"
      ],
      "text/plain": [
       "<IPython.core.display.HTML object>"
      ]
     },
     "metadata": {},
     "output_type": "display_data"
    },
    {
     "name": "stdout",
     "output_type": "stream",
     "text": [
      "\ttype = 'artwork-m'\n"
     ]
    },
    {
     "data": {
      "text/html": [
       "<div class=\"\"><span class=\"tfsechead \"><span class=\"ltr\"><a target=\"_blank\" href=\"https://public.mondriaan.org/letters/proeftuin/19090421y_IONG_1304/6&amp;version=0.7\" title=\"Show this on the website\" sec=\"proeftuin@19090421y_IONG_1304:6\">proeftuin@19090421y_IONG_1304:6</a></span></span>   <div class=\"graphic_set\"><div class=\"graphic_item\"><img src=\"illustrations/artwork-m-12580.jpg\" class=\"graphic_img\" /><span class=\"graphic_caption\">Piet Mondriaan, Leo Gestel, <i>Meisjeskop, 1910 Alkmaar, Stedelijk Museum Alkmaar, inv./cat.nr. [..]</i>. conté on papier. <a target=\"_blank\" href=\"https://rkd.nl/explore/images/277201\" title=\"visit this artwork on the RKD site\">RKD 277201►</a></span></div></div><span class=\"txtu\"><span class=\" is_note\">Meisjeskop**] (</span></span><span class=\"txtu\"><span class=\" is_note\">UA38). </span></span></div>"
      ],
      "text/plain": [
       "<IPython.core.display.HTML object>"
      ]
     },
     "metadata": {},
     "output_type": "display_data"
    },
    {
     "name": "stdout",
     "output_type": "stream",
     "text": [
      "\tkey = '277201'\n",
      "\ttype = 'artwork-m'\n"
     ]
    },
    {
     "data": {
      "text/html": [
       "<div class=\"\"><span class=\"tfsechead \"><span class=\"ltr\"><a target=\"_blank\" href=\"https://public.mondriaan.org/letters/proeftuin/19090421y_IONG_1304/6&amp;version=0.7\" title=\"Show this on the website\" sec=\"proeftuin@19090421y_IONG_1304:6\">proeftuin@19090421y_IONG_1304:6</a></span></span>   <div class=\"graphic_set\"><div class=\"graphic_item\"><img src=\"illustrations/artwork-m-12581.jpg\" class=\"graphic_img\" /><span class=\"graphic_caption\">Piet Mondriaan, <i>Female nude: bust portrait, ca. 1909-1911 Private collection</i>. houtskool, zwart krijt on papier. <a target=\"_blank\" href=\"https://rkd.nl/explore/images/68554\" title=\"visit this artwork on the RKD site\">RKD 68554►</a></span></div></div><span class=\"txtu\"><span class=\" is_note\">Female </span></span><span class=\"txtu\"><span class=\" is_note\">nude: </span></span><span class=\"txtu\"><span class=\" is_note\">bust </span></span><span class=\"txtu\"><span class=\" is_note\">portrait**] (</span></span></div>"
      ],
      "text/plain": [
       "<IPython.core.display.HTML object>"
      ]
     },
     "metadata": {},
     "output_type": "display_data"
    },
    {
     "name": "stdout",
     "output_type": "stream",
     "text": [
      "\tkey = '68554'\n",
      "\ttype = 'artwork-m'\n"
     ]
    },
    {
     "data": {
      "text/html": [
       "<div class=\"\"><span class=\"tfsechead \"><span class=\"ltr\"><a target=\"_blank\" href=\"https://public.mondriaan.org/letters/proeftuin/19090905y_IONG_1295/6&amp;version=0.7\" title=\"Show this on the website\" sec=\"proeftuin@19090905y_IONG_1295:6\">proeftuin@19090905y_IONG_1295:6</a></span></span>   <div class=\"graphic_set\"><div class=\"graphic_item\"><span class=\"graphic_caption\"><a target=\"_blank\" href=\"https://rkd.nl/explore/images/62319\" title=\"visit this artwork on the RKD site\">RKD 62319►</a></span></div></div><span class=\"txtu\"><span class=\"r_italics is_note\">Zeeland </span></span><span class=\"txtu\"><span class=\"r_italics is_note\">farmer (</span></span></div>"
      ],
      "text/plain": [
       "<IPython.core.display.HTML object>"
      ]
     },
     "metadata": {},
     "output_type": "display_data"
    },
    {
     "name": "stdout",
     "output_type": "stream",
     "text": [
      "\tkey = '62319'\n",
      "\ttype = 'artwork-m'\n"
     ]
    },
    {
     "data": {
      "text/html": [
       "<div class=\"\"><span class=\"tfsechead \"><span class=\"ltr\"><a target=\"_blank\" href=\"https://public.mondriaan.org/letters/proeftuin/19090905y_IONG_1295/6&amp;version=0.7\" title=\"Show this on the website\" sec=\"proeftuin@19090905y_IONG_1295:6\">proeftuin@19090905y_IONG_1295:6</a></span></span>   <div class=\"graphic_set\"><div class=\"graphic_item\"><span class=\"graphic_caption\"><a target=\"_blank\" href=\"https://rkd.nl/explore/images/68733\" title=\"visit this artwork on the RKD site\">RKD 68733►</a></span></div></div><span class=\"txtu\"><span class=\"r_italics is_note\">Zeeland </span></span><span class=\"txtu\"><span class=\"r_italics is_note\">girl (</span></span></div>"
      ],
      "text/plain": [
       "<IPython.core.display.HTML object>"
      ]
     },
     "metadata": {},
     "output_type": "display_data"
    },
    {
     "name": "stdout",
     "output_type": "stream",
     "text": [
      "\tkey = '68733'\n",
      "\ttype = 'artwork-m'\n"
     ]
    },
    {
     "data": {
      "text/html": [
       "<div class=\"\"><span class=\"tfsechead \"><span class=\"ltr\"><a target=\"_blank\" href=\"https://public.mondriaan.org/letters/proeftuin/19090905y_IONG_1295/6&amp;version=0.7\" title=\"Show this on the website\" sec=\"proeftuin@19090905y_IONG_1295:6\">proeftuin@19090905y_IONG_1295:6</a></span></span>   <div class=\"graphic_set\"><div class=\"graphic_item\"><img src=\"illustrations/artwork-m-12639.jpg\" class=\"graphic_img\" /><span class=\"graphic_caption\">Piet Mondriaan, Leo Gestel, <i>Meisjeskop, 1910 Alkmaar, Stedelijk Museum Alkmaar, inv./cat.nr. [..]</i>. conté on papier. <a target=\"_blank\" href=\"https://rkd.nl/explore/images/277201\" title=\"visit this artwork on the RKD site\">RKD 277201►</a></span></div></div><span class=\"txtu\"><span class=\" is_note\">het </span></span><span class=\"txtu\"><span class=\" is_note\">krijtportret </span></span></div>"
      ],
      "text/plain": [
       "<IPython.core.display.HTML object>"
      ]
     },
     "metadata": {},
     "output_type": "display_data"
    },
    {
     "name": "stdout",
     "output_type": "stream",
     "text": [
      "\tkey = '277201'\n",
      "\ttype = 'artwork-m'\n"
     ]
    },
    {
     "data": {
      "text/html": [
       "<div class=\"\"><span class=\"tfsechead \"><span class=\"ltr\"><a target=\"_blank\" href=\"https://public.mondriaan.org/letters/proeftuin/190909XX_QUER_1654/6&amp;version=0.7\" title=\"Show this on the website\" sec=\"proeftuin@190909XX_QUER_1654:6\">proeftuin@190909XX_QUER_1654:6</a></span></span>   <div class=\"graphic_set\"><div class=\"graphic_item\"><span class=\"graphic_caption\"><a target=\"_blank\" href=\"https://rkd.nl/explore/images/000000\" title=\"visit this artwork on the RKD site\">RKD 000000►</a></span></div></div><span class=\"txtu\"><span class=\"r_italics is_note\">Mill </span></span><span class=\"txtu\"><span class=\"r_italics is_note\">in </span></span><span class=\"txtu\"><span class=\"r_italics is_note\">sunlight: </span></span><span class=\"txtu\"><span class=\"r_italics is_note\">the </span></span><span class=\"txtu\"><span class=\"r_italics is_note\">Winkel </span></span><span class=\"txtu\"><span class=\"r_italics is_note\">mill (</span></span></div>"
      ],
      "text/plain": [
       "<IPython.core.display.HTML object>"
      ]
     },
     "metadata": {},
     "output_type": "display_data"
    },
    {
     "name": "stdout",
     "output_type": "stream",
     "text": [
      "\tkey = '000000'\n",
      "\ttype = 'artwork-m'\n"
     ]
    },
    {
     "data": {
      "text/html": [
       "<div class=\"\"><span class=\"tfsechead \"><span class=\"ltr\"><a target=\"_blank\" href=\"https://public.mondriaan.org/letters/proeftuin/190909XX_QUER_1654/6&amp;version=0.7\" title=\"Show this on the website\" sec=\"proeftuin@190909XX_QUER_1654:6\">proeftuin@190909XX_QUER_1654:6</a></span></span>   <div class=\"graphic_set\"><div class=\"graphic_item\"><span class=\"graphic_caption\"><a target=\"_blank\" href=\"https://rkd.nl/explore/images/000000\" title=\"visit this artwork on the RKD site\">RKD 000000►</a></span></div></div><span class=\"txtu\"><span class=\"r_italics is_note\">Woods (</span></span></div>"
      ],
      "text/plain": [
       "<IPython.core.display.HTML object>"
      ]
     },
     "metadata": {},
     "output_type": "display_data"
    },
    {
     "name": "stdout",
     "output_type": "stream",
     "text": [
      "\tkey = '000000'\n",
      "\ttype = 'artwork-m'\n"
     ]
    },
    {
     "data": {
      "text/html": [
       "<div class=\"\"><span class=\"tfsechead \"><span class=\"ltr\"><a target=\"_blank\" href=\"https://public.mondriaan.org/letters/proeftuin/190909XX_QUER_1654/6&amp;version=0.7\" title=\"Show this on the website\" sec=\"proeftuin@190909XX_QUER_1654:6\">proeftuin@190909XX_QUER_1654:6</a></span></span>   <div class=\"graphic_set\"><div class=\"graphic_item\"><span class=\"graphic_caption\"><a target=\"_blank\" href=\"https://rkd.nl/explore/images/000000\" title=\"visit this artwork on the RKD site\">RKD 000000►</a></span></div></div><span class=\"txtu\"><span class=\"r_italics is_note\">Flower (</span></span></div>"
      ],
      "text/plain": [
       "<IPython.core.display.HTML object>"
      ]
     },
     "metadata": {},
     "output_type": "display_data"
    },
    {
     "name": "stdout",
     "output_type": "stream",
     "text": [
      "\tkey = '000000'\n",
      "\ttype = 'artwork-m'\n"
     ]
    },
    {
     "data": {
      "text/html": [
       "<div class=\"\"><span class=\"tfsechead \"><span class=\"ltr\"><a target=\"_blank\" href=\"https://public.mondriaan.org/letters/proeftuin/190909XX_QUER_1654/6&amp;version=0.7\" title=\"Show this on the website\" sec=\"proeftuin@190909XX_QUER_1654:6\">proeftuin@190909XX_QUER_1654:6</a></span></span>  <span class=\"txtu\"><span class=\" is_note\">Devotie (</span></span><span class=\"txtu\"><span class=\" is_note\">A642). </span></span></div>"
      ],
      "text/plain": [
       "<IPython.core.display.HTML object>"
      ]
     },
     "metadata": {},
     "output_type": "display_data"
    },
    {
     "name": "stdout",
     "output_type": "stream",
     "text": [
      "\ttype = 'artwork-m'\n"
     ]
    },
    {
     "data": {
      "text/html": [
       "<div class=\"\"><span class=\"tfsechead \"><span class=\"ltr\"><a target=\"_blank\" href=\"https://public.mondriaan.org/letters/proeftuin/19091024y_IONG_1297/5&amp;version=0.7\" title=\"Show this on the website\" sec=\"proeftuin@19091024y_IONG_1297:5\">proeftuin@19091024y_IONG_1297:5</a></span></span>  <span class=\"txtu\">eenige </span><span class=\"txtu\">bloemen </span></div>"
      ],
      "text/plain": [
       "<IPython.core.display.HTML object>"
      ]
     },
     "metadata": {},
     "output_type": "display_data"
    },
    {
     "name": "stdout",
     "output_type": "stream",
     "text": [
      "\ttype = 'artwork-m'\n"
     ]
    },
    {
     "data": {
      "text/html": [
       "<div class=\"\"><span class=\"tfsechead \"><span class=\"ltr\"><a target=\"_blank\" href=\"https://public.mondriaan.org/letters/proeftuin/19091024y_IONG_1297/5&amp;version=0.7\" title=\"Show this on the website\" sec=\"proeftuin@19091024y_IONG_1297:5\">proeftuin@19091024y_IONG_1297:5</a></span></span>  <span class=\"txtu\">eenige </span><span class=\"txtu\">schilderijtjes </span></div>"
      ],
      "text/plain": [
       "<IPython.core.display.HTML object>"
      ]
     },
     "metadata": {},
     "output_type": "display_data"
    },
    {
     "name": "stdout",
     "output_type": "stream",
     "text": [
      "\ttype = 'artwork-m'\n"
     ]
    },
    {
     "data": {
      "text/html": [
       "<div class=\"\"><span class=\"tfsechead \"><span class=\"ltr\"><a target=\"_blank\" href=\"https://public.mondriaan.org/letters/proeftuin/19091024y_IONG_1297/6&amp;version=0.7\" title=\"Show this on the website\" sec=\"proeftuin@19091024y_IONG_1297:6\">proeftuin@19091024y_IONG_1297:6</a></span></span>   <div class=\"graphic_set\"><div class=\"graphic_item\"><img src=\"illustrations/artwork-m-12701.jpg\" class=\"graphic_img\" /><span class=\"graphic_caption\">Piet Mondriaan, <i>Lelie (authentiek), eind 1909 The Hague, Kunstmuseum Den Haag, inv./cat.nr. [..]</i>. houtskool, zwart krijt, gewassen in zwart on papier. <a target=\"_blank\" href=\"https://rkd.nl/explore/images/68728\" title=\"visit this artwork on the RKD site\">RKD 68728►</a></span></div></div><span class=\"txtu\"><span class=\" is_note\">Lily**] (</span></span><span class=\"txtu\"><span class=\" is_note\">A619) </span></span></div>"
      ],
      "text/plain": [
       "<IPython.core.display.HTML object>"
      ]
     },
     "metadata": {},
     "output_type": "display_data"
    },
    {
     "name": "stdout",
     "output_type": "stream",
     "text": [
      "\tkey = '68728'\n",
      "\ttype = 'artwork-m'\n"
     ]
    },
    {
     "data": {
      "text/html": [
       "<div class=\"\"><span class=\"tfsechead \"><span class=\"ltr\"><a target=\"_blank\" href=\"https://public.mondriaan.org/letters/proeftuin/19091024y_IONG_1297/6&amp;version=0.7\" title=\"Show this on the website\" sec=\"proeftuin@19091024y_IONG_1297:6\">proeftuin@19091024y_IONG_1297:6</a></span></span>  <span class=\"txtu\">a </span><span class=\"txtu\">few </span><span class=\"txtu\">flowers (</span></div>"
      ],
      "text/plain": [
       "<IPython.core.display.HTML object>"
      ]
     },
     "metadata": {},
     "output_type": "display_data"
    },
    {
     "name": "stdout",
     "output_type": "stream",
     "text": [
      "\ttype = 'artwork-m'\n"
     ]
    },
    {
     "data": {
      "text/html": [
       "<div class=\"\"><span class=\"tfsechead \"><span class=\"ltr\"><a target=\"_blank\" href=\"https://public.mondriaan.org/letters/proeftuin/19091024y_IONG_1297/6&amp;version=0.7\" title=\"Show this on the website\" sec=\"proeftuin@19091024y_IONG_1297:6\">proeftuin@19091024y_IONG_1297:6</a></span></span>  <span class=\"txtu\">some </span><span class=\"txtu\">small </span><span class=\"txtu\">paintings </span></div>"
      ],
      "text/plain": [
       "<IPython.core.display.HTML object>"
      ]
     },
     "metadata": {},
     "output_type": "display_data"
    },
    {
     "name": "stdout",
     "output_type": "stream",
     "text": [
      "\ttype = 'artwork-m'\n"
     ]
    },
    {
     "data": {
      "text/html": [
       "<div class=\"\"><span class=\"tfsechead \"><span class=\"ltr\"><a target=\"_blank\" href=\"https://public.mondriaan.org/letters/proeftuin/19100131_SAAL_ARNO_0018/6&amp;version=0.7\" title=\"Show this on the website\" sec=\"proeftuin@19100131_SAAL_ARNO_0018:6\">proeftuin@19100131_SAAL_ARNO_0018:6</a></span></span>  <span class=\"txtu\"><span class=\"r_italics is_note\">Dying </span></span><span class=\"txtu\"><span class=\"r_italics is_note\">sunflower </span></span><span class=\"txtu\"><span class=\"r_italics is_note\">II </span></span></div>"
      ],
      "text/plain": [
       "<IPython.core.display.HTML object>"
      ]
     },
     "metadata": {},
     "output_type": "display_data"
    },
    {
     "name": "stdout",
     "output_type": "stream",
     "text": [
      "\ttype = 'artwork-m'\n"
     ]
    },
    {
     "data": {
      "text/html": [
       "<div class=\"\"><span class=\"tfsechead \"><span class=\"ltr\"><a target=\"_blank\" href=\"https://public.mondriaan.org/letters/proeftuin/19100131_SAAL_ARNO_0018/6&amp;version=0.7\" title=\"Show this on the website\" sec=\"proeftuin@19100131_SAAL_ARNO_0018:6\">proeftuin@19100131_SAAL_ARNO_0018:6</a></span></span>   <div class=\"graphic_set\"><div class=\"graphic_item\"><img src=\"illustrations/artwork-m-12722.jpg\" class=\"graphic_img\" /><span class=\"graphic_caption\">Piet Mondriaan, <i>Dying sunflower II, 1908 The Hague, Kunstmuseum Den Haag, inv./cat.nr. [..]</i>. olieverf on karton. <a target=\"_blank\" href=\"https://rkd.nl/explore/images/268864\" title=\"visit this artwork on the RKD site\">RKD 268864►</a></span></div></div><span class=\"txtu\"><span class=\"r_italics is_note\">Dying </span></span><span class=\"txtu\"><span class=\"r_italics is_note\">sunflower </span></span><span class=\"txtu\"><span class=\"r_italics is_note\">II </span></span></div>"
      ],
      "text/plain": [
       "<IPython.core.display.HTML object>"
      ]
     },
     "metadata": {},
     "output_type": "display_data"
    },
    {
     "name": "stdout",
     "output_type": "stream",
     "text": [
      "\tkey = '268864'\n",
      "\ttype = 'artwork-m'\n"
     ]
    },
    {
     "data": {
      "text/html": [
       "<div class=\"\"><span class=\"tfsechead \"><span class=\"ltr\"><a target=\"_blank\" href=\"https://public.mondriaan.org/letters/proeftuin/19100131_SAAL_ARNO_0018/6&amp;version=0.7\" title=\"Show this on the website\" sec=\"proeftuin@19100131_SAAL_ARNO_0018:6\">proeftuin@19100131_SAAL_ARNO_0018:6</a></span></span>   <div class=\"graphic_set\"><div class=\"graphic_item\"><img src=\"illustrations/artwork-m-12729.jpg\" class=\"graphic_img\" /><span class=\"graphic_caption\">Piet Mondriaan, <i>Dying sunflower II, 1908 The Hague, Kunstmuseum Den Haag, inv./cat.nr. [..]</i>. olieverf on karton. <a target=\"_blank\" href=\"https://rkd.nl/explore/images/268864\" title=\"visit this artwork on the RKD site\">RKD 268864►</a></span></div></div><span class=\"txtu\"><span class=\"r_italics is_note\">Dying </span></span><span class=\"txtu\"><span class=\"r_italics is_note\">sunflower </span></span><span class=\"txtu\"><span class=\"r_italics is_note\">II; </span></span></div>"
      ],
      "text/plain": [
       "<IPython.core.display.HTML object>"
      ]
     },
     "metadata": {},
     "output_type": "display_data"
    },
    {
     "name": "stdout",
     "output_type": "stream",
     "text": [
      "\tkey = '268864'\n",
      "\ttype = 'artwork-m'\n"
     ]
    }
   ],
   "source": [
    "for (rs, feats) in artworkData.items():\n",
    "    A.plain(rs)\n",
    "    for (feat, val) in sorted(feats.items()):\n",
    "        print(f\"\\t{feat} = '{val}'\")"
   ]
  },
  {
   "cell_type": "markdown",
   "id": "d6022ce4-6ee9-45ef-b5db-2ed71e031c51",
   "metadata": {},
   "source": [
    "## Persons\n",
    "\n",
    "How many *different* persons are referenced by `<rs>` elements?\n",
    "\n",
    "We make a complete inventory of all `<rs type=\"person\">` elements and there attributes and values."
   ]
  },
  {
   "cell_type": "code",
   "execution_count": 30,
   "id": "b4b26cd8-3023-4b6f-b589-6b662debfb7f",
   "metadata": {},
   "outputs": [],
   "source": [
    "allFeatures = Fall()\n",
    "\n",
    "personData = {}\n",
    "\n",
    "for rs in F.otype.s(\"rs\"):\n",
    "    if F.type.v(rs) != \"person\":\n",
    "        continue\n",
    "    for feat in allFeatures:\n",
    "        val = Fs(feat).v(rs)\n",
    "        if not val:\n",
    "            continue\n",
    "        personData.setdefault(feat, {}).setdefault(val, []).append(rs)"
   ]
  },
  {
   "cell_type": "markdown",
   "id": "c0ae9518-3347-406c-9beb-e170cff164cd",
   "metadata": {},
   "source": [
    "Let's see what we've got:"
   ]
  },
  {
   "cell_type": "code",
   "execution_count": 31,
   "id": "03a203c6-bf8c-4c14-94a6-ca728de8b7f3",
   "metadata": {},
   "outputs": [
    {
     "name": "stdout",
     "output_type": "stream",
     "text": [
      "key:\n",
      "\tbesant_annie    1 x\n",
      "\tbriel_albert_van_den    1 x\n",
      "\tbuhlig_richard    4 x\n",
      "\tcalcar_reinder_van    3 x\n",
      "\tfernhout_henk    5 x\n",
      "\tiongh_aletta_de   30 x\n",
      "\tiongh_anna_de    7 x\n",
      "\tiongh_anna_maria_de    1 x\n",
      "\tiongh_daniel_de    1 x\n",
      "\tiongh_de_frederika    3 x\n",
      "\tknap_gerrit_willem    5 x\n",
      "\tmondriaan_pieter_senior    1 x\n",
      "\tphilippona_reinier    2 x\n",
      "\tphilippona_reinier philippona_mien    2 x\n",
      "\tquerido_israel    6 x\n",
      "\tsaalborn_arnold    5 x\n",
      "\tsluijters_jan    1 x\n",
      "\tsmeenk_josina    1 x\n",
      "\tspoor_kees    9 x\n",
      "\tteirlinck_herman    4 x\n",
      "\ttoorop_charley    1 x\n",
      "\twaldenburg_alfred   17 x\n",
      "\twisse_adriana    1 x\n",
      "\twisse_ko      1 x\n",
      "otype:\n",
      "\trs          113 x\n",
      "type:\n",
      "\tperson      113 x\n"
     ]
    }
   ],
   "source": [
    "for (feat, fInfo) in sorted(personData.items()):\n",
    "    print(f\"{feat}:\")\n",
    "    for (val, rsNodes) in sorted(fInfo.items()):\n",
    "        print(f\"\\t{val:<10} {len(rsNodes):>4} x\")"
   ]
  },
  {
   "cell_type": "markdown",
   "id": "13877482-903b-4e92-8c9c-ec98d1adaa69",
   "metadata": {},
   "source": [
    "So, the identifying information is in the `key` feature,\n",
    "let's see how many distinct values it has."
   ]
  },
  {
   "cell_type": "code",
   "execution_count": 32,
   "id": "bbacecbf-9720-4a76-97bd-a0cba7f1e4b0",
   "metadata": {},
   "outputs": [
    {
     "data": {
      "text/plain": [
       "24"
      ]
     },
     "execution_count": 32,
     "metadata": {},
     "output_type": "execute_result"
    }
   ],
   "source": [
    "len(personData[\"key\"])"
   ]
  },
  {
   "cell_type": "markdown",
   "id": "b7a99731-505a-4cb6-bbb6-0a79f955c940",
   "metadata": {},
   "source": [
    "Some persons have a numeric `key` attribute.\n",
    "\n",
    "At least one of them identifies the person on the RKD site:\n",
    "\n",
    "`90099` goes to [Jan Schüller](https://rkd.nl/nl/explore/artists/record?query=90099&start=0)."
   ]
  },
  {
   "cell_type": "markdown",
   "id": "dd34fe32-9857-4843-bb3e-8b1f4c1950fd",
   "metadata": {},
   "source": [
    "## Everything with a numeric `key` feature\n",
    "\n",
    "So the question arises: which elements have a key feature with numeric content?\n",
    "\n",
    "We make an inventory."
   ]
  },
  {
   "cell_type": "code",
   "execution_count": 33,
   "id": "3d225e39-26a8-4d98-874a-3a1699eac4fc",
   "metadata": {},
   "outputs": [],
   "source": [
    "keyNodes = {}\n",
    "\n",
    "for n in N.walk():\n",
    "    key = F.key.v(n)\n",
    "    if key is None or not key.isdecimal():\n",
    "        continue\n",
    "    nType = F.otype.v(n)\n",
    "    keyNodes.setdefault(nType, []).append(n)"
   ]
  },
  {
   "cell_type": "code",
   "execution_count": 34,
   "id": "7897e01e-ef2b-492b-a1c8-9d56cd79da84",
   "metadata": {},
   "outputs": [
    {
     "name": "stdout",
     "output_type": "stream",
     "text": [
      "rs           12 nodes\n"
     ]
    }
   ],
   "source": [
    "for (nType, nodes) in keyNodes.items():\n",
    "    print(f\"{nType:<10} {len(nodes):>4} nodes\")"
   ]
  },
  {
   "cell_type": "markdown",
   "id": "42f7862a-f673-4851-a4cd-0c2468e389c8",
   "metadata": {},
   "source": [
    "We refine the exploration: which `type`s have those `rs` nodes?"
   ]
  },
  {
   "cell_type": "code",
   "execution_count": 35,
   "id": "10e0195f-887c-446c-933a-12b364bd7996",
   "metadata": {},
   "outputs": [],
   "source": [
    "rsTypes = collections.Counter()\n",
    "\n",
    "for n in keyNodes[\"rs\"]:\n",
    "    typ = F.type.v(n)\n",
    "    rsTypes[typ] += 1"
   ]
  },
  {
   "cell_type": "code",
   "execution_count": 36,
   "id": "367b735b-a928-4688-916e-4f97e9653269",
   "metadata": {},
   "outputs": [
    {
     "data": {
      "text/plain": [
       "Counter({'photograph': 1, 'artwork-m': 11})"
      ]
     },
     "execution_count": 36,
     "metadata": {},
     "output_type": "execute_result"
    }
   ],
   "source": [
    "rsTypes"
   ]
  },
  {
   "cell_type": "markdown",
   "id": "09577595-dbb0-4322-a61f-1615613325d3",
   "metadata": {
    "tags": []
   },
   "source": [
    "---\n",
    "\n",
    "# Next steps\n",
    "\n",
    "By now you have an impression how to orient yourself in this corpus.\n",
    "The next steps will show you how to get powerful: searching and computing.\n",
    "\n",
    "After that it is time for collecting results, use them in new annotations and share them.\n",
    "\n",
    "* **[start](start.ipynb)** intro and highlights\n",
    "* **explore** explore the corpus by coding away in it\n",
    "* **[search](search.ipynb)** turbo charge your hand-coding with search templates\n",
    "* **[exportExcel](exportExcel.ipynb)** make tailor-made spreadsheets out of your results\n",
    "\n",
    "CC-BY Dirk Roorda"
   ]
  }
 ],
 "metadata": {
  "kernelspec": {
   "display_name": "Python 3 (ipykernel)",
   "language": "python",
   "name": "python3"
  },
  "language_info": {
   "codemirror_mode": {
    "name": "ipython",
    "version": 3
   },
   "file_extension": ".py",
   "mimetype": "text/x-python",
   "name": "python",
   "nbconvert_exporter": "python",
   "pygments_lexer": "ipython3",
   "version": "3.11.1"
  }
 },
 "nbformat": 4,
 "nbformat_minor": 5
}
