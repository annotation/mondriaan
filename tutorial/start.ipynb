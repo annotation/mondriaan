{
 "cells": [
  {
   "cell_type": "markdown",
   "metadata": {},
   "source": [
    "<img align=\"right\" src=\"images/tf.png\" width=\"128\"/>\n",
    "<img align=\"right\" src=\"images/huc.png\"/>\n",
    "<img align=\"right\" src=\"images/logo.png\" width=\"200\"/>\n",
    "\n",
    "# Start\n",
    "\n",
    "This notebook gets you started with using\n",
    "[Text-Fabric](https://github.com/annotation/text-fabric) for coding in the\n",
    "letters of Piet Mondriaan.\n",
    "\n",
    "Familiarity with the underlying\n",
    "[data model](https://annotation.github.io/text-fabric/tf/about/datamodel.html)\n",
    "is recommended.\n",
    "\n",
    "For provenance, see the documentation:\n",
    "[about](https://xml.huygens.knaw.nl/index.php/Main_Page#Mondrian_Project)."
   ]
  },
  {
   "cell_type": "markdown",
   "metadata": {
    "tags": []
   },
   "source": [
    "## Overview\n",
    "\n",
    "* we tell you how to get Text-Fabric on your system;\n",
    "* we tell you how to get the Mondriaan corpus on your system."
   ]
  },
  {
   "cell_type": "markdown",
   "metadata": {},
   "source": [
    "## Installing Text-Fabric\n",
    "\n",
    "See the [installation instructions](https://annotation.github.io/text-fabric/tf/about/install.html)."
   ]
  },
  {
   "cell_type": "markdown",
   "metadata": {},
   "source": [
    "# Running Text-Fabric\n",
    "\n",
    "We will run computer code in the cells below, and this code makes use of the\n",
    "text-fabric library, shortly called `tf`.\n",
    "\n",
    "We import some standard Python modules and then we import the `use` function from text-fabric."
   ]
  },
  {
   "cell_type": "code",
   "execution_count": 1,
   "metadata": {},
   "outputs": [],
   "source": [
    "%load_ext autoreload\n",
    "%autoreload 2"
   ]
  },
  {
   "cell_type": "code",
   "execution_count": 2,
   "metadata": {
    "ExecuteTime": {
     "end_time": "2018-05-17T09:33:07.029915Z",
     "start_time": "2018-05-17T09:33:07.006073Z"
    }
   },
   "outputs": [],
   "source": [
    "import sys, os\n",
    "from tf.app import use"
   ]
  },
  {
   "cell_type": "markdown",
   "metadata": {},
   "source": [
    "Now we are going to *use* the `use` function.\n",
    "We want to *use* a corpus, and if we specify what corpus, text-fabric will the data for us.\n",
    "\n",
    "If you have cloned the `mondriaan/letters` repository to your local machine under the directory\n",
    "\n",
    "`~/git.diginfra.net/mondiraan/letters`\n",
    "\n",
    "then you already have the data.\n",
    "In that case you have to call the use command like this:\n",
    "\n",
    "```\n",
    "A = use(\"mondriaan/letters:clone\", checkout=\"clone\", backend=\"git.diginfra.net\", hoist=globals())\n",
    "```\n",
    "\n",
    "Below we give the command for the case where you have not cloned the repository.\n",
    "Text-Fabric will fetch the data from the internet and store it in your directory\n",
    "\n",
    "`~/text-fabric-data/git.diginfra.net/mondriaan/letters`.\n",
    "\n",
    "In both cases, the corpus data will be optimised for fast processing, a one time job."
   ]
  },
  {
   "cell_type": "code",
   "execution_count": 3,
   "metadata": {
    "ExecuteTime": {
     "end_time": "2018-05-17T09:33:10.782586Z",
     "start_time": "2018-05-17T09:33:09.929360Z"
    }
   },
   "outputs": [
    {
     "data": {
      "text/markdown": [
       "**Locating corpus resources ...**"
      ],
      "text/plain": [
       "<IPython.core.display.Markdown object>"
      ]
     },
     "metadata": {},
     "output_type": "display_data"
    },
    {
     "data": {
      "text/html": [
       "<b title=\"local github\">app:</b> <span title=\"repo clone offline under /Users/me/github\">~/github/annotation/mondriaan/app</span>"
      ],
      "text/plain": [
       "<IPython.core.display.HTML object>"
      ]
     },
     "metadata": {},
     "output_type": "display_data"
    },
    {
     "name": "stderr",
     "output_type": "stream",
     "text": [
      "The requested data is not available offline\n",
      "\t~/github/annotation/mondriaan/tf/0.8 not found\n",
      "There were problems with loading data.\n",
      "The Text-Fabric API has not been loaded!\n",
      "The app \"annotation/mondriaan\" will not work!\n",
      "There was an error loading corpus annotation/mondriaan\n",
      "AttributeError(\"'NoneType' object has no attribute 'Fall'\")\n",
      "Traceback (most recent call last):\n",
      "  File \"/Users/me/github/annotation/text-fabric/tf/advanced/app.py\", line 584, in findApp\n",
      "    app = appClass(\n",
      "          ^^^^^^^^^\n",
      "  File \"/Users/me/github/annotation/mondriaan/app/app.py\", line 18, in __init__\n",
      "    (f, f[5:]) for f in app.api.Fall() if f.startswith(\"rend_\")\n",
      "                        ^^^^^^^^^^^^\n",
      "AttributeError: 'NoneType' object has no attribute 'Fall'\n",
      "Text-Fabric is not loaded\n"
     ]
    }
   ],
   "source": [
    "A = use(\"annotation/mondriaan:clone\", checkout=\"clone\", hoist=globals())"
   ]
  },
  {
   "cell_type": "markdown",
   "metadata": {},
   "source": [
    "### The output\n",
    "\n",
    "The messages after loading the corpus contain a lot of information about it.\n",
    "\n",
    "**Tip:** click the triangles and the links, and have a quick look.\n",
    "\n",
    "The **Text-Fabric** line has various links to the API docs.\n",
    "\n",
    "Under **Node types** you find statistics about the corpus.\n",
    "\n",
    "Under **Descartes = Descartes, all letters** you find the *features* of the corpus\n",
    "with short descriptions.\n",
    "\n",
    "This corpus has additional material: *illustrations*.\n",
    "They have been downloaded automatically in the process, and you see how many there are."
   ]
  },
  {
   "cell_type": "markdown",
   "metadata": {},
   "source": [
    "# Highlights\n",
    "\n",
    "This corpus is special in that it has thumbnails of artworks.\n",
    "\n",
    "They are in `<rs>` elements that have an attribute `type=\"artwork-m\"`\n",
    "and a `key` with at least a digit between 1 and 9 in it.\n",
    "\n",
    "Let's look for them."
   ]
  },
  {
   "cell_type": "code",
   "execution_count": 4,
   "metadata": {},
   "outputs": [
    {
     "name": "stdout",
     "output_type": "stream",
     "text": [
      "  0.00s 8 results\n"
     ]
    }
   ],
   "source": [
    "results = A.search(\"\"\"\n",
    "rs key~[1-9] type=artwork-m\n",
    "\"\"\")"
   ]
  },
  {
   "cell_type": "markdown",
   "metadata": {},
   "source": [
    "Here is the first result:"
   ]
  },
  {
   "cell_type": "code",
   "execution_count": 5,
   "metadata": {},
   "outputs": [
    {
     "data": {
      "text/html": [
       "<table><tr class=\"tf ltr\"><th class=\"tf ltr\">n</th><th class=\"tf ltr\">p</th><th class=\"tf ltr\">rs</th></tr>\n",
       "<tr class=\"tf ltr\"><td class=\"tf ltr\">1</td><td class=\"tf ltr\"><span class=\"tfsechead ltr\"><span class=\"ltr\"><a target=\"_blank\" href=\"https://public.mondriaan.org/letters/proeftuin/19090421y_IONG_1304/6&amp;version=0.7\" title=\"Show this on the website\" sec=\"proeftuin@19090421y_IONG_1304:6\">proeftuin@19090421y_IONG_1304:6</a></span></span></td><td class=\"tf ltr\"><span class=\" ubd\"><span class=\"plain   hlbx\" > <div class=\"graphic_set\"><div class=\"graphic_item\"><img src=\"illustrations/artwork-m-12580.jpg\" class=\"graphic_img\" /><span class=\"graphic_caption\">Piet Mondriaan, Leo Gestel, <i>Meisjeskop, 1910 Alkmaar, Stedelijk Museum Alkmaar, inv./cat.nr. [..]</i>. conté on papier. <a target=\"_blank\" href=\"https://rkd.nl/explore/images/277201\" title=\"visit this artwork on the RKD site\">RKD 277201►</a></span></div></div><span class=\"txtu\"><span class=\" is_note\">Meisjeskop**] (</span></span><span class=\"txtu\"><span class=\" is_note\">UA38). </span></span></span></span></td></tr></table>"
      ],
      "text/plain": [
       "<IPython.core.display.HTML object>"
      ]
     },
     "metadata": {},
     "output_type": "display_data"
    }
   ],
   "source": [
    "A.table(results, end=1)"
   ]
  },
  {
   "cell_type": "markdown",
   "metadata": {},
   "source": [
    "We see a thumbnail of an artwork, a little bit of metadata below it. Next to it you see text content that is inside the `<rs>` element.\n",
    "\n",
    "The images and the metadata have been scraped from the RKD site, and we link back to the landing page of the image there.\n",
    "\n",
    "If you click it, you get on a page like this:\n",
    "\n",
    "![RKD landing page](images/rkd-277201.png)"
   ]
  },
  {
   "cell_type": "markdown",
   "metadata": {},
   "source": [
    "Let's see some more rersults:"
   ]
  },
  {
   "cell_type": "code",
   "execution_count": 6,
   "metadata": {},
   "outputs": [
    {
     "data": {
      "text/html": [
       "<table><tr class=\"tf ltr\"><th class=\"tf ltr\">n</th><th class=\"tf ltr\">p</th><th class=\"tf ltr\">rs</th></tr>\n",
       "<tr class=\"tf ltr\"><td class=\"tf ltr\">1</td><td class=\"tf ltr\"><span class=\"tfsechead ltr\"><span class=\"ltr\"><a target=\"_blank\" href=\"https://public.mondriaan.org/letters/proeftuin/19090421y_IONG_1304/6&amp;version=0.7\" title=\"Show this on the website\" sec=\"proeftuin@19090421y_IONG_1304:6\">proeftuin@19090421y_IONG_1304:6</a></span></span></td><td class=\"tf ltr\"><span class=\" ubd\"><span class=\"plain   hlbx\" > <div class=\"graphic_set\"><div class=\"graphic_item\"><img src=\"illustrations/artwork-m-12580.jpg\" class=\"graphic_img\" /><span class=\"graphic_caption\">Piet Mondriaan, Leo Gestel, <i>Meisjeskop, 1910 Alkmaar, Stedelijk Museum Alkmaar, inv./cat.nr. [..]</i>. conté on papier. <a target=\"_blank\" href=\"https://rkd.nl/explore/images/277201\" title=\"visit this artwork on the RKD site\">RKD 277201►</a></span></div></div><span class=\"txtu\"><span class=\" is_note\">Meisjeskop**] (</span></span><span class=\"txtu\"><span class=\" is_note\">UA38). </span></span></span></span></td></tr>\n",
       "<tr class=\"tf ltr\"><td class=\"tf ltr\">2</td><td class=\"tf ltr\"><span class=\"tfsechead ltr\"><span class=\"ltr\"><a target=\"_blank\" href=\"https://public.mondriaan.org/letters/proeftuin/19090421y_IONG_1304/6&amp;version=0.7\" title=\"Show this on the website\" sec=\"proeftuin@19090421y_IONG_1304:6\">proeftuin@19090421y_IONG_1304:6</a></span></span></td><td class=\"tf ltr\"><span class=\" ubd\"><span class=\"plain   hlbx\" > <div class=\"graphic_set\"><div class=\"graphic_item\"><img src=\"illustrations/artwork-m-12581.jpg\" class=\"graphic_img\" /><span class=\"graphic_caption\">Piet Mondriaan, <i>Female nude: bust portrait, ca. 1909-1911 Private collection</i>. houtskool, zwart krijt on papier. <a target=\"_blank\" href=\"https://rkd.nl/explore/images/68554\" title=\"visit this artwork on the RKD site\">RKD 68554►</a></span></div></div><span class=\"txtu\"><span class=\" is_note\">Female </span></span><span class=\"txtu\"><span class=\" is_note\">nude: </span></span><span class=\"txtu\"><span class=\" is_note\">bust </span></span><span class=\"txtu\"><span class=\" is_note\">portrait**] (</span></span></span></span></td></tr>\n",
       "<tr class=\"tf ltr\"><td class=\"tf ltr\">3</td><td class=\"tf ltr\"><span class=\"tfsechead ltr\"><span class=\"ltr\"><a target=\"_blank\" href=\"https://public.mondriaan.org/letters/proeftuin/19090905y_IONG_1295/6&amp;version=0.7\" title=\"Show this on the website\" sec=\"proeftuin@19090905y_IONG_1295:6\">proeftuin@19090905y_IONG_1295:6</a></span></span></td><td class=\"tf ltr\"><span class=\" ubd\"><span class=\"plain   hlbx\" > <div class=\"graphic_set\"><div class=\"graphic_item\"><span class=\"graphic_caption\"><a target=\"_blank\" href=\"https://rkd.nl/explore/images/62319\" title=\"visit this artwork on the RKD site\">RKD 62319►</a></span></div></div><span class=\"txtu\"><span class=\"r_italics is_note\">Zeeland </span></span><span class=\"txtu\"><span class=\"r_italics is_note\">farmer (</span></span></span></span></td></tr>\n",
       "<tr class=\"tf ltr\"><td class=\"tf ltr\">4</td><td class=\"tf ltr\"><span class=\"tfsechead ltr\"><span class=\"ltr\"><a target=\"_blank\" href=\"https://public.mondriaan.org/letters/proeftuin/19090905y_IONG_1295/6&amp;version=0.7\" title=\"Show this on the website\" sec=\"proeftuin@19090905y_IONG_1295:6\">proeftuin@19090905y_IONG_1295:6</a></span></span></td><td class=\"tf ltr\"><span class=\" ubd\"><span class=\"plain   hlbx\" > <div class=\"graphic_set\"><div class=\"graphic_item\"><span class=\"graphic_caption\"><a target=\"_blank\" href=\"https://rkd.nl/explore/images/68733\" title=\"visit this artwork on the RKD site\">RKD 68733►</a></span></div></div><span class=\"txtu\"><span class=\"r_italics is_note\">Zeeland </span></span><span class=\"txtu\"><span class=\"r_italics is_note\">girl (</span></span></span></span></td></tr>\n",
       "<tr class=\"tf ltr\"><td class=\"tf ltr\">5</td><td class=\"tf ltr\"><span class=\"tfsechead ltr\"><span class=\"ltr\"><a target=\"_blank\" href=\"https://public.mondriaan.org/letters/proeftuin/19090905y_IONG_1295/6&amp;version=0.7\" title=\"Show this on the website\" sec=\"proeftuin@19090905y_IONG_1295:6\">proeftuin@19090905y_IONG_1295:6</a></span></span></td><td class=\"tf ltr\"><span class=\" ubd\"><span class=\"plain   hlbx\" > <div class=\"graphic_set\"><div class=\"graphic_item\"><img src=\"illustrations/artwork-m-12639.jpg\" class=\"graphic_img\" /><span class=\"graphic_caption\">Piet Mondriaan, Leo Gestel, <i>Meisjeskop, 1910 Alkmaar, Stedelijk Museum Alkmaar, inv./cat.nr. [..]</i>. conté on papier. <a target=\"_blank\" href=\"https://rkd.nl/explore/images/277201\" title=\"visit this artwork on the RKD site\">RKD 277201►</a></span></div></div><span class=\"txtu\"><span class=\" is_note\">het </span></span><span class=\"txtu\"><span class=\" is_note\">krijtportret </span></span></span></span></td></tr>\n",
       "<tr class=\"tf ltr\"><td class=\"tf ltr\">6</td><td class=\"tf ltr\"><span class=\"tfsechead ltr\"><span class=\"ltr\"><a target=\"_blank\" href=\"https://public.mondriaan.org/letters/proeftuin/19091024y_IONG_1297/6&amp;version=0.7\" title=\"Show this on the website\" sec=\"proeftuin@19091024y_IONG_1297:6\">proeftuin@19091024y_IONG_1297:6</a></span></span></td><td class=\"tf ltr\"><span class=\" ubd\"><span class=\"plain   hlbx\" > <div class=\"graphic_set\"><div class=\"graphic_item\"><img src=\"illustrations/artwork-m-12701.jpg\" class=\"graphic_img\" /><span class=\"graphic_caption\">Piet Mondriaan, <i>Lelie (authentiek), eind 1909 The Hague, Kunstmuseum Den Haag, inv./cat.nr. [..]</i>. houtskool, zwart krijt, gewassen in zwart on papier. <a target=\"_blank\" href=\"https://rkd.nl/explore/images/68728\" title=\"visit this artwork on the RKD site\">RKD 68728►</a></span></div></div><span class=\"txtu\"><span class=\" is_note\">Lily**] (</span></span><span class=\"txtu\"><span class=\" is_note\">A619) </span></span></span></span></td></tr>\n",
       "<tr class=\"tf ltr\"><td class=\"tf ltr\">7</td><td class=\"tf ltr\"><span class=\"tfsechead ltr\"><span class=\"ltr\"><a target=\"_blank\" href=\"https://public.mondriaan.org/letters/proeftuin/19100131_SAAL_ARNO_0018/6&amp;version=0.7\" title=\"Show this on the website\" sec=\"proeftuin@19100131_SAAL_ARNO_0018:6\">proeftuin@19100131_SAAL_ARNO_0018:6</a></span></span></td><td class=\"tf ltr\"><span class=\" ubd\"><span class=\"plain   hlbx\" > <div class=\"graphic_set\"><div class=\"graphic_item\"><img src=\"illustrations/artwork-m-12722.jpg\" class=\"graphic_img\" /><span class=\"graphic_caption\">Piet Mondriaan, <i>Dying sunflower II, 1908 The Hague, Kunstmuseum Den Haag, inv./cat.nr. [..]</i>. olieverf on karton. <a target=\"_blank\" href=\"https://rkd.nl/explore/images/268864\" title=\"visit this artwork on the RKD site\">RKD 268864►</a></span></div></div><span class=\"txtu\"><span class=\"r_italics is_note\">Dying </span></span><span class=\"txtu\"><span class=\"r_italics is_note\">sunflower </span></span><span class=\"txtu\"><span class=\"r_italics is_note\">II </span></span></span></span></td></tr>\n",
       "<tr class=\"tf ltr\"><td class=\"tf ltr\">8</td><td class=\"tf ltr\"><span class=\"tfsechead ltr\"><span class=\"ltr\"><a target=\"_blank\" href=\"https://public.mondriaan.org/letters/proeftuin/19100131_SAAL_ARNO_0018/6&amp;version=0.7\" title=\"Show this on the website\" sec=\"proeftuin@19100131_SAAL_ARNO_0018:6\">proeftuin@19100131_SAAL_ARNO_0018:6</a></span></span></td><td class=\"tf ltr\"><span class=\" ubd\"><span class=\"plain   hlbx\" > <div class=\"graphic_set\"><div class=\"graphic_item\"><img src=\"illustrations/artwork-m-12729.jpg\" class=\"graphic_img\" /><span class=\"graphic_caption\">Piet Mondriaan, <i>Dying sunflower II, 1908 The Hague, Kunstmuseum Den Haag, inv./cat.nr. [..]</i>. olieverf on karton. <a target=\"_blank\" href=\"https://rkd.nl/explore/images/268864\" title=\"visit this artwork on the RKD site\">RKD 268864►</a></span></div></div><span class=\"txtu\"><span class=\"r_italics is_note\">Dying </span></span><span class=\"txtu\"><span class=\"r_italics is_note\">sunflower </span></span><span class=\"txtu\"><span class=\"r_italics is_note\">II; </span></span></span></span></td></tr></table>"
      ],
      "text/plain": [
       "<IPython.core.display.HTML object>"
      ]
     },
     "metadata": {},
     "output_type": "display_data"
    }
   ],
   "source": [
    "A.table(results, end=25)"
   ]
  },
  {
   "cell_type": "markdown",
   "metadata": {
    "tags": []
   },
   "source": [
    "---\n",
    "\n",
    "# Next steps\n",
    "\n",
    "By now you have an impression how to orient yourself in this corpus.\n",
    "The next steps will show you how to get powerful: searching and computing.\n",
    "\n",
    "After that it is time for collecting results, use them in new annotations and share them.\n",
    "\n",
    "* **start** intro and highlights\n",
    "* **[explore](explore.ipynb)** explore the corpus by coding away in it\n",
    "* **[search](search.ipynb)** turbo charge your hand-coding with search templates\n",
    "* **[exportExcel](exportExcel.ipynb)** make tailor-made spreadsheets out of your results\n",
    "\n",
    "CC-BY Dirk Roorda"
   ]
  }
 ],
 "metadata": {
  "kernelspec": {
   "display_name": "Python 3 (ipykernel)",
   "language": "python",
   "name": "python3"
  },
  "language_info": {
   "codemirror_mode": {
    "name": "ipython",
    "version": 3
   },
   "file_extension": ".py",
   "mimetype": "text/x-python",
   "name": "python",
   "nbconvert_exporter": "python",
   "pygments_lexer": "ipython3",
   "version": "3.11.1"
  },
  "toc": {
   "base_numbering": 1,
   "nav_menu": {},
   "number_sections": true,
   "sideBar": true,
   "skip_h1_title": true,
   "title_cell": "Table of Contents",
   "title_sidebar": "Contents",
   "toc_cell": true,
   "toc_position": {
    "height": "607px",
    "left": "0px",
    "right": "983px",
    "top": "110px",
    "width": "297px"
   },
   "toc_section_display": "block",
   "toc_window_display": false
  },
  "widgets": {
   "application/vnd.jupyter.widget-state+json": {
    "state": {},
    "version_major": 2,
    "version_minor": 0
   }
  }
 },
 "nbformat": 4,
 "nbformat_minor": 4
}
