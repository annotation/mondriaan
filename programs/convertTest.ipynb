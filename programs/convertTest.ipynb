{
 "cells": [
  {
   "cell_type": "code",
   "execution_count": 1,
   "id": "d034188d-4ab6-4b1d-8d34-8eaf2f710d51",
   "metadata": {},
   "outputs": [],
   "source": [
    "%load_ext autoreload\n",
    "%autoreload 2"
   ]
  },
  {
   "cell_type": "code",
   "execution_count": 2,
   "id": "f28f1de2-05e6-4586-a1a5-5559f2f3b220",
   "metadata": {},
   "outputs": [],
   "source": [
    "import collections\n",
    "from tf.app import use\n",
    "from tf.convert.tei import TEI\n",
    "from tf.convert.addnlp import NLPipeline\n",
    "from tf.advanced.helpers import dm"
   ]
  },
  {
   "cell_type": "code",
   "execution_count": 3,
   "id": "94d6e6ad-f618-441e-8022-abec110cf213",
   "metadata": {},
   "outputs": [],
   "source": [
    "ORG = \"annotation\"\n",
    "REPO = \"mondriaan\""
   ]
  },
  {
   "cell_type": "markdown",
   "id": "ac4e64e0-51fc-4d51-bd04-435253223bc7",
   "metadata": {},
   "source": [
    "# Inspecting - exploring - testing\n",
    "\n",
    "After the conversion, we inspect the corpus, explore what is in it and what you can do with it,\n",
    "and test whether things have been converted rightly."
   ]
  },
  {
   "cell_type": "markdown",
   "id": "1897e87c-fa92-4d34-85c9-7c63b31116d1",
   "metadata": {
    "tags": []
   },
   "source": [
    "# Use the new dataset\n",
    "\n",
    "We can now use the resulting dataset in the usual way.\n",
    "Because we have adapted the TF app, the version without the `pre` will now be loaded."
   ]
  },
  {
   "cell_type": "code",
   "execution_count": 22,
   "id": "ba45a8bb-6025-4700-b038-50a2bc77bbad",
   "metadata": {},
   "outputs": [
    {
     "data": {
      "text/markdown": [
       "**Locating corpus resources ...**"
      ],
      "text/plain": [
       "<IPython.core.display.Markdown object>"
      ]
     },
     "metadata": {},
     "output_type": "display_data"
    },
    {
     "data": {
      "text/html": [
       "<b title=\"local github\">app:</b> <span title=\"repo clone offline under /Users/me/github\">~/github/annotation/mondriaan/app</span>"
      ],
      "text/plain": [
       "<IPython.core.display.HTML object>"
      ]
     },
     "metadata": {},
     "output_type": "display_data"
    },
    {
     "data": {
      "text/html": [
       "<b title=\"local github\">data:</b> <span title=\"repo clone offline under /Users/me/github\">~/github/annotation/mondriaan/tf/0.8.13</span>"
      ],
      "text/plain": [
       "<IPython.core.display.HTML object>"
      ]
     },
     "metadata": {},
     "output_type": "display_data"
    },
    {
     "data": {
      "text/html": [
       "\n",
       "            <b>Text-Fabric:</b> <a target=\"_blank\" href=\"https://annotation.github.io/text-fabric/tf/cheatsheet.html\" title=\"text-fabric-api\">Text-Fabric API 11.5.1</a>, <a target=\"_blank\" href=\"https://github.com/annotation/mondriaan/blob/master/app\" title=\"annotation/mondriaan app\">annotation/mondriaan/app  v3</a>, <a target=\"_blank\" href=\"https://annotation.github.io/text-fabric/tf/about/searchusage.html\" title=\"Search Templates Introduction and Reference\">Search Reference</a><br>\n",
       "            <b>Data:</b> <a target=\"_blank\" href=\"https://github.com/annotation/mondriaan/blob/master/docs/about.md\" title=\"provenance of annotation - mondriaan/tf\">annotation - mondriaan 0.8.13</a>, <a target=\"_blank\" href=\"https://annotation.github.io/text-fabric/tf/writing/\" title=\"How TF features represent text\">Character table</a>, <a target=\"_blank\" href=\"https://github.com/annotation/mondriaan/blob/master/docs/transcription.md\" title=\"annotation - mondriaan feature documentation\">Feature docs</a><br>\n",
       "            <details class=\"nodeinfo\"><summary><b>Node types</b></summary>\n",
       "<table class=\"nodeinfo\">\n",
       "    <tr>\n",
       "        <th>Name</th>\n",
       "        <th># of nodes</th>\n",
       "        <th># slots/node</th>\n",
       "        <th>% coverage</th>\n",
       "    </tr>\n",
       "\n",
       "<tr>\n",
       "    <th>folder</th>\n",
       "    <td>2</td>\n",
       "    <td>8855.50</td>\n",
       "    <td><b>100</b></td>\n",
       "</tr>\n",
       "\n",
       "<tr>\n",
       "    <th>bibliolist</th>\n",
       "    <td>1</td>\n",
       "    <td>3144.00</td>\n",
       "    <td>18</td>\n",
       "</tr>\n",
       "\n",
       "<tr>\n",
       "    <th>listBibl</th>\n",
       "    <td>2</td>\n",
       "    <td>1546.50</td>\n",
       "    <td>17</td>\n",
       "</tr>\n",
       "\n",
       "<tr>\n",
       "    <th>file</th>\n",
       "    <td>16</td>\n",
       "    <td>1106.94</td>\n",
       "    <td><b>100</b></td>\n",
       "</tr>\n",
       "\n",
       "<tr>\n",
       "    <th>letter</th>\n",
       "    <td>14</td>\n",
       "    <td>1001.50</td>\n",
       "    <td>79</td>\n",
       "</tr>\n",
       "\n",
       "<tr>\n",
       "    <th>body</th>\n",
       "    <td>16</td>\n",
       "    <td>664.69</td>\n",
       "    <td>60</td>\n",
       "</tr>\n",
       "\n",
       "<tr>\n",
       "    <th>text</th>\n",
       "    <td>16</td>\n",
       "    <td>664.69</td>\n",
       "    <td>60</td>\n",
       "</tr>\n",
       "\n",
       "<tr>\n",
       "    <th>artworklist</th>\n",
       "    <td>1</td>\n",
       "    <td>546.00</td>\n",
       "    <td>3</td>\n",
       "</tr>\n",
       "\n",
       "<tr>\n",
       "    <th>listObject</th>\n",
       "    <td>1</td>\n",
       "    <td>501.00</td>\n",
       "    <td>3</td>\n",
       "</tr>\n",
       "\n",
       "<tr>\n",
       "    <th>standOff</th>\n",
       "    <td>14</td>\n",
       "    <td>358.71</td>\n",
       "    <td>28</td>\n",
       "</tr>\n",
       "\n",
       "<tr>\n",
       "    <th>div</th>\n",
       "    <td>31</td>\n",
       "    <td>326.00</td>\n",
       "    <td>57</td>\n",
       "</tr>\n",
       "\n",
       "<tr>\n",
       "    <th>page</th>\n",
       "    <td>51</td>\n",
       "    <td>125.80</td>\n",
       "    <td>36</td>\n",
       "</tr>\n",
       "\n",
       "<tr>\n",
       "    <th>listAnnotation</th>\n",
       "    <td>52</td>\n",
       "    <td>96.58</td>\n",
       "    <td>28</td>\n",
       "</tr>\n",
       "\n",
       "<tr>\n",
       "    <th>chunk</th>\n",
       "    <td>222</td>\n",
       "    <td>79.78</td>\n",
       "    <td><b>100</b></td>\n",
       "</tr>\n",
       "\n",
       "<tr>\n",
       "    <th>teiHeader</th>\n",
       "    <td>16</td>\n",
       "    <td>119.12</td>\n",
       "    <td>11</td>\n",
       "</tr>\n",
       "\n",
       "<tr>\n",
       "    <th>revisionDesc</th>\n",
       "    <td>14</td>\n",
       "    <td>69.00</td>\n",
       "    <td>5</td>\n",
       "</tr>\n",
       "\n",
       "<tr>\n",
       "    <th>p</th>\n",
       "    <td>96</td>\n",
       "    <td>67.26</td>\n",
       "    <td>36</td>\n",
       "</tr>\n",
       "\n",
       "<tr>\n",
       "    <th>postscript</th>\n",
       "    <td>6</td>\n",
       "    <td>62.50</td>\n",
       "    <td>2</td>\n",
       "</tr>\n",
       "\n",
       "<tr>\n",
       "    <th>artwork</th>\n",
       "    <td>10</td>\n",
       "    <td>47.70</td>\n",
       "    <td>3</td>\n",
       "</tr>\n",
       "\n",
       "<tr>\n",
       "    <th>note</th>\n",
       "    <td>116</td>\n",
       "    <td>44.26</td>\n",
       "    <td>29</td>\n",
       "</tr>\n",
       "\n",
       "<tr>\n",
       "    <th>fileDesc</th>\n",
       "    <td>16</td>\n",
       "    <td>42.06</td>\n",
       "    <td>4</td>\n",
       "</tr>\n",
       "\n",
       "<tr>\n",
       "    <th>bibl</th>\n",
       "    <td>109</td>\n",
       "    <td>28.70</td>\n",
       "    <td>18</td>\n",
       "</tr>\n",
       "\n",
       "<tr>\n",
       "    <th>titleStmt</th>\n",
       "    <td>16</td>\n",
       "    <td>22.44</td>\n",
       "    <td>2</td>\n",
       "</tr>\n",
       "\n",
       "<tr>\n",
       "    <th>msDesc</th>\n",
       "    <td>14</td>\n",
       "    <td>20.00</td>\n",
       "    <td>2</td>\n",
       "</tr>\n",
       "\n",
       "<tr>\n",
       "    <th>sourceDesc</th>\n",
       "    <td>16</td>\n",
       "    <td>18.50</td>\n",
       "    <td>2</td>\n",
       "</tr>\n",
       "\n",
       "<tr>\n",
       "    <th>msIdentifier</th>\n",
       "    <td>14</td>\n",
       "    <td>15.86</td>\n",
       "    <td>1</td>\n",
       "</tr>\n",
       "\n",
       "<tr>\n",
       "    <th>correspDesc</th>\n",
       "    <td>14</td>\n",
       "    <td>15.50</td>\n",
       "    <td>1</td>\n",
       "</tr>\n",
       "\n",
       "<tr>\n",
       "    <th>profileDesc</th>\n",
       "    <td>14</td>\n",
       "    <td>15.50</td>\n",
       "    <td>1</td>\n",
       "</tr>\n",
       "\n",
       "<tr>\n",
       "    <th>closer</th>\n",
       "    <td>30</td>\n",
       "    <td>12.83</td>\n",
       "    <td>2</td>\n",
       "</tr>\n",
       "\n",
       "<tr>\n",
       "    <th>address</th>\n",
       "    <td>4</td>\n",
       "    <td>12.50</td>\n",
       "    <td>0</td>\n",
       "</tr>\n",
       "\n",
       "<tr>\n",
       "    <th>sentence</th>\n",
       "    <td>1452</td>\n",
       "    <td>11.52</td>\n",
       "    <td>94</td>\n",
       "</tr>\n",
       "\n",
       "<tr>\n",
       "    <th>desc</th>\n",
       "    <td>10</td>\n",
       "    <td>11.10</td>\n",
       "    <td>1</td>\n",
       "</tr>\n",
       "\n",
       "<tr>\n",
       "    <th>title</th>\n",
       "    <td>159</td>\n",
       "    <td>10.33</td>\n",
       "    <td>9</td>\n",
       "</tr>\n",
       "\n",
       "<tr>\n",
       "    <th>facsimile</th>\n",
       "    <td>14</td>\n",
       "    <td>8.43</td>\n",
       "    <td>1</td>\n",
       "</tr>\n",
       "\n",
       "<tr>\n",
       "    <th>classDecl</th>\n",
       "    <td>1</td>\n",
       "    <td>8.00</td>\n",
       "    <td>0</td>\n",
       "</tr>\n",
       "\n",
       "<tr>\n",
       "    <th>encodingDesc</th>\n",
       "    <td>1</td>\n",
       "    <td>8.00</td>\n",
       "    <td>0</td>\n",
       "</tr>\n",
       "\n",
       "<tr>\n",
       "    <th>correspAction</th>\n",
       "    <td>28</td>\n",
       "    <td>7.75</td>\n",
       "    <td>1</td>\n",
       "</tr>\n",
       "\n",
       "<tr>\n",
       "    <th>change</th>\n",
       "    <td>168</td>\n",
       "    <td>5.75</td>\n",
       "    <td>5</td>\n",
       "</tr>\n",
       "\n",
       "<tr>\n",
       "    <th>opener</th>\n",
       "    <td>28</td>\n",
       "    <td>5.00</td>\n",
       "    <td>1</td>\n",
       "</tr>\n",
       "\n",
       "<tr>\n",
       "    <th>salute</th>\n",
       "    <td>56</td>\n",
       "    <td>5.12</td>\n",
       "    <td>2</td>\n",
       "</tr>\n",
       "\n",
       "<tr>\n",
       "    <th>addrLine</th>\n",
       "    <td>6</td>\n",
       "    <td>4.83</td>\n",
       "    <td>0</td>\n",
       "</tr>\n",
       "\n",
       "<tr>\n",
       "    <th>date</th>\n",
       "    <td>26</td>\n",
       "    <td>4.73</td>\n",
       "    <td>1</td>\n",
       "</tr>\n",
       "\n",
       "<tr>\n",
       "    <th>head</th>\n",
       "    <td>14</td>\n",
       "    <td>4.14</td>\n",
       "    <td>0</td>\n",
       "</tr>\n",
       "\n",
       "<tr>\n",
       "    <th>physDesc</th>\n",
       "    <td>14</td>\n",
       "    <td>4.14</td>\n",
       "    <td>0</td>\n",
       "</tr>\n",
       "\n",
       "<tr>\n",
       "    <th>author</th>\n",
       "    <td>1</td>\n",
       "    <td>4.00</td>\n",
       "    <td>0</td>\n",
       "</tr>\n",
       "\n",
       "<tr>\n",
       "    <th>dateline</th>\n",
       "    <td>6</td>\n",
       "    <td>4.00</td>\n",
       "    <td>0</td>\n",
       "</tr>\n",
       "\n",
       "<tr>\n",
       "    <th>institution</th>\n",
       "    <td>14</td>\n",
       "    <td>3.79</td>\n",
       "    <td>0</td>\n",
       "</tr>\n",
       "\n",
       "<tr>\n",
       "    <th>name</th>\n",
       "    <td>28</td>\n",
       "    <td>3.39</td>\n",
       "    <td>1</td>\n",
       "</tr>\n",
       "\n",
       "<tr>\n",
       "    <th>catRef</th>\n",
       "    <td>43</td>\n",
       "    <td>3.16</td>\n",
       "    <td>1</td>\n",
       "</tr>\n",
       "\n",
       "<tr>\n",
       "    <th>ref</th>\n",
       "    <td>75</td>\n",
       "    <td>3.12</td>\n",
       "    <td>1</td>\n",
       "</tr>\n",
       "\n",
       "<tr>\n",
       "    <th>decoDesc</th>\n",
       "    <td>14</td>\n",
       "    <td>3.00</td>\n",
       "    <td>0</td>\n",
       "</tr>\n",
       "\n",
       "<tr>\n",
       "    <th>editor</th>\n",
       "    <td>28</td>\n",
       "    <td>3.00</td>\n",
       "    <td>0</td>\n",
       "</tr>\n",
       "\n",
       "<tr>\n",
       "    <th>sponsor</th>\n",
       "    <td>14</td>\n",
       "    <td>3.00</td>\n",
       "    <td>0</td>\n",
       "</tr>\n",
       "\n",
       "<tr>\n",
       "    <th>signed</th>\n",
       "    <td>30</td>\n",
       "    <td>2.60</td>\n",
       "    <td>0</td>\n",
       "</tr>\n",
       "\n",
       "<tr>\n",
       "    <th>choice</th>\n",
       "    <td>15</td>\n",
       "    <td>2.47</td>\n",
       "    <td>0</td>\n",
       "</tr>\n",
       "\n",
       "<tr>\n",
       "    <th>placeName</th>\n",
       "    <td>14</td>\n",
       "    <td>2.43</td>\n",
       "    <td>0</td>\n",
       "</tr>\n",
       "\n",
       "<tr>\n",
       "    <th>hi</th>\n",
       "    <td>66</td>\n",
       "    <td>2.42</td>\n",
       "    <td>1</td>\n",
       "</tr>\n",
       "\n",
       "<tr>\n",
       "    <th>surface</th>\n",
       "    <td>49</td>\n",
       "    <td>2.41</td>\n",
       "    <td>1</td>\n",
       "</tr>\n",
       "\n",
       "<tr>\n",
       "    <th>idno</th>\n",
       "    <td>42</td>\n",
       "    <td>2.33</td>\n",
       "    <td>1</td>\n",
       "</tr>\n",
       "\n",
       "<tr>\n",
       "    <th>rs</th>\n",
       "    <td>205</td>\n",
       "    <td>2.26</td>\n",
       "    <td>3</td>\n",
       "</tr>\n",
       "\n",
       "<tr>\n",
       "    <th>zone</th>\n",
       "    <td>14</td>\n",
       "    <td>2.21</td>\n",
       "    <td>0</td>\n",
       "</tr>\n",
       "\n",
       "<tr>\n",
       "    <th>decoNote</th>\n",
       "    <td>14</td>\n",
       "    <td>2.07</td>\n",
       "    <td>0</td>\n",
       "</tr>\n",
       "\n",
       "<tr>\n",
       "    <th>settlement</th>\n",
       "    <td>14</td>\n",
       "    <td>2.07</td>\n",
       "    <td>0</td>\n",
       "</tr>\n",
       "\n",
       "<tr>\n",
       "    <th>abbr</th>\n",
       "    <td>2</td>\n",
       "    <td>2.00</td>\n",
       "    <td>0</td>\n",
       "</tr>\n",
       "\n",
       "<tr>\n",
       "    <th>accMat</th>\n",
       "    <td>1</td>\n",
       "    <td>2.00</td>\n",
       "    <td>0</td>\n",
       "</tr>\n",
       "\n",
       "<tr>\n",
       "    <th>altIdentifier</th>\n",
       "    <td>28</td>\n",
       "    <td>2.00</td>\n",
       "    <td>0</td>\n",
       "</tr>\n",
       "\n",
       "<tr>\n",
       "    <th>country</th>\n",
       "    <td>14</td>\n",
       "    <td>2.00</td>\n",
       "    <td>0</td>\n",
       "</tr>\n",
       "\n",
       "<tr>\n",
       "    <th>taxonomy</th>\n",
       "    <td>4</td>\n",
       "    <td>2.00</td>\n",
       "    <td>0</td>\n",
       "</tr>\n",
       "\n",
       "<tr>\n",
       "    <th>del</th>\n",
       "    <td>9</td>\n",
       "    <td>1.67</td>\n",
       "    <td>0</td>\n",
       "</tr>\n",
       "\n",
       "<tr>\n",
       "    <th>reg</th>\n",
       "    <td>11</td>\n",
       "    <td>1.27</td>\n",
       "    <td>0</td>\n",
       "</tr>\n",
       "\n",
       "<tr>\n",
       "    <th>orig</th>\n",
       "    <td>11</td>\n",
       "    <td>1.18</td>\n",
       "    <td>0</td>\n",
       "</tr>\n",
       "\n",
       "<tr>\n",
       "    <th>add</th>\n",
       "    <td>8</td>\n",
       "    <td>1.12</td>\n",
       "    <td>0</td>\n",
       "</tr>\n",
       "\n",
       "<tr>\n",
       "    <th>publicationStmt</th>\n",
       "    <td>16</td>\n",
       "    <td>1.12</td>\n",
       "    <td>0</td>\n",
       "</tr>\n",
       "\n",
       "<tr>\n",
       "    <th>token</th>\n",
       "    <td>17516</td>\n",
       "    <td>1.00</td>\n",
       "    <td>99</td>\n",
       "</tr>\n",
       "\n",
       "<tr>\n",
       "    <th>expan</th>\n",
       "    <td>2</td>\n",
       "    <td>1.00</td>\n",
       "    <td>0</td>\n",
       "</tr>\n",
       "\n",
       "<tr>\n",
       "    <th>graphic</th>\n",
       "    <td>73</td>\n",
       "    <td>1.00</td>\n",
       "    <td>0</td>\n",
       "</tr>\n",
       "\n",
       "<tr>\n",
       "    <th>lb</th>\n",
       "    <td>6</td>\n",
       "    <td>1.00</td>\n",
       "    <td>0</td>\n",
       "</tr>\n",
       "\n",
       "<tr>\n",
       "    <th>measure</th>\n",
       "    <td>20</td>\n",
       "    <td>1.00</td>\n",
       "    <td>0</td>\n",
       "</tr>\n",
       "\n",
       "<tr>\n",
       "    <th>objectDesc</th>\n",
       "    <td>14</td>\n",
       "    <td>1.00</td>\n",
       "    <td>0</td>\n",
       "</tr>\n",
       "\n",
       "<tr>\n",
       "    <th>postmark</th>\n",
       "    <td>2</td>\n",
       "    <td>1.00</td>\n",
       "    <td>0</td>\n",
       "</tr>\n",
       "\n",
       "<tr>\n",
       "    <th>ptr</th>\n",
       "    <td>82</td>\n",
       "    <td>1.00</td>\n",
       "    <td>0</td>\n",
       "</tr>\n",
       "\n",
       "<tr>\n",
       "    <th>relation</th>\n",
       "    <td>10</td>\n",
       "    <td>1.00</td>\n",
       "    <td>0</td>\n",
       "</tr>\n",
       "\n",
       "<tr>\n",
       "    <th>space</th>\n",
       "    <td>9</td>\n",
       "    <td>1.00</td>\n",
       "    <td>0</td>\n",
       "</tr>\n",
       "\n",
       "<tr>\n",
       "    <th>unclear</th>\n",
       "    <td>4</td>\n",
       "    <td>1.00</td>\n",
       "    <td>0</td>\n",
       "</tr>\n",
       "\n",
       "<tr>\n",
       "    <th><i>t</i></th>\n",
       "    <td>17711</td>\n",
       "    <td>1.00</td>\n",
       "    <td><b>100</b></td>\n",
       "</tr>\n",
       "</table></details>\n",
       "            <b>Sets:</b> no custom sets<br>\n",
       "            <b>Features:</b><br>\n",
       "<details><summary><b>annotation - mondriaan/tf</b></summary>\n",
       "    <div class=\"fcorpus\">\n",
       "\n",
       "<div class=\"frow\">\n",
       "    <div class=\"fnamecat \">\n",
       "<a target=\"_blank\" href=\"https://github.com/annotation/mondriaan/blob/master/docs/transcription.md\" title=\"~/github/annotation/mondriaan/tf/0.8.13/after.tf\">after</a>\n",
       "</div>\n",
       "<div class=\"fmono\">str</div>\n",
       "\n",
       "<span> the text after a word till the next word</span>\n",
       "\n",
       "</div>\n",
       "\n",
       "<div class=\"frow\">\n",
       "    <div class=\"fnamecat \">\n",
       "<a target=\"_blank\" href=\"https://github.com/annotation/mondriaan/blob/master/docs/transcription.md\" title=\"~/github/annotation/mondriaan/tf/0.8.13/artmondriaanref.tf\">artmondriaanref</a>\n",
       "</div>\n",
       "<div class=\"fmono\">str</div>\n",
       "\n",
       "<span> Reference key to the details of an artwork by Mondriaan; the content is taken from rs@key[type=artwork-m]</span>\n",
       "\n",
       "</div>\n",
       "\n",
       "<div class=\"frow\">\n",
       "    <div class=\"fnamecat \">\n",
       "<a target=\"_blank\" href=\"https://github.com/annotation/mondriaan/blob/master/docs/transcription.md\" title=\"~/github/annotation/mondriaan/tf/0.8.13/chunk.tf\">chunk</a>\n",
       "</div>\n",
       "<div class=\"fmono\">int</div>\n",
       "\n",
       "<span> number of a chunk within a document</span>\n",
       "\n",
       "</div>\n",
       "\n",
       "<div class=\"frow\">\n",
       "    <div class=\"fnamecat \">\n",
       "<a target=\"_blank\" href=\"https://github.com/annotation/mondriaan/blob/master/docs/transcription.md\" title=\"~/github/annotation/mondriaan/tf/0.8.13/commodity.tf\">commodity</a>\n",
       "</div>\n",
       "<div class=\"fmono\">str</div>\n",
       "\n",
       "<span> this is TEI attribute commodity</span>\n",
       "\n",
       "</div>\n",
       "\n",
       "<div class=\"frow\">\n",
       "    <div class=\"fnamecat \">\n",
       "<a target=\"_blank\" href=\"https://github.com/annotation/mondriaan/blob/master/docs/transcription.md\" title=\"~/github/annotation/mondriaan/tf/0.8.13/corresp.tf\">corresp</a>\n",
       "</div>\n",
       "<div class=\"fmono\">str</div>\n",
       "\n",
       "<span> this is TEI attribute corresp</span>\n",
       "\n",
       "</div>\n",
       "\n",
       "<div class=\"frow\">\n",
       "    <div class=\"fnamecat \">\n",
       "<a target=\"_blank\" href=\"https://github.com/annotation/mondriaan/blob/master/docs/transcription.md\" title=\"~/github/annotation/mondriaan/tf/0.8.13/correspondent.tf\">correspondent</a>\n",
       "</div>\n",
       "<div class=\"fmono\">str</div>\n",
       "\n",
       "<span> The person that Mondriaan corresponded with; the content is taken from profileDesc/correspDesc/correspAction[type=received]/name</span>\n",
       "\n",
       "</div>\n",
       "\n",
       "<div class=\"frow\">\n",
       "    <div class=\"fnamecat \">\n",
       "<a target=\"_blank\" href=\"https://github.com/annotation/mondriaan/blob/master/docs/transcription.md\" title=\"~/github/annotation/mondriaan/tf/0.8.13/country.tf\">country</a>\n",
       "</div>\n",
       "<div class=\"fmono\">str</div>\n",
       "\n",
       "<span> The country of preservation of a letter; the content is taken from sourceDesc/msDesc/msIdentifier/country</span>\n",
       "\n",
       "</div>\n",
       "\n",
       "<div class=\"frow\">\n",
       "    <div class=\"fnamecat \">\n",
       "<a target=\"_blank\" href=\"https://github.com/annotation/mondriaan/blob/master/docs/transcription.md\" title=\"~/github/annotation/mondriaan/tf/0.8.13/dim.tf\">dim</a>\n",
       "</div>\n",
       "<div class=\"fmono\">str</div>\n",
       "\n",
       "<span> this is TEI attribute dim</span>\n",
       "\n",
       "</div>\n",
       "\n",
       "<div class=\"frow\">\n",
       "    <div class=\"fnamecat \">\n",
       "<a target=\"_blank\" href=\"https://github.com/annotation/mondriaan/blob/master/docs/transcription.md\" title=\"~/github/annotation/mondriaan/tf/0.8.13/empty.tf\">empty</a>\n",
       "</div>\n",
       "<div class=\"fmono\">int</div>\n",
       "\n",
       "<span> whether a slot has been inserted in an empty element</span>\n",
       "\n",
       "</div>\n",
       "\n",
       "<div class=\"frow\">\n",
       "    <div class=\"fnamecat \">\n",
       "<a target=\"_blank\" href=\"https://github.com/annotation/mondriaan/blob/master/docs/transcription.md\" title=\"~/github/annotation/mondriaan/tf/0.8.13/exhibitionref.tf\">exhibitionref</a>\n",
       "</div>\n",
       "<div class=\"fmono\">str</div>\n",
       "\n",
       "<span> Reference key to the details of an exhibition; the content is taken from rs@key[type=exhibition]</span>\n",
       "\n",
       "</div>\n",
       "\n",
       "<div class=\"frow\">\n",
       "    <div class=\"fnamecat \">\n",
       "<a target=\"_blank\" href=\"https://github.com/annotation/mondriaan/blob/master/docs/transcription.md\" title=\"~/github/annotation/mondriaan/tf/0.8.13/extraspace.tf\">extraspace</a>\n",
       "</div>\n",
       "<div class=\"fmono\">str</div>\n",
       "\n",
       "<span> whether a space has been added after a character, when it is in the direct child of a pure XML element</span>\n",
       "\n",
       "</div>\n",
       "\n",
       "<div class=\"frow\">\n",
       "    <div class=\"fnamecat \">\n",
       "<a target=\"_blank\" href=\"https://github.com/annotation/mondriaan/blob/master/docs/transcription.md\" title=\"~/github/annotation/mondriaan/tf/0.8.13/f.tf\">f</a>\n",
       "</div>\n",
       "<div class=\"fmono\">str</div>\n",
       "\n",
       "<span> this is TEI attribute f</span>\n",
       "\n",
       "</div>\n",
       "\n",
       "<div class=\"frow\">\n",
       "    <div class=\"fnamecat \">\n",
       "<a target=\"_blank\" href=\"https://github.com/annotation/mondriaan/blob/master/docs/transcription.md\" title=\"~/github/annotation/mondriaan/tf/0.8.13/facs.tf\">facs</a>\n",
       "</div>\n",
       "<div class=\"fmono\">str</div>\n",
       "\n",
       "<span> this is TEI attribute facs</span>\n",
       "\n",
       "</div>\n",
       "\n",
       "<div class=\"frow\">\n",
       "    <div class=\"fnamecat \">\n",
       "<a target=\"_blank\" href=\"https://github.com/annotation/mondriaan/blob/master/docs/transcription.md\" title=\"~/github/annotation/mondriaan/tf/0.8.13/file.tf\">file</a>\n",
       "</div>\n",
       "<div class=\"fmono\">str</div>\n",
       "\n",
       "<span> name of source file</span>\n",
       "\n",
       "</div>\n",
       "\n",
       "<div class=\"frow\">\n",
       "    <div class=\"fnamecat \">\n",
       "<a target=\"_blank\" href=\"https://github.com/annotation/mondriaan/blob/master/docs/transcription.md\" title=\"~/github/annotation/mondriaan/tf/0.8.13/folder.tf\">folder</a>\n",
       "</div>\n",
       "<div class=\"fmono\">str</div>\n",
       "\n",
       "<span> name of source folder</span>\n",
       "\n",
       "</div>\n",
       "\n",
       "<div class=\"frow\">\n",
       "    <div class=\"fnamecat \">\n",
       "<a target=\"_blank\" href=\"https://github.com/annotation/mondriaan/blob/master/docs/transcription.md\" title=\"~/github/annotation/mondriaan/tf/0.8.13/form.tf\">form</a>\n",
       "</div>\n",
       "<div class=\"fmono\">str</div>\n",
       "\n",
       "<span> this is TEI attribute form</span>\n",
       "\n",
       "</div>\n",
       "\n",
       "<div class=\"frow\">\n",
       "    <div class=\"fnamecat \">\n",
       "<a target=\"_blank\" href=\"https://github.com/annotation/mondriaan/blob/master/docs/transcription.md\" title=\"~/github/annotation/mondriaan/tf/0.8.13/id.tf\">id</a>\n",
       "</div>\n",
       "<div class=\"fmono\">str</div>\n",
       "\n",
       "<span> this is TEI attribute id</span>\n",
       "\n",
       "</div>\n",
       "\n",
       "<div class=\"frow\">\n",
       "    <div class=\"fnamecat \">\n",
       "<a target=\"_blank\" href=\"https://github.com/annotation/mondriaan/blob/master/docs/transcription.md\" title=\"~/github/annotation/mondriaan/tf/0.8.13/institution.tf\">institution</a>\n",
       "</div>\n",
       "<div class=\"fmono\">str</div>\n",
       "\n",
       "<span> The place where a letter is preserved; the content is taken from sourceDesc/msDesc/msIdentifier/institution</span>\n",
       "\n",
       "</div>\n",
       "\n",
       "<div class=\"frow\">\n",
       "    <div class=\"fnamecat \">\n",
       "<a target=\"_blank\" href=\"https://github.com/annotation/mondriaan/blob/master/docs/transcription.md\" title=\"~/github/annotation/mondriaan/tf/0.8.13/is_meta.tf\">is_meta</a>\n",
       "</div>\n",
       "<div class=\"fmono\">str</div>\n",
       "\n",
       "<span> whether a slot or word is in the teiHeader element</span>\n",
       "\n",
       "</div>\n",
       "\n",
       "<div class=\"frow\">\n",
       "    <div class=\"fnamecat \">\n",
       "<a target=\"_blank\" href=\"https://github.com/annotation/mondriaan/blob/master/docs/transcription.md\" title=\"~/github/annotation/mondriaan/tf/0.8.13/is_note.tf\">is_note</a>\n",
       "</div>\n",
       "<div class=\"fmono\">str</div>\n",
       "\n",
       "<span> whether a slot or word is in the note element</span>\n",
       "\n",
       "</div>\n",
       "\n",
       "<div class=\"frow\">\n",
       "    <div class=\"fnamecat \">\n",
       "<a target=\"_blank\" href=\"https://github.com/annotation/mondriaan/blob/master/docs/transcription.md\" title=\"~/github/annotation/mondriaan/tf/0.8.13/key.tf\">key</a>\n",
       "</div>\n",
       "<div class=\"fmono\">str</div>\n",
       "\n",
       "<span> this is TEI attribute key</span>\n",
       "\n",
       "</div>\n",
       "\n",
       "<div class=\"frow\">\n",
       "    <div class=\"fnamecat \">\n",
       "<a target=\"_blank\" href=\"https://github.com/annotation/mondriaan/blob/master/docs/transcription.md\" title=\"~/github/annotation/mondriaan/tf/0.8.13/lang.tf\">lang</a>\n",
       "</div>\n",
       "<div class=\"fmono\">str</div>\n",
       "\n",
       "<span> this is TEI attribute lang</span>\n",
       "\n",
       "</div>\n",
       "\n",
       "<div class=\"frow\">\n",
       "    <div class=\"fnamecat \">\n",
       "<a target=\"_blank\" href=\"https://github.com/annotation/mondriaan/blob/master/docs/transcription.md\" title=\"~/github/annotation/mondriaan/tf/0.8.13/letterid.tf\">letterid</a>\n",
       "</div>\n",
       "<div class=\"fmono\">str</div>\n",
       "\n",
       "<span> The identifier of a letter; the content is taken from sourceDesc/msDesc/msIdentifier/altIdentifier/idno[type=letterId]</span>\n",
       "\n",
       "</div>\n",
       "\n",
       "<div class=\"frow\">\n",
       "    <div class=\"fnamecat \">\n",
       "<a target=\"_blank\" href=\"https://github.com/annotation/mondriaan/blob/master/docs/transcription.md\" title=\"~/github/annotation/mondriaan/tf/0.8.13/level.tf\">level</a>\n",
       "</div>\n",
       "<div class=\"fmono\">str</div>\n",
       "\n",
       "<span> this is TEI attribute level</span>\n",
       "\n",
       "</div>\n",
       "\n",
       "<div class=\"frow\">\n",
       "    <div class=\"fnamecat \">\n",
       "<a target=\"_blank\" href=\"https://github.com/annotation/mondriaan/blob/master/docs/transcription.md\" title=\"~/github/annotation/mondriaan/tf/0.8.13/location.tf\">location</a>\n",
       "</div>\n",
       "<div class=\"fmono\">str</div>\n",
       "\n",
       "<span> The place from where the letter is sent; the content is taken from profileDesc/correspDesc/correspAction[type=sent]/placeName</span>\n",
       "\n",
       "</div>\n",
       "\n",
       "<div class=\"frow\">\n",
       "    <div class=\"fnamecat \">\n",
       "<a target=\"_blank\" href=\"https://github.com/annotation/mondriaan/blob/master/docs/transcription.md\" title=\"~/github/annotation/mondriaan/tf/0.8.13/msid.tf\">msid</a>\n",
       "</div>\n",
       "<div class=\"fmono\">str</div>\n",
       "\n",
       "<span> The manuscript identifier of a letter; the content is taken from sourceDesc/msDesc/msIdentifier/idno</span>\n",
       "\n",
       "</div>\n",
       "\n",
       "<div class=\"frow\">\n",
       "    <div class=\"fnamecat \">\n",
       "<a target=\"_blank\" href=\"https://github.com/annotation/mondriaan/blob/master/docs/transcription.md\" title=\"~/github/annotation/mondriaan/tf/0.8.13/n.tf\">n</a>\n",
       "</div>\n",
       "<div class=\"fmono\">str</div>\n",
       "\n",
       "<span> this is TEI attribute n</span>\n",
       "\n",
       "</div>\n",
       "\n",
       "<div class=\"frow\">\n",
       "    <div class=\"fnamecat \">\n",
       "<a target=\"_blank\" href=\"https://github.com/annotation/mondriaan/blob/master/docs/transcription.md\" title=\"~/github/annotation/mondriaan/tf/0.8.13/name.tf\">name</a>\n",
       "</div>\n",
       "<div class=\"fmono\">str</div>\n",
       "\n",
       "<span> this is TEI attribute name</span>\n",
       "\n",
       "</div>\n",
       "\n",
       "<div class=\"frow\">\n",
       "    <div class=\"fnamecat \">\n",
       "<a target=\"_blank\" href=\"https://github.com/annotation/mondriaan/blob/master/docs/transcription.md\" title=\"~/github/annotation/mondriaan/tf/0.8.13/nsent.tf\">nsent</a>\n",
       "</div>\n",
       "<div class=\"fmono\">int</div>\n",
       "\n",
       "<span> number of sentence in corpus</span>\n",
       "\n",
       "</div>\n",
       "\n",
       "<div class=\"frow\">\n",
       "    <div class=\"fnamecat \">\n",
       "<a target=\"_blank\" href=\"https://github.com/annotation/mondriaan/blob/master/docs/transcription.md\" title=\"~/github/annotation/mondriaan/tf/0.8.13/otype.tf\">otype</a>\n",
       "</div>\n",
       "<div class=\"fmono\">str</div>\n",
       "\n",
       "<span> </span>\n",
       "\n",
       "</div>\n",
       "\n",
       "<div class=\"frow\">\n",
       "    <div class=\"fnamecat \">\n",
       "<a target=\"_blank\" href=\"https://github.com/annotation/mondriaan/blob/master/docs/transcription.md\" title=\"~/github/annotation/mondriaan/tf/0.8.13/period.tf\">period</a>\n",
       "</div>\n",
       "<div class=\"fmono\">str</div>\n",
       "\n",
       "<span> The date of the letter in YYYY-MM-DD; the content is taken from profileDesc/correspDesc/correspAction[type=sent]/date@when</span>\n",
       "\n",
       "</div>\n",
       "\n",
       "<div class=\"frow\">\n",
       "    <div class=\"fnamecat \">\n",
       "<a target=\"_blank\" href=\"https://github.com/annotation/mondriaan/blob/master/docs/transcription.md\" title=\"~/github/annotation/mondriaan/tf/0.8.13/periodlong.tf\">periodlong</a>\n",
       "</div>\n",
       "<div class=\"fmono\">str</div>\n",
       "\n",
       "<span> The date of the letter as description; the content is taken from profileDesc/correspDesc/correspAction[type=sent]/date</span>\n",
       "\n",
       "</div>\n",
       "\n",
       "<div class=\"frow\">\n",
       "    <div class=\"fnamecat \">\n",
       "<a target=\"_blank\" href=\"https://github.com/annotation/mondriaan/blob/master/docs/transcription.md\" title=\"~/github/annotation/mondriaan/tf/0.8.13/personref.tf\">personref</a>\n",
       "</div>\n",
       "<div class=\"fmono\">str</div>\n",
       "\n",
       "<span> Reference key to the details of a person; the content is taken from rs@ref[type=person]</span>\n",
       "\n",
       "</div>\n",
       "\n",
       "<div class=\"frow\">\n",
       "    <div class=\"fnamecat \">\n",
       "<a target=\"_blank\" href=\"https://github.com/annotation/mondriaan/blob/master/docs/transcription.md\" title=\"~/github/annotation/mondriaan/tf/0.8.13/place.tf\">place</a>\n",
       "</div>\n",
       "<div class=\"fmono\">str</div>\n",
       "\n",
       "<span> this is TEI attribute place</span>\n",
       "\n",
       "</div>\n",
       "\n",
       "<div class=\"frow\">\n",
       "    <div class=\"fnamecat \">\n",
       "<a target=\"_blank\" href=\"https://github.com/annotation/mondriaan/blob/master/docs/transcription.md\" title=\"~/github/annotation/mondriaan/tf/0.8.13/quantity.tf\">quantity</a>\n",
       "</div>\n",
       "<div class=\"fmono\">str</div>\n",
       "\n",
       "<span> this is TEI attribute quantity</span>\n",
       "\n",
       "</div>\n",
       "\n",
       "<div class=\"frow\">\n",
       "    <div class=\"fnamecat \">\n",
       "<a target=\"_blank\" href=\"https://github.com/annotation/mondriaan/blob/master/docs/transcription.md\" title=\"~/github/annotation/mondriaan/tf/0.8.13/reason.tf\">reason</a>\n",
       "</div>\n",
       "<div class=\"fmono\">str</div>\n",
       "\n",
       "<span> this is TEI attribute reason</span>\n",
       "\n",
       "</div>\n",
       "\n",
       "<div class=\"frow\">\n",
       "    <div class=\"fnamecat \">\n",
       "<a target=\"_blank\" href=\"https://github.com/annotation/mondriaan/blob/master/docs/transcription.md\" title=\"~/github/annotation/mondriaan/tf/0.8.13/ref.tf\">ref</a>\n",
       "</div>\n",
       "<div class=\"fmono\">str</div>\n",
       "\n",
       "<span> this is TEI attribute ref</span>\n",
       "\n",
       "</div>\n",
       "\n",
       "<div class=\"frow\">\n",
       "    <div class=\"fnamecat \">\n",
       "<a target=\"_blank\" href=\"https://github.com/annotation/mondriaan/blob/master/docs/transcription.md\" title=\"~/github/annotation/mondriaan/tf/0.8.13/rend.tf\">rend</a>\n",
       "</div>\n",
       "<div class=\"fmono\">str</div>\n",
       "\n",
       "<span> this is TEI attribute rend</span>\n",
       "\n",
       "</div>\n",
       "\n",
       "<div class=\"frow\">\n",
       "    <div class=\"fnamecat \">\n",
       "<a target=\"_blank\" href=\"https://github.com/annotation/mondriaan/blob/master/docs/transcription.md\" title=\"~/github/annotation/mondriaan/tf/0.8.13/rend_above.tf\">rend_above</a>\n",
       "</div>\n",
       "<div class=\"fmono\">int</div>\n",
       "\n",
       "<span> whether text is to be rendered as above</span>\n",
       "\n",
       "</div>\n",
       "\n",
       "<div class=\"frow\">\n",
       "    <div class=\"fnamecat \">\n",
       "<a target=\"_blank\" href=\"https://github.com/annotation/mondriaan/blob/master/docs/transcription.md\" title=\"~/github/annotation/mondriaan/tf/0.8.13/rend_blockletter.tf\">rend_blockletter</a>\n",
       "</div>\n",
       "<div class=\"fmono\">int</div>\n",
       "\n",
       "<span> whether text is to be rendered as blockletter</span>\n",
       "\n",
       "</div>\n",
       "\n",
       "<div class=\"frow\">\n",
       "    <div class=\"fnamecat \">\n",
       "<a target=\"_blank\" href=\"https://github.com/annotation/mondriaan/blob/master/docs/transcription.md\" title=\"~/github/annotation/mondriaan/tf/0.8.13/rend_bold.tf\">rend_bold</a>\n",
       "</div>\n",
       "<div class=\"fmono\">int</div>\n",
       "\n",
       "<span> whether text is to be rendered as bold</span>\n",
       "\n",
       "</div>\n",
       "\n",
       "<div class=\"frow\">\n",
       "    <div class=\"fnamecat \">\n",
       "<a target=\"_blank\" href=\"https://github.com/annotation/mondriaan/blob/master/docs/transcription.md\" title=\"~/github/annotation/mondriaan/tf/0.8.13/rend_center.tf\">rend_center</a>\n",
       "</div>\n",
       "<div class=\"fmono\">int</div>\n",
       "\n",
       "<span> whether text is to be rendered as center</span>\n",
       "\n",
       "</div>\n",
       "\n",
       "<div class=\"frow\">\n",
       "    <div class=\"fnamecat \">\n",
       "<a target=\"_blank\" href=\"https://github.com/annotation/mondriaan/blob/master/docs/transcription.md\" title=\"~/github/annotation/mondriaan/tf/0.8.13/rend_indent.tf\">rend_indent</a>\n",
       "</div>\n",
       "<div class=\"fmono\">int</div>\n",
       "\n",
       "<span> whether text is to be rendered as indent</span>\n",
       "\n",
       "</div>\n",
       "\n",
       "<div class=\"frow\">\n",
       "    <div class=\"fnamecat \">\n",
       "<a target=\"_blank\" href=\"https://github.com/annotation/mondriaan/blob/master/docs/transcription.md\" title=\"~/github/annotation/mondriaan/tf/0.8.13/rend_italics.tf\">rend_italics</a>\n",
       "</div>\n",
       "<div class=\"fmono\">int</div>\n",
       "\n",
       "<span> whether text is to be rendered as italics</span>\n",
       "\n",
       "</div>\n",
       "\n",
       "<div class=\"frow\">\n",
       "    <div class=\"fnamecat \">\n",
       "<a target=\"_blank\" href=\"https://github.com/annotation/mondriaan/blob/master/docs/transcription.md\" title=\"~/github/annotation/mondriaan/tf/0.8.13/rend_overwritten.tf\">rend_overwritten</a>\n",
       "</div>\n",
       "<div class=\"fmono\">int</div>\n",
       "\n",
       "<span> whether text is to be rendered as overwritten</span>\n",
       "\n",
       "</div>\n",
       "\n",
       "<div class=\"frow\">\n",
       "    <div class=\"fnamecat \">\n",
       "<a target=\"_blank\" href=\"https://github.com/annotation/mondriaan/blob/master/docs/transcription.md\" title=\"~/github/annotation/mondriaan/tf/0.8.13/rend_right.tf\">rend_right</a>\n",
       "</div>\n",
       "<div class=\"fmono\">int</div>\n",
       "\n",
       "<span> whether text is to be rendered as right</span>\n",
       "\n",
       "</div>\n",
       "\n",
       "<div class=\"frow\">\n",
       "    <div class=\"fnamecat \">\n",
       "<a target=\"_blank\" href=\"https://github.com/annotation/mondriaan/blob/master/docs/transcription.md\" title=\"~/github/annotation/mondriaan/tf/0.8.13/rend_right_underline.tf\">rend_right_underline</a>\n",
       "</div>\n",
       "<div class=\"fmono\">int</div>\n",
       "\n",
       "<span> whether text is to be rendered as right_underline</span>\n",
       "\n",
       "</div>\n",
       "\n",
       "<div class=\"frow\">\n",
       "    <div class=\"fnamecat \">\n",
       "<a target=\"_blank\" href=\"https://github.com/annotation/mondriaan/blob/master/docs/transcription.md\" title=\"~/github/annotation/mondriaan/tf/0.8.13/rend_spaced.tf\">rend_spaced</a>\n",
       "</div>\n",
       "<div class=\"fmono\">int</div>\n",
       "\n",
       "<span> whether text is to be rendered as spaced</span>\n",
       "\n",
       "</div>\n",
       "\n",
       "<div class=\"frow\">\n",
       "    <div class=\"fnamecat \">\n",
       "<a target=\"_blank\" href=\"https://github.com/annotation/mondriaan/blob/master/docs/transcription.md\" title=\"~/github/annotation/mondriaan/tf/0.8.13/rend_super.tf\">rend_super</a>\n",
       "</div>\n",
       "<div class=\"fmono\">int</div>\n",
       "\n",
       "<span> whether text is to be rendered as super</span>\n",
       "\n",
       "</div>\n",
       "\n",
       "<div class=\"frow\">\n",
       "    <div class=\"fnamecat \">\n",
       "<a target=\"_blank\" href=\"https://github.com/annotation/mondriaan/blob/master/docs/transcription.md\" title=\"~/github/annotation/mondriaan/tf/0.8.13/rend_super_underline.tf\">rend_super_underline</a>\n",
       "</div>\n",
       "<div class=\"fmono\">int</div>\n",
       "\n",
       "<span> whether text is to be rendered as super_underline</span>\n",
       "\n",
       "</div>\n",
       "\n",
       "<div class=\"frow\">\n",
       "    <div class=\"fnamecat \">\n",
       "<a target=\"_blank\" href=\"https://github.com/annotation/mondriaan/blob/master/docs/transcription.md\" title=\"~/github/annotation/mondriaan/tf/0.8.13/rend_super_underline2.tf\">rend_super_underline2</a>\n",
       "</div>\n",
       "<div class=\"fmono\">int</div>\n",
       "\n",
       "<span> whether text is to be rendered as super_underline2</span>\n",
       "\n",
       "</div>\n",
       "\n",
       "<div class=\"frow\">\n",
       "    <div class=\"fnamecat \">\n",
       "<a target=\"_blank\" href=\"https://github.com/annotation/mondriaan/blob/master/docs/transcription.md\" title=\"~/github/annotation/mondriaan/tf/0.8.13/rend_underline.tf\">rend_underline</a>\n",
       "</div>\n",
       "<div class=\"fmono\">int</div>\n",
       "\n",
       "<span> whether text is to be rendered as underline</span>\n",
       "\n",
       "</div>\n",
       "\n",
       "<div class=\"frow\">\n",
       "    <div class=\"fnamecat \">\n",
       "<a target=\"_blank\" href=\"https://github.com/annotation/mondriaan/blob/master/docs/transcription.md\" title=\"~/github/annotation/mondriaan/tf/0.8.13/rend_underline2.tf\">rend_underline2</a>\n",
       "</div>\n",
       "<div class=\"fmono\">int</div>\n",
       "\n",
       "<span> whether text is to be rendered as underline2</span>\n",
       "\n",
       "</div>\n",
       "\n",
       "<div class=\"frow\">\n",
       "    <div class=\"fnamecat \">\n",
       "<a target=\"_blank\" href=\"https://github.com/annotation/mondriaan/blob/master/docs/transcription.md\" title=\"~/github/annotation/mondriaan/tf/0.8.13/rend_upsidedown.tf\">rend_upsidedown</a>\n",
       "</div>\n",
       "<div class=\"fmono\">int</div>\n",
       "\n",
       "<span> whether text is to be rendered as upsidedown</span>\n",
       "\n",
       "</div>\n",
       "\n",
       "<div class=\"frow\">\n",
       "    <div class=\"fnamecat \">\n",
       "<a target=\"_blank\" href=\"https://github.com/annotation/mondriaan/blob/master/docs/transcription.md\" title=\"~/github/annotation/mondriaan/tf/0.8.13/scheme.tf\">scheme</a>\n",
       "</div>\n",
       "<div class=\"fmono\">str</div>\n",
       "\n",
       "<span> this is TEI attribute scheme</span>\n",
       "\n",
       "</div>\n",
       "\n",
       "<div class=\"frow\">\n",
       "    <div class=\"fnamecat \">\n",
       "<a target=\"_blank\" href=\"https://github.com/annotation/mondriaan/blob/master/docs/transcription.md\" title=\"~/github/annotation/mondriaan/tf/0.8.13/sender.tf\">sender</a>\n",
       "</div>\n",
       "<div class=\"fmono\">str</div>\n",
       "\n",
       "<span> The sender of the letter; the content is taken from profileDesc/correspDesc/correspAction[type=sent]/name</span>\n",
       "\n",
       "</div>\n",
       "\n",
       "<div class=\"frow\">\n",
       "    <div class=\"fnamecat \">\n",
       "<a target=\"_blank\" href=\"https://github.com/annotation/mondriaan/blob/master/docs/transcription.md\" title=\"~/github/annotation/mondriaan/tf/0.8.13/source.tf\">source</a>\n",
       "</div>\n",
       "<div class=\"fmono\">str</div>\n",
       "\n",
       "<span> this is TEI attribute source</span>\n",
       "\n",
       "</div>\n",
       "\n",
       "<div class=\"frow\">\n",
       "    <div class=\"fnamecat \">\n",
       "<a target=\"_blank\" href=\"https://github.com/annotation/mondriaan/blob/master/docs/transcription.md\" title=\"~/github/annotation/mondriaan/tf/0.8.13/str.tf\">str</a>\n",
       "</div>\n",
       "<div class=\"fmono\">str</div>\n",
       "\n",
       "<span> the text of a word or token</span>\n",
       "\n",
       "</div>\n",
       "\n",
       "<div class=\"frow\">\n",
       "    <div class=\"fnamecat \">\n",
       "<a target=\"_blank\" href=\"https://github.com/annotation/mondriaan/blob/master/docs/transcription.md\" title=\"~/github/annotation/mondriaan/tf/0.8.13/target.tf\">target</a>\n",
       "</div>\n",
       "<div class=\"fmono\">str</div>\n",
       "\n",
       "<span> this is TEI attribute target</span>\n",
       "\n",
       "</div>\n",
       "\n",
       "<div class=\"frow\">\n",
       "    <div class=\"fnamecat \">\n",
       "<a target=\"_blank\" href=\"https://github.com/annotation/mondriaan/blob/master/docs/transcription.md\" title=\"~/github/annotation/mondriaan/tf/0.8.13/type.tf\">type</a>\n",
       "</div>\n",
       "<div class=\"fmono\">str</div>\n",
       "\n",
       "<span> this is TEI attribute type</span>\n",
       "\n",
       "</div>\n",
       "\n",
       "<div class=\"frow\">\n",
       "    <div class=\"fnamecat \">\n",
       "<a target=\"_blank\" href=\"https://github.com/annotation/mondriaan/blob/master/docs/transcription.md\" title=\"~/github/annotation/mondriaan/tf/0.8.13/unit.tf\">unit</a>\n",
       "</div>\n",
       "<div class=\"fmono\">str</div>\n",
       "\n",
       "<span> this is TEI attribute unit</span>\n",
       "\n",
       "</div>\n",
       "\n",
       "<div class=\"frow\">\n",
       "    <div class=\"fnamecat \">\n",
       "<a target=\"_blank\" href=\"https://github.com/annotation/mondriaan/blob/master/docs/transcription.md\" title=\"~/github/annotation/mondriaan/tf/0.8.13/url.tf\">url</a>\n",
       "</div>\n",
       "<div class=\"fmono\">str</div>\n",
       "\n",
       "<span> this is TEI attribute url</span>\n",
       "\n",
       "</div>\n",
       "\n",
       "<div class=\"frow\">\n",
       "    <div class=\"fnamecat \">\n",
       "<a target=\"_blank\" href=\"https://github.com/annotation/mondriaan/blob/master/docs/transcription.md\" title=\"~/github/annotation/mondriaan/tf/0.8.13/when.tf\">when</a>\n",
       "</div>\n",
       "<div class=\"fmono\">str</div>\n",
       "\n",
       "<span> this is TEI attribute when</span>\n",
       "\n",
       "</div>\n",
       "\n",
       "<div class=\"frow\">\n",
       "    <div class=\"fnamecat \">\n",
       "<a target=\"_blank\" href=\"https://github.com/annotation/mondriaan/blob/master/docs/transcription.md\" title=\"~/github/annotation/mondriaan/tf/0.8.13/who.tf\">who</a>\n",
       "</div>\n",
       "<div class=\"fmono\">str</div>\n",
       "\n",
       "<span> this is TEI attribute who</span>\n",
       "\n",
       "</div>\n",
       "\n",
       "<div class=\"frow\">\n",
       "    <div class=\"fnamecat edge\">\n",
       "<a target=\"_blank\" href=\"https://github.com/annotation/mondriaan/blob/master/docs/transcription.md\" title=\"~/github/annotation/mondriaan/tf/0.8.13/link_ref.tf\">link_ref</a>\n",
       "</div>\n",
       "<div class=\"fmono\">none</div>\n",
       "\n",
       "<span> links to node identified by xml:id in attribute ref</span>\n",
       "\n",
       "</div>\n",
       "\n",
       "<div class=\"frow\">\n",
       "    <div class=\"fnamecat edge\">\n",
       "<a target=\"_blank\" href=\"https://github.com/annotation/mondriaan/blob/master/docs/transcription.md\" title=\"~/github/annotation/mondriaan/tf/0.8.13/link_target.tf\">link_target</a>\n",
       "</div>\n",
       "<div class=\"fmono\">none</div>\n",
       "\n",
       "<span> links to node identified by xml:id in attribute target</span>\n",
       "\n",
       "</div>\n",
       "\n",
       "<div class=\"frow\">\n",
       "    <div class=\"fnamecat edge\">\n",
       "<a target=\"_blank\" href=\"https://github.com/annotation/mondriaan/blob/master/docs/transcription.md\" title=\"~/github/annotation/mondriaan/tf/0.8.13/oslots.tf\">oslots</a>\n",
       "</div>\n",
       "<div class=\"fmono\">none</div>\n",
       "\n",
       "<span> </span>\n",
       "\n",
       "</div>\n",
       "\n",
       "<div class=\"frow\">\n",
       "    <div class=\"fnamecat edge\">\n",
       "<a target=\"_blank\" href=\"https://github.com/annotation/mondriaan/blob/master/docs/transcription.md\" title=\"~/github/annotation/mondriaan/tf/0.8.13/parent.tf\">parent</a>\n",
       "</div>\n",
       "<div class=\"fmono\">none</div>\n",
       "\n",
       "<span> edge between a node and its parent node</span>\n",
       "\n",
       "</div>\n",
       "\n",
       "<div class=\"frow\">\n",
       "    <div class=\"fnamecat edge\">\n",
       "<a target=\"_blank\" href=\"https://github.com/annotation/mondriaan/blob/master/docs/transcription.md\" title=\"~/github/annotation/mondriaan/tf/0.8.13/sibling.tf\">sibling</a>\n",
       "</div>\n",
       "<div class=\"fmono\">int</div>\n",
       "\n",
       "<span> edge between a node and its preceding sibling nodes; labelled with the distance between them</span>\n",
       "\n",
       "</div>\n",
       "\n",
       "    </div>\n",
       "</details>\n",
       "\n",
       "            <b>Settings:</b><br><details ><summary><b>specified</b></summary><ol><li><b>apiVersion</b>: <code>3</code></li><li><b>appName</b>: <code>annotation/mondriaan</code></li><li><b>appPath</b>: <code>/Users/me/github/annotation/mondriaan/app</code></li><li><b>commit</b>: <i>no value</i></li><li><details><summary><b>css</b>:</summary><code><br>.r_above {<br>position: relative;<br>top: -0.3em;<br>}<br><br>.r_below {<br>position: relative;<br>top: 0.3em;<br>}<br><br>.r_b,.r_bold {<br>font-weight: bold;<br>}<br><br>.r_center {<br>text-align: center;<br>}<br><br>.r_h1 {<br>font-size: xx-large;<br>font-weight: bold;<br>margin-top: 3rem;<br>margin-bottom: 1rem;<br>}<br><br>.r_h2 {<br>font-size: x-large;<br>font-weight: bold;<br>margin-top: 2rem;<br>margin-bottom: 1rem;<br>}<br><br>.r_h3 {<br>font-size: large;<br>font-weight: bold;<br>margin-top: 1rem;<br>margin-bottom: 0.5rem;<br>}<br><br>.r_h4 {<br>font-size: large;<br>font-style: italic;<br>margin-top: 1rem;<br>margin-bottom: 0.5rem;<br>}<br><br>.r_h5 {<br>font-size: medium;<br>font-weight: bold;<br>font-variant: small-caps;<br>margin-top: 0.5rem;<br>margin-bottom: 0.25rem;<br>}<br><br>.r_h6 {<br>font-size: medium;<br>font-weight: normal;<br>font-variant: small-caps;<br>margin-top: 0.25rem;<br>margin-bottom: 0.125rem;<br>}<br><br>.r_i,.r_italic,.r_italics {<br>font-style: italic;<br>}<br><br>.r_large {<br>font-size: large;<br>}<br><br>.r_margin {<br>position: relative;<br>top: -0.3em;<br>font-weight: bold;<br>color: #0000ee;<br>}<br><br>.r_sc,.r_small_caps,.r_smallcaps {<br>font-variant: small-caps;<br>}<br><br>.r_spaced,.r_spat {<br>letter-spacing: .2rem;<br>}<br><br>.r_sub {<br>vertical-align: sub;<br>font-size: small;<br>}<br><br>.r_sup,.r_super {<br>vertical-align: super;<br>font-size: small;<br>}<br><br>.r_ul,.r_underline {<br>text-decoration: underline;<br>}<br><br>.r_ {<br>  color: #dd22ff;<br>  text-decoration: underline;<br>}<br>.is_meta {<br>  font-family: monospace;<br>  color: #008800;<br>}<br>.is_note {<br>  font-size: small;<br>  color: #dd0055;<br>}<br><br><br>/* GRAPHICS */<br><br><br>.graphic_item {<br>  display: inline-block;<br>  padding: 0.5rem;<br>}<br><br>.graphic_set {<br>    display: flex;<br>    flex-flow: row nowrap;<br>    justify-content: flex-start;<br>    align-items: center;<br>    align-content: flex-start;<br>}<br><br>.graphic_img {<br>    display: block;<br>    max-width: 15rem ! important;<br>    max-height: 15rem ! important;<br>}<br>.graphic_caption {<br>    display: block;<br>    max-width: 15rem ! important;<br>    max-height: 15rem ! important;<br>}<br><br></code></details></li><li><details><summary><b>dataDisplay</b>:</summary><ul><li><b>excludedFeatures</b>: <code>[]</code></li><li><details><summary><b>noneValues</b>:</summary><ul><li><code>none</code></li><li><code>unknown</code></li><li><i>no value</i></li><li><code>NA</code></li></ul></details></li><li><b>sectionSep1</b>: <code>@</code></li><li><b>textFormat</b>: <code>layout-orig-full</code></li><li><b>textFormats</b>: {<b>layout-orig-full</b>: {<b>method</b>: <code>layout</code>}}</li></ul></details></li><li><details><summary><b>docs</b>:</summary><ul><li><b>docPage</b>: <code>about</code></li><li><b>featureBase</b>: <code>{docBase}/transcription.md</code></li><li><b>featurePage</b>: <code>transcription</code></li></ul></details></li><li><details><summary><b>interfaceDefaults</b>:</summary><ul><li><b>fmt</b>: <code>layout-orig-full</code></li><li><b>showGraphics</b>: <code>True</code></li></ul></details></li><li><b>isCompatible</b>: <code>True</code></li><li><b>local</b>: <code>clone</code></li><li><b>localDir</b>: <code>/Users/me/github/annotation/mondriaan/_temp</code></li><li><details><summary><b>provenanceSpec</b>:</summary><ul><li><b>branch</b>: <code>master</code></li><li><b>corpus</b>: <code>{org} - {repo}{relative}</code></li><li><b>doi</b>: <code>10.5281/zenodo.notyet</code></li><li><b>graphicsRelative</b>: <code>illustrations</code></li><li><b>moduleSpecs</b>: <code>[]</code></li><li><b>org</b>: <code>annotation</code></li><li><b>relative</b>: <code>/tf</code></li><li><b>repo</b>: <code>mondriaan</code></li><li><b>version</b>: <code>0.8.13</code></li><li><b>webBase</b>: <code>https://public.{org}.org/{repo}</code></li><li><b>webHint</b>: <code>Show this on the website</code></li><li><b>webLang</b>: <code>en</code></li><li><b>webUrl</b>: <code>{webBase}/&lt;1>/&lt;2>/&lt;3>&amp;version={version}</code></li><li><b>webUrlLex</b>: <code>{webBase}/word?version={version}&amp;id=&lt;lid></code></li></ul></details></li><li><b>release</b>: <i>no value</i></li><li><details><summary><b>typeDisplay</b>:</summary><li><details open>\n",
       "                <summary><b>rs</b>:</summary>\n",
       "                <ul><li><b>features</b>: <code>type key</code></li><li><b>graphics</b>: <code>True</code></li></ul>\n",
       "                </details></li></details></li><li><b>writing</b>: <code>''</code></li></ol></details>\n"
      ],
      "text/plain": [
       "<IPython.core.display.HTML object>"
      ]
     },
     "metadata": {},
     "output_type": "display_data"
    },
    {
     "data": {
      "text/html": [
       "<style>tr.tf.ltr, td.tf.ltr, th.tf.ltr { text-align: left ! important;}\n",
       "tr.tf.rtl, td.tf.rtl, th.tf.rtl { text-align: right ! important;}\n",
       "@font-face {\n",
       "  font-family: \"Gentium Plus\";\n",
       "  src: local('Gentium Plus'), local('GentiumPlus'),\n",
       "    url('/server/static/fonts/GentiumPlus-R.woff') format('woff'),\n",
       "    url('https://github.com/annotation/text-fabric/blob/master/tf/server/static/fonts/GentiumPlus-R.woff?raw=true') format('woff');\n",
       "}\n",
       "\n",
       "@font-face {\n",
       "  font-family: \"Ezra SIL\";\n",
       "  src: local('Ezra SIL'), local('EzraSIL'),\n",
       "    url('/server/static/fonts/SILEOT.woff') format('woff'),\n",
       "    url('https://github.com/annotation/text-fabric/blob/master/tf/server/static/fonts/SILEOT.woff?raw=true') format('woff');\n",
       "}\n",
       "\n",
       "@font-face {\n",
       "  font-family: \"SBL Hebrew\";\n",
       "  src: local('SBL Hebrew'), local('SBLHebrew'),\n",
       "    url('/server/static/fonts/SBL_Hbrw.woff') format('woff'),\n",
       "    url('https://github.com/annotation/text-fabric/blob/master/tf/server/static/fonts/SBL_Hbrw.woff?raw=true') format('woff');\n",
       "}\n",
       "\n",
       "@font-face {\n",
       "  font-family: \"Estrangelo Edessa\";\n",
       "  src: local('Estrangelo Edessa'), local('EstrangeloEdessa');\n",
       "    url('/server/static/fonts/SyrCOMEdessa.woff') format('woff'),\n",
       "    url('https://github.com/annotation/text-fabric/blob/master/tf/server/static/fonts/SyrCOMEdessa.woff?raw=true') format('woff');\n",
       "}\n",
       "\n",
       "@font-face {\n",
       "  font-family: AmiriQuran;\n",
       "  font-style: normal;\n",
       "  font-weight: 400;\n",
       "  src: local('Amiri Quran'), local('AmiriQuran'),\n",
       "    url('/server/static/fonts/AmiriQuran.woff') format('woff'),\n",
       "    url('https://github.com/annotation/text-fabric/blob/master/tf/server/static/fonts/AmiriQuran.woff?raw=true') format('woff');\n",
       "}\n",
       "\n",
       "@font-face {\n",
       "  font-family: AmiriQuranColored;\n",
       "  font-style: normal;\n",
       "  font-weight: 400;\n",
       "  src: local('Amiri Quran Colored'), local('AmiriQuranColored'),\n",
       "    url('/server/static/fonts/AmiriQuranColored.woff') format('woff'),\n",
       "    url('https://github.com/annotation/text-fabric/blob/master/tf/server/static/fonts/AmiriQuranColored.woff?raw=true') format('woff');\n",
       "}\n",
       "\n",
       "@font-face {\n",
       "  font-family: \"Santakku\";\n",
       "  src: local('Santakku'),\n",
       "    url('/server/static/fonts/Santakku.woff') format('woff'),\n",
       "    url('https://github.com/annotation/text-fabric/blob/master/tf/server/static/fonts/Santakku.woff?raw=true') format('woff');\n",
       "}\n",
       "\n",
       "@font-face {\n",
       "  font-family: \"SantakkuM\";\n",
       "  src: local('SantakkuM'),\n",
       "    url('/server/static/fonts/SantakkuM.woff') format('woff'),\n",
       "    url('https://github.com/annotation/text-fabric/blob/master/tf/server/static/fonts/SantakkuM.woff?raw=true') format('woff');\n",
       "}\n",
       "/* bypassing some classical notebook settings */\n",
       "div#notebook {\n",
       "  line-height: unset;\n",
       "}\n",
       "/* neutral text */\n",
       ".txtn,.txtn a:visited,.txtn a:link {\n",
       "    font-family: sans-serif;\n",
       "    font-size: medium;\n",
       "    direction: ltr;\n",
       "    unicode-bidi: embed;\n",
       "    text-decoration: none;\n",
       "    color: var(--text-color);\n",
       "}\n",
       "/* transcription text */\n",
       ".txtt,.txtt a:visited,.txtt a:link {\n",
       "    font-family: monospace;\n",
       "    font-size: medium;\n",
       "    direction: ltr;\n",
       "    unicode-bidi: embed;\n",
       "    text-decoration: none;\n",
       "    color: var(--text-color);\n",
       "}\n",
       "/* source text */\n",
       ".txto,.txto a:visited,.txto a:link {\n",
       "    font-family: serif;\n",
       "    font-size: medium;\n",
       "    direction: ltr;\n",
       "    unicode-bidi: embed;\n",
       "    text-decoration: none;\n",
       "    color: var(--text-color);\n",
       "}\n",
       "/* phonetic text */\n",
       ".txtp,.txtp a:visited,.txtp a:link {\n",
       "    font-family: Gentium, sans-serif;\n",
       "    font-size: medium;\n",
       "    direction: ltr;\n",
       "    unicode-bidi: embed;\n",
       "    text-decoration: none;\n",
       "    color: var(--text-color);\n",
       "}\n",
       "/* original script text */\n",
       ".txtu,.txtu a:visited,.txtu a:link {\n",
       "    font-family: Gentium, sans-serif;\n",
       "    font-size: medium;\n",
       "    text-decoration: none;\n",
       "    color: var(--text-color);\n",
       "}\n",
       "/* hebrew */\n",
       ".txtu.hbo,.lex.hbo {\n",
       "    font-family: \"Ezra SIL\", \"SBL Hebrew\", sans-serif;\n",
       "    font-size: large;\n",
       "    direction: rtl ! important;\n",
       "    unicode-bidi: embed;\n",
       "}\n",
       "/* syriac */\n",
       ".txtu.syc,.lex.syc {\n",
       "    font-family: \"Estrangelo Edessa\", sans-serif;\n",
       "    font-size: medium;\n",
       "    direction: rtl ! important;\n",
       "    unicode-bidi: embed;\n",
       "}\n",
       "/* neo aramaic */\n",
       ".txtu.cld,.lex.cld {\n",
       "    font-family: \"CharisSIL-R\", sans-serif;\n",
       "    font-size: medium;\n",
       "    direction: ltr ! important;\n",
       "    unicode-bidi: embed;\n",
       "}\n",
       "/* standard arabic */\n",
       ".txtu.ara,.lex.ara {\n",
       "    font-family: \"AmiriQuran\", sans-serif;\n",
       "    font-size: large;\n",
       "    direction: rtl ! important;\n",
       "    unicode-bidi: embed;\n",
       "}\n",
       "/* cuneiform */\n",
       ".txtu.akk,.lex.akk {\n",
       "    font-family: Santakku, sans-serif;\n",
       "    font-size: large;\n",
       "    direction: ltr ! important;\n",
       "    unicode-bidi: embed;\n",
       "}\n",
       "/* greek */\n",
       ".txtu.grc,.lex.grc a:link {\n",
       "    font-family: Gentium, sans-serif;\n",
       "    font-size: medium;\n",
       "    direction: ltr ! important;\n",
       "    unicode-bidi: embed;\n",
       "}\n",
       "a:hover {\n",
       "    text-decoration: underline | important;\n",
       "    color: #0000ff | important;\n",
       "}\n",
       ".ltr {\n",
       "    direction: ltr ! important;\n",
       "    unicode-bidi: embed;\n",
       "}\n",
       ".rtl {\n",
       "    direction: rtl ! important;\n",
       "    unicode-bidi: embed;\n",
       "}\n",
       ".ubd {\n",
       "    unicode-bidi: embed;\n",
       "}\n",
       ".col {\n",
       "   display: inline-block;\n",
       "}\n",
       ".features {\n",
       "    font-family: monospace;\n",
       "    font-size: medium;\n",
       "    font-weight: bold;\n",
       "    color: var(--features);\n",
       "    display: flex;\n",
       "    flex-flow: column nowrap;\n",
       "    justify-content: flex-start;\n",
       "    align-items: flex-start;\n",
       "    align-content: flex-start;\n",
       "    padding: 2px;\n",
       "    margin: 2px;\n",
       "    direction: ltr;\n",
       "    unicode-bidi: embed;\n",
       "    border: var(--meta-width) solid var(--meta-color);\n",
       "    border-radius: var(--meta-width);\n",
       "}\n",
       ".features div,.features span {\n",
       "    padding: 0;\n",
       "    margin: -2px 0;\n",
       "}\n",
       ".features .f {\n",
       "    font-family: sans-serif;\n",
       "    font-size: small;\n",
       "    font-weight: normal;\n",
       "    color: #5555bb;\n",
       "}\n",
       ".features .xft {\n",
       "  color: #000000;\n",
       "  background-color: #eeeeee;\n",
       "  font-size: medium;\n",
       "  margin: 2px 0px;\n",
       "}\n",
       ".features .xft .f {\n",
       "  color: #000000;\n",
       "  background-color: #eeeeee;\n",
       "  font-size: small;\n",
       "  font-weight: normal;\n",
       "}\n",
       ".tfsechead {\n",
       "    font-family: sans-serif;\n",
       "    font-size: small;\n",
       "    font-weight: bold;\n",
       "    color: var(--tfsechead);\n",
       "    unicode-bidi: embed;\n",
       "    text-align: start;\n",
       "}\n",
       ".structure {\n",
       "    font-family: sans-serif;\n",
       "    font-size: small;\n",
       "    font-weight: bold;\n",
       "    color: var(--structure);\n",
       "    unicode-bidi: embed;\n",
       "    text-align: start;\n",
       "}\n",
       ".comments {\n",
       "    display: flex;\n",
       "    justify-content: flex-start;\n",
       "    align-items: flex-start;\n",
       "    align-content: flex-start;\n",
       "    flex-flow: column nowrap;\n",
       "}\n",
       ".nd, a:link.nd {\n",
       "    font-family: sans-serif;\n",
       "    font-size: small;\n",
       "    color: var(--node);\n",
       "    vertical-align: super;\n",
       "    direction: ltr ! important;\n",
       "    unicode-bidi: embed;\n",
       "}\n",
       ".nde, a:link.nde {\n",
       "    font-family: sans-serif;\n",
       "    font-size: small;\n",
       "    color: var(--node);\n",
       "    direction: ltr ! important;\n",
       "    unicode-bidi: embed;\n",
       "}\n",
       ".etf {\n",
       "    font-size: normal;\n",
       "    border-radius: 0.2rem;\n",
       "    border: 1pt solid white;\n",
       "    padding: 0 0.2rem ! important;\n",
       "    margin: 0 0.2rem ! important;\n",
       "}\n",
       ".etfx {\n",
       "    font-size: x-large;\n",
       "}\n",
       ".lex {\n",
       "  color: var(--lex-color);;\n",
       "}\n",
       "#colormapplus, #colormapmin, .ecolormapmin {\n",
       "  font-weight: bold;\n",
       "  border-radius: 0.1rem;\n",
       "  background-color: #eeeeff;\n",
       "  padding: 0 1rem;\n",
       "  margin: 0 1rem;\n",
       "}\n",
       ".clr {\n",
       "  font-style: italic;\n",
       "  font-size: small;\n",
       "}\n",
       ".clmap,.eclmap {\n",
       "  padding: 0;\n",
       "}\n",
       ".children,.children.ltr {\n",
       "    display: flex;\n",
       "    border: 0;\n",
       "    background-color: #ffffff;\n",
       "    justify-content: flex-start;\n",
       "    align-items: flex-start;\n",
       "    align-content: flex-start;\n",
       "}\n",
       ".children.stretch {\n",
       "    align-items: stretch;\n",
       "}\n",
       ".children.hor {\n",
       "    flex-flow: row nowrap;\n",
       "}\n",
       ".children.hor.wrap {\n",
       "    flex-flow: row wrap;\n",
       "}\n",
       ".children.ver {\n",
       "    flex-flow: column nowrap;\n",
       "}\n",
       ".children.ver.wrap {\n",
       "    flex-flow: column wrap;\n",
       "}\n",
       ".contnr {\n",
       "    width: fit-content;\n",
       "    display: flex;\n",
       "    justify-content: flex-start;\n",
       "    align-items: flex-start;\n",
       "    align-content: flex-start;\n",
       "    flex-flow: column nowrap;\n",
       "    background: #ffffff none repeat scroll 0 0;\n",
       "    padding:  10px 2px 2px 2px;\n",
       "    margin: 16px 2px 2px 2px;\n",
       "    border-style: solid;\n",
       "    font-size: small;\n",
       "}\n",
       ".contnr.trm {\n",
       "    background-attachment: local;\n",
       "}\n",
       ".contnr.cnul {\n",
       "    padding:  0;\n",
       "    margin: 0;\n",
       "    border-style: solid;\n",
       "    font-size: xx-small;\n",
       "}\n",
       ".contnr.cnul,.lbl.cnul {\n",
       "    border-color: var(--border-color-nul);\n",
       "    border-width: var(--border-width-nul);\n",
       "    border-radius: var(--border-width-nul);\n",
       "}\n",
       ".contnr.c0,.lbl.c0 {\n",
       "    border-color: var(--border-color0);\n",
       "    border-width: var(--border-width0);\n",
       "    border-radius: var(--border-width0);\n",
       "}\n",
       ".contnr.c1,.lbl.c1 {\n",
       "    border-color: var(--border-color1);\n",
       "    border-width: var(--border-width1);\n",
       "    border-radius: var(--border-width1);\n",
       "}\n",
       ".contnr.c2,.lbl.c2 {\n",
       "    border-color: var(--border-color2);\n",
       "    border-width: var(--border-width2);\n",
       "    border-radius: var(--border-width2);\n",
       "}\n",
       ".contnr.c3,.lbl.c3 {\n",
       "    border-color: var(--border-color3);\n",
       "    border-width: var(--border-width3);\n",
       "    border-radius: var(--border-width3);\n",
       "}\n",
       ".contnr.c4,.lbl.c4 {\n",
       "    border-color: var(--border-color4);\n",
       "    border-width: var(--border-width4);\n",
       "    border-radius: var(--border-width4);\n",
       "}\n",
       "span.plain {\n",
       "    /*display: inline-block;*/\n",
       "    display: inline-flex;\n",
       "    flex-flow: row wrap;\n",
       "    white-space: pre-wrap;\n",
       "}\n",
       "span.break {\n",
       "  flex-basis: 100%;\n",
       "  height: 0;\n",
       "}\n",
       ".plain {\n",
       "    background-color: #ffffff;\n",
       "}\n",
       ".plain.l,.contnr.l,.contnr.l>.lbl {\n",
       "    border-left-style: dotted\n",
       "}\n",
       ".plain.r,.contnr.r,.contnr.r>.lbl {\n",
       "    border-right-style: dotted\n",
       "}\n",
       ".plain.lno,.contnr.lno,.contnr.lno>.lbl {\n",
       "    border-left-style: none\n",
       "}\n",
       ".plain.rno,.contnr.rno,.contnr.rno>.lbl {\n",
       "    border-right-style: none\n",
       "}\n",
       ".plain.l {\n",
       "    padding-left: 4px;\n",
       "    margin-left: 2px;\n",
       "    border-width: var(--border-width-plain);\n",
       "}\n",
       ".plain.r {\n",
       "    padding-right: 4px;\n",
       "    margin-right: 2px;\n",
       "    border-width: var(--border-width-plain);\n",
       "}\n",
       ".lbl {\n",
       "    font-family: monospace;\n",
       "    margin-top: -24px;\n",
       "    margin-left: 20px;\n",
       "    background: #ffffff none repeat scroll 0 0;\n",
       "    padding: 0 6px;\n",
       "    border-style: solid;\n",
       "    display: block;\n",
       "    color: var(--label)\n",
       "}\n",
       ".lbl.trm {\n",
       "    background-attachment: local;\n",
       "    margin-top: 2px;\n",
       "    margin-left: 2px;\n",
       "    padding: 2px 2px;\n",
       "    border-style: none;\n",
       "}\n",
       ".lbl.cnul {\n",
       "    font-size: xx-small;\n",
       "}\n",
       ".lbl.c0 {\n",
       "    font-size: small;\n",
       "}\n",
       ".lbl.c1 {\n",
       "    font-size: small;\n",
       "}\n",
       ".lbl.c2 {\n",
       "    font-size: medium;\n",
       "}\n",
       ".lbl.c3 {\n",
       "    font-size: medium;\n",
       "}\n",
       ".lbl.c4 {\n",
       "    font-size: large;\n",
       "}\n",
       ".occs, a:link.occs {\n",
       "    font-size: small;\n",
       "}\n",
       "\n",
       "/* PROVENANCE */\n",
       "\n",
       "div.prov {\n",
       "\tmargin: 40px;\n",
       "\tpadding: 20px;\n",
       "\tborder: 2px solid var(--fog-rim);\n",
       "}\n",
       "div.pline {\n",
       "\tdisplay: flex;\n",
       "\tflex-flow: row nowrap;\n",
       "\tjustify-content: stretch;\n",
       "\talign-items: baseline;\n",
       "}\n",
       "div.p2line {\n",
       "\tmargin-left: 2em;\n",
       "\tdisplay: flex;\n",
       "\tflex-flow: row nowrap;\n",
       "\tjustify-content: stretch;\n",
       "\talign-items: baseline;\n",
       "}\n",
       "div.psline {\n",
       "\tdisplay: flex;\n",
       "\tflex-flow: row nowrap;\n",
       "\tjustify-content: stretch;\n",
       "\talign-items: baseline;\n",
       "\tbackground-color: var(--gold-mist-back);\n",
       "}\n",
       "div.pname {\n",
       "\tflex: 0 0 5rem;\n",
       "\tfont-weight: bold;\n",
       "}\n",
       "div.pval {\n",
       "    flex: 1 1 auto;\n",
       "}\n",
       "\n",
       "/* KEYBOARD */\n",
       ".ccoff {\n",
       "  background-color: inherit;\n",
       "}\n",
       ".ccon {\n",
       "  background-color: yellow ! important;\n",
       "}\n",
       ".ccon,.ccoff {\n",
       "  padding: 0.2rem;\n",
       "  margin: 0.2rem;\n",
       "  border: 0.1rem solid var(--letter-box-border);\n",
       "  border-radius: 0.1rem;\n",
       "}\n",
       ".ccline {\n",
       "  font-size: xx-large ! important;\n",
       "  font-weight: bold;\n",
       "  line-height: 2em ! important;\n",
       "}\n",
       "/* TF header */\n",
       "\n",
       "summary {\n",
       "  /* needed to override the normalize.less\n",
       "   * in the classical jupyter notebook\n",
       "   */\n",
       "  display: list-item ! important;\n",
       "}\n",
       "\n",
       ".fcorpus {\n",
       "  display: flex;\n",
       "  flex-flow: column nowrap;\n",
       "  justify-content: flex-start;\n",
       "  align-items: flex-start;\n",
       "  align-content: flex-start;\n",
       "  overflow: auto;\n",
       "}\n",
       ".frow {\n",
       "  display: flex;\n",
       "  flex-flow: row nowrap;\n",
       "  justify-content: flex-start;\n",
       "  align-items: flex-start;\n",
       "  align-content: flex-start;\n",
       "}\n",
       ".fmeta {\n",
       "  display: flex;\n",
       "  flex-flow: column nowrap;\n",
       "  justify-content: flex-start;\n",
       "  align-items: flex-start;\n",
       "  align-content: flex-start;\n",
       "}\n",
       ".fmetarow {\n",
       "  display: flex;\n",
       "  flex-flow: row nowrap;\n",
       "  justify-content: flex-start;\n",
       "  align-items: flex-start;\n",
       "  align-content: flex-start;\n",
       "}\n",
       ".fmetakey {\n",
       "  min-width: 8em;\n",
       "  font-family: monospace;\n",
       "}\n",
       ".fnamecat {\n",
       "  min-width: 8em;\n",
       "}\n",
       ".fnamecat.edge {\n",
       "  font-weight: bold;\n",
       "  font-style: italic;\n",
       "}\n",
       ".fmono {\n",
       "    font-family: monospace;\n",
       "}\n",
       "\n",
       ":root {\n",
       "\t--node:               hsla(120, 100%,  20%, 1.0  );\n",
       "\t--label:              hsla(  0, 100%,  20%, 1.0  );\n",
       "\t--tfsechead:          hsla(  0, 100%,  25%, 1.0  );\n",
       "\t--structure:          hsla(120, 100%,  25%, 1.0  );\n",
       "\t--features:           hsla(  0,   0%,  30%, 1.0  );\n",
       "  --text-color:         hsla( 60,  80%,  10%, 1.0  );\n",
       "  --lex-color:          hsla(220,  90%,  60%, 1.0  );\n",
       "  --meta-color:         hsla(  0,   0%,  90%, 0.7  );\n",
       "  --meta-width:         3px;\n",
       "  --border-color-nul:   hsla(  0,   0%,  90%, 0.5  );\n",
       "  --border-color0:      hsla(  0,   0%,  90%, 0.9  );\n",
       "  --border-color1:      hsla(  0,   0%,  80%, 0.9  );\n",
       "  --border-color2:      hsla(  0,   0%,  70%, 0.9  );\n",
       "  --border-color3:      hsla(  0,   0%,  80%, 0.8  );\n",
       "  --border-color4:      hsla(  0,   0%,  60%, 0.9  );\n",
       "\t--letter-box-border:  hsla(  0,   0%,  80%, 0.5  );\n",
       "  --border-width-nul:   2px;\n",
       "  --border-width0:      2px;\n",
       "  --border-width1:      3px;\n",
       "  --border-width2:      4px;\n",
       "  --border-width3:      6px;\n",
       "  --border-width4:      5px;\n",
       "  --border-width-plain: 2px;\n",
       "}\n",
       ".hl {\n",
       "  background-color: var(--hl-strong);\n",
       "}\n",
       "span.hl {\n",
       "\tbackground-color: var(--hl-strong);\n",
       "\tborder-width: 0;\n",
       "\tborder-radius: 2px;\n",
       "\tborder-style: solid;\n",
       "}\n",
       "div.contnr.hl,div.lbl.hl {\n",
       "  background-color: var(--hl-strong);\n",
       "}\n",
       "div.contnr.hl {\n",
       "  border-color: var(--hl-rim) ! important;\n",
       "\tborder-width: 4px ! important;\n",
       "}\n",
       "\n",
       "span.hlbx {\n",
       "\tborder-color: var(--hl-rim);\n",
       "\tborder-width: 4px ! important;\n",
       "\tborder-style: solid;\n",
       "\tborder-radius: 6px;\n",
       "  padding: 4px;\n",
       "  margin: 4px;\n",
       "}\n",
       ".ehl {\n",
       "  background-color: var(--ehl-strong);\n",
       "}\n",
       "\n",
       ":root {\n",
       "\t--hl-strong:        hsla( 60, 100%,  70%, 0.9  );\n",
       "\t--hl-rim:           hsla( 55,  80%,  50%, 1.0  );\n",
       "\t--ehl-strong:       hsla(240, 100%,  70%, 0.9  );\n",
       "}\n",
       "\n",
       ".r_above {\n",
       "position: relative;\n",
       "top: -0.3em;\n",
       "}\n",
       "\n",
       ".r_below {\n",
       "position: relative;\n",
       "top: 0.3em;\n",
       "}\n",
       "\n",
       ".r_b,.r_bold {\n",
       "font-weight: bold;\n",
       "}\n",
       "\n",
       ".r_center {\n",
       "text-align: center;\n",
       "}\n",
       "\n",
       ".r_h1 {\n",
       "font-size: xx-large;\n",
       "font-weight: bold;\n",
       "margin-top: 3rem;\n",
       "margin-bottom: 1rem;\n",
       "}\n",
       "\n",
       ".r_h2 {\n",
       "font-size: x-large;\n",
       "font-weight: bold;\n",
       "margin-top: 2rem;\n",
       "margin-bottom: 1rem;\n",
       "}\n",
       "\n",
       ".r_h3 {\n",
       "font-size: large;\n",
       "font-weight: bold;\n",
       "margin-top: 1rem;\n",
       "margin-bottom: 0.5rem;\n",
       "}\n",
       "\n",
       ".r_h4 {\n",
       "font-size: large;\n",
       "font-style: italic;\n",
       "margin-top: 1rem;\n",
       "margin-bottom: 0.5rem;\n",
       "}\n",
       "\n",
       ".r_h5 {\n",
       "font-size: medium;\n",
       "font-weight: bold;\n",
       "font-variant: small-caps;\n",
       "margin-top: 0.5rem;\n",
       "margin-bottom: 0.25rem;\n",
       "}\n",
       "\n",
       ".r_h6 {\n",
       "font-size: medium;\n",
       "font-weight: normal;\n",
       "font-variant: small-caps;\n",
       "margin-top: 0.25rem;\n",
       "margin-bottom: 0.125rem;\n",
       "}\n",
       "\n",
       ".r_i,.r_italic,.r_italics {\n",
       "font-style: italic;\n",
       "}\n",
       "\n",
       ".r_large {\n",
       "font-size: large;\n",
       "}\n",
       "\n",
       ".r_margin {\n",
       "position: relative;\n",
       "top: -0.3em;\n",
       "font-weight: bold;\n",
       "color: #0000ee;\n",
       "}\n",
       "\n",
       ".r_sc,.r_small_caps,.r_smallcaps {\n",
       "font-variant: small-caps;\n",
       "}\n",
       "\n",
       ".r_spaced,.r_spat {\n",
       "letter-spacing: .2rem;\n",
       "}\n",
       "\n",
       ".r_sub {\n",
       "vertical-align: sub;\n",
       "font-size: small;\n",
       "}\n",
       "\n",
       ".r_sup,.r_super {\n",
       "vertical-align: super;\n",
       "font-size: small;\n",
       "}\n",
       "\n",
       ".r_ul,.r_underline {\n",
       "text-decoration: underline;\n",
       "}\n",
       "\n",
       ".r_ {\n",
       "  color: #dd22ff;\n",
       "  text-decoration: underline;\n",
       "}\n",
       ".is_meta {\n",
       "  font-family: monospace;\n",
       "  color: #008800;\n",
       "}\n",
       ".is_note {\n",
       "  font-size: small;\n",
       "  color: #dd0055;\n",
       "}\n",
       "\n",
       "\n",
       "/* GRAPHICS */\n",
       "\n",
       "\n",
       ".graphic_item {\n",
       "  display: inline-block;\n",
       "  padding: 0.5rem;\n",
       "}\n",
       "\n",
       ".graphic_set {\n",
       "    display: flex;\n",
       "    flex-flow: row nowrap;\n",
       "    justify-content: flex-start;\n",
       "    align-items: center;\n",
       "    align-content: flex-start;\n",
       "}\n",
       "\n",
       ".graphic_img {\n",
       "    display: block;\n",
       "    max-width: 15rem ! important;\n",
       "    max-height: 15rem ! important;\n",
       "}\n",
       ".graphic_caption {\n",
       "    display: block;\n",
       "    max-width: 15rem ! important;\n",
       "    max-height: 15rem ! important;\n",
       "}\n",
       "\n",
       "</style>"
      ],
      "text/plain": [
       "<IPython.core.display.HTML object>"
      ]
     },
     "metadata": {},
     "output_type": "display_data"
    },
    {
     "data": {
      "text/html": [
       "\n",
       "<script>\n",
       "globalThis.copyChar = (el, c) => {\n",
       "    for (const el of document.getElementsByClassName('ccon')) {\n",
       "        el.className = 'ccoff'\n",
       "    }\n",
       "    el.className = 'ccon'\n",
       "    navigator.clipboard.writeText(String.fromCharCode(c))\n",
       "}\n",
       "</script>\n"
      ],
      "text/plain": [
       "<IPython.core.display.HTML object>"
      ]
     },
     "metadata": {},
     "output_type": "display_data"
    },
    {
     "data": {
      "text/html": [
       "<div><b>Text-Fabric API:</b> names <a target=\"_blank\" href=\"https://annotation.github.io/text-fabric/tf/cheatsheet.html\" title=\"doc\">N F E L T S C TF Fs Fall Es Eall Cs Call</a> directly usable</div><hr>"
      ],
      "text/plain": [
       "<IPython.core.display.HTML object>"
      ]
     },
     "metadata": {},
     "output_type": "display_data"
    },
    {
     "data": {
      "text/html": [
       "<b title=\"local github\">data:</b> <span title=\"repo clone offline under /Users/me/github\">~/github/annotation/mondriaan/illustrations</span>"
      ],
      "text/plain": [
       "<IPython.core.display.HTML object>"
      ]
     },
     "metadata": {},
     "output_type": "display_data"
    },
    {
     "data": {
      "text/html": [
       "Found 28 artwork-ms<br>"
      ],
      "text/plain": [
       "<IPython.core.display.HTML object>"
      ]
     },
     "metadata": {},
     "output_type": "display_data"
    }
   ],
   "source": [
    "A = use(f\"{ORG}/{REPO}:clone\", checkout=\"clone\", hoist=globals())"
   ]
  },
  {
   "cell_type": "code",
   "execution_count": 23,
   "id": "b9af13f5-b8b7-423f-bc1e-a6f81d324295",
   "metadata": {
    "tags": []
   },
   "outputs": [
    {
     "data": {
      "text/html": [
       "<details ><summary><b>specified</b></summary><ol><li><b>apiVersion</b>: <code>3</code></li><li><b>appName</b>: <code>annotation/mondriaan</code></li><li><b>appPath</b>: <code>/Users/me/github/annotation/mondriaan/app</code></li><li><b>commit</b>: <i>no value</i></li><li><details><summary><b>css</b>:</summary><code><br>.r_above {<br>position: relative;<br>top: -0.3em;<br>}<br><br>.r_below {<br>position: relative;<br>top: 0.3em;<br>}<br><br>.r_b,.r_bold {<br>font-weight: bold;<br>}<br><br>.r_center {<br>text-align: center;<br>}<br><br>.r_h1 {<br>font-size: xx-large;<br>font-weight: bold;<br>margin-top: 3rem;<br>margin-bottom: 1rem;<br>}<br><br>.r_h2 {<br>font-size: x-large;<br>font-weight: bold;<br>margin-top: 2rem;<br>margin-bottom: 1rem;<br>}<br><br>.r_h3 {<br>font-size: large;<br>font-weight: bold;<br>margin-top: 1rem;<br>margin-bottom: 0.5rem;<br>}<br><br>.r_h4 {<br>font-size: large;<br>font-style: italic;<br>margin-top: 1rem;<br>margin-bottom: 0.5rem;<br>}<br><br>.r_h5 {<br>font-size: medium;<br>font-weight: bold;<br>font-variant: small-caps;<br>margin-top: 0.5rem;<br>margin-bottom: 0.25rem;<br>}<br><br>.r_h6 {<br>font-size: medium;<br>font-weight: normal;<br>font-variant: small-caps;<br>margin-top: 0.25rem;<br>margin-bottom: 0.125rem;<br>}<br><br>.r_i,.r_italic,.r_italics {<br>font-style: italic;<br>}<br><br>.r_large {<br>font-size: large;<br>}<br><br>.r_margin {<br>position: relative;<br>top: -0.3em;<br>font-weight: bold;<br>color: #0000ee;<br>}<br><br>.r_sc,.r_small_caps,.r_smallcaps {<br>font-variant: small-caps;<br>}<br><br>.r_spaced,.r_spat {<br>letter-spacing: .2rem;<br>}<br><br>.r_sub {<br>vertical-align: sub;<br>font-size: small;<br>}<br><br>.r_sup,.r_super {<br>vertical-align: super;<br>font-size: small;<br>}<br><br>.r_ul,.r_underline {<br>text-decoration: underline;<br>}<br><br>.r_ {<br>  color: #dd22ff;<br>  text-decoration: underline;<br>}<br>.is_meta {<br>  font-family: monospace;<br>  color: #008800;<br>}<br>.is_note {<br>  font-size: small;<br>  color: #dd0055;<br>}<br><br><br>/* GRAPHICS */<br><br><br>.graphic_item {<br>  display: inline-block;<br>  padding: 0.5rem;<br>}<br><br>.graphic_set {<br>    display: flex;<br>    flex-flow: row nowrap;<br>    justify-content: flex-start;<br>    align-items: center;<br>    align-content: flex-start;<br>}<br><br>.graphic_img {<br>    display: block;<br>    max-width: 15rem ! important;<br>    max-height: 15rem ! important;<br>}<br>.graphic_caption {<br>    display: block;<br>    max-width: 15rem ! important;<br>    max-height: 15rem ! important;<br>}<br><br></code></details></li><li><details><summary><b>dataDisplay</b>:</summary><ul><li><b>excludedFeatures</b>: <code>[]</code></li><li><details><summary><b>noneValues</b>:</summary><ul><li><code>none</code></li><li><code>unknown</code></li><li><i>no value</i></li><li><code>NA</code></li></ul></details></li><li><b>sectionSep1</b>: <code>@</code></li><li><b>textFormat</b>: <code>layout-orig-full</code></li><li><b>textFormats</b>: {<b>layout-orig-full</b>: {<b>method</b>: <code>layout</code>}}</li></ul></details></li><li><details><summary><b>docs</b>:</summary><ul><li><b>docPage</b>: <code>about</code></li><li><b>featureBase</b>: <code>{docBase}/transcription.md</code></li><li><b>featurePage</b>: <code>transcription</code></li></ul></details></li><li><details><summary><b>interfaceDefaults</b>:</summary><ul><li><b>fmt</b>: <code>layout-orig-full</code></li><li><b>showGraphics</b>: <code>True</code></li></ul></details></li><li><b>isCompatible</b>: <code>True</code></li><li><b>local</b>: <code>clone</code></li><li><b>localDir</b>: <code>/Users/me/github/annotation/mondriaan/_temp</code></li><li><details><summary><b>provenanceSpec</b>:</summary><ul><li><b>branch</b>: <code>master</code></li><li><b>corpus</b>: <code>{org} - {repo}{relative}</code></li><li><b>doi</b>: <code>10.5281/zenodo.notyet</code></li><li><b>graphicsRelative</b>: <code>illustrations</code></li><li><b>moduleSpecs</b>: <code>[]</code></li><li><b>org</b>: <code>annotation</code></li><li><b>relative</b>: <code>/tf</code></li><li><b>repo</b>: <code>mondriaan</code></li><li><b>version</b>: <code>0.8.13</code></li><li><b>webBase</b>: <code>https://public.{org}.org/{repo}</code></li><li><b>webHint</b>: <code>Show this on the website</code></li><li><b>webLang</b>: <code>en</code></li><li><b>webUrl</b>: <code>{webBase}/&lt;1>/&lt;2>/&lt;3>&amp;version={version}</code></li><li><b>webUrlLex</b>: <code>{webBase}/word?version={version}&amp;id=&lt;lid></code></li></ul></details></li><li><b>release</b>: <i>no value</i></li><li><details><summary><b>typeDisplay</b>:</summary><li><details open>\n",
       "                <summary><b>rs</b>:</summary>\n",
       "                <ul><li><b>features</b>: <code>type key</code></li><li><b>graphics</b>: <code>True</code></li></ul>\n",
       "                </details></li></details></li><li><b>writing</b>: <code>''</code></li></ol></details>\n",
       "<details ><summary><b>computed</b></summary><ol><li><details><summary><b>allowedValues</b>:</summary><ul><li><details><summary><b>baseTypes</b>:</summary><ul><li><code>bibliolist</code></li><li><code>listBibl</code></li><li><code>letter</code></li><li><code>body</code></li><li><code>text</code></li><li><code>artworklist</code></li><li><code>listObject</code></li><li><code>standOff</code></li><li><code>div</code></li><li><code>page</code></li><li><code>listAnnotation</code></li><li><code>teiHeader</code></li><li><code>revisionDesc</code></li><li><code>p</code></li><li><code>postscript</code></li><li><code>artwork</code></li><li><code>note</code></li><li><code>fileDesc</code></li><li><code>bibl</code></li><li><code>titleStmt</code></li><li><code>msDesc</code></li><li><code>sourceDesc</code></li><li><code>msIdentifier</code></li><li><code>correspDesc</code></li><li><code>profileDesc</code></li><li><code>closer</code></li><li><code>address</code></li><li><code>sentence</code></li><li><code>desc</code></li><li><code>title</code></li><li><code>facsimile</code></li><li><code>classDecl</code></li><li><code>encodingDesc</code></li><li><code>correspAction</code></li><li><code>change</code></li><li><code>opener</code></li><li><code>salute</code></li><li><code>addrLine</code></li><li><code>date</code></li><li><code>head</code></li><li><code>physDesc</code></li><li><code>author</code></li><li><code>dateline</code></li><li><code>institution</code></li><li><code>name</code></li><li><code>catRef</code></li><li><code>ref</code></li><li><code>decoDesc</code></li><li><code>editor</code></li><li><code>sponsor</code></li><li><code>signed</code></li><li><code>choice</code></li><li><code>placeName</code></li><li><code>hi</code></li><li><code>surface</code></li><li><code>idno</code></li><li><code>rs</code></li><li><code>zone</code></li><li><code>decoNote</code></li><li><code>settlement</code></li><li><code>abbr</code></li><li><code>accMat</code></li><li><code>altIdentifier</code></li><li><code>country</code></li><li><code>taxonomy</code></li><li><code>del</code></li><li><code>reg</code></li><li><code>orig</code></li><li><code>add</code></li><li><code>publicationStmt</code></li><li><code>token</code></li><li><code>expan</code></li><li><code>graphic</code></li><li><code>lb</code></li><li><code>measure</code></li><li><code>objectDesc</code></li><li><code>postmark</code></li><li><code>ptr</code></li><li><code>relation</code></li><li><code>space</code></li><li><code>unclear</code></li><li><code>t</code></li></ul></details></li><li><details><summary><b>condenseType</b>:</summary><ul><li><code>folder</code></li><li><code>bibliolist</code></li><li><code>listBibl</code></li><li><code>file</code></li><li><code>letter</code></li><li><code>body</code></li><li><code>text</code></li><li><code>artworklist</code></li><li><code>listObject</code></li><li><code>standOff</code></li><li><code>div</code></li><li><code>page</code></li><li><code>listAnnotation</code></li><li><code>chunk</code></li><li><code>teiHeader</code></li><li><code>revisionDesc</code></li><li><code>p</code></li><li><code>postscript</code></li><li><code>artwork</code></li><li><code>note</code></li><li><code>fileDesc</code></li><li><code>bibl</code></li><li><code>titleStmt</code></li><li><code>msDesc</code></li><li><code>sourceDesc</code></li><li><code>msIdentifier</code></li><li><code>correspDesc</code></li><li><code>profileDesc</code></li><li><code>closer</code></li><li><code>address</code></li><li><code>sentence</code></li><li><code>desc</code></li><li><code>title</code></li><li><code>facsimile</code></li><li><code>classDecl</code></li><li><code>encodingDesc</code></li><li><code>correspAction</code></li><li><code>change</code></li><li><code>opener</code></li><li><code>salute</code></li><li><code>addrLine</code></li><li><code>date</code></li><li><code>head</code></li><li><code>physDesc</code></li><li><code>author</code></li><li><code>dateline</code></li><li><code>institution</code></li><li><code>name</code></li><li><code>catRef</code></li><li><code>ref</code></li><li><code>decoDesc</code></li><li><code>editor</code></li><li><code>sponsor</code></li><li><code>signed</code></li><li><code>choice</code></li><li><code>placeName</code></li><li><code>hi</code></li><li><code>surface</code></li><li><code>idno</code></li><li><code>rs</code></li><li><code>zone</code></li><li><code>decoNote</code></li><li><code>settlement</code></li><li><code>abbr</code></li><li><code>accMat</code></li><li><code>altIdentifier</code></li><li><code>country</code></li><li><code>taxonomy</code></li><li><code>del</code></li><li><code>reg</code></li><li><code>orig</code></li><li><code>add</code></li><li><code>publicationStmt</code></li><li><code>token</code></li><li><code>expan</code></li><li><code>graphic</code></li><li><code>lb</code></li><li><code>measure</code></li><li><code>objectDesc</code></li><li><code>postmark</code></li><li><code>ptr</code></li><li><code>relation</code></li><li><code>space</code></li><li><code>unclear</code></li></ul></details></li><li><details><summary><b>edgeFeatures</b>:</summary><ul><li><code>link_ref</code></li><li><code>link_target</code></li><li><code>parent</code></li><li><code>sibling</code></li></ul></details></li><li><details><summary><b>hiddenTypes</b>:</summary><ul><li><code>bibliolist</code></li><li><code>listBibl</code></li><li><code>letter</code></li><li><code>body</code></li><li><code>text</code></li><li><code>artworklist</code></li><li><code>listObject</code></li><li><code>standOff</code></li><li><code>div</code></li><li><code>page</code></li><li><code>listAnnotation</code></li><li><code>teiHeader</code></li><li><code>revisionDesc</code></li><li><code>p</code></li><li><code>postscript</code></li><li><code>artwork</code></li><li><code>note</code></li><li><code>fileDesc</code></li><li><code>bibl</code></li><li><code>titleStmt</code></li><li><code>msDesc</code></li><li><code>sourceDesc</code></li><li><code>msIdentifier</code></li><li><code>correspDesc</code></li><li><code>profileDesc</code></li><li><code>closer</code></li><li><code>address</code></li><li><code>sentence</code></li><li><code>desc</code></li><li><code>title</code></li><li><code>facsimile</code></li><li><code>classDecl</code></li><li><code>encodingDesc</code></li><li><code>correspAction</code></li><li><code>change</code></li><li><code>opener</code></li><li><code>salute</code></li><li><code>addrLine</code></li><li><code>date</code></li><li><code>head</code></li><li><code>physDesc</code></li><li><code>author</code></li><li><code>dateline</code></li><li><code>institution</code></li><li><code>name</code></li><li><code>catRef</code></li><li><code>ref</code></li><li><code>decoDesc</code></li><li><code>editor</code></li><li><code>sponsor</code></li><li><code>signed</code></li><li><code>choice</code></li><li><code>placeName</code></li><li><code>hi</code></li><li><code>surface</code></li><li><code>idno</code></li><li><code>rs</code></li><li><code>zone</code></li><li><code>decoNote</code></li><li><code>settlement</code></li><li><code>abbr</code></li><li><code>accMat</code></li><li><code>altIdentifier</code></li><li><code>country</code></li><li><code>taxonomy</code></li><li><code>del</code></li><li><code>reg</code></li><li><code>orig</code></li><li><code>add</code></li><li><code>publicationStmt</code></li><li><code>token</code></li><li><code>expan</code></li><li><code>graphic</code></li><li><code>lb</code></li><li><code>measure</code></li><li><code>objectDesc</code></li><li><code>postmark</code></li><li><code>ptr</code></li><li><code>relation</code></li><li><code>space</code></li><li><code>unclear</code></li></ul></details></li><li><details><summary><b>textFormat</b>:</summary><ul><li><b>layout-orig-full</b>: <code>t</code></li><li><b>text-orig-full</b>: <code>t</code></li></ul></details></li></ul></details></li><li><b>apiVersion</b>: <code>3</code></li><li><b>appName</b>: <code>annotation/mondriaan</code></li><li><b>appPath</b>: <code>/Users/me/github/annotation/mondriaan/app</code></li><li><b>baseTypes</b>: {<code>t</code>}</li><li><b>bigTypes</b>: <code>set()</code></li><li><b>branch</b>: <code>master</code></li><li><b>browseContentPretty</b>: <code>0</code></li><li><b>browseNavLevel</b>: <code>2</code></li><li><b>charLoc</b>: <code>''</code></li><li><b>charText</b>: <code>How TF features represent text</code></li><li><b>charUrl</b>: <code>https://annotation.github.io/text-fabric/tf/writing/</code></li><li><details><summary><b>childType</b>:</summary><ul><li><b>abbr</b>: {<code>accMat</code>}</li><li><b>accMat</b>: {<code>altIdentifier</code>}</li><li><b>add</b>: {<code>publicationStmt</code>}</li><li><b>addrLine</b>: {<code>date</code>}</li><li><b>address</b>: {<code>sentence</code>}</li><li><b>altIdentifier</b>: {<code>country</code>}</li><li><b>artwork</b>: {<code>note</code>}</li><li><b>artworklist</b>: {<code>listObject</code>}</li><li><b>author</b>: {<code>dateline</code>}</li><li><b>bibl</b>: {<code>titleStmt</code>}</li><li><b>bibliolist</b>: {<code>listBibl</code>}</li><li><b>body</b>: {<code>text</code>}</li><li><b>catRef</b>: {<code>ref</code>}</li><li><b>change</b>: {<code>opener</code>}</li><li><b>choice</b>: {<code>placeName</code>}</li><li><b>chunk</b>: {<code>teiHeader</code>}</li><li><b>classDecl</b>: {<code>encodingDesc</code>}</li><li><b>closer</b>: {<code>address</code>}</li><li><b>correspAction</b>: {<code>change</code>}</li><li><b>correspDesc</b>: {<code>profileDesc</code>}</li><li><b>country</b>: {<code>taxonomy</code>}</li><li><b>date</b>: {<code>head</code>}</li><li><b>dateline</b>: {<code>institution</code>}</li><li><b>decoDesc</b>: {<code>editor</code>}</li><li><b>decoNote</b>: {<code>settlement</code>}</li><li><b>del</b>: {<code>reg</code>}</li><li><b>desc</b>: {<code>title</code>}</li><li><b>div</b>: {<code>page</code>}</li><li><b>editor</b>: {<code>sponsor</code>}</li><li><b>encodingDesc</b>: {<code>correspAction</code>}</li><li><b>expan</b>: {<code>graphic</code>}</li><li><b>facsimile</b>: {<code>classDecl</code>}</li><li><details><summary><b>file</b>:</summary><ul><li><code>chunk</code></li><li><code>letter</code></li></ul></details></li><li><b>fileDesc</b>: {<code>bibl</code>}</li><li><details><summary><b>folder</b>:</summary><ul><li><code>bibliolist</code></li><li><code>file</code></li></ul></details></li><li><b>graphic</b>: {<code>lb</code>}</li><li><b>head</b>: {<code>physDesc</code>}</li><li><b>hi</b>: {<code>surface</code>}</li><li><b>idno</b>: {<code>rs</code>}</li><li><b>institution</b>: {<code>name</code>}</li><li><b>lb</b>: {<code>measure</code>}</li><li><b>letter</b>: {<code>body</code>}</li><li><b>listAnnotation</b>: {<code>chunk</code>}</li><li><b>listBibl</b>: {<code>file</code>}</li><li><b>listObject</b>: {<code>standOff</code>}</li><li><b>measure</b>: {<code>objectDesc</code>}</li><li><b>msDesc</b>: {<code>sourceDesc</code>}</li><li><b>msIdentifier</b>: {<code>correspDesc</code>}</li><li><b>name</b>: {<code>catRef</code>}</li><li><b>note</b>: {<code>fileDesc</code>}</li><li><b>objectDesc</b>: {<code>postmark</code>}</li><li><b>opener</b>: {<code>salute</code>}</li><li><b>orig</b>: {<code>add</code>}</li><li><b>p</b>: {<code>postscript</code>}</li><li><b>page</b>: {<code>listAnnotation</code>}</li><li><b>physDesc</b>: {<code>author</code>}</li><li><b>placeName</b>: {<code>hi</code>}</li><li><b>postmark</b>: {<code>ptr</code>}</li><li><b>postscript</b>: {<code>artwork</code>}</li><li><b>profileDesc</b>: {<code>closer</code>}</li><li><b>ptr</b>: {<code>relation</code>}</li><li><b>publicationStmt</b>: {<code>token</code>}</li><li><b>ref</b>: {<code>decoDesc</code>}</li><li><b>reg</b>: {<code>orig</code>}</li><li><b>relation</b>: {<code>space</code>}</li><li><b>revisionDesc</b>: {<code>p</code>}</li><li><b>rs</b>: {<code>zone</code>}</li><li><b>salute</b>: {<code>addrLine</code>}</li><li><b>sentence</b>: {<code>desc</code>}</li><li><b>settlement</b>: {<code>abbr</code>}</li><li><b>signed</b>: {<code>choice</code>}</li><li><b>sourceDesc</b>: {<code>msIdentifier</code>}</li><li><b>space</b>: {<code>unclear</code>}</li><li><b>sponsor</b>: {<code>signed</code>}</li><li><b>standOff</b>: {<code>div</code>}</li><li><b>surface</b>: {<code>idno</code>}</li><li><b>taxonomy</b>: {<code>del</code>}</li><li><b>teiHeader</b>: {<code>revisionDesc</code>}</li><li><b>text</b>: {<code>artworklist</code>}</li><li><b>title</b>: {<code>facsimile</code>}</li><li><b>titleStmt</b>: {<code>msDesc</code>}</li><li><b>token</b>: {<code>expan</code>}</li><li><b>unclear</b>: {<code>t</code>}</li><li><b>zone</b>: {<code>decoNote</code>}</li></ul></details></li><li><b>commit</b>: <i>no value</i></li><li><b>condenseType</b>: <code>chunk</code></li><li><b>corpus</b>: <code>annotation - mondriaan/tf</code></li><li><details><summary><b>css</b>:</summary><code><br>.r_above {<br>position: relative;<br>top: -0.3em;<br>}<br><br>.r_below {<br>position: relative;<br>top: 0.3em;<br>}<br><br>.r_b,.r_bold {<br>font-weight: bold;<br>}<br><br>.r_center {<br>text-align: center;<br>}<br><br>.r_h1 {<br>font-size: xx-large;<br>font-weight: bold;<br>margin-top: 3rem;<br>margin-bottom: 1rem;<br>}<br><br>.r_h2 {<br>font-size: x-large;<br>font-weight: bold;<br>margin-top: 2rem;<br>margin-bottom: 1rem;<br>}<br><br>.r_h3 {<br>font-size: large;<br>font-weight: bold;<br>margin-top: 1rem;<br>margin-bottom: 0.5rem;<br>}<br><br>.r_h4 {<br>font-size: large;<br>font-style: italic;<br>margin-top: 1rem;<br>margin-bottom: 0.5rem;<br>}<br><br>.r_h5 {<br>font-size: medium;<br>font-weight: bold;<br>font-variant: small-caps;<br>margin-top: 0.5rem;<br>margin-bottom: 0.25rem;<br>}<br><br>.r_h6 {<br>font-size: medium;<br>font-weight: normal;<br>font-variant: small-caps;<br>margin-top: 0.25rem;<br>margin-bottom: 0.125rem;<br>}<br><br>.r_i,.r_italic,.r_italics {<br>font-style: italic;<br>}<br><br>.r_large {<br>font-size: large;<br>}<br><br>.r_margin {<br>position: relative;<br>top: -0.3em;<br>font-weight: bold;<br>color: #0000ee;<br>}<br><br>.r_sc,.r_small_caps,.r_smallcaps {<br>font-variant: small-caps;<br>}<br><br>.r_spaced,.r_spat {<br>letter-spacing: .2rem;<br>}<br><br>.r_sub {<br>vertical-align: sub;<br>font-size: small;<br>}<br><br>.r_sup,.r_super {<br>vertical-align: super;<br>font-size: small;<br>}<br><br>.r_ul,.r_underline {<br>text-decoration: underline;<br>}<br><br>.r_ {<br>  color: #dd22ff;<br>  text-decoration: underline;<br>}<br>.is_meta {<br>  font-family: monospace;<br>  color: #008800;<br>}<br>.is_note {<br>  font-size: small;<br>  color: #dd0055;<br>}<br><br><br>/* GRAPHICS */<br><br><br>.graphic_item {<br>  display: inline-block;<br>  padding: 0.5rem;<br>}<br><br>.graphic_set {<br>    display: flex;<br>    flex-flow: row nowrap;<br>    justify-content: flex-start;<br>    align-items: center;<br>    align-content: flex-start;<br>}<br><br>.graphic_img {<br>    display: block;<br>    max-width: 15rem ! important;<br>    max-height: 15rem ! important;<br>}<br>.graphic_caption {<br>    display: block;<br>    max-width: 15rem ! important;<br>    max-height: 15rem ! important;<br>}<br><br></code></details></li><li><details><summary><b>dataDisplay</b>:</summary><ul><li><b>excludedFeatures</b>: <code>[]</code></li><li><details><summary><b>noneValues</b>:</summary><ul><li><code>none</code></li><li><code>unknown</code></li><li><i>no value</i></li><li><code>NA</code></li></ul></details></li><li><b>sectionSep1</b>: <code>@</code></li><li><b>textFormat</b>: <code>layout-orig-full</code></li><li><b>textFormats</b>: {<b>layout-orig-full</b>: {<b>method</b>: <code>layout</code>}}</li></ul></details></li><li><b>defaultClsOrig</b>: <code>txtu</code></li><li><details><summary><b>descendantType</b>:</summary><ul><li><details><summary><b>abbr</b>:</summary><ul><li><code>token</code></li><li><code>objectDesc</code></li><li><code>lb</code></li><li><code>accMat</code></li><li><code>abbr</code></li><li><code>ptr</code></li><li><code>graphic</code></li><li><code>taxonomy</code></li><li><code>postmark</code></li><li><code>del</code></li><li><code>country</code></li><li><code>expan</code></li><li><code>reg</code></li><li><code>relation</code></li><li><code>t</code></li><li><code>orig</code></li><li><code>space</code></li><li><code>altIdentifier</code></li><li><code>publicationStmt</code></li><li><code>add</code></li><li><code>measure</code></li><li><code>unclear</code></li></ul></details></li><li><details><summary><b>accMat</b>:</summary><ul><li><code>token</code></li><li><code>objectDesc</code></li><li><code>lb</code></li><li><code>accMat</code></li><li><code>ptr</code></li><li><code>graphic</code></li><li><code>taxonomy</code></li><li><code>postmark</code></li><li><code>del</code></li><li><code>country</code></li><li><code>expan</code></li><li><code>reg</code></li><li><code>relation</code></li><li><code>t</code></li><li><code>orig</code></li><li><code>space</code></li><li><code>altIdentifier</code></li><li><code>publicationStmt</code></li><li><code>add</code></li><li><code>measure</code></li><li><code>unclear</code></li></ul></details></li><li><details><summary><b>add</b>:</summary><ul><li><code>token</code></li><li><code>expan</code></li><li><code>ptr</code></li><li><code>graphic</code></li><li><code>add</code></li><li><code>objectDesc</code></li><li><code>lb</code></li><li><code>relation</code></li><li><code>t</code></li><li><code>postmark</code></li><li><code>measure</code></li><li><code>space</code></li><li><code>unclear</code></li><li><code>publicationStmt</code></li></ul></details></li><li><details><summary><b>addrLine</b>:</summary><ul><li><code>token</code></li><li><code>editor</code></li><li><code>physDesc</code></li><li><code>ref</code></li><li><code>lb</code></li><li><code>objectDesc</code></li><li><code>author</code></li><li><code>hi</code></li><li><code>surface</code></li><li><code>name</code></li><li><code>zone</code></li><li><code>rs</code></li><li><code>accMat</code></li><li><code>addrLine</code></li><li><code>abbr</code></li><li><code>ptr</code></li><li><code>graphic</code></li><li><code>taxonomy</code></li><li><code>decoDesc</code></li><li><code>catRef</code></li><li><code>postmark</code></li><li><code>del</code></li><li><code>institution</code></li><li><code>settlement</code></li><li><code>dateline</code></li><li><code>country</code></li><li><code>expan</code></li><li><code>reg</code></li><li><code>relation</code></li><li><code>head</code></li><li><code>placeName</code></li><li><code>t</code></li><li><code>orig</code></li><li><code>decoNote</code></li><li><code>space</code></li><li><code>idno</code></li><li><code>altIdentifier</code></li><li><code>publicationStmt</code></li><li><code>date</code></li><li><code>signed</code></li><li><code>choice</code></li><li><code>add</code></li><li><code>measure</code></li><li><code>unclear</code></li><li><code>sponsor</code></li></ul></details></li><li><details><summary><b>address</b>:</summary><ul><li><code>token</code></li><li><code>editor</code></li><li><code>encodingDesc</code></li><li><code>physDesc</code></li><li><code>ref</code></li><li><code>lb</code></li><li><code>objectDesc</code></li><li><code>author</code></li><li><code>hi</code></li><li><code>surface</code></li><li><code>name</code></li><li><code>zone</code></li><li><code>desc</code></li><li><code>rs</code></li><li><code>opener</code></li><li><code>addrLine</code></li><li><code>accMat</code></li><li><code>abbr</code></li><li><code>ptr</code></li><li><code>correspAction</code></li><li><code>taxonomy</code></li><li><code>graphic</code></li><li><code>decoDesc</code></li><li><code>catRef</code></li><li><code>classDecl</code></li><li><code>postmark</code></li><li><code>del</code></li><li><code>title</code></li><li><code>facsimile</code></li><li><code>institution</code></li><li><code>settlement</code></li><li><code>salute</code></li><li><code>address</code></li><li><code>dateline</code></li><li><code>country</code></li><li><code>expan</code></li><li><code>reg</code></li><li><code>relation</code></li><li><code>head</code></li><li><code>placeName</code></li><li><code>change</code></li><li><code>t</code></li><li><code>orig</code></li><li><code>decoNote</code></li><li><code>space</code></li><li><code>idno</code></li><li><code>altIdentifier</code></li><li><code>publicationStmt</code></li><li><code>date</code></li><li><code>signed</code></li><li><code>choice</code></li><li><code>add</code></li><li><code>sentence</code></li><li><code>measure</code></li><li><code>unclear</code></li><li><code>sponsor</code></li></ul></details></li><li><details><summary><b>altIdentifier</b>:</summary><ul><li><code>token</code></li><li><code>objectDesc</code></li><li><code>lb</code></li><li><code>ptr</code></li><li><code>graphic</code></li><li><code>taxonomy</code></li><li><code>postmark</code></li><li><code>del</code></li><li><code>country</code></li><li><code>expan</code></li><li><code>reg</code></li><li><code>relation</code></li><li><code>t</code></li><li><code>orig</code></li><li><code>space</code></li><li><code>altIdentifier</code></li><li><code>publicationStmt</code></li><li><code>add</code></li><li><code>measure</code></li><li><code>unclear</code></li></ul></details></li><li><details><summary><b>artwork</b>:</summary><ul><li><code>token</code></li><li><code>editor</code></li><li><code>encodingDesc</code></li><li><code>physDesc</code></li><li><code>bibl</code></li><li><code>ref</code></li><li><code>lb</code></li><li><code>objectDesc</code></li><li><code>author</code></li><li><code>hi</code></li><li><code>surface</code></li><li><code>name</code></li><li><code>zone</code></li><li><code>desc</code></li><li><code>rs</code></li><li><code>opener</code></li><li><code>addrLine</code></li><li><code>correspDesc</code></li><li><code>abbr</code></li><li><code>accMat</code></li><li><code>ptr</code></li><li><code>correspAction</code></li><li><code>msIdentifier</code></li><li><code>closer</code></li><li><code>decoDesc</code></li><li><code>taxonomy</code></li><li><code>catRef</code></li><li><code>graphic</code></li><li><code>classDecl</code></li><li><code>postmark</code></li><li><code>del</code></li><li><code>title</code></li><li><code>facsimile</code></li><li><code>institution</code></li><li><code>settlement</code></li><li><code>salute</code></li><li><code>profileDesc</code></li><li><code>address</code></li><li><code>titleStmt</code></li><li><code>dateline</code></li><li><code>country</code></li><li><code>expan</code></li><li><code>reg</code></li><li><code>relation</code></li><li><code>head</code></li><li><code>placeName</code></li><li><code>change</code></li><li><code>t</code></li><li><code>orig</code></li><li><code>decoNote</code></li><li><code>fileDesc</code></li><li><code>note</code></li><li><code>space</code></li><li><code>idno</code></li><li><code>altIdentifier</code></li><li><code>publicationStmt</code></li><li><code>date</code></li><li><code>signed</code></li><li><code>choice</code></li><li><code>msDesc</code></li><li><code>add</code></li><li><code>sourceDesc</code></li><li><code>sentence</code></li><li><code>measure</code></li><li><code>unclear</code></li><li><code>sponsor</code></li><li><code>artwork</code></li></ul></details></li><li><details><summary><b>artworklist</b>:</summary><ul><li><code>token</code></li><li><code>ref</code></li><li><code>chunk</code></li><li><code>objectDesc</code></li><li><code>author</code></li><li><code>teiHeader</code></li><li><code>zone</code></li><li><code>opener</code></li><li><code>abbr</code></li><li><code>correspAction</code></li><li><code>msIdentifier</code></li><li><code>closer</code></li><li><code>revisionDesc</code></li><li><code>decoDesc</code></li><li><code>postmark</code></li><li><code>settlement</code></li><li><code>salute</code></li><li><code>listObject</code></li><li><code>reg</code></li><li><code>publicationStmt</code></li><li><code>date</code></li><li><code>add</code></li><li><code>measure</code></li><li><code>editor</code></li><li><code>encodingDesc</code></li><li><code>desc</code></li><li><code>div</code></li><li><code>ptr</code></li><li><code>postscript</code></li><li><code>taxonomy</code></li><li><code>del</code></li><li><code>title</code></li><li><code>institution</code></li><li><code>country</code></li><li><code>change</code></li><li><code>t</code></li><li><code>decoNote</code></li><li><code>fileDesc</code></li><li><code>note</code></li><li><code>signed</code></li><li><code>physDesc</code></li><li><code>bibl</code></li><li><code>lb</code></li><li><code>name</code></li><li><code>addrLine</code></li><li><code>correspDesc</code></li><li><code>graphic</code></li><li><code>listAnnotation</code></li><li><code>classDecl</code></li><li><code>artworklist</code></li><li><code>dateline</code></li><li><code>page</code></li><li><code>head</code></li><li><code>placeName</code></li><li><code>space</code></li><li><code>idno</code></li><li><code>altIdentifier</code></li><li><code>msDesc</code></li><li><code>sentence</code></li><li><code>sponsor</code></li><li><code>artwork</code></li><li><code>p</code></li><li><code>hi</code></li><li><code>surface</code></li><li><code>rs</code></li><li><code>accMat</code></li><li><code>catRef</code></li><li><code>standOff</code></li><li><code>facsimile</code></li><li><code>profileDesc</code></li><li><code>address</code></li><li><code>titleStmt</code></li><li><code>expan</code></li><li><code>relation</code></li><li><code>orig</code></li><li><code>choice</code></li><li><code>sourceDesc</code></li><li><code>unclear</code></li></ul></details></li><li><details><summary><b>author</b>:</summary><ul><li><code>token</code></li><li><code>editor</code></li><li><code>ref</code></li><li><code>lb</code></li><li><code>objectDesc</code></li><li><code>author</code></li><li><code>hi</code></li><li><code>surface</code></li><li><code>name</code></li><li><code>zone</code></li><li><code>rs</code></li><li><code>accMat</code></li><li><code>abbr</code></li><li><code>ptr</code></li><li><code>graphic</code></li><li><code>taxonomy</code></li><li><code>decoDesc</code></li><li><code>catRef</code></li><li><code>postmark</code></li><li><code>del</code></li><li><code>institution</code></li><li><code>settlement</code></li><li><code>dateline</code></li><li><code>country</code></li><li><code>expan</code></li><li><code>reg</code></li><li><code>relation</code></li><li><code>placeName</code></li><li><code>t</code></li><li><code>orig</code></li><li><code>decoNote</code></li><li><code>space</code></li><li><code>idno</code></li><li><code>altIdentifier</code></li><li><code>publicationStmt</code></li><li><code>signed</code></li><li><code>choice</code></li><li><code>add</code></li><li><code>measure</code></li><li><code>unclear</code></li><li><code>sponsor</code></li></ul></details></li><li><details><summary><b>bibl</b>:</summary><ul><li><code>token</code></li><li><code>editor</code></li><li><code>encodingDesc</code></li><li><code>physDesc</code></li><li><code>ref</code></li><li><code>lb</code></li><li><code>objectDesc</code></li><li><code>bibl</code></li><li><code>author</code></li><li><code>hi</code></li><li><code>surface</code></li><li><code>name</code></li><li><code>zone</code></li><li><code>desc</code></li><li><code>rs</code></li><li><code>opener</code></li><li><code>addrLine</code></li><li><code>correspDesc</code></li><li><code>abbr</code></li><li><code>accMat</code></li><li><code>ptr</code></li><li><code>correspAction</code></li><li><code>msIdentifier</code></li><li><code>closer</code></li><li><code>decoDesc</code></li><li><code>taxonomy</code></li><li><code>catRef</code></li><li><code>graphic</code></li><li><code>classDecl</code></li><li><code>postmark</code></li><li><code>del</code></li><li><code>title</code></li><li><code>facsimile</code></li><li><code>institution</code></li><li><code>settlement</code></li><li><code>salute</code></li><li><code>profileDesc</code></li><li><code>address</code></li><li><code>titleStmt</code></li><li><code>dateline</code></li><li><code>country</code></li><li><code>expan</code></li><li><code>reg</code></li><li><code>relation</code></li><li><code>head</code></li><li><code>placeName</code></li><li><code>change</code></li><li><code>t</code></li><li><code>orig</code></li><li><code>decoNote</code></li><li><code>space</code></li><li><code>idno</code></li><li><code>altIdentifier</code></li><li><code>publicationStmt</code></li><li><code>date</code></li><li><code>signed</code></li><li><code>choice</code></li><li><code>msDesc</code></li><li><code>add</code></li><li><code>sourceDesc</code></li><li><code>sentence</code></li><li><code>measure</code></li><li><code>unclear</code></li><li><code>sponsor</code></li></ul></details></li><li><details><summary><b>bibliolist</b>:</summary><ul><li><code>token</code></li><li><code>letter</code></li><li><code>ref</code></li><li><code>chunk</code></li><li><code>objectDesc</code></li><li><code>author</code></li><li><code>teiHeader</code></li><li><code>zone</code></li><li><code>opener</code></li><li><code>abbr</code></li><li><code>correspAction</code></li><li><code>msIdentifier</code></li><li><code>closer</code></li><li><code>revisionDesc</code></li><li><code>text</code></li><li><code>decoDesc</code></li><li><code>postmark</code></li><li><code>settlement</code></li><li><code>salute</code></li><li><code>listObject</code></li><li><code>bibliolist</code></li><li><code>reg</code></li><li><code>publicationStmt</code></li><li><code>date</code></li><li><code>add</code></li><li><code>measure</code></li><li><code>editor</code></li><li><code>listBibl</code></li><li><code>encodingDesc</code></li><li><code>desc</code></li><li><code>div</code></li><li><code>ptr</code></li><li><code>postscript</code></li><li><code>taxonomy</code></li><li><code>del</code></li><li><code>title</code></li><li><code>institution</code></li><li><code>country</code></li><li><code>change</code></li><li><code>t</code></li><li><code>decoNote</code></li><li><code>fileDesc</code></li><li><code>note</code></li><li><code>signed</code></li><li><code>physDesc</code></li><li><code>bibl</code></li><li><code>lb</code></li><li><code>name</code></li><li><code>addrLine</code></li><li><code>correspDesc</code></li><li><code>graphic</code></li><li><code>listAnnotation</code></li><li><code>classDecl</code></li><li><code>body</code></li><li><code>artworklist</code></li><li><code>dateline</code></li><li><code>page</code></li><li><code>head</code></li><li><code>placeName</code></li><li><code>space</code></li><li><code>idno</code></li><li><code>altIdentifier</code></li><li><code>msDesc</code></li><li><code>sentence</code></li><li><code>sponsor</code></li><li><code>artwork</code></li><li><code>file</code></li><li><code>p</code></li><li><code>hi</code></li><li><code>surface</code></li><li><code>rs</code></li><li><code>accMat</code></li><li><code>catRef</code></li><li><code>standOff</code></li><li><code>facsimile</code></li><li><code>profileDesc</code></li><li><code>address</code></li><li><code>titleStmt</code></li><li><code>expan</code></li><li><code>relation</code></li><li><code>orig</code></li><li><code>choice</code></li><li><code>sourceDesc</code></li><li><code>unclear</code></li></ul></details></li><li><details><summary><b>body</b>:</summary><ul><li><code>token</code></li><li><code>ref</code></li><li><code>chunk</code></li><li><code>objectDesc</code></li><li><code>author</code></li><li><code>teiHeader</code></li><li><code>zone</code></li><li><code>opener</code></li><li><code>abbr</code></li><li><code>correspAction</code></li><li><code>msIdentifier</code></li><li><code>closer</code></li><li><code>text</code></li><li><code>revisionDesc</code></li><li><code>decoDesc</code></li><li><code>postmark</code></li><li><code>settlement</code></li><li><code>salute</code></li><li><code>listObject</code></li><li><code>reg</code></li><li><code>publicationStmt</code></li><li><code>date</code></li><li><code>add</code></li><li><code>measure</code></li><li><code>editor</code></li><li><code>encodingDesc</code></li><li><code>desc</code></li><li><code>div</code></li><li><code>ptr</code></li><li><code>postscript</code></li><li><code>taxonomy</code></li><li><code>del</code></li><li><code>title</code></li><li><code>institution</code></li><li><code>country</code></li><li><code>change</code></li><li><code>t</code></li><li><code>decoNote</code></li><li><code>fileDesc</code></li><li><code>note</code></li><li><code>signed</code></li><li><code>physDesc</code></li><li><code>bibl</code></li><li><code>lb</code></li><li><code>name</code></li><li><code>addrLine</code></li><li><code>correspDesc</code></li><li><code>graphic</code></li><li><code>listAnnotation</code></li><li><code>classDecl</code></li><li><code>body</code></li><li><code>artworklist</code></li><li><code>dateline</code></li><li><code>page</code></li><li><code>head</code></li><li><code>placeName</code></li><li><code>space</code></li><li><code>idno</code></li><li><code>altIdentifier</code></li><li><code>msDesc</code></li><li><code>sentence</code></li><li><code>sponsor</code></li><li><code>artwork</code></li><li><code>p</code></li><li><code>hi</code></li><li><code>surface</code></li><li><code>rs</code></li><li><code>accMat</code></li><li><code>catRef</code></li><li><code>standOff</code></li><li><code>facsimile</code></li><li><code>profileDesc</code></li><li><code>address</code></li><li><code>titleStmt</code></li><li><code>expan</code></li><li><code>relation</code></li><li><code>orig</code></li><li><code>choice</code></li><li><code>sourceDesc</code></li><li><code>unclear</code></li></ul></details></li><li><details><summary><b>catRef</b>:</summary><ul><li><code>token</code></li><li><code>editor</code></li><li><code>ref</code></li><li><code>lb</code></li><li><code>objectDesc</code></li><li><code>hi</code></li><li><code>surface</code></li><li><code>zone</code></li><li><code>rs</code></li><li><code>accMat</code></li><li><code>abbr</code></li><li><code>ptr</code></li><li><code>graphic</code></li><li><code>taxonomy</code></li><li><code>decoDesc</code></li><li><code>catRef</code></li><li><code>postmark</code></li><li><code>del</code></li><li><code>settlement</code></li><li><code>country</code></li><li><code>expan</code></li><li><code>reg</code></li><li><code>relation</code></li><li><code>placeName</code></li><li><code>t</code></li><li><code>orig</code></li><li><code>decoNote</code></li><li><code>space</code></li><li><code>idno</code></li><li><code>altIdentifier</code></li><li><code>publicationStmt</code></li><li><code>signed</code></li><li><code>choice</code></li><li><code>add</code></li><li><code>measure</code></li><li><code>unclear</code></li><li><code>sponsor</code></li></ul></details></li><li><details><summary><b>change</b>:</summary><ul><li><code>token</code></li><li><code>editor</code></li><li><code>physDesc</code></li><li><code>ref</code></li><li><code>lb</code></li><li><code>objectDesc</code></li><li><code>author</code></li><li><code>hi</code></li><li><code>surface</code></li><li><code>name</code></li><li><code>zone</code></li><li><code>rs</code></li><li><code>opener</code></li><li><code>addrLine</code></li><li><code>accMat</code></li><li><code>abbr</code></li><li><code>ptr</code></li><li><code>graphic</code></li><li><code>taxonomy</code></li><li><code>decoDesc</code></li><li><code>catRef</code></li><li><code>postmark</code></li><li><code>del</code></li><li><code>institution</code></li><li><code>settlement</code></li><li><code>salute</code></li><li><code>dateline</code></li><li><code>country</code></li><li><code>expan</code></li><li><code>reg</code></li><li><code>relation</code></li><li><code>head</code></li><li><code>placeName</code></li><li><code>change</code></li><li><code>t</code></li><li><code>orig</code></li><li><code>decoNote</code></li><li><code>space</code></li><li><code>idno</code></li><li><code>altIdentifier</code></li><li><code>publicationStmt</code></li><li><code>date</code></li><li><code>signed</code></li><li><code>choice</code></li><li><code>add</code></li><li><code>measure</code></li><li><code>unclear</code></li><li><code>sponsor</code></li></ul></details></li><li><details><summary><b>choice</b>:</summary><ul><li><code>token</code></li><li><code>objectDesc</code></li><li><code>lb</code></li><li><code>hi</code></li><li><code>surface</code></li><li><code>zone</code></li><li><code>rs</code></li><li><code>accMat</code></li><li><code>abbr</code></li><li><code>ptr</code></li><li><code>graphic</code></li><li><code>taxonomy</code></li><li><code>postmark</code></li><li><code>del</code></li><li><code>settlement</code></li><li><code>country</code></li><li><code>expan</code></li><li><code>reg</code></li><li><code>relation</code></li><li><code>placeName</code></li><li><code>t</code></li><li><code>orig</code></li><li><code>decoNote</code></li><li><code>space</code></li><li><code>idno</code></li><li><code>altIdentifier</code></li><li><code>publicationStmt</code></li><li><code>add</code></li><li><code>choice</code></li><li><code>measure</code></li><li><code>unclear</code></li></ul></details></li><li><details><summary><b>chunk</b>:</summary><ul><li><code>token</code></li><li><code>editor</code></li><li><code>encodingDesc</code></li><li><code>physDesc</code></li><li><code>bibl</code></li><li><code>ref</code></li><li><code>p</code></li><li><code>lb</code></li><li><code>objectDesc</code></li><li><code>author</code></li><li><code>chunk</code></li><li><code>hi</code></li><li><code>teiHeader</code></li><li><code>name</code></li><li><code>surface</code></li><li><code>zone</code></li><li><code>desc</code></li><li><code>rs</code></li><li><code>opener</code></li><li><code>addrLine</code></li><li><code>correspDesc</code></li><li><code>abbr</code></li><li><code>accMat</code></li><li><code>ptr</code></li><li><code>correspAction</code></li><li><code>postscript</code></li><li><code>msIdentifier</code></li><li><code>revisionDesc</code></li><li><code>closer</code></li><li><code>catRef</code></li><li><code>decoDesc</code></li><li><code>taxonomy</code></li><li><code>classDecl</code></li><li><code>graphic</code></li><li><code>postmark</code></li><li><code>del</code></li><li><code>title</code></li><li><code>facsimile</code></li><li><code>institution</code></li><li><code>settlement</code></li><li><code>salute</code></li><li><code>profileDesc</code></li><li><code>address</code></li><li><code>titleStmt</code></li><li><code>dateline</code></li><li><code>country</code></li><li><code>expan</code></li><li><code>reg</code></li><li><code>relation</code></li><li><code>head</code></li><li><code>placeName</code></li><li><code>change</code></li><li><code>t</code></li><li><code>orig</code></li><li><code>decoNote</code></li><li><code>fileDesc</code></li><li><code>note</code></li><li><code>space</code></li><li><code>idno</code></li><li><code>altIdentifier</code></li><li><code>publicationStmt</code></li><li><code>date</code></li><li><code>signed</code></li><li><code>choice</code></li><li><code>msDesc</code></li><li><code>add</code></li><li><code>sourceDesc</code></li><li><code>sentence</code></li><li><code>measure</code></li><li><code>unclear</code></li><li><code>sponsor</code></li><li><code>artwork</code></li></ul></details></li><li><details><summary><b>classDecl</b>:</summary><ul><li><code>token</code></li><li><code>editor</code></li><li><code>encodingDesc</code></li><li><code>physDesc</code></li><li><code>ref</code></li><li><code>lb</code></li><li><code>objectDesc</code></li><li><code>author</code></li><li><code>hi</code></li><li><code>surface</code></li><li><code>name</code></li><li><code>zone</code></li><li><code>rs</code></li><li><code>opener</code></li><li><code>addrLine</code></li><li><code>accMat</code></li><li><code>abbr</code></li><li><code>ptr</code></li><li><code>correspAction</code></li><li><code>taxonomy</code></li><li><code>graphic</code></li><li><code>decoDesc</code></li><li><code>catRef</code></li><li><code>classDecl</code></li><li><code>postmark</code></li><li><code>del</code></li><li><code>institution</code></li><li><code>settlement</code></li><li><code>salute</code></li><li><code>dateline</code></li><li><code>country</code></li><li><code>expan</code></li><li><code>reg</code></li><li><code>relation</code></li><li><code>head</code></li><li><code>placeName</code></li><li><code>change</code></li><li><code>t</code></li><li><code>orig</code></li><li><code>decoNote</code></li><li><code>space</code></li><li><code>idno</code></li><li><code>altIdentifier</code></li><li><code>publicationStmt</code></li><li><code>date</code></li><li><code>signed</code></li><li><code>choice</code></li><li><code>add</code></li><li><code>measure</code></li><li><code>unclear</code></li><li><code>sponsor</code></li></ul></details></li><li><details><summary><b>closer</b>:</summary><ul><li><code>token</code></li><li><code>editor</code></li><li><code>encodingDesc</code></li><li><code>physDesc</code></li><li><code>ref</code></li><li><code>lb</code></li><li><code>objectDesc</code></li><li><code>author</code></li><li><code>hi</code></li><li><code>surface</code></li><li><code>name</code></li><li><code>zone</code></li><li><code>desc</code></li><li><code>rs</code></li><li><code>opener</code></li><li><code>addrLine</code></li><li><code>accMat</code></li><li><code>abbr</code></li><li><code>ptr</code></li><li><code>correspAction</code></li><li><code>taxonomy</code></li><li><code>graphic</code></li><li><code>decoDesc</code></li><li><code>closer</code></li><li><code>catRef</code></li><li><code>classDecl</code></li><li><code>postmark</code></li><li><code>del</code></li><li><code>title</code></li><li><code>facsimile</code></li><li><code>institution</code></li><li><code>settlement</code></li><li><code>salute</code></li><li><code>address</code></li><li><code>dateline</code></li><li><code>country</code></li><li><code>expan</code></li><li><code>reg</code></li><li><code>relation</code></li><li><code>head</code></li><li><code>placeName</code></li><li><code>change</code></li><li><code>t</code></li><li><code>orig</code></li><li><code>decoNote</code></li><li><code>space</code></li><li><code>idno</code></li><li><code>altIdentifier</code></li><li><code>publicationStmt</code></li><li><code>date</code></li><li><code>signed</code></li><li><code>choice</code></li><li><code>add</code></li><li><code>sentence</code></li><li><code>measure</code></li><li><code>unclear</code></li><li><code>sponsor</code></li></ul></details></li><li><details><summary><b>correspAction</b>:</summary><ul><li><code>token</code></li><li><code>editor</code></li><li><code>physDesc</code></li><li><code>ref</code></li><li><code>lb</code></li><li><code>objectDesc</code></li><li><code>author</code></li><li><code>hi</code></li><li><code>surface</code></li><li><code>name</code></li><li><code>zone</code></li><li><code>rs</code></li><li><code>opener</code></li><li><code>addrLine</code></li><li><code>accMat</code></li><li><code>abbr</code></li><li><code>ptr</code></li><li><code>graphic</code></li><li><code>taxonomy</code></li><li><code>correspAction</code></li><li><code>decoDesc</code></li><li><code>catRef</code></li><li><code>postmark</code></li><li><code>del</code></li><li><code>institution</code></li><li><code>settlement</code></li><li><code>salute</code></li><li><code>dateline</code></li><li><code>country</code></li><li><code>expan</code></li><li><code>reg</code></li><li><code>relation</code></li><li><code>head</code></li><li><code>placeName</code></li><li><code>change</code></li><li><code>t</code></li><li><code>orig</code></li><li><code>decoNote</code></li><li><code>space</code></li><li><code>idno</code></li><li><code>altIdentifier</code></li><li><code>publicationStmt</code></li><li><code>date</code></li><li><code>signed</code></li><li><code>choice</code></li><li><code>add</code></li><li><code>measure</code></li><li><code>unclear</code></li><li><code>sponsor</code></li></ul></details></li><li><details><summary><b>correspDesc</b>:</summary><ul><li><code>token</code></li><li><code>editor</code></li><li><code>encodingDesc</code></li><li><code>physDesc</code></li><li><code>ref</code></li><li><code>lb</code></li><li><code>objectDesc</code></li><li><code>author</code></li><li><code>hi</code></li><li><code>surface</code></li><li><code>name</code></li><li><code>zone</code></li><li><code>desc</code></li><li><code>rs</code></li><li><code>opener</code></li><li><code>addrLine</code></li><li><code>accMat</code></li><li><code>abbr</code></li><li><code>correspDesc</code></li><li><code>ptr</code></li><li><code>correspAction</code></li><li><code>closer</code></li><li><code>taxonomy</code></li><li><code>decoDesc</code></li><li><code>graphic</code></li><li><code>catRef</code></li><li><code>classDecl</code></li><li><code>postmark</code></li><li><code>del</code></li><li><code>title</code></li><li><code>facsimile</code></li><li><code>institution</code></li><li><code>settlement</code></li><li><code>salute</code></li><li><code>profileDesc</code></li><li><code>address</code></li><li><code>dateline</code></li><li><code>country</code></li><li><code>expan</code></li><li><code>reg</code></li><li><code>relation</code></li><li><code>head</code></li><li><code>placeName</code></li><li><code>change</code></li><li><code>t</code></li><li><code>orig</code></li><li><code>decoNote</code></li><li><code>space</code></li><li><code>idno</code></li><li><code>altIdentifier</code></li><li><code>publicationStmt</code></li><li><code>date</code></li><li><code>signed</code></li><li><code>choice</code></li><li><code>add</code></li><li><code>sentence</code></li><li><code>measure</code></li><li><code>unclear</code></li><li><code>sponsor</code></li></ul></details></li><li><details><summary><b>country</b>:</summary><ul><li><code>token</code></li><li><code>objectDesc</code></li><li><code>lb</code></li><li><code>ptr</code></li><li><code>graphic</code></li><li><code>taxonomy</code></li><li><code>postmark</code></li><li><code>del</code></li><li><code>expan</code></li><li><code>country</code></li><li><code>reg</code></li><li><code>relation</code></li><li><code>t</code></li><li><code>orig</code></li><li><code>space</code></li><li><code>publicationStmt</code></li><li><code>add</code></li><li><code>measure</code></li><li><code>unclear</code></li></ul></details></li><li><details><summary><b>date</b>:</summary><ul><li><code>token</code></li><li><code>editor</code></li><li><code>physDesc</code></li><li><code>ref</code></li><li><code>lb</code></li><li><code>objectDesc</code></li><li><code>author</code></li><li><code>hi</code></li><li><code>surface</code></li><li><code>name</code></li><li><code>zone</code></li><li><code>rs</code></li><li><code>accMat</code></li><li><code>abbr</code></li><li><code>ptr</code></li><li><code>graphic</code></li><li><code>taxonomy</code></li><li><code>decoDesc</code></li><li><code>catRef</code></li><li><code>postmark</code></li><li><code>del</code></li><li><code>institution</code></li><li><code>settlement</code></li><li><code>dateline</code></li><li><code>country</code></li><li><code>expan</code></li><li><code>reg</code></li><li><code>relation</code></li><li><code>head</code></li><li><code>placeName</code></li><li><code>t</code></li><li><code>orig</code></li><li><code>decoNote</code></li><li><code>space</code></li><li><code>idno</code></li><li><code>altIdentifier</code></li><li><code>publicationStmt</code></li><li><code>date</code></li><li><code>signed</code></li><li><code>choice</code></li><li><code>add</code></li><li><code>measure</code></li><li><code>unclear</code></li><li><code>sponsor</code></li></ul></details></li><li><details><summary><b>dateline</b>:</summary><ul><li><code>token</code></li><li><code>editor</code></li><li><code>ref</code></li><li><code>lb</code></li><li><code>objectDesc</code></li><li><code>hi</code></li><li><code>surface</code></li><li><code>name</code></li><li><code>zone</code></li><li><code>rs</code></li><li><code>accMat</code></li><li><code>abbr</code></li><li><code>ptr</code></li><li><code>graphic</code></li><li><code>taxonomy</code></li><li><code>decoDesc</code></li><li><code>catRef</code></li><li><code>postmark</code></li><li><code>del</code></li><li><code>institution</code></li><li><code>settlement</code></li><li><code>dateline</code></li><li><code>country</code></li><li><code>expan</code></li><li><code>reg</code></li><li><code>relation</code></li><li><code>placeName</code></li><li><code>t</code></li><li><code>orig</code></li><li><code>decoNote</code></li><li><code>space</code></li><li><code>idno</code></li><li><code>altIdentifier</code></li><li><code>publicationStmt</code></li><li><code>signed</code></li><li><code>choice</code></li><li><code>add</code></li><li><code>measure</code></li><li><code>unclear</code></li><li><code>sponsor</code></li></ul></details></li><li><details><summary><b>decoDesc</b>:</summary><ul><li><code>token</code></li><li><code>editor</code></li><li><code>objectDesc</code></li><li><code>lb</code></li><li><code>hi</code></li><li><code>surface</code></li><li><code>zone</code></li><li><code>rs</code></li><li><code>accMat</code></li><li><code>abbr</code></li><li><code>ptr</code></li><li><code>graphic</code></li><li><code>taxonomy</code></li><li><code>decoDesc</code></li><li><code>postmark</code></li><li><code>del</code></li><li><code>settlement</code></li><li><code>country</code></li><li><code>expan</code></li><li><code>reg</code></li><li><code>relation</code></li><li><code>placeName</code></li><li><code>t</code></li><li><code>orig</code></li><li><code>decoNote</code></li><li><code>space</code></li><li><code>idno</code></li><li><code>altIdentifier</code></li><li><code>publicationStmt</code></li><li><code>signed</code></li><li><code>choice</code></li><li><code>add</code></li><li><code>measure</code></li><li><code>unclear</code></li><li><code>sponsor</code></li></ul></details></li><li><details><summary><b>decoNote</b>:</summary><ul><li><code>token</code></li><li><code>objectDesc</code></li><li><code>lb</code></li><li><code>accMat</code></li><li><code>abbr</code></li><li><code>ptr</code></li><li><code>graphic</code></li><li><code>taxonomy</code></li><li><code>postmark</code></li><li><code>del</code></li><li><code>settlement</code></li><li><code>country</code></li><li><code>expan</code></li><li><code>reg</code></li><li><code>relation</code></li><li><code>t</code></li><li><code>orig</code></li><li><code>decoNote</code></li><li><code>space</code></li><li><code>altIdentifier</code></li><li><code>publicationStmt</code></li><li><code>add</code></li><li><code>measure</code></li><li><code>unclear</code></li></ul></details></li><li><details><summary><b>del</b>:</summary><ul><li><code>token</code></li><li><code>expan</code></li><li><code>ptr</code></li><li><code>graphic</code></li><li><code>add</code></li><li><code>reg</code></li><li><code>objectDesc</code></li><li><code>lb</code></li><li><code>relation</code></li><li><code>t</code></li><li><code>orig</code></li><li><code>postmark</code></li><li><code>del</code></li><li><code>measure</code></li><li><code>space</code></li><li><code>unclear</code></li><li><code>publicationStmt</code></li></ul></details></li><li><details><summary><b>desc</b>:</summary><ul><li><code>token</code></li><li><code>editor</code></li><li><code>encodingDesc</code></li><li><code>physDesc</code></li><li><code>ref</code></li><li><code>lb</code></li><li><code>objectDesc</code></li><li><code>author</code></li><li><code>hi</code></li><li><code>surface</code></li><li><code>name</code></li><li><code>zone</code></li><li><code>desc</code></li><li><code>rs</code></li><li><code>opener</code></li><li><code>addrLine</code></li><li><code>accMat</code></li><li><code>abbr</code></li><li><code>ptr</code></li><li><code>correspAction</code></li><li><code>taxonomy</code></li><li><code>graphic</code></li><li><code>decoDesc</code></li><li><code>catRef</code></li><li><code>classDecl</code></li><li><code>postmark</code></li><li><code>del</code></li><li><code>title</code></li><li><code>facsimile</code></li><li><code>institution</code></li><li><code>settlement</code></li><li><code>salute</code></li><li><code>dateline</code></li><li><code>country</code></li><li><code>expan</code></li><li><code>reg</code></li><li><code>relation</code></li><li><code>head</code></li><li><code>placeName</code></li><li><code>change</code></li><li><code>t</code></li><li><code>orig</code></li><li><code>decoNote</code></li><li><code>space</code></li><li><code>idno</code></li><li><code>altIdentifier</code></li><li><code>publicationStmt</code></li><li><code>date</code></li><li><code>signed</code></li><li><code>choice</code></li><li><code>add</code></li><li><code>measure</code></li><li><code>unclear</code></li><li><code>sponsor</code></li></ul></details></li><li><details><summary><b>div</b>:</summary><ul><li><code>token</code></li><li><code>editor</code></li><li><code>encodingDesc</code></li><li><code>physDesc</code></li><li><code>bibl</code></li><li><code>chunk</code></li><li><code>p</code></li><li><code>ref</code></li><li><code>lb</code></li><li><code>author</code></li><li><code>objectDesc</code></li><li><code>hi</code></li><li><code>teiHeader</code></li><li><code>name</code></li><li><code>surface</code></li><li><code>zone</code></li><li><code>desc</code></li><li><code>rs</code></li><li><code>opener</code></li><li><code>addrLine</code></li><li><code>correspDesc</code></li><li><code>abbr</code></li><li><code>accMat</code></li><li><code>div</code></li><li><code>ptr</code></li><li><code>correspAction</code></li><li><code>closer</code></li><li><code>postscript</code></li><li><code>listAnnotation</code></li><li><code>revisionDesc</code></li><li><code>msIdentifier</code></li><li><code>catRef</code></li><li><code>decoDesc</code></li><li><code>classDecl</code></li><li><code>taxonomy</code></li><li><code>postmark</code></li><li><code>del</code></li><li><code>title</code></li><li><code>facsimile</code></li><li><code>institution</code></li><li><code>settlement</code></li><li><code>salute</code></li><li><code>profileDesc</code></li><li><code>graphic</code></li><li><code>address</code></li><li><code>titleStmt</code></li><li><code>dateline</code></li><li><code>country</code></li><li><code>expan</code></li><li><code>reg</code></li><li><code>relation</code></li><li><code>page</code></li><li><code>head</code></li><li><code>change</code></li><li><code>placeName</code></li><li><code>orig</code></li><li><code>decoNote</code></li><li><code>t</code></li><li><code>fileDesc</code></li><li><code>note</code></li><li><code>space</code></li><li><code>idno</code></li><li><code>altIdentifier</code></li><li><code>publicationStmt</code></li><li><code>date</code></li><li><code>signed</code></li><li><code>choice</code></li><li><code>msDesc</code></li><li><code>add</code></li><li><code>sourceDesc</code></li><li><code>sentence</code></li><li><code>measure</code></li><li><code>unclear</code></li><li><code>sponsor</code></li><li><code>artwork</code></li></ul></details></li><li><details><summary><b>editor</b>:</summary><ul><li><code>token</code></li><li><code>editor</code></li><li><code>objectDesc</code></li><li><code>lb</code></li><li><code>hi</code></li><li><code>surface</code></li><li><code>zone</code></li><li><code>rs</code></li><li><code>accMat</code></li><li><code>abbr</code></li><li><code>ptr</code></li><li><code>graphic</code></li><li><code>taxonomy</code></li><li><code>postmark</code></li><li><code>del</code></li><li><code>settlement</code></li><li><code>country</code></li><li><code>expan</code></li><li><code>reg</code></li><li><code>relation</code></li><li><code>placeName</code></li><li><code>t</code></li><li><code>orig</code></li><li><code>decoNote</code></li><li><code>space</code></li><li><code>idno</code></li><li><code>altIdentifier</code></li><li><code>publicationStmt</code></li><li><code>signed</code></li><li><code>choice</code></li><li><code>add</code></li><li><code>measure</code></li><li><code>unclear</code></li><li><code>sponsor</code></li></ul></details></li><li><details><summary><b>encodingDesc</b>:</summary><ul><li><code>token</code></li><li><code>editor</code></li><li><code>encodingDesc</code></li><li><code>physDesc</code></li><li><code>ref</code></li><li><code>lb</code></li><li><code>objectDesc</code></li><li><code>author</code></li><li><code>hi</code></li><li><code>surface</code></li><li><code>name</code></li><li><code>zone</code></li><li><code>rs</code></li><li><code>opener</code></li><li><code>addrLine</code></li><li><code>accMat</code></li><li><code>abbr</code></li><li><code>ptr</code></li><li><code>correspAction</code></li><li><code>taxonomy</code></li><li><code>graphic</code></li><li><code>decoDesc</code></li><li><code>catRef</code></li><li><code>postmark</code></li><li><code>del</code></li><li><code>institution</code></li><li><code>settlement</code></li><li><code>salute</code></li><li><code>dateline</code></li><li><code>country</code></li><li><code>expan</code></li><li><code>reg</code></li><li><code>relation</code></li><li><code>head</code></li><li><code>placeName</code></li><li><code>change</code></li><li><code>t</code></li><li><code>orig</code></li><li><code>decoNote</code></li><li><code>space</code></li><li><code>idno</code></li><li><code>altIdentifier</code></li><li><code>publicationStmt</code></li><li><code>date</code></li><li><code>signed</code></li><li><code>choice</code></li><li><code>add</code></li><li><code>measure</code></li><li><code>unclear</code></li><li><code>sponsor</code></li></ul></details></li><li><details><summary><b>expan</b>:</summary><ul><li><code>expan</code></li><li><code>ptr</code></li><li><code>graphic</code></li><li><code>objectDesc</code></li><li><code>lb</code></li><li><code>relation</code></li><li><code>t</code></li><li><code>postmark</code></li><li><code>measure</code></li><li><code>space</code></li><li><code>unclear</code></li></ul></details></li><li><details><summary><b>facsimile</b>:</summary><ul><li><code>token</code></li><li><code>editor</code></li><li><code>encodingDesc</code></li><li><code>physDesc</code></li><li><code>ref</code></li><li><code>lb</code></li><li><code>objectDesc</code></li><li><code>author</code></li><li><code>hi</code></li><li><code>surface</code></li><li><code>name</code></li><li><code>zone</code></li><li><code>rs</code></li><li><code>opener</code></li><li><code>addrLine</code></li><li><code>accMat</code></li><li><code>abbr</code></li><li><code>ptr</code></li><li><code>correspAction</code></li><li><code>taxonomy</code></li><li><code>graphic</code></li><li><code>decoDesc</code></li><li><code>catRef</code></li><li><code>classDecl</code></li><li><code>postmark</code></li><li><code>del</code></li><li><code>facsimile</code></li><li><code>institution</code></li><li><code>settlement</code></li><li><code>salute</code></li><li><code>dateline</code></li><li><code>country</code></li><li><code>expan</code></li><li><code>reg</code></li><li><code>relation</code></li><li><code>head</code></li><li><code>placeName</code></li><li><code>change</code></li><li><code>t</code></li><li><code>orig</code></li><li><code>decoNote</code></li><li><code>space</code></li><li><code>idno</code></li><li><code>altIdentifier</code></li><li><code>publicationStmt</code></li><li><code>date</code></li><li><code>signed</code></li><li><code>choice</code></li><li><code>add</code></li><li><code>measure</code></li><li><code>unclear</code></li><li><code>sponsor</code></li></ul></details></li><li><details><summary><b>file</b>:</summary><ul><li><code>token</code></li><li><code>letter</code></li><li><code>ref</code></li><li><code>chunk</code></li><li><code>objectDesc</code></li><li><code>author</code></li><li><code>teiHeader</code></li><li><code>zone</code></li><li><code>opener</code></li><li><code>abbr</code></li><li><code>correspAction</code></li><li><code>msIdentifier</code></li><li><code>closer</code></li><li><code>revisionDesc</code></li><li><code>text</code></li><li><code>decoDesc</code></li><li><code>postmark</code></li><li><code>settlement</code></li><li><code>salute</code></li><li><code>listObject</code></li><li><code>reg</code></li><li><code>publicationStmt</code></li><li><code>date</code></li><li><code>add</code></li><li><code>measure</code></li><li><code>editor</code></li><li><code>encodingDesc</code></li><li><code>desc</code></li><li><code>div</code></li><li><code>ptr</code></li><li><code>postscript</code></li><li><code>taxonomy</code></li><li><code>del</code></li><li><code>title</code></li><li><code>institution</code></li><li><code>country</code></li><li><code>change</code></li><li><code>t</code></li><li><code>decoNote</code></li><li><code>fileDesc</code></li><li><code>note</code></li><li><code>signed</code></li><li><code>physDesc</code></li><li><code>bibl</code></li><li><code>lb</code></li><li><code>name</code></li><li><code>addrLine</code></li><li><code>correspDesc</code></li><li><code>graphic</code></li><li><code>listAnnotation</code></li><li><code>classDecl</code></li><li><code>body</code></li><li><code>artworklist</code></li><li><code>dateline</code></li><li><code>page</code></li><li><code>head</code></li><li><code>placeName</code></li><li><code>space</code></li><li><code>idno</code></li><li><code>altIdentifier</code></li><li><code>msDesc</code></li><li><code>sentence</code></li><li><code>sponsor</code></li><li><code>artwork</code></li><li><code>file</code></li><li><code>p</code></li><li><code>hi</code></li><li><code>surface</code></li><li><code>rs</code></li><li><code>accMat</code></li><li><code>catRef</code></li><li><code>standOff</code></li><li><code>facsimile</code></li><li><code>profileDesc</code></li><li><code>address</code></li><li><code>titleStmt</code></li><li><code>expan</code></li><li><code>relation</code></li><li><code>orig</code></li><li><code>choice</code></li><li><code>sourceDesc</code></li><li><code>unclear</code></li></ul></details></li><li><details><summary><b>fileDesc</b>:</summary><ul><li><code>token</code></li><li><code>editor</code></li><li><code>encodingDesc</code></li><li><code>physDesc</code></li><li><code>bibl</code></li><li><code>ref</code></li><li><code>lb</code></li><li><code>objectDesc</code></li><li><code>author</code></li><li><code>hi</code></li><li><code>surface</code></li><li><code>name</code></li><li><code>zone</code></li><li><code>desc</code></li><li><code>rs</code></li><li><code>opener</code></li><li><code>addrLine</code></li><li><code>correspDesc</code></li><li><code>abbr</code></li><li><code>accMat</code></li><li><code>ptr</code></li><li><code>correspAction</code></li><li><code>msIdentifier</code></li><li><code>closer</code></li><li><code>decoDesc</code></li><li><code>taxonomy</code></li><li><code>catRef</code></li><li><code>graphic</code></li><li><code>classDecl</code></li><li><code>postmark</code></li><li><code>del</code></li><li><code>title</code></li><li><code>facsimile</code></li><li><code>institution</code></li><li><code>settlement</code></li><li><code>salute</code></li><li><code>profileDesc</code></li><li><code>address</code></li><li><code>titleStmt</code></li><li><code>dateline</code></li><li><code>country</code></li><li><code>expan</code></li><li><code>reg</code></li><li><code>relation</code></li><li><code>head</code></li><li><code>placeName</code></li><li><code>change</code></li><li><code>t</code></li><li><code>orig</code></li><li><code>decoNote</code></li><li><code>fileDesc</code></li><li><code>space</code></li><li><code>idno</code></li><li><code>altIdentifier</code></li><li><code>publicationStmt</code></li><li><code>date</code></li><li><code>signed</code></li><li><code>choice</code></li><li><code>msDesc</code></li><li><code>add</code></li><li><code>sourceDesc</code></li><li><code>sentence</code></li><li><code>measure</code></li><li><code>unclear</code></li><li><code>sponsor</code></li></ul></details></li><li><details><summary><b>folder</b>:</summary><ul><li><code>token</code></li><li><code>letter</code></li><li><code>ref</code></li><li><code>chunk</code></li><li><code>objectDesc</code></li><li><code>author</code></li><li><code>teiHeader</code></li><li><code>zone</code></li><li><code>opener</code></li><li><code>abbr</code></li><li><code>correspAction</code></li><li><code>msIdentifier</code></li><li><code>closer</code></li><li><code>revisionDesc</code></li><li><code>text</code></li><li><code>decoDesc</code></li><li><code>postmark</code></li><li><code>settlement</code></li><li><code>salute</code></li><li><code>bibliolist</code></li><li><code>listObject</code></li><li><code>reg</code></li><li><code>publicationStmt</code></li><li><code>date</code></li><li><code>add</code></li><li><code>measure</code></li><li><code>editor</code></li><li><code>listBibl</code></li><li><code>encodingDesc</code></li><li><code>desc</code></li><li><code>div</code></li><li><code>ptr</code></li><li><code>postscript</code></li><li><code>taxonomy</code></li><li><code>del</code></li><li><code>title</code></li><li><code>institution</code></li><li><code>country</code></li><li><code>change</code></li><li><code>t</code></li><li><code>decoNote</code></li><li><code>fileDesc</code></li><li><code>note</code></li><li><code>signed</code></li><li><code>physDesc</code></li><li><code>bibl</code></li><li><code>lb</code></li><li><code>name</code></li><li><code>addrLine</code></li><li><code>correspDesc</code></li><li><code>graphic</code></li><li><code>listAnnotation</code></li><li><code>classDecl</code></li><li><code>body</code></li><li><code>artworklist</code></li><li><code>dateline</code></li><li><code>page</code></li><li><code>head</code></li><li><code>placeName</code></li><li><code>space</code></li><li><code>idno</code></li><li><code>altIdentifier</code></li><li><code>msDesc</code></li><li><code>sentence</code></li><li><code>sponsor</code></li><li><code>artwork</code></li><li><code>file</code></li><li><code>p</code></li><li><code>hi</code></li><li><code>surface</code></li><li><code>rs</code></li><li><code>accMat</code></li><li><code>catRef</code></li><li><code>standOff</code></li><li><code>folder</code></li><li><code>facsimile</code></li><li><code>profileDesc</code></li><li><code>address</code></li><li><code>titleStmt</code></li><li><code>expan</code></li><li><code>relation</code></li><li><code>orig</code></li><li><code>choice</code></li><li><code>sourceDesc</code></li><li><code>unclear</code></li></ul></details></li><li><details><summary><b>graphic</b>:</summary><ul><li><code>ptr</code></li><li><code>graphic</code></li><li><code>objectDesc</code></li><li><code>lb</code></li><li><code>relation</code></li><li><code>t</code></li><li><code>postmark</code></li><li><code>measure</code></li><li><code>space</code></li><li><code>unclear</code></li></ul></details></li><li><details><summary><b>head</b>:</summary><ul><li><code>token</code></li><li><code>editor</code></li><li><code>physDesc</code></li><li><code>ref</code></li><li><code>lb</code></li><li><code>objectDesc</code></li><li><code>author</code></li><li><code>hi</code></li><li><code>surface</code></li><li><code>name</code></li><li><code>zone</code></li><li><code>rs</code></li><li><code>accMat</code></li><li><code>abbr</code></li><li><code>ptr</code></li><li><code>graphic</code></li><li><code>taxonomy</code></li><li><code>decoDesc</code></li><li><code>catRef</code></li><li><code>postmark</code></li><li><code>del</code></li><li><code>institution</code></li><li><code>settlement</code></li><li><code>dateline</code></li><li><code>country</code></li><li><code>expan</code></li><li><code>reg</code></li><li><code>relation</code></li><li><code>head</code></li><li><code>placeName</code></li><li><code>t</code></li><li><code>orig</code></li><li><code>decoNote</code></li><li><code>space</code></li><li><code>idno</code></li><li><code>altIdentifier</code></li><li><code>publicationStmt</code></li><li><code>signed</code></li><li><code>choice</code></li><li><code>add</code></li><li><code>measure</code></li><li><code>unclear</code></li><li><code>sponsor</code></li></ul></details></li><li><details><summary><b>hi</b>:</summary><ul><li><code>token</code></li><li><code>objectDesc</code></li><li><code>lb</code></li><li><code>hi</code></li><li><code>surface</code></li><li><code>zone</code></li><li><code>rs</code></li><li><code>accMat</code></li><li><code>abbr</code></li><li><code>ptr</code></li><li><code>graphic</code></li><li><code>taxonomy</code></li><li><code>postmark</code></li><li><code>del</code></li><li><code>settlement</code></li><li><code>country</code></li><li><code>expan</code></li><li><code>reg</code></li><li><code>relation</code></li><li><code>t</code></li><li><code>orig</code></li><li><code>decoNote</code></li><li><code>space</code></li><li><code>idno</code></li><li><code>altIdentifier</code></li><li><code>publicationStmt</code></li><li><code>add</code></li><li><code>measure</code></li><li><code>unclear</code></li></ul></details></li><li><details><summary><b>idno</b>:</summary><ul><li><code>token</code></li><li><code>objectDesc</code></li><li><code>lb</code></li><li><code>zone</code></li><li><code>rs</code></li><li><code>accMat</code></li><li><code>abbr</code></li><li><code>ptr</code></li><li><code>graphic</code></li><li><code>taxonomy</code></li><li><code>postmark</code></li><li><code>del</code></li><li><code>settlement</code></li><li><code>country</code></li><li><code>expan</code></li><li><code>reg</code></li><li><code>relation</code></li><li><code>t</code></li><li><code>orig</code></li><li><code>decoNote</code></li><li><code>space</code></li><li><code>idno</code></li><li><code>altIdentifier</code></li><li><code>publicationStmt</code></li><li><code>add</code></li><li><code>measure</code></li><li><code>unclear</code></li></ul></details></li><li><details><summary><b>institution</b>:</summary><ul><li><code>token</code></li><li><code>editor</code></li><li><code>ref</code></li><li><code>lb</code></li><li><code>objectDesc</code></li><li><code>hi</code></li><li><code>surface</code></li><li><code>name</code></li><li><code>zone</code></li><li><code>rs</code></li><li><code>accMat</code></li><li><code>abbr</code></li><li><code>ptr</code></li><li><code>graphic</code></li><li><code>taxonomy</code></li><li><code>decoDesc</code></li><li><code>catRef</code></li><li><code>postmark</code></li><li><code>del</code></li><li><code>institution</code></li><li><code>settlement</code></li><li><code>country</code></li><li><code>expan</code></li><li><code>reg</code></li><li><code>relation</code></li><li><code>placeName</code></li><li><code>t</code></li><li><code>orig</code></li><li><code>decoNote</code></li><li><code>space</code></li><li><code>idno</code></li><li><code>altIdentifier</code></li><li><code>publicationStmt</code></li><li><code>signed</code></li><li><code>choice</code></li><li><code>add</code></li><li><code>measure</code></li><li><code>unclear</code></li><li><code>sponsor</code></li></ul></details></li><li><details><summary><b>lb</b>:</summary><ul><li><code>ptr</code></li><li><code>objectDesc</code></li><li><code>relation</code></li><li><code>lb</code></li><li><code>t</code></li><li><code>postmark</code></li><li><code>measure</code></li><li><code>space</code></li><li><code>unclear</code></li></ul></details></li><li><details><summary><b>letter</b>:</summary><ul><li><code>token</code></li><li><code>letter</code></li><li><code>ref</code></li><li><code>chunk</code></li><li><code>objectDesc</code></li><li><code>author</code></li><li><code>teiHeader</code></li><li><code>zone</code></li><li><code>opener</code></li><li><code>abbr</code></li><li><code>correspAction</code></li><li><code>msIdentifier</code></li><li><code>closer</code></li><li><code>text</code></li><li><code>revisionDesc</code></li><li><code>decoDesc</code></li><li><code>postmark</code></li><li><code>settlement</code></li><li><code>salute</code></li><li><code>listObject</code></li><li><code>reg</code></li><li><code>publicationStmt</code></li><li><code>date</code></li><li><code>add</code></li><li><code>measure</code></li><li><code>editor</code></li><li><code>encodingDesc</code></li><li><code>desc</code></li><li><code>div</code></li><li><code>ptr</code></li><li><code>postscript</code></li><li><code>taxonomy</code></li><li><code>del</code></li><li><code>title</code></li><li><code>institution</code></li><li><code>country</code></li><li><code>change</code></li><li><code>t</code></li><li><code>decoNote</code></li><li><code>fileDesc</code></li><li><code>note</code></li><li><code>signed</code></li><li><code>physDesc</code></li><li><code>bibl</code></li><li><code>lb</code></li><li><code>name</code></li><li><code>addrLine</code></li><li><code>correspDesc</code></li><li><code>graphic</code></li><li><code>listAnnotation</code></li><li><code>classDecl</code></li><li><code>body</code></li><li><code>artworklist</code></li><li><code>dateline</code></li><li><code>page</code></li><li><code>head</code></li><li><code>placeName</code></li><li><code>space</code></li><li><code>idno</code></li><li><code>altIdentifier</code></li><li><code>msDesc</code></li><li><code>sentence</code></li><li><code>sponsor</code></li><li><code>artwork</code></li><li><code>p</code></li><li><code>hi</code></li><li><code>surface</code></li><li><code>rs</code></li><li><code>accMat</code></li><li><code>catRef</code></li><li><code>standOff</code></li><li><code>facsimile</code></li><li><code>profileDesc</code></li><li><code>address</code></li><li><code>titleStmt</code></li><li><code>expan</code></li><li><code>relation</code></li><li><code>orig</code></li><li><code>choice</code></li><li><code>sourceDesc</code></li><li><code>unclear</code></li></ul></details></li><li><details><summary><b>listAnnotation</b>:</summary><ul><li><code>token</code></li><li><code>editor</code></li><li><code>encodingDesc</code></li><li><code>physDesc</code></li><li><code>bibl</code></li><li><code>chunk</code></li><li><code>p</code></li><li><code>ref</code></li><li><code>lb</code></li><li><code>author</code></li><li><code>objectDesc</code></li><li><code>hi</code></li><li><code>teiHeader</code></li><li><code>name</code></li><li><code>surface</code></li><li><code>zone</code></li><li><code>desc</code></li><li><code>rs</code></li><li><code>opener</code></li><li><code>addrLine</code></li><li><code>correspDesc</code></li><li><code>abbr</code></li><li><code>accMat</code></li><li><code>ptr</code></li><li><code>correspAction</code></li><li><code>postscript</code></li><li><code>msIdentifier</code></li><li><code>revisionDesc</code></li><li><code>closer</code></li><li><code>catRef</code></li><li><code>decoDesc</code></li><li><code>taxonomy</code></li><li><code>classDecl</code></li><li><code>graphic</code></li><li><code>listAnnotation</code></li><li><code>postmark</code></li><li><code>del</code></li><li><code>title</code></li><li><code>facsimile</code></li><li><code>institution</code></li><li><code>settlement</code></li><li><code>salute</code></li><li><code>profileDesc</code></li><li><code>address</code></li><li><code>titleStmt</code></li><li><code>dateline</code></li><li><code>country</code></li><li><code>expan</code></li><li><code>reg</code></li><li><code>relation</code></li><li><code>head</code></li><li><code>placeName</code></li><li><code>change</code></li><li><code>t</code></li><li><code>orig</code></li><li><code>decoNote</code></li><li><code>fileDesc</code></li><li><code>note</code></li><li><code>space</code></li><li><code>idno</code></li><li><code>altIdentifier</code></li><li><code>publicationStmt</code></li><li><code>date</code></li><li><code>signed</code></li><li><code>choice</code></li><li><code>msDesc</code></li><li><code>add</code></li><li><code>sourceDesc</code></li><li><code>sentence</code></li><li><code>measure</code></li><li><code>unclear</code></li><li><code>sponsor</code></li><li><code>artwork</code></li></ul></details></li><li><details><summary><b>listBibl</b>:</summary><ul><li><code>token</code></li><li><code>letter</code></li><li><code>ref</code></li><li><code>chunk</code></li><li><code>objectDesc</code></li><li><code>author</code></li><li><code>teiHeader</code></li><li><code>zone</code></li><li><code>opener</code></li><li><code>abbr</code></li><li><code>correspAction</code></li><li><code>msIdentifier</code></li><li><code>closer</code></li><li><code>revisionDesc</code></li><li><code>text</code></li><li><code>decoDesc</code></li><li><code>postmark</code></li><li><code>settlement</code></li><li><code>salute</code></li><li><code>listObject</code></li><li><code>reg</code></li><li><code>publicationStmt</code></li><li><code>date</code></li><li><code>add</code></li><li><code>measure</code></li><li><code>editor</code></li><li><code>encodingDesc</code></li><li><code>listBibl</code></li><li><code>desc</code></li><li><code>div</code></li><li><code>ptr</code></li><li><code>postscript</code></li><li><code>taxonomy</code></li><li><code>del</code></li><li><code>title</code></li><li><code>institution</code></li><li><code>country</code></li><li><code>change</code></li><li><code>t</code></li><li><code>decoNote</code></li><li><code>fileDesc</code></li><li><code>note</code></li><li><code>signed</code></li><li><code>physDesc</code></li><li><code>bibl</code></li><li><code>lb</code></li><li><code>name</code></li><li><code>addrLine</code></li><li><code>correspDesc</code></li><li><code>graphic</code></li><li><code>listAnnotation</code></li><li><code>classDecl</code></li><li><code>body</code></li><li><code>artworklist</code></li><li><code>dateline</code></li><li><code>page</code></li><li><code>head</code></li><li><code>placeName</code></li><li><code>space</code></li><li><code>idno</code></li><li><code>altIdentifier</code></li><li><code>msDesc</code></li><li><code>sentence</code></li><li><code>sponsor</code></li><li><code>artwork</code></li><li><code>file</code></li><li><code>p</code></li><li><code>hi</code></li><li><code>surface</code></li><li><code>rs</code></li><li><code>accMat</code></li><li><code>catRef</code></li><li><code>standOff</code></li><li><code>facsimile</code></li><li><code>profileDesc</code></li><li><code>address</code></li><li><code>titleStmt</code></li><li><code>expan</code></li><li><code>relation</code></li><li><code>orig</code></li><li><code>choice</code></li><li><code>sourceDesc</code></li><li><code>unclear</code></li></ul></details></li><li><details><summary><b>listObject</b>:</summary><ul><li><code>token</code></li><li><code>ref</code></li><li><code>chunk</code></li><li><code>objectDesc</code></li><li><code>author</code></li><li><code>teiHeader</code></li><li><code>zone</code></li><li><code>opener</code></li><li><code>abbr</code></li><li><code>correspAction</code></li><li><code>msIdentifier</code></li><li><code>closer</code></li><li><code>revisionDesc</code></li><li><code>decoDesc</code></li><li><code>postmark</code></li><li><code>settlement</code></li><li><code>salute</code></li><li><code>listObject</code></li><li><code>reg</code></li><li><code>publicationStmt</code></li><li><code>date</code></li><li><code>add</code></li><li><code>measure</code></li><li><code>editor</code></li><li><code>encodingDesc</code></li><li><code>desc</code></li><li><code>div</code></li><li><code>ptr</code></li><li><code>postscript</code></li><li><code>taxonomy</code></li><li><code>del</code></li><li><code>title</code></li><li><code>institution</code></li><li><code>country</code></li><li><code>change</code></li><li><code>t</code></li><li><code>decoNote</code></li><li><code>fileDesc</code></li><li><code>note</code></li><li><code>signed</code></li><li><code>physDesc</code></li><li><code>bibl</code></li><li><code>lb</code></li><li><code>name</code></li><li><code>addrLine</code></li><li><code>correspDesc</code></li><li><code>graphic</code></li><li><code>listAnnotation</code></li><li><code>classDecl</code></li><li><code>dateline</code></li><li><code>page</code></li><li><code>head</code></li><li><code>placeName</code></li><li><code>space</code></li><li><code>idno</code></li><li><code>altIdentifier</code></li><li><code>msDesc</code></li><li><code>sentence</code></li><li><code>sponsor</code></li><li><code>artwork</code></li><li><code>p</code></li><li><code>hi</code></li><li><code>surface</code></li><li><code>rs</code></li><li><code>accMat</code></li><li><code>catRef</code></li><li><code>standOff</code></li><li><code>facsimile</code></li><li><code>profileDesc</code></li><li><code>address</code></li><li><code>titleStmt</code></li><li><code>expan</code></li><li><code>relation</code></li><li><code>orig</code></li><li><code>choice</code></li><li><code>sourceDesc</code></li><li><code>unclear</code></li></ul></details></li><li><details><summary><b>measure</b>:</summary><ul><li><code>ptr</code></li><li><code>objectDesc</code></li><li><code>relation</code></li><li><code>t</code></li><li><code>postmark</code></li><li><code>measure</code></li><li><code>space</code></li><li><code>unclear</code></li></ul></details></li><li><details><summary><b>msDesc</b>:</summary><ul><li><code>token</code></li><li><code>editor</code></li><li><code>encodingDesc</code></li><li><code>physDesc</code></li><li><code>ref</code></li><li><code>lb</code></li><li><code>objectDesc</code></li><li><code>author</code></li><li><code>hi</code></li><li><code>surface</code></li><li><code>name</code></li><li><code>zone</code></li><li><code>desc</code></li><li><code>rs</code></li><li><code>opener</code></li><li><code>addrLine</code></li><li><code>correspDesc</code></li><li><code>abbr</code></li><li><code>accMat</code></li><li><code>ptr</code></li><li><code>correspAction</code></li><li><code>closer</code></li><li><code>msIdentifier</code></li><li><code>decoDesc</code></li><li><code>taxonomy</code></li><li><code>catRef</code></li><li><code>graphic</code></li><li><code>classDecl</code></li><li><code>postmark</code></li><li><code>del</code></li><li><code>title</code></li><li><code>facsimile</code></li><li><code>institution</code></li><li><code>settlement</code></li><li><code>salute</code></li><li><code>profileDesc</code></li><li><code>address</code></li><li><code>dateline</code></li><li><code>country</code></li><li><code>expan</code></li><li><code>reg</code></li><li><code>relation</code></li><li><code>head</code></li><li><code>placeName</code></li><li><code>change</code></li><li><code>t</code></li><li><code>orig</code></li><li><code>decoNote</code></li><li><code>space</code></li><li><code>idno</code></li><li><code>altIdentifier</code></li><li><code>publicationStmt</code></li><li><code>date</code></li><li><code>signed</code></li><li><code>choice</code></li><li><code>add</code></li><li><code>msDesc</code></li><li><code>sourceDesc</code></li><li><code>sentence</code></li><li><code>measure</code></li><li><code>unclear</code></li><li><code>sponsor</code></li></ul></details></li><li><details><summary><b>msIdentifier</b>:</summary><ul><li><code>token</code></li><li><code>editor</code></li><li><code>encodingDesc</code></li><li><code>physDesc</code></li><li><code>ref</code></li><li><code>lb</code></li><li><code>objectDesc</code></li><li><code>author</code></li><li><code>hi</code></li><li><code>surface</code></li><li><code>name</code></li><li><code>zone</code></li><li><code>desc</code></li><li><code>rs</code></li><li><code>opener</code></li><li><code>addrLine</code></li><li><code>correspDesc</code></li><li><code>abbr</code></li><li><code>accMat</code></li><li><code>ptr</code></li><li><code>correspAction</code></li><li><code>closer</code></li><li><code>taxonomy</code></li><li><code>decoDesc</code></li><li><code>graphic</code></li><li><code>catRef</code></li><li><code>msIdentifier</code></li><li><code>classDecl</code></li><li><code>postmark</code></li><li><code>del</code></li><li><code>title</code></li><li><code>facsimile</code></li><li><code>institution</code></li><li><code>settlement</code></li><li><code>salute</code></li><li><code>profileDesc</code></li><li><code>address</code></li><li><code>dateline</code></li><li><code>country</code></li><li><code>expan</code></li><li><code>reg</code></li><li><code>relation</code></li><li><code>head</code></li><li><code>placeName</code></li><li><code>change</code></li><li><code>t</code></li><li><code>orig</code></li><li><code>decoNote</code></li><li><code>space</code></li><li><code>idno</code></li><li><code>altIdentifier</code></li><li><code>publicationStmt</code></li><li><code>date</code></li><li><code>signed</code></li><li><code>choice</code></li><li><code>add</code></li><li><code>sentence</code></li><li><code>measure</code></li><li><code>unclear</code></li><li><code>sponsor</code></li></ul></details></li><li><details><summary><b>name</b>:</summary><ul><li><code>token</code></li><li><code>editor</code></li><li><code>ref</code></li><li><code>lb</code></li><li><code>objectDesc</code></li><li><code>hi</code></li><li><code>surface</code></li><li><code>name</code></li><li><code>zone</code></li><li><code>rs</code></li><li><code>accMat</code></li><li><code>abbr</code></li><li><code>ptr</code></li><li><code>graphic</code></li><li><code>taxonomy</code></li><li><code>decoDesc</code></li><li><code>catRef</code></li><li><code>postmark</code></li><li><code>del</code></li><li><code>settlement</code></li><li><code>country</code></li><li><code>expan</code></li><li><code>reg</code></li><li><code>relation</code></li><li><code>placeName</code></li><li><code>t</code></li><li><code>orig</code></li><li><code>decoNote</code></li><li><code>space</code></li><li><code>idno</code></li><li><code>altIdentifier</code></li><li><code>publicationStmt</code></li><li><code>signed</code></li><li><code>choice</code></li><li><code>add</code></li><li><code>measure</code></li><li><code>unclear</code></li><li><code>sponsor</code></li></ul></details></li><li><details><summary><b>note</b>:</summary><ul><li><code>token</code></li><li><code>editor</code></li><li><code>encodingDesc</code></li><li><code>physDesc</code></li><li><code>bibl</code></li><li><code>ref</code></li><li><code>lb</code></li><li><code>objectDesc</code></li><li><code>author</code></li><li><code>hi</code></li><li><code>surface</code></li><li><code>name</code></li><li><code>zone</code></li><li><code>desc</code></li><li><code>rs</code></li><li><code>opener</code></li><li><code>addrLine</code></li><li><code>correspDesc</code></li><li><code>abbr</code></li><li><code>accMat</code></li><li><code>ptr</code></li><li><code>correspAction</code></li><li><code>msIdentifier</code></li><li><code>closer</code></li><li><code>decoDesc</code></li><li><code>taxonomy</code></li><li><code>catRef</code></li><li><code>graphic</code></li><li><code>classDecl</code></li><li><code>postmark</code></li><li><code>del</code></li><li><code>title</code></li><li><code>facsimile</code></li><li><code>institution</code></li><li><code>settlement</code></li><li><code>salute</code></li><li><code>profileDesc</code></li><li><code>address</code></li><li><code>titleStmt</code></li><li><code>dateline</code></li><li><code>country</code></li><li><code>expan</code></li><li><code>reg</code></li><li><code>relation</code></li><li><code>head</code></li><li><code>placeName</code></li><li><code>change</code></li><li><code>t</code></li><li><code>orig</code></li><li><code>decoNote</code></li><li><code>fileDesc</code></li><li><code>space</code></li><li><code>note</code></li><li><code>idno</code></li><li><code>altIdentifier</code></li><li><code>publicationStmt</code></li><li><code>date</code></li><li><code>signed</code></li><li><code>choice</code></li><li><code>msDesc</code></li><li><code>add</code></li><li><code>sourceDesc</code></li><li><code>sentence</code></li><li><code>measure</code></li><li><code>unclear</code></li><li><code>sponsor</code></li></ul></details></li><li><details><summary><b>objectDesc</b>:</summary><ul><li><code>ptr</code></li><li><code>relation</code></li><li><code>objectDesc</code></li><li><code>t</code></li><li><code>postmark</code></li><li><code>space</code></li><li><code>unclear</code></li></ul></details></li><li><details><summary><b>opener</b>:</summary><ul><li><code>token</code></li><li><code>editor</code></li><li><code>physDesc</code></li><li><code>ref</code></li><li><code>lb</code></li><li><code>objectDesc</code></li><li><code>author</code></li><li><code>hi</code></li><li><code>surface</code></li><li><code>name</code></li><li><code>zone</code></li><li><code>rs</code></li><li><code>opener</code></li><li><code>addrLine</code></li><li><code>accMat</code></li><li><code>abbr</code></li><li><code>ptr</code></li><li><code>graphic</code></li><li><code>taxonomy</code></li><li><code>decoDesc</code></li><li><code>catRef</code></li><li><code>postmark</code></li><li><code>del</code></li><li><code>institution</code></li><li><code>settlement</code></li><li><code>salute</code></li><li><code>dateline</code></li><li><code>country</code></li><li><code>expan</code></li><li><code>reg</code></li><li><code>relation</code></li><li><code>head</code></li><li><code>placeName</code></li><li><code>t</code></li><li><code>orig</code></li><li><code>decoNote</code></li><li><code>space</code></li><li><code>idno</code></li><li><code>altIdentifier</code></li><li><code>publicationStmt</code></li><li><code>date</code></li><li><code>signed</code></li><li><code>choice</code></li><li><code>add</code></li><li><code>measure</code></li><li><code>unclear</code></li><li><code>sponsor</code></li></ul></details></li><li><details><summary><b>orig</b>:</summary><ul><li><code>token</code></li><li><code>expan</code></li><li><code>ptr</code></li><li><code>graphic</code></li><li><code>add</code></li><li><code>objectDesc</code></li><li><code>lb</code></li><li><code>relation</code></li><li><code>t</code></li><li><code>orig</code></li><li><code>postmark</code></li><li><code>measure</code></li><li><code>space</code></li><li><code>unclear</code></li><li><code>publicationStmt</code></li></ul></details></li><li><details><summary><b>p</b>:</summary><ul><li><code>token</code></li><li><code>editor</code></li><li><code>encodingDesc</code></li><li><code>physDesc</code></li><li><code>bibl</code></li><li><code>ref</code></li><li><code>lb</code></li><li><code>objectDesc</code></li><li><code>p</code></li><li><code>author</code></li><li><code>hi</code></li><li><code>surface</code></li><li><code>name</code></li><li><code>zone</code></li><li><code>desc</code></li><li><code>rs</code></li><li><code>opener</code></li><li><code>addrLine</code></li><li><code>correspDesc</code></li><li><code>abbr</code></li><li><code>accMat</code></li><li><code>ptr</code></li><li><code>correspAction</code></li><li><code>postscript</code></li><li><code>msIdentifier</code></li><li><code>closer</code></li><li><code>decoDesc</code></li><li><code>catRef</code></li><li><code>taxonomy</code></li><li><code>graphic</code></li><li><code>classDecl</code></li><li><code>postmark</code></li><li><code>del</code></li><li><code>title</code></li><li><code>facsimile</code></li><li><code>institution</code></li><li><code>settlement</code></li><li><code>salute</code></li><li><code>profileDesc</code></li><li><code>address</code></li><li><code>titleStmt</code></li><li><code>dateline</code></li><li><code>country</code></li><li><code>expan</code></li><li><code>reg</code></li><li><code>relation</code></li><li><code>head</code></li><li><code>placeName</code></li><li><code>change</code></li><li><code>t</code></li><li><code>orig</code></li><li><code>decoNote</code></li><li><code>fileDesc</code></li><li><code>note</code></li><li><code>space</code></li><li><code>idno</code></li><li><code>altIdentifier</code></li><li><code>publicationStmt</code></li><li><code>date</code></li><li><code>signed</code></li><li><code>choice</code></li><li><code>msDesc</code></li><li><code>add</code></li><li><code>sourceDesc</code></li><li><code>sentence</code></li><li><code>measure</code></li><li><code>unclear</code></li><li><code>sponsor</code></li><li><code>artwork</code></li></ul></details></li><li><details><summary><b>page</b>:</summary><ul><li><code>token</code></li><li><code>editor</code></li><li><code>encodingDesc</code></li><li><code>physDesc</code></li><li><code>bibl</code></li><li><code>chunk</code></li><li><code>p</code></li><li><code>ref</code></li><li><code>lb</code></li><li><code>author</code></li><li><code>objectDesc</code></li><li><code>hi</code></li><li><code>teiHeader</code></li><li><code>name</code></li><li><code>surface</code></li><li><code>zone</code></li><li><code>desc</code></li><li><code>rs</code></li><li><code>opener</code></li><li><code>addrLine</code></li><li><code>correspDesc</code></li><li><code>abbr</code></li><li><code>accMat</code></li><li><code>ptr</code></li><li><code>correspAction</code></li><li><code>postscript</code></li><li><code>listAnnotation</code></li><li><code>revisionDesc</code></li><li><code>msIdentifier</code></li><li><code>closer</code></li><li><code>catRef</code></li><li><code>decoDesc</code></li><li><code>classDecl</code></li><li><code>taxonomy</code></li><li><code>postmark</code></li><li><code>del</code></li><li><code>title</code></li><li><code>facsimile</code></li><li><code>institution</code></li><li><code>settlement</code></li><li><code>salute</code></li><li><code>profileDesc</code></li><li><code>graphic</code></li><li><code>address</code></li><li><code>titleStmt</code></li><li><code>dateline</code></li><li><code>country</code></li><li><code>expan</code></li><li><code>reg</code></li><li><code>relation</code></li><li><code>head</code></li><li><code>placeName</code></li><li><code>change</code></li><li><code>t</code></li><li><code>orig</code></li><li><code>decoNote</code></li><li><code>page</code></li><li><code>fileDesc</code></li><li><code>note</code></li><li><code>space</code></li><li><code>idno</code></li><li><code>altIdentifier</code></li><li><code>publicationStmt</code></li><li><code>date</code></li><li><code>signed</code></li><li><code>choice</code></li><li><code>msDesc</code></li><li><code>add</code></li><li><code>sourceDesc</code></li><li><code>sentence</code></li><li><code>measure</code></li><li><code>unclear</code></li><li><code>sponsor</code></li><li><code>artwork</code></li></ul></details></li><li><details><summary><b>physDesc</b>:</summary><ul><li><code>token</code></li><li><code>editor</code></li><li><code>physDesc</code></li><li><code>ref</code></li><li><code>lb</code></li><li><code>objectDesc</code></li><li><code>author</code></li><li><code>hi</code></li><li><code>surface</code></li><li><code>name</code></li><li><code>zone</code></li><li><code>rs</code></li><li><code>accMat</code></li><li><code>abbr</code></li><li><code>ptr</code></li><li><code>graphic</code></li><li><code>taxonomy</code></li><li><code>decoDesc</code></li><li><code>catRef</code></li><li><code>postmark</code></li><li><code>del</code></li><li><code>institution</code></li><li><code>settlement</code></li><li><code>dateline</code></li><li><code>country</code></li><li><code>expan</code></li><li><code>reg</code></li><li><code>relation</code></li><li><code>placeName</code></li><li><code>t</code></li><li><code>orig</code></li><li><code>decoNote</code></li><li><code>space</code></li><li><code>idno</code></li><li><code>altIdentifier</code></li><li><code>publicationStmt</code></li><li><code>signed</code></li><li><code>choice</code></li><li><code>add</code></li><li><code>measure</code></li><li><code>unclear</code></li><li><code>sponsor</code></li></ul></details></li><li><details><summary><b>placeName</b>:</summary><ul><li><code>token</code></li><li><code>objectDesc</code></li><li><code>lb</code></li><li><code>hi</code></li><li><code>surface</code></li><li><code>zone</code></li><li><code>rs</code></li><li><code>accMat</code></li><li><code>abbr</code></li><li><code>ptr</code></li><li><code>graphic</code></li><li><code>taxonomy</code></li><li><code>postmark</code></li><li><code>del</code></li><li><code>settlement</code></li><li><code>country</code></li><li><code>expan</code></li><li><code>reg</code></li><li><code>relation</code></li><li><code>placeName</code></li><li><code>t</code></li><li><code>orig</code></li><li><code>decoNote</code></li><li><code>space</code></li><li><code>idno</code></li><li><code>altIdentifier</code></li><li><code>publicationStmt</code></li><li><code>add</code></li><li><code>measure</code></li><li><code>unclear</code></li></ul></details></li><li><details><summary><b>postmark</b>:</summary><ul><li><code>ptr</code></li><li><code>relation</code></li><li><code>t</code></li><li><code>postmark</code></li><li><code>space</code></li><li><code>unclear</code></li></ul></details></li><li><details><summary><b>postscript</b>:</summary><ul><li><code>token</code></li><li><code>editor</code></li><li><code>encodingDesc</code></li><li><code>physDesc</code></li><li><code>bibl</code></li><li><code>ref</code></li><li><code>lb</code></li><li><code>objectDesc</code></li><li><code>author</code></li><li><code>hi</code></li><li><code>surface</code></li><li><code>name</code></li><li><code>zone</code></li><li><code>desc</code></li><li><code>rs</code></li><li><code>opener</code></li><li><code>addrLine</code></li><li><code>correspDesc</code></li><li><code>abbr</code></li><li><code>accMat</code></li><li><code>ptr</code></li><li><code>correspAction</code></li><li><code>msIdentifier</code></li><li><code>closer</code></li><li><code>decoDesc</code></li><li><code>taxonomy</code></li><li><code>catRef</code></li><li><code>graphic</code></li><li><code>postscript</code></li><li><code>classDecl</code></li><li><code>postmark</code></li><li><code>del</code></li><li><code>title</code></li><li><code>facsimile</code></li><li><code>institution</code></li><li><code>settlement</code></li><li><code>salute</code></li><li><code>profileDesc</code></li><li><code>address</code></li><li><code>titleStmt</code></li><li><code>dateline</code></li><li><code>country</code></li><li><code>expan</code></li><li><code>reg</code></li><li><code>relation</code></li><li><code>head</code></li><li><code>placeName</code></li><li><code>change</code></li><li><code>t</code></li><li><code>orig</code></li><li><code>decoNote</code></li><li><code>fileDesc</code></li><li><code>note</code></li><li><code>space</code></li><li><code>idno</code></li><li><code>altIdentifier</code></li><li><code>publicationStmt</code></li><li><code>date</code></li><li><code>signed</code></li><li><code>choice</code></li><li><code>msDesc</code></li><li><code>add</code></li><li><code>sourceDesc</code></li><li><code>sentence</code></li><li><code>measure</code></li><li><code>unclear</code></li><li><code>sponsor</code></li><li><code>artwork</code></li></ul></details></li><li><details><summary><b>profileDesc</b>:</summary><ul><li><code>token</code></li><li><code>editor</code></li><li><code>encodingDesc</code></li><li><code>physDesc</code></li><li><code>ref</code></li><li><code>lb</code></li><li><code>objectDesc</code></li><li><code>author</code></li><li><code>hi</code></li><li><code>surface</code></li><li><code>name</code></li><li><code>zone</code></li><li><code>desc</code></li><li><code>rs</code></li><li><code>opener</code></li><li><code>addrLine</code></li><li><code>accMat</code></li><li><code>abbr</code></li><li><code>ptr</code></li><li><code>correspAction</code></li><li><code>closer</code></li><li><code>taxonomy</code></li><li><code>decoDesc</code></li><li><code>graphic</code></li><li><code>catRef</code></li><li><code>classDecl</code></li><li><code>postmark</code></li><li><code>del</code></li><li><code>title</code></li><li><code>facsimile</code></li><li><code>institution</code></li><li><code>settlement</code></li><li><code>salute</code></li><li><code>profileDesc</code></li><li><code>address</code></li><li><code>dateline</code></li><li><code>country</code></li><li><code>expan</code></li><li><code>reg</code></li><li><code>relation</code></li><li><code>head</code></li><li><code>placeName</code></li><li><code>change</code></li><li><code>t</code></li><li><code>orig</code></li><li><code>decoNote</code></li><li><code>space</code></li><li><code>idno</code></li><li><code>altIdentifier</code></li><li><code>publicationStmt</code></li><li><code>date</code></li><li><code>signed</code></li><li><code>choice</code></li><li><code>add</code></li><li><code>sentence</code></li><li><code>measure</code></li><li><code>unclear</code></li><li><code>sponsor</code></li></ul></details></li><li><details><summary><b>ptr</b>:</summary><ul><li><code>ptr</code></li><li><code>relation</code></li><li><code>t</code></li><li><code>space</code></li><li><code>unclear</code></li></ul></details></li><li><details><summary><b>publicationStmt</b>:</summary><ul><li><code>token</code></li><li><code>expan</code></li><li><code>ptr</code></li><li><code>graphic</code></li><li><code>objectDesc</code></li><li><code>lb</code></li><li><code>relation</code></li><li><code>t</code></li><li><code>postmark</code></li><li><code>measure</code></li><li><code>space</code></li><li><code>unclear</code></li><li><code>publicationStmt</code></li></ul></details></li><li><details><summary><b>ref</b>:</summary><ul><li><code>token</code></li><li><code>editor</code></li><li><code>objectDesc</code></li><li><code>lb</code></li><li><code>ref</code></li><li><code>hi</code></li><li><code>surface</code></li><li><code>zone</code></li><li><code>rs</code></li><li><code>accMat</code></li><li><code>abbr</code></li><li><code>ptr</code></li><li><code>graphic</code></li><li><code>taxonomy</code></li><li><code>decoDesc</code></li><li><code>postmark</code></li><li><code>del</code></li><li><code>settlement</code></li><li><code>country</code></li><li><code>expan</code></li><li><code>reg</code></li><li><code>relation</code></li><li><code>placeName</code></li><li><code>t</code></li><li><code>orig</code></li><li><code>decoNote</code></li><li><code>space</code></li><li><code>idno</code></li><li><code>altIdentifier</code></li><li><code>publicationStmt</code></li><li><code>signed</code></li><li><code>choice</code></li><li><code>add</code></li><li><code>measure</code></li><li><code>unclear</code></li><li><code>sponsor</code></li></ul></details></li><li><details><summary><b>reg</b>:</summary><ul><li><code>token</code></li><li><code>expan</code></li><li><code>ptr</code></li><li><code>graphic</code></li><li><code>add</code></li><li><code>reg</code></li><li><code>objectDesc</code></li><li><code>lb</code></li><li><code>relation</code></li><li><code>t</code></li><li><code>orig</code></li><li><code>postmark</code></li><li><code>measure</code></li><li><code>space</code></li><li><code>unclear</code></li><li><code>publicationStmt</code></li></ul></details></li><li><details><summary><b>relation</b>:</summary><ul><li><code>relation</code></li><li><code>unclear</code></li><li><code>space</code></li><li><code>t</code></li></ul></details></li><li><details><summary><b>revisionDesc</b>:</summary><ul><li><code>token</code></li><li><code>editor</code></li><li><code>encodingDesc</code></li><li><code>physDesc</code></li><li><code>bibl</code></li><li><code>ref</code></li><li><code>p</code></li><li><code>lb</code></li><li><code>objectDesc</code></li><li><code>author</code></li><li><code>hi</code></li><li><code>surface</code></li><li><code>name</code></li><li><code>zone</code></li><li><code>desc</code></li><li><code>rs</code></li><li><code>opener</code></li><li><code>addrLine</code></li><li><code>correspDesc</code></li><li><code>abbr</code></li><li><code>accMat</code></li><li><code>ptr</code></li><li><code>correspAction</code></li><li><code>postscript</code></li><li><code>msIdentifier</code></li><li><code>closer</code></li><li><code>decoDesc</code></li><li><code>catRef</code></li><li><code>taxonomy</code></li><li><code>graphic</code></li><li><code>classDecl</code></li><li><code>revisionDesc</code></li><li><code>postmark</code></li><li><code>del</code></li><li><code>title</code></li><li><code>facsimile</code></li><li><code>institution</code></li><li><code>settlement</code></li><li><code>salute</code></li><li><code>profileDesc</code></li><li><code>address</code></li><li><code>titleStmt</code></li><li><code>dateline</code></li><li><code>country</code></li><li><code>expan</code></li><li><code>reg</code></li><li><code>relation</code></li><li><code>head</code></li><li><code>placeName</code></li><li><code>change</code></li><li><code>t</code></li><li><code>orig</code></li><li><code>decoNote</code></li><li><code>fileDesc</code></li><li><code>note</code></li><li><code>space</code></li><li><code>idno</code></li><li><code>altIdentifier</code></li><li><code>publicationStmt</code></li><li><code>date</code></li><li><code>signed</code></li><li><code>choice</code></li><li><code>msDesc</code></li><li><code>add</code></li><li><code>sourceDesc</code></li><li><code>sentence</code></li><li><code>measure</code></li><li><code>unclear</code></li><li><code>sponsor</code></li><li><code>artwork</code></li></ul></details></li><li><details><summary><b>rs</b>:</summary><ul><li><code>token</code></li><li><code>objectDesc</code></li><li><code>lb</code></li><li><code>zone</code></li><li><code>rs</code></li><li><code>accMat</code></li><li><code>abbr</code></li><li><code>ptr</code></li><li><code>graphic</code></li><li><code>taxonomy</code></li><li><code>postmark</code></li><li><code>del</code></li><li><code>settlement</code></li><li><code>country</code></li><li><code>expan</code></li><li><code>reg</code></li><li><code>relation</code></li><li><code>t</code></li><li><code>orig</code></li><li><code>decoNote</code></li><li><code>space</code></li><li><code>altIdentifier</code></li><li><code>publicationStmt</code></li><li><code>add</code></li><li><code>measure</code></li><li><code>unclear</code></li></ul></details></li><li><details><summary><b>salute</b>:</summary><ul><li><code>token</code></li><li><code>editor</code></li><li><code>physDesc</code></li><li><code>ref</code></li><li><code>lb</code></li><li><code>objectDesc</code></li><li><code>author</code></li><li><code>hi</code></li><li><code>surface</code></li><li><code>name</code></li><li><code>zone</code></li><li><code>rs</code></li><li><code>addrLine</code></li><li><code>accMat</code></li><li><code>abbr</code></li><li><code>ptr</code></li><li><code>graphic</code></li><li><code>taxonomy</code></li><li><code>decoDesc</code></li><li><code>catRef</code></li><li><code>postmark</code></li><li><code>del</code></li><li><code>institution</code></li><li><code>settlement</code></li><li><code>salute</code></li><li><code>dateline</code></li><li><code>country</code></li><li><code>expan</code></li><li><code>reg</code></li><li><code>relation</code></li><li><code>head</code></li><li><code>placeName</code></li><li><code>t</code></li><li><code>orig</code></li><li><code>decoNote</code></li><li><code>space</code></li><li><code>idno</code></li><li><code>altIdentifier</code></li><li><code>publicationStmt</code></li><li><code>date</code></li><li><code>signed</code></li><li><code>choice</code></li><li><code>add</code></li><li><code>measure</code></li><li><code>unclear</code></li><li><code>sponsor</code></li></ul></details></li><li><details><summary><b>sentence</b>:</summary><ul><li><code>token</code></li><li><code>editor</code></li><li><code>encodingDesc</code></li><li><code>physDesc</code></li><li><code>ref</code></li><li><code>lb</code></li><li><code>objectDesc</code></li><li><code>author</code></li><li><code>hi</code></li><li><code>surface</code></li><li><code>name</code></li><li><code>zone</code></li><li><code>desc</code></li><li><code>rs</code></li><li><code>opener</code></li><li><code>addrLine</code></li><li><code>accMat</code></li><li><code>abbr</code></li><li><code>ptr</code></li><li><code>correspAction</code></li><li><code>taxonomy</code></li><li><code>graphic</code></li><li><code>decoDesc</code></li><li><code>catRef</code></li><li><code>classDecl</code></li><li><code>postmark</code></li><li><code>del</code></li><li><code>title</code></li><li><code>facsimile</code></li><li><code>institution</code></li><li><code>settlement</code></li><li><code>salute</code></li><li><code>dateline</code></li><li><code>country</code></li><li><code>expan</code></li><li><code>reg</code></li><li><code>relation</code></li><li><code>head</code></li><li><code>placeName</code></li><li><code>change</code></li><li><code>t</code></li><li><code>orig</code></li><li><code>decoNote</code></li><li><code>space</code></li><li><code>idno</code></li><li><code>altIdentifier</code></li><li><code>publicationStmt</code></li><li><code>date</code></li><li><code>signed</code></li><li><code>choice</code></li><li><code>add</code></li><li><code>sentence</code></li><li><code>measure</code></li><li><code>unclear</code></li><li><code>sponsor</code></li></ul></details></li><li><details><summary><b>settlement</b>:</summary><ul><li><code>token</code></li><li><code>objectDesc</code></li><li><code>lb</code></li><li><code>accMat</code></li><li><code>abbr</code></li><li><code>ptr</code></li><li><code>graphic</code></li><li><code>taxonomy</code></li><li><code>postmark</code></li><li><code>del</code></li><li><code>settlement</code></li><li><code>country</code></li><li><code>expan</code></li><li><code>reg</code></li><li><code>relation</code></li><li><code>t</code></li><li><code>orig</code></li><li><code>space</code></li><li><code>altIdentifier</code></li><li><code>publicationStmt</code></li><li><code>add</code></li><li><code>measure</code></li><li><code>unclear</code></li></ul></details></li><li><details><summary><b>signed</b>:</summary><ul><li><code>token</code></li><li><code>objectDesc</code></li><li><code>lb</code></li><li><code>hi</code></li><li><code>surface</code></li><li><code>zone</code></li><li><code>rs</code></li><li><code>accMat</code></li><li><code>abbr</code></li><li><code>ptr</code></li><li><code>graphic</code></li><li><code>taxonomy</code></li><li><code>postmark</code></li><li><code>del</code></li><li><code>settlement</code></li><li><code>country</code></li><li><code>expan</code></li><li><code>reg</code></li><li><code>relation</code></li><li><code>placeName</code></li><li><code>t</code></li><li><code>orig</code></li><li><code>decoNote</code></li><li><code>space</code></li><li><code>idno</code></li><li><code>altIdentifier</code></li><li><code>publicationStmt</code></li><li><code>signed</code></li><li><code>choice</code></li><li><code>add</code></li><li><code>measure</code></li><li><code>unclear</code></li></ul></details></li><li><details><summary><b>sourceDesc</b>:</summary><ul><li><code>token</code></li><li><code>editor</code></li><li><code>encodingDesc</code></li><li><code>physDesc</code></li><li><code>ref</code></li><li><code>lb</code></li><li><code>objectDesc</code></li><li><code>author</code></li><li><code>hi</code></li><li><code>surface</code></li><li><code>name</code></li><li><code>zone</code></li><li><code>desc</code></li><li><code>rs</code></li><li><code>opener</code></li><li><code>addrLine</code></li><li><code>correspDesc</code></li><li><code>abbr</code></li><li><code>accMat</code></li><li><code>ptr</code></li><li><code>correspAction</code></li><li><code>closer</code></li><li><code>msIdentifier</code></li><li><code>decoDesc</code></li><li><code>taxonomy</code></li><li><code>catRef</code></li><li><code>graphic</code></li><li><code>classDecl</code></li><li><code>postmark</code></li><li><code>del</code></li><li><code>title</code></li><li><code>facsimile</code></li><li><code>institution</code></li><li><code>settlement</code></li><li><code>salute</code></li><li><code>profileDesc</code></li><li><code>address</code></li><li><code>dateline</code></li><li><code>country</code></li><li><code>expan</code></li><li><code>reg</code></li><li><code>relation</code></li><li><code>head</code></li><li><code>placeName</code></li><li><code>change</code></li><li><code>t</code></li><li><code>orig</code></li><li><code>decoNote</code></li><li><code>space</code></li><li><code>idno</code></li><li><code>altIdentifier</code></li><li><code>publicationStmt</code></li><li><code>date</code></li><li><code>signed</code></li><li><code>choice</code></li><li><code>add</code></li><li><code>sourceDesc</code></li><li><code>sentence</code></li><li><code>measure</code></li><li><code>unclear</code></li><li><code>sponsor</code></li></ul></details></li><li><details><summary><b>space</b>:</summary><ul><li><code>unclear</code></li><li><code>space</code></li><li><code>t</code></li></ul></details></li><li><details><summary><b>sponsor</b>:</summary><ul><li><code>token</code></li><li><code>objectDesc</code></li><li><code>lb</code></li><li><code>hi</code></li><li><code>surface</code></li><li><code>zone</code></li><li><code>rs</code></li><li><code>accMat</code></li><li><code>abbr</code></li><li><code>ptr</code></li><li><code>graphic</code></li><li><code>taxonomy</code></li><li><code>postmark</code></li><li><code>del</code></li><li><code>settlement</code></li><li><code>country</code></li><li><code>expan</code></li><li><code>reg</code></li><li><code>relation</code></li><li><code>placeName</code></li><li><code>t</code></li><li><code>orig</code></li><li><code>decoNote</code></li><li><code>space</code></li><li><code>idno</code></li><li><code>altIdentifier</code></li><li><code>publicationStmt</code></li><li><code>signed</code></li><li><code>choice</code></li><li><code>add</code></li><li><code>measure</code></li><li><code>unclear</code></li><li><code>sponsor</code></li></ul></details></li><li><details><summary><b>standOff</b>:</summary><ul><li><code>token</code></li><li><code>editor</code></li><li><code>encodingDesc</code></li><li><code>physDesc</code></li><li><code>bibl</code></li><li><code>chunk</code></li><li><code>p</code></li><li><code>ref</code></li><li><code>lb</code></li><li><code>author</code></li><li><code>objectDesc</code></li><li><code>hi</code></li><li><code>teiHeader</code></li><li><code>name</code></li><li><code>surface</code></li><li><code>zone</code></li><li><code>desc</code></li><li><code>rs</code></li><li><code>opener</code></li><li><code>addrLine</code></li><li><code>correspDesc</code></li><li><code>div</code></li><li><code>abbr</code></li><li><code>accMat</code></li><li><code>ptr</code></li><li><code>correspAction</code></li><li><code>closer</code></li><li><code>postscript</code></li><li><code>listAnnotation</code></li><li><code>revisionDesc</code></li><li><code>msIdentifier</code></li><li><code>catRef</code></li><li><code>decoDesc</code></li><li><code>classDecl</code></li><li><code>taxonomy</code></li><li><code>standOff</code></li><li><code>postmark</code></li><li><code>del</code></li><li><code>title</code></li><li><code>facsimile</code></li><li><code>institution</code></li><li><code>settlement</code></li><li><code>salute</code></li><li><code>profileDesc</code></li><li><code>graphic</code></li><li><code>address</code></li><li><code>titleStmt</code></li><li><code>dateline</code></li><li><code>country</code></li><li><code>expan</code></li><li><code>reg</code></li><li><code>relation</code></li><li><code>page</code></li><li><code>head</code></li><li><code>change</code></li><li><code>placeName</code></li><li><code>orig</code></li><li><code>decoNote</code></li><li><code>t</code></li><li><code>fileDesc</code></li><li><code>note</code></li><li><code>space</code></li><li><code>idno</code></li><li><code>altIdentifier</code></li><li><code>publicationStmt</code></li><li><code>date</code></li><li><code>signed</code></li><li><code>choice</code></li><li><code>msDesc</code></li><li><code>add</code></li><li><code>sourceDesc</code></li><li><code>sentence</code></li><li><code>measure</code></li><li><code>unclear</code></li><li><code>sponsor</code></li><li><code>artwork</code></li></ul></details></li><li><details><summary><b>surface</b>:</summary><ul><li><code>token</code></li><li><code>objectDesc</code></li><li><code>lb</code></li><li><code>surface</code></li><li><code>zone</code></li><li><code>rs</code></li><li><code>accMat</code></li><li><code>abbr</code></li><li><code>ptr</code></li><li><code>graphic</code></li><li><code>taxonomy</code></li><li><code>postmark</code></li><li><code>del</code></li><li><code>settlement</code></li><li><code>country</code></li><li><code>expan</code></li><li><code>reg</code></li><li><code>relation</code></li><li><code>t</code></li><li><code>orig</code></li><li><code>decoNote</code></li><li><code>space</code></li><li><code>idno</code></li><li><code>altIdentifier</code></li><li><code>publicationStmt</code></li><li><code>add</code></li><li><code>measure</code></li><li><code>unclear</code></li></ul></details></li><li><details><summary><b>taxonomy</b>:</summary><ul><li><code>token</code></li><li><code>expan</code></li><li><code>ptr</code></li><li><code>graphic</code></li><li><code>add</code></li><li><code>reg</code></li><li><code>objectDesc</code></li><li><code>lb</code></li><li><code>relation</code></li><li><code>taxonomy</code></li><li><code>t</code></li><li><code>orig</code></li><li><code>postmark</code></li><li><code>del</code></li><li><code>measure</code></li><li><code>space</code></li><li><code>unclear</code></li><li><code>publicationStmt</code></li></ul></details></li><li><details><summary><b>teiHeader</b>:</summary><ul><li><code>token</code></li><li><code>editor</code></li><li><code>encodingDesc</code></li><li><code>physDesc</code></li><li><code>bibl</code></li><li><code>ref</code></li><li><code>p</code></li><li><code>lb</code></li><li><code>objectDesc</code></li><li><code>author</code></li><li><code>hi</code></li><li><code>surface</code></li><li><code>name</code></li><li><code>teiHeader</code></li><li><code>zone</code></li><li><code>desc</code></li><li><code>rs</code></li><li><code>opener</code></li><li><code>addrLine</code></li><li><code>correspDesc</code></li><li><code>abbr</code></li><li><code>accMat</code></li><li><code>ptr</code></li><li><code>correspAction</code></li><li><code>postscript</code></li><li><code>msIdentifier</code></li><li><code>revisionDesc</code></li><li><code>closer</code></li><li><code>catRef</code></li><li><code>decoDesc</code></li><li><code>taxonomy</code></li><li><code>classDecl</code></li><li><code>graphic</code></li><li><code>postmark</code></li><li><code>del</code></li><li><code>title</code></li><li><code>facsimile</code></li><li><code>institution</code></li><li><code>settlement</code></li><li><code>salute</code></li><li><code>profileDesc</code></li><li><code>address</code></li><li><code>titleStmt</code></li><li><code>dateline</code></li><li><code>country</code></li><li><code>expan</code></li><li><code>reg</code></li><li><code>relation</code></li><li><code>head</code></li><li><code>placeName</code></li><li><code>change</code></li><li><code>t</code></li><li><code>orig</code></li><li><code>decoNote</code></li><li><code>fileDesc</code></li><li><code>note</code></li><li><code>space</code></li><li><code>idno</code></li><li><code>altIdentifier</code></li><li><code>publicationStmt</code></li><li><code>date</code></li><li><code>signed</code></li><li><code>choice</code></li><li><code>msDesc</code></li><li><code>add</code></li><li><code>sourceDesc</code></li><li><code>sentence</code></li><li><code>measure</code></li><li><code>unclear</code></li><li><code>sponsor</code></li><li><code>artwork</code></li></ul></details></li><li><details><summary><b>text</b>:</summary><ul><li><code>token</code></li><li><code>ref</code></li><li><code>chunk</code></li><li><code>objectDesc</code></li><li><code>author</code></li><li><code>teiHeader</code></li><li><code>zone</code></li><li><code>opener</code></li><li><code>abbr</code></li><li><code>correspAction</code></li><li><code>msIdentifier</code></li><li><code>closer</code></li><li><code>revisionDesc</code></li><li><code>decoDesc</code></li><li><code>text</code></li><li><code>postmark</code></li><li><code>settlement</code></li><li><code>salute</code></li><li><code>listObject</code></li><li><code>reg</code></li><li><code>publicationStmt</code></li><li><code>date</code></li><li><code>add</code></li><li><code>measure</code></li><li><code>editor</code></li><li><code>encodingDesc</code></li><li><code>desc</code></li><li><code>div</code></li><li><code>ptr</code></li><li><code>postscript</code></li><li><code>taxonomy</code></li><li><code>del</code></li><li><code>title</code></li><li><code>institution</code></li><li><code>country</code></li><li><code>change</code></li><li><code>t</code></li><li><code>decoNote</code></li><li><code>fileDesc</code></li><li><code>note</code></li><li><code>signed</code></li><li><code>physDesc</code></li><li><code>bibl</code></li><li><code>lb</code></li><li><code>name</code></li><li><code>addrLine</code></li><li><code>correspDesc</code></li><li><code>graphic</code></li><li><code>listAnnotation</code></li><li><code>classDecl</code></li><li><code>artworklist</code></li><li><code>dateline</code></li><li><code>page</code></li><li><code>head</code></li><li><code>placeName</code></li><li><code>space</code></li><li><code>idno</code></li><li><code>altIdentifier</code></li><li><code>msDesc</code></li><li><code>sentence</code></li><li><code>sponsor</code></li><li><code>artwork</code></li><li><code>p</code></li><li><code>hi</code></li><li><code>surface</code></li><li><code>rs</code></li><li><code>accMat</code></li><li><code>catRef</code></li><li><code>standOff</code></li><li><code>facsimile</code></li><li><code>profileDesc</code></li><li><code>address</code></li><li><code>titleStmt</code></li><li><code>expan</code></li><li><code>relation</code></li><li><code>orig</code></li><li><code>choice</code></li><li><code>sourceDesc</code></li><li><code>unclear</code></li></ul></details></li><li><details><summary><b>title</b>:</summary><ul><li><code>token</code></li><li><code>editor</code></li><li><code>encodingDesc</code></li><li><code>physDesc</code></li><li><code>ref</code></li><li><code>lb</code></li><li><code>objectDesc</code></li><li><code>author</code></li><li><code>hi</code></li><li><code>surface</code></li><li><code>name</code></li><li><code>zone</code></li><li><code>rs</code></li><li><code>opener</code></li><li><code>addrLine</code></li><li><code>accMat</code></li><li><code>abbr</code></li><li><code>ptr</code></li><li><code>correspAction</code></li><li><code>taxonomy</code></li><li><code>graphic</code></li><li><code>decoDesc</code></li><li><code>catRef</code></li><li><code>classDecl</code></li><li><code>postmark</code></li><li><code>del</code></li><li><code>title</code></li><li><code>facsimile</code></li><li><code>institution</code></li><li><code>settlement</code></li><li><code>salute</code></li><li><code>dateline</code></li><li><code>country</code></li><li><code>expan</code></li><li><code>reg</code></li><li><code>relation</code></li><li><code>head</code></li><li><code>placeName</code></li><li><code>change</code></li><li><code>t</code></li><li><code>orig</code></li><li><code>decoNote</code></li><li><code>space</code></li><li><code>idno</code></li><li><code>altIdentifier</code></li><li><code>publicationStmt</code></li><li><code>date</code></li><li><code>signed</code></li><li><code>choice</code></li><li><code>add</code></li><li><code>measure</code></li><li><code>unclear</code></li><li><code>sponsor</code></li></ul></details></li><li><details><summary><b>titleStmt</b>:</summary><ul><li><code>token</code></li><li><code>editor</code></li><li><code>encodingDesc</code></li><li><code>physDesc</code></li><li><code>ref</code></li><li><code>lb</code></li><li><code>objectDesc</code></li><li><code>author</code></li><li><code>hi</code></li><li><code>surface</code></li><li><code>name</code></li><li><code>zone</code></li><li><code>desc</code></li><li><code>rs</code></li><li><code>opener</code></li><li><code>addrLine</code></li><li><code>correspDesc</code></li><li><code>abbr</code></li><li><code>accMat</code></li><li><code>ptr</code></li><li><code>correspAction</code></li><li><code>msIdentifier</code></li><li><code>closer</code></li><li><code>decoDesc</code></li><li><code>taxonomy</code></li><li><code>catRef</code></li><li><code>graphic</code></li><li><code>classDecl</code></li><li><code>postmark</code></li><li><code>del</code></li><li><code>title</code></li><li><code>facsimile</code></li><li><code>institution</code></li><li><code>settlement</code></li><li><code>salute</code></li><li><code>profileDesc</code></li><li><code>address</code></li><li><code>titleStmt</code></li><li><code>dateline</code></li><li><code>country</code></li><li><code>expan</code></li><li><code>reg</code></li><li><code>relation</code></li><li><code>head</code></li><li><code>placeName</code></li><li><code>change</code></li><li><code>t</code></li><li><code>orig</code></li><li><code>decoNote</code></li><li><code>space</code></li><li><code>idno</code></li><li><code>altIdentifier</code></li><li><code>publicationStmt</code></li><li><code>date</code></li><li><code>signed</code></li><li><code>choice</code></li><li><code>msDesc</code></li><li><code>add</code></li><li><code>sourceDesc</code></li><li><code>sentence</code></li><li><code>measure</code></li><li><code>unclear</code></li><li><code>sponsor</code></li></ul></details></li><li><details><summary><b>token</b>:</summary><ul><li><code>token</code></li><li><code>expan</code></li><li><code>ptr</code></li><li><code>graphic</code></li><li><code>objectDesc</code></li><li><code>lb</code></li><li><code>relation</code></li><li><code>t</code></li><li><code>postmark</code></li><li><code>measure</code></li><li><code>space</code></li><li><code>unclear</code></li></ul></details></li><li><details><summary><b>unclear</b>:</summary><ul><li><code>unclear</code></li><li><code>t</code></li></ul></details></li><li><details><summary><b>zone</b>:</summary><ul><li><code>token</code></li><li><code>objectDesc</code></li><li><code>lb</code></li><li><code>zone</code></li><li><code>accMat</code></li><li><code>abbr</code></li><li><code>ptr</code></li><li><code>graphic</code></li><li><code>taxonomy</code></li><li><code>postmark</code></li><li><code>del</code></li><li><code>settlement</code></li><li><code>country</code></li><li><code>expan</code></li><li><code>reg</code></li><li><code>relation</code></li><li><code>t</code></li><li><code>orig</code></li><li><code>decoNote</code></li><li><code>space</code></li><li><code>altIdentifier</code></li><li><code>publicationStmt</code></li><li><code>add</code></li><li><code>measure</code></li><li><code>unclear</code></li></ul></details></li></ul></details></li><li><b>direction</b>: <code>ltr</code></li><li><b>docBase</b>: <code>https://github.com/annotation/mondriaan/blob/master/docs</code></li><li><b>docExt</b>: <code>.md</code></li><li><b>docPage</b>: <code>about</code></li><li><b>docRoot</b>: <code>https://github.com</code></li><li><details><summary><b>docUrl</b>:</summary><code>https://github.com/annotation/mondriaan/blob/master/docs/about.md</code></details></li><li><details><summary><b>docs</b>:</summary><ul><li><b>charText</b>: <code>How TF features represent text</code></li><li><b>charUrl</b>: <code>https://annotation.github.io/text-fabric/tf/writing/</code></li><li><b>docBase</b>: <code>https://github.com/annotation/mondriaan/blob/master/docs</code></li><li><b>docExt</b>: <code>.md</code></li><li><b>docPage</b>: <code>about</code></li><li><b>docRoot</b>: <code>https://github.com</code></li><li><details><summary><b>docUrl</b>:</summary><code>https://github.com/annotation/mondriaan/blob/master/docs/about.md</code></details></li><li><details><summary><b>featureBase</b>:</summary><code>https://github.com/annotation/mondriaan/blob/master/docs/transcription.md</code></details></li><li><b>featurePage</b>: <code>transcription</code></li></ul></details></li><li><b>doi</b>: <code>10.5281/zenodo.notyet</code></li><li><b>edgeFeatures</b>: <code>set()</code></li><li><b>exampleSection</b>: <code>proeftuin@19090216y_IONG_1303:1</code></li><li><b>exampleSectionHtml</b>: <code>&lt;code>proeftuin@19090216y_IONG_1303:1&lt;/code></code></li><li><b>excludedFeatures</b>: <code>[]</code></li><li><b>exclusions</b>: <code>{}</code></li><li><b>extension</b>: <code>''</code></li><li><details><summary><b>featureBase</b>:</summary><code>https://github.com/annotation/mondriaan/blob/master/docs/transcription.md</code></details></li><li><b>featurePage</b>: <code>transcription</code></li><li><details><summary><b>features</b>:</summary><li><details open>\n",
       "                <summary><b>rs</b>:</summary>\n",
       "                <ul><li><details><summary>:</summary><ul><li><code>type</code></li><li><code>key</code></li></ul></details></li><li><code>{}</code></li></ul>\n",
       "                </details></li></details></li><li><details><summary><b>featuresBare</b>:</summary><li><details open>\n",
       "                <summary><b>rs</b>:</summary>\n",
       "                <ul><li><code>[]</code></li><li><code>{}</code></li></ul>\n",
       "                </details></li></details></li><li><b>fmt</b>: <code>layout-orig-full</code></li><li><details><summary><b>formatCls</b>:</summary><ul><li><b>layout-orig-full</b>: <code>txtu</code></li><li><b>text-orig-full</b>: <code>txtu</code></li></ul></details></li><li><b>formatHtml</b>: {<code>layout-orig-full</code>}</li><li><b>formatMethod</b>: {<b>layout-orig-full</b>: <code>layout</code>}</li><li><details><summary><b>formatStyle</b>:</summary><ul><li><b>normal</b>: <code>txtn</code></li><li><b>orig</b>: <code>txtu</code></li><li><b>phono</b>: <code>txtp</code></li><li><b>source</b>: <code>txto</code></li><li><b>trans</b>: <code>txtt</code></li></ul></details></li><li><b>graphicsRelative</b>: <code>illustrations</code></li><li><b>hasGraphics</b>: {<code>rs</code>}</li><li><b>hiddenTypes</b>: <code>set()</code></li><li><details><summary><b>interfaceDefaults</b>:</summary><ul><li><b>condensed</b>: <code>0</code></li><li><b>forceEdges</b>: <code>0</code></li><li><b>hideTypes</b>: <code>True</code></li><li><b>lineNumbers</b>: <i>no value</i></li><li><b>multiFeatures</b>: <code>0</code></li><li><b>plainGaps</b>: <code>True</code></li><li><b>prettyTypes</b>: <code>True</code></li><li><b>queryFeatures</b>: <code>True</code></li><li><b>showGraphics</b>: <code>True</code></li><li><b>showMath</b>: <code>0</code></li><li><b>standardFeatures</b>: <code>0</code></li><li><b>withLabels</b>: <code>True</code></li><li><b>withNodes</b>: <code>0</code></li><li><b>withTypes</b>: <code>0</code></li></ul></details></li><li><b>isCompatible</b>: <code>True</code></li><li><details><summary><b>labels</b>:</summary><ul><li><details><summary><b>abbr</b>:</summary><ul><li><code>''</code></li><li><code>()</code></li></ul></details></li><li><details><summary><b>accMat</b>:</summary><ul><li><code>''</code></li><li><code>()</code></li></ul></details></li><li><details><summary><b>add</b>:</summary><ul><li><code>''</code></li><li><code>()</code></li></ul></details></li><li><details><summary><b>addrLine</b>:</summary><ul><li><code>''</code></li><li><code>()</code></li></ul></details></li><li><details><summary><b>address</b>:</summary><ul><li><code>''</code></li><li><code>()</code></li></ul></details></li><li><details><summary><b>altIdentifier</b>:</summary><ul><li><code>''</code></li><li><code>()</code></li></ul></details></li><li><details><summary><b>artwork</b>:</summary><ul><li><code>''</code></li><li><code>()</code></li></ul></details></li><li><details><summary><b>artworklist</b>:</summary><ul><li><code>''</code></li><li><code>()</code></li></ul></details></li><li><details><summary><b>author</b>:</summary><ul><li><code>''</code></li><li><code>()</code></li></ul></details></li><li><details><summary><b>bibl</b>:</summary><ul><li><code>''</code></li><li><code>()</code></li></ul></details></li><li><details><summary><b>bibliolist</b>:</summary><ul><li><code>''</code></li><li><code>()</code></li></ul></details></li><li><details><summary><b>body</b>:</summary><ul><li><code>''</code></li><li><code>()</code></li></ul></details></li><li><details><summary><b>catRef</b>:</summary><ul><li><code>''</code></li><li><code>()</code></li></ul></details></li><li><details><summary><b>change</b>:</summary><ul><li><code>''</code></li><li><code>()</code></li></ul></details></li><li><details><summary><b>choice</b>:</summary><ul><li><code>''</code></li><li><code>()</code></li></ul></details></li><li><details><summary><b>chunk</b>:</summary><ul><li><code>''</code></li><li><code>()</code></li></ul></details></li><li><details><summary><b>classDecl</b>:</summary><ul><li><code>''</code></li><li><code>()</code></li></ul></details></li><li><details><summary><b>closer</b>:</summary><ul><li><code>''</code></li><li><code>()</code></li></ul></details></li><li><details><summary><b>correspAction</b>:</summary><ul><li><code>''</code></li><li><code>()</code></li></ul></details></li><li><details><summary><b>correspDesc</b>:</summary><ul><li><code>''</code></li><li><code>()</code></li></ul></details></li><li><details><summary><b>country</b>:</summary><ul><li><code>''</code></li><li><code>()</code></li></ul></details></li><li><details><summary><b>date</b>:</summary><ul><li><code>''</code></li><li><code>()</code></li></ul></details></li><li><details><summary><b>dateline</b>:</summary><ul><li><code>''</code></li><li><code>()</code></li></ul></details></li><li><details><summary><b>decoDesc</b>:</summary><ul><li><code>''</code></li><li><code>()</code></li></ul></details></li><li><details><summary><b>decoNote</b>:</summary><ul><li><code>''</code></li><li><code>()</code></li></ul></details></li><li><details><summary><b>del</b>:</summary><ul><li><code>''</code></li><li><code>()</code></li></ul></details></li><li><details><summary><b>desc</b>:</summary><ul><li><code>''</code></li><li><code>()</code></li></ul></details></li><li><details><summary><b>div</b>:</summary><ul><li><code>''</code></li><li><code>()</code></li></ul></details></li><li><details><summary><b>editor</b>:</summary><ul><li><code>''</code></li><li><code>()</code></li></ul></details></li><li><details><summary><b>encodingDesc</b>:</summary><ul><li><code>''</code></li><li><code>()</code></li></ul></details></li><li><details><summary><b>expan</b>:</summary><ul><li><code>''</code></li><li><code>()</code></li></ul></details></li><li><details><summary><b>facsimile</b>:</summary><ul><li><code>''</code></li><li><code>()</code></li></ul></details></li><li><details><summary><b>file</b>:</summary><ul><li><code>True</code></li><li><code>()</code></li></ul></details></li><li><details><summary><b>fileDesc</b>:</summary><ul><li><code>''</code></li><li><code>()</code></li></ul></details></li><li><details><summary><b>folder</b>:</summary><ul><li><code>True</code></li><li><code>()</code></li></ul></details></li><li><details><summary><b>graphic</b>:</summary><ul><li><code>''</code></li><li><code>()</code></li></ul></details></li><li><details><summary><b>head</b>:</summary><ul><li><code>''</code></li><li><code>()</code></li></ul></details></li><li><details><summary><b>hi</b>:</summary><ul><li><code>''</code></li><li><code>()</code></li></ul></details></li><li><details><summary><b>idno</b>:</summary><ul><li><code>''</code></li><li><code>()</code></li></ul></details></li><li><details><summary><b>institution</b>:</summary><ul><li><code>''</code></li><li><code>()</code></li></ul></details></li><li><details><summary><b>lb</b>:</summary><ul><li><code>''</code></li><li><code>()</code></li></ul></details></li><li><details><summary><b>letter</b>:</summary><ul><li><code>''</code></li><li><code>()</code></li></ul></details></li><li><details><summary><b>listAnnotation</b>:</summary><ul><li><code>''</code></li><li><code>()</code></li></ul></details></li><li><details><summary><b>listBibl</b>:</summary><ul><li><code>''</code></li><li><code>()</code></li></ul></details></li><li><details><summary><b>listObject</b>:</summary><ul><li><code>''</code></li><li><code>()</code></li></ul></details></li><li><details><summary><b>measure</b>:</summary><ul><li><code>''</code></li><li><code>()</code></li></ul></details></li><li><details><summary><b>msDesc</b>:</summary><ul><li><code>''</code></li><li><code>()</code></li></ul></details></li><li><details><summary><b>msIdentifier</b>:</summary><ul><li><code>''</code></li><li><code>()</code></li></ul></details></li><li><details><summary><b>name</b>:</summary><ul><li><code>''</code></li><li><code>()</code></li></ul></details></li><li><details><summary><b>note</b>:</summary><ul><li><code>''</code></li><li><code>()</code></li></ul></details></li><li><details><summary><b>objectDesc</b>:</summary><ul><li><code>''</code></li><li><code>()</code></li></ul></details></li><li><details><summary><b>opener</b>:</summary><ul><li><code>''</code></li><li><code>()</code></li></ul></details></li><li><details><summary><b>orig</b>:</summary><ul><li><code>''</code></li><li><code>()</code></li></ul></details></li><li><details><summary><b>p</b>:</summary><ul><li><code>''</code></li><li><code>()</code></li></ul></details></li><li><details><summary><b>page</b>:</summary><ul><li><code>''</code></li><li><code>()</code></li></ul></details></li><li><details><summary><b>physDesc</b>:</summary><ul><li><code>''</code></li><li><code>()</code></li></ul></details></li><li><details><summary><b>placeName</b>:</summary><ul><li><code>''</code></li><li><code>()</code></li></ul></details></li><li><details><summary><b>postmark</b>:</summary><ul><li><code>''</code></li><li><code>()</code></li></ul></details></li><li><details><summary><b>postscript</b>:</summary><ul><li><code>''</code></li><li><code>()</code></li></ul></details></li><li><details><summary><b>profileDesc</b>:</summary><ul><li><code>''</code></li><li><code>()</code></li></ul></details></li><li><details><summary><b>ptr</b>:</summary><ul><li><code>''</code></li><li><code>()</code></li></ul></details></li><li><details><summary><b>publicationStmt</b>:</summary><ul><li><code>''</code></li><li><code>()</code></li></ul></details></li><li><details><summary><b>ref</b>:</summary><ul><li><code>''</code></li><li><code>()</code></li></ul></details></li><li><details><summary><b>reg</b>:</summary><ul><li><code>''</code></li><li><code>()</code></li></ul></details></li><li><details><summary><b>relation</b>:</summary><ul><li><code>''</code></li><li><code>()</code></li></ul></details></li><li><details><summary><b>revisionDesc</b>:</summary><ul><li><code>''</code></li><li><code>()</code></li></ul></details></li><li><details><summary><b>rs</b>:</summary><ul><li><code>''</code></li><li><code>()</code></li></ul></details></li><li><details><summary><b>salute</b>:</summary><ul><li><code>''</code></li><li><code>()</code></li></ul></details></li><li><details><summary><b>sentence</b>:</summary><ul><li><code>''</code></li><li><code>()</code></li></ul></details></li><li><details><summary><b>settlement</b>:</summary><ul><li><code>''</code></li><li><code>()</code></li></ul></details></li><li><details><summary><b>signed</b>:</summary><ul><li><code>''</code></li><li><code>()</code></li></ul></details></li><li><details><summary><b>sourceDesc</b>:</summary><ul><li><code>''</code></li><li><code>()</code></li></ul></details></li><li><details><summary><b>space</b>:</summary><ul><li><code>''</code></li><li><code>()</code></li></ul></details></li><li><details><summary><b>sponsor</b>:</summary><ul><li><code>''</code></li><li><code>()</code></li></ul></details></li><li><details><summary><b>standOff</b>:</summary><ul><li><code>''</code></li><li><code>()</code></li></ul></details></li><li><details><summary><b>surface</b>:</summary><ul><li><code>''</code></li><li><code>()</code></li></ul></details></li><li><details><summary><b>t</b>:</summary><ul><li><code>True</code></li><li><code>()</code></li></ul></details></li><li><details><summary><b>taxonomy</b>:</summary><ul><li><code>''</code></li><li><code>()</code></li></ul></details></li><li><details><summary><b>teiHeader</b>:</summary><ul><li><code>''</code></li><li><code>()</code></li></ul></details></li><li><details><summary><b>text</b>:</summary><ul><li><code>''</code></li><li><code>()</code></li></ul></details></li><li><details><summary><b>title</b>:</summary><ul><li><code>''</code></li><li><code>()</code></li></ul></details></li><li><details><summary><b>titleStmt</b>:</summary><ul><li><code>''</code></li><li><code>()</code></li></ul></details></li><li><details><summary><b>token</b>:</summary><ul><li><code>''</code></li><li><code>()</code></li></ul></details></li><li><details><summary><b>unclear</b>:</summary><ul><li><code>''</code></li><li><code>()</code></li></ul></details></li><li><details><summary><b>zone</b>:</summary><ul><li><code>''</code></li><li><code>()</code></li></ul></details></li></ul></details></li><li><b>language</b>: <code>''</code></li><li><details><summary><b>levelCls</b>:</summary><ul><li><details><summary><b>abbr</b>:</summary><ul><li><b>children</b>: <code>children hor wrap</code></li><li><b>container</b>: <code>contnr c1</code></li><li><b>label</b>: <code>lbl c1</code></li></ul></details></li><li><details><summary><b>accMat</b>:</summary><ul><li><b>children</b>: <code>children hor wrap</code></li><li><b>container</b>: <code>contnr c1</code></li><li><b>label</b>: <code>lbl c1</code></li></ul></details></li><li><details><summary><b>add</b>:</summary><ul><li><b>children</b>: <code>children hor wrap</code></li><li><b>container</b>: <code>contnr c1</code></li><li><b>label</b>: <code>lbl c1</code></li></ul></details></li><li><details><summary><b>addrLine</b>:</summary><ul><li><b>children</b>: <code>children hor wrap</code></li><li><b>container</b>: <code>contnr c2</code></li><li><b>label</b>: <code>lbl c2</code></li></ul></details></li><li><details><summary><b>address</b>:</summary><ul><li><b>children</b>: <code>children hor wrap</code></li><li><b>container</b>: <code>contnr c2</code></li><li><b>label</b>: <code>lbl c2</code></li></ul></details></li><li><details><summary><b>altIdentifier</b>:</summary><ul><li><b>children</b>: <code>children hor wrap</code></li><li><b>container</b>: <code>contnr c1</code></li><li><b>label</b>: <code>lbl c1</code></li></ul></details></li><li><details><summary><b>artwork</b>:</summary><ul><li><b>children</b>: <code>children hor wrap</code></li><li><b>container</b>: <code>contnr c2</code></li><li><b>label</b>: <code>lbl c2</code></li></ul></details></li><li><details><summary><b>artworklist</b>:</summary><ul><li><b>children</b>: <code>children hor wrap</code></li><li><b>container</b>: <code>contnr c2</code></li><li><b>label</b>: <code>lbl c2</code></li></ul></details></li><li><details><summary><b>author</b>:</summary><ul><li><b>children</b>: <code>children hor wrap</code></li><li><b>container</b>: <code>contnr c1</code></li><li><b>label</b>: <code>lbl c1</code></li></ul></details></li><li><details><summary><b>bibl</b>:</summary><ul><li><b>children</b>: <code>children hor wrap</code></li><li><b>container</b>: <code>contnr c2</code></li><li><b>label</b>: <code>lbl c2</code></li></ul></details></li><li><details><summary><b>bibliolist</b>:</summary><ul><li><b>children</b>: <code>children hor wrap</code></li><li><b>container</b>: <code>contnr c2</code></li><li><b>label</b>: <code>lbl c2</code></li></ul></details></li><li><details><summary><b>body</b>:</summary><ul><li><b>children</b>: <code>children hor wrap</code></li><li><b>container</b>: <code>contnr c2</code></li><li><b>label</b>: <code>lbl c2</code></li></ul></details></li><li><details><summary><b>catRef</b>:</summary><ul><li><b>children</b>: <code>children hor wrap</code></li><li><b>container</b>: <code>contnr c1</code></li><li><b>label</b>: <code>lbl c1</code></li></ul></details></li><li><details><summary><b>change</b>:</summary><ul><li><b>children</b>: <code>children hor wrap</code></li><li><b>container</b>: <code>contnr c2</code></li><li><b>label</b>: <code>lbl c2</code></li></ul></details></li><li><details><summary><b>choice</b>:</summary><ul><li><b>children</b>: <code>children hor wrap</code></li><li><b>container</b>: <code>contnr c1</code></li><li><b>label</b>: <code>lbl c1</code></li></ul></details></li><li><details><summary><b>chunk</b>:</summary><ul><li><b>children</b>: <code>children hor wrap</code></li><li><b>container</b>: <code>contnr c3</code></li><li><b>label</b>: <code>lbl c3</code></li></ul></details></li><li><details><summary><b>classDecl</b>:</summary><ul><li><b>children</b>: <code>children hor wrap</code></li><li><b>container</b>: <code>contnr c2</code></li><li><b>label</b>: <code>lbl c2</code></li></ul></details></li><li><details><summary><b>closer</b>:</summary><ul><li><b>children</b>: <code>children hor wrap</code></li><li><b>container</b>: <code>contnr c2</code></li><li><b>label</b>: <code>lbl c2</code></li></ul></details></li><li><details><summary><b>correspAction</b>:</summary><ul><li><b>children</b>: <code>children hor wrap</code></li><li><b>container</b>: <code>contnr c2</code></li><li><b>label</b>: <code>lbl c2</code></li></ul></details></li><li><details><summary><b>correspDesc</b>:</summary><ul><li><b>children</b>: <code>children hor wrap</code></li><li><b>container</b>: <code>contnr c2</code></li><li><b>label</b>: <code>lbl c2</code></li></ul></details></li><li><details><summary><b>country</b>:</summary><ul><li><b>children</b>: <code>children hor wrap</code></li><li><b>container</b>: <code>contnr c1</code></li><li><b>label</b>: <code>lbl c1</code></li></ul></details></li><li><details><summary><b>date</b>:</summary><ul><li><b>children</b>: <code>children hor wrap</code></li><li><b>container</b>: <code>contnr c2</code></li><li><b>label</b>: <code>lbl c2</code></li></ul></details></li><li><details><summary><b>dateline</b>:</summary><ul><li><b>children</b>: <code>children hor wrap</code></li><li><b>container</b>: <code>contnr c1</code></li><li><b>label</b>: <code>lbl c1</code></li></ul></details></li><li><details><summary><b>decoDesc</b>:</summary><ul><li><b>children</b>: <code>children hor wrap</code></li><li><b>container</b>: <code>contnr c1</code></li><li><b>label</b>: <code>lbl c1</code></li></ul></details></li><li><details><summary><b>decoNote</b>:</summary><ul><li><b>children</b>: <code>children hor wrap</code></li><li><b>container</b>: <code>contnr c1</code></li><li><b>label</b>: <code>lbl c1</code></li></ul></details></li><li><details><summary><b>del</b>:</summary><ul><li><b>children</b>: <code>children hor wrap</code></li><li><b>container</b>: <code>contnr c1</code></li><li><b>label</b>: <code>lbl c1</code></li></ul></details></li><li><details><summary><b>desc</b>:</summary><ul><li><b>children</b>: <code>children hor wrap</code></li><li><b>container</b>: <code>contnr c2</code></li><li><b>label</b>: <code>lbl c2</code></li></ul></details></li><li><details><summary><b>div</b>:</summary><ul><li><b>children</b>: <code>children hor wrap</code></li><li><b>container</b>: <code>contnr c2</code></li><li><b>label</b>: <code>lbl c2</code></li></ul></details></li><li><details><summary><b>editor</b>:</summary><ul><li><b>children</b>: <code>children hor wrap</code></li><li><b>container</b>: <code>contnr c1</code></li><li><b>label</b>: <code>lbl c1</code></li></ul></details></li><li><details><summary><b>encodingDesc</b>:</summary><ul><li><b>children</b>: <code>children hor wrap</code></li><li><b>container</b>: <code>contnr c2</code></li><li><b>label</b>: <code>lbl c2</code></li></ul></details></li><li><details><summary><b>expan</b>:</summary><ul><li><b>children</b>: <code>children hor wrap</code></li><li><b>container</b>: <code>contnr c1</code></li><li><b>label</b>: <code>lbl c1</code></li></ul></details></li><li><details><summary><b>facsimile</b>:</summary><ul><li><b>children</b>: <code>children hor wrap</code></li><li><b>container</b>: <code>contnr c2</code></li><li><b>label</b>: <code>lbl c2</code></li></ul></details></li><li><details><summary><b>file</b>:</summary><ul><li><b>children</b>: <code>children hor wrap</code></li><li><b>container</b>: <code>contnr c4</code></li><li><b>label</b>: <code>lbl c4</code></li></ul></details></li><li><details><summary><b>fileDesc</b>:</summary><ul><li><b>children</b>: <code>children hor wrap</code></li><li><b>container</b>: <code>contnr c2</code></li><li><b>label</b>: <code>lbl c2</code></li></ul></details></li><li><details><summary><b>folder</b>:</summary><ul><li><b>children</b>: <code>children hor wrap</code></li><li><b>container</b>: <code>contnr c4</code></li><li><b>label</b>: <code>lbl c4</code></li></ul></details></li><li><details><summary><b>graphic</b>:</summary><ul><li><b>children</b>: <code>children hor wrap</code></li><li><b>container</b>: <code>contnr c1</code></li><li><b>label</b>: <code>lbl c1</code></li></ul></details></li><li><details><summary><b>head</b>:</summary><ul><li><b>children</b>: <code>children hor wrap</code></li><li><b>container</b>: <code>contnr c2</code></li><li><b>label</b>: <code>lbl c2</code></li></ul></details></li><li><details><summary><b>hi</b>:</summary><ul><li><b>children</b>: <code>children hor wrap</code></li><li><b>container</b>: <code>contnr c1</code></li><li><b>label</b>: <code>lbl c1</code></li></ul></details></li><li><details><summary><b>idno</b>:</summary><ul><li><b>children</b>: <code>children hor wrap</code></li><li><b>container</b>: <code>contnr c1</code></li><li><b>label</b>: <code>lbl c1</code></li></ul></details></li><li><details><summary><b>institution</b>:</summary><ul><li><b>children</b>: <code>children hor wrap</code></li><li><b>container</b>: <code>contnr c1</code></li><li><b>label</b>: <code>lbl c1</code></li></ul></details></li><li><details><summary><b>lb</b>:</summary><ul><li><b>children</b>: <code>children hor wrap</code></li><li><b>container</b>: <code>contnr c1</code></li><li><b>label</b>: <code>lbl c1</code></li></ul></details></li><li><details><summary><b>letter</b>:</summary><ul><li><b>children</b>: <code>children hor wrap</code></li><li><b>container</b>: <code>contnr c2</code></li><li><b>label</b>: <code>lbl c2</code></li></ul></details></li><li><details><summary><b>listAnnotation</b>:</summary><ul><li><b>children</b>: <code>children hor wrap</code></li><li><b>container</b>: <code>contnr c2</code></li><li><b>label</b>: <code>lbl c2</code></li></ul></details></li><li><details><summary><b>listBibl</b>:</summary><ul><li><b>children</b>: <code>children hor wrap</code></li><li><b>container</b>: <code>contnr c2</code></li><li><b>label</b>: <code>lbl c2</code></li></ul></details></li><li><details><summary><b>listObject</b>:</summary><ul><li><b>children</b>: <code>children hor wrap</code></li><li><b>container</b>: <code>contnr c2</code></li><li><b>label</b>: <code>lbl c2</code></li></ul></details></li><li><details><summary><b>measure</b>:</summary><ul><li><b>children</b>: <code>children hor wrap</code></li><li><b>container</b>: <code>contnr c1</code></li><li><b>label</b>: <code>lbl c1</code></li></ul></details></li><li><details><summary><b>msDesc</b>:</summary><ul><li><b>children</b>: <code>children hor wrap</code></li><li><b>container</b>: <code>contnr c2</code></li><li><b>label</b>: <code>lbl c2</code></li></ul></details></li><li><details><summary><b>msIdentifier</b>:</summary><ul><li><b>children</b>: <code>children hor wrap</code></li><li><b>container</b>: <code>contnr c2</code></li><li><b>label</b>: <code>lbl c2</code></li></ul></details></li><li><details><summary><b>name</b>:</summary><ul><li><b>children</b>: <code>children hor wrap</code></li><li><b>container</b>: <code>contnr c1</code></li><li><b>label</b>: <code>lbl c1</code></li></ul></details></li><li><details><summary><b>note</b>:</summary><ul><li><b>children</b>: <code>children hor wrap</code></li><li><b>container</b>: <code>contnr c2</code></li><li><b>label</b>: <code>lbl c2</code></li></ul></details></li><li><details><summary><b>objectDesc</b>:</summary><ul><li><b>children</b>: <code>children hor wrap</code></li><li><b>container</b>: <code>contnr c1</code></li><li><b>label</b>: <code>lbl c1</code></li></ul></details></li><li><details><summary><b>opener</b>:</summary><ul><li><b>children</b>: <code>children hor wrap</code></li><li><b>container</b>: <code>contnr c2</code></li><li><b>label</b>: <code>lbl c2</code></li></ul></details></li><li><details><summary><b>orig</b>:</summary><ul><li><b>children</b>: <code>children hor wrap</code></li><li><b>container</b>: <code>contnr c1</code></li><li><b>label</b>: <code>lbl c1</code></li></ul></details></li><li><details><summary><b>p</b>:</summary><ul><li><b>children</b>: <code>children hor wrap</code></li><li><b>container</b>: <code>contnr c2</code></li><li><b>label</b>: <code>lbl c2</code></li></ul></details></li><li><details><summary><b>page</b>:</summary><ul><li><b>children</b>: <code>children hor wrap</code></li><li><b>container</b>: <code>contnr c2</code></li><li><b>label</b>: <code>lbl c2</code></li></ul></details></li><li><details><summary><b>physDesc</b>:</summary><ul><li><b>children</b>: <code>children hor wrap</code></li><li><b>container</b>: <code>contnr c1</code></li><li><b>label</b>: <code>lbl c1</code></li></ul></details></li><li><details><summary><b>placeName</b>:</summary><ul><li><b>children</b>: <code>children hor wrap</code></li><li><b>container</b>: <code>contnr c1</code></li><li><b>label</b>: <code>lbl c1</code></li></ul></details></li><li><details><summary><b>postmark</b>:</summary><ul><li><b>children</b>: <code>children hor wrap</code></li><li><b>container</b>: <code>contnr c1</code></li><li><b>label</b>: <code>lbl c1</code></li></ul></details></li><li><details><summary><b>postscript</b>:</summary><ul><li><b>children</b>: <code>children hor wrap</code></li><li><b>container</b>: <code>contnr c2</code></li><li><b>label</b>: <code>lbl c2</code></li></ul></details></li><li><details><summary><b>profileDesc</b>:</summary><ul><li><b>children</b>: <code>children hor wrap</code></li><li><b>container</b>: <code>contnr c2</code></li><li><b>label</b>: <code>lbl c2</code></li></ul></details></li><li><details><summary><b>ptr</b>:</summary><ul><li><b>children</b>: <code>children hor wrap</code></li><li><b>container</b>: <code>contnr c1</code></li><li><b>label</b>: <code>lbl c1</code></li></ul></details></li><li><details><summary><b>publicationStmt</b>:</summary><ul><li><b>children</b>: <code>children hor wrap</code></li><li><b>container</b>: <code>contnr c1</code></li><li><b>label</b>: <code>lbl c1</code></li></ul></details></li><li><details><summary><b>ref</b>:</summary><ul><li><b>children</b>: <code>children hor wrap</code></li><li><b>container</b>: <code>contnr c1</code></li><li><b>label</b>: <code>lbl c1</code></li></ul></details></li><li><details><summary><b>reg</b>:</summary><ul><li><b>children</b>: <code>children hor wrap</code></li><li><b>container</b>: <code>contnr c1</code></li><li><b>label</b>: <code>lbl c1</code></li></ul></details></li><li><details><summary><b>relation</b>:</summary><ul><li><b>children</b>: <code>children hor wrap</code></li><li><b>container</b>: <code>contnr c1</code></li><li><b>label</b>: <code>lbl c1</code></li></ul></details></li><li><details><summary><b>revisionDesc</b>:</summary><ul><li><b>children</b>: <code>children hor wrap</code></li><li><b>container</b>: <code>contnr c2</code></li><li><b>label</b>: <code>lbl c2</code></li></ul></details></li><li><details><summary><b>rs</b>:</summary><ul><li><b>children</b>: <code>children hor wrap</code></li><li><b>container</b>: <code>contnr c1</code></li><li><b>label</b>: <code>lbl c1</code></li></ul></details></li><li><details><summary><b>salute</b>:</summary><ul><li><b>children</b>: <code>children hor wrap</code></li><li><b>container</b>: <code>contnr c2</code></li><li><b>label</b>: <code>lbl c2</code></li></ul></details></li><li><details><summary><b>sentence</b>:</summary><ul><li><b>children</b>: <code>children hor wrap</code></li><li><b>container</b>: <code>contnr c2</code></li><li><b>label</b>: <code>lbl c2</code></li></ul></details></li><li><details><summary><b>settlement</b>:</summary><ul><li><b>children</b>: <code>children hor wrap</code></li><li><b>container</b>: <code>contnr c1</code></li><li><b>label</b>: <code>lbl c1</code></li></ul></details></li><li><details><summary><b>signed</b>:</summary><ul><li><b>children</b>: <code>children hor wrap</code></li><li><b>container</b>: <code>contnr c1</code></li><li><b>label</b>: <code>lbl c1</code></li></ul></details></li><li><details><summary><b>sourceDesc</b>:</summary><ul><li><b>children</b>: <code>children hor wrap</code></li><li><b>container</b>: <code>contnr c2</code></li><li><b>label</b>: <code>lbl c2</code></li></ul></details></li><li><details><summary><b>space</b>:</summary><ul><li><b>children</b>: <code>children hor wrap</code></li><li><b>container</b>: <code>contnr c1</code></li><li><b>label</b>: <code>lbl c1</code></li></ul></details></li><li><details><summary><b>sponsor</b>:</summary><ul><li><b>children</b>: <code>children hor wrap</code></li><li><b>container</b>: <code>contnr c1</code></li><li><b>label</b>: <code>lbl c1</code></li></ul></details></li><li><details><summary><b>standOff</b>:</summary><ul><li><b>children</b>: <code>children hor wrap</code></li><li><b>container</b>: <code>contnr c2</code></li><li><b>label</b>: <code>lbl c2</code></li></ul></details></li><li><details><summary><b>surface</b>:</summary><ul><li><b>children</b>: <code>children hor wrap</code></li><li><b>container</b>: <code>contnr c1</code></li><li><b>label</b>: <code>lbl c1</code></li></ul></details></li><li><details><summary><b>t</b>:</summary><ul><li><b>children</b>: <code>''</code></li><li><b>container</b>: <code>contnr c0</code></li><li><b>label</b>: <code>lbl c0</code></li></ul></details></li><li><details><summary><b>taxonomy</b>:</summary><ul><li><b>children</b>: <code>children hor wrap</code></li><li><b>container</b>: <code>contnr c1</code></li><li><b>label</b>: <code>lbl c1</code></li></ul></details></li><li><details><summary><b>teiHeader</b>:</summary><ul><li><b>children</b>: <code>children hor wrap</code></li><li><b>container</b>: <code>contnr c2</code></li><li><b>label</b>: <code>lbl c2</code></li></ul></details></li><li><details><summary><b>text</b>:</summary><ul><li><b>children</b>: <code>children hor wrap</code></li><li><b>container</b>: <code>contnr c2</code></li><li><b>label</b>: <code>lbl c2</code></li></ul></details></li><li><details><summary><b>title</b>:</summary><ul><li><b>children</b>: <code>children hor wrap</code></li><li><b>container</b>: <code>contnr c2</code></li><li><b>label</b>: <code>lbl c2</code></li></ul></details></li><li><details><summary><b>titleStmt</b>:</summary><ul><li><b>children</b>: <code>children hor wrap</code></li><li><b>container</b>: <code>contnr c2</code></li><li><b>label</b>: <code>lbl c2</code></li></ul></details></li><li><details><summary><b>token</b>:</summary><ul><li><b>children</b>: <code>children hor wrap</code></li><li><b>container</b>: <code>contnr c1</code></li><li><b>label</b>: <code>lbl c1</code></li></ul></details></li><li><details><summary><b>unclear</b>:</summary><ul><li><b>children</b>: <code>children hor wrap</code></li><li><b>container</b>: <code>contnr c1</code></li><li><b>label</b>: <code>lbl c1</code></li></ul></details></li><li><details><summary><b>zone</b>:</summary><ul><li><b>children</b>: <code>children hor wrap</code></li><li><b>container</b>: <code>contnr c1</code></li><li><b>label</b>: <code>lbl c1</code></li></ul></details></li></ul></details></li><li><details><summary><b>levels</b>:</summary><ul><li><details><summary><b>abbr</b>:</summary><ul><li><b>flow</b>: <code>hor</code></li><li><b>level</b>: <code>1</code></li><li><b>stretch</b>: <code>True</code></li><li><b>wrap</b>: <code>True</code></li></ul></details></li><li><details><summary><b>accMat</b>:</summary><ul><li><b>flow</b>: <code>hor</code></li><li><b>level</b>: <code>1</code></li><li><b>stretch</b>: <code>True</code></li><li><b>wrap</b>: <code>True</code></li></ul></details></li><li><details><summary><b>add</b>:</summary><ul><li><b>flow</b>: <code>hor</code></li><li><b>level</b>: <code>1</code></li><li><b>stretch</b>: <code>True</code></li><li><b>wrap</b>: <code>True</code></li></ul></details></li><li><details><summary><b>addrLine</b>:</summary><ul><li><b>flow</b>: <code>hor</code></li><li><b>level</b>: <code>2</code></li><li><b>stretch</b>: <code>True</code></li><li><b>wrap</b>: <code>True</code></li></ul></details></li><li><details><summary><b>address</b>:</summary><ul><li><b>flow</b>: <code>hor</code></li><li><b>level</b>: <code>2</code></li><li><b>stretch</b>: <code>True</code></li><li><b>wrap</b>: <code>True</code></li></ul></details></li><li><details><summary><b>altIdentifier</b>:</summary><ul><li><b>flow</b>: <code>hor</code></li><li><b>level</b>: <code>1</code></li><li><b>stretch</b>: <code>True</code></li><li><b>wrap</b>: <code>True</code></li></ul></details></li><li><details><summary><b>artwork</b>:</summary><ul><li><b>flow</b>: <code>hor</code></li><li><b>level</b>: <code>2</code></li><li><b>stretch</b>: <code>True</code></li><li><b>wrap</b>: <code>True</code></li></ul></details></li><li><details><summary><b>artworklist</b>:</summary><ul><li><b>flow</b>: <code>hor</code></li><li><b>level</b>: <code>2</code></li><li><b>stretch</b>: <code>True</code></li><li><b>wrap</b>: <code>True</code></li></ul></details></li><li><details><summary><b>author</b>:</summary><ul><li><b>flow</b>: <code>hor</code></li><li><b>level</b>: <code>1</code></li><li><b>stretch</b>: <code>True</code></li><li><b>wrap</b>: <code>True</code></li></ul></details></li><li><details><summary><b>bibl</b>:</summary><ul><li><b>flow</b>: <code>hor</code></li><li><b>level</b>: <code>2</code></li><li><b>stretch</b>: <code>True</code></li><li><b>wrap</b>: <code>True</code></li></ul></details></li><li><details><summary><b>bibliolist</b>:</summary><ul><li><b>flow</b>: <code>hor</code></li><li><b>level</b>: <code>2</code></li><li><b>stretch</b>: <code>True</code></li><li><b>wrap</b>: <code>True</code></li></ul></details></li><li><details><summary><b>body</b>:</summary><ul><li><b>flow</b>: <code>hor</code></li><li><b>level</b>: <code>2</code></li><li><b>stretch</b>: <code>True</code></li><li><b>wrap</b>: <code>True</code></li></ul></details></li><li><details><summary><b>catRef</b>:</summary><ul><li><b>flow</b>: <code>hor</code></li><li><b>level</b>: <code>1</code></li><li><b>stretch</b>: <code>True</code></li><li><b>wrap</b>: <code>True</code></li></ul></details></li><li><details><summary><b>change</b>:</summary><ul><li><b>flow</b>: <code>hor</code></li><li><b>level</b>: <code>2</code></li><li><b>stretch</b>: <code>True</code></li><li><b>wrap</b>: <code>True</code></li></ul></details></li><li><details><summary><b>choice</b>:</summary><ul><li><b>flow</b>: <code>hor</code></li><li><b>level</b>: <code>1</code></li><li><b>stretch</b>: <code>True</code></li><li><b>wrap</b>: <code>True</code></li></ul></details></li><li><details><summary><b>chunk</b>:</summary><ul><li><b>flow</b>: <code>hor</code></li><li><b>level</b>: <code>3</code></li><li><b>stretch</b>: <code>True</code></li><li><b>wrap</b>: <code>True</code></li></ul></details></li><li><details><summary><b>classDecl</b>:</summary><ul><li><b>flow</b>: <code>hor</code></li><li><b>level</b>: <code>2</code></li><li><b>stretch</b>: <code>True</code></li><li><b>wrap</b>: <code>True</code></li></ul></details></li><li><details><summary><b>closer</b>:</summary><ul><li><b>flow</b>: <code>hor</code></li><li><b>level</b>: <code>2</code></li><li><b>stretch</b>: <code>True</code></li><li><b>wrap</b>: <code>True</code></li></ul></details></li><li><details><summary><b>correspAction</b>:</summary><ul><li><b>flow</b>: <code>hor</code></li><li><b>level</b>: <code>2</code></li><li><b>stretch</b>: <code>True</code></li><li><b>wrap</b>: <code>True</code></li></ul></details></li><li><details><summary><b>correspDesc</b>:</summary><ul><li><b>flow</b>: <code>hor</code></li><li><b>level</b>: <code>2</code></li><li><b>stretch</b>: <code>True</code></li><li><b>wrap</b>: <code>True</code></li></ul></details></li><li><details><summary><b>country</b>:</summary><ul><li><b>flow</b>: <code>hor</code></li><li><b>level</b>: <code>1</code></li><li><b>stretch</b>: <code>True</code></li><li><b>wrap</b>: <code>True</code></li></ul></details></li><li><details><summary><b>date</b>:</summary><ul><li><b>flow</b>: <code>hor</code></li><li><b>level</b>: <code>2</code></li><li><b>stretch</b>: <code>True</code></li><li><b>wrap</b>: <code>True</code></li></ul></details></li><li><details><summary><b>dateline</b>:</summary><ul><li><b>flow</b>: <code>hor</code></li><li><b>level</b>: <code>1</code></li><li><b>stretch</b>: <code>True</code></li><li><b>wrap</b>: <code>True</code></li></ul></details></li><li><details><summary><b>decoDesc</b>:</summary><ul><li><b>flow</b>: <code>hor</code></li><li><b>level</b>: <code>1</code></li><li><b>stretch</b>: <code>True</code></li><li><b>wrap</b>: <code>True</code></li></ul></details></li><li><details><summary><b>decoNote</b>:</summary><ul><li><b>flow</b>: <code>hor</code></li><li><b>level</b>: <code>1</code></li><li><b>stretch</b>: <code>True</code></li><li><b>wrap</b>: <code>True</code></li></ul></details></li><li><details><summary><b>del</b>:</summary><ul><li><b>flow</b>: <code>hor</code></li><li><b>level</b>: <code>1</code></li><li><b>stretch</b>: <code>True</code></li><li><b>wrap</b>: <code>True</code></li></ul></details></li><li><details><summary><b>desc</b>:</summary><ul><li><b>flow</b>: <code>hor</code></li><li><b>level</b>: <code>2</code></li><li><b>stretch</b>: <code>True</code></li><li><b>wrap</b>: <code>True</code></li></ul></details></li><li><details><summary><b>div</b>:</summary><ul><li><b>flow</b>: <code>hor</code></li><li><b>level</b>: <code>2</code></li><li><b>stretch</b>: <code>True</code></li><li><b>wrap</b>: <code>True</code></li></ul></details></li><li><details><summary><b>editor</b>:</summary><ul><li><b>flow</b>: <code>hor</code></li><li><b>level</b>: <code>1</code></li><li><b>stretch</b>: <code>True</code></li><li><b>wrap</b>: <code>True</code></li></ul></details></li><li><details><summary><b>encodingDesc</b>:</summary><ul><li><b>flow</b>: <code>hor</code></li><li><b>level</b>: <code>2</code></li><li><b>stretch</b>: <code>True</code></li><li><b>wrap</b>: <code>True</code></li></ul></details></li><li><details><summary><b>expan</b>:</summary><ul><li><b>flow</b>: <code>hor</code></li><li><b>level</b>: <code>1</code></li><li><b>stretch</b>: <code>True</code></li><li><b>wrap</b>: <code>True</code></li></ul></details></li><li><details><summary><b>facsimile</b>:</summary><ul><li><b>flow</b>: <code>hor</code></li><li><b>level</b>: <code>2</code></li><li><b>stretch</b>: <code>True</code></li><li><b>wrap</b>: <code>True</code></li></ul></details></li><li><details><summary><b>file</b>:</summary><ul><li><b>flow</b>: <code>hor</code></li><li><b>level</b>: <code>4</code></li><li><b>stretch</b>: <code>True</code></li><li><b>wrap</b>: <code>True</code></li></ul></details></li><li><details><summary><b>fileDesc</b>:</summary><ul><li><b>flow</b>: <code>hor</code></li><li><b>level</b>: <code>2</code></li><li><b>stretch</b>: <code>True</code></li><li><b>wrap</b>: <code>True</code></li></ul></details></li><li><details><summary><b>folder</b>:</summary><ul><li><b>flow</b>: <code>hor</code></li><li><b>level</b>: <code>4</code></li><li><b>stretch</b>: <code>True</code></li><li><b>wrap</b>: <code>True</code></li></ul></details></li><li><details><summary><b>graphic</b>:</summary><ul><li><b>flow</b>: <code>hor</code></li><li><b>level</b>: <code>1</code></li><li><b>stretch</b>: <code>True</code></li><li><b>wrap</b>: <code>True</code></li></ul></details></li><li><details><summary><b>head</b>:</summary><ul><li><b>flow</b>: <code>hor</code></li><li><b>level</b>: <code>2</code></li><li><b>stretch</b>: <code>True</code></li><li><b>wrap</b>: <code>True</code></li></ul></details></li><li><details><summary><b>hi</b>:</summary><ul><li><b>flow</b>: <code>hor</code></li><li><b>level</b>: <code>1</code></li><li><b>stretch</b>: <code>True</code></li><li><b>wrap</b>: <code>True</code></li></ul></details></li><li><details><summary><b>idno</b>:</summary><ul><li><b>flow</b>: <code>hor</code></li><li><b>level</b>: <code>1</code></li><li><b>stretch</b>: <code>True</code></li><li><b>wrap</b>: <code>True</code></li></ul></details></li><li><details><summary><b>institution</b>:</summary><ul><li><b>flow</b>: <code>hor</code></li><li><b>level</b>: <code>1</code></li><li><b>stretch</b>: <code>True</code></li><li><b>wrap</b>: <code>True</code></li></ul></details></li><li><details><summary><b>lb</b>:</summary><ul><li><b>flow</b>: <code>hor</code></li><li><b>level</b>: <code>1</code></li><li><b>stretch</b>: <code>True</code></li><li><b>wrap</b>: <code>True</code></li></ul></details></li><li><details><summary><b>letter</b>:</summary><ul><li><b>flow</b>: <code>hor</code></li><li><b>level</b>: <code>2</code></li><li><b>stretch</b>: <code>True</code></li><li><b>wrap</b>: <code>True</code></li></ul></details></li><li><details><summary><b>listAnnotation</b>:</summary><ul><li><b>flow</b>: <code>hor</code></li><li><b>level</b>: <code>2</code></li><li><b>stretch</b>: <code>True</code></li><li><b>wrap</b>: <code>True</code></li></ul></details></li><li><details><summary><b>listBibl</b>:</summary><ul><li><b>flow</b>: <code>hor</code></li><li><b>level</b>: <code>2</code></li><li><b>stretch</b>: <code>True</code></li><li><b>wrap</b>: <code>True</code></li></ul></details></li><li><details><summary><b>listObject</b>:</summary><ul><li><b>flow</b>: <code>hor</code></li><li><b>level</b>: <code>2</code></li><li><b>stretch</b>: <code>True</code></li><li><b>wrap</b>: <code>True</code></li></ul></details></li><li><details><summary><b>measure</b>:</summary><ul><li><b>flow</b>: <code>hor</code></li><li><b>level</b>: <code>1</code></li><li><b>stretch</b>: <code>True</code></li><li><b>wrap</b>: <code>True</code></li></ul></details></li><li><details><summary><b>msDesc</b>:</summary><ul><li><b>flow</b>: <code>hor</code></li><li><b>level</b>: <code>2</code></li><li><b>stretch</b>: <code>True</code></li><li><b>wrap</b>: <code>True</code></li></ul></details></li><li><details><summary><b>msIdentifier</b>:</summary><ul><li><b>flow</b>: <code>hor</code></li><li><b>level</b>: <code>2</code></li><li><b>stretch</b>: <code>True</code></li><li><b>wrap</b>: <code>True</code></li></ul></details></li><li><details><summary><b>name</b>:</summary><ul><li><b>flow</b>: <code>hor</code></li><li><b>level</b>: <code>1</code></li><li><b>stretch</b>: <code>True</code></li><li><b>wrap</b>: <code>True</code></li></ul></details></li><li><details><summary><b>note</b>:</summary><ul><li><b>flow</b>: <code>hor</code></li><li><b>level</b>: <code>2</code></li><li><b>stretch</b>: <code>True</code></li><li><b>wrap</b>: <code>True</code></li></ul></details></li><li><details><summary><b>objectDesc</b>:</summary><ul><li><b>flow</b>: <code>hor</code></li><li><b>level</b>: <code>1</code></li><li><b>stretch</b>: <code>True</code></li><li><b>wrap</b>: <code>True</code></li></ul></details></li><li><details><summary><b>opener</b>:</summary><ul><li><b>flow</b>: <code>hor</code></li><li><b>level</b>: <code>2</code></li><li><b>stretch</b>: <code>True</code></li><li><b>wrap</b>: <code>True</code></li></ul></details></li><li><details><summary><b>orig</b>:</summary><ul><li><b>flow</b>: <code>hor</code></li><li><b>level</b>: <code>1</code></li><li><b>stretch</b>: <code>True</code></li><li><b>wrap</b>: <code>True</code></li></ul></details></li><li><details><summary><b>p</b>:</summary><ul><li><b>flow</b>: <code>hor</code></li><li><b>level</b>: <code>2</code></li><li><b>stretch</b>: <code>True</code></li><li><b>wrap</b>: <code>True</code></li></ul></details></li><li><details><summary><b>page</b>:</summary><ul><li><b>flow</b>: <code>hor</code></li><li><b>level</b>: <code>2</code></li><li><b>stretch</b>: <code>True</code></li><li><b>wrap</b>: <code>True</code></li></ul></details></li><li><details><summary><b>physDesc</b>:</summary><ul><li><b>flow</b>: <code>hor</code></li><li><b>level</b>: <code>1</code></li><li><b>stretch</b>: <code>True</code></li><li><b>wrap</b>: <code>True</code></li></ul></details></li><li><details><summary><b>placeName</b>:</summary><ul><li><b>flow</b>: <code>hor</code></li><li><b>level</b>: <code>1</code></li><li><b>stretch</b>: <code>True</code></li><li><b>wrap</b>: <code>True</code></li></ul></details></li><li><details><summary><b>postmark</b>:</summary><ul><li><b>flow</b>: <code>hor</code></li><li><b>level</b>: <code>1</code></li><li><b>stretch</b>: <code>True</code></li><li><b>wrap</b>: <code>True</code></li></ul></details></li><li><details><summary><b>postscript</b>:</summary><ul><li><b>flow</b>: <code>hor</code></li><li><b>level</b>: <code>2</code></li><li><b>stretch</b>: <code>True</code></li><li><b>wrap</b>: <code>True</code></li></ul></details></li><li><details><summary><b>profileDesc</b>:</summary><ul><li><b>flow</b>: <code>hor</code></li><li><b>level</b>: <code>2</code></li><li><b>stretch</b>: <code>True</code></li><li><b>wrap</b>: <code>True</code></li></ul></details></li><li><details><summary><b>ptr</b>:</summary><ul><li><b>flow</b>: <code>hor</code></li><li><b>level</b>: <code>1</code></li><li><b>stretch</b>: <code>True</code></li><li><b>wrap</b>: <code>True</code></li></ul></details></li><li><details><summary><b>publicationStmt</b>:</summary><ul><li><b>flow</b>: <code>hor</code></li><li><b>level</b>: <code>1</code></li><li><b>stretch</b>: <code>True</code></li><li><b>wrap</b>: <code>True</code></li></ul></details></li><li><details><summary><b>ref</b>:</summary><ul><li><b>flow</b>: <code>hor</code></li><li><b>level</b>: <code>1</code></li><li><b>stretch</b>: <code>True</code></li><li><b>wrap</b>: <code>True</code></li></ul></details></li><li><details><summary><b>reg</b>:</summary><ul><li><b>flow</b>: <code>hor</code></li><li><b>level</b>: <code>1</code></li><li><b>stretch</b>: <code>True</code></li><li><b>wrap</b>: <code>True</code></li></ul></details></li><li><details><summary><b>relation</b>:</summary><ul><li><b>flow</b>: <code>hor</code></li><li><b>level</b>: <code>1</code></li><li><b>stretch</b>: <code>True</code></li><li><b>wrap</b>: <code>True</code></li></ul></details></li><li><details><summary><b>revisionDesc</b>:</summary><ul><li><b>flow</b>: <code>hor</code></li><li><b>level</b>: <code>2</code></li><li><b>stretch</b>: <code>True</code></li><li><b>wrap</b>: <code>True</code></li></ul></details></li><li><details><summary><b>rs</b>:</summary><ul><li><b>flow</b>: <code>hor</code></li><li><b>level</b>: <code>1</code></li><li><b>stretch</b>: <code>True</code></li><li><b>wrap</b>: <code>True</code></li></ul></details></li><li><details><summary><b>salute</b>:</summary><ul><li><b>flow</b>: <code>hor</code></li><li><b>level</b>: <code>2</code></li><li><b>stretch</b>: <code>True</code></li><li><b>wrap</b>: <code>True</code></li></ul></details></li><li><details><summary><b>sentence</b>:</summary><ul><li><b>flow</b>: <code>hor</code></li><li><b>level</b>: <code>2</code></li><li><b>stretch</b>: <code>True</code></li><li><b>wrap</b>: <code>True</code></li></ul></details></li><li><details><summary><b>settlement</b>:</summary><ul><li><b>flow</b>: <code>hor</code></li><li><b>level</b>: <code>1</code></li><li><b>stretch</b>: <code>True</code></li><li><b>wrap</b>: <code>True</code></li></ul></details></li><li><details><summary><b>signed</b>:</summary><ul><li><b>flow</b>: <code>hor</code></li><li><b>level</b>: <code>1</code></li><li><b>stretch</b>: <code>True</code></li><li><b>wrap</b>: <code>True</code></li></ul></details></li><li><details><summary><b>sourceDesc</b>:</summary><ul><li><b>flow</b>: <code>hor</code></li><li><b>level</b>: <code>2</code></li><li><b>stretch</b>: <code>True</code></li><li><b>wrap</b>: <code>True</code></li></ul></details></li><li><details><summary><b>space</b>:</summary><ul><li><b>flow</b>: <code>hor</code></li><li><b>level</b>: <code>1</code></li><li><b>stretch</b>: <code>True</code></li><li><b>wrap</b>: <code>True</code></li></ul></details></li><li><details><summary><b>sponsor</b>:</summary><ul><li><b>flow</b>: <code>hor</code></li><li><b>level</b>: <code>1</code></li><li><b>stretch</b>: <code>True</code></li><li><b>wrap</b>: <code>True</code></li></ul></details></li><li><details><summary><b>standOff</b>:</summary><ul><li><b>flow</b>: <code>hor</code></li><li><b>level</b>: <code>2</code></li><li><b>stretch</b>: <code>True</code></li><li><b>wrap</b>: <code>True</code></li></ul></details></li><li><details><summary><b>surface</b>:</summary><ul><li><b>flow</b>: <code>hor</code></li><li><b>level</b>: <code>1</code></li><li><b>stretch</b>: <code>True</code></li><li><b>wrap</b>: <code>True</code></li></ul></details></li><li><details><summary><b>t</b>:</summary><ul><li><b>flow</b>: <code>ver</code></li><li><b>level</b>: <code>0</code></li><li><b>stretch</b>: <code>0</code></li><li><b>wrap</b>: <code>0</code></li></ul></details></li><li><details><summary><b>taxonomy</b>:</summary><ul><li><b>flow</b>: <code>hor</code></li><li><b>level</b>: <code>1</code></li><li><b>stretch</b>: <code>True</code></li><li><b>wrap</b>: <code>True</code></li></ul></details></li><li><details><summary><b>teiHeader</b>:</summary><ul><li><b>flow</b>: <code>hor</code></li><li><b>level</b>: <code>2</code></li><li><b>stretch</b>: <code>True</code></li><li><b>wrap</b>: <code>True</code></li></ul></details></li><li><details><summary><b>text</b>:</summary><ul><li><b>flow</b>: <code>hor</code></li><li><b>level</b>: <code>2</code></li><li><b>stretch</b>: <code>True</code></li><li><b>wrap</b>: <code>True</code></li></ul></details></li><li><details><summary><b>title</b>:</summary><ul><li><b>flow</b>: <code>hor</code></li><li><b>level</b>: <code>2</code></li><li><b>stretch</b>: <code>True</code></li><li><b>wrap</b>: <code>True</code></li></ul></details></li><li><details><summary><b>titleStmt</b>:</summary><ul><li><b>flow</b>: <code>hor</code></li><li><b>level</b>: <code>2</code></li><li><b>stretch</b>: <code>True</code></li><li><b>wrap</b>: <code>True</code></li></ul></details></li><li><details><summary><b>token</b>:</summary><ul><li><b>flow</b>: <code>hor</code></li><li><b>level</b>: <code>1</code></li><li><b>stretch</b>: <code>True</code></li><li><b>wrap</b>: <code>True</code></li></ul></details></li><li><details><summary><b>unclear</b>:</summary><ul><li><b>flow</b>: <code>hor</code></li><li><b>level</b>: <code>1</code></li><li><b>stretch</b>: <code>True</code></li><li><b>wrap</b>: <code>True</code></li></ul></details></li><li><details><summary><b>zone</b>:</summary><ul><li><b>flow</b>: <code>hor</code></li><li><b>level</b>: <code>1</code></li><li><b>stretch</b>: <code>True</code></li><li><b>wrap</b>: <code>True</code></li></ul></details></li></ul></details></li><li><b>lexMap</b>: <code>{}</code></li><li><b>lexTypes</b>: <code>set()</code></li><li><b>lineNumberFeature</b>: <code>{}</code></li><li><b>local</b>: <code>clone</code></li><li><b>localDir</b>: <code>/Users/me/github/annotation/mondriaan/_temp</code></li><li><b>moduleSpecs</b>: <code>[]</code></li><li><b>noDescendTypes</b>: <code>set()</code></li><li><details><summary><b>noneValues</b>:</summary><ul><li><code>none</code></li><li><code>unknown</code></li><li><i>no value</i></li><li><code>NA</code></li></ul></details></li><li><b>org</b>: <code>annotation</code></li><li><b>pages</b>: <i>no value</i></li><li><details><summary><b>provenanceSpec</b>:</summary><ul><li><b>branch</b>: <code>master</code></li><li><b>corpus</b>: <code>annotation - mondriaan/tf</code></li><li><b>doi</b>: <code>10.5281/zenodo.notyet</code></li><li><b>graphicsRelative</b>: <code>illustrations</code></li><li><b>moduleSpecs</b>: <code>[]</code></li><li><b>org</b>: <code>annotation</code></li><li><b>pages</b>: <i>no value</i></li><li><b>relative</b>: <code>/tf</code></li><li><b>repo</b>: <code>mondriaan</code></li><li><b>version</b>: <code>0.8.13</code></li><li><b>webBase</b>: <code>https://public.annotation.org/mondriaan</code></li><li><b>webFeature</b>: <i>no value</i></li><li><b>webHint</b>: <code>Show this on the website</code></li><li><b>webLang</b>: <code>en</code></li><li><b>webLexId</b>: <i>no value</i></li><li><b>webOffset</b>: <i>no value</i></li><li><details><summary><b>webUrl</b>:</summary><code>https://public.annotation.org/mondriaan/&lt;1>/&lt;2>/&lt;3>&amp;version=0.8.13</code></details></li><li><details><summary><b>webUrlLex</b>:</summary><code>https://public.annotation.org/mondriaan/word?version=0.8.13&amp;id=&lt;lid></code></details></li><li><b>webUrlZeros</b>: <i>no value</i></li><li><b>zip</b>: <i>no value</i></li></ul></details></li><li><b>relative</b>: <code>/tf</code></li><li><b>release</b>: <i>no value</i></li><li><b>repo</b>: <code>mondriaan</code></li><li><b>sectionSep1</b>: <code>@</code></li><li><b>sectionSep2</b>: <code>:</code></li><li><b>showVerseInTuple</b>: <code>0</code></li><li><b>styles</b>: <code>{}</code></li><li><details><summary><b>templates</b>:</summary><ul><li><details><summary><b>abbr</b>:</summary><ul><li><code>''</code></li><li><code>()</code></li></ul></details></li><li><details><summary><b>accMat</b>:</summary><ul><li><code>''</code></li><li><code>()</code></li></ul></details></li><li><details><summary><b>add</b>:</summary><ul><li><code>''</code></li><li><code>()</code></li></ul></details></li><li><details><summary><b>addrLine</b>:</summary><ul><li><code>''</code></li><li><code>()</code></li></ul></details></li><li><details><summary><b>address</b>:</summary><ul><li><code>''</code></li><li><code>()</code></li></ul></details></li><li><details><summary><b>altIdentifier</b>:</summary><ul><li><code>''</code></li><li><code>()</code></li></ul></details></li><li><details><summary><b>artwork</b>:</summary><ul><li><code>''</code></li><li><code>()</code></li></ul></details></li><li><details><summary><b>artworklist</b>:</summary><ul><li><code>''</code></li><li><code>()</code></li></ul></details></li><li><details><summary><b>author</b>:</summary><ul><li><code>''</code></li><li><code>()</code></li></ul></details></li><li><details><summary><b>bibl</b>:</summary><ul><li><code>''</code></li><li><code>()</code></li></ul></details></li><li><details><summary><b>bibliolist</b>:</summary><ul><li><code>''</code></li><li><code>()</code></li></ul></details></li><li><details><summary><b>body</b>:</summary><ul><li><code>''</code></li><li><code>()</code></li></ul></details></li><li><details><summary><b>catRef</b>:</summary><ul><li><code>''</code></li><li><code>()</code></li></ul></details></li><li><details><summary><b>change</b>:</summary><ul><li><code>''</code></li><li><code>()</code></li></ul></details></li><li><details><summary><b>choice</b>:</summary><ul><li><code>''</code></li><li><code>()</code></li></ul></details></li><li><details><summary><b>chunk</b>:</summary><ul><li><code>''</code></li><li><code>()</code></li></ul></details></li><li><details><summary><b>classDecl</b>:</summary><ul><li><code>''</code></li><li><code>()</code></li></ul></details></li><li><details><summary><b>closer</b>:</summary><ul><li><code>''</code></li><li><code>()</code></li></ul></details></li><li><details><summary><b>correspAction</b>:</summary><ul><li><code>''</code></li><li><code>()</code></li></ul></details></li><li><details><summary><b>correspDesc</b>:</summary><ul><li><code>''</code></li><li><code>()</code></li></ul></details></li><li><details><summary><b>country</b>:</summary><ul><li><code>''</code></li><li><code>()</code></li></ul></details></li><li><details><summary><b>date</b>:</summary><ul><li><code>''</code></li><li><code>()</code></li></ul></details></li><li><details><summary><b>dateline</b>:</summary><ul><li><code>''</code></li><li><code>()</code></li></ul></details></li><li><details><summary><b>decoDesc</b>:</summary><ul><li><code>''</code></li><li><code>()</code></li></ul></details></li><li><details><summary><b>decoNote</b>:</summary><ul><li><code>''</code></li><li><code>()</code></li></ul></details></li><li><details><summary><b>del</b>:</summary><ul><li><code>''</code></li><li><code>()</code></li></ul></details></li><li><details><summary><b>desc</b>:</summary><ul><li><code>''</code></li><li><code>()</code></li></ul></details></li><li><details><summary><b>div</b>:</summary><ul><li><code>''</code></li><li><code>()</code></li></ul></details></li><li><details><summary><b>editor</b>:</summary><ul><li><code>''</code></li><li><code>()</code></li></ul></details></li><li><details><summary><b>encodingDesc</b>:</summary><ul><li><code>''</code></li><li><code>()</code></li></ul></details></li><li><details><summary><b>expan</b>:</summary><ul><li><code>''</code></li><li><code>()</code></li></ul></details></li><li><details><summary><b>facsimile</b>:</summary><ul><li><code>''</code></li><li><code>()</code></li></ul></details></li><li><details><summary><b>file</b>:</summary><ul><li><code>True</code></li><li><code>()</code></li></ul></details></li><li><details><summary><b>fileDesc</b>:</summary><ul><li><code>''</code></li><li><code>()</code></li></ul></details></li><li><details><summary><b>folder</b>:</summary><ul><li><code>True</code></li><li><code>()</code></li></ul></details></li><li><details><summary><b>graphic</b>:</summary><ul><li><code>''</code></li><li><code>()</code></li></ul></details></li><li><details><summary><b>head</b>:</summary><ul><li><code>''</code></li><li><code>()</code></li></ul></details></li><li><details><summary><b>hi</b>:</summary><ul><li><code>''</code></li><li><code>()</code></li></ul></details></li><li><details><summary><b>idno</b>:</summary><ul><li><code>''</code></li><li><code>()</code></li></ul></details></li><li><details><summary><b>institution</b>:</summary><ul><li><code>''</code></li><li><code>()</code></li></ul></details></li><li><details><summary><b>lb</b>:</summary><ul><li><code>''</code></li><li><code>()</code></li></ul></details></li><li><details><summary><b>letter</b>:</summary><ul><li><code>''</code></li><li><code>()</code></li></ul></details></li><li><details><summary><b>listAnnotation</b>:</summary><ul><li><code>''</code></li><li><code>()</code></li></ul></details></li><li><details><summary><b>listBibl</b>:</summary><ul><li><code>''</code></li><li><code>()</code></li></ul></details></li><li><details><summary><b>listObject</b>:</summary><ul><li><code>''</code></li><li><code>()</code></li></ul></details></li><li><details><summary><b>measure</b>:</summary><ul><li><code>''</code></li><li><code>()</code></li></ul></details></li><li><details><summary><b>msDesc</b>:</summary><ul><li><code>''</code></li><li><code>()</code></li></ul></details></li><li><details><summary><b>msIdentifier</b>:</summary><ul><li><code>''</code></li><li><code>()</code></li></ul></details></li><li><details><summary><b>name</b>:</summary><ul><li><code>''</code></li><li><code>()</code></li></ul></details></li><li><details><summary><b>note</b>:</summary><ul><li><code>''</code></li><li><code>()</code></li></ul></details></li><li><details><summary><b>objectDesc</b>:</summary><ul><li><code>''</code></li><li><code>()</code></li></ul></details></li><li><details><summary><b>opener</b>:</summary><ul><li><code>''</code></li><li><code>()</code></li></ul></details></li><li><details><summary><b>orig</b>:</summary><ul><li><code>''</code></li><li><code>()</code></li></ul></details></li><li><details><summary><b>p</b>:</summary><ul><li><code>''</code></li><li><code>()</code></li></ul></details></li><li><details><summary><b>page</b>:</summary><ul><li><code>''</code></li><li><code>()</code></li></ul></details></li><li><details><summary><b>physDesc</b>:</summary><ul><li><code>''</code></li><li><code>()</code></li></ul></details></li><li><details><summary><b>placeName</b>:</summary><ul><li><code>''</code></li><li><code>()</code></li></ul></details></li><li><details><summary><b>postmark</b>:</summary><ul><li><code>''</code></li><li><code>()</code></li></ul></details></li><li><details><summary><b>postscript</b>:</summary><ul><li><code>''</code></li><li><code>()</code></li></ul></details></li><li><details><summary><b>profileDesc</b>:</summary><ul><li><code>''</code></li><li><code>()</code></li></ul></details></li><li><details><summary><b>ptr</b>:</summary><ul><li><code>''</code></li><li><code>()</code></li></ul></details></li><li><details><summary><b>publicationStmt</b>:</summary><ul><li><code>''</code></li><li><code>()</code></li></ul></details></li><li><details><summary><b>ref</b>:</summary><ul><li><code>''</code></li><li><code>()</code></li></ul></details></li><li><details><summary><b>reg</b>:</summary><ul><li><code>''</code></li><li><code>()</code></li></ul></details></li><li><details><summary><b>relation</b>:</summary><ul><li><code>''</code></li><li><code>()</code></li></ul></details></li><li><details><summary><b>revisionDesc</b>:</summary><ul><li><code>''</code></li><li><code>()</code></li></ul></details></li><li><details><summary><b>rs</b>:</summary><ul><li><code>''</code></li><li><code>()</code></li></ul></details></li><li><details><summary><b>salute</b>:</summary><ul><li><code>''</code></li><li><code>()</code></li></ul></details></li><li><details><summary><b>sentence</b>:</summary><ul><li><code>''</code></li><li><code>()</code></li></ul></details></li><li><details><summary><b>settlement</b>:</summary><ul><li><code>''</code></li><li><code>()</code></li></ul></details></li><li><details><summary><b>signed</b>:</summary><ul><li><code>''</code></li><li><code>()</code></li></ul></details></li><li><details><summary><b>sourceDesc</b>:</summary><ul><li><code>''</code></li><li><code>()</code></li></ul></details></li><li><details><summary><b>space</b>:</summary><ul><li><code>''</code></li><li><code>()</code></li></ul></details></li><li><details><summary><b>sponsor</b>:</summary><ul><li><code>''</code></li><li><code>()</code></li></ul></details></li><li><details><summary><b>standOff</b>:</summary><ul><li><code>''</code></li><li><code>()</code></li></ul></details></li><li><details><summary><b>surface</b>:</summary><ul><li><code>''</code></li><li><code>()</code></li></ul></details></li><li><details><summary><b>t</b>:</summary><ul><li><code>True</code></li><li><code>()</code></li></ul></details></li><li><details><summary><b>taxonomy</b>:</summary><ul><li><code>''</code></li><li><code>()</code></li></ul></details></li><li><details><summary><b>teiHeader</b>:</summary><ul><li><code>''</code></li><li><code>()</code></li></ul></details></li><li><details><summary><b>text</b>:</summary><ul><li><code>''</code></li><li><code>()</code></li></ul></details></li><li><details><summary><b>title</b>:</summary><ul><li><code>''</code></li><li><code>()</code></li></ul></details></li><li><details><summary><b>titleStmt</b>:</summary><ul><li><code>''</code></li><li><code>()</code></li></ul></details></li><li><details><summary><b>token</b>:</summary><ul><li><code>''</code></li><li><code>()</code></li></ul></details></li><li><details><summary><b>unclear</b>:</summary><ul><li><code>''</code></li><li><code>()</code></li></ul></details></li><li><details><summary><b>zone</b>:</summary><ul><li><code>''</code></li><li><code>()</code></li></ul></details></li></ul></details></li><li><b>textFormat</b>: <code>layout-orig-full</code></li><li><b>tfDoc</b>: <code>https://annotation.github.io/text-fabric/tf</code></li><li><details><summary><b>typeDisplay</b>:</summary><li><details open>\n",
       "                <summary><b>rs</b>:</summary>\n",
       "                <ul><li><b>features</b>: <code>type key</code></li><li><b>graphics</b>: <code>True</code></li></ul>\n",
       "                </details></li></details></li><li><b>urlGh</b>: <code>&lt;github></code></li><li><b>urlNb</b>: <code>https://nbviewer.jupyter.org/github</code></li><li><b>verseTypes</b>: {<code>chunk</code>}</li><li><b>version</b>: <code>0.8.13</code></li><li><b>webBase</b>: <code>https://public.annotation.org/mondriaan</code></li><li><b>webFeature</b>: <i>no value</i></li><li><b>webHint</b>: <code>Show this on the website</code></li><li><b>webLang</b>: <code>en</code></li><li><b>webLexId</b>: <i>no value</i></li><li><b>webOffset</b>: <i>no value</i></li><li><details><summary><b>webUrl</b>:</summary><code>https://public.annotation.org/mondriaan/&lt;1>/&lt;2>/&lt;3>&amp;version=0.8.13</code></details></li><li><details><summary><b>webUrlLex</b>:</summary><code>https://public.annotation.org/mondriaan/word?version=0.8.13&amp;id=&lt;lid></code></details></li><li><b>webUrlZeros</b>: <i>no value</i></li><li><b>writing</b>: <code>''</code></li><li><details><summary><b>zip</b>:</summary><ul><li><code>mondriaan</code></li><li><details><summary>:</summary><ul><li><code>annotation</code></li><li><code>mondriaan</code></li><li><code>illustrations</code></li></ul></details></li></ul></details></li></ol></details>"
      ],
      "text/plain": [
       "<IPython.core.display.HTML object>"
      ]
     },
     "metadata": {},
     "output_type": "display_data"
    }
   ],
   "source": [
    "A.showContext()"
   ]
  },
  {
   "cell_type": "markdown",
   "id": "1e5ca594-2b0f-496e-b31d-08eb146a1ea2",
   "metadata": {},
   "source": [
    "# Link attributes"
   ]
  },
  {
   "cell_type": "code",
   "execution_count": 34,
   "id": "0ae7ed38-e9cf-4b09-b07f-8b30566626e6",
   "metadata": {
    "tags": []
   },
   "outputs": [
    {
     "data": {
      "text/plain": [
       "['link_ref', 'link_target']"
      ]
     },
     "execution_count": 34,
     "metadata": {},
     "output_type": "execute_result"
    }
   ],
   "source": [
    "linkFeatures = [e for e in Eall() if e.startswith(\"link_\")]\n",
    "linkFeatures"
   ]
  },
  {
   "cell_type": "code",
   "execution_count": 37,
   "id": "0fed3694-1ea6-4617-8483-26bf806f4c55",
   "metadata": {
    "tags": []
   },
   "outputs": [],
   "source": [
    "queries = {att: f\".\\n-{att}> .\\n\" for att in linkFeatures}"
   ]
  },
  {
   "cell_type": "code",
   "execution_count": 38,
   "id": "08c4ae3e-48c9-4a17-887a-9dae51c3b3b8",
   "metadata": {
    "tags": []
   },
   "outputs": [
    {
     "name": "stdout",
     "output_type": "stream",
     "text": [
      "  0.02s 14 results\n",
      "  0.02s 142 results\n"
     ]
    }
   ],
   "source": [
    "tpf = collections.Counter()\n",
    "tpt = collections.Counter()\n",
    "\n",
    "for (att, query) in queries.items():\n",
    "    results = A.search(query)\n",
    "    for r in results:\n",
    "        tpf[F.otype.v(r[0])] += 1\n",
    "        tpt[F.otype.v(r[1])] += 1"
   ]
  },
  {
   "cell_type": "code",
   "execution_count": 39,
   "id": "868bc14d-ec3e-4f7b-a128-6e90dc004e47",
   "metadata": {
    "tags": []
   },
   "outputs": [
    {
     "data": {
      "text/plain": [
       "Counter({'rs': 14, 'ptr': 77, 'ref': 65})"
      ]
     },
     "execution_count": 39,
     "metadata": {},
     "output_type": "execute_result"
    }
   ],
   "source": [
    "tpf"
   ]
  },
  {
   "cell_type": "code",
   "execution_count": 40,
   "id": "6e4deeee-f873-4797-894c-ffebdc43372f",
   "metadata": {
    "tags": []
   },
   "outputs": [
    {
     "data": {
      "text/plain": [
       "Counter({'artwork': 14,\n",
       "         'note': 88,\n",
       "         'bibl': 24,\n",
       "         'p': 21,\n",
       "         'file': 6,\n",
       "         'closer': 1,\n",
       "         'opener': 2})"
      ]
     },
     "execution_count": 40,
     "metadata": {},
     "output_type": "execute_result"
    }
   ],
   "source": [
    "tpt"
   ]
  },
  {
   "cell_type": "code",
   "execution_count": 41,
   "id": "9d3bb768-9f4a-4202-88ab-e6de7ce78c73",
   "metadata": {
    "tags": []
   },
   "outputs": [
    {
     "name": "stdout",
     "output_type": "stream",
     "text": [
      "  0.03s 4 results\n"
     ]
    }
   ],
   "source": [
    "results = A.search(\"\"\"\n",
    ". target=#plaatsBuhlig\n",
    "-link_target> . id*\n",
    "\"\"\")"
   ]
  },
  {
   "cell_type": "code",
   "execution_count": 42,
   "id": "d49d315e-5808-4510-975f-28583582e985",
   "metadata": {
    "tags": []
   },
   "outputs": [
    {
     "data": {
      "text/html": [
       "<p><b>result</b> <i>1</i>"
      ],
      "text/plain": [
       "<IPython.core.display.HTML object>"
      ]
     },
     "metadata": {},
     "output_type": "display_data"
    },
    {
     "data": {
      "text/html": [
       "<div class=\"tfsechead \"><span class=\"ltr\"><a target=\"_blank\" href=\"https://public.annotation.org/mondriaan/proeftuin/19090216y_IONG_1303/5&amp;version=0.8.13\" title=\"Show this on the website\" sec=\"proeftuin@19090216y_IONG_1303:5\">proeftuin@19090216y_IONG_1303:5</a></span></div><div class=\" children\"><div class=\"contnr c3    \" ><div class=\"lbl c3  \" ><span class=\"nd\">chunk </span></div><div class=\"children hor wrap \"><div class=\"contnr c2    \" ><div class=\"lbl c2  \" ><span class=\"nd\">opener </span></div><div class=\"features\"><span class=\"id xft\" ><span class=\"f\">id=</span>p.nl.1</span></div><div class=\"children hor wrap \"><div class=\"contnr c2    \" ><div class=\"lbl c2  \" ><span class=\"nd\">salute </span></div><div class=\"children hor wrap \"><div class=\"contnr c0 trm   \" ><div class=\"lbl c0 trm \" ><span class=\"txtu\">Beste </span></div></div><div class=\"contnr c0 trm   \" ><div class=\"lbl c0 trm \" ><span class=\"txtu\">Zus</span></div></div><div class=\"contnr c0 trm   \" ><div class=\"lbl c0 trm \" ><span class=\"txtu\">,</span></div></div></div></div><div class=\"contnr c0 trm   \" ><div class=\"lbl c0 trm \" ><span class=\"txtu\"><br></span></div></div></div></div><div class=\"contnr c1    \" ><div class=\"lbl c1  \" ><span class=\"nd\">ptr </span></div><div class=\"features\"><span class=\"link_target xft\" ><span class=\"e\" edge=\"link_target\" nd=\"19349\">link_target•</span>\n",
       "<span\n",
       "    ef=\"link_target\"\n",
       "    nd=\"19349\"\n",
       "    md=\"18991\"\n",
       "    arrow=\"right\"\n",
       "    class=\"etf\" \n",
       "><span class=\"etfx\">↦</span></span>\n",
       "</span><span class=\"target xft\" ><span class=\"f\">target=</span>#Zus</span></div><div class=\"children hor wrap \"><div class=\"contnr c0 trm   \" ><div class=\"lbl c0 trm \" ><span class=\"txtu\">​</span></div></div></div></div><div class=\"contnr c2    \" ><div class=\"lbl c2  \" ><span class=\"nd\">p </span></div><div class=\"features\"><span class=\"id xft\" ><span class=\"f\">id=</span>p.nl.2</span></div><div class=\"children hor wrap \"><div class=\"contnr c0 trm   \" ><div class=\"lbl c0 trm \" ><span class=\"txtu\">kom </span></div></div><div class=\"contnr c0 trm   \" ><div class=\"lbl c0 trm \" ><span class=\"txtu\">je </span></div></div><div class=\"contnr c0 trm   \" ><div class=\"lbl c0 trm \" ><span class=\"txtu\">morgenavond </span></div></div><div class=\"contnr c0 trm   \" ><div class=\"lbl c0 trm \" ><span class=\"txtu\">(</span></div></div><div class=\"contnr c0 trm   \" ><div class=\"lbl c0 trm \" ><span class=\"txtu\">Woensdag</span></div></div><div class=\"contnr c0 trm   \" ><div class=\"lbl c0 trm \" ><span class=\"txtu\">) </span></div></div><div class=\"contnr c0 trm   \" ><div class=\"lbl c0 trm \" ><span class=\"txtu\">om </span></div></div><div class=\"contnr c0 trm   \" ><div class=\"lbl c0 trm \" ><span class=\"txtu\">kwart </span></div></div><div class=\"contnr c0 trm   \" ><div class=\"lbl c0 trm \" ><span class=\"txtu\">voor </span></div></div><div class=\"contnr c0 trm   \" ><div class=\"lbl c0 trm \" ><span class=\"txtu\">acht </span></div></div><div class=\"contnr c0 trm   \" ><div class=\"lbl c0 trm \" ><span class=\"txtu\">ingang </span></div></div><div class=\"contnr c0 trm   \" ><div class=\"lbl c0 trm \" ><span class=\"txtu\">kleine </span></div></div><div class=\"contnr c0 trm   \" ><div class=\"lbl c0 trm \" ><span class=\"txtu\">zaal </span></div></div><div class=\"contnr c0 trm   \" ><div class=\"lbl c0 trm \" ><span class=\"txtu\">Concertgebouw</span></div></div><div class=\"contnr c1    \" ><div class=\"lbl c1  \" ><span class=\"nd\">choice </span></div><div class=\"children hor wrap \"><div class=\"contnr c1    \" ><div class=\"lbl c1  \" ><span class=\"nd\">orig </span></div><div class=\"children hor wrap \"><div class=\"contnr c0 trm   \" ><div class=\"lbl c0 trm \" ><span class=\"txtu\">​</span></div></div></div></div><div class=\"contnr c1    \" ><div class=\"lbl c1  \" ><span class=\"nd\">reg </span></div><div class=\"children hor wrap \"><div class=\"contnr c0 trm   \" ><div class=\"lbl c0 trm \" ><span class=\"txtu\">, </span></div></div></div></div></div></div><div class=\"contnr c0 trm   \" ><div class=\"lbl c0 trm \" ><span class=\"txtu\">dan </span></div></div><div class=\"contnr c0 trm   \" ><div class=\"lbl c0 trm \" ><span class=\"txtu\">heb </span></div></div><div class=\"contnr c0 trm   \" ><div class=\"lbl c0 trm \" ><span class=\"txtu\">ik </span></div></div><div class=\"contnr c0 trm   \" ><div class=\"lbl c0 trm \" ><span class=\"txtu\">een </span></div></div><div class=\"contnr c0 trm   \" ><div class=\"lbl c0 trm \" ><span class=\"txtu\">plaats </span></div></div><div class=\"contnr c0 trm   \" ><div class=\"lbl c0 trm \" ><span class=\"txtu\">voor </span></div></div><div class=\"contnr c0 trm   \" ><div class=\"lbl c0 trm \" ><span class=\"txtu\">v </span></div></div><div class=\"contnr c1    \" ><div class=\"lbl c1  \" ><span class=\"nd\">choice </span></div><div class=\"children hor wrap \"><div class=\"contnr c1    \" ><div class=\"lbl c1  \" ><span class=\"nd\">orig </span></div><div class=\"children hor wrap \"><div class=\"contnr c0 trm   \" ><div class=\"lbl c0 trm \" ><span class=\"txtu\">​</span></div></div></div></div><div class=\"contnr c1    \" ><div class=\"lbl c1  \" ><span class=\"nd\">reg </span></div><div class=\"children hor wrap \"><div class=\"contnr c0 trm   \" ><div class=\"lbl c0 trm \" ><span class=\"txtu\">. </span></div></div></div></div></div></div><div class=\"contnr c1    \" ><div class=\"lbl c1  \" ><span class=\"nd\">rs </span></div><div class=\"children hor wrap \"><div class=\"contnr c0 trm   \" ><div class=\"lbl c0 trm \" ><span class=\"txtu\">Bu</span></div></div><div class=\"contnr c1    \" ><div class=\"lbl c1  \" ><span class=\"nd\">del </span></div><div class=\"children hor wrap \"><div class=\"contnr c0 trm   \" ><div class=\"lbl c0 trm \" ><span class=\"txtu\">l</span></div></div></div></div><div class=\"contnr c1    \" ><div class=\"lbl c1  \" ><span class=\"nd\">add </span></div><div class=\"children hor wrap \"><div class=\"contnr c0 trm   \" ><div class=\"lbl c0 trm \" ><span class=\"txtu\">h</span></div></div></div></div><div class=\"contnr c0 trm   \" ><div class=\"lbl c0 trm \" ><span class=\"txtu\">lig </span></div></div></div></div><div class=\"contnr c0 trm   \" ><div class=\"lbl c0 trm \" ><span class=\"txtu\">voor </span></div></div><div class=\"contnr c0 trm   \" ><div class=\"lbl c0 trm \" ><span class=\"txtu\">je</span></div></div><div class=\"contnr c0 trm   \" ><div class=\"lbl c0 trm \" ><span class=\"txtu\">.</span></div></div><div class=\"contnr c1    hl\"  style=\"background-color: cyan;\" ><div class=\"lbl c1  hl\"  style=\"background-color: cyan;\" ><span class=\"nd\">ptr </span></div><div class=\"features\"><span class=\"link_target xft\" ><span class=\"e\" edge=\"link_target\" nd=\"19350\">link_target•</span>\n",
       "<span\n",
       "    ef=\"link_target\"\n",
       "    nd=\"19350\"\n",
       "    md=\"18992\"\n",
       "    arrow=\"right\"\n",
       "    class=\"etf\" \n",
       "><span class=\"etfx\">↦</span></span>\n",
       "</span><span class=\"target xft\" ><span class=\"f\">target=</span>#plaatsBuhlig</span></div><div class=\"children hor wrap \"><div class=\"contnr c0 trm   \" ><div class=\"lbl c0 trm \" ><span class=\"txtu\">​ </span></div></div></div></div><div class=\"contnr c0 trm   \" ><div class=\"lbl c0 trm \" ><span class=\"txtu\">En </span></div></div><div class=\"contnr c0 trm   \" ><div class=\"lbl c0 trm \" ><span class=\"txtu\">dan </span></div></div><div class=\"contnr c0 trm   \" ><div class=\"lbl c0 trm \" ><span class=\"txtu\">kunnen </span></div></div><div class=\"contnr c0 trm   \" ><div class=\"lbl c0 trm \" ><span class=\"txtu\">we </span></div></div><div class=\"contnr c0 trm   \" ><div class=\"lbl c0 trm \" ><span class=\"txtu\">een </span></div></div><div class=\"contnr c0 trm   \" ><div class=\"lbl c0 trm \" ><span class=\"txtu\">andere </span></div></div><div class=\"contnr c0 trm   \" ><div class=\"lbl c0 trm \" ><span class=\"txtu\">dan </span></div></div><div class=\"contnr c0 trm   \" ><div class=\"lbl c0 trm \" ><span class=\"txtu\">Donderdagmiddag </span></div></div><div class=\"contnr c0 trm   \" ><div class=\"lbl c0 trm \" ><span class=\"txtu\">afspreken </span></div></div><div class=\"contnr c0 trm   \" ><div class=\"lbl c0 trm \" ><span class=\"txtu\">want </span></div></div><div class=\"contnr c0 trm   \" ><div class=\"lbl c0 trm \" ><span class=\"txtu\">dan </span></div></div><div class=\"contnr c0 trm   \" ><div class=\"lbl c0 trm \" ><span class=\"txtu\">kan </span></div></div><div class=\"contnr c0 trm   \" ><div class=\"lbl c0 trm \" ><span class=\"txtu\">ik </span></div></div><div class=\"contnr c0 trm   \" ><div class=\"lbl c0 trm \" ><span class=\"txtu\">niet </span></div></div><div class=\"contnr c0 trm   \" ><div class=\"lbl c0 trm \" ><span class=\"txtu\">goed</span></div></div><div class=\"contnr c0 trm   \" ><div class=\"lbl c0 trm \" ><span class=\"txtu\">.</span></div></div><div class=\"contnr c0 trm   \" ><div class=\"lbl c0 trm \" ><span class=\"txtu\"><br></span></div></div></div></div><div class=\"contnr c2    \" ><div class=\"lbl c2  \" ><span class=\"nd\">closer </span></div><div class=\"features\"><span class=\"id xft\" ><span class=\"f\">id=</span>p.nl.3</span></div><div class=\"children hor wrap \"><div class=\"contnr c2    \" ><div class=\"lbl c2  \" ><span class=\"nd\">salute </span></div><div class=\"children hor wrap \"><div class=\"contnr c0 trm   \" ><div class=\"lbl c0 trm \" ><span class=\"txtu\">Met </span></div></div><div class=\"contnr c0 trm   \" ><div class=\"lbl c0 trm \" ><span class=\"txtu\">vele </span></div></div><div class=\"contnr c0 trm   \" ><div class=\"lbl c0 trm \" ><span class=\"txtu\">beste </span></div></div><div class=\"contnr c0 trm   \" ><div class=\"lbl c0 trm \" ><span class=\"txtu\">groeten </span></div></div></div></div><div class=\"contnr c1    \" ><div class=\"lbl c1  \" ><span class=\"nd\">signed </span></div><div class=\"children hor wrap \"><div class=\"contnr c0 trm   \" ><div class=\"lbl c0 trm \" ><span class=\"txtu\">je </span></div></div><div class=\"contnr c1    \" ><div class=\"lbl c1  \" ><span class=\"nd\">hi </span></div><div class=\"children hor wrap \"><div class=\"contnr c0 trm   \" ><div class=\"lbl c0 trm \" ><span class=\"txtu\"><span class=\"r_underline \">Piet</span></span></div></div><div class=\"contnr c0 trm   \" ><div class=\"lbl c0 trm \" ><span class=\"txtu\"><span class=\"r_underline \">.</span></span></div></div></div></div></div></div><div class=\"contnr c0 trm   \" ><div class=\"lbl c0 trm \" ><span class=\"txtu\"><br></span></div></div></div></div><div class=\"contnr c0 trm   \" ><div class=\"lbl c0 trm \" ><span class=\"txtu\"><br></span></div></div></div></div></div>"
      ],
      "text/plain": [
       "<IPython.core.display.HTML object>"
      ]
     },
     "metadata": {},
     "output_type": "display_data"
    },
    {
     "data": {
      "text/html": [
       "<div class=\"tfsechead \"><span class=\"ltr\"><a target=\"_blank\" href=\"https://public.annotation.org/mondriaan/proeftuin/19090216y_IONG_1303/7&amp;version=0.8.13\" title=\"Show this on the website\" sec=\"proeftuin@19090216y_IONG_1303:7\">proeftuin@19090216y_IONG_1303:7</a></span></div><div class=\" children\"><div class=\"contnr c3    \" ><div class=\"lbl c3  \" ><span class=\"nd\">chunk </span></div><div class=\"children hor wrap \"><div class=\"contnr c2    \" ><div class=\"lbl c2  \" ><span class=\"nd\">note </span></div><div class=\"features\"><span class=\"id xft\" ><span class=\"f\">id=</span>n_transcrSource_NL</span></div><div class=\"children hor wrap \"><div class=\"contnr c0 trm   \" ><div class=\"lbl c0 trm \" ><span class=\"txtu\"><span class=\" is_note\">Manuscript</span></span></div></div><div class=\"contnr c0 trm   \" ><div class=\"lbl c0 trm \" ><span class=\"txtu\"><span class=\" is_note\">.</span></span></div></div><div class=\"contnr c0 trm   \" ><div class=\"lbl c0 trm \" ><span class=\"txtu\"><span class=\" is_note\"><br></span></span></div></div></div></div><div class=\"contnr c2    \" ><div class=\"lbl c2  \" ><span class=\"nd\">note </span></div><div class=\"features\"><span class=\"id xft\" ><span class=\"f\">id=</span>n_dating_NL</span></div><div class=\"children hor wrap \"><div class=\"contnr c0 trm   \" ><div class=\"lbl c0 trm \" ><span class=\"txtu\"><span class=\" is_note\">De </span></span></div></div><div class=\"contnr c0 trm   \" ><div class=\"lbl c0 trm \" ><span class=\"txtu\"><span class=\" is_note\">brief </span></span></div></div><div class=\"contnr c0 trm   \" ><div class=\"lbl c0 trm \" ><span class=\"txtu\"><span class=\" is_note\">is </span></span></div></div><div class=\"contnr c0 trm   \" ><div class=\"lbl c0 trm \" ><span class=\"txtu\"><span class=\" is_note\">geschreven </span></span></div></div><div class=\"contnr c0 trm   \" ><div class=\"lbl c0 trm \" ><span class=\"txtu\"><span class=\" is_note\">op </span></span></div></div><div class=\"contnr c0 trm   \" ><div class=\"lbl c0 trm \" ><span class=\"txtu\"><span class=\" is_note\">een </span></span></div></div><div class=\"contnr c0 trm   \" ><div class=\"lbl c0 trm \" ><span class=\"txtu\"><span class=\" is_note\">dinsdag </span></span></div></div><div class=\"contnr c0 trm   \" ><div class=\"lbl c0 trm \" ><span class=\"txtu\"><span class=\" is_note\">voorafgaand </span></span></div></div><div class=\"contnr c0 trm   \" ><div class=\"lbl c0 trm \" ><span class=\"txtu\"><span class=\" is_note\">aan </span></span></div></div><div class=\"contnr c0 trm   \" ><div class=\"lbl c0 trm \" ><span class=\"txtu\"><span class=\" is_note\">een </span></span></div></div><div class=\"contnr c0 trm   \" ><div class=\"lbl c0 trm \" ><span class=\"txtu\"><span class=\" is_note\">van </span></span></div></div><div class=\"contnr c0 trm   \" ><div class=\"lbl c0 trm \" ><span class=\"txtu\"><span class=\" is_note\">de </span></span></div></div><div class=\"contnr c0 trm   \" ><div class=\"lbl c0 trm \" ><span class=\"txtu\"><span class=\" is_note\">drie </span></span></div></div><div class=\"contnr c0 trm   \" ><div class=\"lbl c0 trm \" ><span class=\"txtu\"><span class=\" is_note\">woensdagen </span></span></div></div><div class=\"contnr c0 trm   \" ><div class=\"lbl c0 trm \" ><span class=\"txtu\"><span class=\" is_note\">waarop </span></span></div></div><div class=\"contnr c1    \" ><div class=\"lbl c1  \" ><span class=\"nd\">rs </span></div><div class=\"children hor wrap \"><div class=\"contnr c0 trm   \" ><div class=\"lbl c0 trm \" ><span class=\"txtu\"><span class=\" is_note\">Richard </span></span></div></div><div class=\"contnr c0 trm   \" ><div class=\"lbl c0 trm \" ><span class=\"txtu\"><span class=\" is_note\">Buhlig</span></span></div></div></div></div><div class=\"contnr c0 trm   \" ><div class=\"lbl c0 trm \" ><span class=\"txtu\"><span class=\" is_note\"> </span></span></div></div><div class=\"contnr c0 trm   \" ><div class=\"lbl c0 trm \" ><span class=\"txtu\"><span class=\" is_note\">in </span></span></div></div><div class=\"contnr c0 trm   \" ><div class=\"lbl c0 trm \" ><span class=\"txtu\"><span class=\" is_note\">1909 </span></span></div></div><div class=\"contnr c0 trm   \" ><div class=\"lbl c0 trm \" ><span class=\"txtu\"><span class=\" is_note\">in </span></span></div></div><div class=\"contnr c0 trm   \" ><div class=\"lbl c0 trm \" ><span class=\"txtu\"><span class=\" is_note\">de </span></span></div></div><div class=\"contnr c0 trm   \" ><div class=\"lbl c0 trm \" ><span class=\"txtu\"><span class=\" is_note\">kleine </span></span></div></div><div class=\"contnr c0 trm   \" ><div class=\"lbl c0 trm \" ><span class=\"txtu\"><span class=\" is_note\">zaal </span></span></div></div><div class=\"contnr c0 trm   \" ><div class=\"lbl c0 trm \" ><span class=\"txtu\"><span class=\" is_note\">van </span></span></div></div><div class=\"contnr c0 trm   \" ><div class=\"lbl c0 trm \" ><span class=\"txtu\"><span class=\" is_note\">het </span></span></div></div><div class=\"contnr c0 trm   \" ><div class=\"lbl c0 trm \" ><span class=\"txtu\"><span class=\" is_note\">Concertgebouw </span></span></div></div><div class=\"contnr c0 trm   \" ><div class=\"lbl c0 trm \" ><span class=\"txtu\"><span class=\" is_note\">een </span></span></div></div><div class=\"contnr c0 trm   \" ><div class=\"lbl c0 trm \" ><span class=\"txtu\"><span class=\" is_note\">concert </span></span></div></div><div class=\"contnr c0 trm   \" ><div class=\"lbl c0 trm \" ><span class=\"txtu\"><span class=\" is_note\">zou </span></span></div></div><div class=\"contnr c0 trm   \" ><div class=\"lbl c0 trm \" ><span class=\"txtu\"><span class=\" is_note\">geven</span></span></div></div><div class=\"contnr c0 trm   \" ><div class=\"lbl c0 trm \" ><span class=\"txtu\"><span class=\" is_note\">: </span></span></div></div><div class=\"contnr c0 trm   \" ><div class=\"lbl c0 trm \" ><span class=\"txtu\"><span class=\" is_note\">17 </span></span></div></div><div class=\"contnr c0 trm   \" ><div class=\"lbl c0 trm \" ><span class=\"txtu\"><span class=\" is_note\">februari</span></span></div></div><div class=\"contnr c0 trm   \" ><div class=\"lbl c0 trm \" ><span class=\"txtu\"><span class=\" is_note\">, </span></span></div></div><div class=\"contnr c0 trm   \" ><div class=\"lbl c0 trm \" ><span class=\"txtu\"><span class=\" is_note\">3 </span></span></div></div><div class=\"contnr c0 trm   \" ><div class=\"lbl c0 trm \" ><span class=\"txtu\"><span class=\" is_note\">maart </span></span></div></div><div class=\"contnr c0 trm   \" ><div class=\"lbl c0 trm \" ><span class=\"txtu\"><span class=\" is_note\">en </span></span></div></div><div class=\"contnr c0 trm   \" ><div class=\"lbl c0 trm \" ><span class=\"txtu\"><span class=\" is_note\">10 </span></span></div></div><div class=\"contnr c0 trm   \" ><div class=\"lbl c0 trm \" ><span class=\"txtu\"><span class=\" is_note\">maart</span></span></div></div><div class=\"contnr c0 trm   \" ><div class=\"lbl c0 trm \" ><span class=\"txtu\"><span class=\" is_note\">. </span></span></div></div><div class=\"contnr c0 trm   \" ><div class=\"lbl c0 trm \" ><span class=\"txtu\"><span class=\" is_note\">Zie </span></span></div></div><div class=\"contnr c0 trm   \" ><div class=\"lbl c0 trm \" ><span class=\"txtu\"><span class=\" is_note\">tevens </span></span></div></div><div class=\"contnr c1    \" ><div class=\"lbl c1  \" ><span class=\"nd\">ref </span></div><div class=\"features\"><span class=\"link_target xft\" ><span class=\"e\" edge=\"link_target\" nd=\"19447\">link_target•</span>\n",
       "<span\n",
       "    ef=\"link_target\"\n",
       "    nd=\"19447\"\n",
       "    md=\"18992\"\n",
       "    arrow=\"right\"\n",
       "    class=\"etf\" \n",
       "><span class=\"etfx\">↦</span></span>\n",
       "</span><span class=\"target xft\" ><span class=\"f\">target=</span>#plaatsBuhlig</span></div><div class=\"children hor wrap \"><div class=\"contnr c0 trm   \" ><div class=\"lbl c0 trm \" ><span class=\"txtu\"><span class=\" is_note\">n. </span></span></div></div><div class=\"contnr c0 trm   \" ><div class=\"lbl c0 trm \" ><span class=\"txtu\"><span class=\" is_note\">\"</span></span></div></div><div class=\"contnr c0 trm   \" ><div class=\"lbl c0 trm \" ><span class=\"txtu\"><span class=\" is_note\">plaatsBuhlig</span></span></div></div><div class=\"contnr c0 trm   \" ><div class=\"lbl c0 trm \" ><span class=\"txtu\"><span class=\" is_note\">\"</span></span></div></div></div></div><div class=\"contnr c0 trm   \" ><div class=\"lbl c0 trm \" ><span class=\"txtu\"><span class=\" is_note\">.</span></span></div></div><div class=\"contnr c0 trm   \" ><div class=\"lbl c0 trm \" ><span class=\"txtu\"><span class=\" is_note\"><br></span></span></div></div></div></div><div class=\"contnr c2    \" ><div class=\"lbl c2  \" ><span class=\"nd\">note </span></div><div class=\"features\"><span class=\"id xft\" ><span class=\"f\">id=</span>ogt_1_NL</span></div><div class=\"children hor wrap \"><div class=\"contnr c0 trm   \" ><div class=\"lbl c0 trm \" ><span class=\"txtu\"><span class=\" is_note\">​</span></span></div></div></div></div><div class=\"contnr c0 trm   \" ><div class=\"lbl c0 trm \" ><span class=\"txtu\"><br></span></div></div><div class=\"contnr c2    \" ><div class=\"lbl c2  \" ><span class=\"nd\">note </span></div><div class=\"features\"><span class=\"id xft\" ><span class=\"f\">id=</span>Zus_NL</span></div><div class=\"children hor wrap \"><div class=\"contnr c1    \" ><div class=\"lbl c1  \" ><span class=\"nd\">rs </span></div><div class=\"children hor wrap \"><div class=\"contnr c0 trm   \" ><div class=\"lbl c0 trm \" ><span class=\"txtu\"><span class=\" is_note\">Aletta</span></span></div></div></div></div><div class=\"contnr c0 trm   \" ><div class=\"lbl c0 trm \" ><span class=\"txtu\"><span class=\" is_note\"> </span></span></div></div><div class=\"contnr c0 trm   \" ><div class=\"lbl c0 trm \" ><span class=\"txtu\"><span class=\" is_note\">werd </span></span></div></div><div class=\"contnr c0 trm   \" ><div class=\"lbl c0 trm \" ><span class=\"txtu\"><span class=\" is_note\">binnen </span></span></div></div><div class=\"contnr c0 trm   \" ><div class=\"lbl c0 trm \" ><span class=\"txtu\"><span class=\" is_note\">haar </span></span></div></div><div class=\"contnr c0 trm   \" ><div class=\"lbl c0 trm \" ><span class=\"txtu\"><span class=\" is_note\">familie </span></span></div></div><div class=\"contnr c0 trm   \" ><div class=\"lbl c0 trm \" ><span class=\"txtu\"><span class=\" is_note\">aangesproken </span></span></div></div><div class=\"contnr c0 trm   \" ><div class=\"lbl c0 trm \" ><span class=\"txtu\"><span class=\" is_note\">met </span></span></div></div><div class=\"contnr c0 trm   \" ><div class=\"lbl c0 trm \" ><span class=\"txtu\"><span class=\" is_note\">de </span></span></div></div><div class=\"contnr c0 trm   \" ><div class=\"lbl c0 trm \" ><span class=\"txtu\"><span class=\" is_note\">koosnaam </span></span></div></div><div class=\"contnr c0 trm   \" ><div class=\"lbl c0 trm \" ><span class=\"txtu\"><span class=\" is_note\">'</span></span></div></div><div class=\"contnr c0 trm   \" ><div class=\"lbl c0 trm \" ><span class=\"txtu\"><span class=\" is_note\">Zus</span></span></div></div><div class=\"contnr c0 trm   \" ><div class=\"lbl c0 trm \" ><span class=\"txtu\"><span class=\" is_note\">' </span></span></div></div><div class=\"contnr c0 trm   \" ><div class=\"lbl c0 trm \" ><span class=\"txtu\"><span class=\" is_note\">(</span></span></div></div><div class=\"contnr c1    \" ><div class=\"lbl c1  \" ><span class=\"nd\">ref </span></div><div class=\"features\"><span class=\"link_target xft\" ><span class=\"e\" edge=\"link_target\" nd=\"19448\">link_target•</span>\n",
       "<span\n",
       "    ef=\"link_target\"\n",
       "    nd=\"19448\"\n",
       "    md=\"17842\"\n",
       "    arrow=\"right\"\n",
       "    class=\"etf\" \n",
       "><span class=\"etfx\">↦</span></span>\n",
       "</span><span class=\"target xft\" ><span class=\"f\">target=</span>biblio.xml#Heteren2018</span></div><div class=\"children hor wrap \"><div class=\"contnr c0 trm   \" ><div class=\"lbl c0 trm \" ><span class=\"txtu\"><span class=\" is_note\">Heteren </span></span></div></div><div class=\"contnr c0 trm   \" ><div class=\"lbl c0 trm \" ><span class=\"txtu\"><span class=\" is_note\">2018</span></span></div></div></div></div><div class=\"contnr c0 trm   \" ><div class=\"lbl c0 trm \" ><span class=\"txtu\"><span class=\" is_note\">, </span></span></div></div><div class=\"contnr c0 trm   \" ><div class=\"lbl c0 trm \" ><span class=\"txtu\"><span class=\" is_note\">p. </span></span></div></div><div class=\"contnr c0 trm   \" ><div class=\"lbl c0 trm \" ><span class=\"txtu\"><span class=\" is_note\">25</span></span></div></div><div class=\"contnr c0 trm   \" ><div class=\"lbl c0 trm \" ><span class=\"txtu\"><span class=\" is_note\">) </span></span></div></div><div class=\"contnr c0 trm   \" ><div class=\"lbl c0 trm \" ><span class=\"txtu\"><span class=\" is_note\">Mondriaans </span></span></div></div><div class=\"contnr c0 trm   \" ><div class=\"lbl c0 trm \" ><span class=\"txtu\"><span class=\" is_note\">gebruik </span></span></div></div><div class=\"contnr c0 trm   \" ><div class=\"lbl c0 trm \" ><span class=\"txtu\"><span class=\" is_note\">van </span></span></div></div><div class=\"contnr c0 trm   \" ><div class=\"lbl c0 trm \" ><span class=\"txtu\"><span class=\" is_note\">deze </span></span></div></div><div class=\"contnr c0 trm   \" ><div class=\"lbl c0 trm \" ><span class=\"txtu\"><span class=\" is_note\">naam </span></span></div></div><div class=\"contnr c0 trm   \" ><div class=\"lbl c0 trm \" ><span class=\"txtu\"><span class=\" is_note\">geeft </span></span></div></div><div class=\"contnr c0 trm   \" ><div class=\"lbl c0 trm \" ><span class=\"txtu\"><span class=\" is_note\">aan </span></span></div></div><div class=\"contnr c0 trm   \" ><div class=\"lbl c0 trm \" ><span class=\"txtu\"><span class=\" is_note\">dat </span></span></div></div><div class=\"contnr c0 trm   \" ><div class=\"lbl c0 trm \" ><span class=\"txtu\"><span class=\" is_note\">hij </span></span></div></div><div class=\"contnr c0 trm   \" ><div class=\"lbl c0 trm \" ><span class=\"txtu\"><span class=\" is_note\">op </span></span></div></div><div class=\"contnr c0 trm   \" ><div class=\"lbl c0 trm \" ><span class=\"txtu\"><span class=\" is_note\">intieme </span></span></div></div><div class=\"contnr c0 trm   \" ><div class=\"lbl c0 trm \" ><span class=\"txtu\"><span class=\" is_note\">voet </span></span></div></div><div class=\"contnr c0 trm   \" ><div class=\"lbl c0 trm \" ><span class=\"txtu\"><span class=\" is_note\">stond </span></span></div></div><div class=\"contnr c0 trm   \" ><div class=\"lbl c0 trm \" ><span class=\"txtu\"><span class=\" is_note\">met </span></span></div></div><div class=\"contnr c0 trm   \" ><div class=\"lbl c0 trm \" ><span class=\"txtu\"><span class=\" is_note\">De </span></span></div></div><div class=\"contnr c0 trm   \" ><div class=\"lbl c0 trm \" ><span class=\"txtu\"><span class=\" is_note\">Iongh</span></span></div></div><div class=\"contnr c0 trm   \" ><div class=\"lbl c0 trm \" ><span class=\"txtu\"><span class=\" is_note\">.</span></span></div></div><div class=\"contnr c0 trm   \" ><div class=\"lbl c0 trm \" ><span class=\"txtu\"><span class=\" is_note\"><br></span></span></div></div></div></div><div class=\"contnr c2    \" ><div class=\"lbl c2  \" ><span class=\"nd\">note </span></div><div class=\"features\"><span class=\"id xft\" ><span class=\"f\">id=</span>plaatsBuhlig_NL</span></div><div class=\"children hor wrap \"><div class=\"contnr c0 trm   \" ><div class=\"lbl c0 trm \" ><span class=\"txtu\"><span class=\" is_note\">De </span></span></div></div><div class=\"contnr c0 trm   \" ><div class=\"lbl c0 trm \" ><span class=\"txtu\"><span class=\" is_note\">Amerikaanse </span></span></div></div><div class=\"contnr c0 trm   \" ><div class=\"lbl c0 trm \" ><span class=\"txtu\"><span class=\" is_note\">pianist </span></span></div></div><div class=\"contnr c1    \" ><div class=\"lbl c1  \" ><span class=\"nd\">rs </span></div><div class=\"children hor wrap \"><div class=\"contnr c0 trm   \" ><div class=\"lbl c0 trm \" ><span class=\"txtu\"><span class=\" is_note\">Richard </span></span></div></div><div class=\"contnr c0 trm   \" ><div class=\"lbl c0 trm \" ><span class=\"txtu\"><span class=\" is_note\">Moritz </span></span></div></div><div class=\"contnr c0 trm   \" ><div class=\"lbl c0 trm \" ><span class=\"txtu\"><span class=\" is_note\">Buhlig</span></span></div></div></div></div><div class=\"contnr c0 trm   \" ><div class=\"lbl c0 trm \" ><span class=\"txtu\"><span class=\" is_note\"> </span></span></div></div><div class=\"contnr c0 trm   \" ><div class=\"lbl c0 trm \" ><span class=\"txtu\"><span class=\" is_note\">(</span></span></div></div><div class=\"contnr c0 trm   \" ><div class=\"lbl c0 trm \" ><span class=\"txtu\"><span class=\" is_note\">1880</span></span></div></div><div class=\"contnr c0 trm   \" ><div class=\"lbl c0 trm \" ><span class=\"txtu\"><span class=\" is_note\">-</span></span></div></div><div class=\"contnr c0 trm   \" ><div class=\"lbl c0 trm \" ><span class=\"txtu\"><span class=\" is_note\">1952</span></span></div></div><div class=\"contnr c0 trm   \" ><div class=\"lbl c0 trm \" ><span class=\"txtu\"><span class=\" is_note\">) </span></span></div></div><div class=\"contnr c0 trm   \" ><div class=\"lbl c0 trm \" ><span class=\"txtu\"><span class=\" is_note\">gaf </span></span></div></div><div class=\"contnr c0 trm   \" ><div class=\"lbl c0 trm \" ><span class=\"txtu\"><span class=\" is_note\">begin </span></span></div></div><div class=\"contnr c0 trm   \" ><div class=\"lbl c0 trm \" ><span class=\"txtu\"><span class=\" is_note\">1909 </span></span></div></div><div class=\"contnr c0 trm   \" ><div class=\"lbl c0 trm \" ><span class=\"txtu\"><span class=\" is_note\">drie </span></span></div></div><div class=\"contnr c0 trm   \" ><div class=\"lbl c0 trm \" ><span class=\"txtu\"><span class=\" is_note\">concerten </span></span></div></div><div class=\"contnr c0 trm   \" ><div class=\"lbl c0 trm \" ><span class=\"txtu\"><span class=\" is_note\">in </span></span></div></div><div class=\"contnr c0 trm   \" ><div class=\"lbl c0 trm \" ><span class=\"txtu\"><span class=\" is_note\">de </span></span></div></div><div class=\"contnr c0 trm   \" ><div class=\"lbl c0 trm \" ><span class=\"txtu\"><span class=\" is_note\">kleine </span></span></div></div><div class=\"contnr c0 trm   \" ><div class=\"lbl c0 trm \" ><span class=\"txtu\"><span class=\" is_note\">zaal </span></span></div></div><div class=\"contnr c0 trm   \" ><div class=\"lbl c0 trm \" ><span class=\"txtu\"><span class=\" is_note\">van </span></span></div></div><div class=\"contnr c0 trm   \" ><div class=\"lbl c0 trm \" ><span class=\"txtu\"><span class=\" is_note\">het </span></span></div></div><div class=\"contnr c0 trm   \" ><div class=\"lbl c0 trm \" ><span class=\"txtu\"><span class=\" is_note\">Concertgebouw</span></span></div></div><div class=\"contnr c0 trm   \" ><div class=\"lbl c0 trm \" ><span class=\"txtu\"><span class=\" is_note\">, </span></span></div></div><div class=\"contnr c0 trm   \" ><div class=\"lbl c0 trm \" ><span class=\"txtu\"><span class=\" is_note\">op </span></span></div></div><div class=\"contnr c0 trm   \" ><div class=\"lbl c0 trm \" ><span class=\"txtu\"><span class=\" is_note\">woensdag </span></span></div></div><div class=\"contnr c0 trm   \" ><div class=\"lbl c0 trm \" ><span class=\"txtu\"><span class=\" is_note\">17 </span></span></div></div><div class=\"contnr c0 trm   \" ><div class=\"lbl c0 trm \" ><span class=\"txtu\"><span class=\" is_note\">februari</span></span></div></div><div class=\"contnr c0 trm   \" ><div class=\"lbl c0 trm \" ><span class=\"txtu\"><span class=\" is_note\">, </span></span></div></div><div class=\"contnr c0 trm   \" ><div class=\"lbl c0 trm \" ><span class=\"txtu\"><span class=\" is_note\">woensdag </span></span></div></div><div class=\"contnr c0 trm   \" ><div class=\"lbl c0 trm \" ><span class=\"txtu\"><span class=\" is_note\">3 </span></span></div></div><div class=\"contnr c0 trm   \" ><div class=\"lbl c0 trm \" ><span class=\"txtu\"><span class=\" is_note\">maart </span></span></div></div><div class=\"contnr c0 trm   \" ><div class=\"lbl c0 trm \" ><span class=\"txtu\"><span class=\" is_note\">en </span></span></div></div><div class=\"contnr c0 trm   \" ><div class=\"lbl c0 trm \" ><span class=\"txtu\"><span class=\" is_note\">woensdag </span></span></div></div><div class=\"contnr c0 trm   \" ><div class=\"lbl c0 trm \" ><span class=\"txtu\"><span class=\" is_note\">10 </span></span></div></div><div class=\"contnr c0 trm   \" ><div class=\"lbl c0 trm \" ><span class=\"txtu\"><span class=\" is_note\">maart</span></span></div></div><div class=\"contnr c0 trm   \" ><div class=\"lbl c0 trm \" ><span class=\"txtu\"><span class=\" is_note\">. </span></span></div></div><div class=\"contnr c0 trm   \" ><div class=\"lbl c0 trm \" ><span class=\"txtu\"><span class=\" is_note\">Het </span></span></div></div><div class=\"contnr c0 trm   \" ><div class=\"lbl c0 trm \" ><span class=\"txtu\"><span class=\" is_note\">is </span></span></div></div><div class=\"contnr c0 trm   \" ><div class=\"lbl c0 trm \" ><span class=\"txtu\"><span class=\" is_note\">niet </span></span></div></div><div class=\"contnr c0 trm   \" ><div class=\"lbl c0 trm \" ><span class=\"txtu\"><span class=\" is_note\">bekend </span></span></div></div><div class=\"contnr c0 trm   \" ><div class=\"lbl c0 trm \" ><span class=\"txtu\"><span class=\" is_note\">voor </span></span></div></div><div class=\"contnr c0 trm   \" ><div class=\"lbl c0 trm \" ><span class=\"txtu\"><span class=\" is_note\">welke </span></span></div></div><div class=\"contnr c0 trm   \" ><div class=\"lbl c0 trm \" ><span class=\"txtu\"><span class=\" is_note\">van </span></span></div></div><div class=\"contnr c0 trm   \" ><div class=\"lbl c0 trm \" ><span class=\"txtu\"><span class=\" is_note\">deze </span></span></div></div><div class=\"contnr c0 trm   \" ><div class=\"lbl c0 trm \" ><span class=\"txtu\"><span class=\" is_note\">concerten </span></span></div></div><div class=\"contnr c0 trm   \" ><div class=\"lbl c0 trm \" ><span class=\"txtu\"><span class=\" is_note\">Mondriaan </span></span></div></div><div class=\"contnr c0 trm   \" ><div class=\"lbl c0 trm \" ><span class=\"txtu\"><span class=\" is_note\">kaarten </span></span></div></div><div class=\"contnr c0 trm   \" ><div class=\"lbl c0 trm \" ><span class=\"txtu\"><span class=\" is_note\">had</span></span></div></div><div class=\"contnr c0 trm   \" ><div class=\"lbl c0 trm \" ><span class=\"txtu\"><span class=\" is_note\">.</span></span></div></div><div class=\"contnr c0 trm   \" ><div class=\"lbl c0 trm \" ><span class=\"txtu\"><span class=\" is_note\"><br></span></span></div></div></div></div><div class=\"contnr c2    \" ><div class=\"lbl c2  \" ><span class=\"nd\">note </span></div><div class=\"features\"><span class=\"id xft\" ><span class=\"f\">id=</span>n_transcrSource</span></div><div class=\"children hor wrap \"><div class=\"contnr c0 trm   \" ><div class=\"lbl c0 trm \" ><span class=\"txtu\"><span class=\" is_note\">*</span></span></div></div><div class=\"contnr c0 trm   \" ><div class=\"lbl c0 trm \" ><span class=\"txtu\"><span class=\" is_note\">*</span></span></div></div><div class=\"contnr c0 trm   \" ><div class=\"lbl c0 trm \" ><span class=\"txtu\"><span class=\" is_note\">SUBSTITUTE </span></span></div></div><div class=\"contnr c0 trm   \" ><div class=\"lbl c0 trm \" ><span class=\"txtu\"><span class=\" is_note\">FOR </span></span></div></div><div class=\"contnr c0 trm   \" ><div class=\"lbl c0 trm \" ><span class=\"txtu\"><span class=\" is_note\">ENGLISH</span></span></div></div><div class=\"contnr c0 trm   \" ><div class=\"lbl c0 trm \" ><span class=\"txtu\"><span class=\" is_note\">*</span></span></div></div><div class=\"contnr c0 trm   \" ><div class=\"lbl c0 trm \" ><span class=\"txtu\"><span class=\" is_note\">* </span></span></div></div><div class=\"contnr c0 trm   \" ><div class=\"lbl c0 trm \" ><span class=\"txtu\"><span class=\" is_note\">Manuscript</span></span></div></div><div class=\"contnr c0 trm   \" ><div class=\"lbl c0 trm \" ><span class=\"txtu\"><span class=\" is_note\">.</span></span></div></div><div class=\"contnr c0 trm   \" ><div class=\"lbl c0 trm \" ><span class=\"txtu\"><span class=\" is_note\"><br></span></span></div></div></div></div><div class=\"contnr c2    \" ><div class=\"lbl c2  \" ><span class=\"nd\">note </span></div><div class=\"features\"><span class=\"id xft\" ><span class=\"f\">id=</span>n_dating</span></div><div class=\"children hor wrap \"><div class=\"contnr c0 trm   \" ><div class=\"lbl c0 trm \" ><span class=\"txtu\"><span class=\" is_note\">*</span></span></div></div><div class=\"contnr c0 trm   \" ><div class=\"lbl c0 trm \" ><span class=\"txtu\"><span class=\" is_note\">*</span></span></div></div><div class=\"contnr c0 trm   \" ><div class=\"lbl c0 trm \" ><span class=\"txtu\"><span class=\" is_note\">SUBSTITUTE </span></span></div></div><div class=\"contnr c0 trm   \" ><div class=\"lbl c0 trm \" ><span class=\"txtu\"><span class=\" is_note\">FOR </span></span></div></div><div class=\"contnr c0 trm   \" ><div class=\"lbl c0 trm \" ><span class=\"txtu\"><span class=\" is_note\">ENGLISH</span></span></div></div><div class=\"contnr c0 trm   \" ><div class=\"lbl c0 trm \" ><span class=\"txtu\"><span class=\" is_note\">*</span></span></div></div><div class=\"contnr c0 trm   \" ><div class=\"lbl c0 trm \" ><span class=\"txtu\"><span class=\" is_note\">* </span></span></div></div><div class=\"contnr c0 trm   \" ><div class=\"lbl c0 trm \" ><span class=\"txtu\"><span class=\" is_note\">De </span></span></div></div><div class=\"contnr c0 trm   \" ><div class=\"lbl c0 trm \" ><span class=\"txtu\"><span class=\" is_note\">brief </span></span></div></div><div class=\"contnr c0 trm   \" ><div class=\"lbl c0 trm \" ><span class=\"txtu\"><span class=\" is_note\">is </span></span></div></div><div class=\"contnr c0 trm   \" ><div class=\"lbl c0 trm \" ><span class=\"txtu\"><span class=\" is_note\">geschreven </span></span></div></div><div class=\"contnr c0 trm   \" ><div class=\"lbl c0 trm \" ><span class=\"txtu\"><span class=\" is_note\">op </span></span></div></div><div class=\"contnr c0 trm   \" ><div class=\"lbl c0 trm \" ><span class=\"txtu\"><span class=\" is_note\">een </span></span></div></div><div class=\"contnr c0 trm   \" ><div class=\"lbl c0 trm \" ><span class=\"txtu\"><span class=\" is_note\">dinsdag </span></span></div></div><div class=\"contnr c0 trm   \" ><div class=\"lbl c0 trm \" ><span class=\"txtu\"><span class=\" is_note\">voorafgaand </span></span></div></div><div class=\"contnr c0 trm   \" ><div class=\"lbl c0 trm \" ><span class=\"txtu\"><span class=\" is_note\">aan </span></span></div></div><div class=\"contnr c0 trm   \" ><div class=\"lbl c0 trm \" ><span class=\"txtu\"><span class=\" is_note\">een </span></span></div></div><div class=\"contnr c0 trm   \" ><div class=\"lbl c0 trm \" ><span class=\"txtu\"><span class=\" is_note\">van </span></span></div></div><div class=\"contnr c0 trm   \" ><div class=\"lbl c0 trm \" ><span class=\"txtu\"><span class=\" is_note\">de </span></span></div></div><div class=\"contnr c0 trm   \" ><div class=\"lbl c0 trm \" ><span class=\"txtu\"><span class=\" is_note\">drie </span></span></div></div><div class=\"contnr c0 trm   \" ><div class=\"lbl c0 trm \" ><span class=\"txtu\"><span class=\" is_note\">woensdagen </span></span></div></div><div class=\"contnr c0 trm   \" ><div class=\"lbl c0 trm \" ><span class=\"txtu\"><span class=\" is_note\">waarop </span></span></div></div><div class=\"contnr c1    \" ><div class=\"lbl c1  \" ><span class=\"nd\">rs </span></div><div class=\"children hor wrap \"><div class=\"contnr c0 trm   \" ><div class=\"lbl c0 trm \" ><span class=\"txtu\"><span class=\" is_note\">Richard </span></span></div></div><div class=\"contnr c0 trm   \" ><div class=\"lbl c0 trm \" ><span class=\"txtu\"><span class=\" is_note\">Buhlig</span></span></div></div></div></div><div class=\"contnr c0 trm   \" ><div class=\"lbl c0 trm \" ><span class=\"txtu\"><span class=\" is_note\"> </span></span></div></div><div class=\"contnr c0 trm   \" ><div class=\"lbl c0 trm \" ><span class=\"txtu\"><span class=\" is_note\">in </span></span></div></div><div class=\"contnr c0 trm   \" ><div class=\"lbl c0 trm \" ><span class=\"txtu\"><span class=\" is_note\">1909 </span></span></div></div><div class=\"contnr c0 trm   \" ><div class=\"lbl c0 trm \" ><span class=\"txtu\"><span class=\" is_note\">in </span></span></div></div><div class=\"contnr c0 trm   \" ><div class=\"lbl c0 trm \" ><span class=\"txtu\"><span class=\" is_note\">de </span></span></div></div><div class=\"contnr c0 trm   \" ><div class=\"lbl c0 trm \" ><span class=\"txtu\"><span class=\" is_note\">kleine </span></span></div></div><div class=\"contnr c0 trm   \" ><div class=\"lbl c0 trm \" ><span class=\"txtu\"><span class=\" is_note\">zaal </span></span></div></div><div class=\"contnr c0 trm   \" ><div class=\"lbl c0 trm \" ><span class=\"txtu\"><span class=\" is_note\">van </span></span></div></div><div class=\"contnr c0 trm   \" ><div class=\"lbl c0 trm \" ><span class=\"txtu\"><span class=\" is_note\">het </span></span></div></div><div class=\"contnr c0 trm   \" ><div class=\"lbl c0 trm \" ><span class=\"txtu\"><span class=\" is_note\">Concertgebouw </span></span></div></div><div class=\"contnr c0 trm   \" ><div class=\"lbl c0 trm \" ><span class=\"txtu\"><span class=\" is_note\">een </span></span></div></div><div class=\"contnr c0 trm   \" ><div class=\"lbl c0 trm \" ><span class=\"txtu\"><span class=\" is_note\">concert </span></span></div></div><div class=\"contnr c0 trm   \" ><div class=\"lbl c0 trm \" ><span class=\"txtu\"><span class=\" is_note\">zou </span></span></div></div><div class=\"contnr c0 trm   \" ><div class=\"lbl c0 trm \" ><span class=\"txtu\"><span class=\" is_note\">geven</span></span></div></div><div class=\"contnr c0 trm   \" ><div class=\"lbl c0 trm \" ><span class=\"txtu\"><span class=\" is_note\">: </span></span></div></div><div class=\"contnr c0 trm   \" ><div class=\"lbl c0 trm \" ><span class=\"txtu\"><span class=\" is_note\">17 </span></span></div></div><div class=\"contnr c0 trm   \" ><div class=\"lbl c0 trm \" ><span class=\"txtu\"><span class=\" is_note\">februari</span></span></div></div><div class=\"contnr c0 trm   \" ><div class=\"lbl c0 trm \" ><span class=\"txtu\"><span class=\" is_note\">, </span></span></div></div><div class=\"contnr c0 trm   \" ><div class=\"lbl c0 trm \" ><span class=\"txtu\"><span class=\" is_note\">3 </span></span></div></div><div class=\"contnr c0 trm   \" ><div class=\"lbl c0 trm \" ><span class=\"txtu\"><span class=\" is_note\">maart </span></span></div></div><div class=\"contnr c0 trm   \" ><div class=\"lbl c0 trm \" ><span class=\"txtu\"><span class=\" is_note\">en </span></span></div></div><div class=\"contnr c0 trm   \" ><div class=\"lbl c0 trm \" ><span class=\"txtu\"><span class=\" is_note\">10 </span></span></div></div><div class=\"contnr c0 trm   \" ><div class=\"lbl c0 trm \" ><span class=\"txtu\"><span class=\" is_note\">maart</span></span></div></div><div class=\"contnr c0 trm   \" ><div class=\"lbl c0 trm \" ><span class=\"txtu\"><span class=\" is_note\">. </span></span></div></div><div class=\"contnr c0 trm   \" ><div class=\"lbl c0 trm \" ><span class=\"txtu\"><span class=\" is_note\">Zie </span></span></div></div><div class=\"contnr c0 trm   \" ><div class=\"lbl c0 trm \" ><span class=\"txtu\"><span class=\" is_note\">tevens </span></span></div></div><div class=\"contnr c1    \" ><div class=\"lbl c1  \" ><span class=\"nd\">ref </span></div><div class=\"features\"><span class=\"link_target xft\" ><span class=\"e\" edge=\"link_target\" nd=\"19449\">link_target•</span>\n",
       "<span\n",
       "    ef=\"link_target\"\n",
       "    nd=\"19449\"\n",
       "    md=\"18992\"\n",
       "    arrow=\"right\"\n",
       "    class=\"etf\" \n",
       "><span class=\"etfx\">↦</span></span>\n",
       "</span><span class=\"target xft\" ><span class=\"f\">target=</span>#plaatsBuhlig</span></div><div class=\"children hor wrap \"><div class=\"contnr c0 trm   \" ><div class=\"lbl c0 trm \" ><span class=\"txtu\"><span class=\" is_note\">n. </span></span></div></div><div class=\"contnr c0 trm   \" ><div class=\"lbl c0 trm \" ><span class=\"txtu\"><span class=\" is_note\">\"</span></span></div></div><div class=\"contnr c0 trm   \" ><div class=\"lbl c0 trm \" ><span class=\"txtu\"><span class=\" is_note\">plaatsBuhlig</span></span></div></div><div class=\"contnr c0 trm   \" ><div class=\"lbl c0 trm \" ><span class=\"txtu\"><span class=\" is_note\">\"</span></span></div></div></div></div><div class=\"contnr c0 trm   \" ><div class=\"lbl c0 trm \" ><span class=\"txtu\"><span class=\" is_note\">.</span></span></div></div><div class=\"contnr c0 trm   \" ><div class=\"lbl c0 trm \" ><span class=\"txtu\"><span class=\" is_note\"><br></span></span></div></div></div></div><div class=\"contnr c2    \" ><div class=\"lbl c2  \" ><span class=\"nd\">note </span></div><div class=\"features\"><span class=\"id xft\" ><span class=\"f\">id=</span>ogt_1</span></div><div class=\"children hor wrap \"><div class=\"contnr c0 trm   \" ><div class=\"lbl c0 trm \" ><span class=\"txtu\"><span class=\" is_note\">​</span></span></div></div></div></div><div class=\"contnr c0 trm   \" ><div class=\"lbl c0 trm \" ><span class=\"txtu\"><br></span></div></div><div class=\"contnr c2    \" ><div class=\"lbl c2  \" ><span class=\"nd\">note </span></div><div class=\"features\"><span class=\"id xft\" ><span class=\"f\">id=</span>Zus</span><span class=\"link_target xft\" ><span class=\"e\" edge=\"link_target\" nd=\"18991\">link_target•</span>\n",
       "<span\n",
       "    ef=\"link_target\"\n",
       "    nd=\"18991\"\n",
       "    md=\"19349\"\n",
       "    arrow=\"left\"\n",
       "    class=\"etf\" \n",
       "><span class=\"etfx\">⇥</span></span>\n",
       " \n",
       "<span\n",
       "    ef=\"link_target\"\n",
       "    nd=\"18991\"\n",
       "    md=\"19351\"\n",
       "    arrow=\"left\"\n",
       "    class=\"etf\" \n",
       "><span class=\"etfx\">⇥</span></span>\n",
       " \n",
       "<span\n",
       "    ef=\"link_target\"\n",
       "    nd=\"18991\"\n",
       "    md=\"19352\"\n",
       "    arrow=\"left\"\n",
       "    class=\"etf\" \n",
       "><span class=\"etfx\">⇥</span></span>\n",
       "</span></div><div class=\"children hor wrap \"><div class=\"contnr c0 trm   \" ><div class=\"lbl c0 trm \" ><span class=\"txtu\"><span class=\" is_note\">*</span></span></div></div><div class=\"contnr c0 trm   \" ><div class=\"lbl c0 trm \" ><span class=\"txtu\"><span class=\" is_note\">*</span></span></div></div><div class=\"contnr c0 trm   \" ><div class=\"lbl c0 trm \" ><span class=\"txtu\"><span class=\" is_note\">SUBSTITUTE </span></span></div></div><div class=\"contnr c0 trm   \" ><div class=\"lbl c0 trm \" ><span class=\"txtu\"><span class=\" is_note\">FOR </span></span></div></div><div class=\"contnr c0 trm   \" ><div class=\"lbl c0 trm \" ><span class=\"txtu\"><span class=\" is_note\">ENGLISH</span></span></div></div><div class=\"contnr c0 trm   \" ><div class=\"lbl c0 trm \" ><span class=\"txtu\"><span class=\" is_note\">*</span></span></div></div><div class=\"contnr c0 trm   \" ><div class=\"lbl c0 trm \" ><span class=\"txtu\"><span class=\" is_note\">* </span></span></div></div><div class=\"contnr c1    \" ><div class=\"lbl c1  \" ><span class=\"nd\">rs </span></div><div class=\"children hor wrap \"><div class=\"contnr c0 trm   \" ><div class=\"lbl c0 trm \" ><span class=\"txtu\"><span class=\" is_note\">Aletta</span></span></div></div></div></div><div class=\"contnr c0 trm   \" ><div class=\"lbl c0 trm \" ><span class=\"txtu\"><span class=\" is_note\"> </span></span></div></div><div class=\"contnr c0 trm   \" ><div class=\"lbl c0 trm \" ><span class=\"txtu\"><span class=\" is_note\">werd </span></span></div></div><div class=\"contnr c0 trm   \" ><div class=\"lbl c0 trm \" ><span class=\"txtu\"><span class=\" is_note\">binnen </span></span></div></div><div class=\"contnr c0 trm   \" ><div class=\"lbl c0 trm \" ><span class=\"txtu\"><span class=\" is_note\">haar </span></span></div></div><div class=\"contnr c0 trm   \" ><div class=\"lbl c0 trm \" ><span class=\"txtu\"><span class=\" is_note\">familie </span></span></div></div><div class=\"contnr c0 trm   \" ><div class=\"lbl c0 trm \" ><span class=\"txtu\"><span class=\" is_note\">aangesproken </span></span></div></div><div class=\"contnr c0 trm   \" ><div class=\"lbl c0 trm \" ><span class=\"txtu\"><span class=\" is_note\">met </span></span></div></div><div class=\"contnr c0 trm   \" ><div class=\"lbl c0 trm \" ><span class=\"txtu\"><span class=\" is_note\">de </span></span></div></div><div class=\"contnr c0 trm   \" ><div class=\"lbl c0 trm \" ><span class=\"txtu\"><span class=\" is_note\">koosnaam </span></span></div></div><div class=\"contnr c0 trm   \" ><div class=\"lbl c0 trm \" ><span class=\"txtu\"><span class=\" is_note\">'</span></span></div></div><div class=\"contnr c0 trm   \" ><div class=\"lbl c0 trm \" ><span class=\"txtu\"><span class=\" is_note\">Zus</span></span></div></div><div class=\"contnr c0 trm   \" ><div class=\"lbl c0 trm \" ><span class=\"txtu\"><span class=\" is_note\">' </span></span></div></div><div class=\"contnr c0 trm   \" ><div class=\"lbl c0 trm \" ><span class=\"txtu\"><span class=\" is_note\">(</span></span></div></div><div class=\"contnr c1    \" ><div class=\"lbl c1  \" ><span class=\"nd\">ref </span></div><div class=\"features\"><span class=\"link_target xft\" ><span class=\"e\" edge=\"link_target\" nd=\"19450\">link_target•</span>\n",
       "<span\n",
       "    ef=\"link_target\"\n",
       "    nd=\"19450\"\n",
       "    md=\"17842\"\n",
       "    arrow=\"right\"\n",
       "    class=\"etf\" \n",
       "><span class=\"etfx\">↦</span></span>\n",
       "</span><span class=\"target xft\" ><span class=\"f\">target=</span>biblio.xml#Heteren2018</span></div><div class=\"children hor wrap \"><div class=\"contnr c0 trm   \" ><div class=\"lbl c0 trm \" ><span class=\"txtu\"><span class=\" is_note\">Heteren </span></span></div></div><div class=\"contnr c0 trm   \" ><div class=\"lbl c0 trm \" ><span class=\"txtu\"><span class=\" is_note\">2018</span></span></div></div></div></div><div class=\"contnr c0 trm   \" ><div class=\"lbl c0 trm \" ><span class=\"txtu\"><span class=\" is_note\">, </span></span></div></div><div class=\"contnr c0 trm   \" ><div class=\"lbl c0 trm \" ><span class=\"txtu\"><span class=\" is_note\">p. </span></span></div></div><div class=\"contnr c0 trm   \" ><div class=\"lbl c0 trm \" ><span class=\"txtu\"><span class=\" is_note\">25</span></span></div></div><div class=\"contnr c0 trm   \" ><div class=\"lbl c0 trm \" ><span class=\"txtu\"><span class=\" is_note\">) </span></span></div></div><div class=\"contnr c0 trm   \" ><div class=\"lbl c0 trm \" ><span class=\"txtu\"><span class=\" is_note\">Mondriaans </span></span></div></div><div class=\"contnr c0 trm   \" ><div class=\"lbl c0 trm \" ><span class=\"txtu\"><span class=\" is_note\">gebruik </span></span></div></div><div class=\"contnr c0 trm   \" ><div class=\"lbl c0 trm \" ><span class=\"txtu\"><span class=\" is_note\">van </span></span></div></div><div class=\"contnr c0 trm   \" ><div class=\"lbl c0 trm \" ><span class=\"txtu\"><span class=\" is_note\">deze </span></span></div></div><div class=\"contnr c0 trm   \" ><div class=\"lbl c0 trm \" ><span class=\"txtu\"><span class=\" is_note\">naam </span></span></div></div><div class=\"contnr c0 trm   \" ><div class=\"lbl c0 trm \" ><span class=\"txtu\"><span class=\" is_note\">geeft </span></span></div></div><div class=\"contnr c0 trm   \" ><div class=\"lbl c0 trm \" ><span class=\"txtu\"><span class=\" is_note\">aan </span></span></div></div><div class=\"contnr c0 trm   \" ><div class=\"lbl c0 trm \" ><span class=\"txtu\"><span class=\" is_note\">dat </span></span></div></div><div class=\"contnr c0 trm   \" ><div class=\"lbl c0 trm \" ><span class=\"txtu\"><span class=\" is_note\">hij </span></span></div></div><div class=\"contnr c0 trm   \" ><div class=\"lbl c0 trm \" ><span class=\"txtu\"><span class=\" is_note\">op </span></span></div></div><div class=\"contnr c0 trm   \" ><div class=\"lbl c0 trm \" ><span class=\"txtu\"><span class=\" is_note\">intieme </span></span></div></div><div class=\"contnr c0 trm   \" ><div class=\"lbl c0 trm \" ><span class=\"txtu\"><span class=\" is_note\">voet </span></span></div></div><div class=\"contnr c0 trm   \" ><div class=\"lbl c0 trm \" ><span class=\"txtu\"><span class=\" is_note\">stond </span></span></div></div><div class=\"contnr c0 trm   \" ><div class=\"lbl c0 trm \" ><span class=\"txtu\"><span class=\" is_note\">met </span></span></div></div><div class=\"contnr c0 trm   \" ><div class=\"lbl c0 trm \" ><span class=\"txtu\"><span class=\" is_note\">De </span></span></div></div><div class=\"contnr c0 trm   \" ><div class=\"lbl c0 trm \" ><span class=\"txtu\"><span class=\" is_note\">Iongh</span></span></div></div><div class=\"contnr c0 trm   \" ><div class=\"lbl c0 trm \" ><span class=\"txtu\"><span class=\" is_note\">.</span></span></div></div><div class=\"contnr c0 trm   \" ><div class=\"lbl c0 trm \" ><span class=\"txtu\"><span class=\" is_note\"><br></span></span></div></div></div></div><div class=\"contnr c2    hl\"  style=\"background-color: lightgreen;\" ><div class=\"lbl c2  hl\"  style=\"background-color: lightgreen;\" ><span class=\"nd\">note </span></div><div class=\"features\"><span class=\"id xft\" ><span class=\"f\">id=</span>plaatsBuhlig</span><span class=\"link_target xft\" ><span class=\"e\" edge=\"link_target\" nd=\"18992\">link_target•</span>\n",
       "<span\n",
       "    ef=\"link_target\"\n",
       "    nd=\"18992\"\n",
       "    md=\"19350\"\n",
       "    arrow=\"left\"\n",
       "    class=\"etf\" \n",
       "><span class=\"etfx\">⇥</span></span>\n",
       " \n",
       "<span\n",
       "    ef=\"link_target\"\n",
       "    nd=\"18992\"\n",
       "    md=\"19353\"\n",
       "    arrow=\"left\"\n",
       "    class=\"etf\" \n",
       "><span class=\"etfx\">⇥</span></span>\n",
       " \n",
       "<span\n",
       "    ef=\"link_target\"\n",
       "    nd=\"18992\"\n",
       "    md=\"19447\"\n",
       "    arrow=\"left\"\n",
       "    class=\"etf\" \n",
       "><span class=\"etfx\">⇥</span></span>\n",
       " \n",
       "<span\n",
       "    ef=\"link_target\"\n",
       "    nd=\"18992\"\n",
       "    md=\"19449\"\n",
       "    arrow=\"left\"\n",
       "    class=\"etf\" \n",
       "><span class=\"etfx\">⇥</span></span>\n",
       "</span></div><div class=\"children hor wrap \"><div class=\"contnr c0 trm   \" ><div class=\"lbl c0 trm \" ><span class=\"txtu\"><span class=\" is_note\">*</span></span></div></div><div class=\"contnr c0 trm   \" ><div class=\"lbl c0 trm \" ><span class=\"txtu\"><span class=\" is_note\">*</span></span></div></div><div class=\"contnr c0 trm   \" ><div class=\"lbl c0 trm \" ><span class=\"txtu\"><span class=\" is_note\">SUBSTITUTE </span></span></div></div><div class=\"contnr c0 trm   \" ><div class=\"lbl c0 trm \" ><span class=\"txtu\"><span class=\" is_note\">FOR </span></span></div></div><div class=\"contnr c0 trm   \" ><div class=\"lbl c0 trm \" ><span class=\"txtu\"><span class=\" is_note\">ENGLISH</span></span></div></div><div class=\"contnr c0 trm   \" ><div class=\"lbl c0 trm \" ><span class=\"txtu\"><span class=\" is_note\">*</span></span></div></div><div class=\"contnr c0 trm   \" ><div class=\"lbl c0 trm \" ><span class=\"txtu\"><span class=\" is_note\">* </span></span></div></div><div class=\"contnr c0 trm   \" ><div class=\"lbl c0 trm \" ><span class=\"txtu\"><span class=\" is_note\">De </span></span></div></div><div class=\"contnr c0 trm   \" ><div class=\"lbl c0 trm \" ><span class=\"txtu\"><span class=\" is_note\">Amerikaanse </span></span></div></div><div class=\"contnr c0 trm   \" ><div class=\"lbl c0 trm \" ><span class=\"txtu\"><span class=\" is_note\">pianist </span></span></div></div><div class=\"contnr c1    \" ><div class=\"lbl c1  \" ><span class=\"nd\">rs </span></div><div class=\"children hor wrap \"><div class=\"contnr c0 trm   \" ><div class=\"lbl c0 trm \" ><span class=\"txtu\"><span class=\" is_note\">Richard </span></span></div></div><div class=\"contnr c0 trm   \" ><div class=\"lbl c0 trm \" ><span class=\"txtu\"><span class=\" is_note\">Moritz </span></span></div></div><div class=\"contnr c0 trm   \" ><div class=\"lbl c0 trm \" ><span class=\"txtu\"><span class=\" is_note\">Buhlig</span></span></div></div></div></div><div class=\"contnr c0 trm   \" ><div class=\"lbl c0 trm \" ><span class=\"txtu\"><span class=\" is_note\"> </span></span></div></div><div class=\"contnr c0 trm   \" ><div class=\"lbl c0 trm \" ><span class=\"txtu\"><span class=\" is_note\">(</span></span></div></div><div class=\"contnr c0 trm   \" ><div class=\"lbl c0 trm \" ><span class=\"txtu\"><span class=\" is_note\">1880</span></span></div></div><div class=\"contnr c0 trm   \" ><div class=\"lbl c0 trm \" ><span class=\"txtu\"><span class=\" is_note\">-</span></span></div></div><div class=\"contnr c0 trm   \" ><div class=\"lbl c0 trm \" ><span class=\"txtu\"><span class=\" is_note\">1952</span></span></div></div><div class=\"contnr c0 trm   \" ><div class=\"lbl c0 trm \" ><span class=\"txtu\"><span class=\" is_note\">) </span></span></div></div><div class=\"contnr c0 trm   \" ><div class=\"lbl c0 trm \" ><span class=\"txtu\"><span class=\" is_note\">gaf </span></span></div></div><div class=\"contnr c0 trm   \" ><div class=\"lbl c0 trm \" ><span class=\"txtu\"><span class=\" is_note\">begin </span></span></div></div><div class=\"contnr c0 trm   \" ><div class=\"lbl c0 trm \" ><span class=\"txtu\"><span class=\" is_note\">1909 </span></span></div></div><div class=\"contnr c0 trm   \" ><div class=\"lbl c0 trm \" ><span class=\"txtu\"><span class=\" is_note\">drie </span></span></div></div><div class=\"contnr c0 trm   \" ><div class=\"lbl c0 trm \" ><span class=\"txtu\"><span class=\" is_note\">concerten </span></span></div></div><div class=\"contnr c0 trm   \" ><div class=\"lbl c0 trm \" ><span class=\"txtu\"><span class=\" is_note\">in </span></span></div></div><div class=\"contnr c0 trm   \" ><div class=\"lbl c0 trm \" ><span class=\"txtu\"><span class=\" is_note\">de </span></span></div></div><div class=\"contnr c0 trm   \" ><div class=\"lbl c0 trm \" ><span class=\"txtu\"><span class=\" is_note\">kleine </span></span></div></div><div class=\"contnr c0 trm   \" ><div class=\"lbl c0 trm \" ><span class=\"txtu\"><span class=\" is_note\">zaal </span></span></div></div><div class=\"contnr c0 trm   \" ><div class=\"lbl c0 trm \" ><span class=\"txtu\"><span class=\" is_note\">van </span></span></div></div><div class=\"contnr c0 trm   \" ><div class=\"lbl c0 trm \" ><span class=\"txtu\"><span class=\" is_note\">het </span></span></div></div><div class=\"contnr c0 trm   \" ><div class=\"lbl c0 trm \" ><span class=\"txtu\"><span class=\" is_note\">Concertgebouw</span></span></div></div><div class=\"contnr c0 trm   \" ><div class=\"lbl c0 trm \" ><span class=\"txtu\"><span class=\" is_note\">, </span></span></div></div><div class=\"contnr c0 trm   \" ><div class=\"lbl c0 trm \" ><span class=\"txtu\"><span class=\" is_note\">op </span></span></div></div><div class=\"contnr c0 trm   \" ><div class=\"lbl c0 trm \" ><span class=\"txtu\"><span class=\" is_note\">woensdag </span></span></div></div><div class=\"contnr c0 trm   \" ><div class=\"lbl c0 trm \" ><span class=\"txtu\"><span class=\" is_note\">17 </span></span></div></div><div class=\"contnr c0 trm   \" ><div class=\"lbl c0 trm \" ><span class=\"txtu\"><span class=\" is_note\">februari</span></span></div></div><div class=\"contnr c0 trm   \" ><div class=\"lbl c0 trm \" ><span class=\"txtu\"><span class=\" is_note\">, </span></span></div></div><div class=\"contnr c0 trm   \" ><div class=\"lbl c0 trm \" ><span class=\"txtu\"><span class=\" is_note\">woensdag </span></span></div></div><div class=\"contnr c0 trm   \" ><div class=\"lbl c0 trm \" ><span class=\"txtu\"><span class=\" is_note\">3 </span></span></div></div><div class=\"contnr c0 trm   \" ><div class=\"lbl c0 trm \" ><span class=\"txtu\"><span class=\" is_note\">maart </span></span></div></div><div class=\"contnr c0 trm   \" ><div class=\"lbl c0 trm \" ><span class=\"txtu\"><span class=\" is_note\">en </span></span></div></div><div class=\"contnr c0 trm   \" ><div class=\"lbl c0 trm \" ><span class=\"txtu\"><span class=\" is_note\">woensdag </span></span></div></div><div class=\"contnr c0 trm   \" ><div class=\"lbl c0 trm \" ><span class=\"txtu\"><span class=\" is_note\">10 </span></span></div></div><div class=\"contnr c0 trm   \" ><div class=\"lbl c0 trm \" ><span class=\"txtu\"><span class=\" is_note\">maart</span></span></div></div><div class=\"contnr c0 trm   \" ><div class=\"lbl c0 trm \" ><span class=\"txtu\"><span class=\" is_note\">. </span></span></div></div><div class=\"contnr c0 trm   \" ><div class=\"lbl c0 trm \" ><span class=\"txtu\"><span class=\" is_note\">Het </span></span></div></div><div class=\"contnr c0 trm   \" ><div class=\"lbl c0 trm \" ><span class=\"txtu\"><span class=\" is_note\">is </span></span></div></div><div class=\"contnr c0 trm   \" ><div class=\"lbl c0 trm \" ><span class=\"txtu\"><span class=\" is_note\">niet </span></span></div></div><div class=\"contnr c0 trm   \" ><div class=\"lbl c0 trm \" ><span class=\"txtu\"><span class=\" is_note\">bekend </span></span></div></div><div class=\"contnr c0 trm   \" ><div class=\"lbl c0 trm \" ><span class=\"txtu\"><span class=\" is_note\">voor </span></span></div></div><div class=\"contnr c0 trm   \" ><div class=\"lbl c0 trm \" ><span class=\"txtu\"><span class=\" is_note\">welke </span></span></div></div><div class=\"contnr c0 trm   \" ><div class=\"lbl c0 trm \" ><span class=\"txtu\"><span class=\" is_note\">van </span></span></div></div><div class=\"contnr c0 trm   \" ><div class=\"lbl c0 trm \" ><span class=\"txtu\"><span class=\" is_note\">deze </span></span></div></div><div class=\"contnr c0 trm   \" ><div class=\"lbl c0 trm \" ><span class=\"txtu\"><span class=\" is_note\">concerten </span></span></div></div><div class=\"contnr c0 trm   \" ><div class=\"lbl c0 trm \" ><span class=\"txtu\"><span class=\" is_note\">Mondriaan </span></span></div></div><div class=\"contnr c0 trm   \" ><div class=\"lbl c0 trm \" ><span class=\"txtu\"><span class=\" is_note\">kaarten </span></span></div></div><div class=\"contnr c0 trm   \" ><div class=\"lbl c0 trm \" ><span class=\"txtu\"><span class=\" is_note\">had</span></span></div></div><div class=\"contnr c0 trm   \" ><div class=\"lbl c0 trm \" ><span class=\"txtu\"><span class=\" is_note\">.</span></span></div></div><div class=\"contnr c0 trm   \" ><div class=\"lbl c0 trm \" ><span class=\"txtu\"><span class=\" is_note\"><br></span></span></div></div></div></div><div class=\"contnr c0 trm   \" ><div class=\"lbl c0 trm \" ><span class=\"txtu\"><br></span></div></div></div></div></div>"
      ],
      "text/plain": [
       "<IPython.core.display.HTML object>"
      ]
     },
     "metadata": {},
     "output_type": "display_data"
    },
    {
     "data": {
      "text/html": [
       "<p><b>result</b> <i>2</i>"
      ],
      "text/plain": [
       "<IPython.core.display.HTML object>"
      ]
     },
     "metadata": {},
     "output_type": "display_data"
    },
    {
     "data": {
      "text/html": [
       "<div class=\"tfsechead \"><span class=\"ltr\"><a target=\"_blank\" href=\"https://public.annotation.org/mondriaan/proeftuin/19090216y_IONG_1303/6&amp;version=0.8.13\" title=\"Show this on the website\" sec=\"proeftuin@19090216y_IONG_1303:6\">proeftuin@19090216y_IONG_1303:6</a></span></div><div class=\" children\"><div class=\"contnr c3    \" ><div class=\"lbl c3  \" ><span class=\"nd\">chunk </span></div><div class=\"children hor wrap \"><div class=\"contnr c2    \" ><div class=\"lbl c2  \" ><span class=\"nd\">opener </span></div><div class=\"features\"><span class=\"id xft\" ><span class=\"f\">id=</span>p.en.1</span></div><div class=\"children hor wrap \"><div class=\"contnr c2    \" ><div class=\"lbl c2  \" ><span class=\"nd\">salute </span></div><div class=\"children hor wrap \"><div class=\"contnr c0 trm   \" ><div class=\"lbl c0 trm \" ><span class=\"txtu\">Dear </span></div></div><div class=\"contnr c0 trm   \" ><div class=\"lbl c0 trm \" ><span class=\"txtu\">Zus</span></div></div><div class=\"contnr c0 trm   \" ><div class=\"lbl c0 trm \" ><span class=\"txtu\">,</span></div></div><div class=\"contnr c1    \" ><div class=\"lbl c1  \" ><span class=\"nd\">ptr </span></div><div class=\"features\"><span class=\"link_target xft\" ><span class=\"e\" edge=\"link_target\" nd=\"19351\">link_target•</span>\n",
       "<span\n",
       "    ef=\"link_target\"\n",
       "    nd=\"19351\"\n",
       "    md=\"18991\"\n",
       "    arrow=\"right\"\n",
       "    class=\"etf\" \n",
       "><span class=\"etfx\">↦</span></span>\n",
       "</span><span class=\"target xft\" ><span class=\"f\">target=</span>#Zus</span></div><div class=\"children hor wrap \"><div class=\"contnr c0 trm   \" ><div class=\"lbl c0 trm \" ><span class=\"txtu\">​</span></div></div></div></div></div></div><div class=\"contnr c0 trm   \" ><div class=\"lbl c0 trm \" ><span class=\"txtu\"><br></span></div></div></div></div><div class=\"contnr c1    \" ><div class=\"lbl c1  \" ><span class=\"nd\">ptr </span></div><div class=\"features\"><span class=\"link_target xft\" ><span class=\"e\" edge=\"link_target\" nd=\"19352\">link_target•</span>\n",
       "<span\n",
       "    ef=\"link_target\"\n",
       "    nd=\"19352\"\n",
       "    md=\"18991\"\n",
       "    arrow=\"right\"\n",
       "    class=\"etf\" \n",
       "><span class=\"etfx\">↦</span></span>\n",
       "</span><span class=\"target xft\" ><span class=\"f\">target=</span>#Zus</span></div><div class=\"children hor wrap \"><div class=\"contnr c0 trm   \" ><div class=\"lbl c0 trm \" ><span class=\"txtu\">​</span></div></div></div></div><div class=\"contnr c2    \" ><div class=\"lbl c2  \" ><span class=\"nd\">p </span></div><div class=\"features\"><span class=\"id xft\" ><span class=\"f\">id=</span>p.en.2</span></div><div class=\"children hor wrap \"><div class=\"contnr c0 trm   \" ><div class=\"lbl c0 trm \" ><span class=\"txtu\">If </span></div></div><div class=\"contnr c0 trm   \" ><div class=\"lbl c0 trm \" ><span class=\"txtu\">you </span></div></div><div class=\"contnr c0 trm   \" ><div class=\"lbl c0 trm \" ><span class=\"txtu\">come </span></div></div><div class=\"contnr c0 trm   \" ><div class=\"lbl c0 trm \" ><span class=\"txtu\">to </span></div></div><div class=\"contnr c0 trm   \" ><div class=\"lbl c0 trm \" ><span class=\"txtu\">the </span></div></div><div class=\"contnr c0 trm   \" ><div class=\"lbl c0 trm \" ><span class=\"txtu\">entrance </span></div></div><div class=\"contnr c0 trm   \" ><div class=\"lbl c0 trm \" ><span class=\"txtu\">to </span></div></div><div class=\"contnr c0 trm   \" ><div class=\"lbl c0 trm \" ><span class=\"txtu\">the </span></div></div><div class=\"contnr c0 trm   \" ><div class=\"lbl c0 trm \" ><span class=\"txtu\">small </span></div></div><div class=\"contnr c0 trm   \" ><div class=\"lbl c0 trm \" ><span class=\"txtu\">auditorium </span></div></div><div class=\"contnr c0 trm   \" ><div class=\"lbl c0 trm \" ><span class=\"txtu\">in </span></div></div><div class=\"contnr c0 trm   \" ><div class=\"lbl c0 trm \" ><span class=\"txtu\">the </span></div></div><div class=\"contnr c0 trm   \" ><div class=\"lbl c0 trm \" ><span class=\"txtu\">Concertgebouw </span></div></div><div class=\"contnr c0 trm   \" ><div class=\"lbl c0 trm \" ><span class=\"txtu\">at </span></div></div><div class=\"contnr c0 trm   \" ><div class=\"lbl c0 trm \" ><span class=\"txtu\">a </span></div></div><div class=\"contnr c0 trm   \" ><div class=\"lbl c0 trm \" ><span class=\"txtu\">quarter </span></div></div><div class=\"contnr c0 trm   \" ><div class=\"lbl c0 trm \" ><span class=\"txtu\">to </span></div></div><div class=\"contnr c0 trm   \" ><div class=\"lbl c0 trm \" ><span class=\"txtu\">eight </span></div></div><div class=\"contnr c0 trm   \" ><div class=\"lbl c0 trm \" ><span class=\"txtu\">tomorrow </span></div></div><div class=\"contnr c0 trm   \" ><div class=\"lbl c0 trm \" ><span class=\"txtu\">(</span></div></div><div class=\"contnr c0 trm   \" ><div class=\"lbl c0 trm \" ><span class=\"txtu\">Wednesday</span></div></div><div class=\"contnr c0 trm   \" ><div class=\"lbl c0 trm \" ><span class=\"txtu\">) </span></div></div><div class=\"contnr c0 trm   \" ><div class=\"lbl c0 trm \" ><span class=\"txtu\">evening</span></div></div><div class=\"contnr c0 trm   \" ><div class=\"lbl c0 trm \" ><span class=\"txtu\">, </span></div></div><div class=\"contnr c0 trm   \" ><div class=\"lbl c0 trm \" ><span class=\"txtu\">I </span></div></div><div class=\"contnr c0 trm   \" ><div class=\"lbl c0 trm \" ><span class=\"txtu\">have </span></div></div><div class=\"contnr c0 trm   \" ><div class=\"lbl c0 trm \" ><span class=\"txtu\">a </span></div></div><div class=\"contnr c0 trm   \" ><div class=\"lbl c0 trm \" ><span class=\"txtu\">ticket </span></div></div><div class=\"contnr c0 trm   \" ><div class=\"lbl c0 trm \" ><span class=\"txtu\">for </span></div></div><div class=\"contnr c0 trm   \" ><div class=\"lbl c0 trm \" ><span class=\"txtu\">van </span></div></div><div class=\"contnr c1    \" ><div class=\"lbl c1  \" ><span class=\"nd\">rs </span></div><div class=\"children hor wrap \"><div class=\"contnr c0 trm   \" ><div class=\"lbl c0 trm \" ><span class=\"txtu\">Buhlig </span></div></div></div></div><div class=\"contnr c0 trm   \" ><div class=\"lbl c0 trm \" ><span class=\"txtu\">for </span></div></div><div class=\"contnr c0 trm   \" ><div class=\"lbl c0 trm \" ><span class=\"txtu\">you</span></div></div><div class=\"contnr c0 trm   \" ><div class=\"lbl c0 trm \" ><span class=\"txtu\">.</span></div></div><div class=\"contnr c1    hl\"  style=\"background-color: cyan;\" ><div class=\"lbl c1  hl\"  style=\"background-color: cyan;\" ><span class=\"nd\">ptr </span></div><div class=\"features\"><span class=\"link_target xft\" ><span class=\"e\" edge=\"link_target\" nd=\"19353\">link_target•</span>\n",
       "<span\n",
       "    ef=\"link_target\"\n",
       "    nd=\"19353\"\n",
       "    md=\"18992\"\n",
       "    arrow=\"right\"\n",
       "    class=\"etf\" \n",
       "><span class=\"etfx\">↦</span></span>\n",
       "</span><span class=\"target xft\" ><span class=\"f\">target=</span>#plaatsBuhlig</span></div><div class=\"children hor wrap \"><div class=\"contnr c0 trm   \" ><div class=\"lbl c0 trm \" ><span class=\"txtu\">​ </span></div></div></div></div><div class=\"contnr c0 trm   \" ><div class=\"lbl c0 trm \" ><span class=\"txtu\">And </span></div></div><div class=\"contnr c0 trm   \" ><div class=\"lbl c0 trm \" ><span class=\"txtu\">then </span></div></div><div class=\"contnr c0 trm   \" ><div class=\"lbl c0 trm \" ><span class=\"txtu\">we </span></div></div><div class=\"contnr c0 trm   \" ><div class=\"lbl c0 trm \" ><span class=\"txtu\">can </span></div></div><div class=\"contnr c0 trm   \" ><div class=\"lbl c0 trm \" ><span class=\"txtu\">arrange </span></div></div><div class=\"contnr c0 trm   \" ><div class=\"lbl c0 trm \" ><span class=\"txtu\">a </span></div></div><div class=\"contnr c0 trm   \" ><div class=\"lbl c0 trm \" ><span class=\"txtu\">time </span></div></div><div class=\"contnr c0 trm   \" ><div class=\"lbl c0 trm \" ><span class=\"txtu\">other </span></div></div><div class=\"contnr c0 trm   \" ><div class=\"lbl c0 trm \" ><span class=\"txtu\">than </span></div></div><div class=\"contnr c0 trm   \" ><div class=\"lbl c0 trm \" ><span class=\"txtu\">Thursday </span></div></div><div class=\"contnr c0 trm   \" ><div class=\"lbl c0 trm \" ><span class=\"txtu\">afternoon </span></div></div><div class=\"contnr c0 trm   \" ><div class=\"lbl c0 trm \" ><span class=\"txtu\">because </span></div></div><div class=\"contnr c0 trm   \" ><div class=\"lbl c0 trm \" ><span class=\"txtu\">I </span></div></div><div class=\"contnr c0 trm   \" ><div class=\"lbl c0 trm \" ><span class=\"txtu\">ca</span></div></div><div class=\"contnr c0 trm   \" ><div class=\"lbl c0 trm \" ><span class=\"txtu\">n’t </span></div></div><div class=\"contnr c0 trm   \" ><div class=\"lbl c0 trm \" ><span class=\"txtu\">manage </span></div></div><div class=\"contnr c0 trm   \" ><div class=\"lbl c0 trm \" ><span class=\"txtu\">that</span></div></div><div class=\"contnr c0 trm   \" ><div class=\"lbl c0 trm \" ><span class=\"txtu\">.</span></div></div><div class=\"contnr c0 trm   \" ><div class=\"lbl c0 trm \" ><span class=\"txtu\"><br></span></div></div></div></div><div class=\"contnr c2    \" ><div class=\"lbl c2  \" ><span class=\"nd\">closer </span></div><div class=\"features\"><span class=\"id xft\" ><span class=\"f\">id=</span>p.en.3</span></div><div class=\"children hor wrap \"><div class=\"contnr c2    \" ><div class=\"lbl c2  \" ><span class=\"nd\">salute </span></div><div class=\"children hor wrap \"><div class=\"contnr c0 trm   \" ><div class=\"lbl c0 trm \" ><span class=\"txtu\">With </span></div></div><div class=\"contnr c0 trm   \" ><div class=\"lbl c0 trm \" ><span class=\"txtu\">my </span></div></div><div class=\"contnr c0 trm   \" ><div class=\"lbl c0 trm \" ><span class=\"txtu\">very </span></div></div><div class=\"contnr c0 trm   \" ><div class=\"lbl c0 trm \" ><span class=\"txtu\">best </span></div></div><div class=\"contnr c0 trm   \" ><div class=\"lbl c0 trm \" ><span class=\"txtu\">wishes</span></div></div><div class=\"contnr c0 trm   \" ><div class=\"lbl c0 trm \" ><span class=\"txtu\">, </span></div></div></div></div><div class=\"contnr c1    \" ><div class=\"lbl c1  \" ><span class=\"nd\">signed </span></div><div class=\"children hor wrap \"><div class=\"contnr c0 trm   \" ><div class=\"lbl c0 trm \" ><span class=\"txtu\">your </span></div></div><div class=\"contnr c1    \" ><div class=\"lbl c1  \" ><span class=\"nd\">hi </span></div><div class=\"children hor wrap \"><div class=\"contnr c0 trm   \" ><div class=\"lbl c0 trm \" ><span class=\"txtu\"><span class=\"r_underline \">Piet</span></span></div></div><div class=\"contnr c0 trm   \" ><div class=\"lbl c0 trm \" ><span class=\"txtu\"><span class=\"r_underline \">.</span></span></div></div></div></div></div></div><div class=\"contnr c0 trm   \" ><div class=\"lbl c0 trm \" ><span class=\"txtu\"><br></span></div></div></div></div><div class=\"contnr c0 trm   \" ><div class=\"lbl c0 trm \" ><span class=\"txtu\"><br></span></div></div></div></div></div>"
      ],
      "text/plain": [
       "<IPython.core.display.HTML object>"
      ]
     },
     "metadata": {},
     "output_type": "display_data"
    },
    {
     "data": {
      "text/html": [
       "<div class=\"tfsechead \"><span class=\"ltr\"><a target=\"_blank\" href=\"https://public.annotation.org/mondriaan/proeftuin/19090216y_IONG_1303/7&amp;version=0.8.13\" title=\"Show this on the website\" sec=\"proeftuin@19090216y_IONG_1303:7\">proeftuin@19090216y_IONG_1303:7</a></span></div><div class=\" children\"><div class=\"contnr c3    \" ><div class=\"lbl c3  \" ><span class=\"nd\">chunk </span></div><div class=\"children hor wrap \"><div class=\"contnr c2    \" ><div class=\"lbl c2  \" ><span class=\"nd\">note </span></div><div class=\"features\"><span class=\"id xft\" ><span class=\"f\">id=</span>n_transcrSource_NL</span></div><div class=\"children hor wrap \"><div class=\"contnr c0 trm   \" ><div class=\"lbl c0 trm \" ><span class=\"txtu\"><span class=\" is_note\">Manuscript</span></span></div></div><div class=\"contnr c0 trm   \" ><div class=\"lbl c0 trm \" ><span class=\"txtu\"><span class=\" is_note\">.</span></span></div></div><div class=\"contnr c0 trm   \" ><div class=\"lbl c0 trm \" ><span class=\"txtu\"><span class=\" is_note\"><br></span></span></div></div></div></div><div class=\"contnr c2    \" ><div class=\"lbl c2  \" ><span class=\"nd\">note </span></div><div class=\"features\"><span class=\"id xft\" ><span class=\"f\">id=</span>n_dating_NL</span></div><div class=\"children hor wrap \"><div class=\"contnr c0 trm   \" ><div class=\"lbl c0 trm \" ><span class=\"txtu\"><span class=\" is_note\">De </span></span></div></div><div class=\"contnr c0 trm   \" ><div class=\"lbl c0 trm \" ><span class=\"txtu\"><span class=\" is_note\">brief </span></span></div></div><div class=\"contnr c0 trm   \" ><div class=\"lbl c0 trm \" ><span class=\"txtu\"><span class=\" is_note\">is </span></span></div></div><div class=\"contnr c0 trm   \" ><div class=\"lbl c0 trm \" ><span class=\"txtu\"><span class=\" is_note\">geschreven </span></span></div></div><div class=\"contnr c0 trm   \" ><div class=\"lbl c0 trm \" ><span class=\"txtu\"><span class=\" is_note\">op </span></span></div></div><div class=\"contnr c0 trm   \" ><div class=\"lbl c0 trm \" ><span class=\"txtu\"><span class=\" is_note\">een </span></span></div></div><div class=\"contnr c0 trm   \" ><div class=\"lbl c0 trm \" ><span class=\"txtu\"><span class=\" is_note\">dinsdag </span></span></div></div><div class=\"contnr c0 trm   \" ><div class=\"lbl c0 trm \" ><span class=\"txtu\"><span class=\" is_note\">voorafgaand </span></span></div></div><div class=\"contnr c0 trm   \" ><div class=\"lbl c0 trm \" ><span class=\"txtu\"><span class=\" is_note\">aan </span></span></div></div><div class=\"contnr c0 trm   \" ><div class=\"lbl c0 trm \" ><span class=\"txtu\"><span class=\" is_note\">een </span></span></div></div><div class=\"contnr c0 trm   \" ><div class=\"lbl c0 trm \" ><span class=\"txtu\"><span class=\" is_note\">van </span></span></div></div><div class=\"contnr c0 trm   \" ><div class=\"lbl c0 trm \" ><span class=\"txtu\"><span class=\" is_note\">de </span></span></div></div><div class=\"contnr c0 trm   \" ><div class=\"lbl c0 trm \" ><span class=\"txtu\"><span class=\" is_note\">drie </span></span></div></div><div class=\"contnr c0 trm   \" ><div class=\"lbl c0 trm \" ><span class=\"txtu\"><span class=\" is_note\">woensdagen </span></span></div></div><div class=\"contnr c0 trm   \" ><div class=\"lbl c0 trm \" ><span class=\"txtu\"><span class=\" is_note\">waarop </span></span></div></div><div class=\"contnr c1    \" ><div class=\"lbl c1  \" ><span class=\"nd\">rs </span></div><div class=\"children hor wrap \"><div class=\"contnr c0 trm   \" ><div class=\"lbl c0 trm \" ><span class=\"txtu\"><span class=\" is_note\">Richard </span></span></div></div><div class=\"contnr c0 trm   \" ><div class=\"lbl c0 trm \" ><span class=\"txtu\"><span class=\" is_note\">Buhlig</span></span></div></div></div></div><div class=\"contnr c0 trm   \" ><div class=\"lbl c0 trm \" ><span class=\"txtu\"><span class=\" is_note\"> </span></span></div></div><div class=\"contnr c0 trm   \" ><div class=\"lbl c0 trm \" ><span class=\"txtu\"><span class=\" is_note\">in </span></span></div></div><div class=\"contnr c0 trm   \" ><div class=\"lbl c0 trm \" ><span class=\"txtu\"><span class=\" is_note\">1909 </span></span></div></div><div class=\"contnr c0 trm   \" ><div class=\"lbl c0 trm \" ><span class=\"txtu\"><span class=\" is_note\">in </span></span></div></div><div class=\"contnr c0 trm   \" ><div class=\"lbl c0 trm \" ><span class=\"txtu\"><span class=\" is_note\">de </span></span></div></div><div class=\"contnr c0 trm   \" ><div class=\"lbl c0 trm \" ><span class=\"txtu\"><span class=\" is_note\">kleine </span></span></div></div><div class=\"contnr c0 trm   \" ><div class=\"lbl c0 trm \" ><span class=\"txtu\"><span class=\" is_note\">zaal </span></span></div></div><div class=\"contnr c0 trm   \" ><div class=\"lbl c0 trm \" ><span class=\"txtu\"><span class=\" is_note\">van </span></span></div></div><div class=\"contnr c0 trm   \" ><div class=\"lbl c0 trm \" ><span class=\"txtu\"><span class=\" is_note\">het </span></span></div></div><div class=\"contnr c0 trm   \" ><div class=\"lbl c0 trm \" ><span class=\"txtu\"><span class=\" is_note\">Concertgebouw </span></span></div></div><div class=\"contnr c0 trm   \" ><div class=\"lbl c0 trm \" ><span class=\"txtu\"><span class=\" is_note\">een </span></span></div></div><div class=\"contnr c0 trm   \" ><div class=\"lbl c0 trm \" ><span class=\"txtu\"><span class=\" is_note\">concert </span></span></div></div><div class=\"contnr c0 trm   \" ><div class=\"lbl c0 trm \" ><span class=\"txtu\"><span class=\" is_note\">zou </span></span></div></div><div class=\"contnr c0 trm   \" ><div class=\"lbl c0 trm \" ><span class=\"txtu\"><span class=\" is_note\">geven</span></span></div></div><div class=\"contnr c0 trm   \" ><div class=\"lbl c0 trm \" ><span class=\"txtu\"><span class=\" is_note\">: </span></span></div></div><div class=\"contnr c0 trm   \" ><div class=\"lbl c0 trm \" ><span class=\"txtu\"><span class=\" is_note\">17 </span></span></div></div><div class=\"contnr c0 trm   \" ><div class=\"lbl c0 trm \" ><span class=\"txtu\"><span class=\" is_note\">februari</span></span></div></div><div class=\"contnr c0 trm   \" ><div class=\"lbl c0 trm \" ><span class=\"txtu\"><span class=\" is_note\">, </span></span></div></div><div class=\"contnr c0 trm   \" ><div class=\"lbl c0 trm \" ><span class=\"txtu\"><span class=\" is_note\">3 </span></span></div></div><div class=\"contnr c0 trm   \" ><div class=\"lbl c0 trm \" ><span class=\"txtu\"><span class=\" is_note\">maart </span></span></div></div><div class=\"contnr c0 trm   \" ><div class=\"lbl c0 trm \" ><span class=\"txtu\"><span class=\" is_note\">en </span></span></div></div><div class=\"contnr c0 trm   \" ><div class=\"lbl c0 trm \" ><span class=\"txtu\"><span class=\" is_note\">10 </span></span></div></div><div class=\"contnr c0 trm   \" ><div class=\"lbl c0 trm \" ><span class=\"txtu\"><span class=\" is_note\">maart</span></span></div></div><div class=\"contnr c0 trm   \" ><div class=\"lbl c0 trm \" ><span class=\"txtu\"><span class=\" is_note\">. </span></span></div></div><div class=\"contnr c0 trm   \" ><div class=\"lbl c0 trm \" ><span class=\"txtu\"><span class=\" is_note\">Zie </span></span></div></div><div class=\"contnr c0 trm   \" ><div class=\"lbl c0 trm \" ><span class=\"txtu\"><span class=\" is_note\">tevens </span></span></div></div><div class=\"contnr c1    \" ><div class=\"lbl c1  \" ><span class=\"nd\">ref </span></div><div class=\"features\"><span class=\"link_target xft\" ><span class=\"e\" edge=\"link_target\" nd=\"19447\">link_target•</span>\n",
       "<span\n",
       "    ef=\"link_target\"\n",
       "    nd=\"19447\"\n",
       "    md=\"18992\"\n",
       "    arrow=\"right\"\n",
       "    class=\"etf\" \n",
       "><span class=\"etfx\">↦</span></span>\n",
       "</span><span class=\"target xft\" ><span class=\"f\">target=</span>#plaatsBuhlig</span></div><div class=\"children hor wrap \"><div class=\"contnr c0 trm   \" ><div class=\"lbl c0 trm \" ><span class=\"txtu\"><span class=\" is_note\">n. </span></span></div></div><div class=\"contnr c0 trm   \" ><div class=\"lbl c0 trm \" ><span class=\"txtu\"><span class=\" is_note\">\"</span></span></div></div><div class=\"contnr c0 trm   \" ><div class=\"lbl c0 trm \" ><span class=\"txtu\"><span class=\" is_note\">plaatsBuhlig</span></span></div></div><div class=\"contnr c0 trm   \" ><div class=\"lbl c0 trm \" ><span class=\"txtu\"><span class=\" is_note\">\"</span></span></div></div></div></div><div class=\"contnr c0 trm   \" ><div class=\"lbl c0 trm \" ><span class=\"txtu\"><span class=\" is_note\">.</span></span></div></div><div class=\"contnr c0 trm   \" ><div class=\"lbl c0 trm \" ><span class=\"txtu\"><span class=\" is_note\"><br></span></span></div></div></div></div><div class=\"contnr c2    \" ><div class=\"lbl c2  \" ><span class=\"nd\">note </span></div><div class=\"features\"><span class=\"id xft\" ><span class=\"f\">id=</span>ogt_1_NL</span></div><div class=\"children hor wrap \"><div class=\"contnr c0 trm   \" ><div class=\"lbl c0 trm \" ><span class=\"txtu\"><span class=\" is_note\">​</span></span></div></div></div></div><div class=\"contnr c0 trm   \" ><div class=\"lbl c0 trm \" ><span class=\"txtu\"><br></span></div></div><div class=\"contnr c2    \" ><div class=\"lbl c2  \" ><span class=\"nd\">note </span></div><div class=\"features\"><span class=\"id xft\" ><span class=\"f\">id=</span>Zus_NL</span></div><div class=\"children hor wrap \"><div class=\"contnr c1    \" ><div class=\"lbl c1  \" ><span class=\"nd\">rs </span></div><div class=\"children hor wrap \"><div class=\"contnr c0 trm   \" ><div class=\"lbl c0 trm \" ><span class=\"txtu\"><span class=\" is_note\">Aletta</span></span></div></div></div></div><div class=\"contnr c0 trm   \" ><div class=\"lbl c0 trm \" ><span class=\"txtu\"><span class=\" is_note\"> </span></span></div></div><div class=\"contnr c0 trm   \" ><div class=\"lbl c0 trm \" ><span class=\"txtu\"><span class=\" is_note\">werd </span></span></div></div><div class=\"contnr c0 trm   \" ><div class=\"lbl c0 trm \" ><span class=\"txtu\"><span class=\" is_note\">binnen </span></span></div></div><div class=\"contnr c0 trm   \" ><div class=\"lbl c0 trm \" ><span class=\"txtu\"><span class=\" is_note\">haar </span></span></div></div><div class=\"contnr c0 trm   \" ><div class=\"lbl c0 trm \" ><span class=\"txtu\"><span class=\" is_note\">familie </span></span></div></div><div class=\"contnr c0 trm   \" ><div class=\"lbl c0 trm \" ><span class=\"txtu\"><span class=\" is_note\">aangesproken </span></span></div></div><div class=\"contnr c0 trm   \" ><div class=\"lbl c0 trm \" ><span class=\"txtu\"><span class=\" is_note\">met </span></span></div></div><div class=\"contnr c0 trm   \" ><div class=\"lbl c0 trm \" ><span class=\"txtu\"><span class=\" is_note\">de </span></span></div></div><div class=\"contnr c0 trm   \" ><div class=\"lbl c0 trm \" ><span class=\"txtu\"><span class=\" is_note\">koosnaam </span></span></div></div><div class=\"contnr c0 trm   \" ><div class=\"lbl c0 trm \" ><span class=\"txtu\"><span class=\" is_note\">'</span></span></div></div><div class=\"contnr c0 trm   \" ><div class=\"lbl c0 trm \" ><span class=\"txtu\"><span class=\" is_note\">Zus</span></span></div></div><div class=\"contnr c0 trm   \" ><div class=\"lbl c0 trm \" ><span class=\"txtu\"><span class=\" is_note\">' </span></span></div></div><div class=\"contnr c0 trm   \" ><div class=\"lbl c0 trm \" ><span class=\"txtu\"><span class=\" is_note\">(</span></span></div></div><div class=\"contnr c1    \" ><div class=\"lbl c1  \" ><span class=\"nd\">ref </span></div><div class=\"features\"><span class=\"link_target xft\" ><span class=\"e\" edge=\"link_target\" nd=\"19448\">link_target•</span>\n",
       "<span\n",
       "    ef=\"link_target\"\n",
       "    nd=\"19448\"\n",
       "    md=\"17842\"\n",
       "    arrow=\"right\"\n",
       "    class=\"etf\" \n",
       "><span class=\"etfx\">↦</span></span>\n",
       "</span><span class=\"target xft\" ><span class=\"f\">target=</span>biblio.xml#Heteren2018</span></div><div class=\"children hor wrap \"><div class=\"contnr c0 trm   \" ><div class=\"lbl c0 trm \" ><span class=\"txtu\"><span class=\" is_note\">Heteren </span></span></div></div><div class=\"contnr c0 trm   \" ><div class=\"lbl c0 trm \" ><span class=\"txtu\"><span class=\" is_note\">2018</span></span></div></div></div></div><div class=\"contnr c0 trm   \" ><div class=\"lbl c0 trm \" ><span class=\"txtu\"><span class=\" is_note\">, </span></span></div></div><div class=\"contnr c0 trm   \" ><div class=\"lbl c0 trm \" ><span class=\"txtu\"><span class=\" is_note\">p. </span></span></div></div><div class=\"contnr c0 trm   \" ><div class=\"lbl c0 trm \" ><span class=\"txtu\"><span class=\" is_note\">25</span></span></div></div><div class=\"contnr c0 trm   \" ><div class=\"lbl c0 trm \" ><span class=\"txtu\"><span class=\" is_note\">) </span></span></div></div><div class=\"contnr c0 trm   \" ><div class=\"lbl c0 trm \" ><span class=\"txtu\"><span class=\" is_note\">Mondriaans </span></span></div></div><div class=\"contnr c0 trm   \" ><div class=\"lbl c0 trm \" ><span class=\"txtu\"><span class=\" is_note\">gebruik </span></span></div></div><div class=\"contnr c0 trm   \" ><div class=\"lbl c0 trm \" ><span class=\"txtu\"><span class=\" is_note\">van </span></span></div></div><div class=\"contnr c0 trm   \" ><div class=\"lbl c0 trm \" ><span class=\"txtu\"><span class=\" is_note\">deze </span></span></div></div><div class=\"contnr c0 trm   \" ><div class=\"lbl c0 trm \" ><span class=\"txtu\"><span class=\" is_note\">naam </span></span></div></div><div class=\"contnr c0 trm   \" ><div class=\"lbl c0 trm \" ><span class=\"txtu\"><span class=\" is_note\">geeft </span></span></div></div><div class=\"contnr c0 trm   \" ><div class=\"lbl c0 trm \" ><span class=\"txtu\"><span class=\" is_note\">aan </span></span></div></div><div class=\"contnr c0 trm   \" ><div class=\"lbl c0 trm \" ><span class=\"txtu\"><span class=\" is_note\">dat </span></span></div></div><div class=\"contnr c0 trm   \" ><div class=\"lbl c0 trm \" ><span class=\"txtu\"><span class=\" is_note\">hij </span></span></div></div><div class=\"contnr c0 trm   \" ><div class=\"lbl c0 trm \" ><span class=\"txtu\"><span class=\" is_note\">op </span></span></div></div><div class=\"contnr c0 trm   \" ><div class=\"lbl c0 trm \" ><span class=\"txtu\"><span class=\" is_note\">intieme </span></span></div></div><div class=\"contnr c0 trm   \" ><div class=\"lbl c0 trm \" ><span class=\"txtu\"><span class=\" is_note\">voet </span></span></div></div><div class=\"contnr c0 trm   \" ><div class=\"lbl c0 trm \" ><span class=\"txtu\"><span class=\" is_note\">stond </span></span></div></div><div class=\"contnr c0 trm   \" ><div class=\"lbl c0 trm \" ><span class=\"txtu\"><span class=\" is_note\">met </span></span></div></div><div class=\"contnr c0 trm   \" ><div class=\"lbl c0 trm \" ><span class=\"txtu\"><span class=\" is_note\">De </span></span></div></div><div class=\"contnr c0 trm   \" ><div class=\"lbl c0 trm \" ><span class=\"txtu\"><span class=\" is_note\">Iongh</span></span></div></div><div class=\"contnr c0 trm   \" ><div class=\"lbl c0 trm \" ><span class=\"txtu\"><span class=\" is_note\">.</span></span></div></div><div class=\"contnr c0 trm   \" ><div class=\"lbl c0 trm \" ><span class=\"txtu\"><span class=\" is_note\"><br></span></span></div></div></div></div><div class=\"contnr c2    \" ><div class=\"lbl c2  \" ><span class=\"nd\">note </span></div><div class=\"features\"><span class=\"id xft\" ><span class=\"f\">id=</span>plaatsBuhlig_NL</span></div><div class=\"children hor wrap \"><div class=\"contnr c0 trm   \" ><div class=\"lbl c0 trm \" ><span class=\"txtu\"><span class=\" is_note\">De </span></span></div></div><div class=\"contnr c0 trm   \" ><div class=\"lbl c0 trm \" ><span class=\"txtu\"><span class=\" is_note\">Amerikaanse </span></span></div></div><div class=\"contnr c0 trm   \" ><div class=\"lbl c0 trm \" ><span class=\"txtu\"><span class=\" is_note\">pianist </span></span></div></div><div class=\"contnr c1    \" ><div class=\"lbl c1  \" ><span class=\"nd\">rs </span></div><div class=\"children hor wrap \"><div class=\"contnr c0 trm   \" ><div class=\"lbl c0 trm \" ><span class=\"txtu\"><span class=\" is_note\">Richard </span></span></div></div><div class=\"contnr c0 trm   \" ><div class=\"lbl c0 trm \" ><span class=\"txtu\"><span class=\" is_note\">Moritz </span></span></div></div><div class=\"contnr c0 trm   \" ><div class=\"lbl c0 trm \" ><span class=\"txtu\"><span class=\" is_note\">Buhlig</span></span></div></div></div></div><div class=\"contnr c0 trm   \" ><div class=\"lbl c0 trm \" ><span class=\"txtu\"><span class=\" is_note\"> </span></span></div></div><div class=\"contnr c0 trm   \" ><div class=\"lbl c0 trm \" ><span class=\"txtu\"><span class=\" is_note\">(</span></span></div></div><div class=\"contnr c0 trm   \" ><div class=\"lbl c0 trm \" ><span class=\"txtu\"><span class=\" is_note\">1880</span></span></div></div><div class=\"contnr c0 trm   \" ><div class=\"lbl c0 trm \" ><span class=\"txtu\"><span class=\" is_note\">-</span></span></div></div><div class=\"contnr c0 trm   \" ><div class=\"lbl c0 trm \" ><span class=\"txtu\"><span class=\" is_note\">1952</span></span></div></div><div class=\"contnr c0 trm   \" ><div class=\"lbl c0 trm \" ><span class=\"txtu\"><span class=\" is_note\">) </span></span></div></div><div class=\"contnr c0 trm   \" ><div class=\"lbl c0 trm \" ><span class=\"txtu\"><span class=\" is_note\">gaf </span></span></div></div><div class=\"contnr c0 trm   \" ><div class=\"lbl c0 trm \" ><span class=\"txtu\"><span class=\" is_note\">begin </span></span></div></div><div class=\"contnr c0 trm   \" ><div class=\"lbl c0 trm \" ><span class=\"txtu\"><span class=\" is_note\">1909 </span></span></div></div><div class=\"contnr c0 trm   \" ><div class=\"lbl c0 trm \" ><span class=\"txtu\"><span class=\" is_note\">drie </span></span></div></div><div class=\"contnr c0 trm   \" ><div class=\"lbl c0 trm \" ><span class=\"txtu\"><span class=\" is_note\">concerten </span></span></div></div><div class=\"contnr c0 trm   \" ><div class=\"lbl c0 trm \" ><span class=\"txtu\"><span class=\" is_note\">in </span></span></div></div><div class=\"contnr c0 trm   \" ><div class=\"lbl c0 trm \" ><span class=\"txtu\"><span class=\" is_note\">de </span></span></div></div><div class=\"contnr c0 trm   \" ><div class=\"lbl c0 trm \" ><span class=\"txtu\"><span class=\" is_note\">kleine </span></span></div></div><div class=\"contnr c0 trm   \" ><div class=\"lbl c0 trm \" ><span class=\"txtu\"><span class=\" is_note\">zaal </span></span></div></div><div class=\"contnr c0 trm   \" ><div class=\"lbl c0 trm \" ><span class=\"txtu\"><span class=\" is_note\">van </span></span></div></div><div class=\"contnr c0 trm   \" ><div class=\"lbl c0 trm \" ><span class=\"txtu\"><span class=\" is_note\">het </span></span></div></div><div class=\"contnr c0 trm   \" ><div class=\"lbl c0 trm \" ><span class=\"txtu\"><span class=\" is_note\">Concertgebouw</span></span></div></div><div class=\"contnr c0 trm   \" ><div class=\"lbl c0 trm \" ><span class=\"txtu\"><span class=\" is_note\">, </span></span></div></div><div class=\"contnr c0 trm   \" ><div class=\"lbl c0 trm \" ><span class=\"txtu\"><span class=\" is_note\">op </span></span></div></div><div class=\"contnr c0 trm   \" ><div class=\"lbl c0 trm \" ><span class=\"txtu\"><span class=\" is_note\">woensdag </span></span></div></div><div class=\"contnr c0 trm   \" ><div class=\"lbl c0 trm \" ><span class=\"txtu\"><span class=\" is_note\">17 </span></span></div></div><div class=\"contnr c0 trm   \" ><div class=\"lbl c0 trm \" ><span class=\"txtu\"><span class=\" is_note\">februari</span></span></div></div><div class=\"contnr c0 trm   \" ><div class=\"lbl c0 trm \" ><span class=\"txtu\"><span class=\" is_note\">, </span></span></div></div><div class=\"contnr c0 trm   \" ><div class=\"lbl c0 trm \" ><span class=\"txtu\"><span class=\" is_note\">woensdag </span></span></div></div><div class=\"contnr c0 trm   \" ><div class=\"lbl c0 trm \" ><span class=\"txtu\"><span class=\" is_note\">3 </span></span></div></div><div class=\"contnr c0 trm   \" ><div class=\"lbl c0 trm \" ><span class=\"txtu\"><span class=\" is_note\">maart </span></span></div></div><div class=\"contnr c0 trm   \" ><div class=\"lbl c0 trm \" ><span class=\"txtu\"><span class=\" is_note\">en </span></span></div></div><div class=\"contnr c0 trm   \" ><div class=\"lbl c0 trm \" ><span class=\"txtu\"><span class=\" is_note\">woensdag </span></span></div></div><div class=\"contnr c0 trm   \" ><div class=\"lbl c0 trm \" ><span class=\"txtu\"><span class=\" is_note\">10 </span></span></div></div><div class=\"contnr c0 trm   \" ><div class=\"lbl c0 trm \" ><span class=\"txtu\"><span class=\" is_note\">maart</span></span></div></div><div class=\"contnr c0 trm   \" ><div class=\"lbl c0 trm \" ><span class=\"txtu\"><span class=\" is_note\">. </span></span></div></div><div class=\"contnr c0 trm   \" ><div class=\"lbl c0 trm \" ><span class=\"txtu\"><span class=\" is_note\">Het </span></span></div></div><div class=\"contnr c0 trm   \" ><div class=\"lbl c0 trm \" ><span class=\"txtu\"><span class=\" is_note\">is </span></span></div></div><div class=\"contnr c0 trm   \" ><div class=\"lbl c0 trm \" ><span class=\"txtu\"><span class=\" is_note\">niet </span></span></div></div><div class=\"contnr c0 trm   \" ><div class=\"lbl c0 trm \" ><span class=\"txtu\"><span class=\" is_note\">bekend </span></span></div></div><div class=\"contnr c0 trm   \" ><div class=\"lbl c0 trm \" ><span class=\"txtu\"><span class=\" is_note\">voor </span></span></div></div><div class=\"contnr c0 trm   \" ><div class=\"lbl c0 trm \" ><span class=\"txtu\"><span class=\" is_note\">welke </span></span></div></div><div class=\"contnr c0 trm   \" ><div class=\"lbl c0 trm \" ><span class=\"txtu\"><span class=\" is_note\">van </span></span></div></div><div class=\"contnr c0 trm   \" ><div class=\"lbl c0 trm \" ><span class=\"txtu\"><span class=\" is_note\">deze </span></span></div></div><div class=\"contnr c0 trm   \" ><div class=\"lbl c0 trm \" ><span class=\"txtu\"><span class=\" is_note\">concerten </span></span></div></div><div class=\"contnr c0 trm   \" ><div class=\"lbl c0 trm \" ><span class=\"txtu\"><span class=\" is_note\">Mondriaan </span></span></div></div><div class=\"contnr c0 trm   \" ><div class=\"lbl c0 trm \" ><span class=\"txtu\"><span class=\" is_note\">kaarten </span></span></div></div><div class=\"contnr c0 trm   \" ><div class=\"lbl c0 trm \" ><span class=\"txtu\"><span class=\" is_note\">had</span></span></div></div><div class=\"contnr c0 trm   \" ><div class=\"lbl c0 trm \" ><span class=\"txtu\"><span class=\" is_note\">.</span></span></div></div><div class=\"contnr c0 trm   \" ><div class=\"lbl c0 trm \" ><span class=\"txtu\"><span class=\" is_note\"><br></span></span></div></div></div></div><div class=\"contnr c2    \" ><div class=\"lbl c2  \" ><span class=\"nd\">note </span></div><div class=\"features\"><span class=\"id xft\" ><span class=\"f\">id=</span>n_transcrSource</span></div><div class=\"children hor wrap \"><div class=\"contnr c0 trm   \" ><div class=\"lbl c0 trm \" ><span class=\"txtu\"><span class=\" is_note\">*</span></span></div></div><div class=\"contnr c0 trm   \" ><div class=\"lbl c0 trm \" ><span class=\"txtu\"><span class=\" is_note\">*</span></span></div></div><div class=\"contnr c0 trm   \" ><div class=\"lbl c0 trm \" ><span class=\"txtu\"><span class=\" is_note\">SUBSTITUTE </span></span></div></div><div class=\"contnr c0 trm   \" ><div class=\"lbl c0 trm \" ><span class=\"txtu\"><span class=\" is_note\">FOR </span></span></div></div><div class=\"contnr c0 trm   \" ><div class=\"lbl c0 trm \" ><span class=\"txtu\"><span class=\" is_note\">ENGLISH</span></span></div></div><div class=\"contnr c0 trm   \" ><div class=\"lbl c0 trm \" ><span class=\"txtu\"><span class=\" is_note\">*</span></span></div></div><div class=\"contnr c0 trm   \" ><div class=\"lbl c0 trm \" ><span class=\"txtu\"><span class=\" is_note\">* </span></span></div></div><div class=\"contnr c0 trm   \" ><div class=\"lbl c0 trm \" ><span class=\"txtu\"><span class=\" is_note\">Manuscript</span></span></div></div><div class=\"contnr c0 trm   \" ><div class=\"lbl c0 trm \" ><span class=\"txtu\"><span class=\" is_note\">.</span></span></div></div><div class=\"contnr c0 trm   \" ><div class=\"lbl c0 trm \" ><span class=\"txtu\"><span class=\" is_note\"><br></span></span></div></div></div></div><div class=\"contnr c2    \" ><div class=\"lbl c2  \" ><span class=\"nd\">note </span></div><div class=\"features\"><span class=\"id xft\" ><span class=\"f\">id=</span>n_dating</span></div><div class=\"children hor wrap \"><div class=\"contnr c0 trm   \" ><div class=\"lbl c0 trm \" ><span class=\"txtu\"><span class=\" is_note\">*</span></span></div></div><div class=\"contnr c0 trm   \" ><div class=\"lbl c0 trm \" ><span class=\"txtu\"><span class=\" is_note\">*</span></span></div></div><div class=\"contnr c0 trm   \" ><div class=\"lbl c0 trm \" ><span class=\"txtu\"><span class=\" is_note\">SUBSTITUTE </span></span></div></div><div class=\"contnr c0 trm   \" ><div class=\"lbl c0 trm \" ><span class=\"txtu\"><span class=\" is_note\">FOR </span></span></div></div><div class=\"contnr c0 trm   \" ><div class=\"lbl c0 trm \" ><span class=\"txtu\"><span class=\" is_note\">ENGLISH</span></span></div></div><div class=\"contnr c0 trm   \" ><div class=\"lbl c0 trm \" ><span class=\"txtu\"><span class=\" is_note\">*</span></span></div></div><div class=\"contnr c0 trm   \" ><div class=\"lbl c0 trm \" ><span class=\"txtu\"><span class=\" is_note\">* </span></span></div></div><div class=\"contnr c0 trm   \" ><div class=\"lbl c0 trm \" ><span class=\"txtu\"><span class=\" is_note\">De </span></span></div></div><div class=\"contnr c0 trm   \" ><div class=\"lbl c0 trm \" ><span class=\"txtu\"><span class=\" is_note\">brief </span></span></div></div><div class=\"contnr c0 trm   \" ><div class=\"lbl c0 trm \" ><span class=\"txtu\"><span class=\" is_note\">is </span></span></div></div><div class=\"contnr c0 trm   \" ><div class=\"lbl c0 trm \" ><span class=\"txtu\"><span class=\" is_note\">geschreven </span></span></div></div><div class=\"contnr c0 trm   \" ><div class=\"lbl c0 trm \" ><span class=\"txtu\"><span class=\" is_note\">op </span></span></div></div><div class=\"contnr c0 trm   \" ><div class=\"lbl c0 trm \" ><span class=\"txtu\"><span class=\" is_note\">een </span></span></div></div><div class=\"contnr c0 trm   \" ><div class=\"lbl c0 trm \" ><span class=\"txtu\"><span class=\" is_note\">dinsdag </span></span></div></div><div class=\"contnr c0 trm   \" ><div class=\"lbl c0 trm \" ><span class=\"txtu\"><span class=\" is_note\">voorafgaand </span></span></div></div><div class=\"contnr c0 trm   \" ><div class=\"lbl c0 trm \" ><span class=\"txtu\"><span class=\" is_note\">aan </span></span></div></div><div class=\"contnr c0 trm   \" ><div class=\"lbl c0 trm \" ><span class=\"txtu\"><span class=\" is_note\">een </span></span></div></div><div class=\"contnr c0 trm   \" ><div class=\"lbl c0 trm \" ><span class=\"txtu\"><span class=\" is_note\">van </span></span></div></div><div class=\"contnr c0 trm   \" ><div class=\"lbl c0 trm \" ><span class=\"txtu\"><span class=\" is_note\">de </span></span></div></div><div class=\"contnr c0 trm   \" ><div class=\"lbl c0 trm \" ><span class=\"txtu\"><span class=\" is_note\">drie </span></span></div></div><div class=\"contnr c0 trm   \" ><div class=\"lbl c0 trm \" ><span class=\"txtu\"><span class=\" is_note\">woensdagen </span></span></div></div><div class=\"contnr c0 trm   \" ><div class=\"lbl c0 trm \" ><span class=\"txtu\"><span class=\" is_note\">waarop </span></span></div></div><div class=\"contnr c1    \" ><div class=\"lbl c1  \" ><span class=\"nd\">rs </span></div><div class=\"children hor wrap \"><div class=\"contnr c0 trm   \" ><div class=\"lbl c0 trm \" ><span class=\"txtu\"><span class=\" is_note\">Richard </span></span></div></div><div class=\"contnr c0 trm   \" ><div class=\"lbl c0 trm \" ><span class=\"txtu\"><span class=\" is_note\">Buhlig</span></span></div></div></div></div><div class=\"contnr c0 trm   \" ><div class=\"lbl c0 trm \" ><span class=\"txtu\"><span class=\" is_note\"> </span></span></div></div><div class=\"contnr c0 trm   \" ><div class=\"lbl c0 trm \" ><span class=\"txtu\"><span class=\" is_note\">in </span></span></div></div><div class=\"contnr c0 trm   \" ><div class=\"lbl c0 trm \" ><span class=\"txtu\"><span class=\" is_note\">1909 </span></span></div></div><div class=\"contnr c0 trm   \" ><div class=\"lbl c0 trm \" ><span class=\"txtu\"><span class=\" is_note\">in </span></span></div></div><div class=\"contnr c0 trm   \" ><div class=\"lbl c0 trm \" ><span class=\"txtu\"><span class=\" is_note\">de </span></span></div></div><div class=\"contnr c0 trm   \" ><div class=\"lbl c0 trm \" ><span class=\"txtu\"><span class=\" is_note\">kleine </span></span></div></div><div class=\"contnr c0 trm   \" ><div class=\"lbl c0 trm \" ><span class=\"txtu\"><span class=\" is_note\">zaal </span></span></div></div><div class=\"contnr c0 trm   \" ><div class=\"lbl c0 trm \" ><span class=\"txtu\"><span class=\" is_note\">van </span></span></div></div><div class=\"contnr c0 trm   \" ><div class=\"lbl c0 trm \" ><span class=\"txtu\"><span class=\" is_note\">het </span></span></div></div><div class=\"contnr c0 trm   \" ><div class=\"lbl c0 trm \" ><span class=\"txtu\"><span class=\" is_note\">Concertgebouw </span></span></div></div><div class=\"contnr c0 trm   \" ><div class=\"lbl c0 trm \" ><span class=\"txtu\"><span class=\" is_note\">een </span></span></div></div><div class=\"contnr c0 trm   \" ><div class=\"lbl c0 trm \" ><span class=\"txtu\"><span class=\" is_note\">concert </span></span></div></div><div class=\"contnr c0 trm   \" ><div class=\"lbl c0 trm \" ><span class=\"txtu\"><span class=\" is_note\">zou </span></span></div></div><div class=\"contnr c0 trm   \" ><div class=\"lbl c0 trm \" ><span class=\"txtu\"><span class=\" is_note\">geven</span></span></div></div><div class=\"contnr c0 trm   \" ><div class=\"lbl c0 trm \" ><span class=\"txtu\"><span class=\" is_note\">: </span></span></div></div><div class=\"contnr c0 trm   \" ><div class=\"lbl c0 trm \" ><span class=\"txtu\"><span class=\" is_note\">17 </span></span></div></div><div class=\"contnr c0 trm   \" ><div class=\"lbl c0 trm \" ><span class=\"txtu\"><span class=\" is_note\">februari</span></span></div></div><div class=\"contnr c0 trm   \" ><div class=\"lbl c0 trm \" ><span class=\"txtu\"><span class=\" is_note\">, </span></span></div></div><div class=\"contnr c0 trm   \" ><div class=\"lbl c0 trm \" ><span class=\"txtu\"><span class=\" is_note\">3 </span></span></div></div><div class=\"contnr c0 trm   \" ><div class=\"lbl c0 trm \" ><span class=\"txtu\"><span class=\" is_note\">maart </span></span></div></div><div class=\"contnr c0 trm   \" ><div class=\"lbl c0 trm \" ><span class=\"txtu\"><span class=\" is_note\">en </span></span></div></div><div class=\"contnr c0 trm   \" ><div class=\"lbl c0 trm \" ><span class=\"txtu\"><span class=\" is_note\">10 </span></span></div></div><div class=\"contnr c0 trm   \" ><div class=\"lbl c0 trm \" ><span class=\"txtu\"><span class=\" is_note\">maart</span></span></div></div><div class=\"contnr c0 trm   \" ><div class=\"lbl c0 trm \" ><span class=\"txtu\"><span class=\" is_note\">. </span></span></div></div><div class=\"contnr c0 trm   \" ><div class=\"lbl c0 trm \" ><span class=\"txtu\"><span class=\" is_note\">Zie </span></span></div></div><div class=\"contnr c0 trm   \" ><div class=\"lbl c0 trm \" ><span class=\"txtu\"><span class=\" is_note\">tevens </span></span></div></div><div class=\"contnr c1    \" ><div class=\"lbl c1  \" ><span class=\"nd\">ref </span></div><div class=\"features\"><span class=\"link_target xft\" ><span class=\"e\" edge=\"link_target\" nd=\"19449\">link_target•</span>\n",
       "<span\n",
       "    ef=\"link_target\"\n",
       "    nd=\"19449\"\n",
       "    md=\"18992\"\n",
       "    arrow=\"right\"\n",
       "    class=\"etf\" \n",
       "><span class=\"etfx\">↦</span></span>\n",
       "</span><span class=\"target xft\" ><span class=\"f\">target=</span>#plaatsBuhlig</span></div><div class=\"children hor wrap \"><div class=\"contnr c0 trm   \" ><div class=\"lbl c0 trm \" ><span class=\"txtu\"><span class=\" is_note\">n. </span></span></div></div><div class=\"contnr c0 trm   \" ><div class=\"lbl c0 trm \" ><span class=\"txtu\"><span class=\" is_note\">\"</span></span></div></div><div class=\"contnr c0 trm   \" ><div class=\"lbl c0 trm \" ><span class=\"txtu\"><span class=\" is_note\">plaatsBuhlig</span></span></div></div><div class=\"contnr c0 trm   \" ><div class=\"lbl c0 trm \" ><span class=\"txtu\"><span class=\" is_note\">\"</span></span></div></div></div></div><div class=\"contnr c0 trm   \" ><div class=\"lbl c0 trm \" ><span class=\"txtu\"><span class=\" is_note\">.</span></span></div></div><div class=\"contnr c0 trm   \" ><div class=\"lbl c0 trm \" ><span class=\"txtu\"><span class=\" is_note\"><br></span></span></div></div></div></div><div class=\"contnr c2    \" ><div class=\"lbl c2  \" ><span class=\"nd\">note </span></div><div class=\"features\"><span class=\"id xft\" ><span class=\"f\">id=</span>ogt_1</span></div><div class=\"children hor wrap \"><div class=\"contnr c0 trm   \" ><div class=\"lbl c0 trm \" ><span class=\"txtu\"><span class=\" is_note\">​</span></span></div></div></div></div><div class=\"contnr c0 trm   \" ><div class=\"lbl c0 trm \" ><span class=\"txtu\"><br></span></div></div><div class=\"contnr c2    \" ><div class=\"lbl c2  \" ><span class=\"nd\">note </span></div><div class=\"features\"><span class=\"id xft\" ><span class=\"f\">id=</span>Zus</span><span class=\"link_target xft\" ><span class=\"e\" edge=\"link_target\" nd=\"18991\">link_target•</span>\n",
       "<span\n",
       "    ef=\"link_target\"\n",
       "    nd=\"18991\"\n",
       "    md=\"19349\"\n",
       "    arrow=\"left\"\n",
       "    class=\"etf\" \n",
       "><span class=\"etfx\">⇥</span></span>\n",
       " \n",
       "<span\n",
       "    ef=\"link_target\"\n",
       "    nd=\"18991\"\n",
       "    md=\"19351\"\n",
       "    arrow=\"left\"\n",
       "    class=\"etf\" \n",
       "><span class=\"etfx\">⇥</span></span>\n",
       " \n",
       "<span\n",
       "    ef=\"link_target\"\n",
       "    nd=\"18991\"\n",
       "    md=\"19352\"\n",
       "    arrow=\"left\"\n",
       "    class=\"etf\" \n",
       "><span class=\"etfx\">⇥</span></span>\n",
       "</span></div><div class=\"children hor wrap \"><div class=\"contnr c0 trm   \" ><div class=\"lbl c0 trm \" ><span class=\"txtu\"><span class=\" is_note\">*</span></span></div></div><div class=\"contnr c0 trm   \" ><div class=\"lbl c0 trm \" ><span class=\"txtu\"><span class=\" is_note\">*</span></span></div></div><div class=\"contnr c0 trm   \" ><div class=\"lbl c0 trm \" ><span class=\"txtu\"><span class=\" is_note\">SUBSTITUTE </span></span></div></div><div class=\"contnr c0 trm   \" ><div class=\"lbl c0 trm \" ><span class=\"txtu\"><span class=\" is_note\">FOR </span></span></div></div><div class=\"contnr c0 trm   \" ><div class=\"lbl c0 trm \" ><span class=\"txtu\"><span class=\" is_note\">ENGLISH</span></span></div></div><div class=\"contnr c0 trm   \" ><div class=\"lbl c0 trm \" ><span class=\"txtu\"><span class=\" is_note\">*</span></span></div></div><div class=\"contnr c0 trm   \" ><div class=\"lbl c0 trm \" ><span class=\"txtu\"><span class=\" is_note\">* </span></span></div></div><div class=\"contnr c1    \" ><div class=\"lbl c1  \" ><span class=\"nd\">rs </span></div><div class=\"children hor wrap \"><div class=\"contnr c0 trm   \" ><div class=\"lbl c0 trm \" ><span class=\"txtu\"><span class=\" is_note\">Aletta</span></span></div></div></div></div><div class=\"contnr c0 trm   \" ><div class=\"lbl c0 trm \" ><span class=\"txtu\"><span class=\" is_note\"> </span></span></div></div><div class=\"contnr c0 trm   \" ><div class=\"lbl c0 trm \" ><span class=\"txtu\"><span class=\" is_note\">werd </span></span></div></div><div class=\"contnr c0 trm   \" ><div class=\"lbl c0 trm \" ><span class=\"txtu\"><span class=\" is_note\">binnen </span></span></div></div><div class=\"contnr c0 trm   \" ><div class=\"lbl c0 trm \" ><span class=\"txtu\"><span class=\" is_note\">haar </span></span></div></div><div class=\"contnr c0 trm   \" ><div class=\"lbl c0 trm \" ><span class=\"txtu\"><span class=\" is_note\">familie </span></span></div></div><div class=\"contnr c0 trm   \" ><div class=\"lbl c0 trm \" ><span class=\"txtu\"><span class=\" is_note\">aangesproken </span></span></div></div><div class=\"contnr c0 trm   \" ><div class=\"lbl c0 trm \" ><span class=\"txtu\"><span class=\" is_note\">met </span></span></div></div><div class=\"contnr c0 trm   \" ><div class=\"lbl c0 trm \" ><span class=\"txtu\"><span class=\" is_note\">de </span></span></div></div><div class=\"contnr c0 trm   \" ><div class=\"lbl c0 trm \" ><span class=\"txtu\"><span class=\" is_note\">koosnaam </span></span></div></div><div class=\"contnr c0 trm   \" ><div class=\"lbl c0 trm \" ><span class=\"txtu\"><span class=\" is_note\">'</span></span></div></div><div class=\"contnr c0 trm   \" ><div class=\"lbl c0 trm \" ><span class=\"txtu\"><span class=\" is_note\">Zus</span></span></div></div><div class=\"contnr c0 trm   \" ><div class=\"lbl c0 trm \" ><span class=\"txtu\"><span class=\" is_note\">' </span></span></div></div><div class=\"contnr c0 trm   \" ><div class=\"lbl c0 trm \" ><span class=\"txtu\"><span class=\" is_note\">(</span></span></div></div><div class=\"contnr c1    \" ><div class=\"lbl c1  \" ><span class=\"nd\">ref </span></div><div class=\"features\"><span class=\"link_target xft\" ><span class=\"e\" edge=\"link_target\" nd=\"19450\">link_target•</span>\n",
       "<span\n",
       "    ef=\"link_target\"\n",
       "    nd=\"19450\"\n",
       "    md=\"17842\"\n",
       "    arrow=\"right\"\n",
       "    class=\"etf\" \n",
       "><span class=\"etfx\">↦</span></span>\n",
       "</span><span class=\"target xft\" ><span class=\"f\">target=</span>biblio.xml#Heteren2018</span></div><div class=\"children hor wrap \"><div class=\"contnr c0 trm   \" ><div class=\"lbl c0 trm \" ><span class=\"txtu\"><span class=\" is_note\">Heteren </span></span></div></div><div class=\"contnr c0 trm   \" ><div class=\"lbl c0 trm \" ><span class=\"txtu\"><span class=\" is_note\">2018</span></span></div></div></div></div><div class=\"contnr c0 trm   \" ><div class=\"lbl c0 trm \" ><span class=\"txtu\"><span class=\" is_note\">, </span></span></div></div><div class=\"contnr c0 trm   \" ><div class=\"lbl c0 trm \" ><span class=\"txtu\"><span class=\" is_note\">p. </span></span></div></div><div class=\"contnr c0 trm   \" ><div class=\"lbl c0 trm \" ><span class=\"txtu\"><span class=\" is_note\">25</span></span></div></div><div class=\"contnr c0 trm   \" ><div class=\"lbl c0 trm \" ><span class=\"txtu\"><span class=\" is_note\">) </span></span></div></div><div class=\"contnr c0 trm   \" ><div class=\"lbl c0 trm \" ><span class=\"txtu\"><span class=\" is_note\">Mondriaans </span></span></div></div><div class=\"contnr c0 trm   \" ><div class=\"lbl c0 trm \" ><span class=\"txtu\"><span class=\" is_note\">gebruik </span></span></div></div><div class=\"contnr c0 trm   \" ><div class=\"lbl c0 trm \" ><span class=\"txtu\"><span class=\" is_note\">van </span></span></div></div><div class=\"contnr c0 trm   \" ><div class=\"lbl c0 trm \" ><span class=\"txtu\"><span class=\" is_note\">deze </span></span></div></div><div class=\"contnr c0 trm   \" ><div class=\"lbl c0 trm \" ><span class=\"txtu\"><span class=\" is_note\">naam </span></span></div></div><div class=\"contnr c0 trm   \" ><div class=\"lbl c0 trm \" ><span class=\"txtu\"><span class=\" is_note\">geeft </span></span></div></div><div class=\"contnr c0 trm   \" ><div class=\"lbl c0 trm \" ><span class=\"txtu\"><span class=\" is_note\">aan </span></span></div></div><div class=\"contnr c0 trm   \" ><div class=\"lbl c0 trm \" ><span class=\"txtu\"><span class=\" is_note\">dat </span></span></div></div><div class=\"contnr c0 trm   \" ><div class=\"lbl c0 trm \" ><span class=\"txtu\"><span class=\" is_note\">hij </span></span></div></div><div class=\"contnr c0 trm   \" ><div class=\"lbl c0 trm \" ><span class=\"txtu\"><span class=\" is_note\">op </span></span></div></div><div class=\"contnr c0 trm   \" ><div class=\"lbl c0 trm \" ><span class=\"txtu\"><span class=\" is_note\">intieme </span></span></div></div><div class=\"contnr c0 trm   \" ><div class=\"lbl c0 trm \" ><span class=\"txtu\"><span class=\" is_note\">voet </span></span></div></div><div class=\"contnr c0 trm   \" ><div class=\"lbl c0 trm \" ><span class=\"txtu\"><span class=\" is_note\">stond </span></span></div></div><div class=\"contnr c0 trm   \" ><div class=\"lbl c0 trm \" ><span class=\"txtu\"><span class=\" is_note\">met </span></span></div></div><div class=\"contnr c0 trm   \" ><div class=\"lbl c0 trm \" ><span class=\"txtu\"><span class=\" is_note\">De </span></span></div></div><div class=\"contnr c0 trm   \" ><div class=\"lbl c0 trm \" ><span class=\"txtu\"><span class=\" is_note\">Iongh</span></span></div></div><div class=\"contnr c0 trm   \" ><div class=\"lbl c0 trm \" ><span class=\"txtu\"><span class=\" is_note\">.</span></span></div></div><div class=\"contnr c0 trm   \" ><div class=\"lbl c0 trm \" ><span class=\"txtu\"><span class=\" is_note\"><br></span></span></div></div></div></div><div class=\"contnr c2    hl\"  style=\"background-color: lightgreen;\" ><div class=\"lbl c2  hl\"  style=\"background-color: lightgreen;\" ><span class=\"nd\">note </span></div><div class=\"features\"><span class=\"id xft\" ><span class=\"f\">id=</span>plaatsBuhlig</span><span class=\"link_target xft\" ><span class=\"e\" edge=\"link_target\" nd=\"18992\">link_target•</span>\n",
       "<span\n",
       "    ef=\"link_target\"\n",
       "    nd=\"18992\"\n",
       "    md=\"19350\"\n",
       "    arrow=\"left\"\n",
       "    class=\"etf\" \n",
       "><span class=\"etfx\">⇥</span></span>\n",
       " \n",
       "<span\n",
       "    ef=\"link_target\"\n",
       "    nd=\"18992\"\n",
       "    md=\"19353\"\n",
       "    arrow=\"left\"\n",
       "    class=\"etf\" \n",
       "><span class=\"etfx\">⇥</span></span>\n",
       " \n",
       "<span\n",
       "    ef=\"link_target\"\n",
       "    nd=\"18992\"\n",
       "    md=\"19447\"\n",
       "    arrow=\"left\"\n",
       "    class=\"etf\" \n",
       "><span class=\"etfx\">⇥</span></span>\n",
       " \n",
       "<span\n",
       "    ef=\"link_target\"\n",
       "    nd=\"18992\"\n",
       "    md=\"19449\"\n",
       "    arrow=\"left\"\n",
       "    class=\"etf\" \n",
       "><span class=\"etfx\">⇥</span></span>\n",
       "</span></div><div class=\"children hor wrap \"><div class=\"contnr c0 trm   \" ><div class=\"lbl c0 trm \" ><span class=\"txtu\"><span class=\" is_note\">*</span></span></div></div><div class=\"contnr c0 trm   \" ><div class=\"lbl c0 trm \" ><span class=\"txtu\"><span class=\" is_note\">*</span></span></div></div><div class=\"contnr c0 trm   \" ><div class=\"lbl c0 trm \" ><span class=\"txtu\"><span class=\" is_note\">SUBSTITUTE </span></span></div></div><div class=\"contnr c0 trm   \" ><div class=\"lbl c0 trm \" ><span class=\"txtu\"><span class=\" is_note\">FOR </span></span></div></div><div class=\"contnr c0 trm   \" ><div class=\"lbl c0 trm \" ><span class=\"txtu\"><span class=\" is_note\">ENGLISH</span></span></div></div><div class=\"contnr c0 trm   \" ><div class=\"lbl c0 trm \" ><span class=\"txtu\"><span class=\" is_note\">*</span></span></div></div><div class=\"contnr c0 trm   \" ><div class=\"lbl c0 trm \" ><span class=\"txtu\"><span class=\" is_note\">* </span></span></div></div><div class=\"contnr c0 trm   \" ><div class=\"lbl c0 trm \" ><span class=\"txtu\"><span class=\" is_note\">De </span></span></div></div><div class=\"contnr c0 trm   \" ><div class=\"lbl c0 trm \" ><span class=\"txtu\"><span class=\" is_note\">Amerikaanse </span></span></div></div><div class=\"contnr c0 trm   \" ><div class=\"lbl c0 trm \" ><span class=\"txtu\"><span class=\" is_note\">pianist </span></span></div></div><div class=\"contnr c1    \" ><div class=\"lbl c1  \" ><span class=\"nd\">rs </span></div><div class=\"children hor wrap \"><div class=\"contnr c0 trm   \" ><div class=\"lbl c0 trm \" ><span class=\"txtu\"><span class=\" is_note\">Richard </span></span></div></div><div class=\"contnr c0 trm   \" ><div class=\"lbl c0 trm \" ><span class=\"txtu\"><span class=\" is_note\">Moritz </span></span></div></div><div class=\"contnr c0 trm   \" ><div class=\"lbl c0 trm \" ><span class=\"txtu\"><span class=\" is_note\">Buhlig</span></span></div></div></div></div><div class=\"contnr c0 trm   \" ><div class=\"lbl c0 trm \" ><span class=\"txtu\"><span class=\" is_note\"> </span></span></div></div><div class=\"contnr c0 trm   \" ><div class=\"lbl c0 trm \" ><span class=\"txtu\"><span class=\" is_note\">(</span></span></div></div><div class=\"contnr c0 trm   \" ><div class=\"lbl c0 trm \" ><span class=\"txtu\"><span class=\" is_note\">1880</span></span></div></div><div class=\"contnr c0 trm   \" ><div class=\"lbl c0 trm \" ><span class=\"txtu\"><span class=\" is_note\">-</span></span></div></div><div class=\"contnr c0 trm   \" ><div class=\"lbl c0 trm \" ><span class=\"txtu\"><span class=\" is_note\">1952</span></span></div></div><div class=\"contnr c0 trm   \" ><div class=\"lbl c0 trm \" ><span class=\"txtu\"><span class=\" is_note\">) </span></span></div></div><div class=\"contnr c0 trm   \" ><div class=\"lbl c0 trm \" ><span class=\"txtu\"><span class=\" is_note\">gaf </span></span></div></div><div class=\"contnr c0 trm   \" ><div class=\"lbl c0 trm \" ><span class=\"txtu\"><span class=\" is_note\">begin </span></span></div></div><div class=\"contnr c0 trm   \" ><div class=\"lbl c0 trm \" ><span class=\"txtu\"><span class=\" is_note\">1909 </span></span></div></div><div class=\"contnr c0 trm   \" ><div class=\"lbl c0 trm \" ><span class=\"txtu\"><span class=\" is_note\">drie </span></span></div></div><div class=\"contnr c0 trm   \" ><div class=\"lbl c0 trm \" ><span class=\"txtu\"><span class=\" is_note\">concerten </span></span></div></div><div class=\"contnr c0 trm   \" ><div class=\"lbl c0 trm \" ><span class=\"txtu\"><span class=\" is_note\">in </span></span></div></div><div class=\"contnr c0 trm   \" ><div class=\"lbl c0 trm \" ><span class=\"txtu\"><span class=\" is_note\">de </span></span></div></div><div class=\"contnr c0 trm   \" ><div class=\"lbl c0 trm \" ><span class=\"txtu\"><span class=\" is_note\">kleine </span></span></div></div><div class=\"contnr c0 trm   \" ><div class=\"lbl c0 trm \" ><span class=\"txtu\"><span class=\" is_note\">zaal </span></span></div></div><div class=\"contnr c0 trm   \" ><div class=\"lbl c0 trm \" ><span class=\"txtu\"><span class=\" is_note\">van </span></span></div></div><div class=\"contnr c0 trm   \" ><div class=\"lbl c0 trm \" ><span class=\"txtu\"><span class=\" is_note\">het </span></span></div></div><div class=\"contnr c0 trm   \" ><div class=\"lbl c0 trm \" ><span class=\"txtu\"><span class=\" is_note\">Concertgebouw</span></span></div></div><div class=\"contnr c0 trm   \" ><div class=\"lbl c0 trm \" ><span class=\"txtu\"><span class=\" is_note\">, </span></span></div></div><div class=\"contnr c0 trm   \" ><div class=\"lbl c0 trm \" ><span class=\"txtu\"><span class=\" is_note\">op </span></span></div></div><div class=\"contnr c0 trm   \" ><div class=\"lbl c0 trm \" ><span class=\"txtu\"><span class=\" is_note\">woensdag </span></span></div></div><div class=\"contnr c0 trm   \" ><div class=\"lbl c0 trm \" ><span class=\"txtu\"><span class=\" is_note\">17 </span></span></div></div><div class=\"contnr c0 trm   \" ><div class=\"lbl c0 trm \" ><span class=\"txtu\"><span class=\" is_note\">februari</span></span></div></div><div class=\"contnr c0 trm   \" ><div class=\"lbl c0 trm \" ><span class=\"txtu\"><span class=\" is_note\">, </span></span></div></div><div class=\"contnr c0 trm   \" ><div class=\"lbl c0 trm \" ><span class=\"txtu\"><span class=\" is_note\">woensdag </span></span></div></div><div class=\"contnr c0 trm   \" ><div class=\"lbl c0 trm \" ><span class=\"txtu\"><span class=\" is_note\">3 </span></span></div></div><div class=\"contnr c0 trm   \" ><div class=\"lbl c0 trm \" ><span class=\"txtu\"><span class=\" is_note\">maart </span></span></div></div><div class=\"contnr c0 trm   \" ><div class=\"lbl c0 trm \" ><span class=\"txtu\"><span class=\" is_note\">en </span></span></div></div><div class=\"contnr c0 trm   \" ><div class=\"lbl c0 trm \" ><span class=\"txtu\"><span class=\" is_note\">woensdag </span></span></div></div><div class=\"contnr c0 trm   \" ><div class=\"lbl c0 trm \" ><span class=\"txtu\"><span class=\" is_note\">10 </span></span></div></div><div class=\"contnr c0 trm   \" ><div class=\"lbl c0 trm \" ><span class=\"txtu\"><span class=\" is_note\">maart</span></span></div></div><div class=\"contnr c0 trm   \" ><div class=\"lbl c0 trm \" ><span class=\"txtu\"><span class=\" is_note\">. </span></span></div></div><div class=\"contnr c0 trm   \" ><div class=\"lbl c0 trm \" ><span class=\"txtu\"><span class=\" is_note\">Het </span></span></div></div><div class=\"contnr c0 trm   \" ><div class=\"lbl c0 trm \" ><span class=\"txtu\"><span class=\" is_note\">is </span></span></div></div><div class=\"contnr c0 trm   \" ><div class=\"lbl c0 trm \" ><span class=\"txtu\"><span class=\" is_note\">niet </span></span></div></div><div class=\"contnr c0 trm   \" ><div class=\"lbl c0 trm \" ><span class=\"txtu\"><span class=\" is_note\">bekend </span></span></div></div><div class=\"contnr c0 trm   \" ><div class=\"lbl c0 trm \" ><span class=\"txtu\"><span class=\" is_note\">voor </span></span></div></div><div class=\"contnr c0 trm   \" ><div class=\"lbl c0 trm \" ><span class=\"txtu\"><span class=\" is_note\">welke </span></span></div></div><div class=\"contnr c0 trm   \" ><div class=\"lbl c0 trm \" ><span class=\"txtu\"><span class=\" is_note\">van </span></span></div></div><div class=\"contnr c0 trm   \" ><div class=\"lbl c0 trm \" ><span class=\"txtu\"><span class=\" is_note\">deze </span></span></div></div><div class=\"contnr c0 trm   \" ><div class=\"lbl c0 trm \" ><span class=\"txtu\"><span class=\" is_note\">concerten </span></span></div></div><div class=\"contnr c0 trm   \" ><div class=\"lbl c0 trm \" ><span class=\"txtu\"><span class=\" is_note\">Mondriaan </span></span></div></div><div class=\"contnr c0 trm   \" ><div class=\"lbl c0 trm \" ><span class=\"txtu\"><span class=\" is_note\">kaarten </span></span></div></div><div class=\"contnr c0 trm   \" ><div class=\"lbl c0 trm \" ><span class=\"txtu\"><span class=\" is_note\">had</span></span></div></div><div class=\"contnr c0 trm   \" ><div class=\"lbl c0 trm \" ><span class=\"txtu\"><span class=\" is_note\">.</span></span></div></div><div class=\"contnr c0 trm   \" ><div class=\"lbl c0 trm \" ><span class=\"txtu\"><span class=\" is_note\"><br></span></span></div></div></div></div><div class=\"contnr c0 trm   \" ><div class=\"lbl c0 trm \" ><span class=\"txtu\"><br></span></div></div></div></div></div>"
      ],
      "text/plain": [
       "<IPython.core.display.HTML object>"
      ]
     },
     "metadata": {},
     "output_type": "display_data"
    },
    {
     "data": {
      "text/html": [
       "<p><b>result</b> <i>3</i>"
      ],
      "text/plain": [
       "<IPython.core.display.HTML object>"
      ]
     },
     "metadata": {},
     "output_type": "display_data"
    },
    {
     "data": {
      "text/html": [
       "<div class=\"tfsechead \"><span class=\"ltr\"><a target=\"_blank\" href=\"https://public.annotation.org/mondriaan/proeftuin/19090216y_IONG_1303/7&amp;version=0.8.13\" title=\"Show this on the website\" sec=\"proeftuin@19090216y_IONG_1303:7\">proeftuin@19090216y_IONG_1303:7</a></span></div><div class=\" children\"><div class=\"contnr c3    \" ><div class=\"lbl c3  \" ><span class=\"nd\">chunk </span></div><div class=\"children hor wrap \"><div class=\"contnr c2    \" ><div class=\"lbl c2  \" ><span class=\"nd\">note </span></div><div class=\"features\"><span class=\"id xft\" ><span class=\"f\">id=</span>n_transcrSource_NL</span></div><div class=\"children hor wrap \"><div class=\"contnr c0 trm   \" ><div class=\"lbl c0 trm \" ><span class=\"txtu\"><span class=\" is_note\">Manuscript</span></span></div></div><div class=\"contnr c0 trm   \" ><div class=\"lbl c0 trm \" ><span class=\"txtu\"><span class=\" is_note\">.</span></span></div></div><div class=\"contnr c0 trm   \" ><div class=\"lbl c0 trm \" ><span class=\"txtu\"><span class=\" is_note\"><br></span></span></div></div></div></div><div class=\"contnr c2    \" ><div class=\"lbl c2  \" ><span class=\"nd\">note </span></div><div class=\"features\"><span class=\"id xft\" ><span class=\"f\">id=</span>n_dating_NL</span></div><div class=\"children hor wrap \"><div class=\"contnr c0 trm   \" ><div class=\"lbl c0 trm \" ><span class=\"txtu\"><span class=\" is_note\">De </span></span></div></div><div class=\"contnr c0 trm   \" ><div class=\"lbl c0 trm \" ><span class=\"txtu\"><span class=\" is_note\">brief </span></span></div></div><div class=\"contnr c0 trm   \" ><div class=\"lbl c0 trm \" ><span class=\"txtu\"><span class=\" is_note\">is </span></span></div></div><div class=\"contnr c0 trm   \" ><div class=\"lbl c0 trm \" ><span class=\"txtu\"><span class=\" is_note\">geschreven </span></span></div></div><div class=\"contnr c0 trm   \" ><div class=\"lbl c0 trm \" ><span class=\"txtu\"><span class=\" is_note\">op </span></span></div></div><div class=\"contnr c0 trm   \" ><div class=\"lbl c0 trm \" ><span class=\"txtu\"><span class=\" is_note\">een </span></span></div></div><div class=\"contnr c0 trm   \" ><div class=\"lbl c0 trm \" ><span class=\"txtu\"><span class=\" is_note\">dinsdag </span></span></div></div><div class=\"contnr c0 trm   \" ><div class=\"lbl c0 trm \" ><span class=\"txtu\"><span class=\" is_note\">voorafgaand </span></span></div></div><div class=\"contnr c0 trm   \" ><div class=\"lbl c0 trm \" ><span class=\"txtu\"><span class=\" is_note\">aan </span></span></div></div><div class=\"contnr c0 trm   \" ><div class=\"lbl c0 trm \" ><span class=\"txtu\"><span class=\" is_note\">een </span></span></div></div><div class=\"contnr c0 trm   \" ><div class=\"lbl c0 trm \" ><span class=\"txtu\"><span class=\" is_note\">van </span></span></div></div><div class=\"contnr c0 trm   \" ><div class=\"lbl c0 trm \" ><span class=\"txtu\"><span class=\" is_note\">de </span></span></div></div><div class=\"contnr c0 trm   \" ><div class=\"lbl c0 trm \" ><span class=\"txtu\"><span class=\" is_note\">drie </span></span></div></div><div class=\"contnr c0 trm   \" ><div class=\"lbl c0 trm \" ><span class=\"txtu\"><span class=\" is_note\">woensdagen </span></span></div></div><div class=\"contnr c0 trm   \" ><div class=\"lbl c0 trm \" ><span class=\"txtu\"><span class=\" is_note\">waarop </span></span></div></div><div class=\"contnr c1    \" ><div class=\"lbl c1  \" ><span class=\"nd\">rs </span></div><div class=\"children hor wrap \"><div class=\"contnr c0 trm   \" ><div class=\"lbl c0 trm \" ><span class=\"txtu\"><span class=\" is_note\">Richard </span></span></div></div><div class=\"contnr c0 trm   \" ><div class=\"lbl c0 trm \" ><span class=\"txtu\"><span class=\" is_note\">Buhlig</span></span></div></div></div></div><div class=\"contnr c0 trm   \" ><div class=\"lbl c0 trm \" ><span class=\"txtu\"><span class=\" is_note\"> </span></span></div></div><div class=\"contnr c0 trm   \" ><div class=\"lbl c0 trm \" ><span class=\"txtu\"><span class=\" is_note\">in </span></span></div></div><div class=\"contnr c0 trm   \" ><div class=\"lbl c0 trm \" ><span class=\"txtu\"><span class=\" is_note\">1909 </span></span></div></div><div class=\"contnr c0 trm   \" ><div class=\"lbl c0 trm \" ><span class=\"txtu\"><span class=\" is_note\">in </span></span></div></div><div class=\"contnr c0 trm   \" ><div class=\"lbl c0 trm \" ><span class=\"txtu\"><span class=\" is_note\">de </span></span></div></div><div class=\"contnr c0 trm   \" ><div class=\"lbl c0 trm \" ><span class=\"txtu\"><span class=\" is_note\">kleine </span></span></div></div><div class=\"contnr c0 trm   \" ><div class=\"lbl c0 trm \" ><span class=\"txtu\"><span class=\" is_note\">zaal </span></span></div></div><div class=\"contnr c0 trm   \" ><div class=\"lbl c0 trm \" ><span class=\"txtu\"><span class=\" is_note\">van </span></span></div></div><div class=\"contnr c0 trm   \" ><div class=\"lbl c0 trm \" ><span class=\"txtu\"><span class=\" is_note\">het </span></span></div></div><div class=\"contnr c0 trm   \" ><div class=\"lbl c0 trm \" ><span class=\"txtu\"><span class=\" is_note\">Concertgebouw </span></span></div></div><div class=\"contnr c0 trm   \" ><div class=\"lbl c0 trm \" ><span class=\"txtu\"><span class=\" is_note\">een </span></span></div></div><div class=\"contnr c0 trm   \" ><div class=\"lbl c0 trm \" ><span class=\"txtu\"><span class=\" is_note\">concert </span></span></div></div><div class=\"contnr c0 trm   \" ><div class=\"lbl c0 trm \" ><span class=\"txtu\"><span class=\" is_note\">zou </span></span></div></div><div class=\"contnr c0 trm   \" ><div class=\"lbl c0 trm \" ><span class=\"txtu\"><span class=\" is_note\">geven</span></span></div></div><div class=\"contnr c0 trm   \" ><div class=\"lbl c0 trm \" ><span class=\"txtu\"><span class=\" is_note\">: </span></span></div></div><div class=\"contnr c0 trm   \" ><div class=\"lbl c0 trm \" ><span class=\"txtu\"><span class=\" is_note\">17 </span></span></div></div><div class=\"contnr c0 trm   \" ><div class=\"lbl c0 trm \" ><span class=\"txtu\"><span class=\" is_note\">februari</span></span></div></div><div class=\"contnr c0 trm   \" ><div class=\"lbl c0 trm \" ><span class=\"txtu\"><span class=\" is_note\">, </span></span></div></div><div class=\"contnr c0 trm   \" ><div class=\"lbl c0 trm \" ><span class=\"txtu\"><span class=\" is_note\">3 </span></span></div></div><div class=\"contnr c0 trm   \" ><div class=\"lbl c0 trm \" ><span class=\"txtu\"><span class=\" is_note\">maart </span></span></div></div><div class=\"contnr c0 trm   \" ><div class=\"lbl c0 trm \" ><span class=\"txtu\"><span class=\" is_note\">en </span></span></div></div><div class=\"contnr c0 trm   \" ><div class=\"lbl c0 trm \" ><span class=\"txtu\"><span class=\" is_note\">10 </span></span></div></div><div class=\"contnr c0 trm   \" ><div class=\"lbl c0 trm \" ><span class=\"txtu\"><span class=\" is_note\">maart</span></span></div></div><div class=\"contnr c0 trm   \" ><div class=\"lbl c0 trm \" ><span class=\"txtu\"><span class=\" is_note\">. </span></span></div></div><div class=\"contnr c0 trm   \" ><div class=\"lbl c0 trm \" ><span class=\"txtu\"><span class=\" is_note\">Zie </span></span></div></div><div class=\"contnr c0 trm   \" ><div class=\"lbl c0 trm \" ><span class=\"txtu\"><span class=\" is_note\">tevens </span></span></div></div><div class=\"contnr c1    hl\"  style=\"background-color: cyan;\" ><div class=\"lbl c1  hl\"  style=\"background-color: cyan;\" ><span class=\"nd\">ref </span></div><div class=\"features\"><span class=\"link_target xft\" ><span class=\"e\" edge=\"link_target\" nd=\"19447\">link_target•</span>\n",
       "<span\n",
       "    ef=\"link_target\"\n",
       "    nd=\"19447\"\n",
       "    md=\"18992\"\n",
       "    arrow=\"right\"\n",
       "    class=\"etf\" \n",
       "><span class=\"etfx\">↦</span></span>\n",
       "</span><span class=\"target xft\" ><span class=\"f\">target=</span>#plaatsBuhlig</span></div><div class=\"children hor wrap \"><div class=\"contnr c0 trm   \" ><div class=\"lbl c0 trm \" ><span class=\"txtu\"><span class=\" is_note\">n. </span></span></div></div><div class=\"contnr c0 trm   \" ><div class=\"lbl c0 trm \" ><span class=\"txtu\"><span class=\" is_note\">\"</span></span></div></div><div class=\"contnr c0 trm   \" ><div class=\"lbl c0 trm \" ><span class=\"txtu\"><span class=\" is_note\">plaatsBuhlig</span></span></div></div><div class=\"contnr c0 trm   \" ><div class=\"lbl c0 trm \" ><span class=\"txtu\"><span class=\" is_note\">\"</span></span></div></div></div></div><div class=\"contnr c0 trm   \" ><div class=\"lbl c0 trm \" ><span class=\"txtu\"><span class=\" is_note\">.</span></span></div></div><div class=\"contnr c0 trm   \" ><div class=\"lbl c0 trm \" ><span class=\"txtu\"><span class=\" is_note\"><br></span></span></div></div></div></div><div class=\"contnr c2    \" ><div class=\"lbl c2  \" ><span class=\"nd\">note </span></div><div class=\"features\"><span class=\"id xft\" ><span class=\"f\">id=</span>ogt_1_NL</span></div><div class=\"children hor wrap \"><div class=\"contnr c0 trm   \" ><div class=\"lbl c0 trm \" ><span class=\"txtu\"><span class=\" is_note\">​</span></span></div></div></div></div><div class=\"contnr c0 trm   \" ><div class=\"lbl c0 trm \" ><span class=\"txtu\"><br></span></div></div><div class=\"contnr c2    \" ><div class=\"lbl c2  \" ><span class=\"nd\">note </span></div><div class=\"features\"><span class=\"id xft\" ><span class=\"f\">id=</span>Zus_NL</span></div><div class=\"children hor wrap \"><div class=\"contnr c1    \" ><div class=\"lbl c1  \" ><span class=\"nd\">rs </span></div><div class=\"children hor wrap \"><div class=\"contnr c0 trm   \" ><div class=\"lbl c0 trm \" ><span class=\"txtu\"><span class=\" is_note\">Aletta</span></span></div></div></div></div><div class=\"contnr c0 trm   \" ><div class=\"lbl c0 trm \" ><span class=\"txtu\"><span class=\" is_note\"> </span></span></div></div><div class=\"contnr c0 trm   \" ><div class=\"lbl c0 trm \" ><span class=\"txtu\"><span class=\" is_note\">werd </span></span></div></div><div class=\"contnr c0 trm   \" ><div class=\"lbl c0 trm \" ><span class=\"txtu\"><span class=\" is_note\">binnen </span></span></div></div><div class=\"contnr c0 trm   \" ><div class=\"lbl c0 trm \" ><span class=\"txtu\"><span class=\" is_note\">haar </span></span></div></div><div class=\"contnr c0 trm   \" ><div class=\"lbl c0 trm \" ><span class=\"txtu\"><span class=\" is_note\">familie </span></span></div></div><div class=\"contnr c0 trm   \" ><div class=\"lbl c0 trm \" ><span class=\"txtu\"><span class=\" is_note\">aangesproken </span></span></div></div><div class=\"contnr c0 trm   \" ><div class=\"lbl c0 trm \" ><span class=\"txtu\"><span class=\" is_note\">met </span></span></div></div><div class=\"contnr c0 trm   \" ><div class=\"lbl c0 trm \" ><span class=\"txtu\"><span class=\" is_note\">de </span></span></div></div><div class=\"contnr c0 trm   \" ><div class=\"lbl c0 trm \" ><span class=\"txtu\"><span class=\" is_note\">koosnaam </span></span></div></div><div class=\"contnr c0 trm   \" ><div class=\"lbl c0 trm \" ><span class=\"txtu\"><span class=\" is_note\">'</span></span></div></div><div class=\"contnr c0 trm   \" ><div class=\"lbl c0 trm \" ><span class=\"txtu\"><span class=\" is_note\">Zus</span></span></div></div><div class=\"contnr c0 trm   \" ><div class=\"lbl c0 trm \" ><span class=\"txtu\"><span class=\" is_note\">' </span></span></div></div><div class=\"contnr c0 trm   \" ><div class=\"lbl c0 trm \" ><span class=\"txtu\"><span class=\" is_note\">(</span></span></div></div><div class=\"contnr c1    \" ><div class=\"lbl c1  \" ><span class=\"nd\">ref </span></div><div class=\"features\"><span class=\"link_target xft\" ><span class=\"e\" edge=\"link_target\" nd=\"19448\">link_target•</span>\n",
       "<span\n",
       "    ef=\"link_target\"\n",
       "    nd=\"19448\"\n",
       "    md=\"17842\"\n",
       "    arrow=\"right\"\n",
       "    class=\"etf\" \n",
       "><span class=\"etfx\">↦</span></span>\n",
       "</span><span class=\"target xft\" ><span class=\"f\">target=</span>biblio.xml#Heteren2018</span></div><div class=\"children hor wrap \"><div class=\"contnr c0 trm   \" ><div class=\"lbl c0 trm \" ><span class=\"txtu\"><span class=\" is_note\">Heteren </span></span></div></div><div class=\"contnr c0 trm   \" ><div class=\"lbl c0 trm \" ><span class=\"txtu\"><span class=\" is_note\">2018</span></span></div></div></div></div><div class=\"contnr c0 trm   \" ><div class=\"lbl c0 trm \" ><span class=\"txtu\"><span class=\" is_note\">, </span></span></div></div><div class=\"contnr c0 trm   \" ><div class=\"lbl c0 trm \" ><span class=\"txtu\"><span class=\" is_note\">p. </span></span></div></div><div class=\"contnr c0 trm   \" ><div class=\"lbl c0 trm \" ><span class=\"txtu\"><span class=\" is_note\">25</span></span></div></div><div class=\"contnr c0 trm   \" ><div class=\"lbl c0 trm \" ><span class=\"txtu\"><span class=\" is_note\">) </span></span></div></div><div class=\"contnr c0 trm   \" ><div class=\"lbl c0 trm \" ><span class=\"txtu\"><span class=\" is_note\">Mondriaans </span></span></div></div><div class=\"contnr c0 trm   \" ><div class=\"lbl c0 trm \" ><span class=\"txtu\"><span class=\" is_note\">gebruik </span></span></div></div><div class=\"contnr c0 trm   \" ><div class=\"lbl c0 trm \" ><span class=\"txtu\"><span class=\" is_note\">van </span></span></div></div><div class=\"contnr c0 trm   \" ><div class=\"lbl c0 trm \" ><span class=\"txtu\"><span class=\" is_note\">deze </span></span></div></div><div class=\"contnr c0 trm   \" ><div class=\"lbl c0 trm \" ><span class=\"txtu\"><span class=\" is_note\">naam </span></span></div></div><div class=\"contnr c0 trm   \" ><div class=\"lbl c0 trm \" ><span class=\"txtu\"><span class=\" is_note\">geeft </span></span></div></div><div class=\"contnr c0 trm   \" ><div class=\"lbl c0 trm \" ><span class=\"txtu\"><span class=\" is_note\">aan </span></span></div></div><div class=\"contnr c0 trm   \" ><div class=\"lbl c0 trm \" ><span class=\"txtu\"><span class=\" is_note\">dat </span></span></div></div><div class=\"contnr c0 trm   \" ><div class=\"lbl c0 trm \" ><span class=\"txtu\"><span class=\" is_note\">hij </span></span></div></div><div class=\"contnr c0 trm   \" ><div class=\"lbl c0 trm \" ><span class=\"txtu\"><span class=\" is_note\">op </span></span></div></div><div class=\"contnr c0 trm   \" ><div class=\"lbl c0 trm \" ><span class=\"txtu\"><span class=\" is_note\">intieme </span></span></div></div><div class=\"contnr c0 trm   \" ><div class=\"lbl c0 trm \" ><span class=\"txtu\"><span class=\" is_note\">voet </span></span></div></div><div class=\"contnr c0 trm   \" ><div class=\"lbl c0 trm \" ><span class=\"txtu\"><span class=\" is_note\">stond </span></span></div></div><div class=\"contnr c0 trm   \" ><div class=\"lbl c0 trm \" ><span class=\"txtu\"><span class=\" is_note\">met </span></span></div></div><div class=\"contnr c0 trm   \" ><div class=\"lbl c0 trm \" ><span class=\"txtu\"><span class=\" is_note\">De </span></span></div></div><div class=\"contnr c0 trm   \" ><div class=\"lbl c0 trm \" ><span class=\"txtu\"><span class=\" is_note\">Iongh</span></span></div></div><div class=\"contnr c0 trm   \" ><div class=\"lbl c0 trm \" ><span class=\"txtu\"><span class=\" is_note\">.</span></span></div></div><div class=\"contnr c0 trm   \" ><div class=\"lbl c0 trm \" ><span class=\"txtu\"><span class=\" is_note\"><br></span></span></div></div></div></div><div class=\"contnr c2    \" ><div class=\"lbl c2  \" ><span class=\"nd\">note </span></div><div class=\"features\"><span class=\"id xft\" ><span class=\"f\">id=</span>plaatsBuhlig_NL</span></div><div class=\"children hor wrap \"><div class=\"contnr c0 trm   \" ><div class=\"lbl c0 trm \" ><span class=\"txtu\"><span class=\" is_note\">De </span></span></div></div><div class=\"contnr c0 trm   \" ><div class=\"lbl c0 trm \" ><span class=\"txtu\"><span class=\" is_note\">Amerikaanse </span></span></div></div><div class=\"contnr c0 trm   \" ><div class=\"lbl c0 trm \" ><span class=\"txtu\"><span class=\" is_note\">pianist </span></span></div></div><div class=\"contnr c1    \" ><div class=\"lbl c1  \" ><span class=\"nd\">rs </span></div><div class=\"children hor wrap \"><div class=\"contnr c0 trm   \" ><div class=\"lbl c0 trm \" ><span class=\"txtu\"><span class=\" is_note\">Richard </span></span></div></div><div class=\"contnr c0 trm   \" ><div class=\"lbl c0 trm \" ><span class=\"txtu\"><span class=\" is_note\">Moritz </span></span></div></div><div class=\"contnr c0 trm   \" ><div class=\"lbl c0 trm \" ><span class=\"txtu\"><span class=\" is_note\">Buhlig</span></span></div></div></div></div><div class=\"contnr c0 trm   \" ><div class=\"lbl c0 trm \" ><span class=\"txtu\"><span class=\" is_note\"> </span></span></div></div><div class=\"contnr c0 trm   \" ><div class=\"lbl c0 trm \" ><span class=\"txtu\"><span class=\" is_note\">(</span></span></div></div><div class=\"contnr c0 trm   \" ><div class=\"lbl c0 trm \" ><span class=\"txtu\"><span class=\" is_note\">1880</span></span></div></div><div class=\"contnr c0 trm   \" ><div class=\"lbl c0 trm \" ><span class=\"txtu\"><span class=\" is_note\">-</span></span></div></div><div class=\"contnr c0 trm   \" ><div class=\"lbl c0 trm \" ><span class=\"txtu\"><span class=\" is_note\">1952</span></span></div></div><div class=\"contnr c0 trm   \" ><div class=\"lbl c0 trm \" ><span class=\"txtu\"><span class=\" is_note\">) </span></span></div></div><div class=\"contnr c0 trm   \" ><div class=\"lbl c0 trm \" ><span class=\"txtu\"><span class=\" is_note\">gaf </span></span></div></div><div class=\"contnr c0 trm   \" ><div class=\"lbl c0 trm \" ><span class=\"txtu\"><span class=\" is_note\">begin </span></span></div></div><div class=\"contnr c0 trm   \" ><div class=\"lbl c0 trm \" ><span class=\"txtu\"><span class=\" is_note\">1909 </span></span></div></div><div class=\"contnr c0 trm   \" ><div class=\"lbl c0 trm \" ><span class=\"txtu\"><span class=\" is_note\">drie </span></span></div></div><div class=\"contnr c0 trm   \" ><div class=\"lbl c0 trm \" ><span class=\"txtu\"><span class=\" is_note\">concerten </span></span></div></div><div class=\"contnr c0 trm   \" ><div class=\"lbl c0 trm \" ><span class=\"txtu\"><span class=\" is_note\">in </span></span></div></div><div class=\"contnr c0 trm   \" ><div class=\"lbl c0 trm \" ><span class=\"txtu\"><span class=\" is_note\">de </span></span></div></div><div class=\"contnr c0 trm   \" ><div class=\"lbl c0 trm \" ><span class=\"txtu\"><span class=\" is_note\">kleine </span></span></div></div><div class=\"contnr c0 trm   \" ><div class=\"lbl c0 trm \" ><span class=\"txtu\"><span class=\" is_note\">zaal </span></span></div></div><div class=\"contnr c0 trm   \" ><div class=\"lbl c0 trm \" ><span class=\"txtu\"><span class=\" is_note\">van </span></span></div></div><div class=\"contnr c0 trm   \" ><div class=\"lbl c0 trm \" ><span class=\"txtu\"><span class=\" is_note\">het </span></span></div></div><div class=\"contnr c0 trm   \" ><div class=\"lbl c0 trm \" ><span class=\"txtu\"><span class=\" is_note\">Concertgebouw</span></span></div></div><div class=\"contnr c0 trm   \" ><div class=\"lbl c0 trm \" ><span class=\"txtu\"><span class=\" is_note\">, </span></span></div></div><div class=\"contnr c0 trm   \" ><div class=\"lbl c0 trm \" ><span class=\"txtu\"><span class=\" is_note\">op </span></span></div></div><div class=\"contnr c0 trm   \" ><div class=\"lbl c0 trm \" ><span class=\"txtu\"><span class=\" is_note\">woensdag </span></span></div></div><div class=\"contnr c0 trm   \" ><div class=\"lbl c0 trm \" ><span class=\"txtu\"><span class=\" is_note\">17 </span></span></div></div><div class=\"contnr c0 trm   \" ><div class=\"lbl c0 trm \" ><span class=\"txtu\"><span class=\" is_note\">februari</span></span></div></div><div class=\"contnr c0 trm   \" ><div class=\"lbl c0 trm \" ><span class=\"txtu\"><span class=\" is_note\">, </span></span></div></div><div class=\"contnr c0 trm   \" ><div class=\"lbl c0 trm \" ><span class=\"txtu\"><span class=\" is_note\">woensdag </span></span></div></div><div class=\"contnr c0 trm   \" ><div class=\"lbl c0 trm \" ><span class=\"txtu\"><span class=\" is_note\">3 </span></span></div></div><div class=\"contnr c0 trm   \" ><div class=\"lbl c0 trm \" ><span class=\"txtu\"><span class=\" is_note\">maart </span></span></div></div><div class=\"contnr c0 trm   \" ><div class=\"lbl c0 trm \" ><span class=\"txtu\"><span class=\" is_note\">en </span></span></div></div><div class=\"contnr c0 trm   \" ><div class=\"lbl c0 trm \" ><span class=\"txtu\"><span class=\" is_note\">woensdag </span></span></div></div><div class=\"contnr c0 trm   \" ><div class=\"lbl c0 trm \" ><span class=\"txtu\"><span class=\" is_note\">10 </span></span></div></div><div class=\"contnr c0 trm   \" ><div class=\"lbl c0 trm \" ><span class=\"txtu\"><span class=\" is_note\">maart</span></span></div></div><div class=\"contnr c0 trm   \" ><div class=\"lbl c0 trm \" ><span class=\"txtu\"><span class=\" is_note\">. </span></span></div></div><div class=\"contnr c0 trm   \" ><div class=\"lbl c0 trm \" ><span class=\"txtu\"><span class=\" is_note\">Het </span></span></div></div><div class=\"contnr c0 trm   \" ><div class=\"lbl c0 trm \" ><span class=\"txtu\"><span class=\" is_note\">is </span></span></div></div><div class=\"contnr c0 trm   \" ><div class=\"lbl c0 trm \" ><span class=\"txtu\"><span class=\" is_note\">niet </span></span></div></div><div class=\"contnr c0 trm   \" ><div class=\"lbl c0 trm \" ><span class=\"txtu\"><span class=\" is_note\">bekend </span></span></div></div><div class=\"contnr c0 trm   \" ><div class=\"lbl c0 trm \" ><span class=\"txtu\"><span class=\" is_note\">voor </span></span></div></div><div class=\"contnr c0 trm   \" ><div class=\"lbl c0 trm \" ><span class=\"txtu\"><span class=\" is_note\">welke </span></span></div></div><div class=\"contnr c0 trm   \" ><div class=\"lbl c0 trm \" ><span class=\"txtu\"><span class=\" is_note\">van </span></span></div></div><div class=\"contnr c0 trm   \" ><div class=\"lbl c0 trm \" ><span class=\"txtu\"><span class=\" is_note\">deze </span></span></div></div><div class=\"contnr c0 trm   \" ><div class=\"lbl c0 trm \" ><span class=\"txtu\"><span class=\" is_note\">concerten </span></span></div></div><div class=\"contnr c0 trm   \" ><div class=\"lbl c0 trm \" ><span class=\"txtu\"><span class=\" is_note\">Mondriaan </span></span></div></div><div class=\"contnr c0 trm   \" ><div class=\"lbl c0 trm \" ><span class=\"txtu\"><span class=\" is_note\">kaarten </span></span></div></div><div class=\"contnr c0 trm   \" ><div class=\"lbl c0 trm \" ><span class=\"txtu\"><span class=\" is_note\">had</span></span></div></div><div class=\"contnr c0 trm   \" ><div class=\"lbl c0 trm \" ><span class=\"txtu\"><span class=\" is_note\">.</span></span></div></div><div class=\"contnr c0 trm   \" ><div class=\"lbl c0 trm \" ><span class=\"txtu\"><span class=\" is_note\"><br></span></span></div></div></div></div><div class=\"contnr c2    \" ><div class=\"lbl c2  \" ><span class=\"nd\">note </span></div><div class=\"features\"><span class=\"id xft\" ><span class=\"f\">id=</span>n_transcrSource</span></div><div class=\"children hor wrap \"><div class=\"contnr c0 trm   \" ><div class=\"lbl c0 trm \" ><span class=\"txtu\"><span class=\" is_note\">*</span></span></div></div><div class=\"contnr c0 trm   \" ><div class=\"lbl c0 trm \" ><span class=\"txtu\"><span class=\" is_note\">*</span></span></div></div><div class=\"contnr c0 trm   \" ><div class=\"lbl c0 trm \" ><span class=\"txtu\"><span class=\" is_note\">SUBSTITUTE </span></span></div></div><div class=\"contnr c0 trm   \" ><div class=\"lbl c0 trm \" ><span class=\"txtu\"><span class=\" is_note\">FOR </span></span></div></div><div class=\"contnr c0 trm   \" ><div class=\"lbl c0 trm \" ><span class=\"txtu\"><span class=\" is_note\">ENGLISH</span></span></div></div><div class=\"contnr c0 trm   \" ><div class=\"lbl c0 trm \" ><span class=\"txtu\"><span class=\" is_note\">*</span></span></div></div><div class=\"contnr c0 trm   \" ><div class=\"lbl c0 trm \" ><span class=\"txtu\"><span class=\" is_note\">* </span></span></div></div><div class=\"contnr c0 trm   \" ><div class=\"lbl c0 trm \" ><span class=\"txtu\"><span class=\" is_note\">Manuscript</span></span></div></div><div class=\"contnr c0 trm   \" ><div class=\"lbl c0 trm \" ><span class=\"txtu\"><span class=\" is_note\">.</span></span></div></div><div class=\"contnr c0 trm   \" ><div class=\"lbl c0 trm \" ><span class=\"txtu\"><span class=\" is_note\"><br></span></span></div></div></div></div><div class=\"contnr c2    \" ><div class=\"lbl c2  \" ><span class=\"nd\">note </span></div><div class=\"features\"><span class=\"id xft\" ><span class=\"f\">id=</span>n_dating</span></div><div class=\"children hor wrap \"><div class=\"contnr c0 trm   \" ><div class=\"lbl c0 trm \" ><span class=\"txtu\"><span class=\" is_note\">*</span></span></div></div><div class=\"contnr c0 trm   \" ><div class=\"lbl c0 trm \" ><span class=\"txtu\"><span class=\" is_note\">*</span></span></div></div><div class=\"contnr c0 trm   \" ><div class=\"lbl c0 trm \" ><span class=\"txtu\"><span class=\" is_note\">SUBSTITUTE </span></span></div></div><div class=\"contnr c0 trm   \" ><div class=\"lbl c0 trm \" ><span class=\"txtu\"><span class=\" is_note\">FOR </span></span></div></div><div class=\"contnr c0 trm   \" ><div class=\"lbl c0 trm \" ><span class=\"txtu\"><span class=\" is_note\">ENGLISH</span></span></div></div><div class=\"contnr c0 trm   \" ><div class=\"lbl c0 trm \" ><span class=\"txtu\"><span class=\" is_note\">*</span></span></div></div><div class=\"contnr c0 trm   \" ><div class=\"lbl c0 trm \" ><span class=\"txtu\"><span class=\" is_note\">* </span></span></div></div><div class=\"contnr c0 trm   \" ><div class=\"lbl c0 trm \" ><span class=\"txtu\"><span class=\" is_note\">De </span></span></div></div><div class=\"contnr c0 trm   \" ><div class=\"lbl c0 trm \" ><span class=\"txtu\"><span class=\" is_note\">brief </span></span></div></div><div class=\"contnr c0 trm   \" ><div class=\"lbl c0 trm \" ><span class=\"txtu\"><span class=\" is_note\">is </span></span></div></div><div class=\"contnr c0 trm   \" ><div class=\"lbl c0 trm \" ><span class=\"txtu\"><span class=\" is_note\">geschreven </span></span></div></div><div class=\"contnr c0 trm   \" ><div class=\"lbl c0 trm \" ><span class=\"txtu\"><span class=\" is_note\">op </span></span></div></div><div class=\"contnr c0 trm   \" ><div class=\"lbl c0 trm \" ><span class=\"txtu\"><span class=\" is_note\">een </span></span></div></div><div class=\"contnr c0 trm   \" ><div class=\"lbl c0 trm \" ><span class=\"txtu\"><span class=\" is_note\">dinsdag </span></span></div></div><div class=\"contnr c0 trm   \" ><div class=\"lbl c0 trm \" ><span class=\"txtu\"><span class=\" is_note\">voorafgaand </span></span></div></div><div class=\"contnr c0 trm   \" ><div class=\"lbl c0 trm \" ><span class=\"txtu\"><span class=\" is_note\">aan </span></span></div></div><div class=\"contnr c0 trm   \" ><div class=\"lbl c0 trm \" ><span class=\"txtu\"><span class=\" is_note\">een </span></span></div></div><div class=\"contnr c0 trm   \" ><div class=\"lbl c0 trm \" ><span class=\"txtu\"><span class=\" is_note\">van </span></span></div></div><div class=\"contnr c0 trm   \" ><div class=\"lbl c0 trm \" ><span class=\"txtu\"><span class=\" is_note\">de </span></span></div></div><div class=\"contnr c0 trm   \" ><div class=\"lbl c0 trm \" ><span class=\"txtu\"><span class=\" is_note\">drie </span></span></div></div><div class=\"contnr c0 trm   \" ><div class=\"lbl c0 trm \" ><span class=\"txtu\"><span class=\" is_note\">woensdagen </span></span></div></div><div class=\"contnr c0 trm   \" ><div class=\"lbl c0 trm \" ><span class=\"txtu\"><span class=\" is_note\">waarop </span></span></div></div><div class=\"contnr c1    \" ><div class=\"lbl c1  \" ><span class=\"nd\">rs </span></div><div class=\"children hor wrap \"><div class=\"contnr c0 trm   \" ><div class=\"lbl c0 trm \" ><span class=\"txtu\"><span class=\" is_note\">Richard </span></span></div></div><div class=\"contnr c0 trm   \" ><div class=\"lbl c0 trm \" ><span class=\"txtu\"><span class=\" is_note\">Buhlig</span></span></div></div></div></div><div class=\"contnr c0 trm   \" ><div class=\"lbl c0 trm \" ><span class=\"txtu\"><span class=\" is_note\"> </span></span></div></div><div class=\"contnr c0 trm   \" ><div class=\"lbl c0 trm \" ><span class=\"txtu\"><span class=\" is_note\">in </span></span></div></div><div class=\"contnr c0 trm   \" ><div class=\"lbl c0 trm \" ><span class=\"txtu\"><span class=\" is_note\">1909 </span></span></div></div><div class=\"contnr c0 trm   \" ><div class=\"lbl c0 trm \" ><span class=\"txtu\"><span class=\" is_note\">in </span></span></div></div><div class=\"contnr c0 trm   \" ><div class=\"lbl c0 trm \" ><span class=\"txtu\"><span class=\" is_note\">de </span></span></div></div><div class=\"contnr c0 trm   \" ><div class=\"lbl c0 trm \" ><span class=\"txtu\"><span class=\" is_note\">kleine </span></span></div></div><div class=\"contnr c0 trm   \" ><div class=\"lbl c0 trm \" ><span class=\"txtu\"><span class=\" is_note\">zaal </span></span></div></div><div class=\"contnr c0 trm   \" ><div class=\"lbl c0 trm \" ><span class=\"txtu\"><span class=\" is_note\">van </span></span></div></div><div class=\"contnr c0 trm   \" ><div class=\"lbl c0 trm \" ><span class=\"txtu\"><span class=\" is_note\">het </span></span></div></div><div class=\"contnr c0 trm   \" ><div class=\"lbl c0 trm \" ><span class=\"txtu\"><span class=\" is_note\">Concertgebouw </span></span></div></div><div class=\"contnr c0 trm   \" ><div class=\"lbl c0 trm \" ><span class=\"txtu\"><span class=\" is_note\">een </span></span></div></div><div class=\"contnr c0 trm   \" ><div class=\"lbl c0 trm \" ><span class=\"txtu\"><span class=\" is_note\">concert </span></span></div></div><div class=\"contnr c0 trm   \" ><div class=\"lbl c0 trm \" ><span class=\"txtu\"><span class=\" is_note\">zou </span></span></div></div><div class=\"contnr c0 trm   \" ><div class=\"lbl c0 trm \" ><span class=\"txtu\"><span class=\" is_note\">geven</span></span></div></div><div class=\"contnr c0 trm   \" ><div class=\"lbl c0 trm \" ><span class=\"txtu\"><span class=\" is_note\">: </span></span></div></div><div class=\"contnr c0 trm   \" ><div class=\"lbl c0 trm \" ><span class=\"txtu\"><span class=\" is_note\">17 </span></span></div></div><div class=\"contnr c0 trm   \" ><div class=\"lbl c0 trm \" ><span class=\"txtu\"><span class=\" is_note\">februari</span></span></div></div><div class=\"contnr c0 trm   \" ><div class=\"lbl c0 trm \" ><span class=\"txtu\"><span class=\" is_note\">, </span></span></div></div><div class=\"contnr c0 trm   \" ><div class=\"lbl c0 trm \" ><span class=\"txtu\"><span class=\" is_note\">3 </span></span></div></div><div class=\"contnr c0 trm   \" ><div class=\"lbl c0 trm \" ><span class=\"txtu\"><span class=\" is_note\">maart </span></span></div></div><div class=\"contnr c0 trm   \" ><div class=\"lbl c0 trm \" ><span class=\"txtu\"><span class=\" is_note\">en </span></span></div></div><div class=\"contnr c0 trm   \" ><div class=\"lbl c0 trm \" ><span class=\"txtu\"><span class=\" is_note\">10 </span></span></div></div><div class=\"contnr c0 trm   \" ><div class=\"lbl c0 trm \" ><span class=\"txtu\"><span class=\" is_note\">maart</span></span></div></div><div class=\"contnr c0 trm   \" ><div class=\"lbl c0 trm \" ><span class=\"txtu\"><span class=\" is_note\">. </span></span></div></div><div class=\"contnr c0 trm   \" ><div class=\"lbl c0 trm \" ><span class=\"txtu\"><span class=\" is_note\">Zie </span></span></div></div><div class=\"contnr c0 trm   \" ><div class=\"lbl c0 trm \" ><span class=\"txtu\"><span class=\" is_note\">tevens </span></span></div></div><div class=\"contnr c1    \" ><div class=\"lbl c1  \" ><span class=\"nd\">ref </span></div><div class=\"features\"><span class=\"link_target xft\" ><span class=\"e\" edge=\"link_target\" nd=\"19449\">link_target•</span>\n",
       "<span\n",
       "    ef=\"link_target\"\n",
       "    nd=\"19449\"\n",
       "    md=\"18992\"\n",
       "    arrow=\"right\"\n",
       "    class=\"etf\" \n",
       "><span class=\"etfx\">↦</span></span>\n",
       "</span><span class=\"target xft\" ><span class=\"f\">target=</span>#plaatsBuhlig</span></div><div class=\"children hor wrap \"><div class=\"contnr c0 trm   \" ><div class=\"lbl c0 trm \" ><span class=\"txtu\"><span class=\" is_note\">n. </span></span></div></div><div class=\"contnr c0 trm   \" ><div class=\"lbl c0 trm \" ><span class=\"txtu\"><span class=\" is_note\">\"</span></span></div></div><div class=\"contnr c0 trm   \" ><div class=\"lbl c0 trm \" ><span class=\"txtu\"><span class=\" is_note\">plaatsBuhlig</span></span></div></div><div class=\"contnr c0 trm   \" ><div class=\"lbl c0 trm \" ><span class=\"txtu\"><span class=\" is_note\">\"</span></span></div></div></div></div><div class=\"contnr c0 trm   \" ><div class=\"lbl c0 trm \" ><span class=\"txtu\"><span class=\" is_note\">.</span></span></div></div><div class=\"contnr c0 trm   \" ><div class=\"lbl c0 trm \" ><span class=\"txtu\"><span class=\" is_note\"><br></span></span></div></div></div></div><div class=\"contnr c2    \" ><div class=\"lbl c2  \" ><span class=\"nd\">note </span></div><div class=\"features\"><span class=\"id xft\" ><span class=\"f\">id=</span>ogt_1</span></div><div class=\"children hor wrap \"><div class=\"contnr c0 trm   \" ><div class=\"lbl c0 trm \" ><span class=\"txtu\"><span class=\" is_note\">​</span></span></div></div></div></div><div class=\"contnr c0 trm   \" ><div class=\"lbl c0 trm \" ><span class=\"txtu\"><br></span></div></div><div class=\"contnr c2    \" ><div class=\"lbl c2  \" ><span class=\"nd\">note </span></div><div class=\"features\"><span class=\"id xft\" ><span class=\"f\">id=</span>Zus</span><span class=\"link_target xft\" ><span class=\"e\" edge=\"link_target\" nd=\"18991\">link_target•</span>\n",
       "<span\n",
       "    ef=\"link_target\"\n",
       "    nd=\"18991\"\n",
       "    md=\"19349\"\n",
       "    arrow=\"left\"\n",
       "    class=\"etf\" \n",
       "><span class=\"etfx\">⇥</span></span>\n",
       " \n",
       "<span\n",
       "    ef=\"link_target\"\n",
       "    nd=\"18991\"\n",
       "    md=\"19351\"\n",
       "    arrow=\"left\"\n",
       "    class=\"etf\" \n",
       "><span class=\"etfx\">⇥</span></span>\n",
       " \n",
       "<span\n",
       "    ef=\"link_target\"\n",
       "    nd=\"18991\"\n",
       "    md=\"19352\"\n",
       "    arrow=\"left\"\n",
       "    class=\"etf\" \n",
       "><span class=\"etfx\">⇥</span></span>\n",
       "</span></div><div class=\"children hor wrap \"><div class=\"contnr c0 trm   \" ><div class=\"lbl c0 trm \" ><span class=\"txtu\"><span class=\" is_note\">*</span></span></div></div><div class=\"contnr c0 trm   \" ><div class=\"lbl c0 trm \" ><span class=\"txtu\"><span class=\" is_note\">*</span></span></div></div><div class=\"contnr c0 trm   \" ><div class=\"lbl c0 trm \" ><span class=\"txtu\"><span class=\" is_note\">SUBSTITUTE </span></span></div></div><div class=\"contnr c0 trm   \" ><div class=\"lbl c0 trm \" ><span class=\"txtu\"><span class=\" is_note\">FOR </span></span></div></div><div class=\"contnr c0 trm   \" ><div class=\"lbl c0 trm \" ><span class=\"txtu\"><span class=\" is_note\">ENGLISH</span></span></div></div><div class=\"contnr c0 trm   \" ><div class=\"lbl c0 trm \" ><span class=\"txtu\"><span class=\" is_note\">*</span></span></div></div><div class=\"contnr c0 trm   \" ><div class=\"lbl c0 trm \" ><span class=\"txtu\"><span class=\" is_note\">* </span></span></div></div><div class=\"contnr c1    \" ><div class=\"lbl c1  \" ><span class=\"nd\">rs </span></div><div class=\"children hor wrap \"><div class=\"contnr c0 trm   \" ><div class=\"lbl c0 trm \" ><span class=\"txtu\"><span class=\" is_note\">Aletta</span></span></div></div></div></div><div class=\"contnr c0 trm   \" ><div class=\"lbl c0 trm \" ><span class=\"txtu\"><span class=\" is_note\"> </span></span></div></div><div class=\"contnr c0 trm   \" ><div class=\"lbl c0 trm \" ><span class=\"txtu\"><span class=\" is_note\">werd </span></span></div></div><div class=\"contnr c0 trm   \" ><div class=\"lbl c0 trm \" ><span class=\"txtu\"><span class=\" is_note\">binnen </span></span></div></div><div class=\"contnr c0 trm   \" ><div class=\"lbl c0 trm \" ><span class=\"txtu\"><span class=\" is_note\">haar </span></span></div></div><div class=\"contnr c0 trm   \" ><div class=\"lbl c0 trm \" ><span class=\"txtu\"><span class=\" is_note\">familie </span></span></div></div><div class=\"contnr c0 trm   \" ><div class=\"lbl c0 trm \" ><span class=\"txtu\"><span class=\" is_note\">aangesproken </span></span></div></div><div class=\"contnr c0 trm   \" ><div class=\"lbl c0 trm \" ><span class=\"txtu\"><span class=\" is_note\">met </span></span></div></div><div class=\"contnr c0 trm   \" ><div class=\"lbl c0 trm \" ><span class=\"txtu\"><span class=\" is_note\">de </span></span></div></div><div class=\"contnr c0 trm   \" ><div class=\"lbl c0 trm \" ><span class=\"txtu\"><span class=\" is_note\">koosnaam </span></span></div></div><div class=\"contnr c0 trm   \" ><div class=\"lbl c0 trm \" ><span class=\"txtu\"><span class=\" is_note\">'</span></span></div></div><div class=\"contnr c0 trm   \" ><div class=\"lbl c0 trm \" ><span class=\"txtu\"><span class=\" is_note\">Zus</span></span></div></div><div class=\"contnr c0 trm   \" ><div class=\"lbl c0 trm \" ><span class=\"txtu\"><span class=\" is_note\">' </span></span></div></div><div class=\"contnr c0 trm   \" ><div class=\"lbl c0 trm \" ><span class=\"txtu\"><span class=\" is_note\">(</span></span></div></div><div class=\"contnr c1    \" ><div class=\"lbl c1  \" ><span class=\"nd\">ref </span></div><div class=\"features\"><span class=\"link_target xft\" ><span class=\"e\" edge=\"link_target\" nd=\"19450\">link_target•</span>\n",
       "<span\n",
       "    ef=\"link_target\"\n",
       "    nd=\"19450\"\n",
       "    md=\"17842\"\n",
       "    arrow=\"right\"\n",
       "    class=\"etf\" \n",
       "><span class=\"etfx\">↦</span></span>\n",
       "</span><span class=\"target xft\" ><span class=\"f\">target=</span>biblio.xml#Heteren2018</span></div><div class=\"children hor wrap \"><div class=\"contnr c0 trm   \" ><div class=\"lbl c0 trm \" ><span class=\"txtu\"><span class=\" is_note\">Heteren </span></span></div></div><div class=\"contnr c0 trm   \" ><div class=\"lbl c0 trm \" ><span class=\"txtu\"><span class=\" is_note\">2018</span></span></div></div></div></div><div class=\"contnr c0 trm   \" ><div class=\"lbl c0 trm \" ><span class=\"txtu\"><span class=\" is_note\">, </span></span></div></div><div class=\"contnr c0 trm   \" ><div class=\"lbl c0 trm \" ><span class=\"txtu\"><span class=\" is_note\">p. </span></span></div></div><div class=\"contnr c0 trm   \" ><div class=\"lbl c0 trm \" ><span class=\"txtu\"><span class=\" is_note\">25</span></span></div></div><div class=\"contnr c0 trm   \" ><div class=\"lbl c0 trm \" ><span class=\"txtu\"><span class=\" is_note\">) </span></span></div></div><div class=\"contnr c0 trm   \" ><div class=\"lbl c0 trm \" ><span class=\"txtu\"><span class=\" is_note\">Mondriaans </span></span></div></div><div class=\"contnr c0 trm   \" ><div class=\"lbl c0 trm \" ><span class=\"txtu\"><span class=\" is_note\">gebruik </span></span></div></div><div class=\"contnr c0 trm   \" ><div class=\"lbl c0 trm \" ><span class=\"txtu\"><span class=\" is_note\">van </span></span></div></div><div class=\"contnr c0 trm   \" ><div class=\"lbl c0 trm \" ><span class=\"txtu\"><span class=\" is_note\">deze </span></span></div></div><div class=\"contnr c0 trm   \" ><div class=\"lbl c0 trm \" ><span class=\"txtu\"><span class=\" is_note\">naam </span></span></div></div><div class=\"contnr c0 trm   \" ><div class=\"lbl c0 trm \" ><span class=\"txtu\"><span class=\" is_note\">geeft </span></span></div></div><div class=\"contnr c0 trm   \" ><div class=\"lbl c0 trm \" ><span class=\"txtu\"><span class=\" is_note\">aan </span></span></div></div><div class=\"contnr c0 trm   \" ><div class=\"lbl c0 trm \" ><span class=\"txtu\"><span class=\" is_note\">dat </span></span></div></div><div class=\"contnr c0 trm   \" ><div class=\"lbl c0 trm \" ><span class=\"txtu\"><span class=\" is_note\">hij </span></span></div></div><div class=\"contnr c0 trm   \" ><div class=\"lbl c0 trm \" ><span class=\"txtu\"><span class=\" is_note\">op </span></span></div></div><div class=\"contnr c0 trm   \" ><div class=\"lbl c0 trm \" ><span class=\"txtu\"><span class=\" is_note\">intieme </span></span></div></div><div class=\"contnr c0 trm   \" ><div class=\"lbl c0 trm \" ><span class=\"txtu\"><span class=\" is_note\">voet </span></span></div></div><div class=\"contnr c0 trm   \" ><div class=\"lbl c0 trm \" ><span class=\"txtu\"><span class=\" is_note\">stond </span></span></div></div><div class=\"contnr c0 trm   \" ><div class=\"lbl c0 trm \" ><span class=\"txtu\"><span class=\" is_note\">met </span></span></div></div><div class=\"contnr c0 trm   \" ><div class=\"lbl c0 trm \" ><span class=\"txtu\"><span class=\" is_note\">De </span></span></div></div><div class=\"contnr c0 trm   \" ><div class=\"lbl c0 trm \" ><span class=\"txtu\"><span class=\" is_note\">Iongh</span></span></div></div><div class=\"contnr c0 trm   \" ><div class=\"lbl c0 trm \" ><span class=\"txtu\"><span class=\" is_note\">.</span></span></div></div><div class=\"contnr c0 trm   \" ><div class=\"lbl c0 trm \" ><span class=\"txtu\"><span class=\" is_note\"><br></span></span></div></div></div></div><div class=\"contnr c2    hl\"  style=\"background-color: lightgreen;\" ><div class=\"lbl c2  hl\"  style=\"background-color: lightgreen;\" ><span class=\"nd\">note </span></div><div class=\"features\"><span class=\"id xft\" ><span class=\"f\">id=</span>plaatsBuhlig</span><span class=\"link_target xft\" ><span class=\"e\" edge=\"link_target\" nd=\"18992\">link_target•</span>\n",
       "<span\n",
       "    ef=\"link_target\"\n",
       "    nd=\"18992\"\n",
       "    md=\"19350\"\n",
       "    arrow=\"left\"\n",
       "    class=\"etf\" \n",
       "><span class=\"etfx\">⇥</span></span>\n",
       " \n",
       "<span\n",
       "    ef=\"link_target\"\n",
       "    nd=\"18992\"\n",
       "    md=\"19353\"\n",
       "    arrow=\"left\"\n",
       "    class=\"etf\" \n",
       "><span class=\"etfx\">⇥</span></span>\n",
       " \n",
       "<span\n",
       "    ef=\"link_target\"\n",
       "    nd=\"18992\"\n",
       "    md=\"19447\"\n",
       "    arrow=\"left\"\n",
       "    class=\"etf\" \n",
       "><span class=\"etfx\">⇥</span></span>\n",
       " \n",
       "<span\n",
       "    ef=\"link_target\"\n",
       "    nd=\"18992\"\n",
       "    md=\"19449\"\n",
       "    arrow=\"left\"\n",
       "    class=\"etf\" \n",
       "><span class=\"etfx\">⇥</span></span>\n",
       "</span></div><div class=\"children hor wrap \"><div class=\"contnr c0 trm   \" ><div class=\"lbl c0 trm \" ><span class=\"txtu\"><span class=\" is_note\">*</span></span></div></div><div class=\"contnr c0 trm   \" ><div class=\"lbl c0 trm \" ><span class=\"txtu\"><span class=\" is_note\">*</span></span></div></div><div class=\"contnr c0 trm   \" ><div class=\"lbl c0 trm \" ><span class=\"txtu\"><span class=\" is_note\">SUBSTITUTE </span></span></div></div><div class=\"contnr c0 trm   \" ><div class=\"lbl c0 trm \" ><span class=\"txtu\"><span class=\" is_note\">FOR </span></span></div></div><div class=\"contnr c0 trm   \" ><div class=\"lbl c0 trm \" ><span class=\"txtu\"><span class=\" is_note\">ENGLISH</span></span></div></div><div class=\"contnr c0 trm   \" ><div class=\"lbl c0 trm \" ><span class=\"txtu\"><span class=\" is_note\">*</span></span></div></div><div class=\"contnr c0 trm   \" ><div class=\"lbl c0 trm \" ><span class=\"txtu\"><span class=\" is_note\">* </span></span></div></div><div class=\"contnr c0 trm   \" ><div class=\"lbl c0 trm \" ><span class=\"txtu\"><span class=\" is_note\">De </span></span></div></div><div class=\"contnr c0 trm   \" ><div class=\"lbl c0 trm \" ><span class=\"txtu\"><span class=\" is_note\">Amerikaanse </span></span></div></div><div class=\"contnr c0 trm   \" ><div class=\"lbl c0 trm \" ><span class=\"txtu\"><span class=\" is_note\">pianist </span></span></div></div><div class=\"contnr c1    \" ><div class=\"lbl c1  \" ><span class=\"nd\">rs </span></div><div class=\"children hor wrap \"><div class=\"contnr c0 trm   \" ><div class=\"lbl c0 trm \" ><span class=\"txtu\"><span class=\" is_note\">Richard </span></span></div></div><div class=\"contnr c0 trm   \" ><div class=\"lbl c0 trm \" ><span class=\"txtu\"><span class=\" is_note\">Moritz </span></span></div></div><div class=\"contnr c0 trm   \" ><div class=\"lbl c0 trm \" ><span class=\"txtu\"><span class=\" is_note\">Buhlig</span></span></div></div></div></div><div class=\"contnr c0 trm   \" ><div class=\"lbl c0 trm \" ><span class=\"txtu\"><span class=\" is_note\"> </span></span></div></div><div class=\"contnr c0 trm   \" ><div class=\"lbl c0 trm \" ><span class=\"txtu\"><span class=\" is_note\">(</span></span></div></div><div class=\"contnr c0 trm   \" ><div class=\"lbl c0 trm \" ><span class=\"txtu\"><span class=\" is_note\">1880</span></span></div></div><div class=\"contnr c0 trm   \" ><div class=\"lbl c0 trm \" ><span class=\"txtu\"><span class=\" is_note\">-</span></span></div></div><div class=\"contnr c0 trm   \" ><div class=\"lbl c0 trm \" ><span class=\"txtu\"><span class=\" is_note\">1952</span></span></div></div><div class=\"contnr c0 trm   \" ><div class=\"lbl c0 trm \" ><span class=\"txtu\"><span class=\" is_note\">) </span></span></div></div><div class=\"contnr c0 trm   \" ><div class=\"lbl c0 trm \" ><span class=\"txtu\"><span class=\" is_note\">gaf </span></span></div></div><div class=\"contnr c0 trm   \" ><div class=\"lbl c0 trm \" ><span class=\"txtu\"><span class=\" is_note\">begin </span></span></div></div><div class=\"contnr c0 trm   \" ><div class=\"lbl c0 trm \" ><span class=\"txtu\"><span class=\" is_note\">1909 </span></span></div></div><div class=\"contnr c0 trm   \" ><div class=\"lbl c0 trm \" ><span class=\"txtu\"><span class=\" is_note\">drie </span></span></div></div><div class=\"contnr c0 trm   \" ><div class=\"lbl c0 trm \" ><span class=\"txtu\"><span class=\" is_note\">concerten </span></span></div></div><div class=\"contnr c0 trm   \" ><div class=\"lbl c0 trm \" ><span class=\"txtu\"><span class=\" is_note\">in </span></span></div></div><div class=\"contnr c0 trm   \" ><div class=\"lbl c0 trm \" ><span class=\"txtu\"><span class=\" is_note\">de </span></span></div></div><div class=\"contnr c0 trm   \" ><div class=\"lbl c0 trm \" ><span class=\"txtu\"><span class=\" is_note\">kleine </span></span></div></div><div class=\"contnr c0 trm   \" ><div class=\"lbl c0 trm \" ><span class=\"txtu\"><span class=\" is_note\">zaal </span></span></div></div><div class=\"contnr c0 trm   \" ><div class=\"lbl c0 trm \" ><span class=\"txtu\"><span class=\" is_note\">van </span></span></div></div><div class=\"contnr c0 trm   \" ><div class=\"lbl c0 trm \" ><span class=\"txtu\"><span class=\" is_note\">het </span></span></div></div><div class=\"contnr c0 trm   \" ><div class=\"lbl c0 trm \" ><span class=\"txtu\"><span class=\" is_note\">Concertgebouw</span></span></div></div><div class=\"contnr c0 trm   \" ><div class=\"lbl c0 trm \" ><span class=\"txtu\"><span class=\" is_note\">, </span></span></div></div><div class=\"contnr c0 trm   \" ><div class=\"lbl c0 trm \" ><span class=\"txtu\"><span class=\" is_note\">op </span></span></div></div><div class=\"contnr c0 trm   \" ><div class=\"lbl c0 trm \" ><span class=\"txtu\"><span class=\" is_note\">woensdag </span></span></div></div><div class=\"contnr c0 trm   \" ><div class=\"lbl c0 trm \" ><span class=\"txtu\"><span class=\" is_note\">17 </span></span></div></div><div class=\"contnr c0 trm   \" ><div class=\"lbl c0 trm \" ><span class=\"txtu\"><span class=\" is_note\">februari</span></span></div></div><div class=\"contnr c0 trm   \" ><div class=\"lbl c0 trm \" ><span class=\"txtu\"><span class=\" is_note\">, </span></span></div></div><div class=\"contnr c0 trm   \" ><div class=\"lbl c0 trm \" ><span class=\"txtu\"><span class=\" is_note\">woensdag </span></span></div></div><div class=\"contnr c0 trm   \" ><div class=\"lbl c0 trm \" ><span class=\"txtu\"><span class=\" is_note\">3 </span></span></div></div><div class=\"contnr c0 trm   \" ><div class=\"lbl c0 trm \" ><span class=\"txtu\"><span class=\" is_note\">maart </span></span></div></div><div class=\"contnr c0 trm   \" ><div class=\"lbl c0 trm \" ><span class=\"txtu\"><span class=\" is_note\">en </span></span></div></div><div class=\"contnr c0 trm   \" ><div class=\"lbl c0 trm \" ><span class=\"txtu\"><span class=\" is_note\">woensdag </span></span></div></div><div class=\"contnr c0 trm   \" ><div class=\"lbl c0 trm \" ><span class=\"txtu\"><span class=\" is_note\">10 </span></span></div></div><div class=\"contnr c0 trm   \" ><div class=\"lbl c0 trm \" ><span class=\"txtu\"><span class=\" is_note\">maart</span></span></div></div><div class=\"contnr c0 trm   \" ><div class=\"lbl c0 trm \" ><span class=\"txtu\"><span class=\" is_note\">. </span></span></div></div><div class=\"contnr c0 trm   \" ><div class=\"lbl c0 trm \" ><span class=\"txtu\"><span class=\" is_note\">Het </span></span></div></div><div class=\"contnr c0 trm   \" ><div class=\"lbl c0 trm \" ><span class=\"txtu\"><span class=\" is_note\">is </span></span></div></div><div class=\"contnr c0 trm   \" ><div class=\"lbl c0 trm \" ><span class=\"txtu\"><span class=\" is_note\">niet </span></span></div></div><div class=\"contnr c0 trm   \" ><div class=\"lbl c0 trm \" ><span class=\"txtu\"><span class=\" is_note\">bekend </span></span></div></div><div class=\"contnr c0 trm   \" ><div class=\"lbl c0 trm \" ><span class=\"txtu\"><span class=\" is_note\">voor </span></span></div></div><div class=\"contnr c0 trm   \" ><div class=\"lbl c0 trm \" ><span class=\"txtu\"><span class=\" is_note\">welke </span></span></div></div><div class=\"contnr c0 trm   \" ><div class=\"lbl c0 trm \" ><span class=\"txtu\"><span class=\" is_note\">van </span></span></div></div><div class=\"contnr c0 trm   \" ><div class=\"lbl c0 trm \" ><span class=\"txtu\"><span class=\" is_note\">deze </span></span></div></div><div class=\"contnr c0 trm   \" ><div class=\"lbl c0 trm \" ><span class=\"txtu\"><span class=\" is_note\">concerten </span></span></div></div><div class=\"contnr c0 trm   \" ><div class=\"lbl c0 trm \" ><span class=\"txtu\"><span class=\" is_note\">Mondriaan </span></span></div></div><div class=\"contnr c0 trm   \" ><div class=\"lbl c0 trm \" ><span class=\"txtu\"><span class=\" is_note\">kaarten </span></span></div></div><div class=\"contnr c0 trm   \" ><div class=\"lbl c0 trm \" ><span class=\"txtu\"><span class=\" is_note\">had</span></span></div></div><div class=\"contnr c0 trm   \" ><div class=\"lbl c0 trm \" ><span class=\"txtu\"><span class=\" is_note\">.</span></span></div></div><div class=\"contnr c0 trm   \" ><div class=\"lbl c0 trm \" ><span class=\"txtu\"><span class=\" is_note\"><br></span></span></div></div></div></div><div class=\"contnr c0 trm   \" ><div class=\"lbl c0 trm \" ><span class=\"txtu\"><br></span></div></div></div></div></div>"
      ],
      "text/plain": [
       "<IPython.core.display.HTML object>"
      ]
     },
     "metadata": {},
     "output_type": "display_data"
    },
    {
     "data": {
      "text/html": [
       "<p><b>result</b> <i>4</i>"
      ],
      "text/plain": [
       "<IPython.core.display.HTML object>"
      ]
     },
     "metadata": {},
     "output_type": "display_data"
    },
    {
     "data": {
      "text/html": [
       "<div class=\"tfsechead \"><span class=\"ltr\"><a target=\"_blank\" href=\"https://public.annotation.org/mondriaan/proeftuin/19090216y_IONG_1303/7&amp;version=0.8.13\" title=\"Show this on the website\" sec=\"proeftuin@19090216y_IONG_1303:7\">proeftuin@19090216y_IONG_1303:7</a></span></div><div class=\" children\"><div class=\"contnr c3    \" ><div class=\"lbl c3  \" ><span class=\"nd\">chunk </span></div><div class=\"children hor wrap \"><div class=\"contnr c2    \" ><div class=\"lbl c2  \" ><span class=\"nd\">note </span></div><div class=\"features\"><span class=\"id xft\" ><span class=\"f\">id=</span>n_transcrSource_NL</span></div><div class=\"children hor wrap \"><div class=\"contnr c0 trm   \" ><div class=\"lbl c0 trm \" ><span class=\"txtu\"><span class=\" is_note\">Manuscript</span></span></div></div><div class=\"contnr c0 trm   \" ><div class=\"lbl c0 trm \" ><span class=\"txtu\"><span class=\" is_note\">.</span></span></div></div><div class=\"contnr c0 trm   \" ><div class=\"lbl c0 trm \" ><span class=\"txtu\"><span class=\" is_note\"><br></span></span></div></div></div></div><div class=\"contnr c2    \" ><div class=\"lbl c2  \" ><span class=\"nd\">note </span></div><div class=\"features\"><span class=\"id xft\" ><span class=\"f\">id=</span>n_dating_NL</span></div><div class=\"children hor wrap \"><div class=\"contnr c0 trm   \" ><div class=\"lbl c0 trm \" ><span class=\"txtu\"><span class=\" is_note\">De </span></span></div></div><div class=\"contnr c0 trm   \" ><div class=\"lbl c0 trm \" ><span class=\"txtu\"><span class=\" is_note\">brief </span></span></div></div><div class=\"contnr c0 trm   \" ><div class=\"lbl c0 trm \" ><span class=\"txtu\"><span class=\" is_note\">is </span></span></div></div><div class=\"contnr c0 trm   \" ><div class=\"lbl c0 trm \" ><span class=\"txtu\"><span class=\" is_note\">geschreven </span></span></div></div><div class=\"contnr c0 trm   \" ><div class=\"lbl c0 trm \" ><span class=\"txtu\"><span class=\" is_note\">op </span></span></div></div><div class=\"contnr c0 trm   \" ><div class=\"lbl c0 trm \" ><span class=\"txtu\"><span class=\" is_note\">een </span></span></div></div><div class=\"contnr c0 trm   \" ><div class=\"lbl c0 trm \" ><span class=\"txtu\"><span class=\" is_note\">dinsdag </span></span></div></div><div class=\"contnr c0 trm   \" ><div class=\"lbl c0 trm \" ><span class=\"txtu\"><span class=\" is_note\">voorafgaand </span></span></div></div><div class=\"contnr c0 trm   \" ><div class=\"lbl c0 trm \" ><span class=\"txtu\"><span class=\" is_note\">aan </span></span></div></div><div class=\"contnr c0 trm   \" ><div class=\"lbl c0 trm \" ><span class=\"txtu\"><span class=\" is_note\">een </span></span></div></div><div class=\"contnr c0 trm   \" ><div class=\"lbl c0 trm \" ><span class=\"txtu\"><span class=\" is_note\">van </span></span></div></div><div class=\"contnr c0 trm   \" ><div class=\"lbl c0 trm \" ><span class=\"txtu\"><span class=\" is_note\">de </span></span></div></div><div class=\"contnr c0 trm   \" ><div class=\"lbl c0 trm \" ><span class=\"txtu\"><span class=\" is_note\">drie </span></span></div></div><div class=\"contnr c0 trm   \" ><div class=\"lbl c0 trm \" ><span class=\"txtu\"><span class=\" is_note\">woensdagen </span></span></div></div><div class=\"contnr c0 trm   \" ><div class=\"lbl c0 trm \" ><span class=\"txtu\"><span class=\" is_note\">waarop </span></span></div></div><div class=\"contnr c1    \" ><div class=\"lbl c1  \" ><span class=\"nd\">rs </span></div><div class=\"children hor wrap \"><div class=\"contnr c0 trm   \" ><div class=\"lbl c0 trm \" ><span class=\"txtu\"><span class=\" is_note\">Richard </span></span></div></div><div class=\"contnr c0 trm   \" ><div class=\"lbl c0 trm \" ><span class=\"txtu\"><span class=\" is_note\">Buhlig</span></span></div></div></div></div><div class=\"contnr c0 trm   \" ><div class=\"lbl c0 trm \" ><span class=\"txtu\"><span class=\" is_note\"> </span></span></div></div><div class=\"contnr c0 trm   \" ><div class=\"lbl c0 trm \" ><span class=\"txtu\"><span class=\" is_note\">in </span></span></div></div><div class=\"contnr c0 trm   \" ><div class=\"lbl c0 trm \" ><span class=\"txtu\"><span class=\" is_note\">1909 </span></span></div></div><div class=\"contnr c0 trm   \" ><div class=\"lbl c0 trm \" ><span class=\"txtu\"><span class=\" is_note\">in </span></span></div></div><div class=\"contnr c0 trm   \" ><div class=\"lbl c0 trm \" ><span class=\"txtu\"><span class=\" is_note\">de </span></span></div></div><div class=\"contnr c0 trm   \" ><div class=\"lbl c0 trm \" ><span class=\"txtu\"><span class=\" is_note\">kleine </span></span></div></div><div class=\"contnr c0 trm   \" ><div class=\"lbl c0 trm \" ><span class=\"txtu\"><span class=\" is_note\">zaal </span></span></div></div><div class=\"contnr c0 trm   \" ><div class=\"lbl c0 trm \" ><span class=\"txtu\"><span class=\" is_note\">van </span></span></div></div><div class=\"contnr c0 trm   \" ><div class=\"lbl c0 trm \" ><span class=\"txtu\"><span class=\" is_note\">het </span></span></div></div><div class=\"contnr c0 trm   \" ><div class=\"lbl c0 trm \" ><span class=\"txtu\"><span class=\" is_note\">Concertgebouw </span></span></div></div><div class=\"contnr c0 trm   \" ><div class=\"lbl c0 trm \" ><span class=\"txtu\"><span class=\" is_note\">een </span></span></div></div><div class=\"contnr c0 trm   \" ><div class=\"lbl c0 trm \" ><span class=\"txtu\"><span class=\" is_note\">concert </span></span></div></div><div class=\"contnr c0 trm   \" ><div class=\"lbl c0 trm \" ><span class=\"txtu\"><span class=\" is_note\">zou </span></span></div></div><div class=\"contnr c0 trm   \" ><div class=\"lbl c0 trm \" ><span class=\"txtu\"><span class=\" is_note\">geven</span></span></div></div><div class=\"contnr c0 trm   \" ><div class=\"lbl c0 trm \" ><span class=\"txtu\"><span class=\" is_note\">: </span></span></div></div><div class=\"contnr c0 trm   \" ><div class=\"lbl c0 trm \" ><span class=\"txtu\"><span class=\" is_note\">17 </span></span></div></div><div class=\"contnr c0 trm   \" ><div class=\"lbl c0 trm \" ><span class=\"txtu\"><span class=\" is_note\">februari</span></span></div></div><div class=\"contnr c0 trm   \" ><div class=\"lbl c0 trm \" ><span class=\"txtu\"><span class=\" is_note\">, </span></span></div></div><div class=\"contnr c0 trm   \" ><div class=\"lbl c0 trm \" ><span class=\"txtu\"><span class=\" is_note\">3 </span></span></div></div><div class=\"contnr c0 trm   \" ><div class=\"lbl c0 trm \" ><span class=\"txtu\"><span class=\" is_note\">maart </span></span></div></div><div class=\"contnr c0 trm   \" ><div class=\"lbl c0 trm \" ><span class=\"txtu\"><span class=\" is_note\">en </span></span></div></div><div class=\"contnr c0 trm   \" ><div class=\"lbl c0 trm \" ><span class=\"txtu\"><span class=\" is_note\">10 </span></span></div></div><div class=\"contnr c0 trm   \" ><div class=\"lbl c0 trm \" ><span class=\"txtu\"><span class=\" is_note\">maart</span></span></div></div><div class=\"contnr c0 trm   \" ><div class=\"lbl c0 trm \" ><span class=\"txtu\"><span class=\" is_note\">. </span></span></div></div><div class=\"contnr c0 trm   \" ><div class=\"lbl c0 trm \" ><span class=\"txtu\"><span class=\" is_note\">Zie </span></span></div></div><div class=\"contnr c0 trm   \" ><div class=\"lbl c0 trm \" ><span class=\"txtu\"><span class=\" is_note\">tevens </span></span></div></div><div class=\"contnr c1    \" ><div class=\"lbl c1  \" ><span class=\"nd\">ref </span></div><div class=\"features\"><span class=\"link_target xft\" ><span class=\"e\" edge=\"link_target\" nd=\"19447\">link_target•</span>\n",
       "<span\n",
       "    ef=\"link_target\"\n",
       "    nd=\"19447\"\n",
       "    md=\"18992\"\n",
       "    arrow=\"right\"\n",
       "    class=\"etf\" \n",
       "><span class=\"etfx\">↦</span></span>\n",
       "</span><span class=\"target xft\" ><span class=\"f\">target=</span>#plaatsBuhlig</span></div><div class=\"children hor wrap \"><div class=\"contnr c0 trm   \" ><div class=\"lbl c0 trm \" ><span class=\"txtu\"><span class=\" is_note\">n. </span></span></div></div><div class=\"contnr c0 trm   \" ><div class=\"lbl c0 trm \" ><span class=\"txtu\"><span class=\" is_note\">\"</span></span></div></div><div class=\"contnr c0 trm   \" ><div class=\"lbl c0 trm \" ><span class=\"txtu\"><span class=\" is_note\">plaatsBuhlig</span></span></div></div><div class=\"contnr c0 trm   \" ><div class=\"lbl c0 trm \" ><span class=\"txtu\"><span class=\" is_note\">\"</span></span></div></div></div></div><div class=\"contnr c0 trm   \" ><div class=\"lbl c0 trm \" ><span class=\"txtu\"><span class=\" is_note\">.</span></span></div></div><div class=\"contnr c0 trm   \" ><div class=\"lbl c0 trm \" ><span class=\"txtu\"><span class=\" is_note\"><br></span></span></div></div></div></div><div class=\"contnr c2    \" ><div class=\"lbl c2  \" ><span class=\"nd\">note </span></div><div class=\"features\"><span class=\"id xft\" ><span class=\"f\">id=</span>ogt_1_NL</span></div><div class=\"children hor wrap \"><div class=\"contnr c0 trm   \" ><div class=\"lbl c0 trm \" ><span class=\"txtu\"><span class=\" is_note\">​</span></span></div></div></div></div><div class=\"contnr c0 trm   \" ><div class=\"lbl c0 trm \" ><span class=\"txtu\"><br></span></div></div><div class=\"contnr c2    \" ><div class=\"lbl c2  \" ><span class=\"nd\">note </span></div><div class=\"features\"><span class=\"id xft\" ><span class=\"f\">id=</span>Zus_NL</span></div><div class=\"children hor wrap \"><div class=\"contnr c1    \" ><div class=\"lbl c1  \" ><span class=\"nd\">rs </span></div><div class=\"children hor wrap \"><div class=\"contnr c0 trm   \" ><div class=\"lbl c0 trm \" ><span class=\"txtu\"><span class=\" is_note\">Aletta</span></span></div></div></div></div><div class=\"contnr c0 trm   \" ><div class=\"lbl c0 trm \" ><span class=\"txtu\"><span class=\" is_note\"> </span></span></div></div><div class=\"contnr c0 trm   \" ><div class=\"lbl c0 trm \" ><span class=\"txtu\"><span class=\" is_note\">werd </span></span></div></div><div class=\"contnr c0 trm   \" ><div class=\"lbl c0 trm \" ><span class=\"txtu\"><span class=\" is_note\">binnen </span></span></div></div><div class=\"contnr c0 trm   \" ><div class=\"lbl c0 trm \" ><span class=\"txtu\"><span class=\" is_note\">haar </span></span></div></div><div class=\"contnr c0 trm   \" ><div class=\"lbl c0 trm \" ><span class=\"txtu\"><span class=\" is_note\">familie </span></span></div></div><div class=\"contnr c0 trm   \" ><div class=\"lbl c0 trm \" ><span class=\"txtu\"><span class=\" is_note\">aangesproken </span></span></div></div><div class=\"contnr c0 trm   \" ><div class=\"lbl c0 trm \" ><span class=\"txtu\"><span class=\" is_note\">met </span></span></div></div><div class=\"contnr c0 trm   \" ><div class=\"lbl c0 trm \" ><span class=\"txtu\"><span class=\" is_note\">de </span></span></div></div><div class=\"contnr c0 trm   \" ><div class=\"lbl c0 trm \" ><span class=\"txtu\"><span class=\" is_note\">koosnaam </span></span></div></div><div class=\"contnr c0 trm   \" ><div class=\"lbl c0 trm \" ><span class=\"txtu\"><span class=\" is_note\">'</span></span></div></div><div class=\"contnr c0 trm   \" ><div class=\"lbl c0 trm \" ><span class=\"txtu\"><span class=\" is_note\">Zus</span></span></div></div><div class=\"contnr c0 trm   \" ><div class=\"lbl c0 trm \" ><span class=\"txtu\"><span class=\" is_note\">' </span></span></div></div><div class=\"contnr c0 trm   \" ><div class=\"lbl c0 trm \" ><span class=\"txtu\"><span class=\" is_note\">(</span></span></div></div><div class=\"contnr c1    \" ><div class=\"lbl c1  \" ><span class=\"nd\">ref </span></div><div class=\"features\"><span class=\"link_target xft\" ><span class=\"e\" edge=\"link_target\" nd=\"19448\">link_target•</span>\n",
       "<span\n",
       "    ef=\"link_target\"\n",
       "    nd=\"19448\"\n",
       "    md=\"17842\"\n",
       "    arrow=\"right\"\n",
       "    class=\"etf\" \n",
       "><span class=\"etfx\">↦</span></span>\n",
       "</span><span class=\"target xft\" ><span class=\"f\">target=</span>biblio.xml#Heteren2018</span></div><div class=\"children hor wrap \"><div class=\"contnr c0 trm   \" ><div class=\"lbl c0 trm \" ><span class=\"txtu\"><span class=\" is_note\">Heteren </span></span></div></div><div class=\"contnr c0 trm   \" ><div class=\"lbl c0 trm \" ><span class=\"txtu\"><span class=\" is_note\">2018</span></span></div></div></div></div><div class=\"contnr c0 trm   \" ><div class=\"lbl c0 trm \" ><span class=\"txtu\"><span class=\" is_note\">, </span></span></div></div><div class=\"contnr c0 trm   \" ><div class=\"lbl c0 trm \" ><span class=\"txtu\"><span class=\" is_note\">p. </span></span></div></div><div class=\"contnr c0 trm   \" ><div class=\"lbl c0 trm \" ><span class=\"txtu\"><span class=\" is_note\">25</span></span></div></div><div class=\"contnr c0 trm   \" ><div class=\"lbl c0 trm \" ><span class=\"txtu\"><span class=\" is_note\">) </span></span></div></div><div class=\"contnr c0 trm   \" ><div class=\"lbl c0 trm \" ><span class=\"txtu\"><span class=\" is_note\">Mondriaans </span></span></div></div><div class=\"contnr c0 trm   \" ><div class=\"lbl c0 trm \" ><span class=\"txtu\"><span class=\" is_note\">gebruik </span></span></div></div><div class=\"contnr c0 trm   \" ><div class=\"lbl c0 trm \" ><span class=\"txtu\"><span class=\" is_note\">van </span></span></div></div><div class=\"contnr c0 trm   \" ><div class=\"lbl c0 trm \" ><span class=\"txtu\"><span class=\" is_note\">deze </span></span></div></div><div class=\"contnr c0 trm   \" ><div class=\"lbl c0 trm \" ><span class=\"txtu\"><span class=\" is_note\">naam </span></span></div></div><div class=\"contnr c0 trm   \" ><div class=\"lbl c0 trm \" ><span class=\"txtu\"><span class=\" is_note\">geeft </span></span></div></div><div class=\"contnr c0 trm   \" ><div class=\"lbl c0 trm \" ><span class=\"txtu\"><span class=\" is_note\">aan </span></span></div></div><div class=\"contnr c0 trm   \" ><div class=\"lbl c0 trm \" ><span class=\"txtu\"><span class=\" is_note\">dat </span></span></div></div><div class=\"contnr c0 trm   \" ><div class=\"lbl c0 trm \" ><span class=\"txtu\"><span class=\" is_note\">hij </span></span></div></div><div class=\"contnr c0 trm   \" ><div class=\"lbl c0 trm \" ><span class=\"txtu\"><span class=\" is_note\">op </span></span></div></div><div class=\"contnr c0 trm   \" ><div class=\"lbl c0 trm \" ><span class=\"txtu\"><span class=\" is_note\">intieme </span></span></div></div><div class=\"contnr c0 trm   \" ><div class=\"lbl c0 trm \" ><span class=\"txtu\"><span class=\" is_note\">voet </span></span></div></div><div class=\"contnr c0 trm   \" ><div class=\"lbl c0 trm \" ><span class=\"txtu\"><span class=\" is_note\">stond </span></span></div></div><div class=\"contnr c0 trm   \" ><div class=\"lbl c0 trm \" ><span class=\"txtu\"><span class=\" is_note\">met </span></span></div></div><div class=\"contnr c0 trm   \" ><div class=\"lbl c0 trm \" ><span class=\"txtu\"><span class=\" is_note\">De </span></span></div></div><div class=\"contnr c0 trm   \" ><div class=\"lbl c0 trm \" ><span class=\"txtu\"><span class=\" is_note\">Iongh</span></span></div></div><div class=\"contnr c0 trm   \" ><div class=\"lbl c0 trm \" ><span class=\"txtu\"><span class=\" is_note\">.</span></span></div></div><div class=\"contnr c0 trm   \" ><div class=\"lbl c0 trm \" ><span class=\"txtu\"><span class=\" is_note\"><br></span></span></div></div></div></div><div class=\"contnr c2    \" ><div class=\"lbl c2  \" ><span class=\"nd\">note </span></div><div class=\"features\"><span class=\"id xft\" ><span class=\"f\">id=</span>plaatsBuhlig_NL</span></div><div class=\"children hor wrap \"><div class=\"contnr c0 trm   \" ><div class=\"lbl c0 trm \" ><span class=\"txtu\"><span class=\" is_note\">De </span></span></div></div><div class=\"contnr c0 trm   \" ><div class=\"lbl c0 trm \" ><span class=\"txtu\"><span class=\" is_note\">Amerikaanse </span></span></div></div><div class=\"contnr c0 trm   \" ><div class=\"lbl c0 trm \" ><span class=\"txtu\"><span class=\" is_note\">pianist </span></span></div></div><div class=\"contnr c1    \" ><div class=\"lbl c1  \" ><span class=\"nd\">rs </span></div><div class=\"children hor wrap \"><div class=\"contnr c0 trm   \" ><div class=\"lbl c0 trm \" ><span class=\"txtu\"><span class=\" is_note\">Richard </span></span></div></div><div class=\"contnr c0 trm   \" ><div class=\"lbl c0 trm \" ><span class=\"txtu\"><span class=\" is_note\">Moritz </span></span></div></div><div class=\"contnr c0 trm   \" ><div class=\"lbl c0 trm \" ><span class=\"txtu\"><span class=\" is_note\">Buhlig</span></span></div></div></div></div><div class=\"contnr c0 trm   \" ><div class=\"lbl c0 trm \" ><span class=\"txtu\"><span class=\" is_note\"> </span></span></div></div><div class=\"contnr c0 trm   \" ><div class=\"lbl c0 trm \" ><span class=\"txtu\"><span class=\" is_note\">(</span></span></div></div><div class=\"contnr c0 trm   \" ><div class=\"lbl c0 trm \" ><span class=\"txtu\"><span class=\" is_note\">1880</span></span></div></div><div class=\"contnr c0 trm   \" ><div class=\"lbl c0 trm \" ><span class=\"txtu\"><span class=\" is_note\">-</span></span></div></div><div class=\"contnr c0 trm   \" ><div class=\"lbl c0 trm \" ><span class=\"txtu\"><span class=\" is_note\">1952</span></span></div></div><div class=\"contnr c0 trm   \" ><div class=\"lbl c0 trm \" ><span class=\"txtu\"><span class=\" is_note\">) </span></span></div></div><div class=\"contnr c0 trm   \" ><div class=\"lbl c0 trm \" ><span class=\"txtu\"><span class=\" is_note\">gaf </span></span></div></div><div class=\"contnr c0 trm   \" ><div class=\"lbl c0 trm \" ><span class=\"txtu\"><span class=\" is_note\">begin </span></span></div></div><div class=\"contnr c0 trm   \" ><div class=\"lbl c0 trm \" ><span class=\"txtu\"><span class=\" is_note\">1909 </span></span></div></div><div class=\"contnr c0 trm   \" ><div class=\"lbl c0 trm \" ><span class=\"txtu\"><span class=\" is_note\">drie </span></span></div></div><div class=\"contnr c0 trm   \" ><div class=\"lbl c0 trm \" ><span class=\"txtu\"><span class=\" is_note\">concerten </span></span></div></div><div class=\"contnr c0 trm   \" ><div class=\"lbl c0 trm \" ><span class=\"txtu\"><span class=\" is_note\">in </span></span></div></div><div class=\"contnr c0 trm   \" ><div class=\"lbl c0 trm \" ><span class=\"txtu\"><span class=\" is_note\">de </span></span></div></div><div class=\"contnr c0 trm   \" ><div class=\"lbl c0 trm \" ><span class=\"txtu\"><span class=\" is_note\">kleine </span></span></div></div><div class=\"contnr c0 trm   \" ><div class=\"lbl c0 trm \" ><span class=\"txtu\"><span class=\" is_note\">zaal </span></span></div></div><div class=\"contnr c0 trm   \" ><div class=\"lbl c0 trm \" ><span class=\"txtu\"><span class=\" is_note\">van </span></span></div></div><div class=\"contnr c0 trm   \" ><div class=\"lbl c0 trm \" ><span class=\"txtu\"><span class=\" is_note\">het </span></span></div></div><div class=\"contnr c0 trm   \" ><div class=\"lbl c0 trm \" ><span class=\"txtu\"><span class=\" is_note\">Concertgebouw</span></span></div></div><div class=\"contnr c0 trm   \" ><div class=\"lbl c0 trm \" ><span class=\"txtu\"><span class=\" is_note\">, </span></span></div></div><div class=\"contnr c0 trm   \" ><div class=\"lbl c0 trm \" ><span class=\"txtu\"><span class=\" is_note\">op </span></span></div></div><div class=\"contnr c0 trm   \" ><div class=\"lbl c0 trm \" ><span class=\"txtu\"><span class=\" is_note\">woensdag </span></span></div></div><div class=\"contnr c0 trm   \" ><div class=\"lbl c0 trm \" ><span class=\"txtu\"><span class=\" is_note\">17 </span></span></div></div><div class=\"contnr c0 trm   \" ><div class=\"lbl c0 trm \" ><span class=\"txtu\"><span class=\" is_note\">februari</span></span></div></div><div class=\"contnr c0 trm   \" ><div class=\"lbl c0 trm \" ><span class=\"txtu\"><span class=\" is_note\">, </span></span></div></div><div class=\"contnr c0 trm   \" ><div class=\"lbl c0 trm \" ><span class=\"txtu\"><span class=\" is_note\">woensdag </span></span></div></div><div class=\"contnr c0 trm   \" ><div class=\"lbl c0 trm \" ><span class=\"txtu\"><span class=\" is_note\">3 </span></span></div></div><div class=\"contnr c0 trm   \" ><div class=\"lbl c0 trm \" ><span class=\"txtu\"><span class=\" is_note\">maart </span></span></div></div><div class=\"contnr c0 trm   \" ><div class=\"lbl c0 trm \" ><span class=\"txtu\"><span class=\" is_note\">en </span></span></div></div><div class=\"contnr c0 trm   \" ><div class=\"lbl c0 trm \" ><span class=\"txtu\"><span class=\" is_note\">woensdag </span></span></div></div><div class=\"contnr c0 trm   \" ><div class=\"lbl c0 trm \" ><span class=\"txtu\"><span class=\" is_note\">10 </span></span></div></div><div class=\"contnr c0 trm   \" ><div class=\"lbl c0 trm \" ><span class=\"txtu\"><span class=\" is_note\">maart</span></span></div></div><div class=\"contnr c0 trm   \" ><div class=\"lbl c0 trm \" ><span class=\"txtu\"><span class=\" is_note\">. </span></span></div></div><div class=\"contnr c0 trm   \" ><div class=\"lbl c0 trm \" ><span class=\"txtu\"><span class=\" is_note\">Het </span></span></div></div><div class=\"contnr c0 trm   \" ><div class=\"lbl c0 trm \" ><span class=\"txtu\"><span class=\" is_note\">is </span></span></div></div><div class=\"contnr c0 trm   \" ><div class=\"lbl c0 trm \" ><span class=\"txtu\"><span class=\" is_note\">niet </span></span></div></div><div class=\"contnr c0 trm   \" ><div class=\"lbl c0 trm \" ><span class=\"txtu\"><span class=\" is_note\">bekend </span></span></div></div><div class=\"contnr c0 trm   \" ><div class=\"lbl c0 trm \" ><span class=\"txtu\"><span class=\" is_note\">voor </span></span></div></div><div class=\"contnr c0 trm   \" ><div class=\"lbl c0 trm \" ><span class=\"txtu\"><span class=\" is_note\">welke </span></span></div></div><div class=\"contnr c0 trm   \" ><div class=\"lbl c0 trm \" ><span class=\"txtu\"><span class=\" is_note\">van </span></span></div></div><div class=\"contnr c0 trm   \" ><div class=\"lbl c0 trm \" ><span class=\"txtu\"><span class=\" is_note\">deze </span></span></div></div><div class=\"contnr c0 trm   \" ><div class=\"lbl c0 trm \" ><span class=\"txtu\"><span class=\" is_note\">concerten </span></span></div></div><div class=\"contnr c0 trm   \" ><div class=\"lbl c0 trm \" ><span class=\"txtu\"><span class=\" is_note\">Mondriaan </span></span></div></div><div class=\"contnr c0 trm   \" ><div class=\"lbl c0 trm \" ><span class=\"txtu\"><span class=\" is_note\">kaarten </span></span></div></div><div class=\"contnr c0 trm   \" ><div class=\"lbl c0 trm \" ><span class=\"txtu\"><span class=\" is_note\">had</span></span></div></div><div class=\"contnr c0 trm   \" ><div class=\"lbl c0 trm \" ><span class=\"txtu\"><span class=\" is_note\">.</span></span></div></div><div class=\"contnr c0 trm   \" ><div class=\"lbl c0 trm \" ><span class=\"txtu\"><span class=\" is_note\"><br></span></span></div></div></div></div><div class=\"contnr c2    \" ><div class=\"lbl c2  \" ><span class=\"nd\">note </span></div><div class=\"features\"><span class=\"id xft\" ><span class=\"f\">id=</span>n_transcrSource</span></div><div class=\"children hor wrap \"><div class=\"contnr c0 trm   \" ><div class=\"lbl c0 trm \" ><span class=\"txtu\"><span class=\" is_note\">*</span></span></div></div><div class=\"contnr c0 trm   \" ><div class=\"lbl c0 trm \" ><span class=\"txtu\"><span class=\" is_note\">*</span></span></div></div><div class=\"contnr c0 trm   \" ><div class=\"lbl c0 trm \" ><span class=\"txtu\"><span class=\" is_note\">SUBSTITUTE </span></span></div></div><div class=\"contnr c0 trm   \" ><div class=\"lbl c0 trm \" ><span class=\"txtu\"><span class=\" is_note\">FOR </span></span></div></div><div class=\"contnr c0 trm   \" ><div class=\"lbl c0 trm \" ><span class=\"txtu\"><span class=\" is_note\">ENGLISH</span></span></div></div><div class=\"contnr c0 trm   \" ><div class=\"lbl c0 trm \" ><span class=\"txtu\"><span class=\" is_note\">*</span></span></div></div><div class=\"contnr c0 trm   \" ><div class=\"lbl c0 trm \" ><span class=\"txtu\"><span class=\" is_note\">* </span></span></div></div><div class=\"contnr c0 trm   \" ><div class=\"lbl c0 trm \" ><span class=\"txtu\"><span class=\" is_note\">Manuscript</span></span></div></div><div class=\"contnr c0 trm   \" ><div class=\"lbl c0 trm \" ><span class=\"txtu\"><span class=\" is_note\">.</span></span></div></div><div class=\"contnr c0 trm   \" ><div class=\"lbl c0 trm \" ><span class=\"txtu\"><span class=\" is_note\"><br></span></span></div></div></div></div><div class=\"contnr c2    \" ><div class=\"lbl c2  \" ><span class=\"nd\">note </span></div><div class=\"features\"><span class=\"id xft\" ><span class=\"f\">id=</span>n_dating</span></div><div class=\"children hor wrap \"><div class=\"contnr c0 trm   \" ><div class=\"lbl c0 trm \" ><span class=\"txtu\"><span class=\" is_note\">*</span></span></div></div><div class=\"contnr c0 trm   \" ><div class=\"lbl c0 trm \" ><span class=\"txtu\"><span class=\" is_note\">*</span></span></div></div><div class=\"contnr c0 trm   \" ><div class=\"lbl c0 trm \" ><span class=\"txtu\"><span class=\" is_note\">SUBSTITUTE </span></span></div></div><div class=\"contnr c0 trm   \" ><div class=\"lbl c0 trm \" ><span class=\"txtu\"><span class=\" is_note\">FOR </span></span></div></div><div class=\"contnr c0 trm   \" ><div class=\"lbl c0 trm \" ><span class=\"txtu\"><span class=\" is_note\">ENGLISH</span></span></div></div><div class=\"contnr c0 trm   \" ><div class=\"lbl c0 trm \" ><span class=\"txtu\"><span class=\" is_note\">*</span></span></div></div><div class=\"contnr c0 trm   \" ><div class=\"lbl c0 trm \" ><span class=\"txtu\"><span class=\" is_note\">* </span></span></div></div><div class=\"contnr c0 trm   \" ><div class=\"lbl c0 trm \" ><span class=\"txtu\"><span class=\" is_note\">De </span></span></div></div><div class=\"contnr c0 trm   \" ><div class=\"lbl c0 trm \" ><span class=\"txtu\"><span class=\" is_note\">brief </span></span></div></div><div class=\"contnr c0 trm   \" ><div class=\"lbl c0 trm \" ><span class=\"txtu\"><span class=\" is_note\">is </span></span></div></div><div class=\"contnr c0 trm   \" ><div class=\"lbl c0 trm \" ><span class=\"txtu\"><span class=\" is_note\">geschreven </span></span></div></div><div class=\"contnr c0 trm   \" ><div class=\"lbl c0 trm \" ><span class=\"txtu\"><span class=\" is_note\">op </span></span></div></div><div class=\"contnr c0 trm   \" ><div class=\"lbl c0 trm \" ><span class=\"txtu\"><span class=\" is_note\">een </span></span></div></div><div class=\"contnr c0 trm   \" ><div class=\"lbl c0 trm \" ><span class=\"txtu\"><span class=\" is_note\">dinsdag </span></span></div></div><div class=\"contnr c0 trm   \" ><div class=\"lbl c0 trm \" ><span class=\"txtu\"><span class=\" is_note\">voorafgaand </span></span></div></div><div class=\"contnr c0 trm   \" ><div class=\"lbl c0 trm \" ><span class=\"txtu\"><span class=\" is_note\">aan </span></span></div></div><div class=\"contnr c0 trm   \" ><div class=\"lbl c0 trm \" ><span class=\"txtu\"><span class=\" is_note\">een </span></span></div></div><div class=\"contnr c0 trm   \" ><div class=\"lbl c0 trm \" ><span class=\"txtu\"><span class=\" is_note\">van </span></span></div></div><div class=\"contnr c0 trm   \" ><div class=\"lbl c0 trm \" ><span class=\"txtu\"><span class=\" is_note\">de </span></span></div></div><div class=\"contnr c0 trm   \" ><div class=\"lbl c0 trm \" ><span class=\"txtu\"><span class=\" is_note\">drie </span></span></div></div><div class=\"contnr c0 trm   \" ><div class=\"lbl c0 trm \" ><span class=\"txtu\"><span class=\" is_note\">woensdagen </span></span></div></div><div class=\"contnr c0 trm   \" ><div class=\"lbl c0 trm \" ><span class=\"txtu\"><span class=\" is_note\">waarop </span></span></div></div><div class=\"contnr c1    \" ><div class=\"lbl c1  \" ><span class=\"nd\">rs </span></div><div class=\"children hor wrap \"><div class=\"contnr c0 trm   \" ><div class=\"lbl c0 trm \" ><span class=\"txtu\"><span class=\" is_note\">Richard </span></span></div></div><div class=\"contnr c0 trm   \" ><div class=\"lbl c0 trm \" ><span class=\"txtu\"><span class=\" is_note\">Buhlig</span></span></div></div></div></div><div class=\"contnr c0 trm   \" ><div class=\"lbl c0 trm \" ><span class=\"txtu\"><span class=\" is_note\"> </span></span></div></div><div class=\"contnr c0 trm   \" ><div class=\"lbl c0 trm \" ><span class=\"txtu\"><span class=\" is_note\">in </span></span></div></div><div class=\"contnr c0 trm   \" ><div class=\"lbl c0 trm \" ><span class=\"txtu\"><span class=\" is_note\">1909 </span></span></div></div><div class=\"contnr c0 trm   \" ><div class=\"lbl c0 trm \" ><span class=\"txtu\"><span class=\" is_note\">in </span></span></div></div><div class=\"contnr c0 trm   \" ><div class=\"lbl c0 trm \" ><span class=\"txtu\"><span class=\" is_note\">de </span></span></div></div><div class=\"contnr c0 trm   \" ><div class=\"lbl c0 trm \" ><span class=\"txtu\"><span class=\" is_note\">kleine </span></span></div></div><div class=\"contnr c0 trm   \" ><div class=\"lbl c0 trm \" ><span class=\"txtu\"><span class=\" is_note\">zaal </span></span></div></div><div class=\"contnr c0 trm   \" ><div class=\"lbl c0 trm \" ><span class=\"txtu\"><span class=\" is_note\">van </span></span></div></div><div class=\"contnr c0 trm   \" ><div class=\"lbl c0 trm \" ><span class=\"txtu\"><span class=\" is_note\">het </span></span></div></div><div class=\"contnr c0 trm   \" ><div class=\"lbl c0 trm \" ><span class=\"txtu\"><span class=\" is_note\">Concertgebouw </span></span></div></div><div class=\"contnr c0 trm   \" ><div class=\"lbl c0 trm \" ><span class=\"txtu\"><span class=\" is_note\">een </span></span></div></div><div class=\"contnr c0 trm   \" ><div class=\"lbl c0 trm \" ><span class=\"txtu\"><span class=\" is_note\">concert </span></span></div></div><div class=\"contnr c0 trm   \" ><div class=\"lbl c0 trm \" ><span class=\"txtu\"><span class=\" is_note\">zou </span></span></div></div><div class=\"contnr c0 trm   \" ><div class=\"lbl c0 trm \" ><span class=\"txtu\"><span class=\" is_note\">geven</span></span></div></div><div class=\"contnr c0 trm   \" ><div class=\"lbl c0 trm \" ><span class=\"txtu\"><span class=\" is_note\">: </span></span></div></div><div class=\"contnr c0 trm   \" ><div class=\"lbl c0 trm \" ><span class=\"txtu\"><span class=\" is_note\">17 </span></span></div></div><div class=\"contnr c0 trm   \" ><div class=\"lbl c0 trm \" ><span class=\"txtu\"><span class=\" is_note\">februari</span></span></div></div><div class=\"contnr c0 trm   \" ><div class=\"lbl c0 trm \" ><span class=\"txtu\"><span class=\" is_note\">, </span></span></div></div><div class=\"contnr c0 trm   \" ><div class=\"lbl c0 trm \" ><span class=\"txtu\"><span class=\" is_note\">3 </span></span></div></div><div class=\"contnr c0 trm   \" ><div class=\"lbl c0 trm \" ><span class=\"txtu\"><span class=\" is_note\">maart </span></span></div></div><div class=\"contnr c0 trm   \" ><div class=\"lbl c0 trm \" ><span class=\"txtu\"><span class=\" is_note\">en </span></span></div></div><div class=\"contnr c0 trm   \" ><div class=\"lbl c0 trm \" ><span class=\"txtu\"><span class=\" is_note\">10 </span></span></div></div><div class=\"contnr c0 trm   \" ><div class=\"lbl c0 trm \" ><span class=\"txtu\"><span class=\" is_note\">maart</span></span></div></div><div class=\"contnr c0 trm   \" ><div class=\"lbl c0 trm \" ><span class=\"txtu\"><span class=\" is_note\">. </span></span></div></div><div class=\"contnr c0 trm   \" ><div class=\"lbl c0 trm \" ><span class=\"txtu\"><span class=\" is_note\">Zie </span></span></div></div><div class=\"contnr c0 trm   \" ><div class=\"lbl c0 trm \" ><span class=\"txtu\"><span class=\" is_note\">tevens </span></span></div></div><div class=\"contnr c1    hl\"  style=\"background-color: cyan;\" ><div class=\"lbl c1  hl\"  style=\"background-color: cyan;\" ><span class=\"nd\">ref </span></div><div class=\"features\"><span class=\"link_target xft\" ><span class=\"e\" edge=\"link_target\" nd=\"19449\">link_target•</span>\n",
       "<span\n",
       "    ef=\"link_target\"\n",
       "    nd=\"19449\"\n",
       "    md=\"18992\"\n",
       "    arrow=\"right\"\n",
       "    class=\"etf\" \n",
       "><span class=\"etfx\">↦</span></span>\n",
       "</span><span class=\"target xft\" ><span class=\"f\">target=</span>#plaatsBuhlig</span></div><div class=\"children hor wrap \"><div class=\"contnr c0 trm   \" ><div class=\"lbl c0 trm \" ><span class=\"txtu\"><span class=\" is_note\">n. </span></span></div></div><div class=\"contnr c0 trm   \" ><div class=\"lbl c0 trm \" ><span class=\"txtu\"><span class=\" is_note\">\"</span></span></div></div><div class=\"contnr c0 trm   \" ><div class=\"lbl c0 trm \" ><span class=\"txtu\"><span class=\" is_note\">plaatsBuhlig</span></span></div></div><div class=\"contnr c0 trm   \" ><div class=\"lbl c0 trm \" ><span class=\"txtu\"><span class=\" is_note\">\"</span></span></div></div></div></div><div class=\"contnr c0 trm   \" ><div class=\"lbl c0 trm \" ><span class=\"txtu\"><span class=\" is_note\">.</span></span></div></div><div class=\"contnr c0 trm   \" ><div class=\"lbl c0 trm \" ><span class=\"txtu\"><span class=\" is_note\"><br></span></span></div></div></div></div><div class=\"contnr c2    \" ><div class=\"lbl c2  \" ><span class=\"nd\">note </span></div><div class=\"features\"><span class=\"id xft\" ><span class=\"f\">id=</span>ogt_1</span></div><div class=\"children hor wrap \"><div class=\"contnr c0 trm   \" ><div class=\"lbl c0 trm \" ><span class=\"txtu\"><span class=\" is_note\">​</span></span></div></div></div></div><div class=\"contnr c0 trm   \" ><div class=\"lbl c0 trm \" ><span class=\"txtu\"><br></span></div></div><div class=\"contnr c2    \" ><div class=\"lbl c2  \" ><span class=\"nd\">note </span></div><div class=\"features\"><span class=\"id xft\" ><span class=\"f\">id=</span>Zus</span><span class=\"link_target xft\" ><span class=\"e\" edge=\"link_target\" nd=\"18991\">link_target•</span>\n",
       "<span\n",
       "    ef=\"link_target\"\n",
       "    nd=\"18991\"\n",
       "    md=\"19349\"\n",
       "    arrow=\"left\"\n",
       "    class=\"etf\" \n",
       "><span class=\"etfx\">⇥</span></span>\n",
       " \n",
       "<span\n",
       "    ef=\"link_target\"\n",
       "    nd=\"18991\"\n",
       "    md=\"19351\"\n",
       "    arrow=\"left\"\n",
       "    class=\"etf\" \n",
       "><span class=\"etfx\">⇥</span></span>\n",
       " \n",
       "<span\n",
       "    ef=\"link_target\"\n",
       "    nd=\"18991\"\n",
       "    md=\"19352\"\n",
       "    arrow=\"left\"\n",
       "    class=\"etf\" \n",
       "><span class=\"etfx\">⇥</span></span>\n",
       "</span></div><div class=\"children hor wrap \"><div class=\"contnr c0 trm   \" ><div class=\"lbl c0 trm \" ><span class=\"txtu\"><span class=\" is_note\">*</span></span></div></div><div class=\"contnr c0 trm   \" ><div class=\"lbl c0 trm \" ><span class=\"txtu\"><span class=\" is_note\">*</span></span></div></div><div class=\"contnr c0 trm   \" ><div class=\"lbl c0 trm \" ><span class=\"txtu\"><span class=\" is_note\">SUBSTITUTE </span></span></div></div><div class=\"contnr c0 trm   \" ><div class=\"lbl c0 trm \" ><span class=\"txtu\"><span class=\" is_note\">FOR </span></span></div></div><div class=\"contnr c0 trm   \" ><div class=\"lbl c0 trm \" ><span class=\"txtu\"><span class=\" is_note\">ENGLISH</span></span></div></div><div class=\"contnr c0 trm   \" ><div class=\"lbl c0 trm \" ><span class=\"txtu\"><span class=\" is_note\">*</span></span></div></div><div class=\"contnr c0 trm   \" ><div class=\"lbl c0 trm \" ><span class=\"txtu\"><span class=\" is_note\">* </span></span></div></div><div class=\"contnr c1    \" ><div class=\"lbl c1  \" ><span class=\"nd\">rs </span></div><div class=\"children hor wrap \"><div class=\"contnr c0 trm   \" ><div class=\"lbl c0 trm \" ><span class=\"txtu\"><span class=\" is_note\">Aletta</span></span></div></div></div></div><div class=\"contnr c0 trm   \" ><div class=\"lbl c0 trm \" ><span class=\"txtu\"><span class=\" is_note\"> </span></span></div></div><div class=\"contnr c0 trm   \" ><div class=\"lbl c0 trm \" ><span class=\"txtu\"><span class=\" is_note\">werd </span></span></div></div><div class=\"contnr c0 trm   \" ><div class=\"lbl c0 trm \" ><span class=\"txtu\"><span class=\" is_note\">binnen </span></span></div></div><div class=\"contnr c0 trm   \" ><div class=\"lbl c0 trm \" ><span class=\"txtu\"><span class=\" is_note\">haar </span></span></div></div><div class=\"contnr c0 trm   \" ><div class=\"lbl c0 trm \" ><span class=\"txtu\"><span class=\" is_note\">familie </span></span></div></div><div class=\"contnr c0 trm   \" ><div class=\"lbl c0 trm \" ><span class=\"txtu\"><span class=\" is_note\">aangesproken </span></span></div></div><div class=\"contnr c0 trm   \" ><div class=\"lbl c0 trm \" ><span class=\"txtu\"><span class=\" is_note\">met </span></span></div></div><div class=\"contnr c0 trm   \" ><div class=\"lbl c0 trm \" ><span class=\"txtu\"><span class=\" is_note\">de </span></span></div></div><div class=\"contnr c0 trm   \" ><div class=\"lbl c0 trm \" ><span class=\"txtu\"><span class=\" is_note\">koosnaam </span></span></div></div><div class=\"contnr c0 trm   \" ><div class=\"lbl c0 trm \" ><span class=\"txtu\"><span class=\" is_note\">'</span></span></div></div><div class=\"contnr c0 trm   \" ><div class=\"lbl c0 trm \" ><span class=\"txtu\"><span class=\" is_note\">Zus</span></span></div></div><div class=\"contnr c0 trm   \" ><div class=\"lbl c0 trm \" ><span class=\"txtu\"><span class=\" is_note\">' </span></span></div></div><div class=\"contnr c0 trm   \" ><div class=\"lbl c0 trm \" ><span class=\"txtu\"><span class=\" is_note\">(</span></span></div></div><div class=\"contnr c1    \" ><div class=\"lbl c1  \" ><span class=\"nd\">ref </span></div><div class=\"features\"><span class=\"link_target xft\" ><span class=\"e\" edge=\"link_target\" nd=\"19450\">link_target•</span>\n",
       "<span\n",
       "    ef=\"link_target\"\n",
       "    nd=\"19450\"\n",
       "    md=\"17842\"\n",
       "    arrow=\"right\"\n",
       "    class=\"etf\" \n",
       "><span class=\"etfx\">↦</span></span>\n",
       "</span><span class=\"target xft\" ><span class=\"f\">target=</span>biblio.xml#Heteren2018</span></div><div class=\"children hor wrap \"><div class=\"contnr c0 trm   \" ><div class=\"lbl c0 trm \" ><span class=\"txtu\"><span class=\" is_note\">Heteren </span></span></div></div><div class=\"contnr c0 trm   \" ><div class=\"lbl c0 trm \" ><span class=\"txtu\"><span class=\" is_note\">2018</span></span></div></div></div></div><div class=\"contnr c0 trm   \" ><div class=\"lbl c0 trm \" ><span class=\"txtu\"><span class=\" is_note\">, </span></span></div></div><div class=\"contnr c0 trm   \" ><div class=\"lbl c0 trm \" ><span class=\"txtu\"><span class=\" is_note\">p. </span></span></div></div><div class=\"contnr c0 trm   \" ><div class=\"lbl c0 trm \" ><span class=\"txtu\"><span class=\" is_note\">25</span></span></div></div><div class=\"contnr c0 trm   \" ><div class=\"lbl c0 trm \" ><span class=\"txtu\"><span class=\" is_note\">) </span></span></div></div><div class=\"contnr c0 trm   \" ><div class=\"lbl c0 trm \" ><span class=\"txtu\"><span class=\" is_note\">Mondriaans </span></span></div></div><div class=\"contnr c0 trm   \" ><div class=\"lbl c0 trm \" ><span class=\"txtu\"><span class=\" is_note\">gebruik </span></span></div></div><div class=\"contnr c0 trm   \" ><div class=\"lbl c0 trm \" ><span class=\"txtu\"><span class=\" is_note\">van </span></span></div></div><div class=\"contnr c0 trm   \" ><div class=\"lbl c0 trm \" ><span class=\"txtu\"><span class=\" is_note\">deze </span></span></div></div><div class=\"contnr c0 trm   \" ><div class=\"lbl c0 trm \" ><span class=\"txtu\"><span class=\" is_note\">naam </span></span></div></div><div class=\"contnr c0 trm   \" ><div class=\"lbl c0 trm \" ><span class=\"txtu\"><span class=\" is_note\">geeft </span></span></div></div><div class=\"contnr c0 trm   \" ><div class=\"lbl c0 trm \" ><span class=\"txtu\"><span class=\" is_note\">aan </span></span></div></div><div class=\"contnr c0 trm   \" ><div class=\"lbl c0 trm \" ><span class=\"txtu\"><span class=\" is_note\">dat </span></span></div></div><div class=\"contnr c0 trm   \" ><div class=\"lbl c0 trm \" ><span class=\"txtu\"><span class=\" is_note\">hij </span></span></div></div><div class=\"contnr c0 trm   \" ><div class=\"lbl c0 trm \" ><span class=\"txtu\"><span class=\" is_note\">op </span></span></div></div><div class=\"contnr c0 trm   \" ><div class=\"lbl c0 trm \" ><span class=\"txtu\"><span class=\" is_note\">intieme </span></span></div></div><div class=\"contnr c0 trm   \" ><div class=\"lbl c0 trm \" ><span class=\"txtu\"><span class=\" is_note\">voet </span></span></div></div><div class=\"contnr c0 trm   \" ><div class=\"lbl c0 trm \" ><span class=\"txtu\"><span class=\" is_note\">stond </span></span></div></div><div class=\"contnr c0 trm   \" ><div class=\"lbl c0 trm \" ><span class=\"txtu\"><span class=\" is_note\">met </span></span></div></div><div class=\"contnr c0 trm   \" ><div class=\"lbl c0 trm \" ><span class=\"txtu\"><span class=\" is_note\">De </span></span></div></div><div class=\"contnr c0 trm   \" ><div class=\"lbl c0 trm \" ><span class=\"txtu\"><span class=\" is_note\">Iongh</span></span></div></div><div class=\"contnr c0 trm   \" ><div class=\"lbl c0 trm \" ><span class=\"txtu\"><span class=\" is_note\">.</span></span></div></div><div class=\"contnr c0 trm   \" ><div class=\"lbl c0 trm \" ><span class=\"txtu\"><span class=\" is_note\"><br></span></span></div></div></div></div><div class=\"contnr c2    hl\"  style=\"background-color: lightgreen;\" ><div class=\"lbl c2  hl\"  style=\"background-color: lightgreen;\" ><span class=\"nd\">note </span></div><div class=\"features\"><span class=\"id xft\" ><span class=\"f\">id=</span>plaatsBuhlig</span><span class=\"link_target xft\" ><span class=\"e\" edge=\"link_target\" nd=\"18992\">link_target•</span>\n",
       "<span\n",
       "    ef=\"link_target\"\n",
       "    nd=\"18992\"\n",
       "    md=\"19350\"\n",
       "    arrow=\"left\"\n",
       "    class=\"etf\" \n",
       "><span class=\"etfx\">⇥</span></span>\n",
       " \n",
       "<span\n",
       "    ef=\"link_target\"\n",
       "    nd=\"18992\"\n",
       "    md=\"19353\"\n",
       "    arrow=\"left\"\n",
       "    class=\"etf\" \n",
       "><span class=\"etfx\">⇥</span></span>\n",
       " \n",
       "<span\n",
       "    ef=\"link_target\"\n",
       "    nd=\"18992\"\n",
       "    md=\"19447\"\n",
       "    arrow=\"left\"\n",
       "    class=\"etf\" \n",
       "><span class=\"etfx\">⇥</span></span>\n",
       " \n",
       "<span\n",
       "    ef=\"link_target\"\n",
       "    nd=\"18992\"\n",
       "    md=\"19449\"\n",
       "    arrow=\"left\"\n",
       "    class=\"etf\" \n",
       "><span class=\"etfx\">⇥</span></span>\n",
       "</span></div><div class=\"children hor wrap \"><div class=\"contnr c0 trm   \" ><div class=\"lbl c0 trm \" ><span class=\"txtu\"><span class=\" is_note\">*</span></span></div></div><div class=\"contnr c0 trm   \" ><div class=\"lbl c0 trm \" ><span class=\"txtu\"><span class=\" is_note\">*</span></span></div></div><div class=\"contnr c0 trm   \" ><div class=\"lbl c0 trm \" ><span class=\"txtu\"><span class=\" is_note\">SUBSTITUTE </span></span></div></div><div class=\"contnr c0 trm   \" ><div class=\"lbl c0 trm \" ><span class=\"txtu\"><span class=\" is_note\">FOR </span></span></div></div><div class=\"contnr c0 trm   \" ><div class=\"lbl c0 trm \" ><span class=\"txtu\"><span class=\" is_note\">ENGLISH</span></span></div></div><div class=\"contnr c0 trm   \" ><div class=\"lbl c0 trm \" ><span class=\"txtu\"><span class=\" is_note\">*</span></span></div></div><div class=\"contnr c0 trm   \" ><div class=\"lbl c0 trm \" ><span class=\"txtu\"><span class=\" is_note\">* </span></span></div></div><div class=\"contnr c0 trm   \" ><div class=\"lbl c0 trm \" ><span class=\"txtu\"><span class=\" is_note\">De </span></span></div></div><div class=\"contnr c0 trm   \" ><div class=\"lbl c0 trm \" ><span class=\"txtu\"><span class=\" is_note\">Amerikaanse </span></span></div></div><div class=\"contnr c0 trm   \" ><div class=\"lbl c0 trm \" ><span class=\"txtu\"><span class=\" is_note\">pianist </span></span></div></div><div class=\"contnr c1    \" ><div class=\"lbl c1  \" ><span class=\"nd\">rs </span></div><div class=\"children hor wrap \"><div class=\"contnr c0 trm   \" ><div class=\"lbl c0 trm \" ><span class=\"txtu\"><span class=\" is_note\">Richard </span></span></div></div><div class=\"contnr c0 trm   \" ><div class=\"lbl c0 trm \" ><span class=\"txtu\"><span class=\" is_note\">Moritz </span></span></div></div><div class=\"contnr c0 trm   \" ><div class=\"lbl c0 trm \" ><span class=\"txtu\"><span class=\" is_note\">Buhlig</span></span></div></div></div></div><div class=\"contnr c0 trm   \" ><div class=\"lbl c0 trm \" ><span class=\"txtu\"><span class=\" is_note\"> </span></span></div></div><div class=\"contnr c0 trm   \" ><div class=\"lbl c0 trm \" ><span class=\"txtu\"><span class=\" is_note\">(</span></span></div></div><div class=\"contnr c0 trm   \" ><div class=\"lbl c0 trm \" ><span class=\"txtu\"><span class=\" is_note\">1880</span></span></div></div><div class=\"contnr c0 trm   \" ><div class=\"lbl c0 trm \" ><span class=\"txtu\"><span class=\" is_note\">-</span></span></div></div><div class=\"contnr c0 trm   \" ><div class=\"lbl c0 trm \" ><span class=\"txtu\"><span class=\" is_note\">1952</span></span></div></div><div class=\"contnr c0 trm   \" ><div class=\"lbl c0 trm \" ><span class=\"txtu\"><span class=\" is_note\">) </span></span></div></div><div class=\"contnr c0 trm   \" ><div class=\"lbl c0 trm \" ><span class=\"txtu\"><span class=\" is_note\">gaf </span></span></div></div><div class=\"contnr c0 trm   \" ><div class=\"lbl c0 trm \" ><span class=\"txtu\"><span class=\" is_note\">begin </span></span></div></div><div class=\"contnr c0 trm   \" ><div class=\"lbl c0 trm \" ><span class=\"txtu\"><span class=\" is_note\">1909 </span></span></div></div><div class=\"contnr c0 trm   \" ><div class=\"lbl c0 trm \" ><span class=\"txtu\"><span class=\" is_note\">drie </span></span></div></div><div class=\"contnr c0 trm   \" ><div class=\"lbl c0 trm \" ><span class=\"txtu\"><span class=\" is_note\">concerten </span></span></div></div><div class=\"contnr c0 trm   \" ><div class=\"lbl c0 trm \" ><span class=\"txtu\"><span class=\" is_note\">in </span></span></div></div><div class=\"contnr c0 trm   \" ><div class=\"lbl c0 trm \" ><span class=\"txtu\"><span class=\" is_note\">de </span></span></div></div><div class=\"contnr c0 trm   \" ><div class=\"lbl c0 trm \" ><span class=\"txtu\"><span class=\" is_note\">kleine </span></span></div></div><div class=\"contnr c0 trm   \" ><div class=\"lbl c0 trm \" ><span class=\"txtu\"><span class=\" is_note\">zaal </span></span></div></div><div class=\"contnr c0 trm   \" ><div class=\"lbl c0 trm \" ><span class=\"txtu\"><span class=\" is_note\">van </span></span></div></div><div class=\"contnr c0 trm   \" ><div class=\"lbl c0 trm \" ><span class=\"txtu\"><span class=\" is_note\">het </span></span></div></div><div class=\"contnr c0 trm   \" ><div class=\"lbl c0 trm \" ><span class=\"txtu\"><span class=\" is_note\">Concertgebouw</span></span></div></div><div class=\"contnr c0 trm   \" ><div class=\"lbl c0 trm \" ><span class=\"txtu\"><span class=\" is_note\">, </span></span></div></div><div class=\"contnr c0 trm   \" ><div class=\"lbl c0 trm \" ><span class=\"txtu\"><span class=\" is_note\">op </span></span></div></div><div class=\"contnr c0 trm   \" ><div class=\"lbl c0 trm \" ><span class=\"txtu\"><span class=\" is_note\">woensdag </span></span></div></div><div class=\"contnr c0 trm   \" ><div class=\"lbl c0 trm \" ><span class=\"txtu\"><span class=\" is_note\">17 </span></span></div></div><div class=\"contnr c0 trm   \" ><div class=\"lbl c0 trm \" ><span class=\"txtu\"><span class=\" is_note\">februari</span></span></div></div><div class=\"contnr c0 trm   \" ><div class=\"lbl c0 trm \" ><span class=\"txtu\"><span class=\" is_note\">, </span></span></div></div><div class=\"contnr c0 trm   \" ><div class=\"lbl c0 trm \" ><span class=\"txtu\"><span class=\" is_note\">woensdag </span></span></div></div><div class=\"contnr c0 trm   \" ><div class=\"lbl c0 trm \" ><span class=\"txtu\"><span class=\" is_note\">3 </span></span></div></div><div class=\"contnr c0 trm   \" ><div class=\"lbl c0 trm \" ><span class=\"txtu\"><span class=\" is_note\">maart </span></span></div></div><div class=\"contnr c0 trm   \" ><div class=\"lbl c0 trm \" ><span class=\"txtu\"><span class=\" is_note\">en </span></span></div></div><div class=\"contnr c0 trm   \" ><div class=\"lbl c0 trm \" ><span class=\"txtu\"><span class=\" is_note\">woensdag </span></span></div></div><div class=\"contnr c0 trm   \" ><div class=\"lbl c0 trm \" ><span class=\"txtu\"><span class=\" is_note\">10 </span></span></div></div><div class=\"contnr c0 trm   \" ><div class=\"lbl c0 trm \" ><span class=\"txtu\"><span class=\" is_note\">maart</span></span></div></div><div class=\"contnr c0 trm   \" ><div class=\"lbl c0 trm \" ><span class=\"txtu\"><span class=\" is_note\">. </span></span></div></div><div class=\"contnr c0 trm   \" ><div class=\"lbl c0 trm \" ><span class=\"txtu\"><span class=\" is_note\">Het </span></span></div></div><div class=\"contnr c0 trm   \" ><div class=\"lbl c0 trm \" ><span class=\"txtu\"><span class=\" is_note\">is </span></span></div></div><div class=\"contnr c0 trm   \" ><div class=\"lbl c0 trm \" ><span class=\"txtu\"><span class=\" is_note\">niet </span></span></div></div><div class=\"contnr c0 trm   \" ><div class=\"lbl c0 trm \" ><span class=\"txtu\"><span class=\" is_note\">bekend </span></span></div></div><div class=\"contnr c0 trm   \" ><div class=\"lbl c0 trm \" ><span class=\"txtu\"><span class=\" is_note\">voor </span></span></div></div><div class=\"contnr c0 trm   \" ><div class=\"lbl c0 trm \" ><span class=\"txtu\"><span class=\" is_note\">welke </span></span></div></div><div class=\"contnr c0 trm   \" ><div class=\"lbl c0 trm \" ><span class=\"txtu\"><span class=\" is_note\">van </span></span></div></div><div class=\"contnr c0 trm   \" ><div class=\"lbl c0 trm \" ><span class=\"txtu\"><span class=\" is_note\">deze </span></span></div></div><div class=\"contnr c0 trm   \" ><div class=\"lbl c0 trm \" ><span class=\"txtu\"><span class=\" is_note\">concerten </span></span></div></div><div class=\"contnr c0 trm   \" ><div class=\"lbl c0 trm \" ><span class=\"txtu\"><span class=\" is_note\">Mondriaan </span></span></div></div><div class=\"contnr c0 trm   \" ><div class=\"lbl c0 trm \" ><span class=\"txtu\"><span class=\" is_note\">kaarten </span></span></div></div><div class=\"contnr c0 trm   \" ><div class=\"lbl c0 trm \" ><span class=\"txtu\"><span class=\" is_note\">had</span></span></div></div><div class=\"contnr c0 trm   \" ><div class=\"lbl c0 trm \" ><span class=\"txtu\"><span class=\" is_note\">.</span></span></div></div><div class=\"contnr c0 trm   \" ><div class=\"lbl c0 trm \" ><span class=\"txtu\"><span class=\" is_note\"><br></span></span></div></div></div></div><div class=\"contnr c0 trm   \" ><div class=\"lbl c0 trm \" ><span class=\"txtu\"><br></span></div></div></div></div></div>"
      ],
      "text/plain": [
       "<IPython.core.display.HTML object>"
      ]
     },
     "metadata": {},
     "output_type": "display_data"
    }
   ],
   "source": [
    "A.show(\n",
    "    results,\n",
    "    end=4,\n",
    "    condensed=False,\n",
    "    withNodes=False,\n",
    "    hideTypes=True,\n",
    "    hiddenTypes={\"sentence\", \"token\"},\n",
    "    colorMap={0: \"blue\", 1: \"cyan\", 2: \"lightgreen\"},\n",
    ")"
   ]
  },
  {
   "cell_type": "code",
   "execution_count": 43,
   "id": "165d6fc9-28de-4e20-add0-b38a24df7698",
   "metadata": {
    "tags": []
   },
   "outputs": [
    {
     "data": {
      "text/markdown": [
       "### link_ref with 14 items\n",
       "\n",
       "rs `19590` links via *ref*=`artwork.xml#a277201` to\n",
       "\n",
       "* artwork `17762` *id*=`a277201`\n",
       "\n",
       "rs `19591` links via *ref*=`artwork.xml#a68554` to\n",
       "\n",
       "* artwork `17764` *id*=`a68554`\n",
       "\n",
       "rs `19597` links via *ref*=`artwork.xml#a277201` to\n",
       "\n",
       "* artwork `17762` *id*=`a277201`\n",
       "\n",
       "rs `19598` links via *ref*=`artwork.xml#a68554` to\n",
       "\n",
       "* artwork `17764` *id*=`a68554`\n",
       "\n",
       "rs `19654` links via *ref*=`artwork.xml#a62319` to\n",
       "\n",
       "* artwork `17769` *id*=`a62319`\n",
       "\n"
      ],
      "text/plain": [
       "<IPython.core.display.Markdown object>"
      ]
     },
     "metadata": {},
     "output_type": "display_data"
    },
    {
     "data": {
      "text/markdown": [
       "### link_target with 142 items\n",
       "\n",
       "ptr `19349` links via *target*=`#Zus` to\n",
       "\n",
       "* note `18991` *id*=`Zus`\n",
       "\n",
       "ptr `19350` links via *target*=`#plaatsBuhlig` to\n",
       "\n",
       "* note `18992` *id*=`plaatsBuhlig`\n",
       "\n",
       "ptr `19351` links via *target*=`#Zus` to\n",
       "\n",
       "* note `18991` *id*=`Zus`\n",
       "\n",
       "ptr `19352` links via *target*=`#Zus` to\n",
       "\n",
       "* note `18991` *id*=`Zus`\n",
       "\n",
       "ptr `19353` links via *target*=`#plaatsBuhlig` to\n",
       "\n",
       "* note `18992` *id*=`plaatsBuhlig`\n",
       "\n"
      ],
      "text/plain": [
       "<IPython.core.display.Markdown object>"
      ]
     },
     "metadata": {},
     "output_type": "display_data"
    }
   ],
   "source": [
    "for feature in linkFeatures:\n",
    "    att = feature[5:]\n",
    "    eObj = Es(feature)\n",
    "    if eObj:\n",
    "        items = list(eObj.items())\n",
    "        nItems = sum(len(x[1]) for x in items)\n",
    "        md = f\"### {feature} with {nItems} items\\n\\n\"\n",
    "\n",
    "        for (nodeFrom, nodesTo) in items[0:5]:\n",
    "            fType = F.otype.v(nodeFrom)\n",
    "            val = Fs(att).v(nodeFrom)\n",
    "            ref = f\"*{att}*=`{val}`\"\n",
    "            md += f\"\"\"{fType} `{nodeFrom}` links via {ref} to\\n\\n\"\"\"\n",
    "            for nodeTo in nodesTo:\n",
    "                tType = F.otype.v(nodeTo)\n",
    "                idv = F.id.v(nodeTo)\n",
    "                md += f\"\"\"* {tType} `{nodeTo}` *id*=`{idv}`\\n\"\"\"\n",
    "            md += \"\\n\"\n",
    "        dm(md)\n",
    "    else:\n",
    "        dm(f\"### {feature} with 0 items\\n\\n\")"
   ]
  },
  {
   "cell_type": "markdown",
   "id": "1946b77a-b1e2-47d0-b54e-3790f183a951",
   "metadata": {},
   "source": [
    "Now a rigorous test"
   ]
  },
  {
   "cell_type": "code",
   "execution_count": 44,
   "id": "766c4d5c-e09f-4108-bc91-a712884fad0d",
   "metadata": {
    "tags": []
   },
   "outputs": [
    {
     "data": {
      "text/markdown": [
       "### link_ref with 14 items linked by attribute ref\n",
       "\n"
      ],
      "text/plain": [
       "<IPython.core.display.Markdown object>"
      ]
     },
     "metadata": {},
     "output_type": "display_data"
    },
    {
     "data": {
      "text/markdown": [
       "All 14 correctly linked\n"
      ],
      "text/plain": [
       "<IPython.core.display.Markdown object>"
      ]
     },
     "metadata": {},
     "output_type": "display_data"
    },
    {
     "data": {
      "text/markdown": [
       "### link_target with 142 items linked by attribute target\n",
       "\n"
      ],
      "text/plain": [
       "<IPython.core.display.Markdown object>"
      ]
     },
     "metadata": {},
     "output_type": "display_data"
    },
    {
     "data": {
      "text/markdown": [
       "All 142 correctly linked\n"
      ],
      "text/plain": [
       "<IPython.core.display.Markdown object>"
      ]
     },
     "metadata": {},
     "output_type": "display_data"
    }
   ],
   "source": [
    "for feature in linkFeatures:\n",
    "    att = feature[5:]\n",
    "    eObj = Es(feature)\n",
    "    \n",
    "    \n",
    "    if eObj:\n",
    "        items = list(eObj.items())\n",
    "        nItems = sum(len(x[1]) for x in items)\n",
    "        dm(f\"### {feature} with {nItems} items linked by attribute {att}\\n\\n\")\n",
    "\n",
    "        oks = 0\n",
    "        nonOks = 0\n",
    "        nonOkInfo = []\n",
    "        \n",
    "        for (nodeFrom, nodesTo) in items:\n",
    "            typeFrom = F.otype.v(nodeFrom)\n",
    "            fileFrom = nodeFrom if typeFrom in {\"file\"} else L.u(nodeFrom, otype=\"file\")[0]\n",
    "            nameFrom = F.file.v(fileFrom)\n",
    "            refVals = set()\n",
    "            for refVal in set(Fs(att).v(nodeFrom).split()):\n",
    "                parts = refVal.split(\"#\", 1)\n",
    "                if len(parts) == 1:\n",
    "                    parts = (refVal, \"\")\n",
    "                elif parts[0] == \"\":\n",
    "                    parts[0] = f\"{nameFrom}.xml\"\n",
    "                refVals.add(\"#\".join(parts))\n",
    "            \n",
    "            idVals = set()\n",
    "            for nodeTo in nodesTo:\n",
    "                typeTo = F.otype.v(nodeTo)\n",
    "                fileTo = nodeTo if typeTo in {\"file\"} else L.u(nodeTo, otype=\"file\")[0]\n",
    "                nameTo = F.file.v(fileTo)\n",
    "                fileTo = F.file.v(nodeTo)\n",
    "                idVal = \"#\".join((f\"{nameTo}.xml\", F.id.v(nodeTo) or \"\"))\n",
    "                idVals.add(idVal)\n",
    "                               \n",
    "            thisOk = refVals == idVals\n",
    "            nNodesTo = len(nodesTo)\n",
    "            if thisOk:\n",
    "                oks += nNodesTo\n",
    "            else:\n",
    "                nonOks += nNodesTo\n",
    "                nonOkInfo.append((nodeFrom, refVals, idVals))\n",
    "                \n",
    "        if len(nonOkInfo) == 0:\n",
    "            dm(f\"All {oks} correctly linked\\n\")\n",
    "        else:\n",
    "            dm(f\"{oks} correctly linked\\n\\n\")\n",
    "            dm(f\"{nonOks} problems in {len(nonOkInfo)} unique cases:\\n\\n\")\n",
    "            for (nodeFrom, refVals, idVals) in nonOkInfo:\n",
    "                dm(f\"* `{nodeFrom}`: `{refVals}` not equal to `{idVals}`\\n\")\n",
    "            \n",
    "    else:\n",
    "        dm(f\"### {feature} with 0 items\\n\\n\")\n"
   ]
  },
  {
   "cell_type": "markdown",
   "id": "97529182-8ccd-4c48-8101-d8c102af98ce",
   "metadata": {},
   "source": [
    "## Structure features\n",
    "\n",
    "We explore which nodes are linked by means of a `parent` edge and which ones by means of a `sibling` edge.\n",
    "\n",
    "We only look at immediate siblings."
   ]
  },
  {
   "cell_type": "code",
   "execution_count": 70,
   "id": "6b21c075-ea86-490a-9706-76bf309ebe39",
   "metadata": {
    "tags": []
   },
   "outputs": [
    {
     "name": "stdout",
     "output_type": "stream",
     "text": [
      "  0.02s 2114 results\n",
      "parent:\n",
      "\t 168 x change          -> revisionDesc\n",
      "\t 142 x title           -> bibl\n",
      "\t 127 x rs              -> note\n",
      "\t 106 x note            -> listAnnotation\n",
      "\t 104 x bibl            -> listBibl\n",
      "\t  70 x p               -> div\n",
      "\t  70 x ptr             -> p\n",
      "\t  69 x ref             -> note\n",
      "\t  58 x rs              -> p\n",
      "\t  52 x listAnnotation  -> standOff\n",
      "\t  49 x graphic         -> surface\n",
      "\t  49 x surface         -> facsimile\n",
      "\t  43 x catRef          -> artwork\n",
      "\t  31 x div             -> body\n",
      "\t  30 x salute          -> closer\n",
      "\t  30 x signed          -> closer\n",
      "\t  28 x altIdentifier   -> msIdentifier\n",
      "\t  28 x closer          -> div\n",
      "\t  28 x correspAction   -> correspDesc\n",
      "\t  28 x editor          -> titleStmt\n",
      "\t  28 x idno            -> altIdentifier\n",
      "\t  28 x name            -> correspAction\n",
      "\t  28 x opener          -> div\n",
      "\t  27 x hi              -> signed\n",
      "\t  26 x salute          -> opener\n",
      "\t  20 x measure         -> artwork\n",
      "\t  18 x hi              -> p\n",
      "\t  16 x body            -> text\n",
      "\t  16 x fileDesc        -> teiHeader\n",
      "\t  16 x p               -> publicationStmt\n",
      "\t  16 x publicationStmt -> fileDesc\n",
      "\t  16 x sourceDesc      -> fileDesc\n",
      "\t  16 x title           -> titleStmt\n",
      "\t  16 x titleStmt       -> fileDesc\n",
      "\t  14 x correspDesc     -> profileDesc\n",
      "\t  14 x country         -> msIdentifier\n",
      "\t  14 x date            -> correspAction\n",
      "\t  14 x decoDesc        -> physDesc\n",
      "\t  14 x decoNote        -> decoDesc\n",
      "\t  14 x graphic         -> zone\n",
      "\t  14 x idno            -> msIdentifier\n",
      "\t  14 x institution     -> msIdentifier\n",
      "\t  14 x msDesc          -> sourceDesc\n",
      "\t  14 x msIdentifier    -> msDesc\n",
      "\t  14 x objectDesc      -> physDesc\n",
      "\t  14 x physDesc        -> msDesc\n",
      "\t  14 x placeName       -> correspAction\n",
      "\t  14 x profileDesc     -> teiHeader\n",
      "\t  14 x revisionDesc    -> teiHeader\n",
      "\t  14 x rs              -> title\n",
      "\t  14 x settlement      -> msIdentifier\n",
      "\t  14 x sponsor         -> titleStmt\n",
      "\t  14 x zone            -> surface\n",
      "\t  11 x choice          -> p\n",
      "\t  11 x orig            -> choice\n",
      "\t  11 x reg             -> choice\n",
      "\t  10 x artwork         -> listObject\n",
      "\t  10 x date            -> artwork\n",
      "\t  10 x desc            -> artwork\n",
      "\t  10 x graphic         -> artwork\n",
      "\t  10 x head            -> artwork\n",
      "\t  10 x note            -> artwork\n",
      "\t  10 x relation        -> artwork\n",
      "\t   8 x del             -> p\n",
      "\t   8 x hi              -> rs\n",
      "\t   8 x p               -> postscript\n",
      "\t   7 x add             -> p\n",
      "\t   7 x space           -> div\n",
      "\t   6 x addrLine        -> address\n",
      "\t   6 x dateline        -> opener\n",
      "\t   6 x hi              -> note\n",
      "\t   6 x lb              -> note\n",
      "\t   6 x postscript      -> div\n",
      "\t   6 x ref             -> bibl\n",
      "\t   4 x address         -> div\n",
      "\t   4 x bibl            -> taxonomy\n",
      "\t   4 x ptr             -> bibl\n",
      "\t   4 x rs              -> salute\n",
      "\t   4 x taxonomy        -> classDecl\n",
      "\t   4 x unclear         -> choice\n",
      "\t   3 x hi              -> addrLine\n",
      "\t   2 x abbr            -> choice\n",
      "\t   2 x choice          -> salute\n",
      "\t   2 x closer          -> postscript\n",
      "\t   2 x date            -> dateline\n",
      "\t   2 x expan           -> choice\n",
      "\t   2 x head            -> listBibl\n",
      "\t   2 x hi              -> title\n",
      "\t   2 x listBibl        -> div\n",
      "\t   2 x p               -> sourceDesc\n",
      "\t   2 x postmark        -> div\n",
      "\t   2 x ptr             -> div\n",
      "\t   2 x ptr             -> opener\n",
      "\t   2 x ptr             -> salute\n",
      "\t   2 x rs              -> ref\n",
      "\t   2 x space           -> opener\n",
      "\t   1 x accMat          -> physDesc\n",
      "\t   1 x add             -> rs\n",
      "\t   1 x author          -> titleStmt\n",
      "\t   1 x bibl            -> bibl\n",
      "\t   1 x choice          -> address\n",
      "\t   1 x choice          -> del\n",
      "\t   1 x classDecl       -> encodingDesc\n",
      "\t   1 x del             -> rs\n",
      "\t   1 x encodingDesc    -> teiHeader\n",
      "\t   1 x head            -> div\n",
      "\t   1 x head            -> listObject\n",
      "\t   1 x hi              -> abbr\n",
      "\t   1 x hi              -> dateline\n",
      "\t   1 x listObject      -> body\n",
      "\t   1 x ptr             -> addrLine\n",
      "\t   1 x ptr             -> dateline\n",
      "\t   1 x title           -> ref\n",
      "  0.02s 1260 results\n",
      "sibling:\n",
      "\t 154 x change          -> change\n",
      "\t 102 x bibl            -> bibl\n",
      "\t  65 x rs              -> rs\n",
      "\t  54 x note            -> note\n",
      "\t  42 x p               -> p\n",
      "\t  38 x listAnnotation  -> listAnnotation\n",
      "\t  37 x title           -> title\n",
      "\t  36 x rs              -> ref\n",
      "\t  35 x surface         -> surface\n",
      "\t  33 x catRef          -> catRef\n",
      "\t  30 x p               -> closer\n",
      "\t  30 x rs              -> ptr\n",
      "\t  30 x salute          -> signed\n",
      "\t  24 x opener          -> p\n",
      "\t  23 x ref             -> rs\n",
      "\t  16 x div             -> div\n",
      "\t  16 x publicationStmt -> sourceDesc\n",
      "\t  16 x titleStmt       -> publicationStmt\n",
      "\t  14 x altIdentifier   -> altIdentifier\n",
      "\t  14 x correspAction   -> correspAction\n",
      "\t  14 x country         -> settlement\n",
      "\t  14 x date            -> placeName\n",
      "\t  14 x editor          -> editor\n",
      "\t  14 x editor          -> sponsor\n",
      "\t  14 x fileDesc        -> profileDesc\n",
      "\t  14 x idno            -> altIdentifier\n",
      "\t  14 x institution     -> idno\n",
      "\t  14 x msIdentifier    -> physDesc\n",
      "\t  14 x name            -> date\n",
      "\t  14 x objectDesc      -> decoDesc\n",
      "\t  14 x profileDesc     -> revisionDesc\n",
      "\t  14 x ptr             -> rs\n",
      "\t  14 x settlement      -> institution\n",
      "\t  14 x title           -> editor\n",
      "\t  11 x graphic         -> zone\n",
      "\t  11 x orig            -> reg\n",
      "\t  10 x catRef          -> note\n",
      "\t  10 x date            -> relation\n",
      "\t  10 x desc            -> date\n",
      "\t  10 x graphic         -> measure\n",
      "\t  10 x head            -> desc\n",
      "\t  10 x measure         -> catRef\n",
      "\t  10 x measure         -> measure\n",
      "\t  10 x ref             -> ref\n",
      "\t  10 x relation        -> graphic\n",
      "\t   9 x artwork         -> artwork\n",
      "\t   9 x hi              -> ptr\n",
      "\t   9 x rs              -> hi\n",
      "\t   7 x hi              -> hi\n",
      "\t   6 x ptr             -> ptr\n",
      "\t   5 x del             -> add\n",
      "\t   5 x rs              -> lb\n",
      "\t   5 x title           -> ref\n",
      "\t   4 x addrLine        -> addrLine\n",
      "\t   4 x closer          -> postscript\n",
      "\t   4 x ptr             -> choice\n",
      "\t   3 x lb              -> rs\n",
      "\t   3 x space           -> p\n",
      "\t   3 x taxonomy        -> taxonomy\n",
      "\t   3 x zone            -> zone\n",
      "\t   2 x abbr            -> expan\n",
      "\t   2 x add             -> rs\n",
      "\t   2 x address         -> postmark\n",
      "\t   2 x address         -> space\n",
      "\t   2 x choice          -> choice\n",
      "\t   2 x choice          -> rs\n",
      "\t   2 x closer          -> space\n",
      "\t   2 x dateline        -> salute\n",
      "\t   2 x del             -> ptr\n",
      "\t   2 x head            -> bibl\n",
      "\t   2 x lb              -> ref\n",
      "\t   2 x opener          -> ptr\n",
      "\t   2 x opener          -> space\n",
      "\t   2 x ptr             -> p\n",
      "\t   2 x rs              -> del\n",
      "\t   2 x space           -> opener\n",
      "\t   2 x space           -> postscript\n",
      "\t   2 x space           -> salute\n",
      "\t   2 x unclear         -> unclear\n",
      "\t   1 x add             -> add\n",
      "\t   1 x add             -> del\n",
      "\t   1 x add             -> ptr\n",
      "\t   1 x choice          -> hi\n",
      "\t   1 x choice          -> ptr\n",
      "\t   1 x dateline        -> ptr\n",
      "\t   1 x dateline        -> space\n",
      "\t   1 x decoDesc        -> accMat\n",
      "\t   1 x del             -> choice\n",
      "\t   1 x fileDesc        -> encodingDesc\n",
      "\t   1 x head            -> artwork\n",
      "\t   1 x head            -> p\n",
      "\t   1 x hi              -> del\n",
      "\t   1 x hi              -> ref\n",
      "\t   1 x listBibl        -> listBibl\n",
      "\t   1 x p               -> listBibl\n",
      "\t   1 x p               -> space\n",
      "\t   1 x ptr             -> del\n",
      "\t   1 x ptr             -> hi\n",
      "\t   1 x ptr             -> space\n",
      "\t   1 x ref             -> lb\n",
      "\t   1 x ref             -> title\n",
      "\t   1 x rs              -> choice\n",
      "\t   1 x salute          -> ptr\n",
      "\t   1 x title           -> author\n",
      "\t   1 x title           -> bibl\n"
     ]
    }
   ],
   "source": [
    "structFeatures = ((\"parent\", \"\"), (\"sibling\", \"=1\"))\n",
    "\n",
    "for (feat, val) in structFeatures:\n",
    "    query = f\".\\n-{feat}{val}> .\\n\"\n",
    "    results = A.search(query)\n",
    "    \n",
    "    iTypes = collections.Counter()\n",
    "    \n",
    "    for (f, t) in results:\n",
    "        iTypes[(F.otype.v(f), F.otype.v(t))] += 1\n",
    "                \n",
    "    print(f\"{feat}:\")\n",
    "    for ((f, t), n) in sorted(iTypes.items(), key=lambda x: (-x[1], x[0])):\n",
    "        print(f\"\\t{n:>4} x {f:<15} -> {t}\")"
   ]
  },
  {
   "cell_type": "markdown",
   "id": "67e83519-daca-47b0-bfb7-32018dad1343",
   "metadata": {},
   "source": [
    "# Exploration\n",
    "\n",
    "We walk around a bit more in the corpus."
   ]
  },
  {
   "cell_type": "markdown",
   "id": "b11a20f8-66c0-4fa2-8ac2-71302d48743c",
   "metadata": {},
   "source": [
    "## All titles:"
   ]
  },
  {
   "cell_type": "code",
   "execution_count": 45,
   "id": "46e4bc35-6d62-4900-90e2-a18ea62c52ba",
   "metadata": {},
   "outputs": [
    {
     "name": "stdout",
     "output_type": "stream",
     "text": [
      "20159 Brief aan Aletta de Iongh. Amsterdam, dinsdag 16 februari, dinsdag 2 maart of dinsdag 9 maart 1909.\n",
      "Wietse Coppes\n",
      "Leo Jansen\n",
      "Mondriaan Editieproject\n",
      "\n",
      "20160 Brief aan Aletta de Iongh. Amsterdam, woensdag 7 april 1909.\n",
      "Wietse Coppes\n",
      "Leo Jansen\n",
      "Mondriaan Editieproject\n",
      "\n",
      "20161 Brief aan Aletta de Iongh. Amsterdam, tussen maandag 19 en vrijdag 23 april 1909.\n",
      "Wietse Coppes\n",
      "Leo Jansen\n",
      "Mondriaan Editieproject\n",
      "\n",
      "20162 Brief aan Aletta de Iongh. Amsterdam, maandag 26 april 1909.\n",
      "Wietse Coppes\n",
      "Leo Jansen\n",
      "Mondriaan Editieproject\n",
      "\n",
      "20163 Brief aan Aletta de Iongh. Amsterdam, donderdag 13 mei 1909.\n",
      "Wietse Coppes\n",
      "Leo Jansen\n",
      "Mondriaan Editieproject\n",
      "\n",
      "20164 Brief aan Aletta de Iongh. Amsterdam, donderdag 24 juni 1909.\n",
      "Wietse Coppes\n",
      "Leo Jansen\n",
      "Mondriaan Editieproject\n",
      "\n",
      "20165 Brief aan Aletta de Iongh. Amsterdam, eerste helft augustus 1909.\n",
      "Wietse Coppes\n",
      "Leo Jansen\n",
      "Mondriaan Editieproject\n",
      "\n",
      "20166  Briefkaart aan Gerrit Willem Knap. Zoutelande, c. dinsdag 24 augustus 1909.\n",
      "Wietse Coppes\n",
      "Leo Jansen\n",
      "Mondriaan Editieproject\n",
      "\n",
      "20167 Brief aan Aletta de Iongh. Domburg, begin september 1909.\n",
      "Wietse Coppes\n",
      "Leo Jansen\n",
      "Mondriaan Editieproject\n",
      "\n",
      "20168 Brief aan Israël Querido. Domburg, september 1909.\n",
      "Wietse Coppes\n",
      "Leo Jansen\n",
      "Mondriaan Editieproject\n",
      "\n",
      "20169 Briefkaart aan Kees Spoor. Amsterdam, zondag 24 oktober 1909.\n",
      "Wietse Coppes\n",
      "Leo Jansen\n",
      "Mondriaan Editieproject\n",
      "\n",
      "20170 Brief aan Aletta de Iongh. Amsterdam, tussen 18 en 31 oktober 1909.\n",
      "Wietse Coppes\n",
      "Leo Jansen\n",
      "Mondriaan Editieproject\n",
      "\n",
      "20171 Brief aan Aletta de Iongh. Amsterdam, tussen dinsdag 19 oktober en c. woensdag 3 november 1909.\n",
      "Wietse Coppes\n",
      "Leo Jansen\n",
      "Mondriaan Editieproject\n",
      "\n",
      "20172 Brief aan ​. Amsterdam, maandag 31 januari 1910.\n",
      "Wietse Coppes\n",
      "Leo Jansen\n",
      "Mondriaan Editieproject\n",
      "\n",
      "20173 List of (Mondrian?) artworks identified in the Mondrian Papers Project\n",
      "Mondrian Papers Project\n",
      "\n",
      "20174 Mondriaan. Bibliography\n",
      "\n"
     ]
    }
   ],
   "source": [
    "for t in F.otype.s(\"titleStmt\"):\n",
    "    print(t, T.text(t))"
   ]
  },
  {
   "cell_type": "markdown",
   "id": "65bb0380-a8fd-4a5d-bf0d-4d054ad864ef",
   "metadata": {},
   "source": [
    "# Tokens\n",
    "\n",
    "Show all the tokens that are split into atomic tokens"
   ]
  },
  {
   "cell_type": "code",
   "execution_count": 46,
   "id": "d52a7538-4da3-4217-9ad0-42e9bff49c2c",
   "metadata": {
    "tags": []
   },
   "outputs": [
    {
     "name": "stdout",
     "output_type": "stream",
     "text": [
      "  0.03s 12 results\n"
     ]
    }
   ],
   "source": [
    "query = \"\"\"\n",
    "token\n",
    "  =: t\n",
    "  <: t\n",
    "\"\"\"\n",
    "\n",
    "results = A.search(query)"
   ]
  },
  {
   "cell_type": "code",
   "execution_count": 47,
   "id": "b09167c7-4876-4e32-9806-0b49fbb415e8",
   "metadata": {
    "tags": []
   },
   "outputs": [
    {
     "data": {
      "text/html": [
       "<table><tr class=\"tf ltr\"><th class=\"tf ltr\">n</th><th class=\"tf ltr\">p</th><th class=\"tf ltr\">token</th><th class=\"tf\">t</th><th class=\"tf\">t</th></tr>\n",
       "<tr class=\"tf ltr\"><td class=\"tf ltr\">1</td><td class=\"tf ltr\"><span class=\"tfsechead ltr\"><span class=\"ltr\"><a target=\"_blank\" href=\"https://public.annotation.org/mondriaan/proeftuin/19090407y_IONG_1739/5&amp;version=0.8.13\" title=\"Show this on the website\" sec=\"proeftuin@19090407y_IONG_1739:5\">proeftuin@19090407y_IONG_1739:5</a></span></span></td><td class=\"tf ltr\"><span class=\" ubd\"><span class=\"plain   hl\" ><span class=\"txtu\">S </span></span><span class=\"plain   hl\" ><span class=\"txtu\"><span class=\"r_ \">t </span></span></span></span></td><td class=\"tf ltr\"><span class=\" ubd\"><span class=\"plain   hl\" ><span class=\"txtu\">S </span></span></span></td><td class=\"tf ltr\"><span class=\" ubd\"><span class=\"plain   hl\" ><span class=\"txtu\"><span class=\"r_ \">t </span></span></span></span></td></tr>\n",
       "<tr class=\"tf ltr\"><td class=\"tf ltr\">2</td><td class=\"tf ltr\"><span class=\"tfsechead ltr\"><span class=\"ltr\"><a target=\"_blank\" href=\"https://public.annotation.org/mondriaan/proeftuin/19090426y_IONG_1738/5&amp;version=0.8.13\" title=\"Show this on the website\" sec=\"proeftuin@19090426y_IONG_1738:5\">proeftuin@19090426y_IONG_1738:5</a></span></span></td><td class=\"tf ltr\"><span class=\" ubd\"><span class=\"plain   hl\" ><span class=\"txtu\">1 </span></span><span class=\"plain   hl\" ><span class=\"txtu\"><span class=\"r_ \">e </span></span></span></span></td><td class=\"tf ltr\"><span class=\" ubd\"><span class=\"plain   hl\" ><span class=\"txtu\">1 </span></span></span></td><td class=\"tf ltr\"><span class=\" ubd\"><span class=\"plain   hl\" ><span class=\"txtu\"><span class=\"r_ \">e </span></span></span></span></td></tr>\n",
       "<tr class=\"tf ltr\"><td class=\"tf ltr\">3</td><td class=\"tf ltr\"><span class=\"tfsechead ltr\"><span class=\"ltr\"><a target=\"_blank\" href=\"https://public.annotation.org/mondriaan/proeftuin/19090513y_IONG_1293/5&amp;version=0.8.13\" title=\"Show this on the website\" sec=\"proeftuin@19090513y_IONG_1293:5\">proeftuin@19090513y_IONG_1293:5</a></span></span></td><td class=\"tf ltr\"><span class=\" ubd\"><span class=\"plain   hl\" ><span class=\"txtu\">S </span></span><span class=\"plain   hl\" ><span class=\"txtu\"><span class=\"r_ \">t </span></span></span></span></td><td class=\"tf ltr\"><span class=\" ubd\"><span class=\"plain   hl\" ><span class=\"txtu\">S </span></span></span></td><td class=\"tf ltr\"><span class=\" ubd\"><span class=\"plain   hl\" ><span class=\"txtu\"><span class=\"r_ \">t </span></span></span></span></td></tr>\n",
       "<tr class=\"tf ltr\"><td class=\"tf ltr\">4</td><td class=\"tf ltr\"><span class=\"tfsechead ltr\"><span class=\"ltr\"><a target=\"_blank\" href=\"https://public.annotation.org/mondriaan/proeftuin/19090624_IONG_1294/6&amp;version=0.8.13\" title=\"Show this on the website\" sec=\"proeftuin@19090624_IONG_1294:6\">proeftuin@19090624_IONG_1294:6</a></span></span></td><td class=\"tf ltr\"><span class=\" ubd\"><span class=\"plain   hl\" ><span class=\"txtu\">k</span></span><span class=\"plain   hl\" ><span class=\"txtu\">a</span></span><span class=\"txtu\">o</span><span class=\"txtu\">n</span></span></td><td class=\"tf ltr\"><span class=\" ubd\"><span class=\"plain   hl\" ><span class=\"txtu\">k</span></span></span></td><td class=\"tf ltr\"><span class=\" ubd\"><span class=\"plain   hl\" ><span class=\"txtu\">a</span></span></span></td></tr>\n",
       "<tr class=\"tf ltr\"><td class=\"tf ltr\">5</td><td class=\"tf ltr\"><span class=\"tfsechead ltr\"><span class=\"ltr\"><a target=\"_blank\" href=\"https://public.annotation.org/mondriaan/proeftuin/19090824y_KNAP_1747/5&amp;version=0.8.13\" title=\"Show this on the website\" sec=\"proeftuin@19090824y_KNAP_1747:5\">proeftuin@19090824y_KNAP_1747:5</a></span></span></td><td class=\"tf ltr\"><span class=\" ubd\"><span class=\"plain   hl\" ><span class=\"txtu\">42</span></span><span class=\"plain   hl\" ><span class=\"txtu\"><span class=\"r_super \">II</span></span></span></span></td><td class=\"tf ltr\"><span class=\" ubd\"><span class=\"plain   hl\" ><span class=\"txtu\">42</span></span></span></td><td class=\"tf ltr\"><span class=\" ubd\"><span class=\"plain   hl\" ><span class=\"txtu\"><span class=\"r_super \">II</span></span></span></span></td></tr>\n",
       "<tr class=\"tf ltr\"><td class=\"tf ltr\">6</td><td class=\"tf ltr\"><span class=\"tfsechead ltr\"><span class=\"ltr\"><a target=\"_blank\" href=\"https://public.annotation.org/mondriaan/proeftuin/19090824y_KNAP_1747/6&amp;version=0.8.13\" title=\"Show this on the website\" sec=\"proeftuin@19090824y_KNAP_1747:6\">proeftuin@19090824y_KNAP_1747:6</a></span></span></td><td class=\"tf ltr\"><span class=\" ubd\"><span class=\"plain   hl\" ><span class=\"txtu\">Vr.</span></span><span class=\"plain   hl\" ><span class=\"txtu\"><span class=\"r_super \">n</span></span></span><span class=\"txtu\">Vrienden</span></span></td><td class=\"tf ltr\"><span class=\" ubd\"><span class=\"plain   hl\" ><span class=\"txtu\">Vr.</span></span></span></td><td class=\"tf ltr\"><span class=\" ubd\"><span class=\"plain   hl\" ><span class=\"txtu\"><span class=\"r_super \">n</span></span></span></span></td></tr>\n",
       "<tr class=\"tf ltr\"><td class=\"tf ltr\">7</td><td class=\"tf ltr\"><span class=\"tfsechead ltr\"><span class=\"ltr\"><a target=\"_blank\" href=\"https://public.annotation.org/mondriaan/proeftuin/19090905y_IONG_1295/5&amp;version=0.8.13\" title=\"Show this on the website\" sec=\"proeftuin@19090905y_IONG_1295:5\">proeftuin@19090905y_IONG_1295:5</a></span></span></td><td class=\"tf ltr\"><span class=\" ubd\"><span class=\"plain   hl\" ><span class=\"txtu\">4</span></span><span class=\"plain   hl\" ><span class=\"txtu\"><span class=\"r_super \">.a</span></span></span></span></td><td class=\"tf ltr\"><span class=\" ubd\"><span class=\"plain   hl\" ><span class=\"txtu\">4</span></span></span></td><td class=\"tf ltr\"><span class=\" ubd\"><span class=\"plain   hl\" ><span class=\"txtu\"><span class=\"r_super \">.a</span></span></span></span></td></tr>\n",
       "<tr class=\"tf ltr\"><td class=\"tf ltr\">8</td><td class=\"tf ltr\"><span class=\"tfsechead ltr\"><span class=\"ltr\"><a target=\"_blank\" href=\"https://public.annotation.org/mondriaan/proeftuin/19091024y_IONG_1297/5&amp;version=0.8.13\" title=\"Show this on the website\" sec=\"proeftuin@19091024y_IONG_1297:5\">proeftuin@19091024y_IONG_1297:5</a></span></span></td><td class=\"tf ltr\"><span class=\" ubd\"><span class=\"plain   hl\" ><span class=\"txtu\">Nov.</span></span><span class=\"plain   hl\" ><span class=\"txtu\"><span class=\"r_super \">ber </span></span></span></span></td><td class=\"tf ltr\"><span class=\" ubd\"><span class=\"plain   hl\" ><span class=\"txtu\">Nov.</span></span></span></td><td class=\"tf ltr\"><span class=\" ubd\"><span class=\"plain   hl\" ><span class=\"txtu\"><span class=\"r_super \">ber </span></span></span></span></td></tr>\n",
       "<tr class=\"tf ltr\"><td class=\"tf ltr\">9</td><td class=\"tf ltr\"><span class=\"tfsechead ltr\"><span class=\"ltr\"><a target=\"_blank\" href=\"https://public.annotation.org/mondriaan/proeftuin/19100131_SAAL_ARNO_0018/5&amp;version=0.8.13\" title=\"Show this on the website\" sec=\"proeftuin@19100131_SAAL_ARNO_0018:5\">proeftuin@19100131_SAAL_ARNO_0018:5</a></span></span></td><td class=\"tf ltr\"><span class=\" ubd\"><span class=\"plain   hl\" ><span class=\"txtu\">on</span></span><span class=\"plain   hl\" ><span class=\"txtu\">juist </span></span></span></td><td class=\"tf ltr\"><span class=\" ubd\"><span class=\"plain   hl\" ><span class=\"txtu\">on</span></span></span></td><td class=\"tf ltr\"><span class=\" ubd\"><span class=\"plain   hl\" ><span class=\"txtu\">juist </span></span></span></td></tr>\n",
       "<tr class=\"tf ltr\"><td class=\"tf ltr\">10</td><td class=\"tf ltr\"><span class=\"tfsechead ltr\"><span class=\"ltr\"><a target=\"_blank\" href=\"https://public.annotation.org/mondriaan/proeftuin/19100131_SAAL_ARNO_0018/5&amp;version=0.8.13\" title=\"Show this on the website\" sec=\"proeftuin@19100131_SAAL_ARNO_0018:5\">proeftuin@19100131_SAAL_ARNO_0018:5</a></span></span></td><td class=\"tf ltr\"><span class=\" ubd\"><span class=\"plain   hl\" ><span class=\"txtu\">e</span></span><span class=\"plain   hl\" ><span class=\"txtu\">en </span></span></span></td><td class=\"tf ltr\"><span class=\" ubd\"><span class=\"plain   hl\" ><span class=\"txtu\">e</span></span></span></td><td class=\"tf ltr\"><span class=\" ubd\"><span class=\"plain   hl\" ><span class=\"txtu\">en </span></span></span></td></tr>\n",
       "<tr class=\"tf ltr\"><td class=\"tf ltr\">11</td><td class=\"tf ltr\"><span class=\"tfsechead ltr\"><span class=\"ltr\"><a target=\"_blank\" href=\"https://public.annotation.org/mondriaan/backmatter/biblio/4&amp;version=0.8.13\" title=\"Show this on the website\" sec=\"backmatter@biblio:4\">backmatter@biblio:4</a></span></span></td><td class=\"tf ltr\"><span class=\" ubd\"><span class=\"plain   hl\" ><span class=\"txtu\"><span class=\"r_bold r_ \">F</span></span></span><span class=\"plain   hl\" ><span class=\"txtu\"><span class=\"r_ \">.</span></span></span></span></td><td class=\"tf ltr\"><span class=\" ubd\"><span class=\"plain   hl\" ><span class=\"txtu\"><span class=\"r_bold r_ \">F</span></span></span></span></td><td class=\"tf ltr\"><span class=\" ubd\"><span class=\"plain   hl\" ><span class=\"txtu\"><span class=\"r_ \">.</span></span></span></span></td></tr>\n",
       "<tr class=\"tf ltr\"><td class=\"tf ltr\">12</td><td class=\"tf ltr\"><span class=\"tfsechead ltr\"><span class=\"ltr\"><a target=\"_blank\" href=\"https://public.annotation.org/mondriaan/backmatter/biblio/99&amp;version=0.8.13\" title=\"Show this on the website\" sec=\"backmatter@biblio:99\">backmatter@biblio:99</a></span></span></td><td class=\"tf ltr\"><span class=\" ubd\"><span class=\"plain   hl\" ><span class=\"txtu\">. </span></span><span class=\"plain   hl\" ><span class=\"txtu\">. </span></span></span></td><td class=\"tf ltr\"><span class=\" ubd\"><span class=\"plain   hl\" ><span class=\"txtu\">. </span></span></span></td><td class=\"tf ltr\"><span class=\" ubd\"><span class=\"plain   hl\" ><span class=\"txtu\">. </span></span></span></td></tr></table>"
      ],
      "text/plain": [
       "<IPython.core.display.HTML object>"
      ]
     },
     "metadata": {},
     "output_type": "display_data"
    }
   ],
   "source": [
    "A.table(results, condenseType=\"token\")"
   ]
  },
  {
   "cell_type": "markdown",
   "id": "f5863f21-86a0-4a2b-91ab-a95212840e80",
   "metadata": {},
   "source": [
    "## Sentences"
   ]
  },
  {
   "cell_type": "code",
   "execution_count": 48,
   "id": "c6eafad6-b311-415c-9b1c-9980f725dbec",
   "metadata": {},
   "outputs": [
    {
     "name": "stdout",
     "output_type": "stream",
     "text": [
      "Wietse Coppes\n",
      "Leo Jansen\n"
     ]
    }
   ],
   "source": [
    "for s in F.otype.s(\"sentence\")[2:4]:\n",
    "    print(T.text(s))"
   ]
  },
  {
   "cell_type": "code",
   "execution_count": 49,
   "id": "fb88effc-5b5a-42f8-bada-dcca6c83a2b3",
   "metadata": {},
   "outputs": [
    {
     "data": {
      "text/html": [
       "<div class=\"tfsechead \"><span class=\"ltr\"><a target=\"_blank\" href=\"https://public.annotation.org/mondriaan/proeftuin/19090216y_IONG_1303/1&amp;version=0.8.13\" title=\"Show this on the website\" sec=\"proeftuin@19090216y_IONG_1303:1\">proeftuin@19090216y_IONG_1303:1</a></span></div><div class=\" children\"><div class=\"contnr c2    \" ><div class=\"lbl c2  \" ><span class=\"nd\">sentence:20195 </span></div><div class=\"children hor wrap \"><div class=\"contnr c1   rno \" ><div class=\"lbl c1  \" ><span class=\"nd\">editor:18544 </span></div><div class=\"children hor wrap \"><div class=\"contnr c1    \" ><div class=\"lbl c1  \" ><span class=\"nd\">token:21667 </span></div><div class=\"children hor wrap \"><div class=\"contnr c0 trm   \" ><div class=\"lbl c0 trm \" ><span class=\"nd\">23 </span> <span class=\"txtu\"><span class=\" is_meta\">Wietse </span></span></div></div></div></div><div class=\"contnr c1    \" ><div class=\"lbl c1  \" ><span class=\"nd\">token:21668 </span></div><div class=\"children hor wrap \"><div class=\"contnr c0 trm   \" ><div class=\"lbl c0 trm \" ><span class=\"nd\">24 </span> <span class=\"txtu\"><span class=\" is_meta\">Coppes</span></span></div></div></div></div></div></div></div></div></div>"
      ],
      "text/plain": [
       "<IPython.core.display.HTML object>"
      ]
     },
     "metadata": {},
     "output_type": "display_data"
    },
    {
     "data": {
      "text/html": [
       "<div class=\"tfsechead \"><span class=\"ltr\"><a target=\"_blank\" href=\"https://public.annotation.org/mondriaan/proeftuin/19090216y_IONG_1303/1&amp;version=0.8.13\" title=\"Show this on the website\" sec=\"proeftuin@19090216y_IONG_1303:1\">proeftuin@19090216y_IONG_1303:1</a></span></div><div class=\" children\"><div class=\"contnr c2    \" ><div class=\"lbl c2  \" ><span class=\"nd\">sentence:20196 </span></div><div class=\"children hor wrap \"><div class=\"contnr c1   rno \" ><div class=\"lbl c1  \" ><span class=\"nd\">editor:18545 </span></div><div class=\"children hor wrap \"><div class=\"contnr c1    \" ><div class=\"lbl c1  \" ><span class=\"nd\">token:21670 </span></div><div class=\"children hor wrap \"><div class=\"contnr c0 trm   \" ><div class=\"lbl c0 trm \" ><span class=\"nd\">26 </span> <span class=\"txtu\"><span class=\" is_meta\">Leo </span></span></div></div></div></div><div class=\"contnr c1    \" ><div class=\"lbl c1  \" ><span class=\"nd\">token:21671 </span></div><div class=\"children hor wrap \"><div class=\"contnr c0 trm   \" ><div class=\"lbl c0 trm \" ><span class=\"nd\">27 </span> <span class=\"txtu\"><span class=\" is_meta\">Jansen</span></span></div></div></div></div></div></div></div></div></div>"
      ],
      "text/plain": [
       "<IPython.core.display.HTML object>"
      ]
     },
     "metadata": {},
     "output_type": "display_data"
    }
   ],
   "source": [
    "for s in F.otype.s(\"sentence\")[2:4]:\n",
    "    A.pretty(s, withNodes=True)"
   ]
  },
  {
   "cell_type": "code",
   "execution_count": 50,
   "id": "8e655730-f339-4a7c-b4cd-77cacd305fd6",
   "metadata": {},
   "outputs": [
    {
     "name": "stdout",
     "output_type": "stream",
     "text": [
      "SENTENCE 1: Brief aan Aletta de Iongh. \n",
      "SENTENCE 2: Amsterdam, dinsdag 16 februari, dinsdag 2 maart of dinsdag 9 maart 1909.\n",
      "SENTENCE 3: Wietse Coppes\n",
      "SENTENCE 4: Leo Jansen\n",
      "SENTENCE 5: Mondriaan Editieproject\n",
      "SENTENCE 6: Nederland\n",
      "SENTENCE 7: Otterlo\n",
      "SENTENCE 8: Kröller Müller Museum\n",
      "SENTENCE 9: KM 123.397\n",
      "SENTENCE 10: 19090216y_IONG_1303\n",
      "SENTENCE 11: ​\n",
      "SENTENCE 12: ​\n",
      "SENTENCE 13: ​\n",
      "SENTENCE 14: Piet Mondriaan\n",
      "SENTENCE 15: dinsdag 16 februari, dinsdag 2 maart of dinsdag 9 maart 1909\n",
      "SENTENCE 16: Amsterdam\n",
      "SENTENCE 17: Aletta de Iongh\n",
      "SENTENCE 18: transcriptie: voltooid 20.7.15\n",
      "SENTENCE 19: collatie bron: 6.6.16\n",
      "SENTENCE 20: tweede collatie aan het origineel: voltooid 26.11.19\n",
      "SENTENCE 21: invoer tweede collatie: voltooid 5.8.16\n",
      "SENTENCE 22: bespreking eindversie: gb\n",
      "SENTENCE 23: markeren annotaties: in bewerking / voltooid\n",
      "SENTENCE 24: gereed 17.4.2019\n",
      "SENTENCE 25: titel gecontroleerd 21.09.2020\n",
      "SENTENCE 26: personen getagd 12.10.2020\n",
      "SENTENCE 27: vertaling ingevoerd 16.2.2021\n",
      "SENTENCE 28: codering personen aangepast 16.2.2022\n",
      "SENTENCE 29: controle/aanpassing afkortingen en emendaties 21.4.2023\n",
      "SENTENCE 30: ​ ​ \n",
      "​\n",
      "​\n",
      "​\n",
      "SENTENCE 31: Beste Zus,\n",
      "​kom je morgenavond (Woensdag) om kwart voor acht ingang kleine zaal Concertgebouw, dan heb ik een plaats voor v . Buhlig voor je.​ En dan kunnen we een andere dan Donderdagmiddag afspreken want dan kan ik niet goed.\n",
      "SENTENCE 32: ​\n",
      "SENTENCE 33: ​\n",
      "SENTENCE 34: l\n",
      "SENTENCE 35: Met vele beste groeten je Piet.\n",
      "SENTENCE 36: Dear Zus,​\n",
      "​If you come to the entrance to the small auditorium in the Concertgebouw at a quarter to eight tomorrow (Wednesday) evening, I have a ticket for van Buhlig for you.​ And then we can arrange a time other than Thursday afternoon because I can’t manage that.\n",
      "SENTENCE 37: With my very best wishes, your Piet.\n",
      "SENTENCE 38: Manuscript.\n",
      "SENTENCE 39: De brief is geschreven op een dinsdag voorafgaand aan een van de drie woensdagen waarop Richard Buhlig\n",
      "SENTENCE 40: in 1909 in de kleine zaal van het Concertgebouw een concert zou geven: 17 februari, 3 maart en 10 maart. \n",
      "SENTENCE 41: Zie tevens n. \"plaatsBuhlig\".\n",
      "SENTENCE 42: ​\n",
      "SENTENCE 43: Aletta\n",
      "SENTENCE 44: werd binnen haar familie aangesproken met de koosnaam 'Zus' (Heteren 2018, p. 25) Mondriaans gebruik van deze naam geeft aan dat hij op intieme voet stond met De Iongh.\n",
      "SENTENCE 45: De Amerikaanse pianist Richard Moritz Buhlig (1880-1952) gaf begin 1909 drie concerten in de kleine zaal van het Concertgebouw, op woensdag 17 februari, woensdag 3 maart en woensdag 10 maart. \n",
      "SENTENCE 46: Het is niet bekend voor welke van deze concerten Mondriaan kaarten had.\n",
      "SENTENCE 47: *\n",
      "SENTENCE 48: *SUBSTITUTE FOR ENGLISH** Manuscript.\n",
      "SENTENCE 49: *\n",
      "SENTENCE 50: *SUBSTITUTE FOR ENGLISH*\n",
      "SENTENCE 51: * De brief is geschreven op een dinsdag voorafgaand aan een van de drie woensdagen waarop Richard Buhlig\n",
      "SENTENCE 52: in 1909 in de kleine zaal van het Concertgebouw een concert zou geven: 17 februari, 3 maart en 10 maart. \n",
      "SENTENCE 53: Zie tevens n. \"plaatsBuhlig\".\n",
      "SENTENCE 54: ​\n",
      "SENTENCE 55: *\n",
      "SENTENCE 56: *SUBSTITUTE FOR ENGLISH** Aletta\n",
      "SENTENCE 57: werd binnen haar familie aangesproken met de koosnaam 'Zus' (Heteren 2018, p. 25) Mondriaans gebruik van deze naam geeft aan dat hij op intieme voet stond met De Iongh.\n",
      "SENTENCE 58: *\n",
      "SENTENCE 59: *SUBSTITUTE FOR ENGLISH*\n",
      "SENTENCE 60: * De Amerikaanse pianist Richard Moritz Buhlig (1880-1952) gaf begin 1909 drie concerten in de kleine zaal van het Concertgebouw, op woensdag 17 februari, woensdag 3 maart en woensdag 10 maart. \n",
      "SENTENCE 61: Het is niet bekend voor welke van deze concerten Mondriaan kaarten had.\n",
      "SENTENCE 62: Brief aan Aletta de Iongh. \n",
      "SENTENCE 63: Amsterdam, woensdag 7 april 1909.\n",
      "SENTENCE 64: Wietse Coppes\n",
      "SENTENCE 65: Leo Jansen\n",
      "SENTENCE 66: Mondriaan Editieproject\n",
      "SENTENCE 67: Nederland\n",
      "SENTENCE 68: Otterlo\n",
      "SENTENCE 69: Kröller Müller Museum\n",
      "SENTENCE 70: KM 122.574\n",
      "SENTENCE 71: 19090407y_IONG_1739\n",
      "SENTENCE 72: ​\n",
      "SENTENCE 73: ​\n",
      "SENTENCE 74: ​\n",
      "SENTENCE 75: Piet Mondriaan\n",
      "SENTENCE 76: woensdag 7 april 1909\n",
      "SENTENCE 77: Amsterdam\n",
      "SENTENCE 78: Aletta de Iongh\n",
      "SENTENCE 79: transcriptie: voltooid 18.8.16\n",
      "SENTENCE 80: collatie bron: voltooid 18.8.16\n",
      "SENTENCE 81: tweede collatie aan origineel: voltooid 26.11.19\n",
      "SENTENCE 82: invoer tweede collatie: gb\n",
      "SENTENCE 83: bespreking eindversie: gb\n",
      "SENTENCE 84: markeren annotaties: te doen / in bewerking / voltooid\n",
      "SENTENCE 85: gereed 17.4.2019\n",
      "SENTENCE 86: titel gecontroleerd 15.9.2020\n",
      "SENTENCE 87: personen getagd 12.10.2020\n",
      "SENTENCE 88: vertaling ingevoerd 16.2.2021\n",
      "SENTENCE 89: codering personen aangepast 16.2.2022\n",
      "SENTENCE 90: controle/aanpassing afkortingen en emendaties 21.4.2023\n",
      "SENTENCE 91: ​ ​ \n",
      "​\n",
      "​\n",
      "​\n",
      "SENTENCE 92: Lieve Zus,\n",
      "neem me niet kwalijk dat ik je zoo'n gekreukte enveloppe zend​, maar ik had geen meer in huis, en ik moest je toch even zeggen dat ik morgen middag helaas in 't museum bij 't ophangen van schilderijen moet zijn, omdat ik in de jury van S t Lucas ben.​\n",
      "SENTENCE 93: Ik ben er al een groot deel van de week geweest. \n",
      "SENTENCE 94: Ik woû je wel graag tusschen 4 - 5 even komen opzoeken, anders zie ik je weer in een week denkelijk niet, want ik ga met de Paaschdagen naar Arnhem.​ Ik kom dus morgen even zien of je thuis ben.\n",
      "SENTENCE 95: Dag! \n",
      "SENTENCE 96: Veel beste groeten je Piet.\n",
      "SENTENCE 97: Dear Zus,\n",
      "I’m sorry I’m sending you such a crumpled envelope,​ but I didn’t have any more in the house, and I had to tell you that unfortunately I have to be in the museum tomorrow afternoon when the paintings are hung because I’m on the St Lucas jury.​\n",
      "SENTENCE 98: I’ve already been there for a good part of the week. \n",
      "SENTENCE 99: I’d like to come and see you between 4 and 5, otherwise I don’t think I’ll see you again in a week, because I ‘m going to Arnhem for Easter.​ So I’ll call round tomorrow to see if you’re home.\n",
      "SENTENCE 100: Bye! \n"
     ]
    }
   ],
   "source": [
    "for (i, s) in enumerate(F.otype.s(\"sentence\")[0:100]):\n",
    "    print(f\"SENTENCE {i + 1}: {T.text(s)}\")"
   ]
  },
  {
   "cell_type": "markdown",
   "id": "08b774b2-1e34-4c40-bee1-f8a255730a55",
   "metadata": {},
   "source": [
    "# Illustrations"
   ]
  },
  {
   "cell_type": "code",
   "execution_count": 51,
   "id": "3e3f6406-0832-4321-a899-ba45aa189c3d",
   "metadata": {},
   "outputs": [
    {
     "name": "stdout",
     "output_type": "stream",
     "text": [
      "  0.00s 14 results\n"
     ]
    }
   ],
   "source": [
    "results = A.search(\"\"\"\n",
    "rs type=artwork-m ref~artwork\n",
    "\"\"\")"
   ]
  },
  {
   "cell_type": "code",
   "execution_count": 52,
   "id": "e9039bc4-1859-4a91-ba70-eef2f24578db",
   "metadata": {},
   "outputs": [
    {
     "data": {
      "text/html": [
       "<table><tr class=\"tf ltr\"><th class=\"tf ltr\">n</th><th class=\"tf ltr\">p</th><th class=\"tf ltr\">rs</th></tr>\n",
       "<tr class=\"tf ltr\"><td class=\"tf ltr\">1</td><td class=\"tf ltr\"><span class=\"tfsechead ltr\"><span class=\"ltr\"><a target=\"_blank\" href=\"https://public.annotation.org/mondriaan/proeftuin/19090421y_IONG_1304/7&amp;version=0.8.13\" title=\"Show this on the website\" sec=\"proeftuin@19090421y_IONG_1304:7\">proeftuin@19090421y_IONG_1304:7</a></span></span></td><td class=\"tf ltr\"><span class=\" ubd\"><span class=\"plain   hlbx\" ><span class=\"nd\">19590 </span> <div class=\"graphic_set\"><div class=\"graphic_item\"><img src=\"illustrations/artwork-m-19590.jpg\" class=\"graphic_img\" /><span class=\"graphic_caption\">Piet Mondriaan, Leo Gestel, <i>Meisjeskop, 1910 Alkmaar, Stedelijk Museum Alkmaar, inv./cat.nr. [..]</i>. conté on papier. <a target=\"_blank\" href=\"https://rkd.nl/explore/images/277201\" title=\"visit this artwork on the RKD site\">RKD 277201►</a></span></div></div><span class=\"txtu\"><span class=\" is_note\">Meisjeskop</span></span></span></span></td></tr></table>"
      ],
      "text/plain": [
       "<IPython.core.display.HTML object>"
      ]
     },
     "metadata": {},
     "output_type": "display_data"
    }
   ],
   "source": [
    "A.table(results, withNodes=True, end=1)"
   ]
  },
  {
   "cell_type": "markdown",
   "id": "41587fd7-1e71-4dfb-8ad2-f87c7c9abc98",
   "metadata": {},
   "source": [
    "## The first letter"
   ]
  },
  {
   "cell_type": "code",
   "execution_count": 53,
   "id": "6fd9130e-6d75-4710-8851-4e1e09647fd8",
   "metadata": {},
   "outputs": [
    {
     "data": {
      "text/html": [
       "<div class=\"tfsechead \"><span class=\"ltr\"><a target=\"_blank\" href=\"https://public.annotation.org/mondriaan/proeftuin/19090216y_IONG_1303/1&amp;version=0.8.13\" title=\"Show this on the website\" sec=\"proeftuin@19090216y_IONG_1303:1\">proeftuin@19090216y_IONG_1303:1</a></span></div><div class=\" children\"><div class=\"contnr c2    \" ><div class=\"lbl c2  \" ><span class=\"nd\">letter </span></div><div class=\"children hor wrap \"><div class=\"contnr c3    \" ><div class=\"lbl c3  \" ><span class=\"nd\">chunk </span></div><div class=\"children hor wrap \"><div class=\"contnr c2   rno \" ><div class=\"lbl c2  \" ><span class=\"nd\">teiHeader </span></div><div class=\"children hor wrap \"><div class=\"contnr c2   rno \" ><div class=\"lbl c2  \" ><span class=\"nd\">fileDesc </span></div><div class=\"children hor wrap \"><div class=\"contnr c2    \" ><div class=\"lbl c2  \" ><span class=\"nd\">titleStmt </span></div><div class=\"children hor wrap \"><div class=\"contnr c2    \" ><div class=\"lbl c2  \" ><span class=\"nd\">sentence </span></div><div class=\"children hor wrap \"><div class=\"contnr c2   rno \" ><div class=\"lbl c2  \" ><span class=\"nd\">title </span></div><div class=\"children hor wrap \"><div class=\"contnr c1    \" ><div class=\"lbl c1  \" ><span class=\"nd\">token </span></div><div class=\"children hor wrap \"><div class=\"contnr c0 trm   \" ><div class=\"lbl c0 trm \" ><span class=\"txtu\"><span class=\" is_meta\">Brief </span></span></div></div></div></div><div class=\"contnr c1    \" ><div class=\"lbl c1  \" ><span class=\"nd\">token </span></div><div class=\"children hor wrap \"><div class=\"contnr c0 trm   \" ><div class=\"lbl c0 trm \" ><span class=\"txtu\"><span class=\" is_meta\">aan </span></span></div></div></div></div><div class=\"contnr c1    \" ><div class=\"lbl c1  \" ><span class=\"nd\">rs </span></div><div class=\"features\"><span class=\"type \" ><span class=\"f\">type=</span>person</span><span class=\"ref xft\" ><span class=\"f\">ref=</span>bio.xml#iongh_aletta_de</span></div><div class=\"children hor wrap \"><div class=\"contnr c1    \" ><div class=\"lbl c1  \" ><span class=\"nd\">token </span></div><div class=\"children hor wrap \"><div class=\"contnr c0 trm   \" ><div class=\"lbl c0 trm \" ><span class=\"txtu\"><span class=\" is_meta\">Aletta </span></span></div></div></div></div><div class=\"contnr c1    \" ><div class=\"lbl c1  \" ><span class=\"nd\">token </span></div><div class=\"children hor wrap \"><div class=\"contnr c0 trm   \" ><div class=\"lbl c0 trm \" ><span class=\"txtu\"><span class=\" is_meta\">de </span></span></div></div></div></div><div class=\"contnr c1    \" ><div class=\"lbl c1  \" ><span class=\"nd\">token </span></div><div class=\"children hor wrap \"><div class=\"contnr c0 trm   \" ><div class=\"lbl c0 trm \" ><span class=\"txtu\"><span class=\" is_meta\">Iongh</span></span></div></div></div></div></div></div><div class=\"contnr c1    \" ><div class=\"lbl c1  \" ><span class=\"nd\">token </span></div><div class=\"children hor wrap \"><div class=\"contnr c0 trm   \" ><div class=\"lbl c0 trm \" ><span class=\"txtu\"><span class=\" is_meta\">. </span></span></div></div></div></div></div></div></div></div><div class=\"contnr c2    \" ><div class=\"lbl c2  \" ><span class=\"nd\">sentence </span></div><div class=\"children hor wrap \"><div class=\"contnr c2   lno rno \" ><div class=\"lbl c2  \" ><span class=\"nd\">title </span></div><div class=\"children hor wrap \"><div class=\"contnr c1    \" ><div class=\"lbl c1  \" ><span class=\"nd\">token </span></div><div class=\"children hor wrap \"><div class=\"contnr c0 trm   \" ><div class=\"lbl c0 trm \" ><span class=\"txtu\"><span class=\" is_meta\">Amsterdam</span></span></div></div></div></div><div class=\"contnr c1    \" ><div class=\"lbl c1  \" ><span class=\"nd\">token </span></div><div class=\"children hor wrap \"><div class=\"contnr c0 trm   \" ><div class=\"lbl c0 trm \" ><span class=\"txtu\"><span class=\" is_meta\">, </span></span></div></div></div></div><div class=\"contnr c1    \" ><div class=\"lbl c1  \" ><span class=\"nd\">token </span></div><div class=\"children hor wrap \"><div class=\"contnr c0 trm   \" ><div class=\"lbl c0 trm \" ><span class=\"txtu\"><span class=\" is_meta\">dinsdag </span></span></div></div></div></div><div class=\"contnr c1    \" ><div class=\"lbl c1  \" ><span class=\"nd\">token </span></div><div class=\"children hor wrap \"><div class=\"contnr c0 trm   \" ><div class=\"lbl c0 trm \" ><span class=\"txtu\"><span class=\" is_meta\">16 </span></span></div></div></div></div><div class=\"contnr c1    \" ><div class=\"lbl c1  \" ><span class=\"nd\">token </span></div><div class=\"children hor wrap \"><div class=\"contnr c0 trm   \" ><div class=\"lbl c0 trm \" ><span class=\"txtu\"><span class=\" is_meta\">februari</span></span></div></div></div></div><div class=\"contnr c1    \" ><div class=\"lbl c1  \" ><span class=\"nd\">token </span></div><div class=\"children hor wrap \"><div class=\"contnr c0 trm   \" ><div class=\"lbl c0 trm \" ><span class=\"txtu\"><span class=\" is_meta\">, </span></span></div></div></div></div><div class=\"contnr c1    \" ><div class=\"lbl c1  \" ><span class=\"nd\">token </span></div><div class=\"children hor wrap \"><div class=\"contnr c0 trm   \" ><div class=\"lbl c0 trm \" ><span class=\"txtu\"><span class=\" is_meta\">dinsdag </span></span></div></div></div></div><div class=\"contnr c1    \" ><div class=\"lbl c1  \" ><span class=\"nd\">token </span></div><div class=\"children hor wrap \"><div class=\"contnr c0 trm   \" ><div class=\"lbl c0 trm \" ><span class=\"txtu\"><span class=\" is_meta\">2 </span></span></div></div></div></div><div class=\"contnr c1    \" ><div class=\"lbl c1  \" ><span class=\"nd\">token </span></div><div class=\"children hor wrap \"><div class=\"contnr c0 trm   \" ><div class=\"lbl c0 trm \" ><span class=\"txtu\"><span class=\" is_meta\">maart </span></span></div></div></div></div><div class=\"contnr c1    \" ><div class=\"lbl c1  \" ><span class=\"nd\">token </span></div><div class=\"children hor wrap \"><div class=\"contnr c0 trm   \" ><div class=\"lbl c0 trm \" ><span class=\"txtu\"><span class=\" is_meta\">of </span></span></div></div></div></div><div class=\"contnr c1    \" ><div class=\"lbl c1  \" ><span class=\"nd\">token </span></div><div class=\"children hor wrap \"><div class=\"contnr c0 trm   \" ><div class=\"lbl c0 trm \" ><span class=\"txtu\"><span class=\" is_meta\">dinsdag </span></span></div></div></div></div><div class=\"contnr c1    \" ><div class=\"lbl c1  \" ><span class=\"nd\">token </span></div><div class=\"children hor wrap \"><div class=\"contnr c0 trm   \" ><div class=\"lbl c0 trm \" ><span class=\"txtu\"><span class=\" is_meta\">9 </span></span></div></div></div></div><div class=\"contnr c1    \" ><div class=\"lbl c1  \" ><span class=\"nd\">token </span></div><div class=\"children hor wrap \"><div class=\"contnr c0 trm   \" ><div class=\"lbl c0 trm \" ><span class=\"txtu\"><span class=\" is_meta\">maart </span></span></div></div></div></div><div class=\"contnr c1    \" ><div class=\"lbl c1  \" ><span class=\"nd\">token </span></div><div class=\"children hor wrap \"><div class=\"contnr c0 trm   \" ><div class=\"lbl c0 trm \" ><span class=\"txtu\"><span class=\" is_meta\">1909</span></span></div></div></div></div><div class=\"contnr c1    \" ><div class=\"lbl c1  \" ><span class=\"nd\">token </span></div><div class=\"children hor wrap \"><div class=\"contnr c0 trm   \" ><div class=\"lbl c0 trm \" ><span class=\"txtu\"><span class=\" is_meta\">.</span></span></div></div></div></div></div></div></div></div><div class=\"contnr c2   lno \" ><div class=\"lbl c2  \" ><span class=\"nd\">title </span></div><div class=\"children hor wrap \"><div class=\"contnr c1    \" ><div class=\"lbl c1  \" ><span class=\"nd\">token </span></div><div class=\"children hor wrap \"><div class=\"contnr c0 trm   \" ><div class=\"lbl c0 trm \" ><span class=\"txtu\"><span class=\" is_meta\"><br></span></span></div></div></div></div></div></div><div class=\"contnr c2    \" ><div class=\"lbl c2  \" ><span class=\"nd\">sentence </span></div><div class=\"children hor wrap \"><div class=\"contnr c1   rno \" ><div class=\"lbl c1  \" ><span class=\"nd\">editor </span></div><div class=\"children hor wrap \"><div class=\"contnr c1    \" ><div class=\"lbl c1  \" ><span class=\"nd\">token </span></div><div class=\"children hor wrap \"><div class=\"contnr c0 trm   \" ><div class=\"lbl c0 trm \" ><span class=\"txtu\"><span class=\" is_meta\">Wietse </span></span></div></div></div></div><div class=\"contnr c1    \" ><div class=\"lbl c1  \" ><span class=\"nd\">token </span></div><div class=\"children hor wrap \"><div class=\"contnr c0 trm   \" ><div class=\"lbl c0 trm \" ><span class=\"txtu\"><span class=\" is_meta\">Coppes</span></span></div></div></div></div></div></div></div></div><div class=\"contnr c1   lno \" ><div class=\"lbl c1  \" ><span class=\"nd\">editor </span></div><div class=\"children hor wrap \"><div class=\"contnr c1    \" ><div class=\"lbl c1  \" ><span class=\"nd\">token </span></div><div class=\"children hor wrap \"><div class=\"contnr c0 trm   \" ><div class=\"lbl c0 trm \" ><span class=\"txtu\"><span class=\" is_meta\"><br></span></span></div></div></div></div></div></div><div class=\"contnr c2    \" ><div class=\"lbl c2  \" ><span class=\"nd\">sentence </span></div><div class=\"children hor wrap \"><div class=\"contnr c1   rno \" ><div class=\"lbl c1  \" ><span class=\"nd\">editor </span></div><div class=\"children hor wrap \"><div class=\"contnr c1    \" ><div class=\"lbl c1  \" ><span class=\"nd\">token </span></div><div class=\"children hor wrap \"><div class=\"contnr c0 trm   \" ><div class=\"lbl c0 trm \" ><span class=\"txtu\"><span class=\" is_meta\">Leo </span></span></div></div></div></div><div class=\"contnr c1    \" ><div class=\"lbl c1  \" ><span class=\"nd\">token </span></div><div class=\"children hor wrap \"><div class=\"contnr c0 trm   \" ><div class=\"lbl c0 trm \" ><span class=\"txtu\"><span class=\" is_meta\">Jansen</span></span></div></div></div></div></div></div></div></div><div class=\"contnr c1   lno \" ><div class=\"lbl c1  \" ><span class=\"nd\">editor </span></div><div class=\"children hor wrap \"><div class=\"contnr c1    \" ><div class=\"lbl c1  \" ><span class=\"nd\">token </span></div><div class=\"children hor wrap \"><div class=\"contnr c0 trm   \" ><div class=\"lbl c0 trm \" ><span class=\"txtu\"><span class=\" is_meta\"><br></span></span></div></div></div></div></div></div><div class=\"contnr c2    \" ><div class=\"lbl c2  \" ><span class=\"nd\">sentence </span></div><div class=\"children hor wrap \"><div class=\"contnr c1   rno \" ><div class=\"lbl c1  \" ><span class=\"nd\">sponsor </span></div><div class=\"children hor wrap \"><div class=\"contnr c1    \" ><div class=\"lbl c1  \" ><span class=\"nd\">token </span></div><div class=\"children hor wrap \"><div class=\"contnr c0 trm   \" ><div class=\"lbl c0 trm \" ><span class=\"txtu\"><span class=\" is_meta\">Mondriaan </span></span></div></div></div></div><div class=\"contnr c1    \" ><div class=\"lbl c1  \" ><span class=\"nd\">token </span></div><div class=\"children hor wrap \"><div class=\"contnr c0 trm   \" ><div class=\"lbl c0 trm \" ><span class=\"txtu\"><span class=\" is_meta\">Editieproject</span></span></div></div></div></div></div></div></div></div><div class=\"contnr c1   lno \" ><div class=\"lbl c1  \" ><span class=\"nd\">sponsor </span></div><div class=\"children hor wrap \"><div class=\"contnr c1    \" ><div class=\"lbl c1  \" ><span class=\"nd\">token </span></div><div class=\"children hor wrap \"><div class=\"contnr c0 trm   \" ><div class=\"lbl c0 trm \" ><span class=\"txtu\"><span class=\" is_meta\"><br></span></span></div></div></div></div></div></div></div></div></div></div><div class=\"contnr c2    \" ><div class=\"lbl c2  \" ><span class=\"nd\">p </span></div><div class=\"children hor wrap \"><div class=\"contnr c2   lno rno \" ><div class=\"lbl c2  \" ><span class=\"nd\">fileDesc </span></div><div class=\"children hor wrap \"><div class=\"contnr c1    \" ><div class=\"lbl c1  \" ><span class=\"nd\">publicationStmt </span></div><div class=\"children hor wrap \"><div class=\"contnr c1    \" ><div class=\"lbl c1  \" ><span class=\"nd\">token </span></div><div class=\"children hor wrap \"><div class=\"contnr c0 trm   \" ><div class=\"lbl c0 trm \" ><span class=\"txtu\"><span class=\" is_meta\"><br></span></span></div></div></div></div></div></div></div></div></div></div><div class=\"contnr c2   lno \" ><div class=\"lbl c2  \" ><span class=\"nd\">fileDesc </span></div><div class=\"children hor wrap \"><div class=\"contnr c2    \" ><div class=\"lbl c2  \" ><span class=\"nd\">msDesc </span></div><div class=\"children hor wrap \"><div class=\"contnr c2    \" ><div class=\"lbl c2  \" ><span class=\"nd\">sourceDesc </span></div><div class=\"children hor wrap \"><div class=\"contnr c2    \" ><div class=\"lbl c2  \" ><span class=\"nd\">msIdentifier </span></div><div class=\"children hor wrap \"><div class=\"contnr c2    \" ><div class=\"lbl c2  \" ><span class=\"nd\">sentence </span></div><div class=\"children hor wrap \"><div class=\"contnr c1   rno \" ><div class=\"lbl c1  \" ><span class=\"nd\">country </span></div><div class=\"children hor wrap \"><div class=\"contnr c1    \" ><div class=\"lbl c1  \" ><span class=\"nd\">token </span></div><div class=\"children hor wrap \"><div class=\"contnr c0 trm   \" ><div class=\"lbl c0 trm \" ><span class=\"txtu\"><span class=\" is_meta\">Nederland</span></span></div></div></div></div></div></div></div></div><div class=\"contnr c1   lno \" ><div class=\"lbl c1  \" ><span class=\"nd\">country </span></div><div class=\"children hor wrap \"><div class=\"contnr c1    \" ><div class=\"lbl c1  \" ><span class=\"nd\">token </span></div><div class=\"children hor wrap \"><div class=\"contnr c0 trm   \" ><div class=\"lbl c0 trm \" ><span class=\"txtu\"><span class=\" is_meta\"><br></span></span></div></div></div></div></div></div><div class=\"contnr c2    \" ><div class=\"lbl c2  \" ><span class=\"nd\">sentence </span></div><div class=\"children hor wrap \"><div class=\"contnr c1   rno \" ><div class=\"lbl c1  \" ><span class=\"nd\">settlement </span></div><div class=\"children hor wrap \"><div class=\"contnr c1    \" ><div class=\"lbl c1  \" ><span class=\"nd\">token </span></div><div class=\"children hor wrap \"><div class=\"contnr c0 trm   \" ><div class=\"lbl c0 trm \" ><span class=\"txtu\"><span class=\" is_meta\">Otterlo</span></span></div></div></div></div></div></div></div></div><div class=\"contnr c1   lno \" ><div class=\"lbl c1  \" ><span class=\"nd\">settlement </span></div><div class=\"children hor wrap \"><div class=\"contnr c1    \" ><div class=\"lbl c1  \" ><span class=\"nd\">token </span></div><div class=\"children hor wrap \"><div class=\"contnr c0 trm   \" ><div class=\"lbl c0 trm \" ><span class=\"txtu\"><span class=\" is_meta\"><br></span></span></div></div></div></div></div></div><div class=\"contnr c2    \" ><div class=\"lbl c2  \" ><span class=\"nd\">sentence </span></div><div class=\"children hor wrap \"><div class=\"contnr c1   rno \" ><div class=\"lbl c1  \" ><span class=\"nd\">institution </span></div><div class=\"children hor wrap \"><div class=\"contnr c1    \" ><div class=\"lbl c1  \" ><span class=\"nd\">token </span></div><div class=\"children hor wrap \"><div class=\"contnr c0 trm   \" ><div class=\"lbl c0 trm \" ><span class=\"txtu\"><span class=\" is_meta\">Kröller </span></span></div></div></div></div><div class=\"contnr c1    \" ><div class=\"lbl c1  \" ><span class=\"nd\">token </span></div><div class=\"children hor wrap \"><div class=\"contnr c0 trm   \" ><div class=\"lbl c0 trm \" ><span class=\"txtu\"><span class=\" is_meta\">Müller </span></span></div></div></div></div><div class=\"contnr c1    \" ><div class=\"lbl c1  \" ><span class=\"nd\">token </span></div><div class=\"children hor wrap \"><div class=\"contnr c0 trm   \" ><div class=\"lbl c0 trm \" ><span class=\"txtu\"><span class=\" is_meta\">Museum</span></span></div></div></div></div></div></div></div></div><div class=\"contnr c1   lno \" ><div class=\"lbl c1  \" ><span class=\"nd\">institution </span></div><div class=\"children hor wrap \"><div class=\"contnr c1    \" ><div class=\"lbl c1  \" ><span class=\"nd\">token </span></div><div class=\"children hor wrap \"><div class=\"contnr c0 trm   \" ><div class=\"lbl c0 trm \" ><span class=\"txtu\"><span class=\" is_meta\"><br></span></span></div></div></div></div></div></div><div class=\"contnr c2    \" ><div class=\"lbl c2  \" ><span class=\"nd\">sentence </span></div><div class=\"children hor wrap \"><div class=\"contnr c1   rno \" ><div class=\"lbl c1  \" ><span class=\"nd\">idno </span></div><div class=\"children hor wrap \"><div class=\"contnr c1    \" ><div class=\"lbl c1  \" ><span class=\"nd\">token </span></div><div class=\"children hor wrap \"><div class=\"contnr c0 trm   \" ><div class=\"lbl c0 trm \" ><span class=\"txtu\"><span class=\" is_meta\">KM </span></span></div></div></div></div><div class=\"contnr c1    \" ><div class=\"lbl c1  \" ><span class=\"nd\">token </span></div><div class=\"children hor wrap \"><div class=\"contnr c0 trm   \" ><div class=\"lbl c0 trm \" ><span class=\"txtu\"><span class=\" is_meta\">123.397</span></span></div></div></div></div></div></div></div></div><div class=\"contnr c1   lno \" ><div class=\"lbl c1  \" ><span class=\"nd\">idno </span></div><div class=\"children hor wrap \"><div class=\"contnr c1    \" ><div class=\"lbl c1  \" ><span class=\"nd\">token </span></div><div class=\"children hor wrap \"><div class=\"contnr c0 trm   \" ><div class=\"lbl c0 trm \" ><span class=\"txtu\"><span class=\" is_meta\"><br></span></span></div></div></div></div></div></div><div class=\"contnr c2    \" ><div class=\"lbl c2  \" ><span class=\"nd\">sentence </span></div><div class=\"children hor wrap \"><div class=\"contnr c1   rno \" ><div class=\"lbl c1  \" ><span class=\"nd\">idno </span></div><div class=\"features\"><span class=\"type xft\" ><span class=\"f\">type=</span>letterId</span></div><div class=\"children hor wrap \"><div class=\"contnr c1   rno \" ><div class=\"lbl c1  \" ><span class=\"nd\">altIdentifier </span></div><div class=\"children hor wrap \"><div class=\"contnr c1    \" ><div class=\"lbl c1  \" ><span class=\"nd\">token </span></div><div class=\"children hor wrap \"><div class=\"contnr c0 trm   \" ><div class=\"lbl c0 trm \" ><span class=\"txtu\"><span class=\" is_meta\">19090216y_IONG_1303</span></span></div></div></div></div></div></div></div></div></div></div><div class=\"contnr c1   lno \" ><div class=\"lbl c1  \" ><span class=\"nd\">idno </span></div><div class=\"features\"><span class=\"type xft\" ><span class=\"f\">type=</span>letterId</span></div><div class=\"children hor wrap \"><div class=\"contnr c1   lno \" ><div class=\"lbl c1  \" ><span class=\"nd\">altIdentifier </span></div><div class=\"children hor wrap \"><div class=\"contnr c1    \" ><div class=\"lbl c1  \" ><span class=\"nd\">token </span></div><div class=\"children hor wrap \"><div class=\"contnr c0 trm   \" ><div class=\"lbl c0 trm \" ><span class=\"txtu\"><span class=\" is_meta\"><br></span></span></div></div></div></div></div></div></div></div><div class=\"contnr c2    \" ><div class=\"lbl c2  \" ><span class=\"nd\">sentence </span></div><div class=\"children hor wrap \"><div class=\"contnr c1    \" ><div class=\"lbl c1  \" ><span class=\"nd\">idno </span></div><div class=\"features\"><span class=\"type xft\" ><span class=\"f\">type=</span>def</span></div><div class=\"children hor wrap \"><div class=\"contnr c1   rno \" ><div class=\"lbl c1  \" ><span class=\"nd\">altIdentifier </span></div><div class=\"children hor wrap \"><div class=\"contnr c1    \" ><div class=\"lbl c1  \" ><span class=\"nd\">token </span></div><div class=\"children hor wrap \"><div class=\"contnr c0 trm   \" ><div class=\"lbl c0 trm \" ><span class=\"txtu\"><span class=\" is_meta\">​</span></span></div></div></div></div></div></div></div></div></div></div><div class=\"contnr c1   lno \" ><div class=\"lbl c1  \" ><span class=\"nd\">altIdentifier </span></div><div class=\"children hor wrap \"><div class=\"contnr c1    \" ><div class=\"lbl c1  \" ><span class=\"nd\">token </span></div><div class=\"children hor wrap \"><div class=\"contnr c0 trm   \" ><div class=\"lbl c0 trm \" ><span class=\"txtu\"><span class=\" is_meta\"><br></span></span></div></div></div></div></div></div></div></div><div class=\"contnr c2    \" ><div class=\"lbl c2  \" ><span class=\"nd\">sentence </span></div><div class=\"children hor wrap \"><div class=\"contnr c1   rno \" ><div class=\"lbl c1  \" ><span class=\"nd\">physDesc </span></div><div class=\"children hor wrap \"><div class=\"contnr c1    \" ><div class=\"lbl c1  \" ><span class=\"nd\">token </span></div><div class=\"children hor wrap \"><div class=\"contnr c1    \" ><div class=\"lbl c1  \" ><span class=\"nd\">objectDesc </span></div><div class=\"children hor wrap \"><div class=\"contnr c0 trm   \" ><div class=\"lbl c0 trm \" ><span class=\"txtu\"><span class=\" is_meta\">​</span></span></div></div></div></div></div></div></div></div></div></div><div class=\"contnr c2    \" ><div class=\"lbl c2  \" ><span class=\"nd\">sentence </span></div><div class=\"children hor wrap \"><div class=\"contnr c1   lno rno \" ><div class=\"lbl c1  \" ><span class=\"nd\">physDesc </span></div><div class=\"children hor wrap \"><div class=\"contnr c1   rno \" ><div class=\"lbl c1  \" ><span class=\"nd\">decoDesc </span></div><div class=\"children hor wrap \"><div class=\"contnr c1    \" ><div class=\"lbl c1  \" ><span class=\"nd\">decoNote </span></div><div class=\"children hor wrap \"><div class=\"contnr c1    \" ><div class=\"lbl c1  \" ><span class=\"nd\">token </span></div><div class=\"children hor wrap \"><div class=\"contnr c0 trm   \" ><div class=\"lbl c0 trm \" ><span class=\"txtu\"><span class=\" is_meta\">​</span></span></div></div></div></div></div></div></div></div></div></div></div></div><div class=\"contnr c1   lno \" ><div class=\"lbl c1  \" ><span class=\"nd\">physDesc </span></div><div class=\"children hor wrap \"><div class=\"contnr c1   lno \" ><div class=\"lbl c1  \" ><span class=\"nd\">decoDesc </span></div><div class=\"children hor wrap \"><div class=\"contnr c0 trm   \" ><div class=\"lbl c0 trm \" ><span class=\"txtu\"><span class=\" is_meta\"><br></span></span></div></div></div></div></div></div></div></div></div></div></div></div><div class=\"contnr c0 trm   \" ><div class=\"lbl c0 trm \" ><span class=\"txtu\"><span class=\" is_meta\"><br></span></span></div></div></div></div></div></div><div class=\"contnr c3    \" ><div class=\"lbl c3  \" ><span class=\"nd\">chunk </span></div><div class=\"children hor wrap \"><div class=\"contnr c2   lno rno \" ><div class=\"lbl c2  \" ><span class=\"nd\">teiHeader </span></div><div class=\"children hor wrap \"><div class=\"contnr c2    \" ><div class=\"lbl c2  \" ><span class=\"nd\">correspDesc </span></div><div class=\"children hor wrap \"><div class=\"contnr c2    \" ><div class=\"lbl c2  \" ><span class=\"nd\">profileDesc </span></div><div class=\"children hor wrap \"><div class=\"contnr c2    \" ><div class=\"lbl c2  \" ><span class=\"nd\">sentence </span></div><div class=\"children hor wrap \"><div class=\"contnr c2   rno \" ><div class=\"lbl c2  \" ><span class=\"nd\">correspAction </span></div><div class=\"features\"><span class=\"type xft\" ><span class=\"f\">type=</span>sent</span></div><div class=\"children hor wrap \"><div class=\"contnr c1   rno \" ><div class=\"lbl c1  \" ><span class=\"nd\">name </span></div><div class=\"children hor wrap \"><div class=\"contnr c1    \" ><div class=\"lbl c1  \" ><span class=\"nd\">token </span></div><div class=\"children hor wrap \"><div class=\"contnr c0 trm   \" ><div class=\"lbl c0 trm \" ><span class=\"txtu\"><span class=\" is_meta\">Piet </span></span></div></div></div></div><div class=\"contnr c1    \" ><div class=\"lbl c1  \" ><span class=\"nd\">token </span></div><div class=\"children hor wrap \"><div class=\"contnr c0 trm   \" ><div class=\"lbl c0 trm \" ><span class=\"txtu\"><span class=\" is_meta\">Mondriaan</span></span></div></div></div></div></div></div></div></div></div></div><div class=\"contnr c2   lno rno \" ><div class=\"lbl c2  \" ><span class=\"nd\">correspAction </span></div><div class=\"features\"><span class=\"type xft\" ><span class=\"f\">type=</span>sent</span></div><div class=\"children hor wrap \"><div class=\"contnr c1   lno \" ><div class=\"lbl c1  \" ><span class=\"nd\">name </span></div><div class=\"children hor wrap \"><div class=\"contnr c1    \" ><div class=\"lbl c1  \" ><span class=\"nd\">token </span></div><div class=\"children hor wrap \"><div class=\"contnr c0 trm   \" ><div class=\"lbl c0 trm \" ><span class=\"txtu\"><span class=\" is_meta\"><br></span></span></div></div></div></div></div></div></div></div><div class=\"contnr c2    \" ><div class=\"lbl c2  \" ><span class=\"nd\">sentence </span></div><div class=\"children hor wrap \"><div class=\"contnr c2   lno rno \" ><div class=\"lbl c2  \" ><span class=\"nd\">correspAction </span></div><div class=\"features\"><span class=\"type xft\" ><span class=\"f\">type=</span>sent</span></div><div class=\"children hor wrap \"><div class=\"contnr c2   rno \" ><div class=\"lbl c2  \" ><span class=\"nd\">date </span></div><div class=\"children hor wrap \"><div class=\"contnr c1    \" ><div class=\"lbl c1  \" ><span class=\"nd\">token </span></div><div class=\"children hor wrap \"><div class=\"contnr c0 trm   \" ><div class=\"lbl c0 trm \" ><span class=\"txtu\"><span class=\" is_meta\">dinsdag </span></span></div></div></div></div><div class=\"contnr c1    \" ><div class=\"lbl c1  \" ><span class=\"nd\">token </span></div><div class=\"children hor wrap \"><div class=\"contnr c0 trm   \" ><div class=\"lbl c0 trm \" ><span class=\"txtu\"><span class=\" is_meta\">16 </span></span></div></div></div></div><div class=\"contnr c1    \" ><div class=\"lbl c1  \" ><span class=\"nd\">token </span></div><div class=\"children hor wrap \"><div class=\"contnr c0 trm   \" ><div class=\"lbl c0 trm \" ><span class=\"txtu\"><span class=\" is_meta\">februari</span></span></div></div></div></div><div class=\"contnr c1    \" ><div class=\"lbl c1  \" ><span class=\"nd\">token </span></div><div class=\"children hor wrap \"><div class=\"contnr c0 trm   \" ><div class=\"lbl c0 trm \" ><span class=\"txtu\"><span class=\" is_meta\">, </span></span></div></div></div></div><div class=\"contnr c1    \" ><div class=\"lbl c1  \" ><span class=\"nd\">token </span></div><div class=\"children hor wrap \"><div class=\"contnr c0 trm   \" ><div class=\"lbl c0 trm \" ><span class=\"txtu\"><span class=\" is_meta\">dinsdag </span></span></div></div></div></div><div class=\"contnr c1    \" ><div class=\"lbl c1  \" ><span class=\"nd\">token </span></div><div class=\"children hor wrap \"><div class=\"contnr c0 trm   \" ><div class=\"lbl c0 trm \" ><span class=\"txtu\"><span class=\" is_meta\">2 </span></span></div></div></div></div><div class=\"contnr c1    \" ><div class=\"lbl c1  \" ><span class=\"nd\">token </span></div><div class=\"children hor wrap \"><div class=\"contnr c0 trm   \" ><div class=\"lbl c0 trm \" ><span class=\"txtu\"><span class=\" is_meta\">maart </span></span></div></div></div></div><div class=\"contnr c1    \" ><div class=\"lbl c1  \" ><span class=\"nd\">token </span></div><div class=\"children hor wrap \"><div class=\"contnr c0 trm   \" ><div class=\"lbl c0 trm \" ><span class=\"txtu\"><span class=\" is_meta\">of </span></span></div></div></div></div><div class=\"contnr c1    \" ><div class=\"lbl c1  \" ><span class=\"nd\">token </span></div><div class=\"children hor wrap \"><div class=\"contnr c0 trm   \" ><div class=\"lbl c0 trm \" ><span class=\"txtu\"><span class=\" is_meta\">dinsdag </span></span></div></div></div></div><div class=\"contnr c1    \" ><div class=\"lbl c1  \" ><span class=\"nd\">token </span></div><div class=\"children hor wrap \"><div class=\"contnr c0 trm   \" ><div class=\"lbl c0 trm \" ><span class=\"txtu\"><span class=\" is_meta\">9 </span></span></div></div></div></div><div class=\"contnr c1    \" ><div class=\"lbl c1  \" ><span class=\"nd\">token </span></div><div class=\"children hor wrap \"><div class=\"contnr c0 trm   \" ><div class=\"lbl c0 trm \" ><span class=\"txtu\"><span class=\" is_meta\">maart </span></span></div></div></div></div><div class=\"contnr c1    \" ><div class=\"lbl c1  \" ><span class=\"nd\">token </span></div><div class=\"children hor wrap \"><div class=\"contnr c0 trm   \" ><div class=\"lbl c0 trm \" ><span class=\"txtu\"><span class=\" is_meta\">1909</span></span></div></div></div></div></div></div></div></div></div></div><div class=\"contnr c2   lno rno \" ><div class=\"lbl c2  \" ><span class=\"nd\">correspAction </span></div><div class=\"features\"><span class=\"type xft\" ><span class=\"f\">type=</span>sent</span></div><div class=\"children hor wrap \"><div class=\"contnr c2   lno \" ><div class=\"lbl c2  \" ><span class=\"nd\">date </span></div><div class=\"children hor wrap \"><div class=\"contnr c1    \" ><div class=\"lbl c1  \" ><span class=\"nd\">token </span></div><div class=\"children hor wrap \"><div class=\"contnr c0 trm   \" ><div class=\"lbl c0 trm \" ><span class=\"txtu\"><span class=\" is_meta\"><br></span></span></div></div></div></div></div></div></div></div><div class=\"contnr c2    \" ><div class=\"lbl c2  \" ><span class=\"nd\">sentence </span></div><div class=\"children hor wrap \"><div class=\"contnr c2   lno rno \" ><div class=\"lbl c2  \" ><span class=\"nd\">correspAction </span></div><div class=\"features\"><span class=\"type xft\" ><span class=\"f\">type=</span>sent</span></div><div class=\"children hor wrap \"><div class=\"contnr c1   rno \" ><div class=\"lbl c1  \" ><span class=\"nd\">placeName </span></div><div class=\"children hor wrap \"><div class=\"contnr c1    \" ><div class=\"lbl c1  \" ><span class=\"nd\">token </span></div><div class=\"children hor wrap \"><div class=\"contnr c0 trm   \" ><div class=\"lbl c0 trm \" ><span class=\"txtu\"><span class=\" is_meta\">Amsterdam</span></span></div></div></div></div></div></div></div></div></div></div><div class=\"contnr c2   lno \" ><div class=\"lbl c2  \" ><span class=\"nd\">correspAction </span></div><div class=\"features\"><span class=\"type xft\" ><span class=\"f\">type=</span>sent</span></div><div class=\"children hor wrap \"><div class=\"contnr c1   lno \" ><div class=\"lbl c1  \" ><span class=\"nd\">placeName </span></div><div class=\"children hor wrap \"><div class=\"contnr c1    \" ><div class=\"lbl c1  \" ><span class=\"nd\">token </span></div><div class=\"children hor wrap \"><div class=\"contnr c0 trm   \" ><div class=\"lbl c0 trm \" ><span class=\"txtu\"><span class=\" is_meta\"><br></span></span></div></div></div></div></div></div></div></div><div class=\"contnr c2    \" ><div class=\"lbl c2  \" ><span class=\"nd\">sentence </span></div><div class=\"children hor wrap \"><div class=\"contnr c2   rno \" ><div class=\"lbl c2  \" ><span class=\"nd\">correspAction </span></div><div class=\"features\"><span class=\"type xft\" ><span class=\"f\">type=</span>received</span></div><div class=\"children hor wrap \"><div class=\"contnr c1   rno \" ><div class=\"lbl c1  \" ><span class=\"nd\">name </span></div><div class=\"children hor wrap \"><div class=\"contnr c1    \" ><div class=\"lbl c1  \" ><span class=\"nd\">token </span></div><div class=\"children hor wrap \"><div class=\"contnr c0 trm   \" ><div class=\"lbl c0 trm \" ><span class=\"txtu\"><span class=\" is_meta\">Aletta </span></span></div></div></div></div><div class=\"contnr c1    \" ><div class=\"lbl c1  \" ><span class=\"nd\">token </span></div><div class=\"children hor wrap \"><div class=\"contnr c0 trm   \" ><div class=\"lbl c0 trm \" ><span class=\"txtu\"><span class=\" is_meta\">de </span></span></div></div></div></div><div class=\"contnr c1    \" ><div class=\"lbl c1  \" ><span class=\"nd\">token </span></div><div class=\"children hor wrap \"><div class=\"contnr c0 trm   \" ><div class=\"lbl c0 trm \" ><span class=\"txtu\"><span class=\" is_meta\">Iongh</span></span></div></div></div></div></div></div></div></div></div></div><div class=\"contnr c2   lno \" ><div class=\"lbl c2  \" ><span class=\"nd\">correspAction </span></div><div class=\"features\"><span class=\"type xft\" ><span class=\"f\">type=</span>received</span></div><div class=\"children hor wrap \"><div class=\"contnr c1   lno \" ><div class=\"lbl c1  \" ><span class=\"nd\">name </span></div><div class=\"children hor wrap \"><div class=\"contnr c0 trm   \" ><div class=\"lbl c0 trm \" ><span class=\"txtu\"><span class=\" is_meta\"><br></span></span></div></div></div></div></div></div></div></div></div></div><div class=\"contnr c0 trm   \" ><div class=\"lbl c0 trm \" ><span class=\"txtu\"><span class=\" is_meta\"><br></span></span></div></div></div></div></div></div><div class=\"contnr c3    \" ><div class=\"lbl c3  \" ><span class=\"nd\">chunk </span></div><div class=\"children hor wrap \"><div class=\"contnr c2   lno \" ><div class=\"lbl c2  \" ><span class=\"nd\">teiHeader </span></div><div class=\"children hor wrap \"><div class=\"contnr c2    \" ><div class=\"lbl c2  \" ><span class=\"nd\">revisionDesc </span></div><div class=\"children hor wrap \"><div class=\"contnr c2    \" ><div class=\"lbl c2  \" ><span class=\"nd\">sentence </span></div><div class=\"children hor wrap \"><div class=\"contnr c2   rno \" ><div class=\"lbl c2  \" ><span class=\"nd\">change </span></div><div class=\"children hor wrap \"><div class=\"contnr c1    \" ><div class=\"lbl c1  \" ><span class=\"nd\">token </span></div><div class=\"children hor wrap \"><div class=\"contnr c0 trm   \" ><div class=\"lbl c0 trm \" ><span class=\"txtu\"><span class=\" is_meta\">transcriptie</span></span></div></div></div></div><div class=\"contnr c1    \" ><div class=\"lbl c1  \" ><span class=\"nd\">token </span></div><div class=\"children hor wrap \"><div class=\"contnr c0 trm   \" ><div class=\"lbl c0 trm \" ><span class=\"txtu\"><span class=\" is_meta\">: </span></span></div></div></div></div><div class=\"contnr c1    \" ><div class=\"lbl c1  \" ><span class=\"nd\">token </span></div><div class=\"children hor wrap \"><div class=\"contnr c0 trm   \" ><div class=\"lbl c0 trm \" ><span class=\"txtu\"><span class=\" is_meta\">voltooid </span></span></div></div></div></div><div class=\"contnr c1    \" ><div class=\"lbl c1  \" ><span class=\"nd\">token </span></div><div class=\"children hor wrap \"><div class=\"contnr c0 trm   \" ><div class=\"lbl c0 trm \" ><span class=\"txtu\"><span class=\" is_meta\">20.7.15</span></span></div></div></div></div></div></div></div></div><div class=\"contnr c2   lno \" ><div class=\"lbl c2  \" ><span class=\"nd\">change </span></div><div class=\"children hor wrap \"><div class=\"contnr c1    \" ><div class=\"lbl c1  \" ><span class=\"nd\">token </span></div><div class=\"children hor wrap \"><div class=\"contnr c0 trm   \" ><div class=\"lbl c0 trm \" ><span class=\"txtu\"><span class=\" is_meta\"><br></span></span></div></div></div></div></div></div><div class=\"contnr c2    \" ><div class=\"lbl c2  \" ><span class=\"nd\">sentence </span></div><div class=\"children hor wrap \"><div class=\"contnr c2   rno \" ><div class=\"lbl c2  \" ><span class=\"nd\">change </span></div><div class=\"children hor wrap \"><div class=\"contnr c1    \" ><div class=\"lbl c1  \" ><span class=\"nd\">token </span></div><div class=\"children hor wrap \"><div class=\"contnr c0 trm   \" ><div class=\"lbl c0 trm \" ><span class=\"txtu\"><span class=\" is_meta\">collatie </span></span></div></div></div></div><div class=\"contnr c1    \" ><div class=\"lbl c1  \" ><span class=\"nd\">token </span></div><div class=\"children hor wrap \"><div class=\"contnr c0 trm   \" ><div class=\"lbl c0 trm \" ><span class=\"txtu\"><span class=\" is_meta\">bron</span></span></div></div></div></div><div class=\"contnr c1    \" ><div class=\"lbl c1  \" ><span class=\"nd\">token </span></div><div class=\"children hor wrap \"><div class=\"contnr c0 trm   \" ><div class=\"lbl c0 trm \" ><span class=\"txtu\"><span class=\" is_meta\">: </span></span></div></div></div></div><div class=\"contnr c1    \" ><div class=\"lbl c1  \" ><span class=\"nd\">token </span></div><div class=\"children hor wrap \"><div class=\"contnr c0 trm   \" ><div class=\"lbl c0 trm \" ><span class=\"txtu\"><span class=\" is_meta\">6.6.16</span></span></div></div></div></div></div></div></div></div><div class=\"contnr c2   lno \" ><div class=\"lbl c2  \" ><span class=\"nd\">change </span></div><div class=\"children hor wrap \"><div class=\"contnr c1    \" ><div class=\"lbl c1  \" ><span class=\"nd\">token </span></div><div class=\"children hor wrap \"><div class=\"contnr c0 trm   \" ><div class=\"lbl c0 trm \" ><span class=\"txtu\"><span class=\" is_meta\"><br></span></span></div></div></div></div></div></div><div class=\"contnr c2    \" ><div class=\"lbl c2  \" ><span class=\"nd\">sentence </span></div><div class=\"children hor wrap \"><div class=\"contnr c2   rno \" ><div class=\"lbl c2  \" ><span class=\"nd\">change </span></div><div class=\"children hor wrap \"><div class=\"contnr c1    \" ><div class=\"lbl c1  \" ><span class=\"nd\">token </span></div><div class=\"children hor wrap \"><div class=\"contnr c0 trm   \" ><div class=\"lbl c0 trm \" ><span class=\"txtu\"><span class=\" is_meta\">tweede </span></span></div></div></div></div><div class=\"contnr c1    \" ><div class=\"lbl c1  \" ><span class=\"nd\">token </span></div><div class=\"children hor wrap \"><div class=\"contnr c0 trm   \" ><div class=\"lbl c0 trm \" ><span class=\"txtu\"><span class=\" is_meta\">collatie </span></span></div></div></div></div><div class=\"contnr c1    \" ><div class=\"lbl c1  \" ><span class=\"nd\">token </span></div><div class=\"children hor wrap \"><div class=\"contnr c0 trm   \" ><div class=\"lbl c0 trm \" ><span class=\"txtu\"><span class=\" is_meta\">aan </span></span></div></div></div></div><div class=\"contnr c1    \" ><div class=\"lbl c1  \" ><span class=\"nd\">token </span></div><div class=\"children hor wrap \"><div class=\"contnr c0 trm   \" ><div class=\"lbl c0 trm \" ><span class=\"txtu\"><span class=\" is_meta\">het </span></span></div></div></div></div><div class=\"contnr c1    \" ><div class=\"lbl c1  \" ><span class=\"nd\">token </span></div><div class=\"children hor wrap \"><div class=\"contnr c0 trm   \" ><div class=\"lbl c0 trm \" ><span class=\"txtu\"><span class=\" is_meta\">origineel</span></span></div></div></div></div><div class=\"contnr c1    \" ><div class=\"lbl c1  \" ><span class=\"nd\">token </span></div><div class=\"children hor wrap \"><div class=\"contnr c0 trm   \" ><div class=\"lbl c0 trm \" ><span class=\"txtu\"><span class=\" is_meta\">: </span></span></div></div></div></div><div class=\"contnr c1    \" ><div class=\"lbl c1  \" ><span class=\"nd\">token </span></div><div class=\"children hor wrap \"><div class=\"contnr c0 trm   \" ><div class=\"lbl c0 trm \" ><span class=\"txtu\"><span class=\" is_meta\">voltooid </span></span></div></div></div></div><div class=\"contnr c1    \" ><div class=\"lbl c1  \" ><span class=\"nd\">token </span></div><div class=\"children hor wrap \"><div class=\"contnr c0 trm   \" ><div class=\"lbl c0 trm \" ><span class=\"txtu\"><span class=\" is_meta\">26.11.19</span></span></div></div></div></div></div></div></div></div><div class=\"contnr c2   lno \" ><div class=\"lbl c2  \" ><span class=\"nd\">change </span></div><div class=\"children hor wrap \"><div class=\"contnr c1    \" ><div class=\"lbl c1  \" ><span class=\"nd\">token </span></div><div class=\"children hor wrap \"><div class=\"contnr c0 trm   \" ><div class=\"lbl c0 trm \" ><span class=\"txtu\"><span class=\" is_meta\"><br></span></span></div></div></div></div></div></div><div class=\"contnr c2    \" ><div class=\"lbl c2  \" ><span class=\"nd\">sentence </span></div><div class=\"children hor wrap \"><div class=\"contnr c2   rno \" ><div class=\"lbl c2  \" ><span class=\"nd\">change </span></div><div class=\"children hor wrap \"><div class=\"contnr c1    \" ><div class=\"lbl c1  \" ><span class=\"nd\">token </span></div><div class=\"children hor wrap \"><div class=\"contnr c0 trm   \" ><div class=\"lbl c0 trm \" ><span class=\"txtu\"><span class=\" is_meta\">invoer </span></span></div></div></div></div><div class=\"contnr c1    \" ><div class=\"lbl c1  \" ><span class=\"nd\">token </span></div><div class=\"children hor wrap \"><div class=\"contnr c0 trm   \" ><div class=\"lbl c0 trm \" ><span class=\"txtu\"><span class=\" is_meta\">tweede </span></span></div></div></div></div><div class=\"contnr c1    \" ><div class=\"lbl c1  \" ><span class=\"nd\">token </span></div><div class=\"children hor wrap \"><div class=\"contnr c0 trm   \" ><div class=\"lbl c0 trm \" ><span class=\"txtu\"><span class=\" is_meta\">collatie</span></span></div></div></div></div><div class=\"contnr c1    \" ><div class=\"lbl c1  \" ><span class=\"nd\">token </span></div><div class=\"children hor wrap \"><div class=\"contnr c0 trm   \" ><div class=\"lbl c0 trm \" ><span class=\"txtu\"><span class=\" is_meta\">: </span></span></div></div></div></div><div class=\"contnr c1    \" ><div class=\"lbl c1  \" ><span class=\"nd\">token </span></div><div class=\"children hor wrap \"><div class=\"contnr c0 trm   \" ><div class=\"lbl c0 trm \" ><span class=\"txtu\"><span class=\" is_meta\">voltooid </span></span></div></div></div></div><div class=\"contnr c1    \" ><div class=\"lbl c1  \" ><span class=\"nd\">token </span></div><div class=\"children hor wrap \"><div class=\"contnr c0 trm   \" ><div class=\"lbl c0 trm \" ><span class=\"txtu\"><span class=\" is_meta\">5.8.16</span></span></div></div></div></div></div></div></div></div><div class=\"contnr c2   lno \" ><div class=\"lbl c2  \" ><span class=\"nd\">change </span></div><div class=\"children hor wrap \"><div class=\"contnr c1    \" ><div class=\"lbl c1  \" ><span class=\"nd\">token </span></div><div class=\"children hor wrap \"><div class=\"contnr c0 trm   \" ><div class=\"lbl c0 trm \" ><span class=\"txtu\"><span class=\" is_meta\"><br></span></span></div></div></div></div></div></div><div class=\"contnr c2    \" ><div class=\"lbl c2  \" ><span class=\"nd\">sentence </span></div><div class=\"children hor wrap \"><div class=\"contnr c2   rno \" ><div class=\"lbl c2  \" ><span class=\"nd\">change </span></div><div class=\"children hor wrap \"><div class=\"contnr c1    \" ><div class=\"lbl c1  \" ><span class=\"nd\">token </span></div><div class=\"children hor wrap \"><div class=\"contnr c0 trm   \" ><div class=\"lbl c0 trm \" ><span class=\"txtu\"><span class=\" is_meta\">bespreking </span></span></div></div></div></div><div class=\"contnr c1    \" ><div class=\"lbl c1  \" ><span class=\"nd\">token </span></div><div class=\"children hor wrap \"><div class=\"contnr c0 trm   \" ><div class=\"lbl c0 trm \" ><span class=\"txtu\"><span class=\" is_meta\">eindversie</span></span></div></div></div></div><div class=\"contnr c1    \" ><div class=\"lbl c1  \" ><span class=\"nd\">token </span></div><div class=\"children hor wrap \"><div class=\"contnr c0 trm   \" ><div class=\"lbl c0 trm \" ><span class=\"txtu\"><span class=\" is_meta\">: </span></span></div></div></div></div><div class=\"contnr c1    \" ><div class=\"lbl c1  \" ><span class=\"nd\">token </span></div><div class=\"children hor wrap \"><div class=\"contnr c0 trm   \" ><div class=\"lbl c0 trm \" ><span class=\"txtu\"><span class=\" is_meta\">gb</span></span></div></div></div></div></div></div></div></div><div class=\"contnr c2   lno \" ><div class=\"lbl c2  \" ><span class=\"nd\">change </span></div><div class=\"children hor wrap \"><div class=\"contnr c1    \" ><div class=\"lbl c1  \" ><span class=\"nd\">token </span></div><div class=\"children hor wrap \"><div class=\"contnr c0 trm   \" ><div class=\"lbl c0 trm \" ><span class=\"txtu\"><span class=\" is_meta\"><br></span></span></div></div></div></div></div></div><div class=\"contnr c2    \" ><div class=\"lbl c2  \" ><span class=\"nd\">sentence </span></div><div class=\"children hor wrap \"><div class=\"contnr c2   rno \" ><div class=\"lbl c2  \" ><span class=\"nd\">change </span></div><div class=\"children hor wrap \"><div class=\"contnr c1    \" ><div class=\"lbl c1  \" ><span class=\"nd\">token </span></div><div class=\"children hor wrap \"><div class=\"contnr c0 trm   \" ><div class=\"lbl c0 trm \" ><span class=\"txtu\"><span class=\" is_meta\">markeren </span></span></div></div></div></div><div class=\"contnr c1    \" ><div class=\"lbl c1  \" ><span class=\"nd\">token </span></div><div class=\"children hor wrap \"><div class=\"contnr c0 trm   \" ><div class=\"lbl c0 trm \" ><span class=\"txtu\"><span class=\" is_meta\">annotaties</span></span></div></div></div></div><div class=\"contnr c1    \" ><div class=\"lbl c1  \" ><span class=\"nd\">token </span></div><div class=\"children hor wrap \"><div class=\"contnr c0 trm   \" ><div class=\"lbl c0 trm \" ><span class=\"txtu\"><span class=\" is_meta\">: </span></span></div></div></div></div><div class=\"contnr c1    \" ><div class=\"lbl c1  \" ><span class=\"nd\">token </span></div><div class=\"children hor wrap \"><div class=\"contnr c0 trm   \" ><div class=\"lbl c0 trm \" ><span class=\"txtu\"><span class=\" is_meta\">in </span></span></div></div></div></div><div class=\"contnr c1    \" ><div class=\"lbl c1  \" ><span class=\"nd\">token </span></div><div class=\"children hor wrap \"><div class=\"contnr c0 trm   \" ><div class=\"lbl c0 trm \" ><span class=\"txtu\"><span class=\" is_meta\">bewerking </span></span></div></div></div></div><div class=\"contnr c1    \" ><div class=\"lbl c1  \" ><span class=\"nd\">token </span></div><div class=\"children hor wrap \"><div class=\"contnr c0 trm   \" ><div class=\"lbl c0 trm \" ><span class=\"txtu\"><span class=\" is_meta\">/ </span></span></div></div></div></div><div class=\"contnr c1    \" ><div class=\"lbl c1  \" ><span class=\"nd\">token </span></div><div class=\"children hor wrap \"><div class=\"contnr c0 trm   \" ><div class=\"lbl c0 trm \" ><span class=\"txtu\"><span class=\" is_meta\">voltooid</span></span></div></div></div></div></div></div></div></div><div class=\"contnr c2   lno \" ><div class=\"lbl c2  \" ><span class=\"nd\">change </span></div><div class=\"children hor wrap \"><div class=\"contnr c1    \" ><div class=\"lbl c1  \" ><span class=\"nd\">token </span></div><div class=\"children hor wrap \"><div class=\"contnr c0 trm   \" ><div class=\"lbl c0 trm \" ><span class=\"txtu\"><span class=\" is_meta\"><br></span></span></div></div></div></div></div></div><div class=\"contnr c2    \" ><div class=\"lbl c2  \" ><span class=\"nd\">sentence </span></div><div class=\"children hor wrap \"><div class=\"contnr c2   rno \" ><div class=\"lbl c2  \" ><span class=\"nd\">change </span></div><div class=\"features\"><span class=\"type xft\" ><span class=\"f\">type=</span>editedText</span></div><div class=\"children hor wrap \"><div class=\"contnr c1    \" ><div class=\"lbl c1  \" ><span class=\"nd\">token </span></div><div class=\"children hor wrap \"><div class=\"contnr c0 trm   \" ><div class=\"lbl c0 trm \" ><span class=\"txtu\"><span class=\" is_meta\">gereed </span></span></div></div></div></div><div class=\"contnr c1    \" ><div class=\"lbl c1  \" ><span class=\"nd\">token </span></div><div class=\"children hor wrap \"><div class=\"contnr c0 trm   \" ><div class=\"lbl c0 trm \" ><span class=\"txtu\"><span class=\" is_meta\">17.4.2019</span></span></div></div></div></div></div></div></div></div><div class=\"contnr c2   lno \" ><div class=\"lbl c2  \" ><span class=\"nd\">change </span></div><div class=\"features\"><span class=\"type xft\" ><span class=\"f\">type=</span>editedText</span></div><div class=\"children hor wrap \"><div class=\"contnr c1    \" ><div class=\"lbl c1  \" ><span class=\"nd\">token </span></div><div class=\"children hor wrap \"><div class=\"contnr c0 trm   \" ><div class=\"lbl c0 trm \" ><span class=\"txtu\"><span class=\" is_meta\"><br></span></span></div></div></div></div></div></div><div class=\"contnr c2    \" ><div class=\"lbl c2  \" ><span class=\"nd\">sentence </span></div><div class=\"children hor wrap \"><div class=\"contnr c2   rno \" ><div class=\"lbl c2  \" ><span class=\"nd\">change </span></div><div class=\"children hor wrap \"><div class=\"contnr c1    \" ><div class=\"lbl c1  \" ><span class=\"nd\">token </span></div><div class=\"children hor wrap \"><div class=\"contnr c0 trm   \" ><div class=\"lbl c0 trm \" ><span class=\"txtu\"><span class=\" is_meta\">titel </span></span></div></div></div></div><div class=\"contnr c1    \" ><div class=\"lbl c1  \" ><span class=\"nd\">token </span></div><div class=\"children hor wrap \"><div class=\"contnr c0 trm   \" ><div class=\"lbl c0 trm \" ><span class=\"txtu\"><span class=\" is_meta\">gecontroleerd </span></span></div></div></div></div><div class=\"contnr c1    \" ><div class=\"lbl c1  \" ><span class=\"nd\">token </span></div><div class=\"children hor wrap \"><div class=\"contnr c0 trm   \" ><div class=\"lbl c0 trm \" ><span class=\"txtu\"><span class=\" is_meta\">21.09.2020</span></span></div></div></div></div></div></div></div></div><div class=\"contnr c2   lno \" ><div class=\"lbl c2  \" ><span class=\"nd\">change </span></div><div class=\"children hor wrap \"><div class=\"contnr c1    \" ><div class=\"lbl c1  \" ><span class=\"nd\">token </span></div><div class=\"children hor wrap \"><div class=\"contnr c0 trm   \" ><div class=\"lbl c0 trm \" ><span class=\"txtu\"><span class=\" is_meta\"><br></span></span></div></div></div></div></div></div><div class=\"contnr c2    \" ><div class=\"lbl c2  \" ><span class=\"nd\">sentence </span></div><div class=\"children hor wrap \"><div class=\"contnr c2   rno \" ><div class=\"lbl c2  \" ><span class=\"nd\">change </span></div><div class=\"children hor wrap \"><div class=\"contnr c1    \" ><div class=\"lbl c1  \" ><span class=\"nd\">token </span></div><div class=\"children hor wrap \"><div class=\"contnr c0 trm   \" ><div class=\"lbl c0 trm \" ><span class=\"txtu\"><span class=\" is_meta\">personen </span></span></div></div></div></div><div class=\"contnr c1    \" ><div class=\"lbl c1  \" ><span class=\"nd\">token </span></div><div class=\"children hor wrap \"><div class=\"contnr c0 trm   \" ><div class=\"lbl c0 trm \" ><span class=\"txtu\"><span class=\" is_meta\">getagd </span></span></div></div></div></div><div class=\"contnr c1    \" ><div class=\"lbl c1  \" ><span class=\"nd\">token </span></div><div class=\"children hor wrap \"><div class=\"contnr c0 trm   \" ><div class=\"lbl c0 trm \" ><span class=\"txtu\"><span class=\" is_meta\">12.10.2020</span></span></div></div></div></div></div></div></div></div><div class=\"contnr c2   lno \" ><div class=\"lbl c2  \" ><span class=\"nd\">change </span></div><div class=\"children hor wrap \"><div class=\"contnr c1    \" ><div class=\"lbl c1  \" ><span class=\"nd\">token </span></div><div class=\"children hor wrap \"><div class=\"contnr c0 trm   \" ><div class=\"lbl c0 trm \" ><span class=\"txtu\"><span class=\" is_meta\"><br></span></span></div></div></div></div></div></div><div class=\"contnr c2    \" ><div class=\"lbl c2  \" ><span class=\"nd\">sentence </span></div><div class=\"children hor wrap \"><div class=\"contnr c2   rno \" ><div class=\"lbl c2  \" ><span class=\"nd\">change </span></div><div class=\"children hor wrap \"><div class=\"contnr c1    \" ><div class=\"lbl c1  \" ><span class=\"nd\">token </span></div><div class=\"children hor wrap \"><div class=\"contnr c0 trm   \" ><div class=\"lbl c0 trm \" ><span class=\"txtu\"><span class=\" is_meta\">vertaling </span></span></div></div></div></div><div class=\"contnr c1    \" ><div class=\"lbl c1  \" ><span class=\"nd\">token </span></div><div class=\"children hor wrap \"><div class=\"contnr c0 trm   \" ><div class=\"lbl c0 trm \" ><span class=\"txtu\"><span class=\" is_meta\">ingevoerd </span></span></div></div></div></div><div class=\"contnr c1    \" ><div class=\"lbl c1  \" ><span class=\"nd\">token </span></div><div class=\"children hor wrap \"><div class=\"contnr c0 trm   \" ><div class=\"lbl c0 trm \" ><span class=\"txtu\"><span class=\" is_meta\">16.2.2021</span></span></div></div></div></div></div></div></div></div><div class=\"contnr c2   lno \" ><div class=\"lbl c2  \" ><span class=\"nd\">change </span></div><div class=\"children hor wrap \"><div class=\"contnr c1    \" ><div class=\"lbl c1  \" ><span class=\"nd\">token </span></div><div class=\"children hor wrap \"><div class=\"contnr c0 trm   \" ><div class=\"lbl c0 trm \" ><span class=\"txtu\"><span class=\" is_meta\"><br></span></span></div></div></div></div></div></div><div class=\"contnr c2    \" ><div class=\"lbl c2  \" ><span class=\"nd\">sentence </span></div><div class=\"children hor wrap \"><div class=\"contnr c2   rno \" ><div class=\"lbl c2  \" ><span class=\"nd\">change </span></div><div class=\"children hor wrap \"><div class=\"contnr c1    \" ><div class=\"lbl c1  \" ><span class=\"nd\">token </span></div><div class=\"children hor wrap \"><div class=\"contnr c0 trm   \" ><div class=\"lbl c0 trm \" ><span class=\"txtu\"><span class=\" is_meta\">codering </span></span></div></div></div></div><div class=\"contnr c1    \" ><div class=\"lbl c1  \" ><span class=\"nd\">token </span></div><div class=\"children hor wrap \"><div class=\"contnr c0 trm   \" ><div class=\"lbl c0 trm \" ><span class=\"txtu\"><span class=\" is_meta\">personen </span></span></div></div></div></div><div class=\"contnr c1    \" ><div class=\"lbl c1  \" ><span class=\"nd\">token </span></div><div class=\"children hor wrap \"><div class=\"contnr c0 trm   \" ><div class=\"lbl c0 trm \" ><span class=\"txtu\"><span class=\" is_meta\">aangepast </span></span></div></div></div></div><div class=\"contnr c1    \" ><div class=\"lbl c1  \" ><span class=\"nd\">token </span></div><div class=\"children hor wrap \"><div class=\"contnr c0 trm   \" ><div class=\"lbl c0 trm \" ><span class=\"txtu\"><span class=\" is_meta\">16.2.2022</span></span></div></div></div></div></div></div></div></div><div class=\"contnr c2   lno \" ><div class=\"lbl c2  \" ><span class=\"nd\">change </span></div><div class=\"children hor wrap \"><div class=\"contnr c1    \" ><div class=\"lbl c1  \" ><span class=\"nd\">token </span></div><div class=\"children hor wrap \"><div class=\"contnr c0 trm   \" ><div class=\"lbl c0 trm \" ><span class=\"txtu\"><span class=\" is_meta\"><br></span></span></div></div></div></div></div></div><div class=\"contnr c2    \" ><div class=\"lbl c2  \" ><span class=\"nd\">sentence </span></div><div class=\"children hor wrap \"><div class=\"contnr c2   rno \" ><div class=\"lbl c2  \" ><span class=\"nd\">change </span></div><div class=\"children hor wrap \"><div class=\"contnr c1    \" ><div class=\"lbl c1  \" ><span class=\"nd\">token </span></div><div class=\"children hor wrap \"><div class=\"contnr c0 trm   \" ><div class=\"lbl c0 trm \" ><span class=\"txtu\"><span class=\" is_meta\">controle</span></span></div></div></div></div><div class=\"contnr c1    \" ><div class=\"lbl c1  \" ><span class=\"nd\">token </span></div><div class=\"children hor wrap \"><div class=\"contnr c0 trm   \" ><div class=\"lbl c0 trm \" ><span class=\"txtu\"><span class=\" is_meta\">/</span></span></div></div></div></div><div class=\"contnr c1    \" ><div class=\"lbl c1  \" ><span class=\"nd\">token </span></div><div class=\"children hor wrap \"><div class=\"contnr c0 trm   \" ><div class=\"lbl c0 trm \" ><span class=\"txtu\"><span class=\" is_meta\">aanpassing </span></span></div></div></div></div><div class=\"contnr c1    \" ><div class=\"lbl c1  \" ><span class=\"nd\">token </span></div><div class=\"children hor wrap \"><div class=\"contnr c0 trm   \" ><div class=\"lbl c0 trm \" ><span class=\"txtu\"><span class=\" is_meta\">afkortingen </span></span></div></div></div></div><div class=\"contnr c1    \" ><div class=\"lbl c1  \" ><span class=\"nd\">token </span></div><div class=\"children hor wrap \"><div class=\"contnr c0 trm   \" ><div class=\"lbl c0 trm \" ><span class=\"txtu\"><span class=\" is_meta\">en </span></span></div></div></div></div><div class=\"contnr c1    \" ><div class=\"lbl c1  \" ><span class=\"nd\">token </span></div><div class=\"children hor wrap \"><div class=\"contnr c0 trm   \" ><div class=\"lbl c0 trm \" ><span class=\"txtu\"><span class=\" is_meta\">emendaties </span></span></div></div></div></div><div class=\"contnr c1    \" ><div class=\"lbl c1  \" ><span class=\"nd\">token </span></div><div class=\"children hor wrap \"><div class=\"contnr c0 trm   \" ><div class=\"lbl c0 trm \" ><span class=\"txtu\"><span class=\" is_meta\">21.4.2023</span></span></div></div></div></div></div></div></div></div><div class=\"contnr c2   lno \" ><div class=\"lbl c2  \" ><span class=\"nd\">change </span></div><div class=\"children hor wrap \"><div class=\"contnr c0 trm   \" ><div class=\"lbl c0 trm \" ><span class=\"txtu\"><span class=\" is_meta\"><br></span></span></div></div></div></div></div></div><div class=\"contnr c0 trm   \" ><div class=\"lbl c0 trm \" ><span class=\"txtu\"><span class=\" is_meta\"><br></span></span></div></div></div></div></div></div><div class=\"contnr c3    \" ><div class=\"lbl c3  \" ><span class=\"nd\">chunk </span></div><div class=\"children hor wrap \"><div class=\"contnr c2    \" ><div class=\"lbl c2  \" ><span class=\"nd\">sentence </span></div><div class=\"children hor wrap \"><div class=\"contnr c2   rno \" ><div class=\"lbl c2  \" ><span class=\"nd\">facsimile </span></div><div class=\"children hor wrap \"><div class=\"contnr c1    \" ><div class=\"lbl c1  \" ><span class=\"nd\">surface </span></div><div class=\"children hor wrap \"><div class=\"contnr c1    \" ><div class=\"lbl c1  \" ><span class=\"nd\">token </span></div><div class=\"children hor wrap \"><div class=\"contnr c1    \" ><div class=\"lbl c1  \" ><span class=\"nd\">graphic </span></div><div class=\"children hor wrap \"><div class=\"contnr c0 trm   \" ><div class=\"lbl c0 trm \" ><span class=\"txtu\">​ </span></div></div></div></div></div></div><div class=\"contnr c1    \" ><div class=\"lbl c1  \" ><span class=\"nd\">zone </span></div><div class=\"children hor wrap \"><div class=\"contnr c1    \" ><div class=\"lbl c1  \" ><span class=\"nd\">token </span></div><div class=\"children hor wrap \"><div class=\"contnr c1    \" ><div class=\"lbl c1  \" ><span class=\"nd\">graphic </span></div><div class=\"children hor wrap \"><div class=\"contnr c0 trm   \" ><div class=\"lbl c0 trm \" ><span class=\"txtu\">​ </span></div></div></div></div></div></div><div class=\"contnr c1    \" ><div class=\"lbl c1  \" ><span class=\"nd\">token </span></div><div class=\"children hor wrap \"><div class=\"contnr c0 trm   \" ><div class=\"lbl c0 trm \" ><span class=\"txtu\"><br></span></div></div></div></div></div></div></div></div><div class=\"contnr c1    \" ><div class=\"lbl c1  \" ><span class=\"nd\">surface </span></div><div class=\"children hor wrap \"><div class=\"contnr c1    \" ><div class=\"lbl c1  \" ><span class=\"nd\">token </span></div><div class=\"children hor wrap \"><div class=\"contnr c1    \" ><div class=\"lbl c1  \" ><span class=\"nd\">graphic </span></div><div class=\"children hor wrap \"><div class=\"contnr c0 trm   \" ><div class=\"lbl c0 trm \" ><span class=\"txtu\">​</span></div></div></div></div></div></div><div class=\"contnr c1    \" ><div class=\"lbl c1  \" ><span class=\"nd\">token </span></div><div class=\"children hor wrap \"><div class=\"contnr c0 trm   \" ><div class=\"lbl c0 trm \" ><span class=\"txtu\"><br></span></div></div></div></div></div></div><div class=\"contnr c1    \" ><div class=\"lbl c1  \" ><span class=\"nd\">surface </span></div><div class=\"children hor wrap \"><div class=\"contnr c1    \" ><div class=\"lbl c1  \" ><span class=\"nd\">token </span></div><div class=\"children hor wrap \"><div class=\"contnr c1    \" ><div class=\"lbl c1  \" ><span class=\"nd\">graphic </span></div><div class=\"children hor wrap \"><div class=\"contnr c0 trm   \" ><div class=\"lbl c0 trm \" ><span class=\"txtu\">​</span></div></div></div></div></div></div><div class=\"contnr c1    \" ><div class=\"lbl c1  \" ><span class=\"nd\">token </span></div><div class=\"children hor wrap \"><div class=\"contnr c0 trm   \" ><div class=\"lbl c0 trm \" ><span class=\"txtu\"><br></span></div></div></div></div></div></div><div class=\"contnr c1   rno \" ><div class=\"lbl c1  \" ><span class=\"nd\">surface </span></div><div class=\"children hor wrap \"><div class=\"contnr c1    \" ><div class=\"lbl c1  \" ><span class=\"nd\">token </span></div><div class=\"children hor wrap \"><div class=\"contnr c1    \" ><div class=\"lbl c1  \" ><span class=\"nd\">graphic </span></div><div class=\"children hor wrap \"><div class=\"contnr c0 trm   \" ><div class=\"lbl c0 trm \" ><span class=\"txtu\">​</span></div></div></div></div></div></div></div></div></div></div></div></div><div class=\"contnr c2   lno \" ><div class=\"lbl c2  \" ><span class=\"nd\">facsimile </span></div><div class=\"children hor wrap \"><div class=\"contnr c1   lno \" ><div class=\"lbl c1  \" ><span class=\"nd\">surface </span></div><div class=\"children hor wrap \"><div class=\"contnr c0 trm   \" ><div class=\"lbl c0 trm \" ><span class=\"txtu\"><br></span></div></div></div></div></div></div><div class=\"contnr c0 trm   \" ><div class=\"lbl c0 trm \" ><span class=\"txtu\"><br></span></div></div></div></div><div class=\"contnr c2    \" ><div class=\"lbl c2  \" ><span class=\"nd\">body </span></div><div class=\"children hor wrap \"><div class=\"contnr c2    \" ><div class=\"lbl c2  \" ><span class=\"nd\">text </span></div><div class=\"children hor wrap \"><div class=\"contnr c2    \" ><div class=\"lbl c2  \" ><span class=\"nd\">div </span></div><div class=\"features\"><span class=\"type xft\" ><span class=\"f\">type=</span>original</span></div><div class=\"children hor wrap \"><div class=\"contnr c2   rno \" ><div class=\"lbl c2  \" ><span class=\"nd\">page </span></div><div class=\"children hor wrap \"><div class=\"contnr c3   rno \" ><div class=\"lbl c3  \" ><span class=\"nd\">chunk </span></div><div class=\"children hor wrap \"><div class=\"contnr c2   rno \" ><div class=\"lbl c2  \" ><span class=\"nd\">sentence </span></div><div class=\"children hor wrap \"><div class=\"contnr c2    \" ><div class=\"lbl c2  \" ><span class=\"nd\">opener </span></div><div class=\"children hor wrap \"><div class=\"contnr c2    \" ><div class=\"lbl c2  \" ><span class=\"nd\">salute </span></div><div class=\"children hor wrap \"><div class=\"contnr c1    \" ><div class=\"lbl c1  \" ><span class=\"nd\">token </span></div><div class=\"children hor wrap \"><div class=\"contnr c0 trm   \" ><div class=\"lbl c0 trm \" ><span class=\"txtu\">Beste </span></div></div></div></div><div class=\"contnr c1    \" ><div class=\"lbl c1  \" ><span class=\"nd\">token </span></div><div class=\"children hor wrap \"><div class=\"contnr c0 trm   \" ><div class=\"lbl c0 trm \" ><span class=\"txtu\">Zus</span></div></div></div></div><div class=\"contnr c1    \" ><div class=\"lbl c1  \" ><span class=\"nd\">token </span></div><div class=\"children hor wrap \"><div class=\"contnr c0 trm   \" ><div class=\"lbl c0 trm \" ><span class=\"txtu\">,</span></div></div></div></div></div></div><div class=\"contnr c1    \" ><div class=\"lbl c1  \" ><span class=\"nd\">token </span></div><div class=\"children hor wrap \"><div class=\"contnr c0 trm   \" ><div class=\"lbl c0 trm \" ><span class=\"txtu\"><br></span></div></div></div></div></div></div><div class=\"contnr c1    \" ><div class=\"lbl c1  \" ><span class=\"nd\">token </span></div><div class=\"children hor wrap \"><div class=\"contnr c1    \" ><div class=\"lbl c1  \" ><span class=\"nd\">ptr </span></div><div class=\"children hor wrap \"><div class=\"contnr c0 trm   \" ><div class=\"lbl c0 trm \" ><span class=\"txtu\">​</span></div></div></div></div></div></div></div></div><div class=\"contnr c2    \" ><div class=\"lbl c2  \" ><span class=\"nd\">p </span></div><div class=\"children hor wrap \"><div class=\"contnr c2   lno r \" ><div class=\"lbl c2  \" ><span class=\"nd\">sentence </span></div><div class=\"children hor wrap \"><div class=\"contnr c1    \" ><div class=\"lbl c1  \" ><span class=\"nd\">token </span></div><div class=\"children hor wrap \"><div class=\"contnr c0 trm   \" ><div class=\"lbl c0 trm \" ><span class=\"txtu\">kom </span></div></div></div></div><div class=\"contnr c1    \" ><div class=\"lbl c1  \" ><span class=\"nd\">token </span></div><div class=\"children hor wrap \"><div class=\"contnr c0 trm   \" ><div class=\"lbl c0 trm \" ><span class=\"txtu\">je </span></div></div></div></div><div class=\"contnr c1    \" ><div class=\"lbl c1  \" ><span class=\"nd\">token </span></div><div class=\"children hor wrap \"><div class=\"contnr c0 trm   \" ><div class=\"lbl c0 trm \" ><span class=\"txtu\">morgenavond </span></div></div></div></div><div class=\"contnr c1    \" ><div class=\"lbl c1  \" ><span class=\"nd\">token </span></div><div class=\"children hor wrap \"><div class=\"contnr c0 trm   \" ><div class=\"lbl c0 trm \" ><span class=\"txtu\">(</span></div></div></div></div><div class=\"contnr c1    \" ><div class=\"lbl c1  \" ><span class=\"nd\">token </span></div><div class=\"children hor wrap \"><div class=\"contnr c0 trm   \" ><div class=\"lbl c0 trm \" ><span class=\"txtu\">Woensdag</span></div></div></div></div><div class=\"contnr c1    \" ><div class=\"lbl c1  \" ><span class=\"nd\">token </span></div><div class=\"children hor wrap \"><div class=\"contnr c0 trm   \" ><div class=\"lbl c0 trm \" ><span class=\"txtu\">) </span></div></div></div></div><div class=\"contnr c1    \" ><div class=\"lbl c1  \" ><span class=\"nd\">token </span></div><div class=\"children hor wrap \"><div class=\"contnr c0 trm   \" ><div class=\"lbl c0 trm \" ><span class=\"txtu\">om </span></div></div></div></div><div class=\"contnr c1    \" ><div class=\"lbl c1  \" ><span class=\"nd\">token </span></div><div class=\"children hor wrap \"><div class=\"contnr c0 trm   \" ><div class=\"lbl c0 trm \" ><span class=\"txtu\">kwart </span></div></div></div></div><div class=\"contnr c1    \" ><div class=\"lbl c1  \" ><span class=\"nd\">token </span></div><div class=\"children hor wrap \"><div class=\"contnr c0 trm   \" ><div class=\"lbl c0 trm \" ><span class=\"txtu\">voor </span></div></div></div></div><div class=\"contnr c1    \" ><div class=\"lbl c1  \" ><span class=\"nd\">token </span></div><div class=\"children hor wrap \"><div class=\"contnr c0 trm   \" ><div class=\"lbl c0 trm \" ><span class=\"txtu\">acht </span></div></div></div></div><div class=\"contnr c1    \" ><div class=\"lbl c1  \" ><span class=\"nd\">token </span></div><div class=\"children hor wrap \"><div class=\"contnr c0 trm   \" ><div class=\"lbl c0 trm \" ><span class=\"txtu\">ingang </span></div></div></div></div><div class=\"contnr c1    \" ><div class=\"lbl c1  \" ><span class=\"nd\">token </span></div><div class=\"children hor wrap \"><div class=\"contnr c0 trm   \" ><div class=\"lbl c0 trm \" ><span class=\"txtu\">kleine </span></div></div></div></div><div class=\"contnr c1    \" ><div class=\"lbl c1  \" ><span class=\"nd\">token </span></div><div class=\"children hor wrap \"><div class=\"contnr c0 trm   \" ><div class=\"lbl c0 trm \" ><span class=\"txtu\">zaal </span></div></div></div></div><div class=\"contnr c1    \" ><div class=\"lbl c1  \" ><span class=\"nd\">token </span></div><div class=\"children hor wrap \"><div class=\"contnr c0 trm   \" ><div class=\"lbl c0 trm \" ><span class=\"txtu\">Concertgebouw</span></div></div></div></div></div></div><div class=\"contnr c2    \" ><div class=\"lbl c2  \" ><span class=\"nd\">sentence </span></div><div class=\"children hor wrap \"><div class=\"contnr c1   rno \" ><div class=\"lbl c1  \" ><span class=\"nd\">choice </span></div><div class=\"children hor wrap \"><div class=\"contnr c1    \" ><div class=\"lbl c1  \" ><span class=\"nd\">orig </span></div><div class=\"children hor wrap \"><div class=\"contnr c1    \" ><div class=\"lbl c1  \" ><span class=\"nd\">token </span></div><div class=\"children hor wrap \"><div class=\"contnr c0 trm   \" ><div class=\"lbl c0 trm \" ><span class=\"txtu\">​</span></div></div></div></div></div></div></div></div></div></div><div class=\"contnr c2   l r \" ><div class=\"lbl c2  \" ><span class=\"nd\">sentence </span></div><div class=\"children hor wrap \"><div class=\"contnr c1   lno \" ><div class=\"lbl c1  \" ><span class=\"nd\">choice </span></div><div class=\"children hor wrap \"><div class=\"contnr c1    \" ><div class=\"lbl c1  \" ><span class=\"nd\">reg </span></div><div class=\"children hor wrap \"><div class=\"contnr c1    \" ><div class=\"lbl c1  \" ><span class=\"nd\">token </span></div><div class=\"children hor wrap \"><div class=\"contnr c0 trm   \" ><div class=\"lbl c0 trm \" ><span class=\"txtu\">, </span></div></div></div></div></div></div></div></div><div class=\"contnr c1    \" ><div class=\"lbl c1  \" ><span class=\"nd\">token </span></div><div class=\"children hor wrap \"><div class=\"contnr c0 trm   \" ><div class=\"lbl c0 trm \" ><span class=\"txtu\">dan </span></div></div></div></div><div class=\"contnr c1    \" ><div class=\"lbl c1  \" ><span class=\"nd\">token </span></div><div class=\"children hor wrap \"><div class=\"contnr c0 trm   \" ><div class=\"lbl c0 trm \" ><span class=\"txtu\">heb </span></div></div></div></div><div class=\"contnr c1    \" ><div class=\"lbl c1  \" ><span class=\"nd\">token </span></div><div class=\"children hor wrap \"><div class=\"contnr c0 trm   \" ><div class=\"lbl c0 trm \" ><span class=\"txtu\">ik </span></div></div></div></div><div class=\"contnr c1    \" ><div class=\"lbl c1  \" ><span class=\"nd\">token </span></div><div class=\"children hor wrap \"><div class=\"contnr c0 trm   \" ><div class=\"lbl c0 trm \" ><span class=\"txtu\">een </span></div></div></div></div><div class=\"contnr c1    \" ><div class=\"lbl c1  \" ><span class=\"nd\">token </span></div><div class=\"children hor wrap \"><div class=\"contnr c0 trm   \" ><div class=\"lbl c0 trm \" ><span class=\"txtu\">plaats </span></div></div></div></div><div class=\"contnr c1    \" ><div class=\"lbl c1  \" ><span class=\"nd\">token </span></div><div class=\"children hor wrap \"><div class=\"contnr c0 trm   \" ><div class=\"lbl c0 trm \" ><span class=\"txtu\">voor </span></div></div></div></div><div class=\"contnr c1   r \" ><div class=\"lbl c1  \" ><span class=\"nd\">token </span></div><div class=\"children hor wrap \"><div class=\"contnr c0 trm   \" ><div class=\"lbl c0 trm \" ><span class=\"txtu\">v </span></div></div></div></div></div></div><div class=\"contnr c2    \" ><div class=\"lbl c2  \" ><span class=\"nd\">sentence </span></div><div class=\"children hor wrap \"><div class=\"contnr c1   rno \" ><div class=\"lbl c1  \" ><span class=\"nd\">choice </span></div><div class=\"children hor wrap \"><div class=\"contnr c1    \" ><div class=\"lbl c1  \" ><span class=\"nd\">orig </span></div><div class=\"children hor wrap \"><div class=\"contnr c1    \" ><div class=\"lbl c1  \" ><span class=\"nd\">token </span></div><div class=\"children hor wrap \"><div class=\"contnr c0 trm   \" ><div class=\"lbl c0 trm \" ><span class=\"txtu\">​</span></div></div></div></div></div></div></div></div></div></div><div class=\"contnr c2   l r \" ><div class=\"lbl c2  \" ><span class=\"nd\">sentence </span></div><div class=\"children hor wrap \"><div class=\"contnr c1   lno \" ><div class=\"lbl c1  \" ><span class=\"nd\">choice </span></div><div class=\"children hor wrap \"><div class=\"contnr c1    \" ><div class=\"lbl c1  \" ><span class=\"nd\">reg </span></div><div class=\"children hor wrap \"><div class=\"contnr c1   l \" ><div class=\"lbl c1  \" ><span class=\"nd\">token </span></div><div class=\"children hor wrap \"><div class=\"contnr c0 trm   \" ><div class=\"lbl c0 trm \" ><span class=\"txtu\">. </span></div></div></div></div></div></div></div></div><div class=\"contnr c1   rno \" ><div class=\"lbl c1  \" ><span class=\"nd\">rs </span></div><div class=\"features\"><span class=\"type \" ><span class=\"f\">type=</span>person</span><span class=\"ref xft\" ><span class=\"f\">ref=</span>bio.xml#buhlig_richard</span></div><div class=\"children hor wrap \"><div class=\"contnr c1   r \" ><div class=\"lbl c1  \" ><span class=\"nd\">token </span></div><div class=\"children hor wrap \"><div class=\"contnr c0 trm   \" ><div class=\"lbl c0 trm \" ><span class=\"txtu\">Bu</span></div></div></div></div></div></div></div></div><div class=\"contnr c2    \" ><div class=\"lbl c2  \" ><span class=\"nd\">sentence </span></div><div class=\"children hor wrap \"><div class=\"contnr c1   lno rno \" ><div class=\"lbl c1  \" ><span class=\"nd\">rs </span></div><div class=\"features\"><span class=\"type \" ><span class=\"f\">type=</span>person</span><span class=\"ref xft\" ><span class=\"f\">ref=</span>bio.xml#buhlig_richard</span></div><div class=\"children hor wrap \"><div class=\"contnr c1    \" ><div class=\"lbl c1  \" ><span class=\"nd\">del </span></div><div class=\"features\"><span class=\"type xft\" ><span class=\"f\">type=</span>overwritten</span></div><div class=\"children hor wrap \"><div class=\"contnr c1    \" ><div class=\"lbl c1  \" ><span class=\"nd\">token </span></div><div class=\"children hor wrap \"><div class=\"contnr c0 trm   \" ><div class=\"lbl c0 trm \" ><span class=\"txtu\">l</span></div></div></div></div></div></div></div></div></div></div><div class=\"contnr c2   l \" ><div class=\"lbl c2  \" ><span class=\"nd\">sentence </span></div><div class=\"children hor wrap \"><div class=\"contnr c1   lno \" ><div class=\"lbl c1  \" ><span class=\"nd\">rs </span></div><div class=\"features\"><span class=\"type \" ><span class=\"f\">type=</span>person</span><span class=\"ref xft\" ><span class=\"f\">ref=</span>bio.xml#buhlig_richard</span></div><div class=\"children hor wrap \"><div class=\"contnr c1    \" ><div class=\"lbl c1  \" ><span class=\"nd\">add </span></div><div class=\"children hor wrap \"><div class=\"contnr c1   l rno \" ><div class=\"lbl c1  \" ><span class=\"nd\">token </span></div><div class=\"children hor wrap \"><div class=\"contnr c0 trm   \" ><div class=\"lbl c0 trm \" ><span class=\"txtu\">h</span></div></div></div></div></div></div><div class=\"contnr c1   lno \" ><div class=\"lbl c1  \" ><span class=\"nd\">token </span></div><div class=\"children hor wrap \"><div class=\"contnr c0 trm   \" ><div class=\"lbl c0 trm \" ><span class=\"txtu\">lig </span></div></div></div></div></div></div><div class=\"contnr c1    \" ><div class=\"lbl c1  \" ><span class=\"nd\">token </span></div><div class=\"children hor wrap \"><div class=\"contnr c0 trm   \" ><div class=\"lbl c0 trm \" ><span class=\"txtu\">voor </span></div></div></div></div><div class=\"contnr c1    \" ><div class=\"lbl c1  \" ><span class=\"nd\">token </span></div><div class=\"children hor wrap \"><div class=\"contnr c0 trm   \" ><div class=\"lbl c0 trm \" ><span class=\"txtu\">je</span></div></div></div></div><div class=\"contnr c1    \" ><div class=\"lbl c1  \" ><span class=\"nd\">token </span></div><div class=\"children hor wrap \"><div class=\"contnr c0 trm   \" ><div class=\"lbl c0 trm \" ><span class=\"txtu\">.</span></div></div></div></div><div class=\"contnr c1    \" ><div class=\"lbl c1  \" ><span class=\"nd\">token </span></div><div class=\"children hor wrap \"><div class=\"contnr c1    \" ><div class=\"lbl c1  \" ><span class=\"nd\">ptr </span></div><div class=\"children hor wrap \"><div class=\"contnr c0 trm   \" ><div class=\"lbl c0 trm \" ><span class=\"txtu\">​ </span></div></div></div></div></div></div><div class=\"contnr c1    \" ><div class=\"lbl c1  \" ><span class=\"nd\">token </span></div><div class=\"children hor wrap \"><div class=\"contnr c0 trm   \" ><div class=\"lbl c0 trm \" ><span class=\"txtu\">En </span></div></div></div></div><div class=\"contnr c1    \" ><div class=\"lbl c1  \" ><span class=\"nd\">token </span></div><div class=\"children hor wrap \"><div class=\"contnr c0 trm   \" ><div class=\"lbl c0 trm \" ><span class=\"txtu\">dan </span></div></div></div></div><div class=\"contnr c1    \" ><div class=\"lbl c1  \" ><span class=\"nd\">token </span></div><div class=\"children hor wrap \"><div class=\"contnr c0 trm   \" ><div class=\"lbl c0 trm \" ><span class=\"txtu\">kunnen </span></div></div></div></div><div class=\"contnr c1    \" ><div class=\"lbl c1  \" ><span class=\"nd\">token </span></div><div class=\"children hor wrap \"><div class=\"contnr c0 trm   \" ><div class=\"lbl c0 trm \" ><span class=\"txtu\">we </span></div></div></div></div><div class=\"contnr c1    \" ><div class=\"lbl c1  \" ><span class=\"nd\">token </span></div><div class=\"children hor wrap \"><div class=\"contnr c0 trm   \" ><div class=\"lbl c0 trm \" ><span class=\"txtu\">een </span></div></div></div></div><div class=\"contnr c1    \" ><div class=\"lbl c1  \" ><span class=\"nd\">token </span></div><div class=\"children hor wrap \"><div class=\"contnr c0 trm   \" ><div class=\"lbl c0 trm \" ><span class=\"txtu\">andere </span></div></div></div></div><div class=\"contnr c1    \" ><div class=\"lbl c1  \" ><span class=\"nd\">token </span></div><div class=\"children hor wrap \"><div class=\"contnr c0 trm   \" ><div class=\"lbl c0 trm \" ><span class=\"txtu\">dan </span></div></div></div></div><div class=\"contnr c1    \" ><div class=\"lbl c1  \" ><span class=\"nd\">token </span></div><div class=\"children hor wrap \"><div class=\"contnr c0 trm   \" ><div class=\"lbl c0 trm \" ><span class=\"txtu\">Donderdagmiddag </span></div></div></div></div><div class=\"contnr c1    \" ><div class=\"lbl c1  \" ><span class=\"nd\">token </span></div><div class=\"children hor wrap \"><div class=\"contnr c0 trm   \" ><div class=\"lbl c0 trm \" ><span class=\"txtu\">afspreken </span></div></div></div></div><div class=\"contnr c1    \" ><div class=\"lbl c1  \" ><span class=\"nd\">token </span></div><div class=\"children hor wrap \"><div class=\"contnr c0 trm   \" ><div class=\"lbl c0 trm \" ><span class=\"txtu\">want </span></div></div></div></div><div class=\"contnr c1    \" ><div class=\"lbl c1  \" ><span class=\"nd\">token </span></div><div class=\"children hor wrap \"><div class=\"contnr c0 trm   \" ><div class=\"lbl c0 trm \" ><span class=\"txtu\">dan </span></div></div></div></div><div class=\"contnr c1    \" ><div class=\"lbl c1  \" ><span class=\"nd\">token </span></div><div class=\"children hor wrap \"><div class=\"contnr c0 trm   \" ><div class=\"lbl c0 trm \" ><span class=\"txtu\">kan </span></div></div></div></div><div class=\"contnr c1    \" ><div class=\"lbl c1  \" ><span class=\"nd\">token </span></div><div class=\"children hor wrap \"><div class=\"contnr c0 trm   \" ><div class=\"lbl c0 trm \" ><span class=\"txtu\">ik </span></div></div></div></div><div class=\"contnr c1    \" ><div class=\"lbl c1  \" ><span class=\"nd\">token </span></div><div class=\"children hor wrap \"><div class=\"contnr c0 trm   \" ><div class=\"lbl c0 trm \" ><span class=\"txtu\">niet </span></div></div></div></div><div class=\"contnr c1    \" ><div class=\"lbl c1  \" ><span class=\"nd\">token </span></div><div class=\"children hor wrap \"><div class=\"contnr c0 trm   \" ><div class=\"lbl c0 trm \" ><span class=\"txtu\">goed</span></div></div></div></div><div class=\"contnr c1    \" ><div class=\"lbl c1  \" ><span class=\"nd\">token </span></div><div class=\"children hor wrap \"><div class=\"contnr c0 trm   \" ><div class=\"lbl c0 trm \" ><span class=\"txtu\">.</span></div></div></div></div></div></div><div class=\"contnr c1    \" ><div class=\"lbl c1  \" ><span class=\"nd\">token </span></div><div class=\"children hor wrap \"><div class=\"contnr c0 trm   \" ><div class=\"lbl c0 trm \" ><span class=\"txtu\"><br></span></div></div></div></div></div></div><div class=\"contnr c2    \" ><div class=\"lbl c2  \" ><span class=\"nd\">closer </span></div><div class=\"children hor wrap \"><div class=\"contnr c2    \" ><div class=\"lbl c2  \" ><span class=\"nd\">sentence </span></div><div class=\"children hor wrap \"><div class=\"contnr c2    \" ><div class=\"lbl c2  \" ><span class=\"nd\">salute </span></div><div class=\"children hor wrap \"><div class=\"contnr c1    \" ><div class=\"lbl c1  \" ><span class=\"nd\">token </span></div><div class=\"children hor wrap \"><div class=\"contnr c0 trm   \" ><div class=\"lbl c0 trm \" ><span class=\"txtu\">Met </span></div></div></div></div><div class=\"contnr c1    \" ><div class=\"lbl c1  \" ><span class=\"nd\">token </span></div><div class=\"children hor wrap \"><div class=\"contnr c0 trm   \" ><div class=\"lbl c0 trm \" ><span class=\"txtu\">vele </span></div></div></div></div><div class=\"contnr c1    \" ><div class=\"lbl c1  \" ><span class=\"nd\">token </span></div><div class=\"children hor wrap \"><div class=\"contnr c0 trm   \" ><div class=\"lbl c0 trm \" ><span class=\"txtu\">beste </span></div></div></div></div><div class=\"contnr c1    \" ><div class=\"lbl c1  \" ><span class=\"nd\">token </span></div><div class=\"children hor wrap \"><div class=\"contnr c0 trm   \" ><div class=\"lbl c0 trm \" ><span class=\"txtu\">groeten </span></div></div></div></div></div></div><div class=\"contnr c1    \" ><div class=\"lbl c1  \" ><span class=\"nd\">signed </span></div><div class=\"children hor wrap \"><div class=\"contnr c1    \" ><div class=\"lbl c1  \" ><span class=\"nd\">token </span></div><div class=\"children hor wrap \"><div class=\"contnr c0 trm   \" ><div class=\"lbl c0 trm \" ><span class=\"txtu\">je </span></div></div></div></div><div class=\"contnr c1    \" ><div class=\"lbl c1  \" ><span class=\"nd\">hi </span></div><div class=\"children hor wrap \"><div class=\"contnr c1    \" ><div class=\"lbl c1  \" ><span class=\"nd\">token </span></div><div class=\"children hor wrap \"><div class=\"contnr c0 trm   \" ><div class=\"lbl c0 trm \" ><span class=\"txtu\"><span class=\"r_underline \">Piet</span></span></div></div></div></div><div class=\"contnr c1    \" ><div class=\"lbl c1  \" ><span class=\"nd\">token </span></div><div class=\"children hor wrap \"><div class=\"contnr c0 trm   \" ><div class=\"lbl c0 trm \" ><span class=\"txtu\"><span class=\"r_underline \">.</span></span></div></div></div></div></div></div></div></div></div></div><div class=\"contnr c1    \" ><div class=\"lbl c1  \" ><span class=\"nd\">token </span></div><div class=\"children hor wrap \"><div class=\"contnr c0 trm   \" ><div class=\"lbl c0 trm \" ><span class=\"txtu\"><br></span></div></div></div></div></div></div></div></div></div></div></div></div><div class=\"contnr c2   lno \" ><div class=\"lbl c2  \" ><span class=\"nd\">page </span></div><div class=\"children hor wrap \"><div class=\"contnr c3   lno \" ><div class=\"lbl c3  \" ><span class=\"nd\">chunk </span></div><div class=\"children hor wrap \"><div class=\"contnr c1    \" ><div class=\"lbl c1  \" ><span class=\"nd\">token </span></div><div class=\"children hor wrap \"><div class=\"contnr c0 trm   \" ><div class=\"lbl c0 trm \" ><span class=\"txtu\"><br></span></div></div></div></div></div></div></div></div><div class=\"contnr c2    \" ><div class=\"lbl c2  \" ><span class=\"nd\">div </span></div><div class=\"features\"><span class=\"type xft\" ><span class=\"f\">type=</span>translation</span></div><div class=\"children hor wrap \"><div class=\"contnr c2   rno \" ><div class=\"lbl c2  \" ><span class=\"nd\">page </span></div><div class=\"children hor wrap \"><div class=\"contnr c3   rno \" ><div class=\"lbl c3  \" ><span class=\"nd\">chunk </span></div><div class=\"children hor wrap \"><div class=\"contnr c2   rno \" ><div class=\"lbl c2  \" ><span class=\"nd\">sentence </span></div><div class=\"children hor wrap \"><div class=\"contnr c2    \" ><div class=\"lbl c2  \" ><span class=\"nd\">opener </span></div><div class=\"children hor wrap \"><div class=\"contnr c2    \" ><div class=\"lbl c2  \" ><span class=\"nd\">salute </span></div><div class=\"children hor wrap \"><div class=\"contnr c1    \" ><div class=\"lbl c1  \" ><span class=\"nd\">token </span></div><div class=\"children hor wrap \"><div class=\"contnr c0 trm   \" ><div class=\"lbl c0 trm \" ><span class=\"txtu\">Dear </span></div></div></div></div><div class=\"contnr c1    \" ><div class=\"lbl c1  \" ><span class=\"nd\">token </span></div><div class=\"children hor wrap \"><div class=\"contnr c0 trm   \" ><div class=\"lbl c0 trm \" ><span class=\"txtu\">Zus</span></div></div></div></div><div class=\"contnr c1    \" ><div class=\"lbl c1  \" ><span class=\"nd\">token </span></div><div class=\"children hor wrap \"><div class=\"contnr c0 trm   \" ><div class=\"lbl c0 trm \" ><span class=\"txtu\">,</span></div></div></div></div><div class=\"contnr c1    \" ><div class=\"lbl c1  \" ><span class=\"nd\">token </span></div><div class=\"children hor wrap \"><div class=\"contnr c1    \" ><div class=\"lbl c1  \" ><span class=\"nd\">ptr </span></div><div class=\"children hor wrap \"><div class=\"contnr c0 trm   \" ><div class=\"lbl c0 trm \" ><span class=\"txtu\">​</span></div></div></div></div></div></div></div></div><div class=\"contnr c1    \" ><div class=\"lbl c1  \" ><span class=\"nd\">token </span></div><div class=\"children hor wrap \"><div class=\"contnr c0 trm   \" ><div class=\"lbl c0 trm \" ><span class=\"txtu\"><br></span></div></div></div></div></div></div><div class=\"contnr c1    \" ><div class=\"lbl c1  \" ><span class=\"nd\">token </span></div><div class=\"children hor wrap \"><div class=\"contnr c1    \" ><div class=\"lbl c1  \" ><span class=\"nd\">ptr </span></div><div class=\"children hor wrap \"><div class=\"contnr c0 trm   \" ><div class=\"lbl c0 trm \" ><span class=\"txtu\">​</span></div></div></div></div></div></div></div></div><div class=\"contnr c2    \" ><div class=\"lbl c2  \" ><span class=\"nd\">p </span></div><div class=\"children hor wrap \"><div class=\"contnr c2   lno \" ><div class=\"lbl c2  \" ><span class=\"nd\">sentence </span></div><div class=\"children hor wrap \"><div class=\"contnr c1    \" ><div class=\"lbl c1  \" ><span class=\"nd\">token </span></div><div class=\"children hor wrap \"><div class=\"contnr c0 trm   \" ><div class=\"lbl c0 trm \" ><span class=\"txtu\">If </span></div></div></div></div><div class=\"contnr c1    \" ><div class=\"lbl c1  \" ><span class=\"nd\">token </span></div><div class=\"children hor wrap \"><div class=\"contnr c0 trm   \" ><div class=\"lbl c0 trm \" ><span class=\"txtu\">you </span></div></div></div></div><div class=\"contnr c1    \" ><div class=\"lbl c1  \" ><span class=\"nd\">token </span></div><div class=\"children hor wrap \"><div class=\"contnr c0 trm   \" ><div class=\"lbl c0 trm \" ><span class=\"txtu\">come </span></div></div></div></div><div class=\"contnr c1    \" ><div class=\"lbl c1  \" ><span class=\"nd\">token </span></div><div class=\"children hor wrap \"><div class=\"contnr c0 trm   \" ><div class=\"lbl c0 trm \" ><span class=\"txtu\">to </span></div></div></div></div><div class=\"contnr c1    \" ><div class=\"lbl c1  \" ><span class=\"nd\">token </span></div><div class=\"children hor wrap \"><div class=\"contnr c0 trm   \" ><div class=\"lbl c0 trm \" ><span class=\"txtu\">the </span></div></div></div></div><div class=\"contnr c1    \" ><div class=\"lbl c1  \" ><span class=\"nd\">token </span></div><div class=\"children hor wrap \"><div class=\"contnr c0 trm   \" ><div class=\"lbl c0 trm \" ><span class=\"txtu\">entrance </span></div></div></div></div><div class=\"contnr c1    \" ><div class=\"lbl c1  \" ><span class=\"nd\">token </span></div><div class=\"children hor wrap \"><div class=\"contnr c0 trm   \" ><div class=\"lbl c0 trm \" ><span class=\"txtu\">to </span></div></div></div></div><div class=\"contnr c1    \" ><div class=\"lbl c1  \" ><span class=\"nd\">token </span></div><div class=\"children hor wrap \"><div class=\"contnr c0 trm   \" ><div class=\"lbl c0 trm \" ><span class=\"txtu\">the </span></div></div></div></div><div class=\"contnr c1    \" ><div class=\"lbl c1  \" ><span class=\"nd\">token </span></div><div class=\"children hor wrap \"><div class=\"contnr c0 trm   \" ><div class=\"lbl c0 trm \" ><span class=\"txtu\">small </span></div></div></div></div><div class=\"contnr c1    \" ><div class=\"lbl c1  \" ><span class=\"nd\">token </span></div><div class=\"children hor wrap \"><div class=\"contnr c0 trm   \" ><div class=\"lbl c0 trm \" ><span class=\"txtu\">auditorium </span></div></div></div></div><div class=\"contnr c1    \" ><div class=\"lbl c1  \" ><span class=\"nd\">token </span></div><div class=\"children hor wrap \"><div class=\"contnr c0 trm   \" ><div class=\"lbl c0 trm \" ><span class=\"txtu\">in </span></div></div></div></div><div class=\"contnr c1    \" ><div class=\"lbl c1  \" ><span class=\"nd\">token </span></div><div class=\"children hor wrap \"><div class=\"contnr c0 trm   \" ><div class=\"lbl c0 trm \" ><span class=\"txtu\">the </span></div></div></div></div><div class=\"contnr c1    \" ><div class=\"lbl c1  \" ><span class=\"nd\">token </span></div><div class=\"children hor wrap \"><div class=\"contnr c0 trm   \" ><div class=\"lbl c0 trm \" ><span class=\"txtu\">Concertgebouw </span></div></div></div></div><div class=\"contnr c1    \" ><div class=\"lbl c1  \" ><span class=\"nd\">token </span></div><div class=\"children hor wrap \"><div class=\"contnr c0 trm   \" ><div class=\"lbl c0 trm \" ><span class=\"txtu\">at </span></div></div></div></div><div class=\"contnr c1    \" ><div class=\"lbl c1  \" ><span class=\"nd\">token </span></div><div class=\"children hor wrap \"><div class=\"contnr c0 trm   \" ><div class=\"lbl c0 trm \" ><span class=\"txtu\">a </span></div></div></div></div><div class=\"contnr c1    \" ><div class=\"lbl c1  \" ><span class=\"nd\">token </span></div><div class=\"children hor wrap \"><div class=\"contnr c0 trm   \" ><div class=\"lbl c0 trm \" ><span class=\"txtu\">quarter </span></div></div></div></div><div class=\"contnr c1    \" ><div class=\"lbl c1  \" ><span class=\"nd\">token </span></div><div class=\"children hor wrap \"><div class=\"contnr c0 trm   \" ><div class=\"lbl c0 trm \" ><span class=\"txtu\">to </span></div></div></div></div><div class=\"contnr c1    \" ><div class=\"lbl c1  \" ><span class=\"nd\">token </span></div><div class=\"children hor wrap \"><div class=\"contnr c0 trm   \" ><div class=\"lbl c0 trm \" ><span class=\"txtu\">eight </span></div></div></div></div><div class=\"contnr c1    \" ><div class=\"lbl c1  \" ><span class=\"nd\">token </span></div><div class=\"children hor wrap \"><div class=\"contnr c0 trm   \" ><div class=\"lbl c0 trm \" ><span class=\"txtu\">tomorrow </span></div></div></div></div><div class=\"contnr c1    \" ><div class=\"lbl c1  \" ><span class=\"nd\">token </span></div><div class=\"children hor wrap \"><div class=\"contnr c0 trm   \" ><div class=\"lbl c0 trm \" ><span class=\"txtu\">(</span></div></div></div></div><div class=\"contnr c1    \" ><div class=\"lbl c1  \" ><span class=\"nd\">token </span></div><div class=\"children hor wrap \"><div class=\"contnr c0 trm   \" ><div class=\"lbl c0 trm \" ><span class=\"txtu\">Wednesday</span></div></div></div></div><div class=\"contnr c1    \" ><div class=\"lbl c1  \" ><span class=\"nd\">token </span></div><div class=\"children hor wrap \"><div class=\"contnr c0 trm   \" ><div class=\"lbl c0 trm \" ><span class=\"txtu\">) </span></div></div></div></div><div class=\"contnr c1    \" ><div class=\"lbl c1  \" ><span class=\"nd\">token </span></div><div class=\"children hor wrap \"><div class=\"contnr c0 trm   \" ><div class=\"lbl c0 trm \" ><span class=\"txtu\">evening</span></div></div></div></div><div class=\"contnr c1    \" ><div class=\"lbl c1  \" ><span class=\"nd\">token </span></div><div class=\"children hor wrap \"><div class=\"contnr c0 trm   \" ><div class=\"lbl c0 trm \" ><span class=\"txtu\">, </span></div></div></div></div><div class=\"contnr c1    \" ><div class=\"lbl c1  \" ><span class=\"nd\">token </span></div><div class=\"children hor wrap \"><div class=\"contnr c0 trm   \" ><div class=\"lbl c0 trm \" ><span class=\"txtu\">I </span></div></div></div></div><div class=\"contnr c1    \" ><div class=\"lbl c1  \" ><span class=\"nd\">token </span></div><div class=\"children hor wrap \"><div class=\"contnr c0 trm   \" ><div class=\"lbl c0 trm \" ><span class=\"txtu\">have </span></div></div></div></div><div class=\"contnr c1    \" ><div class=\"lbl c1  \" ><span class=\"nd\">token </span></div><div class=\"children hor wrap \"><div class=\"contnr c0 trm   \" ><div class=\"lbl c0 trm \" ><span class=\"txtu\">a </span></div></div></div></div><div class=\"contnr c1    \" ><div class=\"lbl c1  \" ><span class=\"nd\">token </span></div><div class=\"children hor wrap \"><div class=\"contnr c0 trm   \" ><div class=\"lbl c0 trm \" ><span class=\"txtu\">ticket </span></div></div></div></div><div class=\"contnr c1    \" ><div class=\"lbl c1  \" ><span class=\"nd\">token </span></div><div class=\"children hor wrap \"><div class=\"contnr c0 trm   \" ><div class=\"lbl c0 trm \" ><span class=\"txtu\">for </span></div></div></div></div><div class=\"contnr c1    \" ><div class=\"lbl c1  \" ><span class=\"nd\">token </span></div><div class=\"children hor wrap \"><div class=\"contnr c0 trm   \" ><div class=\"lbl c0 trm \" ><span class=\"txtu\">van </span></div></div></div></div><div class=\"contnr c1    \" ><div class=\"lbl c1  \" ><span class=\"nd\">rs </span></div><div class=\"features\"><span class=\"type \" ><span class=\"f\">type=</span>person</span><span class=\"ref xft\" ><span class=\"f\">ref=</span>bio.xml#buhlig_richard</span></div><div class=\"children hor wrap \"><div class=\"contnr c1    \" ><div class=\"lbl c1  \" ><span class=\"nd\">token </span></div><div class=\"children hor wrap \"><div class=\"contnr c0 trm   \" ><div class=\"lbl c0 trm \" ><span class=\"txtu\">Buhlig </span></div></div></div></div></div></div><div class=\"contnr c1    \" ><div class=\"lbl c1  \" ><span class=\"nd\">token </span></div><div class=\"children hor wrap \"><div class=\"contnr c0 trm   \" ><div class=\"lbl c0 trm \" ><span class=\"txtu\">for </span></div></div></div></div><div class=\"contnr c1    \" ><div class=\"lbl c1  \" ><span class=\"nd\">token </span></div><div class=\"children hor wrap \"><div class=\"contnr c0 trm   \" ><div class=\"lbl c0 trm \" ><span class=\"txtu\">you</span></div></div></div></div><div class=\"contnr c1    \" ><div class=\"lbl c1  \" ><span class=\"nd\">token </span></div><div class=\"children hor wrap \"><div class=\"contnr c0 trm   \" ><div class=\"lbl c0 trm \" ><span class=\"txtu\">.</span></div></div></div></div><div class=\"contnr c1    \" ><div class=\"lbl c1  \" ><span class=\"nd\">token </span></div><div class=\"children hor wrap \"><div class=\"contnr c1    \" ><div class=\"lbl c1  \" ><span class=\"nd\">ptr </span></div><div class=\"children hor wrap \"><div class=\"contnr c0 trm   \" ><div class=\"lbl c0 trm \" ><span class=\"txtu\">​ </span></div></div></div></div></div></div><div class=\"contnr c1    \" ><div class=\"lbl c1  \" ><span class=\"nd\">token </span></div><div class=\"children hor wrap \"><div class=\"contnr c0 trm   \" ><div class=\"lbl c0 trm \" ><span class=\"txtu\">And </span></div></div></div></div><div class=\"contnr c1    \" ><div class=\"lbl c1  \" ><span class=\"nd\">token </span></div><div class=\"children hor wrap \"><div class=\"contnr c0 trm   \" ><div class=\"lbl c0 trm \" ><span class=\"txtu\">then </span></div></div></div></div><div class=\"contnr c1    \" ><div class=\"lbl c1  \" ><span class=\"nd\">token </span></div><div class=\"children hor wrap \"><div class=\"contnr c0 trm   \" ><div class=\"lbl c0 trm \" ><span class=\"txtu\">we </span></div></div></div></div><div class=\"contnr c1    \" ><div class=\"lbl c1  \" ><span class=\"nd\">token </span></div><div class=\"children hor wrap \"><div class=\"contnr c0 trm   \" ><div class=\"lbl c0 trm \" ><span class=\"txtu\">can </span></div></div></div></div><div class=\"contnr c1    \" ><div class=\"lbl c1  \" ><span class=\"nd\">token </span></div><div class=\"children hor wrap \"><div class=\"contnr c0 trm   \" ><div class=\"lbl c0 trm \" ><span class=\"txtu\">arrange </span></div></div></div></div><div class=\"contnr c1    \" ><div class=\"lbl c1  \" ><span class=\"nd\">token </span></div><div class=\"children hor wrap \"><div class=\"contnr c0 trm   \" ><div class=\"lbl c0 trm \" ><span class=\"txtu\">a </span></div></div></div></div><div class=\"contnr c1    \" ><div class=\"lbl c1  \" ><span class=\"nd\">token </span></div><div class=\"children hor wrap \"><div class=\"contnr c0 trm   \" ><div class=\"lbl c0 trm \" ><span class=\"txtu\">time </span></div></div></div></div><div class=\"contnr c1    \" ><div class=\"lbl c1  \" ><span class=\"nd\">token </span></div><div class=\"children hor wrap \"><div class=\"contnr c0 trm   \" ><div class=\"lbl c0 trm \" ><span class=\"txtu\">other </span></div></div></div></div><div class=\"contnr c1    \" ><div class=\"lbl c1  \" ><span class=\"nd\">token </span></div><div class=\"children hor wrap \"><div class=\"contnr c0 trm   \" ><div class=\"lbl c0 trm \" ><span class=\"txtu\">than </span></div></div></div></div><div class=\"contnr c1    \" ><div class=\"lbl c1  \" ><span class=\"nd\">token </span></div><div class=\"children hor wrap \"><div class=\"contnr c0 trm   \" ><div class=\"lbl c0 trm \" ><span class=\"txtu\">Thursday </span></div></div></div></div><div class=\"contnr c1    \" ><div class=\"lbl c1  \" ><span class=\"nd\">token </span></div><div class=\"children hor wrap \"><div class=\"contnr c0 trm   \" ><div class=\"lbl c0 trm \" ><span class=\"txtu\">afternoon </span></div></div></div></div><div class=\"contnr c1    \" ><div class=\"lbl c1  \" ><span class=\"nd\">token </span></div><div class=\"children hor wrap \"><div class=\"contnr c0 trm   \" ><div class=\"lbl c0 trm \" ><span class=\"txtu\">because </span></div></div></div></div><div class=\"contnr c1    \" ><div class=\"lbl c1  \" ><span class=\"nd\">token </span></div><div class=\"children hor wrap \"><div class=\"contnr c0 trm   \" ><div class=\"lbl c0 trm \" ><span class=\"txtu\">I </span></div></div></div></div><div class=\"contnr c1    \" ><div class=\"lbl c1  \" ><span class=\"nd\">token </span></div><div class=\"children hor wrap \"><div class=\"contnr c0 trm   \" ><div class=\"lbl c0 trm \" ><span class=\"txtu\">ca</span></div></div></div></div><div class=\"contnr c1    \" ><div class=\"lbl c1  \" ><span class=\"nd\">token </span></div><div class=\"children hor wrap \"><div class=\"contnr c0 trm   \" ><div class=\"lbl c0 trm \" ><span class=\"txtu\">n’t </span></div></div></div></div><div class=\"contnr c1    \" ><div class=\"lbl c1  \" ><span class=\"nd\">token </span></div><div class=\"children hor wrap \"><div class=\"contnr c0 trm   \" ><div class=\"lbl c0 trm \" ><span class=\"txtu\">manage </span></div></div></div></div><div class=\"contnr c1    \" ><div class=\"lbl c1  \" ><span class=\"nd\">token </span></div><div class=\"children hor wrap \"><div class=\"contnr c0 trm   \" ><div class=\"lbl c0 trm \" ><span class=\"txtu\">that</span></div></div></div></div><div class=\"contnr c1    \" ><div class=\"lbl c1  \" ><span class=\"nd\">token </span></div><div class=\"children hor wrap \"><div class=\"contnr c0 trm   \" ><div class=\"lbl c0 trm \" ><span class=\"txtu\">.</span></div></div></div></div></div></div><div class=\"contnr c1    \" ><div class=\"lbl c1  \" ><span class=\"nd\">token </span></div><div class=\"children hor wrap \"><div class=\"contnr c0 trm   \" ><div class=\"lbl c0 trm \" ><span class=\"txtu\"><br></span></div></div></div></div></div></div><div class=\"contnr c2    \" ><div class=\"lbl c2  \" ><span class=\"nd\">closer </span></div><div class=\"children hor wrap \"><div class=\"contnr c2    \" ><div class=\"lbl c2  \" ><span class=\"nd\">sentence </span></div><div class=\"children hor wrap \"><div class=\"contnr c2    \" ><div class=\"lbl c2  \" ><span class=\"nd\">salute </span></div><div class=\"children hor wrap \"><div class=\"contnr c1    \" ><div class=\"lbl c1  \" ><span class=\"nd\">token </span></div><div class=\"children hor wrap \"><div class=\"contnr c0 trm   \" ><div class=\"lbl c0 trm \" ><span class=\"txtu\">With </span></div></div></div></div><div class=\"contnr c1    \" ><div class=\"lbl c1  \" ><span class=\"nd\">token </span></div><div class=\"children hor wrap \"><div class=\"contnr c0 trm   \" ><div class=\"lbl c0 trm \" ><span class=\"txtu\">my </span></div></div></div></div><div class=\"contnr c1    \" ><div class=\"lbl c1  \" ><span class=\"nd\">token </span></div><div class=\"children hor wrap \"><div class=\"contnr c0 trm   \" ><div class=\"lbl c0 trm \" ><span class=\"txtu\">very </span></div></div></div></div><div class=\"contnr c1    \" ><div class=\"lbl c1  \" ><span class=\"nd\">token </span></div><div class=\"children hor wrap \"><div class=\"contnr c0 trm   \" ><div class=\"lbl c0 trm \" ><span class=\"txtu\">best </span></div></div></div></div><div class=\"contnr c1    \" ><div class=\"lbl c1  \" ><span class=\"nd\">token </span></div><div class=\"children hor wrap \"><div class=\"contnr c0 trm   \" ><div class=\"lbl c0 trm \" ><span class=\"txtu\">wishes</span></div></div></div></div><div class=\"contnr c1    \" ><div class=\"lbl c1  \" ><span class=\"nd\">token </span></div><div class=\"children hor wrap \"><div class=\"contnr c0 trm   \" ><div class=\"lbl c0 trm \" ><span class=\"txtu\">, </span></div></div></div></div></div></div><div class=\"contnr c1    \" ><div class=\"lbl c1  \" ><span class=\"nd\">signed </span></div><div class=\"children hor wrap \"><div class=\"contnr c1    \" ><div class=\"lbl c1  \" ><span class=\"nd\">token </span></div><div class=\"children hor wrap \"><div class=\"contnr c0 trm   \" ><div class=\"lbl c0 trm \" ><span class=\"txtu\">your </span></div></div></div></div><div class=\"contnr c1    \" ><div class=\"lbl c1  \" ><span class=\"nd\">hi </span></div><div class=\"children hor wrap \"><div class=\"contnr c1    \" ><div class=\"lbl c1  \" ><span class=\"nd\">token </span></div><div class=\"children hor wrap \"><div class=\"contnr c0 trm   \" ><div class=\"lbl c0 trm \" ><span class=\"txtu\"><span class=\"r_underline \">Piet</span></span></div></div></div></div><div class=\"contnr c1    \" ><div class=\"lbl c1  \" ><span class=\"nd\">token </span></div><div class=\"children hor wrap \"><div class=\"contnr c0 trm   \" ><div class=\"lbl c0 trm \" ><span class=\"txtu\"><span class=\"r_underline \">.</span></span></div></div></div></div></div></div></div></div></div></div><div class=\"contnr c1    \" ><div class=\"lbl c1  \" ><span class=\"nd\">token </span></div><div class=\"children hor wrap \"><div class=\"contnr c0 trm   \" ><div class=\"lbl c0 trm \" ><span class=\"txtu\"><br></span></div></div></div></div></div></div></div></div></div></div></div></div><div class=\"contnr c2   lno \" ><div class=\"lbl c2  \" ><span class=\"nd\">page </span></div><div class=\"children hor wrap \"><div class=\"contnr c3   lno \" ><div class=\"lbl c3  \" ><span class=\"nd\">chunk </span></div><div class=\"children hor wrap \"><div class=\"contnr c1    \" ><div class=\"lbl c1  \" ><span class=\"nd\">token </span></div><div class=\"children hor wrap \"><div class=\"contnr c0 trm   \" ><div class=\"lbl c0 trm \" ><span class=\"txtu\"><br></span></div></div></div></div></div></div></div></div></div></div></div></div><div class=\"contnr c2    \" ><div class=\"lbl c2  \" ><span class=\"nd\">standOff </span></div><div class=\"children hor wrap \"><div class=\"contnr c2    \" ><div class=\"lbl c2  \" ><span class=\"nd\">listAnnotation </span></div><div class=\"features\"><span class=\"type xft\" ><span class=\"f\">type=</span>typednotes</span></div><div class=\"children hor wrap \"><div class=\"contnr c3   rno \" ><div class=\"lbl c3  \" ><span class=\"nd\">chunk </span></div><div class=\"children hor wrap \"><div class=\"contnr c2    \" ><div class=\"lbl c2  \" ><span class=\"nd\">note </span></div><div class=\"features\"><span class=\"type xft\" ><span class=\"f\">type=</span>transcrSource_NL</span></div><div class=\"children hor wrap \"><div class=\"contnr c2    \" ><div class=\"lbl c2  \" ><span class=\"nd\">sentence </span></div><div class=\"children hor wrap \"><div class=\"contnr c1    \" ><div class=\"lbl c1  \" ><span class=\"nd\">token </span></div><div class=\"children hor wrap \"><div class=\"contnr c0 trm   \" ><div class=\"lbl c0 trm \" ><span class=\"txtu\"><span class=\" is_note\">Manuscript</span></span></div></div></div></div><div class=\"contnr c1    \" ><div class=\"lbl c1  \" ><span class=\"nd\">token </span></div><div class=\"children hor wrap \"><div class=\"contnr c0 trm   \" ><div class=\"lbl c0 trm \" ><span class=\"txtu\"><span class=\" is_note\">.</span></span></div></div></div></div></div></div><div class=\"contnr c1    \" ><div class=\"lbl c1  \" ><span class=\"nd\">token </span></div><div class=\"children hor wrap \"><div class=\"contnr c0 trm   \" ><div class=\"lbl c0 trm \" ><span class=\"txtu\"><span class=\" is_note\"><br></span></span></div></div></div></div></div></div><div class=\"contnr c2    \" ><div class=\"lbl c2  \" ><span class=\"nd\">note </span></div><div class=\"features\"><span class=\"type xft\" ><span class=\"f\">type=</span>dating_NL</span></div><div class=\"children hor wrap \"><div class=\"contnr c2    \" ><div class=\"lbl c2  \" ><span class=\"nd\">sentence </span></div><div class=\"children hor wrap \"><div class=\"contnr c1    \" ><div class=\"lbl c1  \" ><span class=\"nd\">token </span></div><div class=\"children hor wrap \"><div class=\"contnr c0 trm   \" ><div class=\"lbl c0 trm \" ><span class=\"txtu\"><span class=\" is_note\">De </span></span></div></div></div></div><div class=\"contnr c1    \" ><div class=\"lbl c1  \" ><span class=\"nd\">token </span></div><div class=\"children hor wrap \"><div class=\"contnr c0 trm   \" ><div class=\"lbl c0 trm \" ><span class=\"txtu\"><span class=\" is_note\">brief </span></span></div></div></div></div><div class=\"contnr c1    \" ><div class=\"lbl c1  \" ><span class=\"nd\">token </span></div><div class=\"children hor wrap \"><div class=\"contnr c0 trm   \" ><div class=\"lbl c0 trm \" ><span class=\"txtu\"><span class=\" is_note\">is </span></span></div></div></div></div><div class=\"contnr c1    \" ><div class=\"lbl c1  \" ><span class=\"nd\">token </span></div><div class=\"children hor wrap \"><div class=\"contnr c0 trm   \" ><div class=\"lbl c0 trm \" ><span class=\"txtu\"><span class=\" is_note\">geschreven </span></span></div></div></div></div><div class=\"contnr c1    \" ><div class=\"lbl c1  \" ><span class=\"nd\">token </span></div><div class=\"children hor wrap \"><div class=\"contnr c0 trm   \" ><div class=\"lbl c0 trm \" ><span class=\"txtu\"><span class=\" is_note\">op </span></span></div></div></div></div><div class=\"contnr c1    \" ><div class=\"lbl c1  \" ><span class=\"nd\">token </span></div><div class=\"children hor wrap \"><div class=\"contnr c0 trm   \" ><div class=\"lbl c0 trm \" ><span class=\"txtu\"><span class=\" is_note\">een </span></span></div></div></div></div><div class=\"contnr c1    \" ><div class=\"lbl c1  \" ><span class=\"nd\">token </span></div><div class=\"children hor wrap \"><div class=\"contnr c0 trm   \" ><div class=\"lbl c0 trm \" ><span class=\"txtu\"><span class=\" is_note\">dinsdag </span></span></div></div></div></div><div class=\"contnr c1    \" ><div class=\"lbl c1  \" ><span class=\"nd\">token </span></div><div class=\"children hor wrap \"><div class=\"contnr c0 trm   \" ><div class=\"lbl c0 trm \" ><span class=\"txtu\"><span class=\" is_note\">voorafgaand </span></span></div></div></div></div><div class=\"contnr c1    \" ><div class=\"lbl c1  \" ><span class=\"nd\">token </span></div><div class=\"children hor wrap \"><div class=\"contnr c0 trm   \" ><div class=\"lbl c0 trm \" ><span class=\"txtu\"><span class=\" is_note\">aan </span></span></div></div></div></div><div class=\"contnr c1    \" ><div class=\"lbl c1  \" ><span class=\"nd\">token </span></div><div class=\"children hor wrap \"><div class=\"contnr c0 trm   \" ><div class=\"lbl c0 trm \" ><span class=\"txtu\"><span class=\" is_note\">een </span></span></div></div></div></div><div class=\"contnr c1    \" ><div class=\"lbl c1  \" ><span class=\"nd\">token </span></div><div class=\"children hor wrap \"><div class=\"contnr c0 trm   \" ><div class=\"lbl c0 trm \" ><span class=\"txtu\"><span class=\" is_note\">van </span></span></div></div></div></div><div class=\"contnr c1    \" ><div class=\"lbl c1  \" ><span class=\"nd\">token </span></div><div class=\"children hor wrap \"><div class=\"contnr c0 trm   \" ><div class=\"lbl c0 trm \" ><span class=\"txtu\"><span class=\" is_note\">de </span></span></div></div></div></div><div class=\"contnr c1    \" ><div class=\"lbl c1  \" ><span class=\"nd\">token </span></div><div class=\"children hor wrap \"><div class=\"contnr c0 trm   \" ><div class=\"lbl c0 trm \" ><span class=\"txtu\"><span class=\" is_note\">drie </span></span></div></div></div></div><div class=\"contnr c1    \" ><div class=\"lbl c1  \" ><span class=\"nd\">token </span></div><div class=\"children hor wrap \"><div class=\"contnr c0 trm   \" ><div class=\"lbl c0 trm \" ><span class=\"txtu\"><span class=\" is_note\">woensdagen </span></span></div></div></div></div><div class=\"contnr c1    \" ><div class=\"lbl c1  \" ><span class=\"nd\">token </span></div><div class=\"children hor wrap \"><div class=\"contnr c0 trm   \" ><div class=\"lbl c0 trm \" ><span class=\"txtu\"><span class=\" is_note\">waarop </span></span></div></div></div></div><div class=\"contnr c1    \" ><div class=\"lbl c1  \" ><span class=\"nd\">rs </span></div><div class=\"features\"><span class=\"type \" ><span class=\"f\">type=</span>person</span><span class=\"ref xft\" ><span class=\"f\">ref=</span>bio.xml#buhlig_richard</span></div><div class=\"children hor wrap \"><div class=\"contnr c1    \" ><div class=\"lbl c1  \" ><span class=\"nd\">token </span></div><div class=\"children hor wrap \"><div class=\"contnr c0 trm   \" ><div class=\"lbl c0 trm \" ><span class=\"txtu\"><span class=\" is_note\">Richard </span></span></div></div></div></div><div class=\"contnr c1    \" ><div class=\"lbl c1  \" ><span class=\"nd\">token </span></div><div class=\"children hor wrap \"><div class=\"contnr c0 trm   \" ><div class=\"lbl c0 trm \" ><span class=\"txtu\"><span class=\" is_note\">Buhlig</span></span></div></div></div></div></div></div></div></div><div class=\"contnr c1    \" ><div class=\"lbl c1  \" ><span class=\"nd\">token </span></div><div class=\"children hor wrap \"><div class=\"contnr c0 trm   \" ><div class=\"lbl c0 trm \" ><span class=\"txtu\"><span class=\" is_note\"> </span></span></div></div></div></div><div class=\"contnr c2    \" ><div class=\"lbl c2  \" ><span class=\"nd\">sentence </span></div><div class=\"children hor wrap \"><div class=\"contnr c1    \" ><div class=\"lbl c1  \" ><span class=\"nd\">token </span></div><div class=\"children hor wrap \"><div class=\"contnr c0 trm   \" ><div class=\"lbl c0 trm \" ><span class=\"txtu\"><span class=\" is_note\">in </span></span></div></div></div></div><div class=\"contnr c1    \" ><div class=\"lbl c1  \" ><span class=\"nd\">token </span></div><div class=\"children hor wrap \"><div class=\"contnr c0 trm   \" ><div class=\"lbl c0 trm \" ><span class=\"txtu\"><span class=\" is_note\">1909 </span></span></div></div></div></div><div class=\"contnr c1    \" ><div class=\"lbl c1  \" ><span class=\"nd\">token </span></div><div class=\"children hor wrap \"><div class=\"contnr c0 trm   \" ><div class=\"lbl c0 trm \" ><span class=\"txtu\"><span class=\" is_note\">in </span></span></div></div></div></div><div class=\"contnr c1    \" ><div class=\"lbl c1  \" ><span class=\"nd\">token </span></div><div class=\"children hor wrap \"><div class=\"contnr c0 trm   \" ><div class=\"lbl c0 trm \" ><span class=\"txtu\"><span class=\" is_note\">de </span></span></div></div></div></div><div class=\"contnr c1    \" ><div class=\"lbl c1  \" ><span class=\"nd\">token </span></div><div class=\"children hor wrap \"><div class=\"contnr c0 trm   \" ><div class=\"lbl c0 trm \" ><span class=\"txtu\"><span class=\" is_note\">kleine </span></span></div></div></div></div><div class=\"contnr c1    \" ><div class=\"lbl c1  \" ><span class=\"nd\">token </span></div><div class=\"children hor wrap \"><div class=\"contnr c0 trm   \" ><div class=\"lbl c0 trm \" ><span class=\"txtu\"><span class=\" is_note\">zaal </span></span></div></div></div></div><div class=\"contnr c1    \" ><div class=\"lbl c1  \" ><span class=\"nd\">token </span></div><div class=\"children hor wrap \"><div class=\"contnr c0 trm   \" ><div class=\"lbl c0 trm \" ><span class=\"txtu\"><span class=\" is_note\">van </span></span></div></div></div></div><div class=\"contnr c1    \" ><div class=\"lbl c1  \" ><span class=\"nd\">token </span></div><div class=\"children hor wrap \"><div class=\"contnr c0 trm   \" ><div class=\"lbl c0 trm \" ><span class=\"txtu\"><span class=\" is_note\">het </span></span></div></div></div></div><div class=\"contnr c1    \" ><div class=\"lbl c1  \" ><span class=\"nd\">token </span></div><div class=\"children hor wrap \"><div class=\"contnr c0 trm   \" ><div class=\"lbl c0 trm \" ><span class=\"txtu\"><span class=\" is_note\">Concertgebouw </span></span></div></div></div></div><div class=\"contnr c1    \" ><div class=\"lbl c1  \" ><span class=\"nd\">token </span></div><div class=\"children hor wrap \"><div class=\"contnr c0 trm   \" ><div class=\"lbl c0 trm \" ><span class=\"txtu\"><span class=\" is_note\">een </span></span></div></div></div></div><div class=\"contnr c1    \" ><div class=\"lbl c1  \" ><span class=\"nd\">token </span></div><div class=\"children hor wrap \"><div class=\"contnr c0 trm   \" ><div class=\"lbl c0 trm \" ><span class=\"txtu\"><span class=\" is_note\">concert </span></span></div></div></div></div><div class=\"contnr c1    \" ><div class=\"lbl c1  \" ><span class=\"nd\">token </span></div><div class=\"children hor wrap \"><div class=\"contnr c0 trm   \" ><div class=\"lbl c0 trm \" ><span class=\"txtu\"><span class=\" is_note\">zou </span></span></div></div></div></div><div class=\"contnr c1    \" ><div class=\"lbl c1  \" ><span class=\"nd\">token </span></div><div class=\"children hor wrap \"><div class=\"contnr c0 trm   \" ><div class=\"lbl c0 trm \" ><span class=\"txtu\"><span class=\" is_note\">geven</span></span></div></div></div></div><div class=\"contnr c1    \" ><div class=\"lbl c1  \" ><span class=\"nd\">token </span></div><div class=\"children hor wrap \"><div class=\"contnr c0 trm   \" ><div class=\"lbl c0 trm \" ><span class=\"txtu\"><span class=\" is_note\">: </span></span></div></div></div></div><div class=\"contnr c1    \" ><div class=\"lbl c1  \" ><span class=\"nd\">token </span></div><div class=\"children hor wrap \"><div class=\"contnr c0 trm   \" ><div class=\"lbl c0 trm \" ><span class=\"txtu\"><span class=\" is_note\">17 </span></span></div></div></div></div><div class=\"contnr c1    \" ><div class=\"lbl c1  \" ><span class=\"nd\">token </span></div><div class=\"children hor wrap \"><div class=\"contnr c0 trm   \" ><div class=\"lbl c0 trm \" ><span class=\"txtu\"><span class=\" is_note\">februari</span></span></div></div></div></div><div class=\"contnr c1    \" ><div class=\"lbl c1  \" ><span class=\"nd\">token </span></div><div class=\"children hor wrap \"><div class=\"contnr c0 trm   \" ><div class=\"lbl c0 trm \" ><span class=\"txtu\"><span class=\" is_note\">, </span></span></div></div></div></div><div class=\"contnr c1    \" ><div class=\"lbl c1  \" ><span class=\"nd\">token </span></div><div class=\"children hor wrap \"><div class=\"contnr c0 trm   \" ><div class=\"lbl c0 trm \" ><span class=\"txtu\"><span class=\" is_note\">3 </span></span></div></div></div></div><div class=\"contnr c1    \" ><div class=\"lbl c1  \" ><span class=\"nd\">token </span></div><div class=\"children hor wrap \"><div class=\"contnr c0 trm   \" ><div class=\"lbl c0 trm \" ><span class=\"txtu\"><span class=\" is_note\">maart </span></span></div></div></div></div><div class=\"contnr c1    \" ><div class=\"lbl c1  \" ><span class=\"nd\">token </span></div><div class=\"children hor wrap \"><div class=\"contnr c0 trm   \" ><div class=\"lbl c0 trm \" ><span class=\"txtu\"><span class=\" is_note\">en </span></span></div></div></div></div><div class=\"contnr c1    \" ><div class=\"lbl c1  \" ><span class=\"nd\">token </span></div><div class=\"children hor wrap \"><div class=\"contnr c0 trm   \" ><div class=\"lbl c0 trm \" ><span class=\"txtu\"><span class=\" is_note\">10 </span></span></div></div></div></div><div class=\"contnr c1    \" ><div class=\"lbl c1  \" ><span class=\"nd\">token </span></div><div class=\"children hor wrap \"><div class=\"contnr c0 trm   \" ><div class=\"lbl c0 trm \" ><span class=\"txtu\"><span class=\" is_note\">maart</span></span></div></div></div></div><div class=\"contnr c1    \" ><div class=\"lbl c1  \" ><span class=\"nd\">token </span></div><div class=\"children hor wrap \"><div class=\"contnr c0 trm   \" ><div class=\"lbl c0 trm \" ><span class=\"txtu\"><span class=\" is_note\">. </span></span></div></div></div></div></div></div><div class=\"contnr c2    \" ><div class=\"lbl c2  \" ><span class=\"nd\">sentence </span></div><div class=\"children hor wrap \"><div class=\"contnr c1    \" ><div class=\"lbl c1  \" ><span class=\"nd\">token </span></div><div class=\"children hor wrap \"><div class=\"contnr c0 trm   \" ><div class=\"lbl c0 trm \" ><span class=\"txtu\"><span class=\" is_note\">Zie </span></span></div></div></div></div><div class=\"contnr c1    \" ><div class=\"lbl c1  \" ><span class=\"nd\">token </span></div><div class=\"children hor wrap \"><div class=\"contnr c0 trm   \" ><div class=\"lbl c0 trm \" ><span class=\"txtu\"><span class=\" is_note\">tevens </span></span></div></div></div></div><div class=\"contnr c1    \" ><div class=\"lbl c1  \" ><span class=\"nd\">ref </span></div><div class=\"children hor wrap \"><div class=\"contnr c1    \" ><div class=\"lbl c1  \" ><span class=\"nd\">token </span></div><div class=\"children hor wrap \"><div class=\"contnr c0 trm   \" ><div class=\"lbl c0 trm \" ><span class=\"txtu\"><span class=\" is_note\">n. </span></span></div></div></div></div><div class=\"contnr c1    \" ><div class=\"lbl c1  \" ><span class=\"nd\">token </span></div><div class=\"children hor wrap \"><div class=\"contnr c0 trm   \" ><div class=\"lbl c0 trm \" ><span class=\"txtu\"><span class=\" is_note\">\"</span></span></div></div></div></div><div class=\"contnr c1    \" ><div class=\"lbl c1  \" ><span class=\"nd\">token </span></div><div class=\"children hor wrap \"><div class=\"contnr c0 trm   \" ><div class=\"lbl c0 trm \" ><span class=\"txtu\"><span class=\" is_note\">plaatsBuhlig</span></span></div></div></div></div><div class=\"contnr c1    \" ><div class=\"lbl c1  \" ><span class=\"nd\">token </span></div><div class=\"children hor wrap \"><div class=\"contnr c0 trm   \" ><div class=\"lbl c0 trm \" ><span class=\"txtu\"><span class=\" is_note\">\"</span></span></div></div></div></div></div></div><div class=\"contnr c1    \" ><div class=\"lbl c1  \" ><span class=\"nd\">token </span></div><div class=\"children hor wrap \"><div class=\"contnr c0 trm   \" ><div class=\"lbl c0 trm \" ><span class=\"txtu\"><span class=\" is_note\">.</span></span></div></div></div></div></div></div><div class=\"contnr c1    \" ><div class=\"lbl c1  \" ><span class=\"nd\">token </span></div><div class=\"children hor wrap \"><div class=\"contnr c0 trm   \" ><div class=\"lbl c0 trm \" ><span class=\"txtu\"><span class=\" is_note\"><br></span></span></div></div></div></div></div></div></div></div></div></div><div class=\"contnr c2    \" ><div class=\"lbl c2  \" ><span class=\"nd\">listAnnotation </span></div><div class=\"features\"><span class=\"type xft\" ><span class=\"f\">type=</span>ogtnotes</span></div><div class=\"children hor wrap \"><div class=\"contnr c3   lno rno \" ><div class=\"lbl c3  \" ><span class=\"nd\">chunk </span></div><div class=\"children hor wrap \"><div class=\"contnr c2    \" ><div class=\"lbl c2  \" ><span class=\"nd\">note </span></div><div class=\"children hor wrap \"><div class=\"contnr c2    \" ><div class=\"lbl c2  \" ><span class=\"nd\">sentence </span></div><div class=\"children hor wrap \"><div class=\"contnr c1    \" ><div class=\"lbl c1  \" ><span class=\"nd\">token </span></div><div class=\"children hor wrap \"><div class=\"contnr c0 trm   \" ><div class=\"lbl c0 trm \" ><span class=\"txtu\"><span class=\" is_note\">​</span></span></div></div></div></div></div></div></div></div><div class=\"contnr c0 trm   \" ><div class=\"lbl c0 trm \" ><span class=\"txtu\"><br></span></div></div></div></div></div></div><div class=\"contnr c2    \" ><div class=\"lbl c2  \" ><span class=\"nd\">listAnnotation </span></div><div class=\"features\"><span class=\"type xft\" ><span class=\"f\">type=</span>notes</span></div><div class=\"children hor wrap \"><div class=\"contnr c3   lno rno \" ><div class=\"lbl c3  \" ><span class=\"nd\">chunk </span></div><div class=\"children hor wrap \"><div class=\"contnr c2    \" ><div class=\"lbl c2  \" ><span class=\"nd\">note </span></div><div class=\"children hor wrap \"><div class=\"contnr c2    \" ><div class=\"lbl c2  \" ><span class=\"nd\">sentence </span></div><div class=\"children hor wrap \"><div class=\"contnr c1    \" ><div class=\"lbl c1  \" ><span class=\"nd\">rs </span></div><div class=\"features\"><span class=\"type \" ><span class=\"f\">type=</span>person</span><span class=\"ref xft\" ><span class=\"f\">ref=</span>bio.xml#iongh_aletta_de</span></div><div class=\"children hor wrap \"><div class=\"contnr c1    \" ><div class=\"lbl c1  \" ><span class=\"nd\">token </span></div><div class=\"children hor wrap \"><div class=\"contnr c0 trm   \" ><div class=\"lbl c0 trm \" ><span class=\"txtu\"><span class=\" is_note\">Aletta</span></span></div></div></div></div></div></div></div></div><div class=\"contnr c1    \" ><div class=\"lbl c1  \" ><span class=\"nd\">token </span></div><div class=\"children hor wrap \"><div class=\"contnr c0 trm   \" ><div class=\"lbl c0 trm \" ><span class=\"txtu\"><span class=\" is_note\"> </span></span></div></div></div></div><div class=\"contnr c2    \" ><div class=\"lbl c2  \" ><span class=\"nd\">sentence </span></div><div class=\"children hor wrap \"><div class=\"contnr c1    \" ><div class=\"lbl c1  \" ><span class=\"nd\">token </span></div><div class=\"children hor wrap \"><div class=\"contnr c0 trm   \" ><div class=\"lbl c0 trm \" ><span class=\"txtu\"><span class=\" is_note\">werd </span></span></div></div></div></div><div class=\"contnr c1    \" ><div class=\"lbl c1  \" ><span class=\"nd\">token </span></div><div class=\"children hor wrap \"><div class=\"contnr c0 trm   \" ><div class=\"lbl c0 trm \" ><span class=\"txtu\"><span class=\" is_note\">binnen </span></span></div></div></div></div><div class=\"contnr c1    \" ><div class=\"lbl c1  \" ><span class=\"nd\">token </span></div><div class=\"children hor wrap \"><div class=\"contnr c0 trm   \" ><div class=\"lbl c0 trm \" ><span class=\"txtu\"><span class=\" is_note\">haar </span></span></div></div></div></div><div class=\"contnr c1    \" ><div class=\"lbl c1  \" ><span class=\"nd\">token </span></div><div class=\"children hor wrap \"><div class=\"contnr c0 trm   \" ><div class=\"lbl c0 trm \" ><span class=\"txtu\"><span class=\" is_note\">familie </span></span></div></div></div></div><div class=\"contnr c1    \" ><div class=\"lbl c1  \" ><span class=\"nd\">token </span></div><div class=\"children hor wrap \"><div class=\"contnr c0 trm   \" ><div class=\"lbl c0 trm \" ><span class=\"txtu\"><span class=\" is_note\">aangesproken </span></span></div></div></div></div><div class=\"contnr c1    \" ><div class=\"lbl c1  \" ><span class=\"nd\">token </span></div><div class=\"children hor wrap \"><div class=\"contnr c0 trm   \" ><div class=\"lbl c0 trm \" ><span class=\"txtu\"><span class=\" is_note\">met </span></span></div></div></div></div><div class=\"contnr c1    \" ><div class=\"lbl c1  \" ><span class=\"nd\">token </span></div><div class=\"children hor wrap \"><div class=\"contnr c0 trm   \" ><div class=\"lbl c0 trm \" ><span class=\"txtu\"><span class=\" is_note\">de </span></span></div></div></div></div><div class=\"contnr c1    \" ><div class=\"lbl c1  \" ><span class=\"nd\">token </span></div><div class=\"children hor wrap \"><div class=\"contnr c0 trm   \" ><div class=\"lbl c0 trm \" ><span class=\"txtu\"><span class=\" is_note\">koosnaam </span></span></div></div></div></div><div class=\"contnr c1    \" ><div class=\"lbl c1  \" ><span class=\"nd\">token </span></div><div class=\"children hor wrap \"><div class=\"contnr c0 trm   \" ><div class=\"lbl c0 trm \" ><span class=\"txtu\"><span class=\" is_note\">'</span></span></div></div></div></div><div class=\"contnr c1    \" ><div class=\"lbl c1  \" ><span class=\"nd\">token </span></div><div class=\"children hor wrap \"><div class=\"contnr c0 trm   \" ><div class=\"lbl c0 trm \" ><span class=\"txtu\"><span class=\" is_note\">Zus</span></span></div></div></div></div><div class=\"contnr c1    \" ><div class=\"lbl c1  \" ><span class=\"nd\">token </span></div><div class=\"children hor wrap \"><div class=\"contnr c0 trm   \" ><div class=\"lbl c0 trm \" ><span class=\"txtu\"><span class=\" is_note\">' </span></span></div></div></div></div><div class=\"contnr c1    \" ><div class=\"lbl c1  \" ><span class=\"nd\">token </span></div><div class=\"children hor wrap \"><div class=\"contnr c0 trm   \" ><div class=\"lbl c0 trm \" ><span class=\"txtu\"><span class=\" is_note\">(</span></span></div></div></div></div><div class=\"contnr c1    \" ><div class=\"lbl c1  \" ><span class=\"nd\">ref </span></div><div class=\"children hor wrap \"><div class=\"contnr c1    \" ><div class=\"lbl c1  \" ><span class=\"nd\">token </span></div><div class=\"children hor wrap \"><div class=\"contnr c0 trm   \" ><div class=\"lbl c0 trm \" ><span class=\"txtu\"><span class=\" is_note\">Heteren </span></span></div></div></div></div><div class=\"contnr c1    \" ><div class=\"lbl c1  \" ><span class=\"nd\">token </span></div><div class=\"children hor wrap \"><div class=\"contnr c0 trm   \" ><div class=\"lbl c0 trm \" ><span class=\"txtu\"><span class=\" is_note\">2018</span></span></div></div></div></div></div></div><div class=\"contnr c1    \" ><div class=\"lbl c1  \" ><span class=\"nd\">token </span></div><div class=\"children hor wrap \"><div class=\"contnr c0 trm   \" ><div class=\"lbl c0 trm \" ><span class=\"txtu\"><span class=\" is_note\">, </span></span></div></div></div></div><div class=\"contnr c1    \" ><div class=\"lbl c1  \" ><span class=\"nd\">token </span></div><div class=\"children hor wrap \"><div class=\"contnr c0 trm   \" ><div class=\"lbl c0 trm \" ><span class=\"txtu\"><span class=\" is_note\">p. </span></span></div></div></div></div><div class=\"contnr c1    \" ><div class=\"lbl c1  \" ><span class=\"nd\">token </span></div><div class=\"children hor wrap \"><div class=\"contnr c0 trm   \" ><div class=\"lbl c0 trm \" ><span class=\"txtu\"><span class=\" is_note\">25</span></span></div></div></div></div><div class=\"contnr c1    \" ><div class=\"lbl c1  \" ><span class=\"nd\">token </span></div><div class=\"children hor wrap \"><div class=\"contnr c0 trm   \" ><div class=\"lbl c0 trm \" ><span class=\"txtu\"><span class=\" is_note\">) </span></span></div></div></div></div><div class=\"contnr c1    \" ><div class=\"lbl c1  \" ><span class=\"nd\">token </span></div><div class=\"children hor wrap \"><div class=\"contnr c0 trm   \" ><div class=\"lbl c0 trm \" ><span class=\"txtu\"><span class=\" is_note\">Mondriaans </span></span></div></div></div></div><div class=\"contnr c1    \" ><div class=\"lbl c1  \" ><span class=\"nd\">token </span></div><div class=\"children hor wrap \"><div class=\"contnr c0 trm   \" ><div class=\"lbl c0 trm \" ><span class=\"txtu\"><span class=\" is_note\">gebruik </span></span></div></div></div></div><div class=\"contnr c1    \" ><div class=\"lbl c1  \" ><span class=\"nd\">token </span></div><div class=\"children hor wrap \"><div class=\"contnr c0 trm   \" ><div class=\"lbl c0 trm \" ><span class=\"txtu\"><span class=\" is_note\">van </span></span></div></div></div></div><div class=\"contnr c1    \" ><div class=\"lbl c1  \" ><span class=\"nd\">token </span></div><div class=\"children hor wrap \"><div class=\"contnr c0 trm   \" ><div class=\"lbl c0 trm \" ><span class=\"txtu\"><span class=\" is_note\">deze </span></span></div></div></div></div><div class=\"contnr c1    \" ><div class=\"lbl c1  \" ><span class=\"nd\">token </span></div><div class=\"children hor wrap \"><div class=\"contnr c0 trm   \" ><div class=\"lbl c0 trm \" ><span class=\"txtu\"><span class=\" is_note\">naam </span></span></div></div></div></div><div class=\"contnr c1    \" ><div class=\"lbl c1  \" ><span class=\"nd\">token </span></div><div class=\"children hor wrap \"><div class=\"contnr c0 trm   \" ><div class=\"lbl c0 trm \" ><span class=\"txtu\"><span class=\" is_note\">geeft </span></span></div></div></div></div><div class=\"contnr c1    \" ><div class=\"lbl c1  \" ><span class=\"nd\">token </span></div><div class=\"children hor wrap \"><div class=\"contnr c0 trm   \" ><div class=\"lbl c0 trm \" ><span class=\"txtu\"><span class=\" is_note\">aan </span></span></div></div></div></div><div class=\"contnr c1    \" ><div class=\"lbl c1  \" ><span class=\"nd\">token </span></div><div class=\"children hor wrap \"><div class=\"contnr c0 trm   \" ><div class=\"lbl c0 trm \" ><span class=\"txtu\"><span class=\" is_note\">dat </span></span></div></div></div></div><div class=\"contnr c1    \" ><div class=\"lbl c1  \" ><span class=\"nd\">token </span></div><div class=\"children hor wrap \"><div class=\"contnr c0 trm   \" ><div class=\"lbl c0 trm \" ><span class=\"txtu\"><span class=\" is_note\">hij </span></span></div></div></div></div><div class=\"contnr c1    \" ><div class=\"lbl c1  \" ><span class=\"nd\">token </span></div><div class=\"children hor wrap \"><div class=\"contnr c0 trm   \" ><div class=\"lbl c0 trm \" ><span class=\"txtu\"><span class=\" is_note\">op </span></span></div></div></div></div><div class=\"contnr c1    \" ><div class=\"lbl c1  \" ><span class=\"nd\">token </span></div><div class=\"children hor wrap \"><div class=\"contnr c0 trm   \" ><div class=\"lbl c0 trm \" ><span class=\"txtu\"><span class=\" is_note\">intieme </span></span></div></div></div></div><div class=\"contnr c1    \" ><div class=\"lbl c1  \" ><span class=\"nd\">token </span></div><div class=\"children hor wrap \"><div class=\"contnr c0 trm   \" ><div class=\"lbl c0 trm \" ><span class=\"txtu\"><span class=\" is_note\">voet </span></span></div></div></div></div><div class=\"contnr c1    \" ><div class=\"lbl c1  \" ><span class=\"nd\">token </span></div><div class=\"children hor wrap \"><div class=\"contnr c0 trm   \" ><div class=\"lbl c0 trm \" ><span class=\"txtu\"><span class=\" is_note\">stond </span></span></div></div></div></div><div class=\"contnr c1    \" ><div class=\"lbl c1  \" ><span class=\"nd\">token </span></div><div class=\"children hor wrap \"><div class=\"contnr c0 trm   \" ><div class=\"lbl c0 trm \" ><span class=\"txtu\"><span class=\" is_note\">met </span></span></div></div></div></div><div class=\"contnr c1    \" ><div class=\"lbl c1  \" ><span class=\"nd\">token </span></div><div class=\"children hor wrap \"><div class=\"contnr c0 trm   \" ><div class=\"lbl c0 trm \" ><span class=\"txtu\"><span class=\" is_note\">De </span></span></div></div></div></div><div class=\"contnr c1    \" ><div class=\"lbl c1  \" ><span class=\"nd\">token </span></div><div class=\"children hor wrap \"><div class=\"contnr c0 trm   \" ><div class=\"lbl c0 trm \" ><span class=\"txtu\"><span class=\" is_note\">Iongh</span></span></div></div></div></div><div class=\"contnr c1    \" ><div class=\"lbl c1  \" ><span class=\"nd\">token </span></div><div class=\"children hor wrap \"><div class=\"contnr c0 trm   \" ><div class=\"lbl c0 trm \" ><span class=\"txtu\"><span class=\" is_note\">.</span></span></div></div></div></div></div></div><div class=\"contnr c1    \" ><div class=\"lbl c1  \" ><span class=\"nd\">token </span></div><div class=\"children hor wrap \"><div class=\"contnr c0 trm   \" ><div class=\"lbl c0 trm \" ><span class=\"txtu\"><span class=\" is_note\"><br></span></span></div></div></div></div></div></div><div class=\"contnr c2    \" ><div class=\"lbl c2  \" ><span class=\"nd\">note </span></div><div class=\"children hor wrap \"><div class=\"contnr c2    \" ><div class=\"lbl c2  \" ><span class=\"nd\">sentence </span></div><div class=\"children hor wrap \"><div class=\"contnr c1    \" ><div class=\"lbl c1  \" ><span class=\"nd\">token </span></div><div class=\"children hor wrap \"><div class=\"contnr c0 trm   \" ><div class=\"lbl c0 trm \" ><span class=\"txtu\"><span class=\" is_note\">De </span></span></div></div></div></div><div class=\"contnr c1    \" ><div class=\"lbl c1  \" ><span class=\"nd\">token </span></div><div class=\"children hor wrap \"><div class=\"contnr c0 trm   \" ><div class=\"lbl c0 trm \" ><span class=\"txtu\"><span class=\" is_note\">Amerikaanse </span></span></div></div></div></div><div class=\"contnr c1    \" ><div class=\"lbl c1  \" ><span class=\"nd\">token </span></div><div class=\"children hor wrap \"><div class=\"contnr c0 trm   \" ><div class=\"lbl c0 trm \" ><span class=\"txtu\"><span class=\" is_note\">pianist </span></span></div></div></div></div><div class=\"contnr c1    \" ><div class=\"lbl c1  \" ><span class=\"nd\">rs </span></div><div class=\"features\"><span class=\"type \" ><span class=\"f\">type=</span>person</span><span class=\"ref xft\" ><span class=\"f\">ref=</span>bio.xml#buhlig_richard</span></div><div class=\"children hor wrap \"><div class=\"contnr c1    \" ><div class=\"lbl c1  \" ><span class=\"nd\">token </span></div><div class=\"children hor wrap \"><div class=\"contnr c0 trm   \" ><div class=\"lbl c0 trm \" ><span class=\"txtu\"><span class=\" is_note\">Richard </span></span></div></div></div></div><div class=\"contnr c1    \" ><div class=\"lbl c1  \" ><span class=\"nd\">token </span></div><div class=\"children hor wrap \"><div class=\"contnr c0 trm   \" ><div class=\"lbl c0 trm \" ><span class=\"txtu\"><span class=\" is_note\">Moritz </span></span></div></div></div></div><div class=\"contnr c1    \" ><div class=\"lbl c1  \" ><span class=\"nd\">token </span></div><div class=\"children hor wrap \"><div class=\"contnr c0 trm   \" ><div class=\"lbl c0 trm \" ><span class=\"txtu\"><span class=\" is_note\">Buhlig</span></span></div></div></div></div></div></div><div class=\"contnr c1    \" ><div class=\"lbl c1  \" ><span class=\"nd\">token </span></div><div class=\"children hor wrap \"><div class=\"contnr c0 trm   \" ><div class=\"lbl c0 trm \" ><span class=\"txtu\"><span class=\" is_note\"> </span></span></div></div></div></div><div class=\"contnr c1    \" ><div class=\"lbl c1  \" ><span class=\"nd\">token </span></div><div class=\"children hor wrap \"><div class=\"contnr c0 trm   \" ><div class=\"lbl c0 trm \" ><span class=\"txtu\"><span class=\" is_note\">(</span></span></div></div></div></div><div class=\"contnr c1    \" ><div class=\"lbl c1  \" ><span class=\"nd\">token </span></div><div class=\"children hor wrap \"><div class=\"contnr c0 trm   \" ><div class=\"lbl c0 trm \" ><span class=\"txtu\"><span class=\" is_note\">1880</span></span></div></div></div></div><div class=\"contnr c1    \" ><div class=\"lbl c1  \" ><span class=\"nd\">token </span></div><div class=\"children hor wrap \"><div class=\"contnr c0 trm   \" ><div class=\"lbl c0 trm \" ><span class=\"txtu\"><span class=\" is_note\">-</span></span></div></div></div></div><div class=\"contnr c1    \" ><div class=\"lbl c1  \" ><span class=\"nd\">token </span></div><div class=\"children hor wrap \"><div class=\"contnr c0 trm   \" ><div class=\"lbl c0 trm \" ><span class=\"txtu\"><span class=\" is_note\">1952</span></span></div></div></div></div><div class=\"contnr c1    \" ><div class=\"lbl c1  \" ><span class=\"nd\">token </span></div><div class=\"children hor wrap \"><div class=\"contnr c0 trm   \" ><div class=\"lbl c0 trm \" ><span class=\"txtu\"><span class=\" is_note\">) </span></span></div></div></div></div><div class=\"contnr c1    \" ><div class=\"lbl c1  \" ><span class=\"nd\">token </span></div><div class=\"children hor wrap \"><div class=\"contnr c0 trm   \" ><div class=\"lbl c0 trm \" ><span class=\"txtu\"><span class=\" is_note\">gaf </span></span></div></div></div></div><div class=\"contnr c1    \" ><div class=\"lbl c1  \" ><span class=\"nd\">token </span></div><div class=\"children hor wrap \"><div class=\"contnr c0 trm   \" ><div class=\"lbl c0 trm \" ><span class=\"txtu\"><span class=\" is_note\">begin </span></span></div></div></div></div><div class=\"contnr c1    \" ><div class=\"lbl c1  \" ><span class=\"nd\">token </span></div><div class=\"children hor wrap \"><div class=\"contnr c0 trm   \" ><div class=\"lbl c0 trm \" ><span class=\"txtu\"><span class=\" is_note\">1909 </span></span></div></div></div></div><div class=\"contnr c1    \" ><div class=\"lbl c1  \" ><span class=\"nd\">token </span></div><div class=\"children hor wrap \"><div class=\"contnr c0 trm   \" ><div class=\"lbl c0 trm \" ><span class=\"txtu\"><span class=\" is_note\">drie </span></span></div></div></div></div><div class=\"contnr c1    \" ><div class=\"lbl c1  \" ><span class=\"nd\">token </span></div><div class=\"children hor wrap \"><div class=\"contnr c0 trm   \" ><div class=\"lbl c0 trm \" ><span class=\"txtu\"><span class=\" is_note\">concerten </span></span></div></div></div></div><div class=\"contnr c1    \" ><div class=\"lbl c1  \" ><span class=\"nd\">token </span></div><div class=\"children hor wrap \"><div class=\"contnr c0 trm   \" ><div class=\"lbl c0 trm \" ><span class=\"txtu\"><span class=\" is_note\">in </span></span></div></div></div></div><div class=\"contnr c1    \" ><div class=\"lbl c1  \" ><span class=\"nd\">token </span></div><div class=\"children hor wrap \"><div class=\"contnr c0 trm   \" ><div class=\"lbl c0 trm \" ><span class=\"txtu\"><span class=\" is_note\">de </span></span></div></div></div></div><div class=\"contnr c1    \" ><div class=\"lbl c1  \" ><span class=\"nd\">token </span></div><div class=\"children hor wrap \"><div class=\"contnr c0 trm   \" ><div class=\"lbl c0 trm \" ><span class=\"txtu\"><span class=\" is_note\">kleine </span></span></div></div></div></div><div class=\"contnr c1    \" ><div class=\"lbl c1  \" ><span class=\"nd\">token </span></div><div class=\"children hor wrap \"><div class=\"contnr c0 trm   \" ><div class=\"lbl c0 trm \" ><span class=\"txtu\"><span class=\" is_note\">zaal </span></span></div></div></div></div><div class=\"contnr c1    \" ><div class=\"lbl c1  \" ><span class=\"nd\">token </span></div><div class=\"children hor wrap \"><div class=\"contnr c0 trm   \" ><div class=\"lbl c0 trm \" ><span class=\"txtu\"><span class=\" is_note\">van </span></span></div></div></div></div><div class=\"contnr c1    \" ><div class=\"lbl c1  \" ><span class=\"nd\">token </span></div><div class=\"children hor wrap \"><div class=\"contnr c0 trm   \" ><div class=\"lbl c0 trm \" ><span class=\"txtu\"><span class=\" is_note\">het </span></span></div></div></div></div><div class=\"contnr c1    \" ><div class=\"lbl c1  \" ><span class=\"nd\">token </span></div><div class=\"children hor wrap \"><div class=\"contnr c0 trm   \" ><div class=\"lbl c0 trm \" ><span class=\"txtu\"><span class=\" is_note\">Concertgebouw</span></span></div></div></div></div><div class=\"contnr c1    \" ><div class=\"lbl c1  \" ><span class=\"nd\">token </span></div><div class=\"children hor wrap \"><div class=\"contnr c0 trm   \" ><div class=\"lbl c0 trm \" ><span class=\"txtu\"><span class=\" is_note\">, </span></span></div></div></div></div><div class=\"contnr c1    \" ><div class=\"lbl c1  \" ><span class=\"nd\">token </span></div><div class=\"children hor wrap \"><div class=\"contnr c0 trm   \" ><div class=\"lbl c0 trm \" ><span class=\"txtu\"><span class=\" is_note\">op </span></span></div></div></div></div><div class=\"contnr c1    \" ><div class=\"lbl c1  \" ><span class=\"nd\">token </span></div><div class=\"children hor wrap \"><div class=\"contnr c0 trm   \" ><div class=\"lbl c0 trm \" ><span class=\"txtu\"><span class=\" is_note\">woensdag </span></span></div></div></div></div><div class=\"contnr c1    \" ><div class=\"lbl c1  \" ><span class=\"nd\">token </span></div><div class=\"children hor wrap \"><div class=\"contnr c0 trm   \" ><div class=\"lbl c0 trm \" ><span class=\"txtu\"><span class=\" is_note\">17 </span></span></div></div></div></div><div class=\"contnr c1    \" ><div class=\"lbl c1  \" ><span class=\"nd\">token </span></div><div class=\"children hor wrap \"><div class=\"contnr c0 trm   \" ><div class=\"lbl c0 trm \" ><span class=\"txtu\"><span class=\" is_note\">februari</span></span></div></div></div></div><div class=\"contnr c1    \" ><div class=\"lbl c1  \" ><span class=\"nd\">token </span></div><div class=\"children hor wrap \"><div class=\"contnr c0 trm   \" ><div class=\"lbl c0 trm \" ><span class=\"txtu\"><span class=\" is_note\">, </span></span></div></div></div></div><div class=\"contnr c1    \" ><div class=\"lbl c1  \" ><span class=\"nd\">token </span></div><div class=\"children hor wrap \"><div class=\"contnr c0 trm   \" ><div class=\"lbl c0 trm \" ><span class=\"txtu\"><span class=\" is_note\">woensdag </span></span></div></div></div></div><div class=\"contnr c1    \" ><div class=\"lbl c1  \" ><span class=\"nd\">token </span></div><div class=\"children hor wrap \"><div class=\"contnr c0 trm   \" ><div class=\"lbl c0 trm \" ><span class=\"txtu\"><span class=\" is_note\">3 </span></span></div></div></div></div><div class=\"contnr c1    \" ><div class=\"lbl c1  \" ><span class=\"nd\">token </span></div><div class=\"children hor wrap \"><div class=\"contnr c0 trm   \" ><div class=\"lbl c0 trm \" ><span class=\"txtu\"><span class=\" is_note\">maart </span></span></div></div></div></div><div class=\"contnr c1    \" ><div class=\"lbl c1  \" ><span class=\"nd\">token </span></div><div class=\"children hor wrap \"><div class=\"contnr c0 trm   \" ><div class=\"lbl c0 trm \" ><span class=\"txtu\"><span class=\" is_note\">en </span></span></div></div></div></div><div class=\"contnr c1    \" ><div class=\"lbl c1  \" ><span class=\"nd\">token </span></div><div class=\"children hor wrap \"><div class=\"contnr c0 trm   \" ><div class=\"lbl c0 trm \" ><span class=\"txtu\"><span class=\" is_note\">woensdag </span></span></div></div></div></div><div class=\"contnr c1    \" ><div class=\"lbl c1  \" ><span class=\"nd\">token </span></div><div class=\"children hor wrap \"><div class=\"contnr c0 trm   \" ><div class=\"lbl c0 trm \" ><span class=\"txtu\"><span class=\" is_note\">10 </span></span></div></div></div></div><div class=\"contnr c1    \" ><div class=\"lbl c1  \" ><span class=\"nd\">token </span></div><div class=\"children hor wrap \"><div class=\"contnr c0 trm   \" ><div class=\"lbl c0 trm \" ><span class=\"txtu\"><span class=\" is_note\">maart</span></span></div></div></div></div><div class=\"contnr c1    \" ><div class=\"lbl c1  \" ><span class=\"nd\">token </span></div><div class=\"children hor wrap \"><div class=\"contnr c0 trm   \" ><div class=\"lbl c0 trm \" ><span class=\"txtu\"><span class=\" is_note\">. </span></span></div></div></div></div></div></div><div class=\"contnr c2    \" ><div class=\"lbl c2  \" ><span class=\"nd\">sentence </span></div><div class=\"children hor wrap \"><div class=\"contnr c1    \" ><div class=\"lbl c1  \" ><span class=\"nd\">token </span></div><div class=\"children hor wrap \"><div class=\"contnr c0 trm   \" ><div class=\"lbl c0 trm \" ><span class=\"txtu\"><span class=\" is_note\">Het </span></span></div></div></div></div><div class=\"contnr c1    \" ><div class=\"lbl c1  \" ><span class=\"nd\">token </span></div><div class=\"children hor wrap \"><div class=\"contnr c0 trm   \" ><div class=\"lbl c0 trm \" ><span class=\"txtu\"><span class=\" is_note\">is </span></span></div></div></div></div><div class=\"contnr c1    \" ><div class=\"lbl c1  \" ><span class=\"nd\">token </span></div><div class=\"children hor wrap \"><div class=\"contnr c0 trm   \" ><div class=\"lbl c0 trm \" ><span class=\"txtu\"><span class=\" is_note\">niet </span></span></div></div></div></div><div class=\"contnr c1    \" ><div class=\"lbl c1  \" ><span class=\"nd\">token </span></div><div class=\"children hor wrap \"><div class=\"contnr c0 trm   \" ><div class=\"lbl c0 trm \" ><span class=\"txtu\"><span class=\" is_note\">bekend </span></span></div></div></div></div><div class=\"contnr c1    \" ><div class=\"lbl c1  \" ><span class=\"nd\">token </span></div><div class=\"children hor wrap \"><div class=\"contnr c0 trm   \" ><div class=\"lbl c0 trm \" ><span class=\"txtu\"><span class=\" is_note\">voor </span></span></div></div></div></div><div class=\"contnr c1    \" ><div class=\"lbl c1  \" ><span class=\"nd\">token </span></div><div class=\"children hor wrap \"><div class=\"contnr c0 trm   \" ><div class=\"lbl c0 trm \" ><span class=\"txtu\"><span class=\" is_note\">welke </span></span></div></div></div></div><div class=\"contnr c1    \" ><div class=\"lbl c1  \" ><span class=\"nd\">token </span></div><div class=\"children hor wrap \"><div class=\"contnr c0 trm   \" ><div class=\"lbl c0 trm \" ><span class=\"txtu\"><span class=\" is_note\">van </span></span></div></div></div></div><div class=\"contnr c1    \" ><div class=\"lbl c1  \" ><span class=\"nd\">token </span></div><div class=\"children hor wrap \"><div class=\"contnr c0 trm   \" ><div class=\"lbl c0 trm \" ><span class=\"txtu\"><span class=\" is_note\">deze </span></span></div></div></div></div><div class=\"contnr c1    \" ><div class=\"lbl c1  \" ><span class=\"nd\">token </span></div><div class=\"children hor wrap \"><div class=\"contnr c0 trm   \" ><div class=\"lbl c0 trm \" ><span class=\"txtu\"><span class=\" is_note\">concerten </span></span></div></div></div></div><div class=\"contnr c1    \" ><div class=\"lbl c1  \" ><span class=\"nd\">token </span></div><div class=\"children hor wrap \"><div class=\"contnr c0 trm   \" ><div class=\"lbl c0 trm \" ><span class=\"txtu\"><span class=\" is_note\">Mondriaan </span></span></div></div></div></div><div class=\"contnr c1    \" ><div class=\"lbl c1  \" ><span class=\"nd\">token </span></div><div class=\"children hor wrap \"><div class=\"contnr c0 trm   \" ><div class=\"lbl c0 trm \" ><span class=\"txtu\"><span class=\" is_note\">kaarten </span></span></div></div></div></div><div class=\"contnr c1    \" ><div class=\"lbl c1  \" ><span class=\"nd\">token </span></div><div class=\"children hor wrap \"><div class=\"contnr c0 trm   \" ><div class=\"lbl c0 trm \" ><span class=\"txtu\"><span class=\" is_note\">had</span></span></div></div></div></div><div class=\"contnr c1    \" ><div class=\"lbl c1  \" ><span class=\"nd\">token </span></div><div class=\"children hor wrap \"><div class=\"contnr c0 trm   \" ><div class=\"lbl c0 trm \" ><span class=\"txtu\"><span class=\" is_note\">.</span></span></div></div></div></div></div></div><div class=\"contnr c1    \" ><div class=\"lbl c1  \" ><span class=\"nd\">token </span></div><div class=\"children hor wrap \"><div class=\"contnr c0 trm   \" ><div class=\"lbl c0 trm \" ><span class=\"txtu\"><span class=\" is_note\"><br></span></span></div></div></div></div></div></div></div></div></div></div><div class=\"contnr c2    \" ><div class=\"lbl c2  \" ><span class=\"nd\">listAnnotation </span></div><div class=\"features\"><span class=\"type xft\" ><span class=\"f\">type=</span>typednotes</span></div><div class=\"children hor wrap \"><div class=\"contnr c3   lno rno \" ><div class=\"lbl c3  \" ><span class=\"nd\">chunk </span></div><div class=\"children hor wrap \"><div class=\"contnr c2    \" ><div class=\"lbl c2  \" ><span class=\"nd\">note </span></div><div class=\"features\"><span class=\"type xft\" ><span class=\"f\">type=</span>transcrSource</span></div><div class=\"children hor wrap \"><div class=\"contnr c2    \" ><div class=\"lbl c2  \" ><span class=\"nd\">sentence </span></div><div class=\"children hor wrap \"><div class=\"contnr c1    \" ><div class=\"lbl c1  \" ><span class=\"nd\">token </span></div><div class=\"children hor wrap \"><div class=\"contnr c0 trm   \" ><div class=\"lbl c0 trm \" ><span class=\"txtu\"><span class=\" is_note\">*</span></span></div></div></div></div></div></div><div class=\"contnr c2    \" ><div class=\"lbl c2  \" ><span class=\"nd\">sentence </span></div><div class=\"children hor wrap \"><div class=\"contnr c1    \" ><div class=\"lbl c1  \" ><span class=\"nd\">token </span></div><div class=\"children hor wrap \"><div class=\"contnr c0 trm   \" ><div class=\"lbl c0 trm \" ><span class=\"txtu\"><span class=\" is_note\">*</span></span></div></div></div></div><div class=\"contnr c1    \" ><div class=\"lbl c1  \" ><span class=\"nd\">token </span></div><div class=\"children hor wrap \"><div class=\"contnr c0 trm   \" ><div class=\"lbl c0 trm \" ><span class=\"txtu\"><span class=\" is_note\">SUBSTITUTE </span></span></div></div></div></div><div class=\"contnr c1    \" ><div class=\"lbl c1  \" ><span class=\"nd\">token </span></div><div class=\"children hor wrap \"><div class=\"contnr c0 trm   \" ><div class=\"lbl c0 trm \" ><span class=\"txtu\"><span class=\" is_note\">FOR </span></span></div></div></div></div><div class=\"contnr c1    \" ><div class=\"lbl c1  \" ><span class=\"nd\">token </span></div><div class=\"children hor wrap \"><div class=\"contnr c0 trm   \" ><div class=\"lbl c0 trm \" ><span class=\"txtu\"><span class=\" is_note\">ENGLISH</span></span></div></div></div></div><div class=\"contnr c1    \" ><div class=\"lbl c1  \" ><span class=\"nd\">token </span></div><div class=\"children hor wrap \"><div class=\"contnr c0 trm   \" ><div class=\"lbl c0 trm \" ><span class=\"txtu\"><span class=\" is_note\">*</span></span></div></div></div></div><div class=\"contnr c1    \" ><div class=\"lbl c1  \" ><span class=\"nd\">token </span></div><div class=\"children hor wrap \"><div class=\"contnr c0 trm   \" ><div class=\"lbl c0 trm \" ><span class=\"txtu\"><span class=\" is_note\">* </span></span></div></div></div></div><div class=\"contnr c1    \" ><div class=\"lbl c1  \" ><span class=\"nd\">token </span></div><div class=\"children hor wrap \"><div class=\"contnr c0 trm   \" ><div class=\"lbl c0 trm \" ><span class=\"txtu\"><span class=\" is_note\">Manuscript</span></span></div></div></div></div><div class=\"contnr c1    \" ><div class=\"lbl c1  \" ><span class=\"nd\">token </span></div><div class=\"children hor wrap \"><div class=\"contnr c0 trm   \" ><div class=\"lbl c0 trm \" ><span class=\"txtu\"><span class=\" is_note\">.</span></span></div></div></div></div></div></div><div class=\"contnr c1    \" ><div class=\"lbl c1  \" ><span class=\"nd\">token </span></div><div class=\"children hor wrap \"><div class=\"contnr c0 trm   \" ><div class=\"lbl c0 trm \" ><span class=\"txtu\"><span class=\" is_note\"><br></span></span></div></div></div></div></div></div><div class=\"contnr c2    \" ><div class=\"lbl c2  \" ><span class=\"nd\">note </span></div><div class=\"features\"><span class=\"type xft\" ><span class=\"f\">type=</span>dating</span></div><div class=\"children hor wrap \"><div class=\"contnr c2    \" ><div class=\"lbl c2  \" ><span class=\"nd\">sentence </span></div><div class=\"children hor wrap \"><div class=\"contnr c1    \" ><div class=\"lbl c1  \" ><span class=\"nd\">token </span></div><div class=\"children hor wrap \"><div class=\"contnr c0 trm   \" ><div class=\"lbl c0 trm \" ><span class=\"txtu\"><span class=\" is_note\">*</span></span></div></div></div></div></div></div><div class=\"contnr c2    \" ><div class=\"lbl c2  \" ><span class=\"nd\">sentence </span></div><div class=\"children hor wrap \"><div class=\"contnr c1    \" ><div class=\"lbl c1  \" ><span class=\"nd\">token </span></div><div class=\"children hor wrap \"><div class=\"contnr c0 trm   \" ><div class=\"lbl c0 trm \" ><span class=\"txtu\"><span class=\" is_note\">*</span></span></div></div></div></div><div class=\"contnr c1    \" ><div class=\"lbl c1  \" ><span class=\"nd\">token </span></div><div class=\"children hor wrap \"><div class=\"contnr c0 trm   \" ><div class=\"lbl c0 trm \" ><span class=\"txtu\"><span class=\" is_note\">SUBSTITUTE </span></span></div></div></div></div><div class=\"contnr c1    \" ><div class=\"lbl c1  \" ><span class=\"nd\">token </span></div><div class=\"children hor wrap \"><div class=\"contnr c0 trm   \" ><div class=\"lbl c0 trm \" ><span class=\"txtu\"><span class=\" is_note\">FOR </span></span></div></div></div></div><div class=\"contnr c1    \" ><div class=\"lbl c1  \" ><span class=\"nd\">token </span></div><div class=\"children hor wrap \"><div class=\"contnr c0 trm   \" ><div class=\"lbl c0 trm \" ><span class=\"txtu\"><span class=\" is_note\">ENGLISH</span></span></div></div></div></div><div class=\"contnr c1    \" ><div class=\"lbl c1  \" ><span class=\"nd\">token </span></div><div class=\"children hor wrap \"><div class=\"contnr c0 trm   \" ><div class=\"lbl c0 trm \" ><span class=\"txtu\"><span class=\" is_note\">*</span></span></div></div></div></div></div></div><div class=\"contnr c2    \" ><div class=\"lbl c2  \" ><span class=\"nd\">sentence </span></div><div class=\"children hor wrap \"><div class=\"contnr c1    \" ><div class=\"lbl c1  \" ><span class=\"nd\">token </span></div><div class=\"children hor wrap \"><div class=\"contnr c0 trm   \" ><div class=\"lbl c0 trm \" ><span class=\"txtu\"><span class=\" is_note\">* </span></span></div></div></div></div><div class=\"contnr c1    \" ><div class=\"lbl c1  \" ><span class=\"nd\">token </span></div><div class=\"children hor wrap \"><div class=\"contnr c0 trm   \" ><div class=\"lbl c0 trm \" ><span class=\"txtu\"><span class=\" is_note\">De </span></span></div></div></div></div><div class=\"contnr c1    \" ><div class=\"lbl c1  \" ><span class=\"nd\">token </span></div><div class=\"children hor wrap \"><div class=\"contnr c0 trm   \" ><div class=\"lbl c0 trm \" ><span class=\"txtu\"><span class=\" is_note\">brief </span></span></div></div></div></div><div class=\"contnr c1    \" ><div class=\"lbl c1  \" ><span class=\"nd\">token </span></div><div class=\"children hor wrap \"><div class=\"contnr c0 trm   \" ><div class=\"lbl c0 trm \" ><span class=\"txtu\"><span class=\" is_note\">is </span></span></div></div></div></div><div class=\"contnr c1    \" ><div class=\"lbl c1  \" ><span class=\"nd\">token </span></div><div class=\"children hor wrap \"><div class=\"contnr c0 trm   \" ><div class=\"lbl c0 trm \" ><span class=\"txtu\"><span class=\" is_note\">geschreven </span></span></div></div></div></div><div class=\"contnr c1    \" ><div class=\"lbl c1  \" ><span class=\"nd\">token </span></div><div class=\"children hor wrap \"><div class=\"contnr c0 trm   \" ><div class=\"lbl c0 trm \" ><span class=\"txtu\"><span class=\" is_note\">op </span></span></div></div></div></div><div class=\"contnr c1    \" ><div class=\"lbl c1  \" ><span class=\"nd\">token </span></div><div class=\"children hor wrap \"><div class=\"contnr c0 trm   \" ><div class=\"lbl c0 trm \" ><span class=\"txtu\"><span class=\" is_note\">een </span></span></div></div></div></div><div class=\"contnr c1    \" ><div class=\"lbl c1  \" ><span class=\"nd\">token </span></div><div class=\"children hor wrap \"><div class=\"contnr c0 trm   \" ><div class=\"lbl c0 trm \" ><span class=\"txtu\"><span class=\" is_note\">dinsdag </span></span></div></div></div></div><div class=\"contnr c1    \" ><div class=\"lbl c1  \" ><span class=\"nd\">token </span></div><div class=\"children hor wrap \"><div class=\"contnr c0 trm   \" ><div class=\"lbl c0 trm \" ><span class=\"txtu\"><span class=\" is_note\">voorafgaand </span></span></div></div></div></div><div class=\"contnr c1    \" ><div class=\"lbl c1  \" ><span class=\"nd\">token </span></div><div class=\"children hor wrap \"><div class=\"contnr c0 trm   \" ><div class=\"lbl c0 trm \" ><span class=\"txtu\"><span class=\" is_note\">aan </span></span></div></div></div></div><div class=\"contnr c1    \" ><div class=\"lbl c1  \" ><span class=\"nd\">token </span></div><div class=\"children hor wrap \"><div class=\"contnr c0 trm   \" ><div class=\"lbl c0 trm \" ><span class=\"txtu\"><span class=\" is_note\">een </span></span></div></div></div></div><div class=\"contnr c1    \" ><div class=\"lbl c1  \" ><span class=\"nd\">token </span></div><div class=\"children hor wrap \"><div class=\"contnr c0 trm   \" ><div class=\"lbl c0 trm \" ><span class=\"txtu\"><span class=\" is_note\">van </span></span></div></div></div></div><div class=\"contnr c1    \" ><div class=\"lbl c1  \" ><span class=\"nd\">token </span></div><div class=\"children hor wrap \"><div class=\"contnr c0 trm   \" ><div class=\"lbl c0 trm \" ><span class=\"txtu\"><span class=\" is_note\">de </span></span></div></div></div></div><div class=\"contnr c1    \" ><div class=\"lbl c1  \" ><span class=\"nd\">token </span></div><div class=\"children hor wrap \"><div class=\"contnr c0 trm   \" ><div class=\"lbl c0 trm \" ><span class=\"txtu\"><span class=\" is_note\">drie </span></span></div></div></div></div><div class=\"contnr c1    \" ><div class=\"lbl c1  \" ><span class=\"nd\">token </span></div><div class=\"children hor wrap \"><div class=\"contnr c0 trm   \" ><div class=\"lbl c0 trm \" ><span class=\"txtu\"><span class=\" is_note\">woensdagen </span></span></div></div></div></div><div class=\"contnr c1    \" ><div class=\"lbl c1  \" ><span class=\"nd\">token </span></div><div class=\"children hor wrap \"><div class=\"contnr c0 trm   \" ><div class=\"lbl c0 trm \" ><span class=\"txtu\"><span class=\" is_note\">waarop </span></span></div></div></div></div><div class=\"contnr c1    \" ><div class=\"lbl c1  \" ><span class=\"nd\">rs </span></div><div class=\"features\"><span class=\"type \" ><span class=\"f\">type=</span>person</span><span class=\"ref xft\" ><span class=\"f\">ref=</span>bio.xml#buhlig_richard</span></div><div class=\"children hor wrap \"><div class=\"contnr c1    \" ><div class=\"lbl c1  \" ><span class=\"nd\">token </span></div><div class=\"children hor wrap \"><div class=\"contnr c0 trm   \" ><div class=\"lbl c0 trm \" ><span class=\"txtu\"><span class=\" is_note\">Richard </span></span></div></div></div></div><div class=\"contnr c1    \" ><div class=\"lbl c1  \" ><span class=\"nd\">token </span></div><div class=\"children hor wrap \"><div class=\"contnr c0 trm   \" ><div class=\"lbl c0 trm \" ><span class=\"txtu\"><span class=\" is_note\">Buhlig</span></span></div></div></div></div></div></div></div></div><div class=\"contnr c1    \" ><div class=\"lbl c1  \" ><span class=\"nd\">token </span></div><div class=\"children hor wrap \"><div class=\"contnr c0 trm   \" ><div class=\"lbl c0 trm \" ><span class=\"txtu\"><span class=\" is_note\"> </span></span></div></div></div></div><div class=\"contnr c2    \" ><div class=\"lbl c2  \" ><span class=\"nd\">sentence </span></div><div class=\"children hor wrap \"><div class=\"contnr c1    \" ><div class=\"lbl c1  \" ><span class=\"nd\">token </span></div><div class=\"children hor wrap \"><div class=\"contnr c0 trm   \" ><div class=\"lbl c0 trm \" ><span class=\"txtu\"><span class=\" is_note\">in </span></span></div></div></div></div><div class=\"contnr c1    \" ><div class=\"lbl c1  \" ><span class=\"nd\">token </span></div><div class=\"children hor wrap \"><div class=\"contnr c0 trm   \" ><div class=\"lbl c0 trm \" ><span class=\"txtu\"><span class=\" is_note\">1909 </span></span></div></div></div></div><div class=\"contnr c1    \" ><div class=\"lbl c1  \" ><span class=\"nd\">token </span></div><div class=\"children hor wrap \"><div class=\"contnr c0 trm   \" ><div class=\"lbl c0 trm \" ><span class=\"txtu\"><span class=\" is_note\">in </span></span></div></div></div></div><div class=\"contnr c1    \" ><div class=\"lbl c1  \" ><span class=\"nd\">token </span></div><div class=\"children hor wrap \"><div class=\"contnr c0 trm   \" ><div class=\"lbl c0 trm \" ><span class=\"txtu\"><span class=\" is_note\">de </span></span></div></div></div></div><div class=\"contnr c1    \" ><div class=\"lbl c1  \" ><span class=\"nd\">token </span></div><div class=\"children hor wrap \"><div class=\"contnr c0 trm   \" ><div class=\"lbl c0 trm \" ><span class=\"txtu\"><span class=\" is_note\">kleine </span></span></div></div></div></div><div class=\"contnr c1    \" ><div class=\"lbl c1  \" ><span class=\"nd\">token </span></div><div class=\"children hor wrap \"><div class=\"contnr c0 trm   \" ><div class=\"lbl c0 trm \" ><span class=\"txtu\"><span class=\" is_note\">zaal </span></span></div></div></div></div><div class=\"contnr c1    \" ><div class=\"lbl c1  \" ><span class=\"nd\">token </span></div><div class=\"children hor wrap \"><div class=\"contnr c0 trm   \" ><div class=\"lbl c0 trm \" ><span class=\"txtu\"><span class=\" is_note\">van </span></span></div></div></div></div><div class=\"contnr c1    \" ><div class=\"lbl c1  \" ><span class=\"nd\">token </span></div><div class=\"children hor wrap \"><div class=\"contnr c0 trm   \" ><div class=\"lbl c0 trm \" ><span class=\"txtu\"><span class=\" is_note\">het </span></span></div></div></div></div><div class=\"contnr c1    \" ><div class=\"lbl c1  \" ><span class=\"nd\">token </span></div><div class=\"children hor wrap \"><div class=\"contnr c0 trm   \" ><div class=\"lbl c0 trm \" ><span class=\"txtu\"><span class=\" is_note\">Concertgebouw </span></span></div></div></div></div><div class=\"contnr c1    \" ><div class=\"lbl c1  \" ><span class=\"nd\">token </span></div><div class=\"children hor wrap \"><div class=\"contnr c0 trm   \" ><div class=\"lbl c0 trm \" ><span class=\"txtu\"><span class=\" is_note\">een </span></span></div></div></div></div><div class=\"contnr c1    \" ><div class=\"lbl c1  \" ><span class=\"nd\">token </span></div><div class=\"children hor wrap \"><div class=\"contnr c0 trm   \" ><div class=\"lbl c0 trm \" ><span class=\"txtu\"><span class=\" is_note\">concert </span></span></div></div></div></div><div class=\"contnr c1    \" ><div class=\"lbl c1  \" ><span class=\"nd\">token </span></div><div class=\"children hor wrap \"><div class=\"contnr c0 trm   \" ><div class=\"lbl c0 trm \" ><span class=\"txtu\"><span class=\" is_note\">zou </span></span></div></div></div></div><div class=\"contnr c1    \" ><div class=\"lbl c1  \" ><span class=\"nd\">token </span></div><div class=\"children hor wrap \"><div class=\"contnr c0 trm   \" ><div class=\"lbl c0 trm \" ><span class=\"txtu\"><span class=\" is_note\">geven</span></span></div></div></div></div><div class=\"contnr c1    \" ><div class=\"lbl c1  \" ><span class=\"nd\">token </span></div><div class=\"children hor wrap \"><div class=\"contnr c0 trm   \" ><div class=\"lbl c0 trm \" ><span class=\"txtu\"><span class=\" is_note\">: </span></span></div></div></div></div><div class=\"contnr c1    \" ><div class=\"lbl c1  \" ><span class=\"nd\">token </span></div><div class=\"children hor wrap \"><div class=\"contnr c0 trm   \" ><div class=\"lbl c0 trm \" ><span class=\"txtu\"><span class=\" is_note\">17 </span></span></div></div></div></div><div class=\"contnr c1    \" ><div class=\"lbl c1  \" ><span class=\"nd\">token </span></div><div class=\"children hor wrap \"><div class=\"contnr c0 trm   \" ><div class=\"lbl c0 trm \" ><span class=\"txtu\"><span class=\" is_note\">februari</span></span></div></div></div></div><div class=\"contnr c1    \" ><div class=\"lbl c1  \" ><span class=\"nd\">token </span></div><div class=\"children hor wrap \"><div class=\"contnr c0 trm   \" ><div class=\"lbl c0 trm \" ><span class=\"txtu\"><span class=\" is_note\">, </span></span></div></div></div></div><div class=\"contnr c1    \" ><div class=\"lbl c1  \" ><span class=\"nd\">token </span></div><div class=\"children hor wrap \"><div class=\"contnr c0 trm   \" ><div class=\"lbl c0 trm \" ><span class=\"txtu\"><span class=\" is_note\">3 </span></span></div></div></div></div><div class=\"contnr c1    \" ><div class=\"lbl c1  \" ><span class=\"nd\">token </span></div><div class=\"children hor wrap \"><div class=\"contnr c0 trm   \" ><div class=\"lbl c0 trm \" ><span class=\"txtu\"><span class=\" is_note\">maart </span></span></div></div></div></div><div class=\"contnr c1    \" ><div class=\"lbl c1  \" ><span class=\"nd\">token </span></div><div class=\"children hor wrap \"><div class=\"contnr c0 trm   \" ><div class=\"lbl c0 trm \" ><span class=\"txtu\"><span class=\" is_note\">en </span></span></div></div></div></div><div class=\"contnr c1    \" ><div class=\"lbl c1  \" ><span class=\"nd\">token </span></div><div class=\"children hor wrap \"><div class=\"contnr c0 trm   \" ><div class=\"lbl c0 trm \" ><span class=\"txtu\"><span class=\" is_note\">10 </span></span></div></div></div></div><div class=\"contnr c1    \" ><div class=\"lbl c1  \" ><span class=\"nd\">token </span></div><div class=\"children hor wrap \"><div class=\"contnr c0 trm   \" ><div class=\"lbl c0 trm \" ><span class=\"txtu\"><span class=\" is_note\">maart</span></span></div></div></div></div><div class=\"contnr c1    \" ><div class=\"lbl c1  \" ><span class=\"nd\">token </span></div><div class=\"children hor wrap \"><div class=\"contnr c0 trm   \" ><div class=\"lbl c0 trm \" ><span class=\"txtu\"><span class=\" is_note\">. </span></span></div></div></div></div></div></div><div class=\"contnr c2    \" ><div class=\"lbl c2  \" ><span class=\"nd\">sentence </span></div><div class=\"children hor wrap \"><div class=\"contnr c1    \" ><div class=\"lbl c1  \" ><span class=\"nd\">token </span></div><div class=\"children hor wrap \"><div class=\"contnr c0 trm   \" ><div class=\"lbl c0 trm \" ><span class=\"txtu\"><span class=\" is_note\">Zie </span></span></div></div></div></div><div class=\"contnr c1    \" ><div class=\"lbl c1  \" ><span class=\"nd\">token </span></div><div class=\"children hor wrap \"><div class=\"contnr c0 trm   \" ><div class=\"lbl c0 trm \" ><span class=\"txtu\"><span class=\" is_note\">tevens </span></span></div></div></div></div><div class=\"contnr c1    \" ><div class=\"lbl c1  \" ><span class=\"nd\">ref </span></div><div class=\"children hor wrap \"><div class=\"contnr c1    \" ><div class=\"lbl c1  \" ><span class=\"nd\">token </span></div><div class=\"children hor wrap \"><div class=\"contnr c0 trm   \" ><div class=\"lbl c0 trm \" ><span class=\"txtu\"><span class=\" is_note\">n. </span></span></div></div></div></div><div class=\"contnr c1    \" ><div class=\"lbl c1  \" ><span class=\"nd\">token </span></div><div class=\"children hor wrap \"><div class=\"contnr c0 trm   \" ><div class=\"lbl c0 trm \" ><span class=\"txtu\"><span class=\" is_note\">\"</span></span></div></div></div></div><div class=\"contnr c1    \" ><div class=\"lbl c1  \" ><span class=\"nd\">token </span></div><div class=\"children hor wrap \"><div class=\"contnr c0 trm   \" ><div class=\"lbl c0 trm \" ><span class=\"txtu\"><span class=\" is_note\">plaatsBuhlig</span></span></div></div></div></div><div class=\"contnr c1    \" ><div class=\"lbl c1  \" ><span class=\"nd\">token </span></div><div class=\"children hor wrap \"><div class=\"contnr c0 trm   \" ><div class=\"lbl c0 trm \" ><span class=\"txtu\"><span class=\" is_note\">\"</span></span></div></div></div></div></div></div><div class=\"contnr c1    \" ><div class=\"lbl c1  \" ><span class=\"nd\">token </span></div><div class=\"children hor wrap \"><div class=\"contnr c0 trm   \" ><div class=\"lbl c0 trm \" ><span class=\"txtu\"><span class=\" is_note\">.</span></span></div></div></div></div></div></div><div class=\"contnr c1    \" ><div class=\"lbl c1  \" ><span class=\"nd\">token </span></div><div class=\"children hor wrap \"><div class=\"contnr c0 trm   \" ><div class=\"lbl c0 trm \" ><span class=\"txtu\"><span class=\" is_note\"><br></span></span></div></div></div></div></div></div></div></div></div></div><div class=\"contnr c2    \" ><div class=\"lbl c2  \" ><span class=\"nd\">listAnnotation </span></div><div class=\"features\"><span class=\"type xft\" ><span class=\"f\">type=</span>ogtnotes</span></div><div class=\"children hor wrap \"><div class=\"contnr c3   lno rno \" ><div class=\"lbl c3  \" ><span class=\"nd\">chunk </span></div><div class=\"children hor wrap \"><div class=\"contnr c2    \" ><div class=\"lbl c2  \" ><span class=\"nd\">note </span></div><div class=\"children hor wrap \"><div class=\"contnr c2    \" ><div class=\"lbl c2  \" ><span class=\"nd\">sentence </span></div><div class=\"children hor wrap \"><div class=\"contnr c1    \" ><div class=\"lbl c1  \" ><span class=\"nd\">token </span></div><div class=\"children hor wrap \"><div class=\"contnr c0 trm   \" ><div class=\"lbl c0 trm \" ><span class=\"txtu\"><span class=\" is_note\">​</span></span></div></div></div></div></div></div></div></div><div class=\"contnr c0 trm   \" ><div class=\"lbl c0 trm \" ><span class=\"txtu\"><br></span></div></div></div></div></div></div><div class=\"contnr c2    \" ><div class=\"lbl c2  \" ><span class=\"nd\">listAnnotation </span></div><div class=\"features\"><span class=\"type xft\" ><span class=\"f\">type=</span>notes</span></div><div class=\"children hor wrap \"><div class=\"contnr c3   lno rno \" ><div class=\"lbl c3  \" ><span class=\"nd\">chunk </span></div><div class=\"children hor wrap \"><div class=\"contnr c2    \" ><div class=\"lbl c2  \" ><span class=\"nd\">note </span></div><div class=\"children hor wrap \"><div class=\"contnr c2    \" ><div class=\"lbl c2  \" ><span class=\"nd\">sentence </span></div><div class=\"children hor wrap \"><div class=\"contnr c1    \" ><div class=\"lbl c1  \" ><span class=\"nd\">token </span></div><div class=\"children hor wrap \"><div class=\"contnr c0 trm   \" ><div class=\"lbl c0 trm \" ><span class=\"txtu\"><span class=\" is_note\">*</span></span></div></div></div></div></div></div><div class=\"contnr c2    \" ><div class=\"lbl c2  \" ><span class=\"nd\">sentence </span></div><div class=\"children hor wrap \"><div class=\"contnr c1    \" ><div class=\"lbl c1  \" ><span class=\"nd\">token </span></div><div class=\"children hor wrap \"><div class=\"contnr c0 trm   \" ><div class=\"lbl c0 trm \" ><span class=\"txtu\"><span class=\" is_note\">*</span></span></div></div></div></div><div class=\"contnr c1    \" ><div class=\"lbl c1  \" ><span class=\"nd\">token </span></div><div class=\"children hor wrap \"><div class=\"contnr c0 trm   \" ><div class=\"lbl c0 trm \" ><span class=\"txtu\"><span class=\" is_note\">SUBSTITUTE </span></span></div></div></div></div><div class=\"contnr c1    \" ><div class=\"lbl c1  \" ><span class=\"nd\">token </span></div><div class=\"children hor wrap \"><div class=\"contnr c0 trm   \" ><div class=\"lbl c0 trm \" ><span class=\"txtu\"><span class=\" is_note\">FOR </span></span></div></div></div></div><div class=\"contnr c1    \" ><div class=\"lbl c1  \" ><span class=\"nd\">token </span></div><div class=\"children hor wrap \"><div class=\"contnr c0 trm   \" ><div class=\"lbl c0 trm \" ><span class=\"txtu\"><span class=\" is_note\">ENGLISH</span></span></div></div></div></div><div class=\"contnr c1    \" ><div class=\"lbl c1  \" ><span class=\"nd\">token </span></div><div class=\"children hor wrap \"><div class=\"contnr c0 trm   \" ><div class=\"lbl c0 trm \" ><span class=\"txtu\"><span class=\" is_note\">*</span></span></div></div></div></div><div class=\"contnr c1    \" ><div class=\"lbl c1  \" ><span class=\"nd\">token </span></div><div class=\"children hor wrap \"><div class=\"contnr c0 trm   \" ><div class=\"lbl c0 trm \" ><span class=\"txtu\"><span class=\" is_note\">* </span></span></div></div></div></div><div class=\"contnr c1    \" ><div class=\"lbl c1  \" ><span class=\"nd\">rs </span></div><div class=\"features\"><span class=\"type \" ><span class=\"f\">type=</span>person</span><span class=\"ref xft\" ><span class=\"f\">ref=</span>bio.xml#iongh_aletta_de</span></div><div class=\"children hor wrap \"><div class=\"contnr c1    \" ><div class=\"lbl c1  \" ><span class=\"nd\">token </span></div><div class=\"children hor wrap \"><div class=\"contnr c0 trm   \" ><div class=\"lbl c0 trm \" ><span class=\"txtu\"><span class=\" is_note\">Aletta</span></span></div></div></div></div></div></div></div></div><div class=\"contnr c1    \" ><div class=\"lbl c1  \" ><span class=\"nd\">token </span></div><div class=\"children hor wrap \"><div class=\"contnr c0 trm   \" ><div class=\"lbl c0 trm \" ><span class=\"txtu\"><span class=\" is_note\"> </span></span></div></div></div></div><div class=\"contnr c2    \" ><div class=\"lbl c2  \" ><span class=\"nd\">sentence </span></div><div class=\"children hor wrap \"><div class=\"contnr c1    \" ><div class=\"lbl c1  \" ><span class=\"nd\">token </span></div><div class=\"children hor wrap \"><div class=\"contnr c0 trm   \" ><div class=\"lbl c0 trm \" ><span class=\"txtu\"><span class=\" is_note\">werd </span></span></div></div></div></div><div class=\"contnr c1    \" ><div class=\"lbl c1  \" ><span class=\"nd\">token </span></div><div class=\"children hor wrap \"><div class=\"contnr c0 trm   \" ><div class=\"lbl c0 trm \" ><span class=\"txtu\"><span class=\" is_note\">binnen </span></span></div></div></div></div><div class=\"contnr c1    \" ><div class=\"lbl c1  \" ><span class=\"nd\">token </span></div><div class=\"children hor wrap \"><div class=\"contnr c0 trm   \" ><div class=\"lbl c0 trm \" ><span class=\"txtu\"><span class=\" is_note\">haar </span></span></div></div></div></div><div class=\"contnr c1    \" ><div class=\"lbl c1  \" ><span class=\"nd\">token </span></div><div class=\"children hor wrap \"><div class=\"contnr c0 trm   \" ><div class=\"lbl c0 trm \" ><span class=\"txtu\"><span class=\" is_note\">familie </span></span></div></div></div></div><div class=\"contnr c1    \" ><div class=\"lbl c1  \" ><span class=\"nd\">token </span></div><div class=\"children hor wrap \"><div class=\"contnr c0 trm   \" ><div class=\"lbl c0 trm \" ><span class=\"txtu\"><span class=\" is_note\">aangesproken </span></span></div></div></div></div><div class=\"contnr c1    \" ><div class=\"lbl c1  \" ><span class=\"nd\">token </span></div><div class=\"children hor wrap \"><div class=\"contnr c0 trm   \" ><div class=\"lbl c0 trm \" ><span class=\"txtu\"><span class=\" is_note\">met </span></span></div></div></div></div><div class=\"contnr c1    \" ><div class=\"lbl c1  \" ><span class=\"nd\">token </span></div><div class=\"children hor wrap \"><div class=\"contnr c0 trm   \" ><div class=\"lbl c0 trm \" ><span class=\"txtu\"><span class=\" is_note\">de </span></span></div></div></div></div><div class=\"contnr c1    \" ><div class=\"lbl c1  \" ><span class=\"nd\">token </span></div><div class=\"children hor wrap \"><div class=\"contnr c0 trm   \" ><div class=\"lbl c0 trm \" ><span class=\"txtu\"><span class=\" is_note\">koosnaam </span></span></div></div></div></div><div class=\"contnr c1    \" ><div class=\"lbl c1  \" ><span class=\"nd\">token </span></div><div class=\"children hor wrap \"><div class=\"contnr c0 trm   \" ><div class=\"lbl c0 trm \" ><span class=\"txtu\"><span class=\" is_note\">'</span></span></div></div></div></div><div class=\"contnr c1    \" ><div class=\"lbl c1  \" ><span class=\"nd\">token </span></div><div class=\"children hor wrap \"><div class=\"contnr c0 trm   \" ><div class=\"lbl c0 trm \" ><span class=\"txtu\"><span class=\" is_note\">Zus</span></span></div></div></div></div><div class=\"contnr c1    \" ><div class=\"lbl c1  \" ><span class=\"nd\">token </span></div><div class=\"children hor wrap \"><div class=\"contnr c0 trm   \" ><div class=\"lbl c0 trm \" ><span class=\"txtu\"><span class=\" is_note\">' </span></span></div></div></div></div><div class=\"contnr c1    \" ><div class=\"lbl c1  \" ><span class=\"nd\">token </span></div><div class=\"children hor wrap \"><div class=\"contnr c0 trm   \" ><div class=\"lbl c0 trm \" ><span class=\"txtu\"><span class=\" is_note\">(</span></span></div></div></div></div><div class=\"contnr c1    \" ><div class=\"lbl c1  \" ><span class=\"nd\">ref </span></div><div class=\"children hor wrap \"><div class=\"contnr c1    \" ><div class=\"lbl c1  \" ><span class=\"nd\">token </span></div><div class=\"children hor wrap \"><div class=\"contnr c0 trm   \" ><div class=\"lbl c0 trm \" ><span class=\"txtu\"><span class=\" is_note\">Heteren </span></span></div></div></div></div><div class=\"contnr c1    \" ><div class=\"lbl c1  \" ><span class=\"nd\">token </span></div><div class=\"children hor wrap \"><div class=\"contnr c0 trm   \" ><div class=\"lbl c0 trm \" ><span class=\"txtu\"><span class=\" is_note\">2018</span></span></div></div></div></div></div></div><div class=\"contnr c1    \" ><div class=\"lbl c1  \" ><span class=\"nd\">token </span></div><div class=\"children hor wrap \"><div class=\"contnr c0 trm   \" ><div class=\"lbl c0 trm \" ><span class=\"txtu\"><span class=\" is_note\">, </span></span></div></div></div></div><div class=\"contnr c1    \" ><div class=\"lbl c1  \" ><span class=\"nd\">token </span></div><div class=\"children hor wrap \"><div class=\"contnr c0 trm   \" ><div class=\"lbl c0 trm \" ><span class=\"txtu\"><span class=\" is_note\">p. </span></span></div></div></div></div><div class=\"contnr c1    \" ><div class=\"lbl c1  \" ><span class=\"nd\">token </span></div><div class=\"children hor wrap \"><div class=\"contnr c0 trm   \" ><div class=\"lbl c0 trm \" ><span class=\"txtu\"><span class=\" is_note\">25</span></span></div></div></div></div><div class=\"contnr c1    \" ><div class=\"lbl c1  \" ><span class=\"nd\">token </span></div><div class=\"children hor wrap \"><div class=\"contnr c0 trm   \" ><div class=\"lbl c0 trm \" ><span class=\"txtu\"><span class=\" is_note\">) </span></span></div></div></div></div><div class=\"contnr c1    \" ><div class=\"lbl c1  \" ><span class=\"nd\">token </span></div><div class=\"children hor wrap \"><div class=\"contnr c0 trm   \" ><div class=\"lbl c0 trm \" ><span class=\"txtu\"><span class=\" is_note\">Mondriaans </span></span></div></div></div></div><div class=\"contnr c1    \" ><div class=\"lbl c1  \" ><span class=\"nd\">token </span></div><div class=\"children hor wrap \"><div class=\"contnr c0 trm   \" ><div class=\"lbl c0 trm \" ><span class=\"txtu\"><span class=\" is_note\">gebruik </span></span></div></div></div></div><div class=\"contnr c1    \" ><div class=\"lbl c1  \" ><span class=\"nd\">token </span></div><div class=\"children hor wrap \"><div class=\"contnr c0 trm   \" ><div class=\"lbl c0 trm \" ><span class=\"txtu\"><span class=\" is_note\">van </span></span></div></div></div></div><div class=\"contnr c1    \" ><div class=\"lbl c1  \" ><span class=\"nd\">token </span></div><div class=\"children hor wrap \"><div class=\"contnr c0 trm   \" ><div class=\"lbl c0 trm \" ><span class=\"txtu\"><span class=\" is_note\">deze </span></span></div></div></div></div><div class=\"contnr c1    \" ><div class=\"lbl c1  \" ><span class=\"nd\">token </span></div><div class=\"children hor wrap \"><div class=\"contnr c0 trm   \" ><div class=\"lbl c0 trm \" ><span class=\"txtu\"><span class=\" is_note\">naam </span></span></div></div></div></div><div class=\"contnr c1    \" ><div class=\"lbl c1  \" ><span class=\"nd\">token </span></div><div class=\"children hor wrap \"><div class=\"contnr c0 trm   \" ><div class=\"lbl c0 trm \" ><span class=\"txtu\"><span class=\" is_note\">geeft </span></span></div></div></div></div><div class=\"contnr c1    \" ><div class=\"lbl c1  \" ><span class=\"nd\">token </span></div><div class=\"children hor wrap \"><div class=\"contnr c0 trm   \" ><div class=\"lbl c0 trm \" ><span class=\"txtu\"><span class=\" is_note\">aan </span></span></div></div></div></div><div class=\"contnr c1    \" ><div class=\"lbl c1  \" ><span class=\"nd\">token </span></div><div class=\"children hor wrap \"><div class=\"contnr c0 trm   \" ><div class=\"lbl c0 trm \" ><span class=\"txtu\"><span class=\" is_note\">dat </span></span></div></div></div></div><div class=\"contnr c1    \" ><div class=\"lbl c1  \" ><span class=\"nd\">token </span></div><div class=\"children hor wrap \"><div class=\"contnr c0 trm   \" ><div class=\"lbl c0 trm \" ><span class=\"txtu\"><span class=\" is_note\">hij </span></span></div></div></div></div><div class=\"contnr c1    \" ><div class=\"lbl c1  \" ><span class=\"nd\">token </span></div><div class=\"children hor wrap \"><div class=\"contnr c0 trm   \" ><div class=\"lbl c0 trm \" ><span class=\"txtu\"><span class=\" is_note\">op </span></span></div></div></div></div><div class=\"contnr c1    \" ><div class=\"lbl c1  \" ><span class=\"nd\">token </span></div><div class=\"children hor wrap \"><div class=\"contnr c0 trm   \" ><div class=\"lbl c0 trm \" ><span class=\"txtu\"><span class=\" is_note\">intieme </span></span></div></div></div></div><div class=\"contnr c1    \" ><div class=\"lbl c1  \" ><span class=\"nd\">token </span></div><div class=\"children hor wrap \"><div class=\"contnr c0 trm   \" ><div class=\"lbl c0 trm \" ><span class=\"txtu\"><span class=\" is_note\">voet </span></span></div></div></div></div><div class=\"contnr c1    \" ><div class=\"lbl c1  \" ><span class=\"nd\">token </span></div><div class=\"children hor wrap \"><div class=\"contnr c0 trm   \" ><div class=\"lbl c0 trm \" ><span class=\"txtu\"><span class=\" is_note\">stond </span></span></div></div></div></div><div class=\"contnr c1    \" ><div class=\"lbl c1  \" ><span class=\"nd\">token </span></div><div class=\"children hor wrap \"><div class=\"contnr c0 trm   \" ><div class=\"lbl c0 trm \" ><span class=\"txtu\"><span class=\" is_note\">met </span></span></div></div></div></div><div class=\"contnr c1    \" ><div class=\"lbl c1  \" ><span class=\"nd\">token </span></div><div class=\"children hor wrap \"><div class=\"contnr c0 trm   \" ><div class=\"lbl c0 trm \" ><span class=\"txtu\"><span class=\" is_note\">De </span></span></div></div></div></div><div class=\"contnr c1    \" ><div class=\"lbl c1  \" ><span class=\"nd\">token </span></div><div class=\"children hor wrap \"><div class=\"contnr c0 trm   \" ><div class=\"lbl c0 trm \" ><span class=\"txtu\"><span class=\" is_note\">Iongh</span></span></div></div></div></div><div class=\"contnr c1    \" ><div class=\"lbl c1  \" ><span class=\"nd\">token </span></div><div class=\"children hor wrap \"><div class=\"contnr c0 trm   \" ><div class=\"lbl c0 trm \" ><span class=\"txtu\"><span class=\" is_note\">.</span></span></div></div></div></div></div></div><div class=\"contnr c1    \" ><div class=\"lbl c1  \" ><span class=\"nd\">token </span></div><div class=\"children hor wrap \"><div class=\"contnr c0 trm   \" ><div class=\"lbl c0 trm \" ><span class=\"txtu\"><span class=\" is_note\"><br></span></span></div></div></div></div></div></div><div class=\"contnr c2    \" ><div class=\"lbl c2  \" ><span class=\"nd\">note </span></div><div class=\"children hor wrap \"><div class=\"contnr c2    \" ><div class=\"lbl c2  \" ><span class=\"nd\">sentence </span></div><div class=\"children hor wrap \"><div class=\"contnr c1    \" ><div class=\"lbl c1  \" ><span class=\"nd\">token </span></div><div class=\"children hor wrap \"><div class=\"contnr c0 trm   \" ><div class=\"lbl c0 trm \" ><span class=\"txtu\"><span class=\" is_note\">*</span></span></div></div></div></div></div></div><div class=\"contnr c2    \" ><div class=\"lbl c2  \" ><span class=\"nd\">sentence </span></div><div class=\"children hor wrap \"><div class=\"contnr c1    \" ><div class=\"lbl c1  \" ><span class=\"nd\">token </span></div><div class=\"children hor wrap \"><div class=\"contnr c0 trm   \" ><div class=\"lbl c0 trm \" ><span class=\"txtu\"><span class=\" is_note\">*</span></span></div></div></div></div><div class=\"contnr c1    \" ><div class=\"lbl c1  \" ><span class=\"nd\">token </span></div><div class=\"children hor wrap \"><div class=\"contnr c0 trm   \" ><div class=\"lbl c0 trm \" ><span class=\"txtu\"><span class=\" is_note\">SUBSTITUTE </span></span></div></div></div></div><div class=\"contnr c1    \" ><div class=\"lbl c1  \" ><span class=\"nd\">token </span></div><div class=\"children hor wrap \"><div class=\"contnr c0 trm   \" ><div class=\"lbl c0 trm \" ><span class=\"txtu\"><span class=\" is_note\">FOR </span></span></div></div></div></div><div class=\"contnr c1    \" ><div class=\"lbl c1  \" ><span class=\"nd\">token </span></div><div class=\"children hor wrap \"><div class=\"contnr c0 trm   \" ><div class=\"lbl c0 trm \" ><span class=\"txtu\"><span class=\" is_note\">ENGLISH</span></span></div></div></div></div><div class=\"contnr c1    \" ><div class=\"lbl c1  \" ><span class=\"nd\">token </span></div><div class=\"children hor wrap \"><div class=\"contnr c0 trm   \" ><div class=\"lbl c0 trm \" ><span class=\"txtu\"><span class=\" is_note\">*</span></span></div></div></div></div></div></div><div class=\"contnr c2    \" ><div class=\"lbl c2  \" ><span class=\"nd\">sentence </span></div><div class=\"children hor wrap \"><div class=\"contnr c1    \" ><div class=\"lbl c1  \" ><span class=\"nd\">token </span></div><div class=\"children hor wrap \"><div class=\"contnr c0 trm   \" ><div class=\"lbl c0 trm \" ><span class=\"txtu\"><span class=\" is_note\">* </span></span></div></div></div></div><div class=\"contnr c1    \" ><div class=\"lbl c1  \" ><span class=\"nd\">token </span></div><div class=\"children hor wrap \"><div class=\"contnr c0 trm   \" ><div class=\"lbl c0 trm \" ><span class=\"txtu\"><span class=\" is_note\">De </span></span></div></div></div></div><div class=\"contnr c1    \" ><div class=\"lbl c1  \" ><span class=\"nd\">token </span></div><div class=\"children hor wrap \"><div class=\"contnr c0 trm   \" ><div class=\"lbl c0 trm \" ><span class=\"txtu\"><span class=\" is_note\">Amerikaanse </span></span></div></div></div></div><div class=\"contnr c1    \" ><div class=\"lbl c1  \" ><span class=\"nd\">token </span></div><div class=\"children hor wrap \"><div class=\"contnr c0 trm   \" ><div class=\"lbl c0 trm \" ><span class=\"txtu\"><span class=\" is_note\">pianist </span></span></div></div></div></div><div class=\"contnr c1    \" ><div class=\"lbl c1  \" ><span class=\"nd\">rs </span></div><div class=\"features\"><span class=\"type \" ><span class=\"f\">type=</span>person</span><span class=\"ref xft\" ><span class=\"f\">ref=</span>bio.xml#buhlig_richard</span></div><div class=\"children hor wrap \"><div class=\"contnr c1    \" ><div class=\"lbl c1  \" ><span class=\"nd\">token </span></div><div class=\"children hor wrap \"><div class=\"contnr c0 trm   \" ><div class=\"lbl c0 trm \" ><span class=\"txtu\"><span class=\" is_note\">Richard </span></span></div></div></div></div><div class=\"contnr c1    \" ><div class=\"lbl c1  \" ><span class=\"nd\">token </span></div><div class=\"children hor wrap \"><div class=\"contnr c0 trm   \" ><div class=\"lbl c0 trm \" ><span class=\"txtu\"><span class=\" is_note\">Moritz </span></span></div></div></div></div><div class=\"contnr c1    \" ><div class=\"lbl c1  \" ><span class=\"nd\">token </span></div><div class=\"children hor wrap \"><div class=\"contnr c0 trm   \" ><div class=\"lbl c0 trm \" ><span class=\"txtu\"><span class=\" is_note\">Buhlig</span></span></div></div></div></div></div></div><div class=\"contnr c1    \" ><div class=\"lbl c1  \" ><span class=\"nd\">token </span></div><div class=\"children hor wrap \"><div class=\"contnr c0 trm   \" ><div class=\"lbl c0 trm \" ><span class=\"txtu\"><span class=\" is_note\"> </span></span></div></div></div></div><div class=\"contnr c1    \" ><div class=\"lbl c1  \" ><span class=\"nd\">token </span></div><div class=\"children hor wrap \"><div class=\"contnr c0 trm   \" ><div class=\"lbl c0 trm \" ><span class=\"txtu\"><span class=\" is_note\">(</span></span></div></div></div></div><div class=\"contnr c1    \" ><div class=\"lbl c1  \" ><span class=\"nd\">token </span></div><div class=\"children hor wrap \"><div class=\"contnr c0 trm   \" ><div class=\"lbl c0 trm \" ><span class=\"txtu\"><span class=\" is_note\">1880</span></span></div></div></div></div><div class=\"contnr c1    \" ><div class=\"lbl c1  \" ><span class=\"nd\">token </span></div><div class=\"children hor wrap \"><div class=\"contnr c0 trm   \" ><div class=\"lbl c0 trm \" ><span class=\"txtu\"><span class=\" is_note\">-</span></span></div></div></div></div><div class=\"contnr c1    \" ><div class=\"lbl c1  \" ><span class=\"nd\">token </span></div><div class=\"children hor wrap \"><div class=\"contnr c0 trm   \" ><div class=\"lbl c0 trm \" ><span class=\"txtu\"><span class=\" is_note\">1952</span></span></div></div></div></div><div class=\"contnr c1    \" ><div class=\"lbl c1  \" ><span class=\"nd\">token </span></div><div class=\"children hor wrap \"><div class=\"contnr c0 trm   \" ><div class=\"lbl c0 trm \" ><span class=\"txtu\"><span class=\" is_note\">) </span></span></div></div></div></div><div class=\"contnr c1    \" ><div class=\"lbl c1  \" ><span class=\"nd\">token </span></div><div class=\"children hor wrap \"><div class=\"contnr c0 trm   \" ><div class=\"lbl c0 trm \" ><span class=\"txtu\"><span class=\" is_note\">gaf </span></span></div></div></div></div><div class=\"contnr c1    \" ><div class=\"lbl c1  \" ><span class=\"nd\">token </span></div><div class=\"children hor wrap \"><div class=\"contnr c0 trm   \" ><div class=\"lbl c0 trm \" ><span class=\"txtu\"><span class=\" is_note\">begin </span></span></div></div></div></div><div class=\"contnr c1    \" ><div class=\"lbl c1  \" ><span class=\"nd\">token </span></div><div class=\"children hor wrap \"><div class=\"contnr c0 trm   \" ><div class=\"lbl c0 trm \" ><span class=\"txtu\"><span class=\" is_note\">1909 </span></span></div></div></div></div><div class=\"contnr c1    \" ><div class=\"lbl c1  \" ><span class=\"nd\">token </span></div><div class=\"children hor wrap \"><div class=\"contnr c0 trm   \" ><div class=\"lbl c0 trm \" ><span class=\"txtu\"><span class=\" is_note\">drie </span></span></div></div></div></div><div class=\"contnr c1    \" ><div class=\"lbl c1  \" ><span class=\"nd\">token </span></div><div class=\"children hor wrap \"><div class=\"contnr c0 trm   \" ><div class=\"lbl c0 trm \" ><span class=\"txtu\"><span class=\" is_note\">concerten </span></span></div></div></div></div><div class=\"contnr c1    \" ><div class=\"lbl c1  \" ><span class=\"nd\">token </span></div><div class=\"children hor wrap \"><div class=\"contnr c0 trm   \" ><div class=\"lbl c0 trm \" ><span class=\"txtu\"><span class=\" is_note\">in </span></span></div></div></div></div><div class=\"contnr c1    \" ><div class=\"lbl c1  \" ><span class=\"nd\">token </span></div><div class=\"children hor wrap \"><div class=\"contnr c0 trm   \" ><div class=\"lbl c0 trm \" ><span class=\"txtu\"><span class=\" is_note\">de </span></span></div></div></div></div><div class=\"contnr c1    \" ><div class=\"lbl c1  \" ><span class=\"nd\">token </span></div><div class=\"children hor wrap \"><div class=\"contnr c0 trm   \" ><div class=\"lbl c0 trm \" ><span class=\"txtu\"><span class=\" is_note\">kleine </span></span></div></div></div></div><div class=\"contnr c1    \" ><div class=\"lbl c1  \" ><span class=\"nd\">token </span></div><div class=\"children hor wrap \"><div class=\"contnr c0 trm   \" ><div class=\"lbl c0 trm \" ><span class=\"txtu\"><span class=\" is_note\">zaal </span></span></div></div></div></div><div class=\"contnr c1    \" ><div class=\"lbl c1  \" ><span class=\"nd\">token </span></div><div class=\"children hor wrap \"><div class=\"contnr c0 trm   \" ><div class=\"lbl c0 trm \" ><span class=\"txtu\"><span class=\" is_note\">van </span></span></div></div></div></div><div class=\"contnr c1    \" ><div class=\"lbl c1  \" ><span class=\"nd\">token </span></div><div class=\"children hor wrap \"><div class=\"contnr c0 trm   \" ><div class=\"lbl c0 trm \" ><span class=\"txtu\"><span class=\" is_note\">het </span></span></div></div></div></div><div class=\"contnr c1    \" ><div class=\"lbl c1  \" ><span class=\"nd\">token </span></div><div class=\"children hor wrap \"><div class=\"contnr c0 trm   \" ><div class=\"lbl c0 trm \" ><span class=\"txtu\"><span class=\" is_note\">Concertgebouw</span></span></div></div></div></div><div class=\"contnr c1    \" ><div class=\"lbl c1  \" ><span class=\"nd\">token </span></div><div class=\"children hor wrap \"><div class=\"contnr c0 trm   \" ><div class=\"lbl c0 trm \" ><span class=\"txtu\"><span class=\" is_note\">, </span></span></div></div></div></div><div class=\"contnr c1    \" ><div class=\"lbl c1  \" ><span class=\"nd\">token </span></div><div class=\"children hor wrap \"><div class=\"contnr c0 trm   \" ><div class=\"lbl c0 trm \" ><span class=\"txtu\"><span class=\" is_note\">op </span></span></div></div></div></div><div class=\"contnr c1    \" ><div class=\"lbl c1  \" ><span class=\"nd\">token </span></div><div class=\"children hor wrap \"><div class=\"contnr c0 trm   \" ><div class=\"lbl c0 trm \" ><span class=\"txtu\"><span class=\" is_note\">woensdag </span></span></div></div></div></div><div class=\"contnr c1    \" ><div class=\"lbl c1  \" ><span class=\"nd\">token </span></div><div class=\"children hor wrap \"><div class=\"contnr c0 trm   \" ><div class=\"lbl c0 trm \" ><span class=\"txtu\"><span class=\" is_note\">17 </span></span></div></div></div></div><div class=\"contnr c1    \" ><div class=\"lbl c1  \" ><span class=\"nd\">token </span></div><div class=\"children hor wrap \"><div class=\"contnr c0 trm   \" ><div class=\"lbl c0 trm \" ><span class=\"txtu\"><span class=\" is_note\">februari</span></span></div></div></div></div><div class=\"contnr c1    \" ><div class=\"lbl c1  \" ><span class=\"nd\">token </span></div><div class=\"children hor wrap \"><div class=\"contnr c0 trm   \" ><div class=\"lbl c0 trm \" ><span class=\"txtu\"><span class=\" is_note\">, </span></span></div></div></div></div><div class=\"contnr c1    \" ><div class=\"lbl c1  \" ><span class=\"nd\">token </span></div><div class=\"children hor wrap \"><div class=\"contnr c0 trm   \" ><div class=\"lbl c0 trm \" ><span class=\"txtu\"><span class=\" is_note\">woensdag </span></span></div></div></div></div><div class=\"contnr c1    \" ><div class=\"lbl c1  \" ><span class=\"nd\">token </span></div><div class=\"children hor wrap \"><div class=\"contnr c0 trm   \" ><div class=\"lbl c0 trm \" ><span class=\"txtu\"><span class=\" is_note\">3 </span></span></div></div></div></div><div class=\"contnr c1    \" ><div class=\"lbl c1  \" ><span class=\"nd\">token </span></div><div class=\"children hor wrap \"><div class=\"contnr c0 trm   \" ><div class=\"lbl c0 trm \" ><span class=\"txtu\"><span class=\" is_note\">maart </span></span></div></div></div></div><div class=\"contnr c1    \" ><div class=\"lbl c1  \" ><span class=\"nd\">token </span></div><div class=\"children hor wrap \"><div class=\"contnr c0 trm   \" ><div class=\"lbl c0 trm \" ><span class=\"txtu\"><span class=\" is_note\">en </span></span></div></div></div></div><div class=\"contnr c1    \" ><div class=\"lbl c1  \" ><span class=\"nd\">token </span></div><div class=\"children hor wrap \"><div class=\"contnr c0 trm   \" ><div class=\"lbl c0 trm \" ><span class=\"txtu\"><span class=\" is_note\">woensdag </span></span></div></div></div></div><div class=\"contnr c1    \" ><div class=\"lbl c1  \" ><span class=\"nd\">token </span></div><div class=\"children hor wrap \"><div class=\"contnr c0 trm   \" ><div class=\"lbl c0 trm \" ><span class=\"txtu\"><span class=\" is_note\">10 </span></span></div></div></div></div><div class=\"contnr c1    \" ><div class=\"lbl c1  \" ><span class=\"nd\">token </span></div><div class=\"children hor wrap \"><div class=\"contnr c0 trm   \" ><div class=\"lbl c0 trm \" ><span class=\"txtu\"><span class=\" is_note\">maart</span></span></div></div></div></div><div class=\"contnr c1    \" ><div class=\"lbl c1  \" ><span class=\"nd\">token </span></div><div class=\"children hor wrap \"><div class=\"contnr c0 trm   \" ><div class=\"lbl c0 trm \" ><span class=\"txtu\"><span class=\" is_note\">. </span></span></div></div></div></div></div></div><div class=\"contnr c2    \" ><div class=\"lbl c2  \" ><span class=\"nd\">sentence </span></div><div class=\"children hor wrap \"><div class=\"contnr c1    \" ><div class=\"lbl c1  \" ><span class=\"nd\">token </span></div><div class=\"children hor wrap \"><div class=\"contnr c0 trm   \" ><div class=\"lbl c0 trm \" ><span class=\"txtu\"><span class=\" is_note\">Het </span></span></div></div></div></div><div class=\"contnr c1    \" ><div class=\"lbl c1  \" ><span class=\"nd\">token </span></div><div class=\"children hor wrap \"><div class=\"contnr c0 trm   \" ><div class=\"lbl c0 trm \" ><span class=\"txtu\"><span class=\" is_note\">is </span></span></div></div></div></div><div class=\"contnr c1    \" ><div class=\"lbl c1  \" ><span class=\"nd\">token </span></div><div class=\"children hor wrap \"><div class=\"contnr c0 trm   \" ><div class=\"lbl c0 trm \" ><span class=\"txtu\"><span class=\" is_note\">niet </span></span></div></div></div></div><div class=\"contnr c1    \" ><div class=\"lbl c1  \" ><span class=\"nd\">token </span></div><div class=\"children hor wrap \"><div class=\"contnr c0 trm   \" ><div class=\"lbl c0 trm \" ><span class=\"txtu\"><span class=\" is_note\">bekend </span></span></div></div></div></div><div class=\"contnr c1    \" ><div class=\"lbl c1  \" ><span class=\"nd\">token </span></div><div class=\"children hor wrap \"><div class=\"contnr c0 trm   \" ><div class=\"lbl c0 trm \" ><span class=\"txtu\"><span class=\" is_note\">voor </span></span></div></div></div></div><div class=\"contnr c1    \" ><div class=\"lbl c1  \" ><span class=\"nd\">token </span></div><div class=\"children hor wrap \"><div class=\"contnr c0 trm   \" ><div class=\"lbl c0 trm \" ><span class=\"txtu\"><span class=\" is_note\">welke </span></span></div></div></div></div><div class=\"contnr c1    \" ><div class=\"lbl c1  \" ><span class=\"nd\">token </span></div><div class=\"children hor wrap \"><div class=\"contnr c0 trm   \" ><div class=\"lbl c0 trm \" ><span class=\"txtu\"><span class=\" is_note\">van </span></span></div></div></div></div><div class=\"contnr c1    \" ><div class=\"lbl c1  \" ><span class=\"nd\">token </span></div><div class=\"children hor wrap \"><div class=\"contnr c0 trm   \" ><div class=\"lbl c0 trm \" ><span class=\"txtu\"><span class=\" is_note\">deze </span></span></div></div></div></div><div class=\"contnr c1    \" ><div class=\"lbl c1  \" ><span class=\"nd\">token </span></div><div class=\"children hor wrap \"><div class=\"contnr c0 trm   \" ><div class=\"lbl c0 trm \" ><span class=\"txtu\"><span class=\" is_note\">concerten </span></span></div></div></div></div><div class=\"contnr c1    \" ><div class=\"lbl c1  \" ><span class=\"nd\">token </span></div><div class=\"children hor wrap \"><div class=\"contnr c0 trm   \" ><div class=\"lbl c0 trm \" ><span class=\"txtu\"><span class=\" is_note\">Mondriaan </span></span></div></div></div></div><div class=\"contnr c1    \" ><div class=\"lbl c1  \" ><span class=\"nd\">token </span></div><div class=\"children hor wrap \"><div class=\"contnr c0 trm   \" ><div class=\"lbl c0 trm \" ><span class=\"txtu\"><span class=\" is_note\">kaarten </span></span></div></div></div></div><div class=\"contnr c1    \" ><div class=\"lbl c1  \" ><span class=\"nd\">token </span></div><div class=\"children hor wrap \"><div class=\"contnr c0 trm   \" ><div class=\"lbl c0 trm \" ><span class=\"txtu\"><span class=\" is_note\">had</span></span></div></div></div></div><div class=\"contnr c1    \" ><div class=\"lbl c1  \" ><span class=\"nd\">token </span></div><div class=\"children hor wrap \"><div class=\"contnr c0 trm   \" ><div class=\"lbl c0 trm \" ><span class=\"txtu\"><span class=\" is_note\">.</span></span></div></div></div></div></div></div><div class=\"contnr c1    \" ><div class=\"lbl c1  \" ><span class=\"nd\">token </span></div><div class=\"children hor wrap \"><div class=\"contnr c0 trm   \" ><div class=\"lbl c0 trm \" ><span class=\"txtu\"><span class=\" is_note\"><br></span></span></div></div></div></div></div></div></div></div></div></div></div></div><div class=\"contnr c3   lno \" ><div class=\"lbl c3  \" ><span class=\"nd\">chunk </span></div><div class=\"children hor wrap \"><div class=\"contnr c0 trm   \" ><div class=\"lbl c0 trm \" ><span class=\"txtu\"><br></span></div></div></div></div></div></div></div>"
      ],
      "text/plain": [
       "<IPython.core.display.HTML object>"
      ]
     },
     "metadata": {},
     "output_type": "display_data"
    }
   ],
   "source": [
    "A.pretty(F.otype.s(\"letter\")[0], full=True, withNodes=False)"
   ]
  },
  {
   "cell_type": "markdown",
   "id": "f13c7fc2-71a9-45af-b2f9-8d7610f2b28c",
   "metadata": {},
   "source": [
    "## Pages"
   ]
  },
  {
   "cell_type": "code",
   "execution_count": 54,
   "id": "0289f8c1-49e8-457a-a1ab-3fd4f6ec306b",
   "metadata": {
    "tags": []
   },
   "outputs": [
    {
     "name": "stdout",
     "output_type": "stream",
     "text": [
      "  0.00s 51 results\n"
     ]
    },
    {
     "data": {
      "text/html": [
       "<p><b>result</b> <i>1</i>"
      ],
      "text/plain": [
       "<IPython.core.display.HTML object>"
      ]
     },
     "metadata": {},
     "output_type": "display_data"
    },
    {
     "data": {
      "text/html": [
       "<div class=\"tfsechead \"><span class=\"ltr\"><a target=\"_blank\" href=\"https://public.annotation.org/mondriaan/proeftuin/19090216y_IONG_1303/5&amp;version=0.8.13\" title=\"Show this on the website\" sec=\"proeftuin@19090216y_IONG_1303:5\">proeftuin@19090216y_IONG_1303:5</a></span></div><div class=\" children\"><div class=\"contnr c2 trm   \" ><div class=\"lbl c2 trm \" ><span class=\"nd\">page </span></div></div></div>"
      ],
      "text/plain": [
       "<IPython.core.display.HTML object>"
      ]
     },
     "metadata": {},
     "output_type": "display_data"
    },
    {
     "data": {
      "text/html": [
       "<p><b>result</b> <i>2</i>"
      ],
      "text/plain": [
       "<IPython.core.display.HTML object>"
      ]
     },
     "metadata": {},
     "output_type": "display_data"
    },
    {
     "data": {
      "text/html": [
       "<div class=\"tfsechead \"><span class=\"ltr\"><a target=\"_blank\" href=\"https://public.annotation.org/mondriaan/proeftuin/19090216y_IONG_1303/6&amp;version=0.8.13\" title=\"Show this on the website\" sec=\"proeftuin@19090216y_IONG_1303:6\">proeftuin@19090216y_IONG_1303:6</a></span></div><div class=\" children\"><div class=\"contnr c2 trm   \" ><div class=\"lbl c2 trm \" ><span class=\"nd\">page </span></div></div></div>"
      ],
      "text/plain": [
       "<IPython.core.display.HTML object>"
      ]
     },
     "metadata": {},
     "output_type": "display_data"
    }
   ],
   "source": [
    "pages = A.search(\"\"\"\n",
    "page\n",
    "\"\"\")\n",
    "A.show(pages, end=2, full=False)"
   ]
  },
  {
   "cell_type": "markdown",
   "id": "bda96d75-e56a-46ed-836c-7233906ac0d8",
   "metadata": {},
   "source": [
    "## Check the extra features"
   ]
  },
  {
   "cell_type": "code",
   "execution_count": 55,
   "id": "9828f999-9d46-4a44-bf5e-7b82c2bf57fa",
   "metadata": {
    "tags": []
   },
   "outputs": [
    {
     "name": "stdout",
     "output_type": "stream",
     "text": [
      "artmondriaanref: tt: derived\n",
      "correspondent  : tt: derived\n",
      "country        : tt: derived\n",
      "exhibitionref  : tt: derived\n",
      "institution    : tt: derived\n",
      "letterid       : tt: derived\n",
      "location       : tt: derived\n",
      "msid           : tt: derived\n",
      "period         : tt: derived\n",
      "periodlong     : tt: derived\n",
      "personref      : tt: derived\n",
      "sender         : tt: derived\n"
     ]
    }
   ],
   "source": [
    "features = tuple(feat for feat in Fall() if Fs(feat).meta.get(\"conversionCode\", None) == \"tt\")\n",
    "\n",
    "for feat in features:\n",
    "    meta = Fs(feat).meta\n",
    "    print(f\"{feat:<15}: {meta['conversionCode']}: {meta['conversionMethod']}\")"
   ]
  },
  {
   "cell_type": "code",
   "execution_count": 56,
   "id": "056ac93f-681c-48fd-900c-ad750da841ad",
   "metadata": {},
   "outputs": [
    {
     "data": {
      "text/html": [
       "<div class=\"tfsechead \"><span class=\"ltr\"><a target=\"_blank\" href=\"https://public.annotation.org/mondriaan/proeftuin/19090216y_IONG_1303/1&amp;version=0.8.13\" title=\"Show this on the website\" sec=\"proeftuin@19090216y_IONG_1303:1\">proeftuin@19090216y_IONG_1303:1</a></span></div><div class=\" children\"><div class=\"contnr c2 trm   \" ><div class=\"lbl c2 trm \" ><span class=\"nd\">letter </span></div><div class=\"features\"><span class=\"correspondent xft\" ><span class=\"f\">correspondent=</span>Aletta de Iongh</span><span class=\"country xft\" ><span class=\"f\">country=</span>Nederland</span><span class=\"institution xft\" ><span class=\"f\">institution=</span>Kröller Müller Museum</span><span class=\"letterid xft\" ><span class=\"f\">letterid=</span>19090216y_IONG_1303</span><span class=\"location xft\" ><span class=\"f\">location=</span>Amsterdam</span><span class=\"msid xft\" ><span class=\"f\">msid=</span>KM 123.397</span><span class=\"period xft\" ><span class=\"f\">period=</span>1909-02-16</span><span class=\"periodlong xft\" ><span class=\"f\">periodlong=</span>dinsdag 16 februari, dinsdag 2 maart of dinsdag 9 maart 1909</span><span class=\"sender xft\" ><span class=\"f\">sender=</span>Piet Mondriaan</span></div></div></div>"
      ],
      "text/plain": [
       "<IPython.core.display.HTML object>"
      ]
     },
     "metadata": {},
     "output_type": "display_data"
    },
    {
     "data": {
      "text/html": [
       "<div class=\"tfsechead \"><span class=\"ltr\"><a target=\"_blank\" href=\"https://public.annotation.org/mondriaan/proeftuin/19090407y_IONG_1739/1&amp;version=0.8.13\" title=\"Show this on the website\" sec=\"proeftuin@19090407y_IONG_1739:1\">proeftuin@19090407y_IONG_1739:1</a></span></div><div class=\" children\"><div class=\"contnr c2 trm   \" ><div class=\"lbl c2 trm \" ><span class=\"nd\">letter </span></div><div class=\"features\"><span class=\"correspondent xft\" ><span class=\"f\">correspondent=</span>Aletta de Iongh</span><span class=\"country xft\" ><span class=\"f\">country=</span>Nederland</span><span class=\"institution xft\" ><span class=\"f\">institution=</span>Kröller Müller Museum</span><span class=\"letterid xft\" ><span class=\"f\">letterid=</span>19090407y_IONG_1739</span><span class=\"location xft\" ><span class=\"f\">location=</span>Amsterdam</span><span class=\"msid xft\" ><span class=\"f\">msid=</span>KM 122.574</span><span class=\"period xft\" ><span class=\"f\">period=</span>1909-04-07</span><span class=\"periodlong xft\" ><span class=\"f\">periodlong=</span>woensdag 7 april 1909</span><span class=\"sender xft\" ><span class=\"f\">sender=</span>Piet Mondriaan</span></div></div></div>"
      ],
      "text/plain": [
       "<IPython.core.display.HTML object>"
      ]
     },
     "metadata": {},
     "output_type": "display_data"
    },
    {
     "data": {
      "text/html": [
       "<div class=\"tfsechead \"><span class=\"ltr\"><a target=\"_blank\" href=\"https://public.annotation.org/mondriaan/proeftuin/19090421y_IONG_1304/1&amp;version=0.8.13\" title=\"Show this on the website\" sec=\"proeftuin@19090421y_IONG_1304:1\">proeftuin@19090421y_IONG_1304:1</a></span></div><div class=\" children\"><div class=\"contnr c2 trm   \" ><div class=\"lbl c2 trm \" ><span class=\"nd\">letter </span></div><div class=\"features\"><span class=\"correspondent xft\" ><span class=\"f\">correspondent=</span>Aletta de Iongh</span><span class=\"country xft\" ><span class=\"f\">country=</span>Nederland</span><span class=\"institution xft\" ><span class=\"f\">institution=</span>Kröller Müller Museum</span><span class=\"letterid xft\" ><span class=\"f\">letterid=</span>19090421y_IONG_1304</span><span class=\"location xft\" ><span class=\"f\">location=</span>Amsterdam[?]</span><span class=\"msid xft\" ><span class=\"f\">msid=</span>KM 120.999</span><span class=\"period xft\" ><span class=\"f\">period=</span>1909-04</span><span class=\"periodlong xft\" ><span class=\"f\">periodlong=</span>tussen maandag 19 en vrijdag 23 april 1909</span><span class=\"sender xft\" ><span class=\"f\">sender=</span>Piet Mondriaan</span></div></div></div>"
      ],
      "text/plain": [
       "<IPython.core.display.HTML object>"
      ]
     },
     "metadata": {},
     "output_type": "display_data"
    },
    {
     "data": {
      "text/html": [
       "<div class=\"tfsechead \"><span class=\"ltr\"><a target=\"_blank\" href=\"https://public.annotation.org/mondriaan/proeftuin/19090426y_IONG_1738/1&amp;version=0.8.13\" title=\"Show this on the website\" sec=\"proeftuin@19090426y_IONG_1738:1\">proeftuin@19090426y_IONG_1738:1</a></span></div><div class=\" children\"><div class=\"contnr c2 trm   \" ><div class=\"lbl c2 trm \" ><span class=\"nd\">letter </span></div><div class=\"features\"><span class=\"correspondent xft\" ><span class=\"f\">correspondent=</span>Aletta de Iongh</span><span class=\"country xft\" ><span class=\"f\">country=</span>Nederland</span><span class=\"institution xft\" ><span class=\"f\">institution=</span>Kröller Müller Museum</span><span class=\"letterid xft\" ><span class=\"f\">letterid=</span>19090426y_IONG_1738</span><span class=\"location xft\" ><span class=\"f\">location=</span>Amsterdam</span><span class=\"msid xft\" ><span class=\"f\">msid=</span>KM 118.535</span><span class=\"period xft\" ><span class=\"f\">period=</span>1909-04-26</span><span class=\"periodlong xft\" ><span class=\"f\">periodlong=</span>maandag 26 april 1909</span><span class=\"sender xft\" ><span class=\"f\">sender=</span>Piet Mondriaan</span></div></div></div>"
      ],
      "text/plain": [
       "<IPython.core.display.HTML object>"
      ]
     },
     "metadata": {},
     "output_type": "display_data"
    },
    {
     "data": {
      "text/html": [
       "<div class=\"tfsechead \"><span class=\"ltr\"><a target=\"_blank\" href=\"https://public.annotation.org/mondriaan/proeftuin/19090513y_IONG_1293/1&amp;version=0.8.13\" title=\"Show this on the website\" sec=\"proeftuin@19090513y_IONG_1293:1\">proeftuin@19090513y_IONG_1293:1</a></span></div><div class=\" children\"><div class=\"contnr c2 trm   \" ><div class=\"lbl c2 trm \" ><span class=\"nd\">letter </span></div><div class=\"features\"><span class=\"correspondent xft\" ><span class=\"f\">correspondent=</span>Aletta de Iongh</span><span class=\"country xft\" ><span class=\"f\">country=</span>Nederland</span><span class=\"institution xft\" ><span class=\"f\">institution=</span>Kröller Müller Museum</span><span class=\"letterid xft\" ><span class=\"f\">letterid=</span>19090513y_IONG_1293</span><span class=\"location xft\" ><span class=\"f\">location=</span>Amsterdam</span><span class=\"msid xft\" ><span class=\"f\">msid=</span>KM 121.570</span><span class=\"period xft\" ><span class=\"f\">period=</span>1909-05-13</span><span class=\"periodlong xft\" ><span class=\"f\">periodlong=</span>donderdag 13 mei 1909</span><span class=\"sender xft\" ><span class=\"f\">sender=</span>Piet Mondriaan</span></div></div></div>"
      ],
      "text/plain": [
       "<IPython.core.display.HTML object>"
      ]
     },
     "metadata": {},
     "output_type": "display_data"
    },
    {
     "data": {
      "text/html": [
       "<div class=\"tfsechead \"><span class=\"ltr\"><a target=\"_blank\" href=\"https://public.annotation.org/mondriaan/proeftuin/19090624_IONG_1294/1&amp;version=0.8.13\" title=\"Show this on the website\" sec=\"proeftuin@19090624_IONG_1294:1\">proeftuin@19090624_IONG_1294:1</a></span></div><div class=\" children\"><div class=\"contnr c2 trm   \" ><div class=\"lbl c2 trm \" ><span class=\"nd\">letter </span></div><div class=\"features\"><span class=\"correspondent xft\" ><span class=\"f\">correspondent=</span>Aletta de Iongh</span><span class=\"country xft\" ><span class=\"f\">country=</span>Nederland</span><span class=\"institution xft\" ><span class=\"f\">institution=</span>Kröller Müller Museum</span><span class=\"letterid xft\" ><span class=\"f\">letterid=</span>19090624_IONG_1294</span><span class=\"location xft\" ><span class=\"f\">location=</span>Amsterdam</span><span class=\"msid xft\" ><span class=\"f\">msid=</span>KM 114.029</span><span class=\"period xft\" ><span class=\"f\">period=</span>1909-06-24</span><span class=\"periodlong xft\" ><span class=\"f\">periodlong=</span>donderdag 24 juni 1909</span><span class=\"sender xft\" ><span class=\"f\">sender=</span>Piet Mondriaan</span></div></div></div>"
      ],
      "text/plain": [
       "<IPython.core.display.HTML object>"
      ]
     },
     "metadata": {},
     "output_type": "display_data"
    },
    {
     "data": {
      "text/html": [
       "<div class=\"tfsechead \"><span class=\"ltr\"><a target=\"_blank\" href=\"https://public.annotation.org/mondriaan/proeftuin/19090807y_IONG_1296/1&amp;version=0.8.13\" title=\"Show this on the website\" sec=\"proeftuin@19090807y_IONG_1296:1\">proeftuin@19090807y_IONG_1296:1</a></span></div><div class=\" children\"><div class=\"contnr c2 trm   \" ><div class=\"lbl c2 trm \" ><span class=\"nd\">letter </span></div><div class=\"features\"><span class=\"correspondent xft\" ><span class=\"f\">correspondent=</span>Aletta de Iongh</span><span class=\"country xft\" ><span class=\"f\">country=</span>Nederland</span><span class=\"institution xft\" ><span class=\"f\">institution=</span>Kröller Müller Museum</span><span class=\"letterid xft\" ><span class=\"f\">letterid=</span>19090807y_IONG_1296</span><span class=\"location xft\" ><span class=\"f\">location=</span>Amsterdam</span><span class=\"msid xft\" ><span class=\"f\">msid=</span>KM 115.637</span><span class=\"period xft\" ><span class=\"f\">period=</span>1909-08</span><span class=\"periodlong xft\" ><span class=\"f\">periodlong=</span>eerste helft augustus 1909</span><span class=\"sender xft\" ><span class=\"f\">sender=</span>Piet Mondriaan</span></div></div></div>"
      ],
      "text/plain": [
       "<IPython.core.display.HTML object>"
      ]
     },
     "metadata": {},
     "output_type": "display_data"
    },
    {
     "data": {
      "text/html": [
       "<div class=\"tfsechead \"><span class=\"ltr\"><a target=\"_blank\" href=\"https://public.annotation.org/mondriaan/proeftuin/19090824y_KNAP_1747/1&amp;version=0.8.13\" title=\"Show this on the website\" sec=\"proeftuin@19090824y_KNAP_1747:1\">proeftuin@19090824y_KNAP_1747:1</a></span></div><div class=\" children\"><div class=\"contnr c2 trm   \" ><div class=\"lbl c2 trm \" ><span class=\"nd\">letter </span></div><div class=\"features\"><span class=\"correspondent xft\" ><span class=\"f\">correspondent=</span>Gerrit Willem Knap</span><span class=\"country xft\" ><span class=\"f\">country=</span>Nederland</span><span class=\"institution xft\" ><span class=\"f\">institution=</span>-</span><span class=\"letterid xft\" ><span class=\"f\">letterid=</span>19090824y_KNAP_1747</span><span class=\"location xft\" ><span class=\"f\">location=</span>Zoutelande</span><span class=\"msid xft\" ><span class=\"f\">msid=</span>Privécollectie Chris Smeenk</span><span class=\"period xft\" ><span class=\"f\">period=</span>1909-08-24</span><span class=\"periodlong xft\" ><span class=\"f\">periodlong=</span>c. dinsdag 24 augustus 1909</span><span class=\"sender xft\" ><span class=\"f\">sender=</span>Piet Mondriaan</span></div></div></div>"
      ],
      "text/plain": [
       "<IPython.core.display.HTML object>"
      ]
     },
     "metadata": {},
     "output_type": "display_data"
    },
    {
     "data": {
      "text/html": [
       "<div class=\"tfsechead \"><span class=\"ltr\"><a target=\"_blank\" href=\"https://public.annotation.org/mondriaan/proeftuin/19090905y_IONG_1295/1&amp;version=0.8.13\" title=\"Show this on the website\" sec=\"proeftuin@19090905y_IONG_1295:1\">proeftuin@19090905y_IONG_1295:1</a></span></div><div class=\" children\"><div class=\"contnr c2 trm   \" ><div class=\"lbl c2 trm \" ><span class=\"nd\">letter </span></div><div class=\"features\"><span class=\"correspondent xft\" ><span class=\"f\">correspondent=</span>Aletta de Iongh</span><span class=\"country xft\" ><span class=\"f\">country=</span>Nederland</span><span class=\"institution xft\" ><span class=\"f\">institution=</span>Kröller Müller Museum</span><span class=\"letterid xft\" ><span class=\"f\">letterid=</span>19090905y_IONG_1295</span><span class=\"location xft\" ><span class=\"f\">location=</span>Domburg</span><span class=\"msid xft\" ><span class=\"f\">msid=</span>KM 117.523</span><span class=\"period xft\" ><span class=\"f\">period=</span>1909-09</span><span class=\"periodlong xft\" ><span class=\"f\">periodlong=</span>begin september 1909</span><span class=\"sender xft\" ><span class=\"f\">sender=</span>Piet Mondriaan</span></div></div></div>"
      ],
      "text/plain": [
       "<IPython.core.display.HTML object>"
      ]
     },
     "metadata": {},
     "output_type": "display_data"
    },
    {
     "data": {
      "text/html": [
       "<div class=\"tfsechead \"><span class=\"ltr\"><a target=\"_blank\" href=\"https://public.annotation.org/mondriaan/proeftuin/190909XX_QUER_1654/1&amp;version=0.8.13\" title=\"Show this on the website\" sec=\"proeftuin@190909XX_QUER_1654:1\">proeftuin@190909XX_QUER_1654:1</a></span></div><div class=\" children\"><div class=\"contnr c2 trm   \" ><div class=\"lbl c2 trm \" ><span class=\"nd\">letter </span></div><div class=\"features\"><span class=\"correspondent xft\" ><span class=\"f\">correspondent=</span>Israël Querido</span><span class=\"country xft\" ><span class=\"f\">country=</span>-</span><span class=\"institution xft\" ><span class=\"f\">institution=</span>-</span><span class=\"letterid xft\" ><span class=\"f\">letterid=</span>190909XX_QUER_1654</span><span class=\"location xft\" ><span class=\"f\">location=</span>Domburg</span><span class=\"msid xft\" ><span class=\"f\">msid=</span>Publicatie; zie \"pubhistory\"</span><span class=\"period xft\" ><span class=\"f\">period=</span>1909-09</span><span class=\"periodlong xft\" ><span class=\"f\">periodlong=</span>september 1909</span><span class=\"sender xft\" ><span class=\"f\">sender=</span>Piet Mondriaan</span></div></div></div>"
      ],
      "text/plain": [
       "<IPython.core.display.HTML object>"
      ]
     },
     "metadata": {},
     "output_type": "display_data"
    },
    {
     "data": {
      "text/html": [
       "<div class=\"tfsechead \"><span class=\"ltr\"><a target=\"_blank\" href=\"https://public.annotation.org/mondriaan/proeftuin/19091024_SPOO_0016/1&amp;version=0.8.13\" title=\"Show this on the website\" sec=\"proeftuin@19091024_SPOO_0016:1\">proeftuin@19091024_SPOO_0016:1</a></span></div><div class=\" children\"><div class=\"contnr c2 trm   \" ><div class=\"lbl c2 trm \" ><span class=\"nd\">letter </span></div><div class=\"features\"><span class=\"correspondent xft\" ><span class=\"f\">correspondent=</span>Cornelis Spoor</span><span class=\"country xft\" ><span class=\"f\">country=</span>Onbekend</span><span class=\"institution xft\" ><span class=\"f\">institution=</span>Onbekend</span><span class=\"letterid xft\" ><span class=\"f\">letterid=</span>19091024_SPOO_0016</span><span class=\"location xft\" ><span class=\"f\">location=</span>Amsterdam</span><span class=\"msid xft\" ><span class=\"f\">msid=</span>Onbekend</span><span class=\"period xft\" ><span class=\"f\">period=</span>1909-10-24</span><span class=\"periodlong xft\" ><span class=\"f\">periodlong=</span>zondag 24 oktober 1909</span><span class=\"sender xft\" ><span class=\"f\">sender=</span>Piet Mondriaan</span></div></div></div>"
      ],
      "text/plain": [
       "<IPython.core.display.HTML object>"
      ]
     },
     "metadata": {},
     "output_type": "display_data"
    },
    {
     "data": {
      "text/html": [
       "<div class=\"tfsechead \"><span class=\"ltr\"><a target=\"_blank\" href=\"https://public.annotation.org/mondriaan/proeftuin/19091024y_IONG_1297/1&amp;version=0.8.13\" title=\"Show this on the website\" sec=\"proeftuin@19091024y_IONG_1297:1\">proeftuin@19091024y_IONG_1297:1</a></span></div><div class=\" children\"><div class=\"contnr c2 trm   \" ><div class=\"lbl c2 trm \" ><span class=\"nd\">letter </span></div><div class=\"features\"><span class=\"correspondent xft\" ><span class=\"f\">correspondent=</span>Aletta de Iongh</span><span class=\"country xft\" ><span class=\"f\">country=</span>Nederland</span><span class=\"institution xft\" ><span class=\"f\">institution=</span>Kröller Müller Museum</span><span class=\"letterid xft\" ><span class=\"f\">letterid=</span>19091024y_IONG_1297</span><span class=\"location xft\" ><span class=\"f\">location=</span>Amsterdam</span><span class=\"msid xft\" ><span class=\"f\">msid=</span>KM 122.825</span><span class=\"period xft\" ><span class=\"f\">period=</span>1909-10-24</span><span class=\"periodlong xft\" ><span class=\"f\">periodlong=</span>tussen 18 en 31 oktober 1909</span><span class=\"sender xft\" ><span class=\"f\">sender=</span>Piet Mondriaan</span></div></div></div>"
      ],
      "text/plain": [
       "<IPython.core.display.HTML object>"
      ]
     },
     "metadata": {},
     "output_type": "display_data"
    },
    {
     "data": {
      "text/html": [
       "<div class=\"tfsechead \"><span class=\"ltr\"><a target=\"_blank\" href=\"https://public.annotation.org/mondriaan/proeftuin/19091025y_IONG_1298/1&amp;version=0.8.13\" title=\"Show this on the website\" sec=\"proeftuin@19091025y_IONG_1298:1\">proeftuin@19091025y_IONG_1298:1</a></span></div><div class=\" children\"><div class=\"contnr c2 trm   \" ><div class=\"lbl c2 trm \" ><span class=\"nd\">letter </span></div><div class=\"features\"><span class=\"correspondent xft\" ><span class=\"f\">correspondent=</span>Aletta de Iongh</span><span class=\"country xft\" ><span class=\"f\">country=</span>Nederland</span><span class=\"institution xft\" ><span class=\"f\">institution=</span>Kröller Müller Museum</span><span class=\"letterid xft\" ><span class=\"f\">letterid=</span>19091025y_IONG_1298</span><span class=\"location xft\" ><span class=\"f\">location=</span>Amsterdam[?]</span><span class=\"msid xft\" ><span class=\"f\">msid=</span>KM 113.571</span><span class=\"period xft\" ><span class=\"f\">period=</span>1909-10</span><span class=\"periodlong xft\" ><span class=\"f\">periodlong=</span>tussen dinsdag 19 oktober en c. woensdag 3 november 1909</span><span class=\"sender xft\" ><span class=\"f\">sender=</span>Piet Mondriaan</span></div></div></div>"
      ],
      "text/plain": [
       "<IPython.core.display.HTML object>"
      ]
     },
     "metadata": {},
     "output_type": "display_data"
    },
    {
     "data": {
      "text/html": [
       "<div class=\"tfsechead \"><span class=\"ltr\"><a target=\"_blank\" href=\"https://public.annotation.org/mondriaan/proeftuin/19100131_SAAL_ARNO_0018/1&amp;version=0.8.13\" title=\"Show this on the website\" sec=\"proeftuin@19100131_SAAL_ARNO_0018:1\">proeftuin@19100131_SAAL_ARNO_0018:1</a></span></div><div class=\" children\"><div class=\"contnr c2 trm   \" ><div class=\"lbl c2 trm \" ><span class=\"nd\">letter </span></div><div class=\"features\"><span class=\"correspondent xft\" ><span class=\"f\">correspondent=</span>Arnold Saalborn</span><span class=\"country xft\" ><span class=\"f\">country=</span>Nederland</span><span class=\"institution xft\" ><span class=\"f\">institution=</span>RKD – Nederlands Instituut voor Kunstgeschiedenis</span><span class=\"letterid xft\" ><span class=\"f\">letterid=</span>19100131_SAAL_ARNO_0018</span><span class=\"location xft\" ><span class=\"f\">location=</span>Amsterdam</span><span class=\"msid xft\" ><span class=\"f\">msid=</span>Archief van de werkgroep Mondriaan correspondentieproject (0613) inv.nr. 71</span><span class=\"period xft\" ><span class=\"f\">period=</span>1910-01-31</span><span class=\"periodlong xft\" ><span class=\"f\">periodlong=</span>maandag 31 januari 1910</span><span class=\"sender xft\" ><span class=\"f\">sender=</span>Piet Mondriaan</span></div></div></div>"
      ],
      "text/plain": [
       "<IPython.core.display.HTML object>"
      ]
     },
     "metadata": {},
     "output_type": "display_data"
    }
   ],
   "source": [
    "for letter in F.otype.s(\"letter\"):\n",
    "    A.pretty(letter, extraFeatures=features)"
   ]
  },
  {
   "cell_type": "code",
   "execution_count": 57,
   "id": "29f2b51e-837e-4e09-98ef-6252b964e262",
   "metadata": {
    "tags": []
   },
   "outputs": [
    {
     "data": {
      "text/markdown": [
       "### personref with 121 items\n",
       "\n"
      ],
      "text/plain": [
       "<IPython.core.display.Markdown object>"
      ]
     },
     "metadata": {},
     "output_type": "display_data"
    },
    {
     "data": {
      "text/html": [
       "<div class=\"tfsechead \"><span class=\"ltr\"><a target=\"_blank\" href=\"https://public.annotation.org/mondriaan/proeftuin/19090216y_IONG_1303/1&amp;version=0.8.13\" title=\"Show this on the website\" sec=\"proeftuin@19090216y_IONG_1303:1\">proeftuin@19090216y_IONG_1303:1</a></span></div><div class=\" children\"><div class=\"contnr c1    \" ><div class=\"lbl c1  \" ><span class=\"nd\">rs </span></div><div class=\"features\"><span class=\"personref xft\" ><span class=\"f\">personref=</span>bio.xml#iongh_aletta_de</span><span class=\"ref xft\" ><span class=\"f\">ref=</span>bio.xml#iongh_aletta_de</span></div><div class=\"children hor wrap \"><div class=\"contnr c1    \" ><div class=\"lbl c1  \" ><span class=\"nd\">token </span></div><div class=\"children hor wrap \"><div class=\"contnr c0 trm   \" ><div class=\"lbl c0 trm \" ><span class=\"txtu\"><span class=\" is_meta\">Aletta </span></span></div></div></div></div><div class=\"contnr c1    \" ><div class=\"lbl c1  \" ><span class=\"nd\">token </span></div><div class=\"children hor wrap \"><div class=\"contnr c0 trm   \" ><div class=\"lbl c0 trm \" ><span class=\"txtu\"><span class=\" is_meta\">de </span></span></div></div></div></div><div class=\"contnr c1    \" ><div class=\"lbl c1  \" ><span class=\"nd\">token </span></div><div class=\"children hor wrap \"><div class=\"contnr c0 trm   \" ><div class=\"lbl c0 trm \" ><span class=\"txtu\"><span class=\" is_meta\">Iongh</span></span></div></div></div></div></div></div></div>"
      ],
      "text/plain": [
       "<IPython.core.display.HTML object>"
      ]
     },
     "metadata": {},
     "output_type": "display_data"
    },
    {
     "data": {
      "text/html": [
       "<div class=\"tfsechead \"><span class=\"ltr\"><a target=\"_blank\" href=\"https://public.annotation.org/mondriaan/proeftuin/19090216y_IONG_1303/5&amp;version=0.8.13\" title=\"Show this on the website\" sec=\"proeftuin@19090216y_IONG_1303:5\">proeftuin@19090216y_IONG_1303:5</a></span></div><div class=\" children\"><div class=\"contnr c1    \" ><div class=\"lbl c1  \" ><span class=\"nd\">rs </span></div><div class=\"features\"><span class=\"personref xft\" ><span class=\"f\">personref=</span>bio.xml#buhlig_richard</span><span class=\"ref xft\" ><span class=\"f\">ref=</span>bio.xml#buhlig_richard</span></div><div class=\"children hor wrap \"><div class=\"contnr c1   r \" ><div class=\"lbl c1  \" ><span class=\"nd\">token </span></div><div class=\"children hor wrap \"><div class=\"contnr c0 trm   \" ><div class=\"lbl c0 trm \" ><span class=\"txtu\">Bu</span></div></div></div></div><div class=\"contnr c1    \" ><div class=\"lbl c1  \" ><span class=\"nd\">del </span></div><div class=\"children hor wrap \"><div class=\"contnr c1    \" ><div class=\"lbl c1  \" ><span class=\"nd\">token </span></div><div class=\"children hor wrap \"><div class=\"contnr c0 trm   \" ><div class=\"lbl c0 trm \" ><span class=\"txtu\">l</span></div></div></div></div></div></div><div class=\"contnr c1    \" ><div class=\"lbl c1  \" ><span class=\"nd\">add </span></div><div class=\"children hor wrap \"><div class=\"contnr c1   l rno \" ><div class=\"lbl c1  \" ><span class=\"nd\">token </span></div><div class=\"children hor wrap \"><div class=\"contnr c0 trm   \" ><div class=\"lbl c0 trm \" ><span class=\"txtu\">h</span></div></div></div></div></div></div><div class=\"contnr c1   lno \" ><div class=\"lbl c1  \" ><span class=\"nd\">token </span></div><div class=\"children hor wrap \"><div class=\"contnr c0 trm   \" ><div class=\"lbl c0 trm \" ><span class=\"txtu\">lig </span></div></div></div></div></div></div></div>"
      ],
      "text/plain": [
       "<IPython.core.display.HTML object>"
      ]
     },
     "metadata": {},
     "output_type": "display_data"
    },
    {
     "data": {
      "text/html": [
       "<div class=\"tfsechead \"><span class=\"ltr\"><a target=\"_blank\" href=\"https://public.annotation.org/mondriaan/proeftuin/19090216y_IONG_1303/6&amp;version=0.8.13\" title=\"Show this on the website\" sec=\"proeftuin@19090216y_IONG_1303:6\">proeftuin@19090216y_IONG_1303:6</a></span></div><div class=\" children\"><div class=\"contnr c1    \" ><div class=\"lbl c1  \" ><span class=\"nd\">rs </span></div><div class=\"features\"><span class=\"personref xft\" ><span class=\"f\">personref=</span>bio.xml#buhlig_richard</span><span class=\"ref xft\" ><span class=\"f\">ref=</span>bio.xml#buhlig_richard</span></div><div class=\"children hor wrap \"><div class=\"contnr c1    \" ><div class=\"lbl c1  \" ><span class=\"nd\">token </span></div><div class=\"children hor wrap \"><div class=\"contnr c0 trm   \" ><div class=\"lbl c0 trm \" ><span class=\"txtu\">Buhlig </span></div></div></div></div></div></div></div>"
      ],
      "text/plain": [
       "<IPython.core.display.HTML object>"
      ]
     },
     "metadata": {},
     "output_type": "display_data"
    },
    {
     "data": {
      "text/html": [
       "<div class=\"tfsechead \"><span class=\"ltr\"><a target=\"_blank\" href=\"https://public.annotation.org/mondriaan/proeftuin/19090216y_IONG_1303/7&amp;version=0.8.13\" title=\"Show this on the website\" sec=\"proeftuin@19090216y_IONG_1303:7\">proeftuin@19090216y_IONG_1303:7</a></span></div><div class=\" children\"><div class=\"contnr c1    \" ><div class=\"lbl c1  \" ><span class=\"nd\">rs </span></div><div class=\"features\"><span class=\"personref xft\" ><span class=\"f\">personref=</span>bio.xml#buhlig_richard</span><span class=\"ref xft\" ><span class=\"f\">ref=</span>bio.xml#buhlig_richard</span></div><div class=\"children hor wrap \"><div class=\"contnr c1    \" ><div class=\"lbl c1  \" ><span class=\"nd\">token </span></div><div class=\"children hor wrap \"><div class=\"contnr c0 trm   \" ><div class=\"lbl c0 trm \" ><span class=\"txtu\"><span class=\" is_note\">Richard </span></span></div></div></div></div><div class=\"contnr c1    \" ><div class=\"lbl c1  \" ><span class=\"nd\">token </span></div><div class=\"children hor wrap \"><div class=\"contnr c0 trm   \" ><div class=\"lbl c0 trm \" ><span class=\"txtu\"><span class=\" is_note\">Buhlig</span></span></div></div></div></div></div></div></div>"
      ],
      "text/plain": [
       "<IPython.core.display.HTML object>"
      ]
     },
     "metadata": {},
     "output_type": "display_data"
    },
    {
     "data": {
      "text/html": [
       "<div class=\"tfsechead \"><span class=\"ltr\"><a target=\"_blank\" href=\"https://public.annotation.org/mondriaan/proeftuin/19090216y_IONG_1303/7&amp;version=0.8.13\" title=\"Show this on the website\" sec=\"proeftuin@19090216y_IONG_1303:7\">proeftuin@19090216y_IONG_1303:7</a></span></div><div class=\" children\"><div class=\"contnr c1    \" ><div class=\"lbl c1  \" ><span class=\"nd\">rs </span></div><div class=\"features\"><span class=\"personref xft\" ><span class=\"f\">personref=</span>bio.xml#iongh_aletta_de</span><span class=\"ref xft\" ><span class=\"f\">ref=</span>bio.xml#iongh_aletta_de</span></div><div class=\"children hor wrap \"><div class=\"contnr c1    \" ><div class=\"lbl c1  \" ><span class=\"nd\">token </span></div><div class=\"children hor wrap \"><div class=\"contnr c0 trm   \" ><div class=\"lbl c0 trm \" ><span class=\"txtu\"><span class=\" is_note\">Aletta</span></span></div></div></div></div></div></div></div>"
      ],
      "text/plain": [
       "<IPython.core.display.HTML object>"
      ]
     },
     "metadata": {},
     "output_type": "display_data"
    },
    {
     "data": {
      "text/markdown": [
       "### artmondriaanref with 20 items\n",
       "\n"
      ],
      "text/plain": [
       "<IPython.core.display.Markdown object>"
      ]
     },
     "metadata": {},
     "output_type": "display_data"
    },
    {
     "data": {
      "text/html": [
       "<div class=\"tfsechead \"><span class=\"ltr\"><a target=\"_blank\" href=\"https://public.annotation.org/mondriaan/proeftuin/19090421y_IONG_1304/5&amp;version=0.8.13\" title=\"Show this on the website\" sec=\"proeftuin@19090421y_IONG_1304:5\">proeftuin@19090421y_IONG_1304:5</a></span></div><div class=\" children\"><div class=\"contnr c1    \" ><div class=\"lbl c1  \" ><span class=\"nd\">rs </span></div><div class=\"features\"><span class=\"artmondriaanref xft\" ><span class=\"f\">artmondriaanref=</span></span></div><div class=\"children hor wrap \"><div class=\"contnr c1    \" ><div class=\"lbl c1  \" ><span class=\"nd\">token </span></div><div class=\"children hor wrap \"><div class=\"contnr c0 trm   \" ><div class=\"lbl c0 trm \" ><span class=\"txtu\">de </span></div></div></div></div><div class=\"contnr c1    \" ><div class=\"lbl c1  \" ><span class=\"nd\">token </span></div><div class=\"children hor wrap \"><div class=\"contnr c0 trm   \" ><div class=\"lbl c0 trm \" ><span class=\"txtu\">schetsen </span></div></div></div></div></div></div></div>"
      ],
      "text/plain": [
       "<IPython.core.display.HTML object>"
      ]
     },
     "metadata": {},
     "output_type": "display_data"
    },
    {
     "data": {
      "text/html": [
       "<div class=\"tfsechead \"><span class=\"ltr\"><a target=\"_blank\" href=\"https://public.annotation.org/mondriaan/proeftuin/19090421y_IONG_1304/7&amp;version=0.8.13\" title=\"Show this on the website\" sec=\"proeftuin@19090421y_IONG_1304:7\">proeftuin@19090421y_IONG_1304:7</a></span></div><div class=\" children\"><div class=\"contnr c1    \" ><div class=\"lbl c1  \" ><span class=\"nd\">rs </span></div><div class=\"features\"><span class=\"artmondriaanref xft\" ><span class=\"f\">artmondriaanref=</span></span><span class=\"ref xft\" ><span class=\"f\">ref=</span>artwork.xml#a277201</span></div><div><div class=\"graphic_set\"><div class=\"graphic_item\"><img src=\"illustrations/artwork-m-19590.jpg\" class=\"graphic_img\" /><span class=\"graphic_caption\">Piet Mondriaan, Leo Gestel, <i>Meisjeskop, 1910 Alkmaar, Stedelijk Museum Alkmaar, inv./cat.nr. [..]</i>. conté on papier. <a target=\"_blank\" href=\"https://rkd.nl/explore/images/277201\" title=\"visit this artwork on the RKD site\">RKD 277201►</a></span></div></div></div><div class=\"children hor wrap \"><div class=\"contnr c1    \" ><div class=\"lbl c1  \" ><span class=\"nd\">token </span></div><div class=\"children hor wrap \"><div class=\"contnr c0 trm   \" ><div class=\"lbl c0 trm \" ><span class=\"txtu\"><span class=\" is_note\">Meisjeskop</span></span></div></div></div></div></div></div></div>"
      ],
      "text/plain": [
       "<IPython.core.display.HTML object>"
      ]
     },
     "metadata": {},
     "output_type": "display_data"
    },
    {
     "data": {
      "text/html": [
       "<div class=\"tfsechead \"><span class=\"ltr\"><a target=\"_blank\" href=\"https://public.annotation.org/mondriaan/proeftuin/19090421y_IONG_1304/7&amp;version=0.8.13\" title=\"Show this on the website\" sec=\"proeftuin@19090421y_IONG_1304:7\">proeftuin@19090421y_IONG_1304:7</a></span></div><div class=\" children\"><div class=\"contnr c1    \" ><div class=\"lbl c1  \" ><span class=\"nd\">rs </span></div><div class=\"features\"><span class=\"artmondriaanref xft\" ><span class=\"f\">artmondriaanref=</span></span><span class=\"ref xft\" ><span class=\"f\">ref=</span>artwork.xml#a68554</span></div><div><div class=\"graphic_set\"><div class=\"graphic_item\"><img src=\"illustrations/artwork-m-19591.jpg\" class=\"graphic_img\" /><span class=\"graphic_caption\">Piet Mondriaan, <i>Female nude: bust portrait, ca. 1909-1911 Private collection</i>. houtskool, zwart krijt on papier. <a target=\"_blank\" href=\"https://rkd.nl/explore/images/68554\" title=\"visit this artwork on the RKD site\">RKD 68554►</a></span></div></div></div><div class=\"children hor wrap \"><div class=\"contnr c1    \" ><div class=\"lbl c1  \" ><span class=\"nd\">token </span></div><div class=\"children hor wrap \"><div class=\"contnr c0 trm   \" ><div class=\"lbl c0 trm \" ><span class=\"txtu\"><span class=\" is_note\">Female </span></span></div></div></div></div><div class=\"contnr c1    \" ><div class=\"lbl c1  \" ><span class=\"nd\">token </span></div><div class=\"children hor wrap \"><div class=\"contnr c0 trm   \" ><div class=\"lbl c0 trm \" ><span class=\"txtu\"><span class=\" is_note\">nude</span></span></div></div></div></div><div class=\"contnr c1    \" ><div class=\"lbl c1  \" ><span class=\"nd\">token </span></div><div class=\"children hor wrap \"><div class=\"contnr c0 trm   \" ><div class=\"lbl c0 trm \" ><span class=\"txtu\"><span class=\" is_note\">: </span></span></div></div></div></div><div class=\"contnr c1    \" ><div class=\"lbl c1  \" ><span class=\"nd\">token </span></div><div class=\"children hor wrap \"><div class=\"contnr c0 trm   \" ><div class=\"lbl c0 trm \" ><span class=\"txtu\"><span class=\" is_note\">bust </span></span></div></div></div></div><div class=\"contnr c1    \" ><div class=\"lbl c1  \" ><span class=\"nd\">token </span></div><div class=\"children hor wrap \"><div class=\"contnr c0 trm   \" ><div class=\"lbl c0 trm \" ><span class=\"txtu\"><span class=\" is_note\">portrait</span></span></div></div></div></div></div></div></div>"
      ],
      "text/plain": [
       "<IPython.core.display.HTML object>"
      ]
     },
     "metadata": {},
     "output_type": "display_data"
    },
    {
     "data": {
      "text/html": [
       "<div class=\"tfsechead \"><span class=\"ltr\"><a target=\"_blank\" href=\"https://public.annotation.org/mondriaan/proeftuin/19090421y_IONG_1304/7&amp;version=0.8.13\" title=\"Show this on the website\" sec=\"proeftuin@19090421y_IONG_1304:7\">proeftuin@19090421y_IONG_1304:7</a></span></div><div class=\" children\"><div class=\"contnr c1    \" ><div class=\"lbl c1  \" ><span class=\"nd\">rs </span></div><div class=\"features\"><span class=\"artmondriaanref xft\" ><span class=\"f\">artmondriaanref=</span></span><span class=\"ref xft\" ><span class=\"f\">ref=</span>artwork.xml#a277201</span></div><div><div class=\"graphic_set\"><div class=\"graphic_item\"><img src=\"illustrations/artwork-m-19597.jpg\" class=\"graphic_img\" /><span class=\"graphic_caption\">Piet Mondriaan, Leo Gestel, <i>Meisjeskop, 1910 Alkmaar, Stedelijk Museum Alkmaar, inv./cat.nr. [..]</i>. conté on papier. <a target=\"_blank\" href=\"https://rkd.nl/explore/images/277201\" title=\"visit this artwork on the RKD site\">RKD 277201►</a></span></div></div></div><div class=\"children hor wrap \"><div class=\"contnr c1    \" ><div class=\"lbl c1  \" ><span class=\"nd\">token </span></div><div class=\"children hor wrap \"><div class=\"contnr c0 trm   \" ><div class=\"lbl c0 trm \" ><span class=\"txtu\"><span class=\" is_note\">Meisjeskop</span></span></div></div></div></div></div></div></div>"
      ],
      "text/plain": [
       "<IPython.core.display.HTML object>"
      ]
     },
     "metadata": {},
     "output_type": "display_data"
    },
    {
     "data": {
      "text/html": [
       "<div class=\"tfsechead \"><span class=\"ltr\"><a target=\"_blank\" href=\"https://public.annotation.org/mondriaan/proeftuin/19090421y_IONG_1304/7&amp;version=0.8.13\" title=\"Show this on the website\" sec=\"proeftuin@19090421y_IONG_1304:7\">proeftuin@19090421y_IONG_1304:7</a></span></div><div class=\" children\"><div class=\"contnr c1    \" ><div class=\"lbl c1  \" ><span class=\"nd\">rs </span></div><div class=\"features\"><span class=\"artmondriaanref xft\" ><span class=\"f\">artmondriaanref=</span></span><span class=\"ref xft\" ><span class=\"f\">ref=</span>artwork.xml#a68554</span></div><div><div class=\"graphic_set\"><div class=\"graphic_item\"><img src=\"illustrations/artwork-m-19598.jpg\" class=\"graphic_img\" /><span class=\"graphic_caption\">Piet Mondriaan, <i>Female nude: bust portrait, ca. 1909-1911 Private collection</i>. houtskool, zwart krijt on papier. <a target=\"_blank\" href=\"https://rkd.nl/explore/images/68554\" title=\"visit this artwork on the RKD site\">RKD 68554►</a></span></div></div></div><div class=\"children hor wrap \"><div class=\"contnr c1    \" ><div class=\"lbl c1  \" ><span class=\"nd\">token </span></div><div class=\"children hor wrap \"><div class=\"contnr c0 trm   \" ><div class=\"lbl c0 trm \" ><span class=\"txtu\"><span class=\" is_note\">Female </span></span></div></div></div></div><div class=\"contnr c1    \" ><div class=\"lbl c1  \" ><span class=\"nd\">token </span></div><div class=\"children hor wrap \"><div class=\"contnr c0 trm   \" ><div class=\"lbl c0 trm \" ><span class=\"txtu\"><span class=\" is_note\">nude</span></span></div></div></div></div><div class=\"contnr c1    \" ><div class=\"lbl c1  \" ><span class=\"nd\">token </span></div><div class=\"children hor wrap \"><div class=\"contnr c0 trm   \" ><div class=\"lbl c0 trm \" ><span class=\"txtu\"><span class=\" is_note\">: </span></span></div></div></div></div><div class=\"contnr c1    \" ><div class=\"lbl c1  \" ><span class=\"nd\">token </span></div><div class=\"children hor wrap \"><div class=\"contnr c0 trm   \" ><div class=\"lbl c0 trm \" ><span class=\"txtu\"><span class=\" is_note\">bust </span></span></div></div></div></div><div class=\"contnr c1    \" ><div class=\"lbl c1  \" ><span class=\"nd\">token </span></div><div class=\"children hor wrap \"><div class=\"contnr c0 trm   \" ><div class=\"lbl c0 trm \" ><span class=\"txtu\"><span class=\" is_note\">portrait</span></span></div></div></div></div></div></div></div>"
      ],
      "text/plain": [
       "<IPython.core.display.HTML object>"
      ]
     },
     "metadata": {},
     "output_type": "display_data"
    },
    {
     "name": "stderr",
     "output_type": "stream",
     "text": [
      "  3.70s Node feature \"artref\" not loaded\n"
     ]
    },
    {
     "data": {
      "text/markdown": [
       "### artref with 0 items\n",
       "\n"
      ],
      "text/plain": [
       "<IPython.core.display.Markdown object>"
      ]
     },
     "metadata": {},
     "output_type": "display_data"
    },
    {
     "data": {
      "text/markdown": [
       "### exhibitionref with 16 items\n",
       "\n"
      ],
      "text/plain": [
       "<IPython.core.display.Markdown object>"
      ]
     },
     "metadata": {},
     "output_type": "display_data"
    },
    {
     "data": {
      "text/html": [
       "<div class=\"tfsechead \"><span class=\"ltr\"><a target=\"_blank\" href=\"https://public.annotation.org/mondriaan/proeftuin/19090407y_IONG_1739/7&amp;version=0.8.13\" title=\"Show this on the website\" sec=\"proeftuin@19090407y_IONG_1739:7\">proeftuin@19090407y_IONG_1739:7</a></span></div><div class=\" children\"><div class=\"contnr c1    \" ><div class=\"lbl c1  \" ><span class=\"nd\">rs </span></div><div class=\"features\"><span class=\"exhibitionref xft\" ><span class=\"f\">exhibitionref=</span></span><span class=\"ref xft\" ><span class=\"f\">ref=</span>expo.xml#sint_lucas_1909</span></div><div class=\"children hor wrap \"><div class=\"contnr c1    \" ><div class=\"lbl c1  \" ><span class=\"nd\">token </span></div><div class=\"children hor wrap \"><div class=\"contnr c0 trm   \" ><div class=\"lbl c0 trm \" ><span class=\"txtu\"><span class=\" is_note\">Sint </span></span></div></div></div></div><div class=\"contnr c1    \" ><div class=\"lbl c1  \" ><span class=\"nd\">token </span></div><div class=\"children hor wrap \"><div class=\"contnr c0 trm   \" ><div class=\"lbl c0 trm \" ><span class=\"txtu\"><span class=\" is_note\">Lucas</span></span></div></div></div></div><div class=\"contnr c1    \" ><div class=\"lbl c1  \" ><span class=\"nd\">token </span></div><div class=\"children hor wrap \"><div class=\"contnr c0 trm   \" ><div class=\"lbl c0 trm \" ><span class=\"txtu\"><span class=\" is_note\">-</span></span></div></div></div></div><div class=\"contnr c1    \" ><div class=\"lbl c1  \" ><span class=\"nd\">token </span></div><div class=\"children hor wrap \"><div class=\"contnr c0 trm   \" ><div class=\"lbl c0 trm \" ><span class=\"txtu\"><span class=\" is_note\">tentoonstelling</span></span></div></div></div></div></div></div></div>"
      ],
      "text/plain": [
       "<IPython.core.display.HTML object>"
      ]
     },
     "metadata": {},
     "output_type": "display_data"
    },
    {
     "data": {
      "text/html": [
       "<div class=\"tfsechead \"><span class=\"ltr\"><a target=\"_blank\" href=\"https://public.annotation.org/mondriaan/proeftuin/19090407y_IONG_1739/7&amp;version=0.8.13\" title=\"Show this on the website\" sec=\"proeftuin@19090407y_IONG_1739:7\">proeftuin@19090407y_IONG_1739:7</a></span></div><div class=\" children\"><div class=\"contnr c1    \" ><div class=\"lbl c1  \" ><span class=\"nd\">rs </span></div><div class=\"features\"><span class=\"exhibitionref xft\" ><span class=\"f\">exhibitionref=</span></span><span class=\"ref xft\" ><span class=\"f\">ref=</span>expo.xml#sint_lucas_1909</span></div><div class=\"children hor wrap \"><div class=\"contnr c1    \" ><div class=\"lbl c1  \" ><span class=\"nd\">token </span></div><div class=\"children hor wrap \"><div class=\"contnr c0 trm   \" ><div class=\"lbl c0 trm \" ><span class=\"txtu\"><span class=\" is_note\">Sint </span></span></div></div></div></div><div class=\"contnr c1    \" ><div class=\"lbl c1  \" ><span class=\"nd\">token </span></div><div class=\"children hor wrap \"><div class=\"contnr c0 trm   \" ><div class=\"lbl c0 trm \" ><span class=\"txtu\"><span class=\" is_note\">Lucas</span></span></div></div></div></div><div class=\"contnr c1    \" ><div class=\"lbl c1  \" ><span class=\"nd\">token </span></div><div class=\"children hor wrap \"><div class=\"contnr c0 trm   \" ><div class=\"lbl c0 trm \" ><span class=\"txtu\"><span class=\" is_note\">-</span></span></div></div></div></div><div class=\"contnr c1    \" ><div class=\"lbl c1  \" ><span class=\"nd\">token </span></div><div class=\"children hor wrap \"><div class=\"contnr c0 trm   \" ><div class=\"lbl c0 trm \" ><span class=\"txtu\"><span class=\" is_note\">tentoonstelling</span></span></div></div></div></div></div></div></div>"
      ],
      "text/plain": [
       "<IPython.core.display.HTML object>"
      ]
     },
     "metadata": {},
     "output_type": "display_data"
    },
    {
     "data": {
      "text/html": [
       "<div class=\"tfsechead \"><span class=\"ltr\"><a target=\"_blank\" href=\"https://public.annotation.org/mondriaan/proeftuin/19090513y_IONG_1293/5&amp;version=0.8.13\" title=\"Show this on the website\" sec=\"proeftuin@19090513y_IONG_1293:5\">proeftuin@19090513y_IONG_1293:5</a></span></div><div class=\" children\"><div class=\"contnr c1    \" ><div class=\"lbl c1  \" ><span class=\"nd\">rs </span></div><div class=\"features\"><span class=\"exhibitionref xft\" ><span class=\"f\">exhibitionref=</span></span><span class=\"ref xft\" ><span class=\"f\">ref=</span>expo.xml#sint_lucas_1909</span></div><div class=\"children hor wrap \"><div class=\"contnr c1    \" ><div class=\"lbl c1  \" ><span class=\"nd\">token </span></div><div class=\"children hor wrap \"><div class=\"contnr c0 trm   \" ><div class=\"lbl c0 trm \" ><span class=\"txtu\">S </span></div></div><div class=\"contnr c0 trm   \" ><div class=\"lbl c0 trm \" ><span class=\"txtu\"><span class=\"r_ \">t </span></span></div></div></div></div><div class=\"contnr c1    \" ><div class=\"lbl c1  \" ><span class=\"nd\">token </span></div><div class=\"children hor wrap \"><div class=\"contnr c0 trm   \" ><div class=\"lbl c0 trm \" ><span class=\"txtu\">Lucas </span></div></div></div></div></div></div></div>"
      ],
      "text/plain": [
       "<IPython.core.display.HTML object>"
      ]
     },
     "metadata": {},
     "output_type": "display_data"
    },
    {
     "data": {
      "text/html": [
       "<div class=\"tfsechead \"><span class=\"ltr\"><a target=\"_blank\" href=\"https://public.annotation.org/mondriaan/proeftuin/19090513y_IONG_1293/6&amp;version=0.8.13\" title=\"Show this on the website\" sec=\"proeftuin@19090513y_IONG_1293:6\">proeftuin@19090513y_IONG_1293:6</a></span></div><div class=\" children\"><div class=\"contnr c1    \" ><div class=\"lbl c1  \" ><span class=\"nd\">rs </span></div><div class=\"features\"><span class=\"exhibitionref xft\" ><span class=\"f\">exhibitionref=</span></span><span class=\"ref xft\" ><span class=\"f\">ref=</span>expo.xml#sint_lucas_1909</span></div><div class=\"children hor wrap \"><div class=\"contnr c1    \" ><div class=\"lbl c1  \" ><span class=\"nd\">token </span></div><div class=\"children hor wrap \"><div class=\"contnr c0 trm   \" ><div class=\"lbl c0 trm \" ><span class=\"txtu\">St </span></div></div></div></div><div class=\"contnr c1    \" ><div class=\"lbl c1  \" ><span class=\"nd\">token </span></div><div class=\"children hor wrap \"><div class=\"contnr c0 trm   \" ><div class=\"lbl c0 trm \" ><span class=\"txtu\">Lucas </span></div></div></div></div></div></div></div>"
      ],
      "text/plain": [
       "<IPython.core.display.HTML object>"
      ]
     },
     "metadata": {},
     "output_type": "display_data"
    },
    {
     "data": {
      "text/html": [
       "<div class=\"tfsechead \"><span class=\"ltr\"><a target=\"_blank\" href=\"https://public.annotation.org/mondriaan/proeftuin/19090513y_IONG_1293/7&amp;version=0.8.13\" title=\"Show this on the website\" sec=\"proeftuin@19090513y_IONG_1293:7\">proeftuin@19090513y_IONG_1293:7</a></span></div><div class=\" children\"><div class=\"contnr c1    \" ><div class=\"lbl c1  \" ><span class=\"nd\">rs </span></div><div class=\"features\"><span class=\"exhibitionref xft\" ><span class=\"f\">exhibitionref=</span></span><span class=\"ref xft\" ><span class=\"f\">ref=</span>expo.xml#sint_lucas_1909</span></div><div class=\"children hor wrap \"><div class=\"contnr c1    \" ><div class=\"lbl c1  \" ><span class=\"nd\">token </span></div><div class=\"children hor wrap \"><div class=\"contnr c0 trm   \" ><div class=\"lbl c0 trm \" ><span class=\"txtu\"><span class=\" is_note\">Jaarlijksche </span></span></div></div></div></div><div class=\"contnr c1    \" ><div class=\"lbl c1  \" ><span class=\"nd\">token </span></div><div class=\"children hor wrap \"><div class=\"contnr c0 trm   \" ><div class=\"lbl c0 trm \" ><span class=\"txtu\"><span class=\" is_note\">Tentoonstelling</span></span></div></div></div></div></div></div></div>"
      ],
      "text/plain": [
       "<IPython.core.display.HTML object>"
      ]
     },
     "metadata": {},
     "output_type": "display_data"
    }
   ],
   "source": [
    "for feature in (\"personref\", \"artmondriaanref\", \"artref\", \"exhibitionref\"):\n",
    "    fObj = Fs(feature)\n",
    "    if fObj:\n",
    "        items = list(fObj.items())\n",
    "        nItems = len(items)\n",
    "        dm(f\"### {feature} with {nItems} items\\n\\n\")\n",
    "        for (node, pref) in items[0:5]:\n",
    "            A.pretty(node, extraFeatures=f\"ref key {feature}\")\n",
    "    else:\n",
    "        dm(f\"### {feature} with 0 items\\n\\n\")\n",
    "        "
   ]
  },
  {
   "cell_type": "markdown",
   "id": "079111cc-fafd-4228-9451-5beec2c25362",
   "metadata": {},
   "source": [
    "## Overlapping `div` elements"
   ]
  },
  {
   "cell_type": "markdown",
   "id": "b089efca-1a7c-48e7-b548-df46d0a1144a",
   "metadata": {},
   "source": [
    "There are nested `div` elements\n",
    "Let's find them all.\n",
    "\n",
    "First the total amount of `div` elements:"
   ]
  },
  {
   "cell_type": "code",
   "execution_count": 58,
   "id": "eaa565fa-6ee8-4543-a680-18d8bd85e80f",
   "metadata": {},
   "outputs": [
    {
     "data": {
      "text/plain": [
       "31"
      ]
     },
     "execution_count": 58,
     "metadata": {},
     "output_type": "execute_result"
    }
   ],
   "source": [
    "len(F.otype.s(\"div\"))"
   ]
  },
  {
   "cell_type": "code",
   "execution_count": 59,
   "id": "5fa5f71f-ea61-431b-8b9a-35f7be0cd90a",
   "metadata": {},
   "outputs": [
    {
     "name": "stdout",
     "output_type": "stream",
     "text": [
      "  0.02s 0 results\n"
     ]
    }
   ],
   "source": [
    "query = \"\"\"\n",
    "d1:div\n",
    "&& d2:div\n",
    "\n",
    "d1 < d2\n",
    "\"\"\"\n",
    "\n",
    "resultsA = A.search(query)"
   ]
  },
  {
   "cell_type": "markdown",
   "id": "71080204-71db-4904-af67-615e990730f0",
   "metadata": {},
   "source": [
    "We can also find the `div` elements that are directly under another div by means of the `parent` edges:"
   ]
  },
  {
   "cell_type": "code",
   "execution_count": 60,
   "id": "c9125d1a-2acd-451e-87a4-7aade219c4fb",
   "metadata": {
    "tags": []
   },
   "outputs": [
    {
     "name": "stdout",
     "output_type": "stream",
     "text": [
      "  0.00s 0 results\n"
     ]
    }
   ],
   "source": [
    "query = \"\"\"\n",
    "div\n",
    "<parent- div\n",
    "\"\"\"\n",
    "\n",
    "resultsD = A.search(query)"
   ]
  },
  {
   "cell_type": "markdown",
   "id": "c457f45a-5654-434b-ad4b-7fd86fbae3a9",
   "metadata": {},
   "source": [
    "So some `div` elements are nested, but not directly below each other.\n",
    "\n",
    "Let's see which they are."
   ]
  },
  {
   "cell_type": "code",
   "execution_count": 61,
   "id": "c55191b6-aa08-4eff-93a8-b14da835d661",
   "metadata": {
    "tags": []
   },
   "outputs": [],
   "source": [
    "arbitrarily = set(resultsA)\n",
    "directly = set(resultsD)"
   ]
  },
  {
   "cell_type": "markdown",
   "id": "39578bc1-b292-4470-b75f-39f09a5a4c73",
   "metadata": {},
   "source": [
    "It is to be expected that the arbitrarily nested `div` elements are a superset of the directly nested `div` elements."
   ]
  },
  {
   "cell_type": "code",
   "execution_count": 62,
   "id": "72949dcb-fb4e-40e8-abcf-039bc548b899",
   "metadata": {
    "tags": []
   },
   "outputs": [
    {
     "data": {
      "text/plain": [
       "set()"
      ]
     },
     "execution_count": 62,
     "metadata": {},
     "output_type": "execute_result"
    }
   ],
   "source": [
    "directly - arbitrarily"
   ]
  },
  {
   "cell_type": "markdown",
   "id": "af0d4c52-dd71-47a0-a210-81d7b947bbd1",
   "metadata": {},
   "source": [
    "Now the other way round:"
   ]
  },
  {
   "cell_type": "code",
   "execution_count": 63,
   "id": "89d8d285-2984-4ad6-abb7-1e1ce0cc197c",
   "metadata": {
    "tags": []
   },
   "outputs": [
    {
     "data": {
      "text/plain": [
       "set()"
      ]
     },
     "execution_count": 63,
     "metadata": {},
     "output_type": "execute_result"
    }
   ],
   "source": [
    "results = arbitrarily - directly\n",
    "results"
   ]
  },
  {
   "cell_type": "code",
   "execution_count": 64,
   "id": "7d9e1d56-390d-4ce1-bc53-dda40700f6f4",
   "metadata": {},
   "outputs": [
    {
     "data": {
      "text/html": [
       "<table></table>"
      ],
      "text/plain": [
       "<IPython.core.display.HTML object>"
      ]
     },
     "metadata": {},
     "output_type": "display_data"
    }
   ],
   "source": [
    "A.table(sorted(results), end=2)"
   ]
  },
  {
   "cell_type": "code",
   "execution_count": 65,
   "id": "f7fc3fee-d9cb-40b9-b431-db5138ee72fa",
   "metadata": {
    "tags": []
   },
   "outputs": [
    {
     "name": "stdout",
     "output_type": "stream",
     "text": [
      "  0.00s 0 results\n"
     ]
    }
   ],
   "source": [
    "query = \"\"\"\n",
    "div\n",
    "<parent- div\n",
    "<parent- div\n",
    "\"\"\"\n",
    "results = A.search(query)"
   ]
  },
  {
   "cell_type": "code",
   "execution_count": 66,
   "id": "82ab3391-548b-4ee0-989a-2a0768c9f8c3",
   "metadata": {
    "tags": []
   },
   "outputs": [],
   "source": [
    "from textwrap import dedent"
   ]
  },
  {
   "cell_type": "code",
   "execution_count": 67,
   "id": "9b3e2df6-7bf7-4a77-8dd8-ea380501a67a",
   "metadata": {
    "tags": []
   },
   "outputs": [
    {
     "name": "stdout",
     "output_type": "stream",
     "text": [
      "div siblings at distance 1\n",
      "  0.00s 2 results\n",
      "div siblings at distance 2\n",
      "  0.00s 0 results\n",
      "div siblings at distance 3\n",
      "  0.00s 0 results\n",
      "div siblings at distance 4\n",
      "  0.00s 0 results\n"
     ]
    }
   ],
   "source": [
    "for i in range(1, 5):\n",
    "    query = dedent(\n",
    "        f\"\"\"\n",
    "        div\n",
    "        -sibling>{i}> div\n",
    "        \"\"\"\n",
    "    )\n",
    "\n",
    "    print(f\"div siblings at distance {i}\")\n",
    "    results = A.search(query)"
   ]
  },
  {
   "cell_type": "markdown",
   "id": "d10a9d6f-ae6e-42e8-b935-4265fcd2be68",
   "metadata": {},
   "source": [
    "### Notes"
   ]
  },
  {
   "cell_type": "code",
   "execution_count": 68,
   "id": "b0e5f47e-061d-49b8-bb26-e1f8bbd195b6",
   "metadata": {},
   "outputs": [
    {
     "data": {
      "text/markdown": [
       "### Note 1\n",
       "\n"
      ],
      "text/plain": [
       "<IPython.core.display.Markdown object>"
      ]
     },
     "metadata": {},
     "output_type": "display_data"
    },
    {
     "data": {
      "text/html": [
       "<div class=\"tfsechead \"><span class=\"ltr\"><a target=\"_blank\" href=\"https://public.annotation.org/mondriaan/proeftuin/19090216y_IONG_1303/7&amp;version=0.8.13\" title=\"Show this on the website\" sec=\"proeftuin@19090216y_IONG_1303:7\">proeftuin@19090216y_IONG_1303:7</a></span></div><div class=\" children\"><div class=\"contnr c2    \" ><div class=\"lbl c2  \" ><span class=\"nd\">note:18987 </span></div><div class=\"features\"><span class=\"sibling xft\" ><span class=\"e\" edge=\"sibling\" nd=\"18987\">sibling•</span>\n",
       "<span\n",
       "    ef=\"sibling\"\n",
       "    nd=\"18987\"\n",
       "    md=\"18986\"\n",
       "    arrow=\"left\"\n",
       "    class=\"etf\" \n",
       "><span class=\"nde\">18986</span><span class=\"etfx\">⇥</span>1</span>\n",
       "</span></div><div class=\"children hor wrap \"><div class=\"contnr c2    \" ><div class=\"lbl c2  \" ><span class=\"nd\">sentence:21254 </span></div><div class=\"children hor wrap \"><div class=\"contnr c1    \" ><div class=\"lbl c1  \" ><span class=\"nd\">token:34105 </span></div><div class=\"children hor wrap \"><div class=\"contnr c0 trm   \" ><div class=\"lbl c0 trm \" ><span class=\"nd\">380 </span> <span class=\"txtu\"><span class=\" is_note\">De </span></span></div></div></div></div><div class=\"contnr c1    \" ><div class=\"lbl c1  \" ><span class=\"nd\">token:34106 </span></div><div class=\"children hor wrap \"><div class=\"contnr c0 trm   \" ><div class=\"lbl c0 trm \" ><span class=\"nd\">381 </span> <span class=\"txtu\"><span class=\" is_note\">Amerikaanse </span></span></div></div></div></div><div class=\"contnr c1    \" ><div class=\"lbl c1  \" ><span class=\"nd\">token:34107 </span></div><div class=\"children hor wrap \"><div class=\"contnr c0 trm   \" ><div class=\"lbl c0 trm \" ><span class=\"nd\">382 </span> <span class=\"txtu\"><span class=\" is_note\">pianist </span></span></div></div></div></div><div class=\"contnr c1    \" ><div class=\"lbl c1  \" ><span class=\"nd\">rs:19562 </span></div><div class=\"children hor wrap \"><div class=\"contnr c1    \" ><div class=\"lbl c1  \" ><span class=\"nd\">token:34108 </span></div><div class=\"children hor wrap \"><div class=\"contnr c0 trm   \" ><div class=\"lbl c0 trm \" ><span class=\"nd\">383 </span> <span class=\"txtu\"><span class=\" is_note\">Richard </span></span></div></div></div></div><div class=\"contnr c1    \" ><div class=\"lbl c1  \" ><span class=\"nd\">token:34109 </span></div><div class=\"children hor wrap \"><div class=\"contnr c0 trm   \" ><div class=\"lbl c0 trm \" ><span class=\"nd\">384 </span> <span class=\"txtu\"><span class=\" is_note\">Moritz </span></span></div></div></div></div><div class=\"contnr c1    \" ><div class=\"lbl c1  \" ><span class=\"nd\">token:34110 </span></div><div class=\"children hor wrap \"><div class=\"contnr c0 trm   \" ><div class=\"lbl c0 trm \" ><span class=\"nd\">385 </span> <span class=\"txtu\"><span class=\" is_note\">Buhlig</span></span></div></div></div></div></div></div><div class=\"contnr c1    \" ><div class=\"lbl c1  \" ><span class=\"nd\">token:34111 </span></div><div class=\"children hor wrap \"><div class=\"contnr c0 trm   \" ><div class=\"lbl c0 trm \" ><span class=\"nd\">386 </span> <span class=\"txtu\"><span class=\" is_note\"> </span></span></div></div></div></div><div class=\"contnr c1    \" ><div class=\"lbl c1  \" ><span class=\"nd\">token:34112 </span></div><div class=\"children hor wrap \"><div class=\"contnr c0 trm   \" ><div class=\"lbl c0 trm \" ><span class=\"nd\">387 </span> <span class=\"txtu\"><span class=\" is_note\">(</span></span></div></div></div></div><div class=\"contnr c1    \" ><div class=\"lbl c1  \" ><span class=\"nd\">token:34113 </span></div><div class=\"children hor wrap \"><div class=\"contnr c0 trm   \" ><div class=\"lbl c0 trm \" ><span class=\"nd\">388 </span> <span class=\"txtu\"><span class=\" is_note\">1880</span></span></div></div></div></div><div class=\"contnr c1    \" ><div class=\"lbl c1  \" ><span class=\"nd\">token:34114 </span></div><div class=\"children hor wrap \"><div class=\"contnr c0 trm   \" ><div class=\"lbl c0 trm \" ><span class=\"nd\">389 </span> <span class=\"txtu\"><span class=\" is_note\">-</span></span></div></div></div></div><div class=\"contnr c1    \" ><div class=\"lbl c1  \" ><span class=\"nd\">token:34115 </span></div><div class=\"children hor wrap \"><div class=\"contnr c0 trm   \" ><div class=\"lbl c0 trm \" ><span class=\"nd\">390 </span> <span class=\"txtu\"><span class=\" is_note\">1952</span></span></div></div></div></div><div class=\"contnr c1    \" ><div class=\"lbl c1  \" ><span class=\"nd\">token:34116 </span></div><div class=\"children hor wrap \"><div class=\"contnr c0 trm   \" ><div class=\"lbl c0 trm \" ><span class=\"nd\">391 </span> <span class=\"txtu\"><span class=\" is_note\">) </span></span></div></div></div></div><div class=\"contnr c1    \" ><div class=\"lbl c1  \" ><span class=\"nd\">token:34117 </span></div><div class=\"children hor wrap \"><div class=\"contnr c0 trm   \" ><div class=\"lbl c0 trm \" ><span class=\"nd\">392 </span> <span class=\"txtu\"><span class=\" is_note\">gaf </span></span></div></div></div></div><div class=\"contnr c1    \" ><div class=\"lbl c1  \" ><span class=\"nd\">token:34118 </span></div><div class=\"children hor wrap \"><div class=\"contnr c0 trm   \" ><div class=\"lbl c0 trm \" ><span class=\"nd\">393 </span> <span class=\"txtu\"><span class=\" is_note\">begin </span></span></div></div></div></div><div class=\"contnr c1    \" ><div class=\"lbl c1  \" ><span class=\"nd\">token:34119 </span></div><div class=\"children hor wrap \"><div class=\"contnr c0 trm   \" ><div class=\"lbl c0 trm \" ><span class=\"nd\">394 </span> <span class=\"txtu\"><span class=\" is_note\">1909 </span></span></div></div></div></div><div class=\"contnr c1    \" ><div class=\"lbl c1  \" ><span class=\"nd\">token:34120 </span></div><div class=\"children hor wrap \"><div class=\"contnr c0 trm   \" ><div class=\"lbl c0 trm \" ><span class=\"nd\">395 </span> <span class=\"txtu\"><span class=\" is_note\">drie </span></span></div></div></div></div><div class=\"contnr c1    \" ><div class=\"lbl c1  \" ><span class=\"nd\">token:34121 </span></div><div class=\"children hor wrap \"><div class=\"contnr c0 trm   \" ><div class=\"lbl c0 trm \" ><span class=\"nd\">396 </span> <span class=\"txtu\"><span class=\" is_note\">concerten </span></span></div></div></div></div><div class=\"contnr c1    \" ><div class=\"lbl c1  \" ><span class=\"nd\">token:34122 </span></div><div class=\"children hor wrap \"><div class=\"contnr c0 trm   \" ><div class=\"lbl c0 trm \" ><span class=\"nd\">397 </span> <span class=\"txtu\"><span class=\" is_note\">in </span></span></div></div></div></div><div class=\"contnr c1    \" ><div class=\"lbl c1  \" ><span class=\"nd\">token:34123 </span></div><div class=\"children hor wrap \"><div class=\"contnr c0 trm   \" ><div class=\"lbl c0 trm \" ><span class=\"nd\">398 </span> <span class=\"txtu\"><span class=\" is_note\">de </span></span></div></div></div></div><div class=\"contnr c1    \" ><div class=\"lbl c1  \" ><span class=\"nd\">token:34124 </span></div><div class=\"children hor wrap \"><div class=\"contnr c0 trm   \" ><div class=\"lbl c0 trm \" ><span class=\"nd\">399 </span> <span class=\"txtu\"><span class=\" is_note\">kleine </span></span></div></div></div></div><div class=\"contnr c1    \" ><div class=\"lbl c1  \" ><span class=\"nd\">token:34125 </span></div><div class=\"children hor wrap \"><div class=\"contnr c0 trm   \" ><div class=\"lbl c0 trm \" ><span class=\"nd\">400 </span> <span class=\"txtu\"><span class=\" is_note\">zaal </span></span></div></div></div></div><div class=\"contnr c1    \" ><div class=\"lbl c1  \" ><span class=\"nd\">token:34126 </span></div><div class=\"children hor wrap \"><div class=\"contnr c0 trm   \" ><div class=\"lbl c0 trm \" ><span class=\"nd\">401 </span> <span class=\"txtu\"><span class=\" is_note\">van </span></span></div></div></div></div><div class=\"contnr c1    \" ><div class=\"lbl c1  \" ><span class=\"nd\">token:34127 </span></div><div class=\"children hor wrap \"><div class=\"contnr c0 trm   \" ><div class=\"lbl c0 trm \" ><span class=\"nd\">402 </span> <span class=\"txtu\"><span class=\" is_note\">het </span></span></div></div></div></div><div class=\"contnr c1    \" ><div class=\"lbl c1  \" ><span class=\"nd\">token:34128 </span></div><div class=\"children hor wrap \"><div class=\"contnr c0 trm   \" ><div class=\"lbl c0 trm \" ><span class=\"nd\">403 </span> <span class=\"txtu\"><span class=\" is_note\">Concertgebouw</span></span></div></div></div></div><div class=\"contnr c1    \" ><div class=\"lbl c1  \" ><span class=\"nd\">token:34129 </span></div><div class=\"children hor wrap \"><div class=\"contnr c0 trm   \" ><div class=\"lbl c0 trm \" ><span class=\"nd\">404 </span> <span class=\"txtu\"><span class=\" is_note\">, </span></span></div></div></div></div><div class=\"contnr c1    \" ><div class=\"lbl c1  \" ><span class=\"nd\">token:34130 </span></div><div class=\"children hor wrap \"><div class=\"contnr c0 trm   \" ><div class=\"lbl c0 trm \" ><span class=\"nd\">405 </span> <span class=\"txtu\"><span class=\" is_note\">op </span></span></div></div></div></div><div class=\"contnr c1    \" ><div class=\"lbl c1  \" ><span class=\"nd\">token:34131 </span></div><div class=\"children hor wrap \"><div class=\"contnr c0 trm   \" ><div class=\"lbl c0 trm \" ><span class=\"nd\">406 </span> <span class=\"txtu\"><span class=\" is_note\">woensdag </span></span></div></div></div></div><div class=\"contnr c1    \" ><div class=\"lbl c1  \" ><span class=\"nd\">token:34132 </span></div><div class=\"children hor wrap \"><div class=\"contnr c0 trm   \" ><div class=\"lbl c0 trm \" ><span class=\"nd\">407 </span> <span class=\"txtu\"><span class=\" is_note\">17 </span></span></div></div></div></div><div class=\"contnr c1    \" ><div class=\"lbl c1  \" ><span class=\"nd\">token:34133 </span></div><div class=\"children hor wrap \"><div class=\"contnr c0 trm   \" ><div class=\"lbl c0 trm \" ><span class=\"nd\">408 </span> <span class=\"txtu\"><span class=\" is_note\">februari</span></span></div></div></div></div><div class=\"contnr c1    \" ><div class=\"lbl c1  \" ><span class=\"nd\">token:34134 </span></div><div class=\"children hor wrap \"><div class=\"contnr c0 trm   \" ><div class=\"lbl c0 trm \" ><span class=\"nd\">409 </span> <span class=\"txtu\"><span class=\" is_note\">, </span></span></div></div></div></div><div class=\"contnr c1    \" ><div class=\"lbl c1  \" ><span class=\"nd\">token:34135 </span></div><div class=\"children hor wrap \"><div class=\"contnr c0 trm   \" ><div class=\"lbl c0 trm \" ><span class=\"nd\">410 </span> <span class=\"txtu\"><span class=\" is_note\">woensdag </span></span></div></div></div></div><div class=\"contnr c1    \" ><div class=\"lbl c1  \" ><span class=\"nd\">token:34136 </span></div><div class=\"children hor wrap \"><div class=\"contnr c0 trm   \" ><div class=\"lbl c0 trm \" ><span class=\"nd\">411 </span> <span class=\"txtu\"><span class=\" is_note\">3 </span></span></div></div></div></div><div class=\"contnr c1    \" ><div class=\"lbl c1  \" ><span class=\"nd\">token:34137 </span></div><div class=\"children hor wrap \"><div class=\"contnr c0 trm   \" ><div class=\"lbl c0 trm \" ><span class=\"nd\">412 </span> <span class=\"txtu\"><span class=\" is_note\">maart </span></span></div></div></div></div><div class=\"contnr c1    \" ><div class=\"lbl c1  \" ><span class=\"nd\">token:34138 </span></div><div class=\"children hor wrap \"><div class=\"contnr c0 trm   \" ><div class=\"lbl c0 trm \" ><span class=\"nd\">413 </span> <span class=\"txtu\"><span class=\" is_note\">en </span></span></div></div></div></div><div class=\"contnr c1    \" ><div class=\"lbl c1  \" ><span class=\"nd\">token:34139 </span></div><div class=\"children hor wrap \"><div class=\"contnr c0 trm   \" ><div class=\"lbl c0 trm \" ><span class=\"nd\">414 </span> <span class=\"txtu\"><span class=\" is_note\">woensdag </span></span></div></div></div></div><div class=\"contnr c1    \" ><div class=\"lbl c1  \" ><span class=\"nd\">token:34140 </span></div><div class=\"children hor wrap \"><div class=\"contnr c0 trm   \" ><div class=\"lbl c0 trm \" ><span class=\"nd\">415 </span> <span class=\"txtu\"><span class=\" is_note\">10 </span></span></div></div></div></div><div class=\"contnr c1    \" ><div class=\"lbl c1  \" ><span class=\"nd\">token:34141 </span></div><div class=\"children hor wrap \"><div class=\"contnr c0 trm   \" ><div class=\"lbl c0 trm \" ><span class=\"nd\">416 </span> <span class=\"txtu\"><span class=\" is_note\">maart</span></span></div></div></div></div><div class=\"contnr c1    \" ><div class=\"lbl c1  \" ><span class=\"nd\">token:34142 </span></div><div class=\"children hor wrap \"><div class=\"contnr c0 trm   \" ><div class=\"lbl c0 trm \" ><span class=\"nd\">417 </span> <span class=\"txtu\"><span class=\" is_note\">. </span></span></div></div></div></div></div></div><div class=\"contnr c2    \" ><div class=\"lbl c2  \" ><span class=\"nd\">sentence:21255 </span></div><div class=\"children hor wrap \"><div class=\"contnr c1    \" ><div class=\"lbl c1  \" ><span class=\"nd\">token:34143 </span></div><div class=\"children hor wrap \"><div class=\"contnr c0 trm   \" ><div class=\"lbl c0 trm \" ><span class=\"nd\">418 </span> <span class=\"txtu\"><span class=\" is_note\">Het </span></span></div></div></div></div><div class=\"contnr c1    \" ><div class=\"lbl c1  \" ><span class=\"nd\">token:34144 </span></div><div class=\"children hor wrap \"><div class=\"contnr c0 trm   \" ><div class=\"lbl c0 trm \" ><span class=\"nd\">419 </span> <span class=\"txtu\"><span class=\" is_note\">is </span></span></div></div></div></div><div class=\"contnr c1    \" ><div class=\"lbl c1  \" ><span class=\"nd\">token:34145 </span></div><div class=\"children hor wrap \"><div class=\"contnr c0 trm   \" ><div class=\"lbl c0 trm \" ><span class=\"nd\">420 </span> <span class=\"txtu\"><span class=\" is_note\">niet </span></span></div></div></div></div><div class=\"contnr c1    \" ><div class=\"lbl c1  \" ><span class=\"nd\">token:34146 </span></div><div class=\"children hor wrap \"><div class=\"contnr c0 trm   \" ><div class=\"lbl c0 trm \" ><span class=\"nd\">421 </span> <span class=\"txtu\"><span class=\" is_note\">bekend </span></span></div></div></div></div><div class=\"contnr c1    \" ><div class=\"lbl c1  \" ><span class=\"nd\">token:34147 </span></div><div class=\"children hor wrap \"><div class=\"contnr c0 trm   \" ><div class=\"lbl c0 trm \" ><span class=\"nd\">422 </span> <span class=\"txtu\"><span class=\" is_note\">voor </span></span></div></div></div></div><div class=\"contnr c1    \" ><div class=\"lbl c1  \" ><span class=\"nd\">token:34148 </span></div><div class=\"children hor wrap \"><div class=\"contnr c0 trm   \" ><div class=\"lbl c0 trm \" ><span class=\"nd\">423 </span> <span class=\"txtu\"><span class=\" is_note\">welke </span></span></div></div></div></div><div class=\"contnr c1    \" ><div class=\"lbl c1  \" ><span class=\"nd\">token:34149 </span></div><div class=\"children hor wrap \"><div class=\"contnr c0 trm   \" ><div class=\"lbl c0 trm \" ><span class=\"nd\">424 </span> <span class=\"txtu\"><span class=\" is_note\">van </span></span></div></div></div></div><div class=\"contnr c1    \" ><div class=\"lbl c1  \" ><span class=\"nd\">token:34150 </span></div><div class=\"children hor wrap \"><div class=\"contnr c0 trm   \" ><div class=\"lbl c0 trm \" ><span class=\"nd\">425 </span> <span class=\"txtu\"><span class=\" is_note\">deze </span></span></div></div></div></div><div class=\"contnr c1    \" ><div class=\"lbl c1  \" ><span class=\"nd\">token:34151 </span></div><div class=\"children hor wrap \"><div class=\"contnr c0 trm   \" ><div class=\"lbl c0 trm \" ><span class=\"nd\">426 </span> <span class=\"txtu\"><span class=\" is_note\">concerten </span></span></div></div></div></div><div class=\"contnr c1    \" ><div class=\"lbl c1  \" ><span class=\"nd\">token:34152 </span></div><div class=\"children hor wrap \"><div class=\"contnr c0 trm   \" ><div class=\"lbl c0 trm \" ><span class=\"nd\">427 </span> <span class=\"txtu\"><span class=\" is_note\">Mondriaan </span></span></div></div></div></div><div class=\"contnr c1    \" ><div class=\"lbl c1  \" ><span class=\"nd\">token:34153 </span></div><div class=\"children hor wrap \"><div class=\"contnr c0 trm   \" ><div class=\"lbl c0 trm \" ><span class=\"nd\">428 </span> <span class=\"txtu\"><span class=\" is_note\">kaarten </span></span></div></div></div></div><div class=\"contnr c1    \" ><div class=\"lbl c1  \" ><span class=\"nd\">token:34154 </span></div><div class=\"children hor wrap \"><div class=\"contnr c0 trm   \" ><div class=\"lbl c0 trm \" ><span class=\"nd\">429 </span> <span class=\"txtu\"><span class=\" is_note\">had</span></span></div></div></div></div><div class=\"contnr c1    \" ><div class=\"lbl c1  \" ><span class=\"nd\">token:34155 </span></div><div class=\"children hor wrap \"><div class=\"contnr c0 trm   \" ><div class=\"lbl c0 trm \" ><span class=\"nd\">430 </span> <span class=\"txtu\"><span class=\" is_note\">.</span></span></div></div></div></div></div></div><div class=\"contnr c1    \" ><div class=\"lbl c1  \" ><span class=\"nd\">token:34156 </span></div><div class=\"children hor wrap \"><div class=\"contnr c0 trm   \" ><div class=\"lbl c0 trm \" ><span class=\"nd\">431 </span> <span class=\"txtu\"><span class=\" is_note\"><br></span></span></div></div></div></div></div></div></div>"
      ],
      "text/plain": [
       "<IPython.core.display.HTML object>"
      ]
     },
     "metadata": {},
     "output_type": "display_data"
    },
    {
     "data": {
      "text/html": [
       "<div class=\"tfsechead \"><span class=\"ltr\"><a target=\"_blank\" href=\"https://public.annotation.org/mondriaan/proeftuin/19090216y_IONG_1303/7&amp;version=0.8.13\" title=\"Show this on the website\" sec=\"proeftuin@19090216y_IONG_1303:7\">proeftuin@19090216y_IONG_1303:7</a></span></div><div class=\" children\"><div class=\"contnr c3    \" ><div class=\"lbl c3  \" ><span class=\"nd\">chunk:18131 </span></div><div class=\"children hor wrap \"><div class=\"contnr c2    \" ><div class=\"lbl c2  \" ><span class=\"nd\">note:18983 </span></div><div class=\"features\"><span class=\"sibling xft\" ><span class=\"e\" edge=\"sibling\" nd=\"18983\">sibling•</span>\n",
       "<span\n",
       "    ef=\"sibling\"\n",
       "    nd=\"18983\"\n",
       "    md=\"18984\"\n",
       "    arrow=\"right\"\n",
       "    class=\"etf\" \n",
       ">1<span class=\"etfx\">↦</span><span class=\"nde\">18984</span></span>\n",
       "</span></div><div class=\"children hor wrap \"><div class=\"contnr c2    \" ><div class=\"lbl c2  \" ><span class=\"nd\">sentence:21247 </span></div><div class=\"children hor wrap \"><div class=\"contnr c1    \" ><div class=\"lbl c1  \" ><span class=\"nd\">token:34014 </span></div><div class=\"children hor wrap \"><div class=\"contnr c0 trm   \" ><div class=\"lbl c0 trm \" ><span class=\"nd\">288 </span> <span class=\"txtu\"><span class=\" is_note\">Manuscript</span></span></div></div></div></div><div class=\"contnr c1    \" ><div class=\"lbl c1  \" ><span class=\"nd\">token:34015 </span></div><div class=\"children hor wrap \"><div class=\"contnr c0 trm   \" ><div class=\"lbl c0 trm \" ><span class=\"nd\">289 </span> <span class=\"txtu\"><span class=\" is_note\">.</span></span></div></div></div></div></div></div><div class=\"contnr c1    \" ><div class=\"lbl c1  \" ><span class=\"nd\">token:34016 </span></div><div class=\"children hor wrap \"><div class=\"contnr c0 trm   \" ><div class=\"lbl c0 trm \" ><span class=\"nd\">290 </span> <span class=\"txtu\"><span class=\" is_note\"><br></span></span></div></div></div></div></div></div><div class=\"contnr c2    \" ><div class=\"lbl c2  \" ><span class=\"nd\">note:18984 </span></div><div class=\"features\"><span class=\"sibling xft\" ><span class=\"e\" edge=\"sibling\" nd=\"18984\">sibling•</span>\n",
       "<span\n",
       "    ef=\"sibling\"\n",
       "    nd=\"18984\"\n",
       "    md=\"18983\"\n",
       "    arrow=\"left\"\n",
       "    class=\"etf\" \n",
       "><span class=\"nde\">18983</span><span class=\"etfx\">⇥</span>1</span>\n",
       "</span></div><div class=\"children hor wrap \"><div class=\"contnr c2    \" ><div class=\"lbl c2  \" ><span class=\"nd\">sentence:21248 </span></div><div class=\"children hor wrap \"><div class=\"contnr c1    \" ><div class=\"lbl c1  \" ><span class=\"nd\">token:34017 </span></div><div class=\"children hor wrap \"><div class=\"contnr c0 trm   \" ><div class=\"lbl c0 trm \" ><span class=\"nd\">291 </span> <span class=\"txtu\"><span class=\" is_note\">De </span></span></div></div></div></div><div class=\"contnr c1    \" ><div class=\"lbl c1  \" ><span class=\"nd\">token:34018 </span></div><div class=\"children hor wrap \"><div class=\"contnr c0 trm   \" ><div class=\"lbl c0 trm \" ><span class=\"nd\">292 </span> <span class=\"txtu\"><span class=\" is_note\">brief </span></span></div></div></div></div><div class=\"contnr c1    \" ><div class=\"lbl c1  \" ><span class=\"nd\">token:34019 </span></div><div class=\"children hor wrap \"><div class=\"contnr c0 trm   \" ><div class=\"lbl c0 trm \" ><span class=\"nd\">293 </span> <span class=\"txtu\"><span class=\" is_note\">is </span></span></div></div></div></div><div class=\"contnr c1    \" ><div class=\"lbl c1  \" ><span class=\"nd\">token:34020 </span></div><div class=\"children hor wrap \"><div class=\"contnr c0 trm   \" ><div class=\"lbl c0 trm \" ><span class=\"nd\">294 </span> <span class=\"txtu\"><span class=\" is_note\">geschreven </span></span></div></div></div></div><div class=\"contnr c1    \" ><div class=\"lbl c1  \" ><span class=\"nd\">token:34021 </span></div><div class=\"children hor wrap \"><div class=\"contnr c0 trm   \" ><div class=\"lbl c0 trm \" ><span class=\"nd\">295 </span> <span class=\"txtu\"><span class=\" is_note\">op </span></span></div></div></div></div><div class=\"contnr c1    \" ><div class=\"lbl c1  \" ><span class=\"nd\">token:34022 </span></div><div class=\"children hor wrap \"><div class=\"contnr c0 trm   \" ><div class=\"lbl c0 trm \" ><span class=\"nd\">296 </span> <span class=\"txtu\"><span class=\" is_note\">een </span></span></div></div></div></div><div class=\"contnr c1    \" ><div class=\"lbl c1  \" ><span class=\"nd\">token:34023 </span></div><div class=\"children hor wrap \"><div class=\"contnr c0 trm   \" ><div class=\"lbl c0 trm \" ><span class=\"nd\">297 </span> <span class=\"txtu\"><span class=\" is_note\">dinsdag </span></span></div></div></div></div><div class=\"contnr c1    \" ><div class=\"lbl c1  \" ><span class=\"nd\">token:34024 </span></div><div class=\"children hor wrap \"><div class=\"contnr c0 trm   \" ><div class=\"lbl c0 trm \" ><span class=\"nd\">298 </span> <span class=\"txtu\"><span class=\" is_note\">voorafgaand </span></span></div></div></div></div><div class=\"contnr c1    \" ><div class=\"lbl c1  \" ><span class=\"nd\">token:34025 </span></div><div class=\"children hor wrap \"><div class=\"contnr c0 trm   \" ><div class=\"lbl c0 trm \" ><span class=\"nd\">299 </span> <span class=\"txtu\"><span class=\" is_note\">aan </span></span></div></div></div></div><div class=\"contnr c1    \" ><div class=\"lbl c1  \" ><span class=\"nd\">token:34026 </span></div><div class=\"children hor wrap \"><div class=\"contnr c0 trm   \" ><div class=\"lbl c0 trm \" ><span class=\"nd\">300 </span> <span class=\"txtu\"><span class=\" is_note\">een </span></span></div></div></div></div><div class=\"contnr c1    \" ><div class=\"lbl c1  \" ><span class=\"nd\">token:34027 </span></div><div class=\"children hor wrap \"><div class=\"contnr c0 trm   \" ><div class=\"lbl c0 trm \" ><span class=\"nd\">301 </span> <span class=\"txtu\"><span class=\" is_note\">van </span></span></div></div></div></div><div class=\"contnr c1    \" ><div class=\"lbl c1  \" ><span class=\"nd\">token:34028 </span></div><div class=\"children hor wrap \"><div class=\"contnr c0 trm   \" ><div class=\"lbl c0 trm \" ><span class=\"nd\">302 </span> <span class=\"txtu\"><span class=\" is_note\">de </span></span></div></div></div></div><div class=\"contnr c1    \" ><div class=\"lbl c1  \" ><span class=\"nd\">token:34029 </span></div><div class=\"children hor wrap \"><div class=\"contnr c0 trm   \" ><div class=\"lbl c0 trm \" ><span class=\"nd\">303 </span> <span class=\"txtu\"><span class=\" is_note\">drie </span></span></div></div></div></div><div class=\"contnr c1    \" ><div class=\"lbl c1  \" ><span class=\"nd\">token:34030 </span></div><div class=\"children hor wrap \"><div class=\"contnr c0 trm   \" ><div class=\"lbl c0 trm \" ><span class=\"nd\">304 </span> <span class=\"txtu\"><span class=\" is_note\">woensdagen </span></span></div></div></div></div><div class=\"contnr c1    \" ><div class=\"lbl c1  \" ><span class=\"nd\">token:34031 </span></div><div class=\"children hor wrap \"><div class=\"contnr c0 trm   \" ><div class=\"lbl c0 trm \" ><span class=\"nd\">305 </span> <span class=\"txtu\"><span class=\" is_note\">waarop </span></span></div></div></div></div><div class=\"contnr c1    \" ><div class=\"lbl c1  \" ><span class=\"nd\">rs:19560 </span></div><div class=\"features\"><span class=\"sibling xft\" ><span class=\"e\" edge=\"sibling\" nd=\"19560\">sibling•</span>\n",
       "<span\n",
       "    ef=\"sibling\"\n",
       "    nd=\"19560\"\n",
       "    md=\"19447\"\n",
       "    arrow=\"right\"\n",
       "    class=\"etf\" \n",
       ">1<span class=\"etfx\">↦</span><span class=\"nde\">19447</span></span>\n",
       "</span></div><div class=\"children hor wrap \"><div class=\"contnr c1    \" ><div class=\"lbl c1  \" ><span class=\"nd\">token:34032 </span></div><div class=\"children hor wrap \"><div class=\"contnr c0 trm   \" ><div class=\"lbl c0 trm \" ><span class=\"nd\">306 </span> <span class=\"txtu\"><span class=\" is_note\">Richard </span></span></div></div></div></div><div class=\"contnr c1    \" ><div class=\"lbl c1  \" ><span class=\"nd\">token:34033 </span></div><div class=\"children hor wrap \"><div class=\"contnr c0 trm   \" ><div class=\"lbl c0 trm \" ><span class=\"nd\">307 </span> <span class=\"txtu\"><span class=\" is_note\">Buhlig</span></span></div></div></div></div></div></div></div></div><div class=\"contnr c1    \" ><div class=\"lbl c1  \" ><span class=\"nd\">token:34034 </span></div><div class=\"children hor wrap \"><div class=\"contnr c0 trm   \" ><div class=\"lbl c0 trm \" ><span class=\"nd\">308 </span> <span class=\"txtu\"><span class=\" is_note\"> </span></span></div></div></div></div><div class=\"contnr c2    \" ><div class=\"lbl c2  \" ><span class=\"nd\">sentence:21249 </span></div><div class=\"children hor wrap \"><div class=\"contnr c1    \" ><div class=\"lbl c1  \" ><span class=\"nd\">token:34035 </span></div><div class=\"children hor wrap \"><div class=\"contnr c0 trm   \" ><div class=\"lbl c0 trm \" ><span class=\"nd\">309 </span> <span class=\"txtu\"><span class=\" is_note\">in </span></span></div></div></div></div><div class=\"contnr c1    \" ><div class=\"lbl c1  \" ><span class=\"nd\">token:34036 </span></div><div class=\"children hor wrap \"><div class=\"contnr c0 trm   \" ><div class=\"lbl c0 trm \" ><span class=\"nd\">310 </span> <span class=\"txtu\"><span class=\" is_note\">1909 </span></span></div></div></div></div><div class=\"contnr c1    \" ><div class=\"lbl c1  \" ><span class=\"nd\">token:34037 </span></div><div class=\"children hor wrap \"><div class=\"contnr c0 trm   \" ><div class=\"lbl c0 trm \" ><span class=\"nd\">311 </span> <span class=\"txtu\"><span class=\" is_note\">in </span></span></div></div></div></div><div class=\"contnr c1    \" ><div class=\"lbl c1  \" ><span class=\"nd\">token:34038 </span></div><div class=\"children hor wrap \"><div class=\"contnr c0 trm   \" ><div class=\"lbl c0 trm \" ><span class=\"nd\">312 </span> <span class=\"txtu\"><span class=\" is_note\">de </span></span></div></div></div></div><div class=\"contnr c1    \" ><div class=\"lbl c1  \" ><span class=\"nd\">token:34039 </span></div><div class=\"children hor wrap \"><div class=\"contnr c0 trm   \" ><div class=\"lbl c0 trm \" ><span class=\"nd\">313 </span> <span class=\"txtu\"><span class=\" is_note\">kleine </span></span></div></div></div></div><div class=\"contnr c1    \" ><div class=\"lbl c1  \" ><span class=\"nd\">token:34040 </span></div><div class=\"children hor wrap \"><div class=\"contnr c0 trm   \" ><div class=\"lbl c0 trm \" ><span class=\"nd\">314 </span> <span class=\"txtu\"><span class=\" is_note\">zaal </span></span></div></div></div></div><div class=\"contnr c1    \" ><div class=\"lbl c1  \" ><span class=\"nd\">token:34041 </span></div><div class=\"children hor wrap \"><div class=\"contnr c0 trm   \" ><div class=\"lbl c0 trm \" ><span class=\"nd\">315 </span> <span class=\"txtu\"><span class=\" is_note\">van </span></span></div></div></div></div><div class=\"contnr c1    \" ><div class=\"lbl c1  \" ><span class=\"nd\">token:34042 </span></div><div class=\"children hor wrap \"><div class=\"contnr c0 trm   \" ><div class=\"lbl c0 trm \" ><span class=\"nd\">316 </span> <span class=\"txtu\"><span class=\" is_note\">het </span></span></div></div></div></div><div class=\"contnr c1    \" ><div class=\"lbl c1  \" ><span class=\"nd\">token:34043 </span></div><div class=\"children hor wrap \"><div class=\"contnr c0 trm   \" ><div class=\"lbl c0 trm \" ><span class=\"nd\">317 </span> <span class=\"txtu\"><span class=\" is_note\">Concertgebouw </span></span></div></div></div></div><div class=\"contnr c1    \" ><div class=\"lbl c1  \" ><span class=\"nd\">token:34044 </span></div><div class=\"children hor wrap \"><div class=\"contnr c0 trm   \" ><div class=\"lbl c0 trm \" ><span class=\"nd\">318 </span> <span class=\"txtu\"><span class=\" is_note\">een </span></span></div></div></div></div><div class=\"contnr c1    \" ><div class=\"lbl c1  \" ><span class=\"nd\">token:34045 </span></div><div class=\"children hor wrap \"><div class=\"contnr c0 trm   \" ><div class=\"lbl c0 trm \" ><span class=\"nd\">319 </span> <span class=\"txtu\"><span class=\" is_note\">concert </span></span></div></div></div></div><div class=\"contnr c1    \" ><div class=\"lbl c1  \" ><span class=\"nd\">token:34046 </span></div><div class=\"children hor wrap \"><div class=\"contnr c0 trm   \" ><div class=\"lbl c0 trm \" ><span class=\"nd\">320 </span> <span class=\"txtu\"><span class=\" is_note\">zou </span></span></div></div></div></div><div class=\"contnr c1    \" ><div class=\"lbl c1  \" ><span class=\"nd\">token:34047 </span></div><div class=\"children hor wrap \"><div class=\"contnr c0 trm   \" ><div class=\"lbl c0 trm \" ><span class=\"nd\">321 </span> <span class=\"txtu\"><span class=\" is_note\">geven</span></span></div></div></div></div><div class=\"contnr c1    \" ><div class=\"lbl c1  \" ><span class=\"nd\">token:34048 </span></div><div class=\"children hor wrap \"><div class=\"contnr c0 trm   \" ><div class=\"lbl c0 trm \" ><span class=\"nd\">322 </span> <span class=\"txtu\"><span class=\" is_note\">: </span></span></div></div></div></div><div class=\"contnr c1    \" ><div class=\"lbl c1  \" ><span class=\"nd\">token:34049 </span></div><div class=\"children hor wrap \"><div class=\"contnr c0 trm   \" ><div class=\"lbl c0 trm \" ><span class=\"nd\">323 </span> <span class=\"txtu\"><span class=\" is_note\">17 </span></span></div></div></div></div><div class=\"contnr c1    \" ><div class=\"lbl c1  \" ><span class=\"nd\">token:34050 </span></div><div class=\"children hor wrap \"><div class=\"contnr c0 trm   \" ><div class=\"lbl c0 trm \" ><span class=\"nd\">324 </span> <span class=\"txtu\"><span class=\" is_note\">februari</span></span></div></div></div></div><div class=\"contnr c1    \" ><div class=\"lbl c1  \" ><span class=\"nd\">token:34051 </span></div><div class=\"children hor wrap \"><div class=\"contnr c0 trm   \" ><div class=\"lbl c0 trm \" ><span class=\"nd\">325 </span> <span class=\"txtu\"><span class=\" is_note\">, </span></span></div></div></div></div><div class=\"contnr c1    \" ><div class=\"lbl c1  \" ><span class=\"nd\">token:34052 </span></div><div class=\"children hor wrap \"><div class=\"contnr c0 trm   \" ><div class=\"lbl c0 trm \" ><span class=\"nd\">326 </span> <span class=\"txtu\"><span class=\" is_note\">3 </span></span></div></div></div></div><div class=\"contnr c1    \" ><div class=\"lbl c1  \" ><span class=\"nd\">token:34053 </span></div><div class=\"children hor wrap \"><div class=\"contnr c0 trm   \" ><div class=\"lbl c0 trm \" ><span class=\"nd\">327 </span> <span class=\"txtu\"><span class=\" is_note\">maart </span></span></div></div></div></div><div class=\"contnr c1    \" ><div class=\"lbl c1  \" ><span class=\"nd\">token:34054 </span></div><div class=\"children hor wrap \"><div class=\"contnr c0 trm   \" ><div class=\"lbl c0 trm \" ><span class=\"nd\">328 </span> <span class=\"txtu\"><span class=\" is_note\">en </span></span></div></div></div></div><div class=\"contnr c1    \" ><div class=\"lbl c1  \" ><span class=\"nd\">token:34055 </span></div><div class=\"children hor wrap \"><div class=\"contnr c0 trm   \" ><div class=\"lbl c0 trm \" ><span class=\"nd\">329 </span> <span class=\"txtu\"><span class=\" is_note\">10 </span></span></div></div></div></div><div class=\"contnr c1    \" ><div class=\"lbl c1  \" ><span class=\"nd\">token:34056 </span></div><div class=\"children hor wrap \"><div class=\"contnr c0 trm   \" ><div class=\"lbl c0 trm \" ><span class=\"nd\">330 </span> <span class=\"txtu\"><span class=\" is_note\">maart</span></span></div></div></div></div><div class=\"contnr c1    \" ><div class=\"lbl c1  \" ><span class=\"nd\">token:34057 </span></div><div class=\"children hor wrap \"><div class=\"contnr c0 trm   \" ><div class=\"lbl c0 trm \" ><span class=\"nd\">331 </span> <span class=\"txtu\"><span class=\" is_note\">. </span></span></div></div></div></div></div></div><div class=\"contnr c2    \" ><div class=\"lbl c2  \" ><span class=\"nd\">sentence:21250 </span></div><div class=\"children hor wrap \"><div class=\"contnr c1    \" ><div class=\"lbl c1  \" ><span class=\"nd\">token:34058 </span></div><div class=\"children hor wrap \"><div class=\"contnr c0 trm   \" ><div class=\"lbl c0 trm \" ><span class=\"nd\">332 </span> <span class=\"txtu\"><span class=\" is_note\">Zie </span></span></div></div></div></div><div class=\"contnr c1    \" ><div class=\"lbl c1  \" ><span class=\"nd\">token:34059 </span></div><div class=\"children hor wrap \"><div class=\"contnr c0 trm   \" ><div class=\"lbl c0 trm \" ><span class=\"nd\">333 </span> <span class=\"txtu\"><span class=\" is_note\">tevens </span></span></div></div></div></div><div class=\"contnr c1    \" ><div class=\"lbl c1  \" ><span class=\"nd\">ref:19447 </span></div><div class=\"features\"><span class=\"sibling xft\" ><span class=\"e\" edge=\"sibling\" nd=\"19447\">sibling•</span>\n",
       "<span\n",
       "    ef=\"sibling\"\n",
       "    nd=\"19447\"\n",
       "    md=\"19560\"\n",
       "    arrow=\"left\"\n",
       "    class=\"etf\" \n",
       "><span class=\"nde\">19560</span><span class=\"etfx\">⇥</span>1</span>\n",
       "</span></div><div class=\"children hor wrap \"><div class=\"contnr c1    \" ><div class=\"lbl c1  \" ><span class=\"nd\">token:34060 </span></div><div class=\"children hor wrap \"><div class=\"contnr c0 trm   \" ><div class=\"lbl c0 trm \" ><span class=\"nd\">334 </span> <span class=\"txtu\"><span class=\" is_note\">n. </span></span></div></div></div></div><div class=\"contnr c1    \" ><div class=\"lbl c1  \" ><span class=\"nd\">token:34061 </span></div><div class=\"children hor wrap \"><div class=\"contnr c0 trm   \" ><div class=\"lbl c0 trm \" ><span class=\"nd\">335 </span> <span class=\"txtu\"><span class=\" is_note\">\"</span></span></div></div></div></div><div class=\"contnr c1    \" ><div class=\"lbl c1  \" ><span class=\"nd\">token:34062 </span></div><div class=\"children hor wrap \"><div class=\"contnr c0 trm   \" ><div class=\"lbl c0 trm \" ><span class=\"nd\">336 </span> <span class=\"txtu\"><span class=\" is_note\">plaatsBuhlig</span></span></div></div></div></div><div class=\"contnr c1    \" ><div class=\"lbl c1  \" ><span class=\"nd\">token:34063 </span></div><div class=\"children hor wrap \"><div class=\"contnr c0 trm   \" ><div class=\"lbl c0 trm \" ><span class=\"nd\">337 </span> <span class=\"txtu\"><span class=\" is_note\">\"</span></span></div></div></div></div></div></div><div class=\"contnr c1    \" ><div class=\"lbl c1  \" ><span class=\"nd\">token:34064 </span></div><div class=\"children hor wrap \"><div class=\"contnr c0 trm   \" ><div class=\"lbl c0 trm \" ><span class=\"nd\">338 </span> <span class=\"txtu\"><span class=\" is_note\">.</span></span></div></div></div></div></div></div><div class=\"contnr c1    \" ><div class=\"lbl c1  \" ><span class=\"nd\">token:34065 </span></div><div class=\"children hor wrap \"><div class=\"contnr c0 trm   \" ><div class=\"lbl c0 trm \" ><span class=\"nd\">339 </span> <span class=\"txtu\"><span class=\" is_note\"><br></span></span></div></div></div></div></div></div><div class=\"contnr c2    \" ><div class=\"lbl c2  \" ><span class=\"nd\">note:18985 </span></div><div class=\"children hor wrap \"><div class=\"contnr c2    \" ><div class=\"lbl c2  \" ><span class=\"nd\">sentence:21251 </span></div><div class=\"children hor wrap \"><div class=\"contnr c1    \" ><div class=\"lbl c1  \" ><span class=\"nd\">token:34066 </span></div><div class=\"children hor wrap \"><div class=\"contnr c0 trm   \" ><div class=\"lbl c0 trm \" ><span class=\"nd\">340 </span> <span class=\"txtu\"><span class=\" is_note\">​</span></span></div></div></div></div></div></div></div></div><div class=\"contnr c0 trm   \" ><div class=\"lbl c0 trm \" ><span class=\"nd\">341 </span> <span class=\"txtu\"><br></span></div></div><div class=\"contnr c2    \" ><div class=\"lbl c2  \" ><span class=\"nd\">note:18986 </span></div><div class=\"features\"><span class=\"sibling xft\" ><span class=\"e\" edge=\"sibling\" nd=\"18986\">sibling•</span>\n",
       "<span\n",
       "    ef=\"sibling\"\n",
       "    nd=\"18986\"\n",
       "    md=\"18987\"\n",
       "    arrow=\"right\"\n",
       "    class=\"etf\" \n",
       ">1<span class=\"etfx\">↦</span><span class=\"nde\">18987</span></span>\n",
       "</span></div><div class=\"children hor wrap \"><div class=\"contnr c2    \" ><div class=\"lbl c2  \" ><span class=\"nd\">sentence:21252 </span></div><div class=\"children hor wrap \"><div class=\"contnr c1    \" ><div class=\"lbl c1  \" ><span class=\"nd\">rs:19561 </span></div><div class=\"features\"><span class=\"sibling xft\" ><span class=\"e\" edge=\"sibling\" nd=\"19561\">sibling•</span>\n",
       "<span\n",
       "    ef=\"sibling\"\n",
       "    nd=\"19561\"\n",
       "    md=\"19448\"\n",
       "    arrow=\"right\"\n",
       "    class=\"etf\" \n",
       ">1<span class=\"etfx\">↦</span><span class=\"nde\">19448</span></span>\n",
       "</span></div><div class=\"children hor wrap \"><div class=\"contnr c1    \" ><div class=\"lbl c1  \" ><span class=\"nd\">token:34067 </span></div><div class=\"children hor wrap \"><div class=\"contnr c0 trm   \" ><div class=\"lbl c0 trm \" ><span class=\"nd\">342 </span> <span class=\"txtu\"><span class=\" is_note\">Aletta</span></span></div></div></div></div></div></div></div></div><div class=\"contnr c1    \" ><div class=\"lbl c1  \" ><span class=\"nd\">token:34068 </span></div><div class=\"children hor wrap \"><div class=\"contnr c0 trm   \" ><div class=\"lbl c0 trm \" ><span class=\"nd\">343 </span> <span class=\"txtu\"><span class=\" is_note\"> </span></span></div></div></div></div><div class=\"contnr c2    \" ><div class=\"lbl c2  \" ><span class=\"nd\">sentence:21253 </span></div><div class=\"children hor wrap \"><div class=\"contnr c1    \" ><div class=\"lbl c1  \" ><span class=\"nd\">token:34069 </span></div><div class=\"children hor wrap \"><div class=\"contnr c0 trm   \" ><div class=\"lbl c0 trm \" ><span class=\"nd\">344 </span> <span class=\"txtu\"><span class=\" is_note\">werd </span></span></div></div></div></div><div class=\"contnr c1    \" ><div class=\"lbl c1  \" ><span class=\"nd\">token:34070 </span></div><div class=\"children hor wrap \"><div class=\"contnr c0 trm   \" ><div class=\"lbl c0 trm \" ><span class=\"nd\">345 </span> <span class=\"txtu\"><span class=\" is_note\">binnen </span></span></div></div></div></div><div class=\"contnr c1    \" ><div class=\"lbl c1  \" ><span class=\"nd\">token:34071 </span></div><div class=\"children hor wrap \"><div class=\"contnr c0 trm   \" ><div class=\"lbl c0 trm \" ><span class=\"nd\">346 </span> <span class=\"txtu\"><span class=\" is_note\">haar </span></span></div></div></div></div><div class=\"contnr c1    \" ><div class=\"lbl c1  \" ><span class=\"nd\">token:34072 </span></div><div class=\"children hor wrap \"><div class=\"contnr c0 trm   \" ><div class=\"lbl c0 trm \" ><span class=\"nd\">347 </span> <span class=\"txtu\"><span class=\" is_note\">familie </span></span></div></div></div></div><div class=\"contnr c1    \" ><div class=\"lbl c1  \" ><span class=\"nd\">token:34073 </span></div><div class=\"children hor wrap \"><div class=\"contnr c0 trm   \" ><div class=\"lbl c0 trm \" ><span class=\"nd\">348 </span> <span class=\"txtu\"><span class=\" is_note\">aangesproken </span></span></div></div></div></div><div class=\"contnr c1    \" ><div class=\"lbl c1  \" ><span class=\"nd\">token:34074 </span></div><div class=\"children hor wrap \"><div class=\"contnr c0 trm   \" ><div class=\"lbl c0 trm \" ><span class=\"nd\">349 </span> <span class=\"txtu\"><span class=\" is_note\">met </span></span></div></div></div></div><div class=\"contnr c1    \" ><div class=\"lbl c1  \" ><span class=\"nd\">token:34075 </span></div><div class=\"children hor wrap \"><div class=\"contnr c0 trm   \" ><div class=\"lbl c0 trm \" ><span class=\"nd\">350 </span> <span class=\"txtu\"><span class=\" is_note\">de </span></span></div></div></div></div><div class=\"contnr c1    \" ><div class=\"lbl c1  \" ><span class=\"nd\">token:34076 </span></div><div class=\"children hor wrap \"><div class=\"contnr c0 trm   \" ><div class=\"lbl c0 trm \" ><span class=\"nd\">351 </span> <span class=\"txtu\"><span class=\" is_note\">koosnaam </span></span></div></div></div></div><div class=\"contnr c1    \" ><div class=\"lbl c1  \" ><span class=\"nd\">token:34077 </span></div><div class=\"children hor wrap \"><div class=\"contnr c0 trm   \" ><div class=\"lbl c0 trm \" ><span class=\"nd\">352 </span> <span class=\"txtu\"><span class=\" is_note\">'</span></span></div></div></div></div><div class=\"contnr c1    \" ><div class=\"lbl c1  \" ><span class=\"nd\">token:34078 </span></div><div class=\"children hor wrap \"><div class=\"contnr c0 trm   \" ><div class=\"lbl c0 trm \" ><span class=\"nd\">353 </span> <span class=\"txtu\"><span class=\" is_note\">Zus</span></span></div></div></div></div><div class=\"contnr c1    \" ><div class=\"lbl c1  \" ><span class=\"nd\">token:34079 </span></div><div class=\"children hor wrap \"><div class=\"contnr c0 trm   \" ><div class=\"lbl c0 trm \" ><span class=\"nd\">354 </span> <span class=\"txtu\"><span class=\" is_note\">' </span></span></div></div></div></div><div class=\"contnr c1    \" ><div class=\"lbl c1  \" ><span class=\"nd\">token:34080 </span></div><div class=\"children hor wrap \"><div class=\"contnr c0 trm   \" ><div class=\"lbl c0 trm \" ><span class=\"nd\">355 </span> <span class=\"txtu\"><span class=\" is_note\">(</span></span></div></div></div></div><div class=\"contnr c1    \" ><div class=\"lbl c1  \" ><span class=\"nd\">ref:19448 </span></div><div class=\"features\"><span class=\"sibling xft\" ><span class=\"e\" edge=\"sibling\" nd=\"19448\">sibling•</span>\n",
       "<span\n",
       "    ef=\"sibling\"\n",
       "    nd=\"19448\"\n",
       "    md=\"19561\"\n",
       "    arrow=\"left\"\n",
       "    class=\"etf\" \n",
       "><span class=\"nde\">19561</span><span class=\"etfx\">⇥</span>1</span>\n",
       "</span></div><div class=\"children hor wrap \"><div class=\"contnr c1    \" ><div class=\"lbl c1  \" ><span class=\"nd\">token:34081 </span></div><div class=\"children hor wrap \"><div class=\"contnr c0 trm   \" ><div class=\"lbl c0 trm \" ><span class=\"nd\">356 </span> <span class=\"txtu\"><span class=\" is_note\">Heteren </span></span></div></div></div></div><div class=\"contnr c1    \" ><div class=\"lbl c1  \" ><span class=\"nd\">token:34082 </span></div><div class=\"children hor wrap \"><div class=\"contnr c0 trm   \" ><div class=\"lbl c0 trm \" ><span class=\"nd\">357 </span> <span class=\"txtu\"><span class=\" is_note\">2018</span></span></div></div></div></div></div></div><div class=\"contnr c1    \" ><div class=\"lbl c1  \" ><span class=\"nd\">token:34083 </span></div><div class=\"children hor wrap \"><div class=\"contnr c0 trm   \" ><div class=\"lbl c0 trm \" ><span class=\"nd\">358 </span> <span class=\"txtu\"><span class=\" is_note\">, </span></span></div></div></div></div><div class=\"contnr c1    \" ><div class=\"lbl c1  \" ><span class=\"nd\">token:34084 </span></div><div class=\"children hor wrap \"><div class=\"contnr c0 trm   \" ><div class=\"lbl c0 trm \" ><span class=\"nd\">359 </span> <span class=\"txtu\"><span class=\" is_note\">p. </span></span></div></div></div></div><div class=\"contnr c1    \" ><div class=\"lbl c1  \" ><span class=\"nd\">token:34085 </span></div><div class=\"children hor wrap \"><div class=\"contnr c0 trm   \" ><div class=\"lbl c0 trm \" ><span class=\"nd\">360 </span> <span class=\"txtu\"><span class=\" is_note\">25</span></span></div></div></div></div><div class=\"contnr c1    \" ><div class=\"lbl c1  \" ><span class=\"nd\">token:34086 </span></div><div class=\"children hor wrap \"><div class=\"contnr c0 trm   \" ><div class=\"lbl c0 trm \" ><span class=\"nd\">361 </span> <span class=\"txtu\"><span class=\" is_note\">) </span></span></div></div></div></div><div class=\"contnr c1    \" ><div class=\"lbl c1  \" ><span class=\"nd\">token:34087 </span></div><div class=\"children hor wrap \"><div class=\"contnr c0 trm   \" ><div class=\"lbl c0 trm \" ><span class=\"nd\">362 </span> <span class=\"txtu\"><span class=\" is_note\">Mondriaans </span></span></div></div></div></div><div class=\"contnr c1    \" ><div class=\"lbl c1  \" ><span class=\"nd\">token:34088 </span></div><div class=\"children hor wrap \"><div class=\"contnr c0 trm   \" ><div class=\"lbl c0 trm \" ><span class=\"nd\">363 </span> <span class=\"txtu\"><span class=\" is_note\">gebruik </span></span></div></div></div></div><div class=\"contnr c1    \" ><div class=\"lbl c1  \" ><span class=\"nd\">token:34089 </span></div><div class=\"children hor wrap \"><div class=\"contnr c0 trm   \" ><div class=\"lbl c0 trm \" ><span class=\"nd\">364 </span> <span class=\"txtu\"><span class=\" is_note\">van </span></span></div></div></div></div><div class=\"contnr c1    \" ><div class=\"lbl c1  \" ><span class=\"nd\">token:34090 </span></div><div class=\"children hor wrap \"><div class=\"contnr c0 trm   \" ><div class=\"lbl c0 trm \" ><span class=\"nd\">365 </span> <span class=\"txtu\"><span class=\" is_note\">deze </span></span></div></div></div></div><div class=\"contnr c1    \" ><div class=\"lbl c1  \" ><span class=\"nd\">token:34091 </span></div><div class=\"children hor wrap \"><div class=\"contnr c0 trm   \" ><div class=\"lbl c0 trm \" ><span class=\"nd\">366 </span> <span class=\"txtu\"><span class=\" is_note\">naam </span></span></div></div></div></div><div class=\"contnr c1    \" ><div class=\"lbl c1  \" ><span class=\"nd\">token:34092 </span></div><div class=\"children hor wrap \"><div class=\"contnr c0 trm   \" ><div class=\"lbl c0 trm \" ><span class=\"nd\">367 </span> <span class=\"txtu\"><span class=\" is_note\">geeft </span></span></div></div></div></div><div class=\"contnr c1    \" ><div class=\"lbl c1  \" ><span class=\"nd\">token:34093 </span></div><div class=\"children hor wrap \"><div class=\"contnr c0 trm   \" ><div class=\"lbl c0 trm \" ><span class=\"nd\">368 </span> <span class=\"txtu\"><span class=\" is_note\">aan </span></span></div></div></div></div><div class=\"contnr c1    \" ><div class=\"lbl c1  \" ><span class=\"nd\">token:34094 </span></div><div class=\"children hor wrap \"><div class=\"contnr c0 trm   \" ><div class=\"lbl c0 trm \" ><span class=\"nd\">369 </span> <span class=\"txtu\"><span class=\" is_note\">dat </span></span></div></div></div></div><div class=\"contnr c1    \" ><div class=\"lbl c1  \" ><span class=\"nd\">token:34095 </span></div><div class=\"children hor wrap \"><div class=\"contnr c0 trm   \" ><div class=\"lbl c0 trm \" ><span class=\"nd\">370 </span> <span class=\"txtu\"><span class=\" is_note\">hij </span></span></div></div></div></div><div class=\"contnr c1    \" ><div class=\"lbl c1  \" ><span class=\"nd\">token:34096 </span></div><div class=\"children hor wrap \"><div class=\"contnr c0 trm   \" ><div class=\"lbl c0 trm \" ><span class=\"nd\">371 </span> <span class=\"txtu\"><span class=\" is_note\">op </span></span></div></div></div></div><div class=\"contnr c1    \" ><div class=\"lbl c1  \" ><span class=\"nd\">token:34097 </span></div><div class=\"children hor wrap \"><div class=\"contnr c0 trm   \" ><div class=\"lbl c0 trm \" ><span class=\"nd\">372 </span> <span class=\"txtu\"><span class=\" is_note\">intieme </span></span></div></div></div></div><div class=\"contnr c1    \" ><div class=\"lbl c1  \" ><span class=\"nd\">token:34098 </span></div><div class=\"children hor wrap \"><div class=\"contnr c0 trm   \" ><div class=\"lbl c0 trm \" ><span class=\"nd\">373 </span> <span class=\"txtu\"><span class=\" is_note\">voet </span></span></div></div></div></div><div class=\"contnr c1    \" ><div class=\"lbl c1  \" ><span class=\"nd\">token:34099 </span></div><div class=\"children hor wrap \"><div class=\"contnr c0 trm   \" ><div class=\"lbl c0 trm \" ><span class=\"nd\">374 </span> <span class=\"txtu\"><span class=\" is_note\">stond </span></span></div></div></div></div><div class=\"contnr c1    \" ><div class=\"lbl c1  \" ><span class=\"nd\">token:34100 </span></div><div class=\"children hor wrap \"><div class=\"contnr c0 trm   \" ><div class=\"lbl c0 trm \" ><span class=\"nd\">375 </span> <span class=\"txtu\"><span class=\" is_note\">met </span></span></div></div></div></div><div class=\"contnr c1    \" ><div class=\"lbl c1  \" ><span class=\"nd\">token:34101 </span></div><div class=\"children hor wrap \"><div class=\"contnr c0 trm   \" ><div class=\"lbl c0 trm \" ><span class=\"nd\">376 </span> <span class=\"txtu\"><span class=\" is_note\">De </span></span></div></div></div></div><div class=\"contnr c1    \" ><div class=\"lbl c1  \" ><span class=\"nd\">token:34102 </span></div><div class=\"children hor wrap \"><div class=\"contnr c0 trm   \" ><div class=\"lbl c0 trm \" ><span class=\"nd\">377 </span> <span class=\"txtu\"><span class=\" is_note\">Iongh</span></span></div></div></div></div><div class=\"contnr c1    \" ><div class=\"lbl c1  \" ><span class=\"nd\">token:34103 </span></div><div class=\"children hor wrap \"><div class=\"contnr c0 trm   \" ><div class=\"lbl c0 trm \" ><span class=\"nd\">378 </span> <span class=\"txtu\"><span class=\" is_note\">.</span></span></div></div></div></div></div></div><div class=\"contnr c1    \" ><div class=\"lbl c1  \" ><span class=\"nd\">token:34104 </span></div><div class=\"children hor wrap \"><div class=\"contnr c0 trm   \" ><div class=\"lbl c0 trm \" ><span class=\"nd\">379 </span> <span class=\"txtu\"><span class=\" is_note\"><br></span></span></div></div></div></div></div></div><div class=\"contnr c2    \" ><div class=\"lbl c2  \" ><span class=\"nd\">note:18987 </span></div><div class=\"features\"><span class=\"sibling xft\" ><span class=\"e\" edge=\"sibling\" nd=\"18987\">sibling•</span>\n",
       "<span\n",
       "    ef=\"sibling\"\n",
       "    nd=\"18987\"\n",
       "    md=\"18986\"\n",
       "    arrow=\"left\"\n",
       "    class=\"etf\" \n",
       "><span class=\"nde\">18986</span><span class=\"etfx\">⇥</span>1</span>\n",
       "</span></div><div class=\"children hor wrap \"><div class=\"contnr c2    \" ><div class=\"lbl c2  \" ><span class=\"nd\">sentence:21254 </span></div><div class=\"children hor wrap \"><div class=\"contnr c1    \" ><div class=\"lbl c1  \" ><span class=\"nd\">token:34105 </span></div><div class=\"children hor wrap \"><div class=\"contnr c0 trm   \" ><div class=\"lbl c0 trm \" ><span class=\"nd\">380 </span> <span class=\"txtu\"><span class=\" is_note\">De </span></span></div></div></div></div><div class=\"contnr c1    \" ><div class=\"lbl c1  \" ><span class=\"nd\">token:34106 </span></div><div class=\"children hor wrap \"><div class=\"contnr c0 trm   \" ><div class=\"lbl c0 trm \" ><span class=\"nd\">381 </span> <span class=\"txtu\"><span class=\" is_note\">Amerikaanse </span></span></div></div></div></div><div class=\"contnr c1    \" ><div class=\"lbl c1  \" ><span class=\"nd\">token:34107 </span></div><div class=\"children hor wrap \"><div class=\"contnr c0 trm   \" ><div class=\"lbl c0 trm \" ><span class=\"nd\">382 </span> <span class=\"txtu\"><span class=\" is_note\">pianist </span></span></div></div></div></div><div class=\"contnr c1    \" ><div class=\"lbl c1  \" ><span class=\"nd\">rs:19562 </span></div><div class=\"children hor wrap \"><div class=\"contnr c1    \" ><div class=\"lbl c1  \" ><span class=\"nd\">token:34108 </span></div><div class=\"children hor wrap \"><div class=\"contnr c0 trm   \" ><div class=\"lbl c0 trm \" ><span class=\"nd\">383 </span> <span class=\"txtu\"><span class=\" is_note\">Richard </span></span></div></div></div></div><div class=\"contnr c1    \" ><div class=\"lbl c1  \" ><span class=\"nd\">token:34109 </span></div><div class=\"children hor wrap \"><div class=\"contnr c0 trm   \" ><div class=\"lbl c0 trm \" ><span class=\"nd\">384 </span> <span class=\"txtu\"><span class=\" is_note\">Moritz </span></span></div></div></div></div><div class=\"contnr c1    \" ><div class=\"lbl c1  \" ><span class=\"nd\">token:34110 </span></div><div class=\"children hor wrap \"><div class=\"contnr c0 trm   \" ><div class=\"lbl c0 trm \" ><span class=\"nd\">385 </span> <span class=\"txtu\"><span class=\" is_note\">Buhlig</span></span></div></div></div></div></div></div><div class=\"contnr c1    \" ><div class=\"lbl c1  \" ><span class=\"nd\">token:34111 </span></div><div class=\"children hor wrap \"><div class=\"contnr c0 trm   \" ><div class=\"lbl c0 trm \" ><span class=\"nd\">386 </span> <span class=\"txtu\"><span class=\" is_note\"> </span></span></div></div></div></div><div class=\"contnr c1    \" ><div class=\"lbl c1  \" ><span class=\"nd\">token:34112 </span></div><div class=\"children hor wrap \"><div class=\"contnr c0 trm   \" ><div class=\"lbl c0 trm \" ><span class=\"nd\">387 </span> <span class=\"txtu\"><span class=\" is_note\">(</span></span></div></div></div></div><div class=\"contnr c1    \" ><div class=\"lbl c1  \" ><span class=\"nd\">token:34113 </span></div><div class=\"children hor wrap \"><div class=\"contnr c0 trm   \" ><div class=\"lbl c0 trm \" ><span class=\"nd\">388 </span> <span class=\"txtu\"><span class=\" is_note\">1880</span></span></div></div></div></div><div class=\"contnr c1    \" ><div class=\"lbl c1  \" ><span class=\"nd\">token:34114 </span></div><div class=\"children hor wrap \"><div class=\"contnr c0 trm   \" ><div class=\"lbl c0 trm \" ><span class=\"nd\">389 </span> <span class=\"txtu\"><span class=\" is_note\">-</span></span></div></div></div></div><div class=\"contnr c1    \" ><div class=\"lbl c1  \" ><span class=\"nd\">token:34115 </span></div><div class=\"children hor wrap \"><div class=\"contnr c0 trm   \" ><div class=\"lbl c0 trm \" ><span class=\"nd\">390 </span> <span class=\"txtu\"><span class=\" is_note\">1952</span></span></div></div></div></div><div class=\"contnr c1    \" ><div class=\"lbl c1  \" ><span class=\"nd\">token:34116 </span></div><div class=\"children hor wrap \"><div class=\"contnr c0 trm   \" ><div class=\"lbl c0 trm \" ><span class=\"nd\">391 </span> <span class=\"txtu\"><span class=\" is_note\">) </span></span></div></div></div></div><div class=\"contnr c1    \" ><div class=\"lbl c1  \" ><span class=\"nd\">token:34117 </span></div><div class=\"children hor wrap \"><div class=\"contnr c0 trm   \" ><div class=\"lbl c0 trm \" ><span class=\"nd\">392 </span> <span class=\"txtu\"><span class=\" is_note\">gaf </span></span></div></div></div></div><div class=\"contnr c1    \" ><div class=\"lbl c1  \" ><span class=\"nd\">token:34118 </span></div><div class=\"children hor wrap \"><div class=\"contnr c0 trm   \" ><div class=\"lbl c0 trm \" ><span class=\"nd\">393 </span> <span class=\"txtu\"><span class=\" is_note\">begin </span></span></div></div></div></div><div class=\"contnr c1    \" ><div class=\"lbl c1  \" ><span class=\"nd\">token:34119 </span></div><div class=\"children hor wrap \"><div class=\"contnr c0 trm   \" ><div class=\"lbl c0 trm \" ><span class=\"nd\">394 </span> <span class=\"txtu\"><span class=\" is_note\">1909 </span></span></div></div></div></div><div class=\"contnr c1    \" ><div class=\"lbl c1  \" ><span class=\"nd\">token:34120 </span></div><div class=\"children hor wrap \"><div class=\"contnr c0 trm   \" ><div class=\"lbl c0 trm \" ><span class=\"nd\">395 </span> <span class=\"txtu\"><span class=\" is_note\">drie </span></span></div></div></div></div><div class=\"contnr c1    \" ><div class=\"lbl c1  \" ><span class=\"nd\">token:34121 </span></div><div class=\"children hor wrap \"><div class=\"contnr c0 trm   \" ><div class=\"lbl c0 trm \" ><span class=\"nd\">396 </span> <span class=\"txtu\"><span class=\" is_note\">concerten </span></span></div></div></div></div><div class=\"contnr c1    \" ><div class=\"lbl c1  \" ><span class=\"nd\">token:34122 </span></div><div class=\"children hor wrap \"><div class=\"contnr c0 trm   \" ><div class=\"lbl c0 trm \" ><span class=\"nd\">397 </span> <span class=\"txtu\"><span class=\" is_note\">in </span></span></div></div></div></div><div class=\"contnr c1    \" ><div class=\"lbl c1  \" ><span class=\"nd\">token:34123 </span></div><div class=\"children hor wrap \"><div class=\"contnr c0 trm   \" ><div class=\"lbl c0 trm \" ><span class=\"nd\">398 </span> <span class=\"txtu\"><span class=\" is_note\">de </span></span></div></div></div></div><div class=\"contnr c1    \" ><div class=\"lbl c1  \" ><span class=\"nd\">token:34124 </span></div><div class=\"children hor wrap \"><div class=\"contnr c0 trm   \" ><div class=\"lbl c0 trm \" ><span class=\"nd\">399 </span> <span class=\"txtu\"><span class=\" is_note\">kleine </span></span></div></div></div></div><div class=\"contnr c1    \" ><div class=\"lbl c1  \" ><span class=\"nd\">token:34125 </span></div><div class=\"children hor wrap \"><div class=\"contnr c0 trm   \" ><div class=\"lbl c0 trm \" ><span class=\"nd\">400 </span> <span class=\"txtu\"><span class=\" is_note\">zaal </span></span></div></div></div></div><div class=\"contnr c1    \" ><div class=\"lbl c1  \" ><span class=\"nd\">token:34126 </span></div><div class=\"children hor wrap \"><div class=\"contnr c0 trm   \" ><div class=\"lbl c0 trm \" ><span class=\"nd\">401 </span> <span class=\"txtu\"><span class=\" is_note\">van </span></span></div></div></div></div><div class=\"contnr c1    \" ><div class=\"lbl c1  \" ><span class=\"nd\">token:34127 </span></div><div class=\"children hor wrap \"><div class=\"contnr c0 trm   \" ><div class=\"lbl c0 trm \" ><span class=\"nd\">402 </span> <span class=\"txtu\"><span class=\" is_note\">het </span></span></div></div></div></div><div class=\"contnr c1    \" ><div class=\"lbl c1  \" ><span class=\"nd\">token:34128 </span></div><div class=\"children hor wrap \"><div class=\"contnr c0 trm   \" ><div class=\"lbl c0 trm \" ><span class=\"nd\">403 </span> <span class=\"txtu\"><span class=\" is_note\">Concertgebouw</span></span></div></div></div></div><div class=\"contnr c1    \" ><div class=\"lbl c1  \" ><span class=\"nd\">token:34129 </span></div><div class=\"children hor wrap \"><div class=\"contnr c0 trm   \" ><div class=\"lbl c0 trm \" ><span class=\"nd\">404 </span> <span class=\"txtu\"><span class=\" is_note\">, </span></span></div></div></div></div><div class=\"contnr c1    \" ><div class=\"lbl c1  \" ><span class=\"nd\">token:34130 </span></div><div class=\"children hor wrap \"><div class=\"contnr c0 trm   \" ><div class=\"lbl c0 trm \" ><span class=\"nd\">405 </span> <span class=\"txtu\"><span class=\" is_note\">op </span></span></div></div></div></div><div class=\"contnr c1    \" ><div class=\"lbl c1  \" ><span class=\"nd\">token:34131 </span></div><div class=\"children hor wrap \"><div class=\"contnr c0 trm   \" ><div class=\"lbl c0 trm \" ><span class=\"nd\">406 </span> <span class=\"txtu\"><span class=\" is_note\">woensdag </span></span></div></div></div></div><div class=\"contnr c1    \" ><div class=\"lbl c1  \" ><span class=\"nd\">token:34132 </span></div><div class=\"children hor wrap \"><div class=\"contnr c0 trm   \" ><div class=\"lbl c0 trm \" ><span class=\"nd\">407 </span> <span class=\"txtu\"><span class=\" is_note\">17 </span></span></div></div></div></div><div class=\"contnr c1    \" ><div class=\"lbl c1  \" ><span class=\"nd\">token:34133 </span></div><div class=\"children hor wrap \"><div class=\"contnr c0 trm   \" ><div class=\"lbl c0 trm \" ><span class=\"nd\">408 </span> <span class=\"txtu\"><span class=\" is_note\">februari</span></span></div></div></div></div><div class=\"contnr c1    \" ><div class=\"lbl c1  \" ><span class=\"nd\">token:34134 </span></div><div class=\"children hor wrap \"><div class=\"contnr c0 trm   \" ><div class=\"lbl c0 trm \" ><span class=\"nd\">409 </span> <span class=\"txtu\"><span class=\" is_note\">, </span></span></div></div></div></div><div class=\"contnr c1    \" ><div class=\"lbl c1  \" ><span class=\"nd\">token:34135 </span></div><div class=\"children hor wrap \"><div class=\"contnr c0 trm   \" ><div class=\"lbl c0 trm \" ><span class=\"nd\">410 </span> <span class=\"txtu\"><span class=\" is_note\">woensdag </span></span></div></div></div></div><div class=\"contnr c1    \" ><div class=\"lbl c1  \" ><span class=\"nd\">token:34136 </span></div><div class=\"children hor wrap \"><div class=\"contnr c0 trm   \" ><div class=\"lbl c0 trm \" ><span class=\"nd\">411 </span> <span class=\"txtu\"><span class=\" is_note\">3 </span></span></div></div></div></div><div class=\"contnr c1    \" ><div class=\"lbl c1  \" ><span class=\"nd\">token:34137 </span></div><div class=\"children hor wrap \"><div class=\"contnr c0 trm   \" ><div class=\"lbl c0 trm \" ><span class=\"nd\">412 </span> <span class=\"txtu\"><span class=\" is_note\">maart </span></span></div></div></div></div><div class=\"contnr c1    \" ><div class=\"lbl c1  \" ><span class=\"nd\">token:34138 </span></div><div class=\"children hor wrap \"><div class=\"contnr c0 trm   \" ><div class=\"lbl c0 trm \" ><span class=\"nd\">413 </span> <span class=\"txtu\"><span class=\" is_note\">en </span></span></div></div></div></div><div class=\"contnr c1    \" ><div class=\"lbl c1  \" ><span class=\"nd\">token:34139 </span></div><div class=\"children hor wrap \"><div class=\"contnr c0 trm   \" ><div class=\"lbl c0 trm \" ><span class=\"nd\">414 </span> <span class=\"txtu\"><span class=\" is_note\">woensdag </span></span></div></div></div></div><div class=\"contnr c1    \" ><div class=\"lbl c1  \" ><span class=\"nd\">token:34140 </span></div><div class=\"children hor wrap \"><div class=\"contnr c0 trm   \" ><div class=\"lbl c0 trm \" ><span class=\"nd\">415 </span> <span class=\"txtu\"><span class=\" is_note\">10 </span></span></div></div></div></div><div class=\"contnr c1    \" ><div class=\"lbl c1  \" ><span class=\"nd\">token:34141 </span></div><div class=\"children hor wrap \"><div class=\"contnr c0 trm   \" ><div class=\"lbl c0 trm \" ><span class=\"nd\">416 </span> <span class=\"txtu\"><span class=\" is_note\">maart</span></span></div></div></div></div><div class=\"contnr c1    \" ><div class=\"lbl c1  \" ><span class=\"nd\">token:34142 </span></div><div class=\"children hor wrap \"><div class=\"contnr c0 trm   \" ><div class=\"lbl c0 trm \" ><span class=\"nd\">417 </span> <span class=\"txtu\"><span class=\" is_note\">. </span></span></div></div></div></div></div></div><div class=\"contnr c2    \" ><div class=\"lbl c2  \" ><span class=\"nd\">sentence:21255 </span></div><div class=\"children hor wrap \"><div class=\"contnr c1    \" ><div class=\"lbl c1  \" ><span class=\"nd\">token:34143 </span></div><div class=\"children hor wrap \"><div class=\"contnr c0 trm   \" ><div class=\"lbl c0 trm \" ><span class=\"nd\">418 </span> <span class=\"txtu\"><span class=\" is_note\">Het </span></span></div></div></div></div><div class=\"contnr c1    \" ><div class=\"lbl c1  \" ><span class=\"nd\">token:34144 </span></div><div class=\"children hor wrap \"><div class=\"contnr c0 trm   \" ><div class=\"lbl c0 trm \" ><span class=\"nd\">419 </span> <span class=\"txtu\"><span class=\" is_note\">is </span></span></div></div></div></div><div class=\"contnr c1    \" ><div class=\"lbl c1  \" ><span class=\"nd\">token:34145 </span></div><div class=\"children hor wrap \"><div class=\"contnr c0 trm   \" ><div class=\"lbl c0 trm \" ><span class=\"nd\">420 </span> <span class=\"txtu\"><span class=\" is_note\">niet </span></span></div></div></div></div><div class=\"contnr c1    \" ><div class=\"lbl c1  \" ><span class=\"nd\">token:34146 </span></div><div class=\"children hor wrap \"><div class=\"contnr c0 trm   \" ><div class=\"lbl c0 trm \" ><span class=\"nd\">421 </span> <span class=\"txtu\"><span class=\" is_note\">bekend </span></span></div></div></div></div><div class=\"contnr c1    \" ><div class=\"lbl c1  \" ><span class=\"nd\">token:34147 </span></div><div class=\"children hor wrap \"><div class=\"contnr c0 trm   \" ><div class=\"lbl c0 trm \" ><span class=\"nd\">422 </span> <span class=\"txtu\"><span class=\" is_note\">voor </span></span></div></div></div></div><div class=\"contnr c1    \" ><div class=\"lbl c1  \" ><span class=\"nd\">token:34148 </span></div><div class=\"children hor wrap \"><div class=\"contnr c0 trm   \" ><div class=\"lbl c0 trm \" ><span class=\"nd\">423 </span> <span class=\"txtu\"><span class=\" is_note\">welke </span></span></div></div></div></div><div class=\"contnr c1    \" ><div class=\"lbl c1  \" ><span class=\"nd\">token:34149 </span></div><div class=\"children hor wrap \"><div class=\"contnr c0 trm   \" ><div class=\"lbl c0 trm \" ><span class=\"nd\">424 </span> <span class=\"txtu\"><span class=\" is_note\">van </span></span></div></div></div></div><div class=\"contnr c1    \" ><div class=\"lbl c1  \" ><span class=\"nd\">token:34150 </span></div><div class=\"children hor wrap \"><div class=\"contnr c0 trm   \" ><div class=\"lbl c0 trm \" ><span class=\"nd\">425 </span> <span class=\"txtu\"><span class=\" is_note\">deze </span></span></div></div></div></div><div class=\"contnr c1    \" ><div class=\"lbl c1  \" ><span class=\"nd\">token:34151 </span></div><div class=\"children hor wrap \"><div class=\"contnr c0 trm   \" ><div class=\"lbl c0 trm \" ><span class=\"nd\">426 </span> <span class=\"txtu\"><span class=\" is_note\">concerten </span></span></div></div></div></div><div class=\"contnr c1    \" ><div class=\"lbl c1  \" ><span class=\"nd\">token:34152 </span></div><div class=\"children hor wrap \"><div class=\"contnr c0 trm   \" ><div class=\"lbl c0 trm \" ><span class=\"nd\">427 </span> <span class=\"txtu\"><span class=\" is_note\">Mondriaan </span></span></div></div></div></div><div class=\"contnr c1    \" ><div class=\"lbl c1  \" ><span class=\"nd\">token:34153 </span></div><div class=\"children hor wrap \"><div class=\"contnr c0 trm   \" ><div class=\"lbl c0 trm \" ><span class=\"nd\">428 </span> <span class=\"txtu\"><span class=\" is_note\">kaarten </span></span></div></div></div></div><div class=\"contnr c1    \" ><div class=\"lbl c1  \" ><span class=\"nd\">token:34154 </span></div><div class=\"children hor wrap \"><div class=\"contnr c0 trm   \" ><div class=\"lbl c0 trm \" ><span class=\"nd\">429 </span> <span class=\"txtu\"><span class=\" is_note\">had</span></span></div></div></div></div><div class=\"contnr c1    \" ><div class=\"lbl c1  \" ><span class=\"nd\">token:34155 </span></div><div class=\"children hor wrap \"><div class=\"contnr c0 trm   \" ><div class=\"lbl c0 trm \" ><span class=\"nd\">430 </span> <span class=\"txtu\"><span class=\" is_note\">.</span></span></div></div></div></div></div></div><div class=\"contnr c1    \" ><div class=\"lbl c1  \" ><span class=\"nd\">token:34156 </span></div><div class=\"children hor wrap \"><div class=\"contnr c0 trm   \" ><div class=\"lbl c0 trm \" ><span class=\"nd\">431 </span> <span class=\"txtu\"><span class=\" is_note\"><br></span></span></div></div></div></div></div></div><div class=\"contnr c2    \" ><div class=\"lbl c2  \" ><span class=\"nd\">note:18988 </span></div><div class=\"features\"><span class=\"sibling xft\" ><span class=\"e\" edge=\"sibling\" nd=\"18988\">sibling•</span>\n",
       "<span\n",
       "    ef=\"sibling\"\n",
       "    nd=\"18988\"\n",
       "    md=\"18989\"\n",
       "    arrow=\"right\"\n",
       "    class=\"etf\" \n",
       ">1<span class=\"etfx\">↦</span><span class=\"nde\">18989</span></span>\n",
       "</span></div><div class=\"children hor wrap \"><div class=\"contnr c2    \" ><div class=\"lbl c2  \" ><span class=\"nd\">sentence:21256 </span></div><div class=\"children hor wrap \"><div class=\"contnr c1    \" ><div class=\"lbl c1  \" ><span class=\"nd\">token:34157 </span></div><div class=\"children hor wrap \"><div class=\"contnr c0 trm   \" ><div class=\"lbl c0 trm \" ><span class=\"nd\">432 </span> <span class=\"txtu\"><span class=\" is_note\">*</span></span></div></div></div></div></div></div><div class=\"contnr c2    \" ><div class=\"lbl c2  \" ><span class=\"nd\">sentence:21257 </span></div><div class=\"children hor wrap \"><div class=\"contnr c1    \" ><div class=\"lbl c1  \" ><span class=\"nd\">token:34158 </span></div><div class=\"children hor wrap \"><div class=\"contnr c0 trm   \" ><div class=\"lbl c0 trm \" ><span class=\"nd\">433 </span> <span class=\"txtu\"><span class=\" is_note\">*</span></span></div></div></div></div><div class=\"contnr c1    \" ><div class=\"lbl c1  \" ><span class=\"nd\">token:34159 </span></div><div class=\"children hor wrap \"><div class=\"contnr c0 trm   \" ><div class=\"lbl c0 trm \" ><span class=\"nd\">434 </span> <span class=\"txtu\"><span class=\" is_note\">SUBSTITUTE </span></span></div></div></div></div><div class=\"contnr c1    \" ><div class=\"lbl c1  \" ><span class=\"nd\">token:34160 </span></div><div class=\"children hor wrap \"><div class=\"contnr c0 trm   \" ><div class=\"lbl c0 trm \" ><span class=\"nd\">435 </span> <span class=\"txtu\"><span class=\" is_note\">FOR </span></span></div></div></div></div><div class=\"contnr c1    \" ><div class=\"lbl c1  \" ><span class=\"nd\">token:34161 </span></div><div class=\"children hor wrap \"><div class=\"contnr c0 trm   \" ><div class=\"lbl c0 trm \" ><span class=\"nd\">436 </span> <span class=\"txtu\"><span class=\" is_note\">ENGLISH</span></span></div></div></div></div><div class=\"contnr c1    \" ><div class=\"lbl c1  \" ><span class=\"nd\">token:34162 </span></div><div class=\"children hor wrap \"><div class=\"contnr c0 trm   \" ><div class=\"lbl c0 trm \" ><span class=\"nd\">437 </span> <span class=\"txtu\"><span class=\" is_note\">*</span></span></div></div></div></div><div class=\"contnr c1    \" ><div class=\"lbl c1  \" ><span class=\"nd\">token:34163 </span></div><div class=\"children hor wrap \"><div class=\"contnr c0 trm   \" ><div class=\"lbl c0 trm \" ><span class=\"nd\">438 </span> <span class=\"txtu\"><span class=\" is_note\">* </span></span></div></div></div></div><div class=\"contnr c1    \" ><div class=\"lbl c1  \" ><span class=\"nd\">token:34164 </span></div><div class=\"children hor wrap \"><div class=\"contnr c0 trm   \" ><div class=\"lbl c0 trm \" ><span class=\"nd\">439 </span> <span class=\"txtu\"><span class=\" is_note\">Manuscript</span></span></div></div></div></div><div class=\"contnr c1    \" ><div class=\"lbl c1  \" ><span class=\"nd\">token:34165 </span></div><div class=\"children hor wrap \"><div class=\"contnr c0 trm   \" ><div class=\"lbl c0 trm \" ><span class=\"nd\">440 </span> <span class=\"txtu\"><span class=\" is_note\">.</span></span></div></div></div></div></div></div><div class=\"contnr c1    \" ><div class=\"lbl c1  \" ><span class=\"nd\">token:34166 </span></div><div class=\"children hor wrap \"><div class=\"contnr c0 trm   \" ><div class=\"lbl c0 trm \" ><span class=\"nd\">441 </span> <span class=\"txtu\"><span class=\" is_note\"><br></span></span></div></div></div></div></div></div><div class=\"contnr c2    \" ><div class=\"lbl c2  \" ><span class=\"nd\">note:18989 </span></div><div class=\"features\"><span class=\"sibling xft\" ><span class=\"e\" edge=\"sibling\" nd=\"18989\">sibling•</span>\n",
       "<span\n",
       "    ef=\"sibling\"\n",
       "    nd=\"18989\"\n",
       "    md=\"18988\"\n",
       "    arrow=\"left\"\n",
       "    class=\"etf\" \n",
       "><span class=\"nde\">18988</span><span class=\"etfx\">⇥</span>1</span>\n",
       "</span></div><div class=\"children hor wrap \"><div class=\"contnr c2    \" ><div class=\"lbl c2  \" ><span class=\"nd\">sentence:21258 </span></div><div class=\"children hor wrap \"><div class=\"contnr c1    \" ><div class=\"lbl c1  \" ><span class=\"nd\">token:34167 </span></div><div class=\"children hor wrap \"><div class=\"contnr c0 trm   \" ><div class=\"lbl c0 trm \" ><span class=\"nd\">442 </span> <span class=\"txtu\"><span class=\" is_note\">*</span></span></div></div></div></div></div></div><div class=\"contnr c2    \" ><div class=\"lbl c2  \" ><span class=\"nd\">sentence:21259 </span></div><div class=\"children hor wrap \"><div class=\"contnr c1    \" ><div class=\"lbl c1  \" ><span class=\"nd\">token:34168 </span></div><div class=\"children hor wrap \"><div class=\"contnr c0 trm   \" ><div class=\"lbl c0 trm \" ><span class=\"nd\">443 </span> <span class=\"txtu\"><span class=\" is_note\">*</span></span></div></div></div></div><div class=\"contnr c1    \" ><div class=\"lbl c1  \" ><span class=\"nd\">token:34169 </span></div><div class=\"children hor wrap \"><div class=\"contnr c0 trm   \" ><div class=\"lbl c0 trm \" ><span class=\"nd\">444 </span> <span class=\"txtu\"><span class=\" is_note\">SUBSTITUTE </span></span></div></div></div></div><div class=\"contnr c1    \" ><div class=\"lbl c1  \" ><span class=\"nd\">token:34170 </span></div><div class=\"children hor wrap \"><div class=\"contnr c0 trm   \" ><div class=\"lbl c0 trm \" ><span class=\"nd\">445 </span> <span class=\"txtu\"><span class=\" is_note\">FOR </span></span></div></div></div></div><div class=\"contnr c1    \" ><div class=\"lbl c1  \" ><span class=\"nd\">token:34171 </span></div><div class=\"children hor wrap \"><div class=\"contnr c0 trm   \" ><div class=\"lbl c0 trm \" ><span class=\"nd\">446 </span> <span class=\"txtu\"><span class=\" is_note\">ENGLISH</span></span></div></div></div></div><div class=\"contnr c1    \" ><div class=\"lbl c1  \" ><span class=\"nd\">token:34172 </span></div><div class=\"children hor wrap \"><div class=\"contnr c0 trm   \" ><div class=\"lbl c0 trm \" ><span class=\"nd\">447 </span> <span class=\"txtu\"><span class=\" is_note\">*</span></span></div></div></div></div></div></div><div class=\"contnr c2    \" ><div class=\"lbl c2  \" ><span class=\"nd\">sentence:21260 </span></div><div class=\"children hor wrap \"><div class=\"contnr c1    \" ><div class=\"lbl c1  \" ><span class=\"nd\">token:34173 </span></div><div class=\"children hor wrap \"><div class=\"contnr c0 trm   \" ><div class=\"lbl c0 trm \" ><span class=\"nd\">448 </span> <span class=\"txtu\"><span class=\" is_note\">* </span></span></div></div></div></div><div class=\"contnr c1    \" ><div class=\"lbl c1  \" ><span class=\"nd\">token:34174 </span></div><div class=\"children hor wrap \"><div class=\"contnr c0 trm   \" ><div class=\"lbl c0 trm \" ><span class=\"nd\">449 </span> <span class=\"txtu\"><span class=\" is_note\">De </span></span></div></div></div></div><div class=\"contnr c1    \" ><div class=\"lbl c1  \" ><span class=\"nd\">token:34175 </span></div><div class=\"children hor wrap \"><div class=\"contnr c0 trm   \" ><div class=\"lbl c0 trm \" ><span class=\"nd\">450 </span> <span class=\"txtu\"><span class=\" is_note\">brief </span></span></div></div></div></div><div class=\"contnr c1    \" ><div class=\"lbl c1  \" ><span class=\"nd\">token:34176 </span></div><div class=\"children hor wrap \"><div class=\"contnr c0 trm   \" ><div class=\"lbl c0 trm \" ><span class=\"nd\">451 </span> <span class=\"txtu\"><span class=\" is_note\">is </span></span></div></div></div></div><div class=\"contnr c1    \" ><div class=\"lbl c1  \" ><span class=\"nd\">token:34177 </span></div><div class=\"children hor wrap \"><div class=\"contnr c0 trm   \" ><div class=\"lbl c0 trm \" ><span class=\"nd\">452 </span> <span class=\"txtu\"><span class=\" is_note\">geschreven </span></span></div></div></div></div><div class=\"contnr c1    \" ><div class=\"lbl c1  \" ><span class=\"nd\">token:34178 </span></div><div class=\"children hor wrap \"><div class=\"contnr c0 trm   \" ><div class=\"lbl c0 trm \" ><span class=\"nd\">453 </span> <span class=\"txtu\"><span class=\" is_note\">op </span></span></div></div></div></div><div class=\"contnr c1    \" ><div class=\"lbl c1  \" ><span class=\"nd\">token:34179 </span></div><div class=\"children hor wrap \"><div class=\"contnr c0 trm   \" ><div class=\"lbl c0 trm \" ><span class=\"nd\">454 </span> <span class=\"txtu\"><span class=\" is_note\">een </span></span></div></div></div></div><div class=\"contnr c1    \" ><div class=\"lbl c1  \" ><span class=\"nd\">token:34180 </span></div><div class=\"children hor wrap \"><div class=\"contnr c0 trm   \" ><div class=\"lbl c0 trm \" ><span class=\"nd\">455 </span> <span class=\"txtu\"><span class=\" is_note\">dinsdag </span></span></div></div></div></div><div class=\"contnr c1    \" ><div class=\"lbl c1  \" ><span class=\"nd\">token:34181 </span></div><div class=\"children hor wrap \"><div class=\"contnr c0 trm   \" ><div class=\"lbl c0 trm \" ><span class=\"nd\">456 </span> <span class=\"txtu\"><span class=\" is_note\">voorafgaand </span></span></div></div></div></div><div class=\"contnr c1    \" ><div class=\"lbl c1  \" ><span class=\"nd\">token:34182 </span></div><div class=\"children hor wrap \"><div class=\"contnr c0 trm   \" ><div class=\"lbl c0 trm \" ><span class=\"nd\">457 </span> <span class=\"txtu\"><span class=\" is_note\">aan </span></span></div></div></div></div><div class=\"contnr c1    \" ><div class=\"lbl c1  \" ><span class=\"nd\">token:34183 </span></div><div class=\"children hor wrap \"><div class=\"contnr c0 trm   \" ><div class=\"lbl c0 trm \" ><span class=\"nd\">458 </span> <span class=\"txtu\"><span class=\" is_note\">een </span></span></div></div></div></div><div class=\"contnr c1    \" ><div class=\"lbl c1  \" ><span class=\"nd\">token:34184 </span></div><div class=\"children hor wrap \"><div class=\"contnr c0 trm   \" ><div class=\"lbl c0 trm \" ><span class=\"nd\">459 </span> <span class=\"txtu\"><span class=\" is_note\">van </span></span></div></div></div></div><div class=\"contnr c1    \" ><div class=\"lbl c1  \" ><span class=\"nd\">token:34185 </span></div><div class=\"children hor wrap \"><div class=\"contnr c0 trm   \" ><div class=\"lbl c0 trm \" ><span class=\"nd\">460 </span> <span class=\"txtu\"><span class=\" is_note\">de </span></span></div></div></div></div><div class=\"contnr c1    \" ><div class=\"lbl c1  \" ><span class=\"nd\">token:34186 </span></div><div class=\"children hor wrap \"><div class=\"contnr c0 trm   \" ><div class=\"lbl c0 trm \" ><span class=\"nd\">461 </span> <span class=\"txtu\"><span class=\" is_note\">drie </span></span></div></div></div></div><div class=\"contnr c1    \" ><div class=\"lbl c1  \" ><span class=\"nd\">token:34187 </span></div><div class=\"children hor wrap \"><div class=\"contnr c0 trm   \" ><div class=\"lbl c0 trm \" ><span class=\"nd\">462 </span> <span class=\"txtu\"><span class=\" is_note\">woensdagen </span></span></div></div></div></div><div class=\"contnr c1    \" ><div class=\"lbl c1  \" ><span class=\"nd\">token:34188 </span></div><div class=\"children hor wrap \"><div class=\"contnr c0 trm   \" ><div class=\"lbl c0 trm \" ><span class=\"nd\">463 </span> <span class=\"txtu\"><span class=\" is_note\">waarop </span></span></div></div></div></div><div class=\"contnr c1    \" ><div class=\"lbl c1  \" ><span class=\"nd\">rs:19563 </span></div><div class=\"features\"><span class=\"sibling xft\" ><span class=\"e\" edge=\"sibling\" nd=\"19563\">sibling•</span>\n",
       "<span\n",
       "    ef=\"sibling\"\n",
       "    nd=\"19563\"\n",
       "    md=\"19449\"\n",
       "    arrow=\"right\"\n",
       "    class=\"etf\" \n",
       ">1<span class=\"etfx\">↦</span><span class=\"nde\">19449</span></span>\n",
       "</span></div><div class=\"children hor wrap \"><div class=\"contnr c1    \" ><div class=\"lbl c1  \" ><span class=\"nd\">token:34189 </span></div><div class=\"children hor wrap \"><div class=\"contnr c0 trm   \" ><div class=\"lbl c0 trm \" ><span class=\"nd\">464 </span> <span class=\"txtu\"><span class=\" is_note\">Richard </span></span></div></div></div></div><div class=\"contnr c1    \" ><div class=\"lbl c1  \" ><span class=\"nd\">token:34190 </span></div><div class=\"children hor wrap \"><div class=\"contnr c0 trm   \" ><div class=\"lbl c0 trm \" ><span class=\"nd\">465 </span> <span class=\"txtu\"><span class=\" is_note\">Buhlig</span></span></div></div></div></div></div></div></div></div><div class=\"contnr c1    \" ><div class=\"lbl c1  \" ><span class=\"nd\">token:34191 </span></div><div class=\"children hor wrap \"><div class=\"contnr c0 trm   \" ><div class=\"lbl c0 trm \" ><span class=\"nd\">466 </span> <span class=\"txtu\"><span class=\" is_note\"> </span></span></div></div></div></div><div class=\"contnr c2    \" ><div class=\"lbl c2  \" ><span class=\"nd\">sentence:21261 </span></div><div class=\"children hor wrap \"><div class=\"contnr c1    \" ><div class=\"lbl c1  \" ><span class=\"nd\">token:34192 </span></div><div class=\"children hor wrap \"><div class=\"contnr c0 trm   \" ><div class=\"lbl c0 trm \" ><span class=\"nd\">467 </span> <span class=\"txtu\"><span class=\" is_note\">in </span></span></div></div></div></div><div class=\"contnr c1    \" ><div class=\"lbl c1  \" ><span class=\"nd\">token:34193 </span></div><div class=\"children hor wrap \"><div class=\"contnr c0 trm   \" ><div class=\"lbl c0 trm \" ><span class=\"nd\">468 </span> <span class=\"txtu\"><span class=\" is_note\">1909 </span></span></div></div></div></div><div class=\"contnr c1    \" ><div class=\"lbl c1  \" ><span class=\"nd\">token:34194 </span></div><div class=\"children hor wrap \"><div class=\"contnr c0 trm   \" ><div class=\"lbl c0 trm \" ><span class=\"nd\">469 </span> <span class=\"txtu\"><span class=\" is_note\">in </span></span></div></div></div></div><div class=\"contnr c1    \" ><div class=\"lbl c1  \" ><span class=\"nd\">token:34195 </span></div><div class=\"children hor wrap \"><div class=\"contnr c0 trm   \" ><div class=\"lbl c0 trm \" ><span class=\"nd\">470 </span> <span class=\"txtu\"><span class=\" is_note\">de </span></span></div></div></div></div><div class=\"contnr c1    \" ><div class=\"lbl c1  \" ><span class=\"nd\">token:34196 </span></div><div class=\"children hor wrap \"><div class=\"contnr c0 trm   \" ><div class=\"lbl c0 trm \" ><span class=\"nd\">471 </span> <span class=\"txtu\"><span class=\" is_note\">kleine </span></span></div></div></div></div><div class=\"contnr c1    \" ><div class=\"lbl c1  \" ><span class=\"nd\">token:34197 </span></div><div class=\"children hor wrap \"><div class=\"contnr c0 trm   \" ><div class=\"lbl c0 trm \" ><span class=\"nd\">472 </span> <span class=\"txtu\"><span class=\" is_note\">zaal </span></span></div></div></div></div><div class=\"contnr c1    \" ><div class=\"lbl c1  \" ><span class=\"nd\">token:34198 </span></div><div class=\"children hor wrap \"><div class=\"contnr c0 trm   \" ><div class=\"lbl c0 trm \" ><span class=\"nd\">473 </span> <span class=\"txtu\"><span class=\" is_note\">van </span></span></div></div></div></div><div class=\"contnr c1    \" ><div class=\"lbl c1  \" ><span class=\"nd\">token:34199 </span></div><div class=\"children hor wrap \"><div class=\"contnr c0 trm   \" ><div class=\"lbl c0 trm \" ><span class=\"nd\">474 </span> <span class=\"txtu\"><span class=\" is_note\">het </span></span></div></div></div></div><div class=\"contnr c1    \" ><div class=\"lbl c1  \" ><span class=\"nd\">token:34200 </span></div><div class=\"children hor wrap \"><div class=\"contnr c0 trm   \" ><div class=\"lbl c0 trm \" ><span class=\"nd\">475 </span> <span class=\"txtu\"><span class=\" is_note\">Concertgebouw </span></span></div></div></div></div><div class=\"contnr c1    \" ><div class=\"lbl c1  \" ><span class=\"nd\">token:34201 </span></div><div class=\"children hor wrap \"><div class=\"contnr c0 trm   \" ><div class=\"lbl c0 trm \" ><span class=\"nd\">476 </span> <span class=\"txtu\"><span class=\" is_note\">een </span></span></div></div></div></div><div class=\"contnr c1    \" ><div class=\"lbl c1  \" ><span class=\"nd\">token:34202 </span></div><div class=\"children hor wrap \"><div class=\"contnr c0 trm   \" ><div class=\"lbl c0 trm \" ><span class=\"nd\">477 </span> <span class=\"txtu\"><span class=\" is_note\">concert </span></span></div></div></div></div><div class=\"contnr c1    \" ><div class=\"lbl c1  \" ><span class=\"nd\">token:34203 </span></div><div class=\"children hor wrap \"><div class=\"contnr c0 trm   \" ><div class=\"lbl c0 trm \" ><span class=\"nd\">478 </span> <span class=\"txtu\"><span class=\" is_note\">zou </span></span></div></div></div></div><div class=\"contnr c1    \" ><div class=\"lbl c1  \" ><span class=\"nd\">token:34204 </span></div><div class=\"children hor wrap \"><div class=\"contnr c0 trm   \" ><div class=\"lbl c0 trm \" ><span class=\"nd\">479 </span> <span class=\"txtu\"><span class=\" is_note\">geven</span></span></div></div></div></div><div class=\"contnr c1    \" ><div class=\"lbl c1  \" ><span class=\"nd\">token:34205 </span></div><div class=\"children hor wrap \"><div class=\"contnr c0 trm   \" ><div class=\"lbl c0 trm \" ><span class=\"nd\">480 </span> <span class=\"txtu\"><span class=\" is_note\">: </span></span></div></div></div></div><div class=\"contnr c1    \" ><div class=\"lbl c1  \" ><span class=\"nd\">token:34206 </span></div><div class=\"children hor wrap \"><div class=\"contnr c0 trm   \" ><div class=\"lbl c0 trm \" ><span class=\"nd\">481 </span> <span class=\"txtu\"><span class=\" is_note\">17 </span></span></div></div></div></div><div class=\"contnr c1    \" ><div class=\"lbl c1  \" ><span class=\"nd\">token:34207 </span></div><div class=\"children hor wrap \"><div class=\"contnr c0 trm   \" ><div class=\"lbl c0 trm \" ><span class=\"nd\">482 </span> <span class=\"txtu\"><span class=\" is_note\">februari</span></span></div></div></div></div><div class=\"contnr c1    \" ><div class=\"lbl c1  \" ><span class=\"nd\">token:34208 </span></div><div class=\"children hor wrap \"><div class=\"contnr c0 trm   \" ><div class=\"lbl c0 trm \" ><span class=\"nd\">483 </span> <span class=\"txtu\"><span class=\" is_note\">, </span></span></div></div></div></div><div class=\"contnr c1    \" ><div class=\"lbl c1  \" ><span class=\"nd\">token:34209 </span></div><div class=\"children hor wrap \"><div class=\"contnr c0 trm   \" ><div class=\"lbl c0 trm \" ><span class=\"nd\">484 </span> <span class=\"txtu\"><span class=\" is_note\">3 </span></span></div></div></div></div><div class=\"contnr c1    \" ><div class=\"lbl c1  \" ><span class=\"nd\">token:34210 </span></div><div class=\"children hor wrap \"><div class=\"contnr c0 trm   \" ><div class=\"lbl c0 trm \" ><span class=\"nd\">485 </span> <span class=\"txtu\"><span class=\" is_note\">maart </span></span></div></div></div></div><div class=\"contnr c1    \" ><div class=\"lbl c1  \" ><span class=\"nd\">token:34211 </span></div><div class=\"children hor wrap \"><div class=\"contnr c0 trm   \" ><div class=\"lbl c0 trm \" ><span class=\"nd\">486 </span> <span class=\"txtu\"><span class=\" is_note\">en </span></span></div></div></div></div><div class=\"contnr c1    \" ><div class=\"lbl c1  \" ><span class=\"nd\">token:34212 </span></div><div class=\"children hor wrap \"><div class=\"contnr c0 trm   \" ><div class=\"lbl c0 trm \" ><span class=\"nd\">487 </span> <span class=\"txtu\"><span class=\" is_note\">10 </span></span></div></div></div></div><div class=\"contnr c1    \" ><div class=\"lbl c1  \" ><span class=\"nd\">token:34213 </span></div><div class=\"children hor wrap \"><div class=\"contnr c0 trm   \" ><div class=\"lbl c0 trm \" ><span class=\"nd\">488 </span> <span class=\"txtu\"><span class=\" is_note\">maart</span></span></div></div></div></div><div class=\"contnr c1    \" ><div class=\"lbl c1  \" ><span class=\"nd\">token:34214 </span></div><div class=\"children hor wrap \"><div class=\"contnr c0 trm   \" ><div class=\"lbl c0 trm \" ><span class=\"nd\">489 </span> <span class=\"txtu\"><span class=\" is_note\">. </span></span></div></div></div></div></div></div><div class=\"contnr c2    \" ><div class=\"lbl c2  \" ><span class=\"nd\">sentence:21262 </span></div><div class=\"children hor wrap \"><div class=\"contnr c1    \" ><div class=\"lbl c1  \" ><span class=\"nd\">token:34215 </span></div><div class=\"children hor wrap \"><div class=\"contnr c0 trm   \" ><div class=\"lbl c0 trm \" ><span class=\"nd\">490 </span> <span class=\"txtu\"><span class=\" is_note\">Zie </span></span></div></div></div></div><div class=\"contnr c1    \" ><div class=\"lbl c1  \" ><span class=\"nd\">token:34216 </span></div><div class=\"children hor wrap \"><div class=\"contnr c0 trm   \" ><div class=\"lbl c0 trm \" ><span class=\"nd\">491 </span> <span class=\"txtu\"><span class=\" is_note\">tevens </span></span></div></div></div></div><div class=\"contnr c1    \" ><div class=\"lbl c1  \" ><span class=\"nd\">ref:19449 </span></div><div class=\"features\"><span class=\"sibling xft\" ><span class=\"e\" edge=\"sibling\" nd=\"19449\">sibling•</span>\n",
       "<span\n",
       "    ef=\"sibling\"\n",
       "    nd=\"19449\"\n",
       "    md=\"19563\"\n",
       "    arrow=\"left\"\n",
       "    class=\"etf\" \n",
       "><span class=\"nde\">19563</span><span class=\"etfx\">⇥</span>1</span>\n",
       "</span></div><div class=\"children hor wrap \"><div class=\"contnr c1    \" ><div class=\"lbl c1  \" ><span class=\"nd\">token:34217 </span></div><div class=\"children hor wrap \"><div class=\"contnr c0 trm   \" ><div class=\"lbl c0 trm \" ><span class=\"nd\">492 </span> <span class=\"txtu\"><span class=\" is_note\">n. </span></span></div></div></div></div><div class=\"contnr c1    \" ><div class=\"lbl c1  \" ><span class=\"nd\">token:34218 </span></div><div class=\"children hor wrap \"><div class=\"contnr c0 trm   \" ><div class=\"lbl c0 trm \" ><span class=\"nd\">493 </span> <span class=\"txtu\"><span class=\" is_note\">\"</span></span></div></div></div></div><div class=\"contnr c1    \" ><div class=\"lbl c1  \" ><span class=\"nd\">token:34219 </span></div><div class=\"children hor wrap \"><div class=\"contnr c0 trm   \" ><div class=\"lbl c0 trm \" ><span class=\"nd\">494 </span> <span class=\"txtu\"><span class=\" is_note\">plaatsBuhlig</span></span></div></div></div></div><div class=\"contnr c1    \" ><div class=\"lbl c1  \" ><span class=\"nd\">token:34220 </span></div><div class=\"children hor wrap \"><div class=\"contnr c0 trm   \" ><div class=\"lbl c0 trm \" ><span class=\"nd\">495 </span> <span class=\"txtu\"><span class=\" is_note\">\"</span></span></div></div></div></div></div></div><div class=\"contnr c1    \" ><div class=\"lbl c1  \" ><span class=\"nd\">token:34221 </span></div><div class=\"children hor wrap \"><div class=\"contnr c0 trm   \" ><div class=\"lbl c0 trm \" ><span class=\"nd\">496 </span> <span class=\"txtu\"><span class=\" is_note\">.</span></span></div></div></div></div></div></div><div class=\"contnr c1    \" ><div class=\"lbl c1  \" ><span class=\"nd\">token:34222 </span></div><div class=\"children hor wrap \"><div class=\"contnr c0 trm   \" ><div class=\"lbl c0 trm \" ><span class=\"nd\">497 </span> <span class=\"txtu\"><span class=\" is_note\"><br></span></span></div></div></div></div></div></div><div class=\"contnr c2    \" ><div class=\"lbl c2  \" ><span class=\"nd\">note:18990 </span></div><div class=\"children hor wrap \"><div class=\"contnr c2    \" ><div class=\"lbl c2  \" ><span class=\"nd\">sentence:21263 </span></div><div class=\"children hor wrap \"><div class=\"contnr c1    \" ><div class=\"lbl c1  \" ><span class=\"nd\">token:34223 </span></div><div class=\"children hor wrap \"><div class=\"contnr c0 trm   \" ><div class=\"lbl c0 trm \" ><span class=\"nd\">498 </span> <span class=\"txtu\"><span class=\" is_note\">​</span></span></div></div></div></div></div></div></div></div><div class=\"contnr c0 trm   \" ><div class=\"lbl c0 trm \" ><span class=\"nd\">499 </span> <span class=\"txtu\"><br></span></div></div><div class=\"contnr c2    \" ><div class=\"lbl c2  \" ><span class=\"nd\">note:18991 </span></div><div class=\"features\"><span class=\"sibling xft\" ><span class=\"e\" edge=\"sibling\" nd=\"18991\">sibling•</span>\n",
       "<span\n",
       "    ef=\"sibling\"\n",
       "    nd=\"18991\"\n",
       "    md=\"18992\"\n",
       "    arrow=\"right\"\n",
       "    class=\"etf\" \n",
       ">1<span class=\"etfx\">↦</span><span class=\"nde\">18992</span></span>\n",
       "</span></div><div class=\"children hor wrap \"><div class=\"contnr c2    \" ><div class=\"lbl c2  \" ><span class=\"nd\">sentence:21264 </span></div><div class=\"children hor wrap \"><div class=\"contnr c1    \" ><div class=\"lbl c1  \" ><span class=\"nd\">token:34224 </span></div><div class=\"children hor wrap \"><div class=\"contnr c0 trm   \" ><div class=\"lbl c0 trm \" ><span class=\"nd\">500 </span> <span class=\"txtu\"><span class=\" is_note\">*</span></span></div></div></div></div></div></div><div class=\"contnr c2    \" ><div class=\"lbl c2  \" ><span class=\"nd\">sentence:21265 </span></div><div class=\"children hor wrap \"><div class=\"contnr c1    \" ><div class=\"lbl c1  \" ><span class=\"nd\">token:34225 </span></div><div class=\"children hor wrap \"><div class=\"contnr c0 trm   \" ><div class=\"lbl c0 trm \" ><span class=\"nd\">501 </span> <span class=\"txtu\"><span class=\" is_note\">*</span></span></div></div></div></div><div class=\"contnr c1    \" ><div class=\"lbl c1  \" ><span class=\"nd\">token:34226 </span></div><div class=\"children hor wrap \"><div class=\"contnr c0 trm   \" ><div class=\"lbl c0 trm \" ><span class=\"nd\">502 </span> <span class=\"txtu\"><span class=\" is_note\">SUBSTITUTE </span></span></div></div></div></div><div class=\"contnr c1    \" ><div class=\"lbl c1  \" ><span class=\"nd\">token:34227 </span></div><div class=\"children hor wrap \"><div class=\"contnr c0 trm   \" ><div class=\"lbl c0 trm \" ><span class=\"nd\">503 </span> <span class=\"txtu\"><span class=\" is_note\">FOR </span></span></div></div></div></div><div class=\"contnr c1    \" ><div class=\"lbl c1  \" ><span class=\"nd\">token:34228 </span></div><div class=\"children hor wrap \"><div class=\"contnr c0 trm   \" ><div class=\"lbl c0 trm \" ><span class=\"nd\">504 </span> <span class=\"txtu\"><span class=\" is_note\">ENGLISH</span></span></div></div></div></div><div class=\"contnr c1    \" ><div class=\"lbl c1  \" ><span class=\"nd\">token:34229 </span></div><div class=\"children hor wrap \"><div class=\"contnr c0 trm   \" ><div class=\"lbl c0 trm \" ><span class=\"nd\">505 </span> <span class=\"txtu\"><span class=\" is_note\">*</span></span></div></div></div></div><div class=\"contnr c1    \" ><div class=\"lbl c1  \" ><span class=\"nd\">token:34230 </span></div><div class=\"children hor wrap \"><div class=\"contnr c0 trm   \" ><div class=\"lbl c0 trm \" ><span class=\"nd\">506 </span> <span class=\"txtu\"><span class=\" is_note\">* </span></span></div></div></div></div><div class=\"contnr c1    \" ><div class=\"lbl c1  \" ><span class=\"nd\">rs:19564 </span></div><div class=\"features\"><span class=\"sibling xft\" ><span class=\"e\" edge=\"sibling\" nd=\"19564\">sibling•</span>\n",
       "<span\n",
       "    ef=\"sibling\"\n",
       "    nd=\"19564\"\n",
       "    md=\"19450\"\n",
       "    arrow=\"right\"\n",
       "    class=\"etf\" \n",
       ">1<span class=\"etfx\">↦</span><span class=\"nde\">19450</span></span>\n",
       "</span></div><div class=\"children hor wrap \"><div class=\"contnr c1    \" ><div class=\"lbl c1  \" ><span class=\"nd\">token:34231 </span></div><div class=\"children hor wrap \"><div class=\"contnr c0 trm   \" ><div class=\"lbl c0 trm \" ><span class=\"nd\">507 </span> <span class=\"txtu\"><span class=\" is_note\">Aletta</span></span></div></div></div></div></div></div></div></div><div class=\"contnr c1    \" ><div class=\"lbl c1  \" ><span class=\"nd\">token:34232 </span></div><div class=\"children hor wrap \"><div class=\"contnr c0 trm   \" ><div class=\"lbl c0 trm \" ><span class=\"nd\">508 </span> <span class=\"txtu\"><span class=\" is_note\"> </span></span></div></div></div></div><div class=\"contnr c2    \" ><div class=\"lbl c2  \" ><span class=\"nd\">sentence:21266 </span></div><div class=\"children hor wrap \"><div class=\"contnr c1    \" ><div class=\"lbl c1  \" ><span class=\"nd\">token:34233 </span></div><div class=\"children hor wrap \"><div class=\"contnr c0 trm   \" ><div class=\"lbl c0 trm \" ><span class=\"nd\">509 </span> <span class=\"txtu\"><span class=\" is_note\">werd </span></span></div></div></div></div><div class=\"contnr c1    \" ><div class=\"lbl c1  \" ><span class=\"nd\">token:34234 </span></div><div class=\"children hor wrap \"><div class=\"contnr c0 trm   \" ><div class=\"lbl c0 trm \" ><span class=\"nd\">510 </span> <span class=\"txtu\"><span class=\" is_note\">binnen </span></span></div></div></div></div><div class=\"contnr c1    \" ><div class=\"lbl c1  \" ><span class=\"nd\">token:34235 </span></div><div class=\"children hor wrap \"><div class=\"contnr c0 trm   \" ><div class=\"lbl c0 trm \" ><span class=\"nd\">511 </span> <span class=\"txtu\"><span class=\" is_note\">haar </span></span></div></div></div></div><div class=\"contnr c1    \" ><div class=\"lbl c1  \" ><span class=\"nd\">token:34236 </span></div><div class=\"children hor wrap \"><div class=\"contnr c0 trm   \" ><div class=\"lbl c0 trm \" ><span class=\"nd\">512 </span> <span class=\"txtu\"><span class=\" is_note\">familie </span></span></div></div></div></div><div class=\"contnr c1    \" ><div class=\"lbl c1  \" ><span class=\"nd\">token:34237 </span></div><div class=\"children hor wrap \"><div class=\"contnr c0 trm   \" ><div class=\"lbl c0 trm \" ><span class=\"nd\">513 </span> <span class=\"txtu\"><span class=\" is_note\">aangesproken </span></span></div></div></div></div><div class=\"contnr c1    \" ><div class=\"lbl c1  \" ><span class=\"nd\">token:34238 </span></div><div class=\"children hor wrap \"><div class=\"contnr c0 trm   \" ><div class=\"lbl c0 trm \" ><span class=\"nd\">514 </span> <span class=\"txtu\"><span class=\" is_note\">met </span></span></div></div></div></div><div class=\"contnr c1    \" ><div class=\"lbl c1  \" ><span class=\"nd\">token:34239 </span></div><div class=\"children hor wrap \"><div class=\"contnr c0 trm   \" ><div class=\"lbl c0 trm \" ><span class=\"nd\">515 </span> <span class=\"txtu\"><span class=\" is_note\">de </span></span></div></div></div></div><div class=\"contnr c1    \" ><div class=\"lbl c1  \" ><span class=\"nd\">token:34240 </span></div><div class=\"children hor wrap \"><div class=\"contnr c0 trm   \" ><div class=\"lbl c0 trm \" ><span class=\"nd\">516 </span> <span class=\"txtu\"><span class=\" is_note\">koosnaam </span></span></div></div></div></div><div class=\"contnr c1    \" ><div class=\"lbl c1  \" ><span class=\"nd\">token:34241 </span></div><div class=\"children hor wrap \"><div class=\"contnr c0 trm   \" ><div class=\"lbl c0 trm \" ><span class=\"nd\">517 </span> <span class=\"txtu\"><span class=\" is_note\">'</span></span></div></div></div></div><div class=\"contnr c1    \" ><div class=\"lbl c1  \" ><span class=\"nd\">token:34242 </span></div><div class=\"children hor wrap \"><div class=\"contnr c0 trm   \" ><div class=\"lbl c0 trm \" ><span class=\"nd\">518 </span> <span class=\"txtu\"><span class=\" is_note\">Zus</span></span></div></div></div></div><div class=\"contnr c1    \" ><div class=\"lbl c1  \" ><span class=\"nd\">token:34243 </span></div><div class=\"children hor wrap \"><div class=\"contnr c0 trm   \" ><div class=\"lbl c0 trm \" ><span class=\"nd\">519 </span> <span class=\"txtu\"><span class=\" is_note\">' </span></span></div></div></div></div><div class=\"contnr c1    \" ><div class=\"lbl c1  \" ><span class=\"nd\">token:34244 </span></div><div class=\"children hor wrap \"><div class=\"contnr c0 trm   \" ><div class=\"lbl c0 trm \" ><span class=\"nd\">520 </span> <span class=\"txtu\"><span class=\" is_note\">(</span></span></div></div></div></div><div class=\"contnr c1    \" ><div class=\"lbl c1  \" ><span class=\"nd\">ref:19450 </span></div><div class=\"features\"><span class=\"sibling xft\" ><span class=\"e\" edge=\"sibling\" nd=\"19450\">sibling•</span>\n",
       "<span\n",
       "    ef=\"sibling\"\n",
       "    nd=\"19450\"\n",
       "    md=\"19564\"\n",
       "    arrow=\"left\"\n",
       "    class=\"etf\" \n",
       "><span class=\"nde\">19564</span><span class=\"etfx\">⇥</span>1</span>\n",
       "</span></div><div class=\"children hor wrap \"><div class=\"contnr c1    \" ><div class=\"lbl c1  \" ><span class=\"nd\">token:34245 </span></div><div class=\"children hor wrap \"><div class=\"contnr c0 trm   \" ><div class=\"lbl c0 trm \" ><span class=\"nd\">521 </span> <span class=\"txtu\"><span class=\" is_note\">Heteren </span></span></div></div></div></div><div class=\"contnr c1    \" ><div class=\"lbl c1  \" ><span class=\"nd\">token:34246 </span></div><div class=\"children hor wrap \"><div class=\"contnr c0 trm   \" ><div class=\"lbl c0 trm \" ><span class=\"nd\">522 </span> <span class=\"txtu\"><span class=\" is_note\">2018</span></span></div></div></div></div></div></div><div class=\"contnr c1    \" ><div class=\"lbl c1  \" ><span class=\"nd\">token:34247 </span></div><div class=\"children hor wrap \"><div class=\"contnr c0 trm   \" ><div class=\"lbl c0 trm \" ><span class=\"nd\">523 </span> <span class=\"txtu\"><span class=\" is_note\">, </span></span></div></div></div></div><div class=\"contnr c1    \" ><div class=\"lbl c1  \" ><span class=\"nd\">token:34248 </span></div><div class=\"children hor wrap \"><div class=\"contnr c0 trm   \" ><div class=\"lbl c0 trm \" ><span class=\"nd\">524 </span> <span class=\"txtu\"><span class=\" is_note\">p. </span></span></div></div></div></div><div class=\"contnr c1    \" ><div class=\"lbl c1  \" ><span class=\"nd\">token:34249 </span></div><div class=\"children hor wrap \"><div class=\"contnr c0 trm   \" ><div class=\"lbl c0 trm \" ><span class=\"nd\">525 </span> <span class=\"txtu\"><span class=\" is_note\">25</span></span></div></div></div></div><div class=\"contnr c1    \" ><div class=\"lbl c1  \" ><span class=\"nd\">token:34250 </span></div><div class=\"children hor wrap \"><div class=\"contnr c0 trm   \" ><div class=\"lbl c0 trm \" ><span class=\"nd\">526 </span> <span class=\"txtu\"><span class=\" is_note\">) </span></span></div></div></div></div><div class=\"contnr c1    \" ><div class=\"lbl c1  \" ><span class=\"nd\">token:34251 </span></div><div class=\"children hor wrap \"><div class=\"contnr c0 trm   \" ><div class=\"lbl c0 trm \" ><span class=\"nd\">527 </span> <span class=\"txtu\"><span class=\" is_note\">Mondriaans </span></span></div></div></div></div><div class=\"contnr c1    \" ><div class=\"lbl c1  \" ><span class=\"nd\">token:34252 </span></div><div class=\"children hor wrap \"><div class=\"contnr c0 trm   \" ><div class=\"lbl c0 trm \" ><span class=\"nd\">528 </span> <span class=\"txtu\"><span class=\" is_note\">gebruik </span></span></div></div></div></div><div class=\"contnr c1    \" ><div class=\"lbl c1  \" ><span class=\"nd\">token:34253 </span></div><div class=\"children hor wrap \"><div class=\"contnr c0 trm   \" ><div class=\"lbl c0 trm \" ><span class=\"nd\">529 </span> <span class=\"txtu\"><span class=\" is_note\">van </span></span></div></div></div></div><div class=\"contnr c1    \" ><div class=\"lbl c1  \" ><span class=\"nd\">token:34254 </span></div><div class=\"children hor wrap \"><div class=\"contnr c0 trm   \" ><div class=\"lbl c0 trm \" ><span class=\"nd\">530 </span> <span class=\"txtu\"><span class=\" is_note\">deze </span></span></div></div></div></div><div class=\"contnr c1    \" ><div class=\"lbl c1  \" ><span class=\"nd\">token:34255 </span></div><div class=\"children hor wrap \"><div class=\"contnr c0 trm   \" ><div class=\"lbl c0 trm \" ><span class=\"nd\">531 </span> <span class=\"txtu\"><span class=\" is_note\">naam </span></span></div></div></div></div><div class=\"contnr c1    \" ><div class=\"lbl c1  \" ><span class=\"nd\">token:34256 </span></div><div class=\"children hor wrap \"><div class=\"contnr c0 trm   \" ><div class=\"lbl c0 trm \" ><span class=\"nd\">532 </span> <span class=\"txtu\"><span class=\" is_note\">geeft </span></span></div></div></div></div><div class=\"contnr c1    \" ><div class=\"lbl c1  \" ><span class=\"nd\">token:34257 </span></div><div class=\"children hor wrap \"><div class=\"contnr c0 trm   \" ><div class=\"lbl c0 trm \" ><span class=\"nd\">533 </span> <span class=\"txtu\"><span class=\" is_note\">aan </span></span></div></div></div></div><div class=\"contnr c1    \" ><div class=\"lbl c1  \" ><span class=\"nd\">token:34258 </span></div><div class=\"children hor wrap \"><div class=\"contnr c0 trm   \" ><div class=\"lbl c0 trm \" ><span class=\"nd\">534 </span> <span class=\"txtu\"><span class=\" is_note\">dat </span></span></div></div></div></div><div class=\"contnr c1    \" ><div class=\"lbl c1  \" ><span class=\"nd\">token:34259 </span></div><div class=\"children hor wrap \"><div class=\"contnr c0 trm   \" ><div class=\"lbl c0 trm \" ><span class=\"nd\">535 </span> <span class=\"txtu\"><span class=\" is_note\">hij </span></span></div></div></div></div><div class=\"contnr c1    \" ><div class=\"lbl c1  \" ><span class=\"nd\">token:34260 </span></div><div class=\"children hor wrap \"><div class=\"contnr c0 trm   \" ><div class=\"lbl c0 trm \" ><span class=\"nd\">536 </span> <span class=\"txtu\"><span class=\" is_note\">op </span></span></div></div></div></div><div class=\"contnr c1    \" ><div class=\"lbl c1  \" ><span class=\"nd\">token:34261 </span></div><div class=\"children hor wrap \"><div class=\"contnr c0 trm   \" ><div class=\"lbl c0 trm \" ><span class=\"nd\">537 </span> <span class=\"txtu\"><span class=\" is_note\">intieme </span></span></div></div></div></div><div class=\"contnr c1    \" ><div class=\"lbl c1  \" ><span class=\"nd\">token:34262 </span></div><div class=\"children hor wrap \"><div class=\"contnr c0 trm   \" ><div class=\"lbl c0 trm \" ><span class=\"nd\">538 </span> <span class=\"txtu\"><span class=\" is_note\">voet </span></span></div></div></div></div><div class=\"contnr c1    \" ><div class=\"lbl c1  \" ><span class=\"nd\">token:34263 </span></div><div class=\"children hor wrap \"><div class=\"contnr c0 trm   \" ><div class=\"lbl c0 trm \" ><span class=\"nd\">539 </span> <span class=\"txtu\"><span class=\" is_note\">stond </span></span></div></div></div></div><div class=\"contnr c1    \" ><div class=\"lbl c1  \" ><span class=\"nd\">token:34264 </span></div><div class=\"children hor wrap \"><div class=\"contnr c0 trm   \" ><div class=\"lbl c0 trm \" ><span class=\"nd\">540 </span> <span class=\"txtu\"><span class=\" is_note\">met </span></span></div></div></div></div><div class=\"contnr c1    \" ><div class=\"lbl c1  \" ><span class=\"nd\">token:34265 </span></div><div class=\"children hor wrap \"><div class=\"contnr c0 trm   \" ><div class=\"lbl c0 trm \" ><span class=\"nd\">541 </span> <span class=\"txtu\"><span class=\" is_note\">De </span></span></div></div></div></div><div class=\"contnr c1    \" ><div class=\"lbl c1  \" ><span class=\"nd\">token:34266 </span></div><div class=\"children hor wrap \"><div class=\"contnr c0 trm   \" ><div class=\"lbl c0 trm \" ><span class=\"nd\">542 </span> <span class=\"txtu\"><span class=\" is_note\">Iongh</span></span></div></div></div></div><div class=\"contnr c1    \" ><div class=\"lbl c1  \" ><span class=\"nd\">token:34267 </span></div><div class=\"children hor wrap \"><div class=\"contnr c0 trm   \" ><div class=\"lbl c0 trm \" ><span class=\"nd\">543 </span> <span class=\"txtu\"><span class=\" is_note\">.</span></span></div></div></div></div></div></div><div class=\"contnr c1    \" ><div class=\"lbl c1  \" ><span class=\"nd\">token:34268 </span></div><div class=\"children hor wrap \"><div class=\"contnr c0 trm   \" ><div class=\"lbl c0 trm \" ><span class=\"nd\">544 </span> <span class=\"txtu\"><span class=\" is_note\"><br></span></span></div></div></div></div></div></div><div class=\"contnr c2    \" ><div class=\"lbl c2  \" ><span class=\"nd\">note:18992 </span></div><div class=\"features\"><span class=\"sibling xft\" ><span class=\"e\" edge=\"sibling\" nd=\"18992\">sibling•</span>\n",
       "<span\n",
       "    ef=\"sibling\"\n",
       "    nd=\"18992\"\n",
       "    md=\"18991\"\n",
       "    arrow=\"left\"\n",
       "    class=\"etf\" \n",
       "><span class=\"nde\">18991</span><span class=\"etfx\">⇥</span>1</span>\n",
       "</span></div><div class=\"children hor wrap \"><div class=\"contnr c2    \" ><div class=\"lbl c2  \" ><span class=\"nd\">sentence:21267 </span></div><div class=\"children hor wrap \"><div class=\"contnr c1    \" ><div class=\"lbl c1  \" ><span class=\"nd\">token:34269 </span></div><div class=\"children hor wrap \"><div class=\"contnr c0 trm   \" ><div class=\"lbl c0 trm \" ><span class=\"nd\">545 </span> <span class=\"txtu\"><span class=\" is_note\">*</span></span></div></div></div></div></div></div><div class=\"contnr c2    \" ><div class=\"lbl c2  \" ><span class=\"nd\">sentence:21268 </span></div><div class=\"children hor wrap \"><div class=\"contnr c1    \" ><div class=\"lbl c1  \" ><span class=\"nd\">token:34270 </span></div><div class=\"children hor wrap \"><div class=\"contnr c0 trm   \" ><div class=\"lbl c0 trm \" ><span class=\"nd\">546 </span> <span class=\"txtu\"><span class=\" is_note\">*</span></span></div></div></div></div><div class=\"contnr c1    \" ><div class=\"lbl c1  \" ><span class=\"nd\">token:34271 </span></div><div class=\"children hor wrap \"><div class=\"contnr c0 trm   \" ><div class=\"lbl c0 trm \" ><span class=\"nd\">547 </span> <span class=\"txtu\"><span class=\" is_note\">SUBSTITUTE </span></span></div></div></div></div><div class=\"contnr c1    \" ><div class=\"lbl c1  \" ><span class=\"nd\">token:34272 </span></div><div class=\"children hor wrap \"><div class=\"contnr c0 trm   \" ><div class=\"lbl c0 trm \" ><span class=\"nd\">548 </span> <span class=\"txtu\"><span class=\" is_note\">FOR </span></span></div></div></div></div><div class=\"contnr c1    \" ><div class=\"lbl c1  \" ><span class=\"nd\">token:34273 </span></div><div class=\"children hor wrap \"><div class=\"contnr c0 trm   \" ><div class=\"lbl c0 trm \" ><span class=\"nd\">549 </span> <span class=\"txtu\"><span class=\" is_note\">ENGLISH</span></span></div></div></div></div><div class=\"contnr c1    \" ><div class=\"lbl c1  \" ><span class=\"nd\">token:34274 </span></div><div class=\"children hor wrap \"><div class=\"contnr c0 trm   \" ><div class=\"lbl c0 trm \" ><span class=\"nd\">550 </span> <span class=\"txtu\"><span class=\" is_note\">*</span></span></div></div></div></div></div></div><div class=\"contnr c2    \" ><div class=\"lbl c2  \" ><span class=\"nd\">sentence:21269 </span></div><div class=\"children hor wrap \"><div class=\"contnr c1    \" ><div class=\"lbl c1  \" ><span class=\"nd\">token:34275 </span></div><div class=\"children hor wrap \"><div class=\"contnr c0 trm   \" ><div class=\"lbl c0 trm \" ><span class=\"nd\">551 </span> <span class=\"txtu\"><span class=\" is_note\">* </span></span></div></div></div></div><div class=\"contnr c1    \" ><div class=\"lbl c1  \" ><span class=\"nd\">token:34276 </span></div><div class=\"children hor wrap \"><div class=\"contnr c0 trm   \" ><div class=\"lbl c0 trm \" ><span class=\"nd\">552 </span> <span class=\"txtu\"><span class=\" is_note\">De </span></span></div></div></div></div><div class=\"contnr c1    \" ><div class=\"lbl c1  \" ><span class=\"nd\">token:34277 </span></div><div class=\"children hor wrap \"><div class=\"contnr c0 trm   \" ><div class=\"lbl c0 trm \" ><span class=\"nd\">553 </span> <span class=\"txtu\"><span class=\" is_note\">Amerikaanse </span></span></div></div></div></div><div class=\"contnr c1    \" ><div class=\"lbl c1  \" ><span class=\"nd\">token:34278 </span></div><div class=\"children hor wrap \"><div class=\"contnr c0 trm   \" ><div class=\"lbl c0 trm \" ><span class=\"nd\">554 </span> <span class=\"txtu\"><span class=\" is_note\">pianist </span></span></div></div></div></div><div class=\"contnr c1    \" ><div class=\"lbl c1  \" ><span class=\"nd\">rs:19565 </span></div><div class=\"children hor wrap \"><div class=\"contnr c1    \" ><div class=\"lbl c1  \" ><span class=\"nd\">token:34279 </span></div><div class=\"children hor wrap \"><div class=\"contnr c0 trm   \" ><div class=\"lbl c0 trm \" ><span class=\"nd\">555 </span> <span class=\"txtu\"><span class=\" is_note\">Richard </span></span></div></div></div></div><div class=\"contnr c1    \" ><div class=\"lbl c1  \" ><span class=\"nd\">token:34280 </span></div><div class=\"children hor wrap \"><div class=\"contnr c0 trm   \" ><div class=\"lbl c0 trm \" ><span class=\"nd\">556 </span> <span class=\"txtu\"><span class=\" is_note\">Moritz </span></span></div></div></div></div><div class=\"contnr c1    \" ><div class=\"lbl c1  \" ><span class=\"nd\">token:34281 </span></div><div class=\"children hor wrap \"><div class=\"contnr c0 trm   \" ><div class=\"lbl c0 trm \" ><span class=\"nd\">557 </span> <span class=\"txtu\"><span class=\" is_note\">Buhlig</span></span></div></div></div></div></div></div><div class=\"contnr c1    \" ><div class=\"lbl c1  \" ><span class=\"nd\">token:34282 </span></div><div class=\"children hor wrap \"><div class=\"contnr c0 trm   \" ><div class=\"lbl c0 trm \" ><span class=\"nd\">558 </span> <span class=\"txtu\"><span class=\" is_note\"> </span></span></div></div></div></div><div class=\"contnr c1    \" ><div class=\"lbl c1  \" ><span class=\"nd\">token:34283 </span></div><div class=\"children hor wrap \"><div class=\"contnr c0 trm   \" ><div class=\"lbl c0 trm \" ><span class=\"nd\">559 </span> <span class=\"txtu\"><span class=\" is_note\">(</span></span></div></div></div></div><div class=\"contnr c1    \" ><div class=\"lbl c1  \" ><span class=\"nd\">token:34284 </span></div><div class=\"children hor wrap \"><div class=\"contnr c0 trm   \" ><div class=\"lbl c0 trm \" ><span class=\"nd\">560 </span> <span class=\"txtu\"><span class=\" is_note\">1880</span></span></div></div></div></div><div class=\"contnr c1    \" ><div class=\"lbl c1  \" ><span class=\"nd\">token:34285 </span></div><div class=\"children hor wrap \"><div class=\"contnr c0 trm   \" ><div class=\"lbl c0 trm \" ><span class=\"nd\">561 </span> <span class=\"txtu\"><span class=\" is_note\">-</span></span></div></div></div></div><div class=\"contnr c1    \" ><div class=\"lbl c1  \" ><span class=\"nd\">token:34286 </span></div><div class=\"children hor wrap \"><div class=\"contnr c0 trm   \" ><div class=\"lbl c0 trm \" ><span class=\"nd\">562 </span> <span class=\"txtu\"><span class=\" is_note\">1952</span></span></div></div></div></div><div class=\"contnr c1    \" ><div class=\"lbl c1  \" ><span class=\"nd\">token:34287 </span></div><div class=\"children hor wrap \"><div class=\"contnr c0 trm   \" ><div class=\"lbl c0 trm \" ><span class=\"nd\">563 </span> <span class=\"txtu\"><span class=\" is_note\">) </span></span></div></div></div></div><div class=\"contnr c1    \" ><div class=\"lbl c1  \" ><span class=\"nd\">token:34288 </span></div><div class=\"children hor wrap \"><div class=\"contnr c0 trm   \" ><div class=\"lbl c0 trm \" ><span class=\"nd\">564 </span> <span class=\"txtu\"><span class=\" is_note\">gaf </span></span></div></div></div></div><div class=\"contnr c1    \" ><div class=\"lbl c1  \" ><span class=\"nd\">token:34289 </span></div><div class=\"children hor wrap \"><div class=\"contnr c0 trm   \" ><div class=\"lbl c0 trm \" ><span class=\"nd\">565 </span> <span class=\"txtu\"><span class=\" is_note\">begin </span></span></div></div></div></div><div class=\"contnr c1    \" ><div class=\"lbl c1  \" ><span class=\"nd\">token:34290 </span></div><div class=\"children hor wrap \"><div class=\"contnr c0 trm   \" ><div class=\"lbl c0 trm \" ><span class=\"nd\">566 </span> <span class=\"txtu\"><span class=\" is_note\">1909 </span></span></div></div></div></div><div class=\"contnr c1    \" ><div class=\"lbl c1  \" ><span class=\"nd\">token:34291 </span></div><div class=\"children hor wrap \"><div class=\"contnr c0 trm   \" ><div class=\"lbl c0 trm \" ><span class=\"nd\">567 </span> <span class=\"txtu\"><span class=\" is_note\">drie </span></span></div></div></div></div><div class=\"contnr c1    \" ><div class=\"lbl c1  \" ><span class=\"nd\">token:34292 </span></div><div class=\"children hor wrap \"><div class=\"contnr c0 trm   \" ><div class=\"lbl c0 trm \" ><span class=\"nd\">568 </span> <span class=\"txtu\"><span class=\" is_note\">concerten </span></span></div></div></div></div><div class=\"contnr c1    \" ><div class=\"lbl c1  \" ><span class=\"nd\">token:34293 </span></div><div class=\"children hor wrap \"><div class=\"contnr c0 trm   \" ><div class=\"lbl c0 trm \" ><span class=\"nd\">569 </span> <span class=\"txtu\"><span class=\" is_note\">in </span></span></div></div></div></div><div class=\"contnr c1    \" ><div class=\"lbl c1  \" ><span class=\"nd\">token:34294 </span></div><div class=\"children hor wrap \"><div class=\"contnr c0 trm   \" ><div class=\"lbl c0 trm \" ><span class=\"nd\">570 </span> <span class=\"txtu\"><span class=\" is_note\">de </span></span></div></div></div></div><div class=\"contnr c1    \" ><div class=\"lbl c1  \" ><span class=\"nd\">token:34295 </span></div><div class=\"children hor wrap \"><div class=\"contnr c0 trm   \" ><div class=\"lbl c0 trm \" ><span class=\"nd\">571 </span> <span class=\"txtu\"><span class=\" is_note\">kleine </span></span></div></div></div></div><div class=\"contnr c1    \" ><div class=\"lbl c1  \" ><span class=\"nd\">token:34296 </span></div><div class=\"children hor wrap \"><div class=\"contnr c0 trm   \" ><div class=\"lbl c0 trm \" ><span class=\"nd\">572 </span> <span class=\"txtu\"><span class=\" is_note\">zaal </span></span></div></div></div></div><div class=\"contnr c1    \" ><div class=\"lbl c1  \" ><span class=\"nd\">token:34297 </span></div><div class=\"children hor wrap \"><div class=\"contnr c0 trm   \" ><div class=\"lbl c0 trm \" ><span class=\"nd\">573 </span> <span class=\"txtu\"><span class=\" is_note\">van </span></span></div></div></div></div><div class=\"contnr c1    \" ><div class=\"lbl c1  \" ><span class=\"nd\">token:34298 </span></div><div class=\"children hor wrap \"><div class=\"contnr c0 trm   \" ><div class=\"lbl c0 trm \" ><span class=\"nd\">574 </span> <span class=\"txtu\"><span class=\" is_note\">het </span></span></div></div></div></div><div class=\"contnr c1    \" ><div class=\"lbl c1  \" ><span class=\"nd\">token:34299 </span></div><div class=\"children hor wrap \"><div class=\"contnr c0 trm   \" ><div class=\"lbl c0 trm \" ><span class=\"nd\">575 </span> <span class=\"txtu\"><span class=\" is_note\">Concertgebouw</span></span></div></div></div></div><div class=\"contnr c1    \" ><div class=\"lbl c1  \" ><span class=\"nd\">token:34300 </span></div><div class=\"children hor wrap \"><div class=\"contnr c0 trm   \" ><div class=\"lbl c0 trm \" ><span class=\"nd\">576 </span> <span class=\"txtu\"><span class=\" is_note\">, </span></span></div></div></div></div><div class=\"contnr c1    \" ><div class=\"lbl c1  \" ><span class=\"nd\">token:34301 </span></div><div class=\"children hor wrap \"><div class=\"contnr c0 trm   \" ><div class=\"lbl c0 trm \" ><span class=\"nd\">577 </span> <span class=\"txtu\"><span class=\" is_note\">op </span></span></div></div></div></div><div class=\"contnr c1    \" ><div class=\"lbl c1  \" ><span class=\"nd\">token:34302 </span></div><div class=\"children hor wrap \"><div class=\"contnr c0 trm   \" ><div class=\"lbl c0 trm \" ><span class=\"nd\">578 </span> <span class=\"txtu\"><span class=\" is_note\">woensdag </span></span></div></div></div></div><div class=\"contnr c1    \" ><div class=\"lbl c1  \" ><span class=\"nd\">token:34303 </span></div><div class=\"children hor wrap \"><div class=\"contnr c0 trm   \" ><div class=\"lbl c0 trm \" ><span class=\"nd\">579 </span> <span class=\"txtu\"><span class=\" is_note\">17 </span></span></div></div></div></div><div class=\"contnr c1    \" ><div class=\"lbl c1  \" ><span class=\"nd\">token:34304 </span></div><div class=\"children hor wrap \"><div class=\"contnr c0 trm   \" ><div class=\"lbl c0 trm \" ><span class=\"nd\">580 </span> <span class=\"txtu\"><span class=\" is_note\">februari</span></span></div></div></div></div><div class=\"contnr c1    \" ><div class=\"lbl c1  \" ><span class=\"nd\">token:34305 </span></div><div class=\"children hor wrap \"><div class=\"contnr c0 trm   \" ><div class=\"lbl c0 trm \" ><span class=\"nd\">581 </span> <span class=\"txtu\"><span class=\" is_note\">, </span></span></div></div></div></div><div class=\"contnr c1    \" ><div class=\"lbl c1  \" ><span class=\"nd\">token:34306 </span></div><div class=\"children hor wrap \"><div class=\"contnr c0 trm   \" ><div class=\"lbl c0 trm \" ><span class=\"nd\">582 </span> <span class=\"txtu\"><span class=\" is_note\">woensdag </span></span></div></div></div></div><div class=\"contnr c1    \" ><div class=\"lbl c1  \" ><span class=\"nd\">token:34307 </span></div><div class=\"children hor wrap \"><div class=\"contnr c0 trm   \" ><div class=\"lbl c0 trm \" ><span class=\"nd\">583 </span> <span class=\"txtu\"><span class=\" is_note\">3 </span></span></div></div></div></div><div class=\"contnr c1    \" ><div class=\"lbl c1  \" ><span class=\"nd\">token:34308 </span></div><div class=\"children hor wrap \"><div class=\"contnr c0 trm   \" ><div class=\"lbl c0 trm \" ><span class=\"nd\">584 </span> <span class=\"txtu\"><span class=\" is_note\">maart </span></span></div></div></div></div><div class=\"contnr c1    \" ><div class=\"lbl c1  \" ><span class=\"nd\">token:34309 </span></div><div class=\"children hor wrap \"><div class=\"contnr c0 trm   \" ><div class=\"lbl c0 trm \" ><span class=\"nd\">585 </span> <span class=\"txtu\"><span class=\" is_note\">en </span></span></div></div></div></div><div class=\"contnr c1    \" ><div class=\"lbl c1  \" ><span class=\"nd\">token:34310 </span></div><div class=\"children hor wrap \"><div class=\"contnr c0 trm   \" ><div class=\"lbl c0 trm \" ><span class=\"nd\">586 </span> <span class=\"txtu\"><span class=\" is_note\">woensdag </span></span></div></div></div></div><div class=\"contnr c1    \" ><div class=\"lbl c1  \" ><span class=\"nd\">token:34311 </span></div><div class=\"children hor wrap \"><div class=\"contnr c0 trm   \" ><div class=\"lbl c0 trm \" ><span class=\"nd\">587 </span> <span class=\"txtu\"><span class=\" is_note\">10 </span></span></div></div></div></div><div class=\"contnr c1    \" ><div class=\"lbl c1  \" ><span class=\"nd\">token:34312 </span></div><div class=\"children hor wrap \"><div class=\"contnr c0 trm   \" ><div class=\"lbl c0 trm \" ><span class=\"nd\">588 </span> <span class=\"txtu\"><span class=\" is_note\">maart</span></span></div></div></div></div><div class=\"contnr c1    \" ><div class=\"lbl c1  \" ><span class=\"nd\">token:34313 </span></div><div class=\"children hor wrap \"><div class=\"contnr c0 trm   \" ><div class=\"lbl c0 trm \" ><span class=\"nd\">589 </span> <span class=\"txtu\"><span class=\" is_note\">. </span></span></div></div></div></div></div></div><div class=\"contnr c2    \" ><div class=\"lbl c2  \" ><span class=\"nd\">sentence:21270 </span></div><div class=\"children hor wrap \"><div class=\"contnr c1    \" ><div class=\"lbl c1  \" ><span class=\"nd\">token:34314 </span></div><div class=\"children hor wrap \"><div class=\"contnr c0 trm   \" ><div class=\"lbl c0 trm \" ><span class=\"nd\">590 </span> <span class=\"txtu\"><span class=\" is_note\">Het </span></span></div></div></div></div><div class=\"contnr c1    \" ><div class=\"lbl c1  \" ><span class=\"nd\">token:34315 </span></div><div class=\"children hor wrap \"><div class=\"contnr c0 trm   \" ><div class=\"lbl c0 trm \" ><span class=\"nd\">591 </span> <span class=\"txtu\"><span class=\" is_note\">is </span></span></div></div></div></div><div class=\"contnr c1    \" ><div class=\"lbl c1  \" ><span class=\"nd\">token:34316 </span></div><div class=\"children hor wrap \"><div class=\"contnr c0 trm   \" ><div class=\"lbl c0 trm \" ><span class=\"nd\">592 </span> <span class=\"txtu\"><span class=\" is_note\">niet </span></span></div></div></div></div><div class=\"contnr c1    \" ><div class=\"lbl c1  \" ><span class=\"nd\">token:34317 </span></div><div class=\"children hor wrap \"><div class=\"contnr c0 trm   \" ><div class=\"lbl c0 trm \" ><span class=\"nd\">593 </span> <span class=\"txtu\"><span class=\" is_note\">bekend </span></span></div></div></div></div><div class=\"contnr c1    \" ><div class=\"lbl c1  \" ><span class=\"nd\">token:34318 </span></div><div class=\"children hor wrap \"><div class=\"contnr c0 trm   \" ><div class=\"lbl c0 trm \" ><span class=\"nd\">594 </span> <span class=\"txtu\"><span class=\" is_note\">voor </span></span></div></div></div></div><div class=\"contnr c1    \" ><div class=\"lbl c1  \" ><span class=\"nd\">token:34319 </span></div><div class=\"children hor wrap \"><div class=\"contnr c0 trm   \" ><div class=\"lbl c0 trm \" ><span class=\"nd\">595 </span> <span class=\"txtu\"><span class=\" is_note\">welke </span></span></div></div></div></div><div class=\"contnr c1    \" ><div class=\"lbl c1  \" ><span class=\"nd\">token:34320 </span></div><div class=\"children hor wrap \"><div class=\"contnr c0 trm   \" ><div class=\"lbl c0 trm \" ><span class=\"nd\">596 </span> <span class=\"txtu\"><span class=\" is_note\">van </span></span></div></div></div></div><div class=\"contnr c1    \" ><div class=\"lbl c1  \" ><span class=\"nd\">token:34321 </span></div><div class=\"children hor wrap \"><div class=\"contnr c0 trm   \" ><div class=\"lbl c0 trm \" ><span class=\"nd\">597 </span> <span class=\"txtu\"><span class=\" is_note\">deze </span></span></div></div></div></div><div class=\"contnr c1    \" ><div class=\"lbl c1  \" ><span class=\"nd\">token:34322 </span></div><div class=\"children hor wrap \"><div class=\"contnr c0 trm   \" ><div class=\"lbl c0 trm \" ><span class=\"nd\">598 </span> <span class=\"txtu\"><span class=\" is_note\">concerten </span></span></div></div></div></div><div class=\"contnr c1    \" ><div class=\"lbl c1  \" ><span class=\"nd\">token:34323 </span></div><div class=\"children hor wrap \"><div class=\"contnr c0 trm   \" ><div class=\"lbl c0 trm \" ><span class=\"nd\">599 </span> <span class=\"txtu\"><span class=\" is_note\">Mondriaan </span></span></div></div></div></div><div class=\"contnr c1    \" ><div class=\"lbl c1  \" ><span class=\"nd\">token:34324 </span></div><div class=\"children hor wrap \"><div class=\"contnr c0 trm   \" ><div class=\"lbl c0 trm \" ><span class=\"nd\">600 </span> <span class=\"txtu\"><span class=\" is_note\">kaarten </span></span></div></div></div></div><div class=\"contnr c1    \" ><div class=\"lbl c1  \" ><span class=\"nd\">token:34325 </span></div><div class=\"children hor wrap \"><div class=\"contnr c0 trm   \" ><div class=\"lbl c0 trm \" ><span class=\"nd\">601 </span> <span class=\"txtu\"><span class=\" is_note\">had</span></span></div></div></div></div><div class=\"contnr c1    \" ><div class=\"lbl c1  \" ><span class=\"nd\">token:34326 </span></div><div class=\"children hor wrap \"><div class=\"contnr c0 trm   \" ><div class=\"lbl c0 trm \" ><span class=\"nd\">602 </span> <span class=\"txtu\"><span class=\" is_note\">.</span></span></div></div></div></div></div></div><div class=\"contnr c1    \" ><div class=\"lbl c1  \" ><span class=\"nd\">token:34327 </span></div><div class=\"children hor wrap \"><div class=\"contnr c0 trm   \" ><div class=\"lbl c0 trm \" ><span class=\"nd\">603 </span> <span class=\"txtu\"><span class=\" is_note\"><br></span></span></div></div></div></div></div></div><div class=\"contnr c0 trm   \" ><div class=\"lbl c0 trm \" ><span class=\"nd\">604 </span> <span class=\"txtu\"><br></span></div></div></div></div></div>"
      ],
      "text/plain": [
       "<IPython.core.display.HTML object>"
      ]
     },
     "metadata": {},
     "output_type": "display_data"
    }
   ],
   "source": [
    "for (i, nn) in enumerate(F.otype.s(\"note\")[4:5]):\n",
    "    A.dm(f\"### Note {i + 1}\\n\\n\")\n",
    "    tokens = L.d(nn, otype=\"token\")\n",
    "    s = L.u(L.d(nn, otype=\"token\")[0], otype=\"chunk\")[0]\n",
    "    A.pretty(nn, withNodes=True, full=True)\n",
    "    A.pretty(s, withNodes=True, full=True)"
   ]
  },
  {
   "cell_type": "code",
   "execution_count": null,
   "id": "7ac58c57-1dd6-459a-aa3c-e81c4a8bcee8",
   "metadata": {},
   "outputs": [],
   "source": []
  },
  {
   "cell_type": "code",
   "execution_count": null,
   "id": "93a7adba-f830-49ae-a454-381839d5df77",
   "metadata": {},
   "outputs": [],
   "source": []
  }
 ],
 "metadata": {
  "kernelspec": {
   "display_name": "Python 3 (ipykernel)",
   "language": "python",
   "name": "python3"
  },
  "language_info": {
   "codemirror_mode": {
    "name": "ipython",
    "version": 3
   },
   "file_extension": ".py",
   "mimetype": "text/x-python",
   "name": "python",
   "nbconvert_exporter": "python",
   "pygments_lexer": "ipython3",
   "version": "3.11.1"
  }
 },
 "nbformat": 4,
 "nbformat_minor": 5
}
