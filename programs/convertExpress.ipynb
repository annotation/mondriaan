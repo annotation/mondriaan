{
 "cells": [
  {
   "cell_type": "markdown",
   "id": "ac4e64e0-51fc-4d51-bd04-435253223bc7",
   "metadata": {},
   "source": [
    "# Convert from TEI to TF\n",
    "\n",
    "We show how to convert a TEI data source into TF.\n",
    "\n",
    "This has two stages:\n",
    "\n",
    "1. make an preliminary TF dataset with the character as slot type\n",
    "1. feed the plain text to a tokenizer, and add tokens and sentences to the datset,\n",
    "   while removing its character and word nodes;\n",
    "   the new slot type is token.\n",
    "   \n",
    "A dataset based on characters is precise, but rather inefficient.\n",
    "The second step makes the dataset much more efficient."
   ]
  },
  {
   "cell_type": "markdown",
   "id": "57b5aeab-5915-4c97-9af9-f07b3e56b996",
   "metadata": {},
   "source": [
    "**More ways to do it!**\n",
    "\n",
    "* *convertExpress* : as few commands/feedback/interaction as possible, \n",
    "* [convertSteps](convertSteps.ipynb): broken down in a few command line commands, more feedback\n",
    "* [convertDetails](convertDetails.ipynb): run from Python with full control"
   ]
  },
  {
   "cell_type": "markdown",
   "id": "d7b0ca6d-4b4d-4e7d-ad6e-31a5e5669d8d",
   "metadata": {
    "tags": []
   },
   "source": [
    "## Preliminary conversion\n",
    "\n",
    "We start with a case where the input does not validate."
   ]
  },
  {
   "cell_type": "code",
   "execution_count": 1,
   "id": "43b28055-d56a-462d-823c-6dc5cbc15611",
   "metadata": {},
   "outputs": [
    {
     "name": "stdout",
     "output_type": "stream",
     "text": [
      "Start folder proeftuin:\n",
      "  14 19100131_SAAL_ARNO_0018.xml                       ERROR\n",
      "\n",
      "End   folder proeftuin\n",
      "\n",
      "7 error(s) in 1 file(s) written to ~/github/annotation/mondriaan/report/2023-04-25/errors.txt\n",
      "Namespaces OK\n"
     ]
    }
   ],
   "source": [
    "!tf-fromtei all"
   ]
  },
  {
   "cell_type": "markdown",
   "id": "e676b6a6-18d5-4a2f-ab5a-9c4f47ecfde5",
   "metadata": {},
   "source": [
    "However, the previous version is correct, so we revert to it. That is what the `tei=-1` does."
   ]
  },
  {
   "cell_type": "code",
   "execution_count": 2,
   "id": "5368d4c7-086f-4ae6-8b23-34668eb8eb76",
   "metadata": {},
   "outputs": [
    {
     "name": "stdout",
     "output_type": "stream",
     "text": [
      "Start folder proeftuin:\n",
      "  14 19100131_SAAL_ARNO_0018.xml                       \n",
      "End   folder proeftuin\n",
      "\n",
      "Validation OK\n",
      "Namespaces OK\n",
      "Start folder proeftuin:\n",
      "  14 19100131_SAAL_ARNO_0018.xml                       \n",
      "End   folder proeftuin\n",
      "\n",
      "App updated\n"
     ]
    }
   ],
   "source": [
    "!tf-fromtei all tei=-1"
   ]
  },
  {
   "cell_type": "markdown",
   "id": "c4eeeca1-4c40-484f-addb-3073453c3760",
   "metadata": {},
   "source": [
    "## Add tokens and sentences\n",
    "\n",
    "Now we have a preliminary TF dataset to work with.\n",
    "The next step is no longer involved with the source TEI."
   ]
  },
  {
   "cell_type": "code",
   "execution_count": 3,
   "id": "f6eac0a3-dc35-4370-be5c-78ba10f88759",
   "metadata": {},
   "outputs": [
    {
     "name": "stdout",
     "output_type": "stream",
     "text": [
      "  0.14s Using NLP pipeline Spacy (en) ...\n",
      "  4.03s NLP done\n",
      "  0.00s Feature overview: 45 for nodes; 1 for edges; 1 configs; 9 computed\n",
      "App updated with tokens and sentences \n"
     ]
    }
   ],
   "source": [
    "!addnlp all\n",
    "!tf-fromtei apptoken"
   ]
  },
  {
   "cell_type": "markdown",
   "id": "33dd1882-b9cd-47df-bc5e-1fda46a7ed49",
   "metadata": {},
   "source": [
    "# Zip the data\n",
    "\n",
    "This is for producing a zip file to attach to the latest release, so that TF can download the data smoothly."
   ]
  },
  {
   "cell_type": "code",
   "execution_count": 4,
   "id": "09d8ccc3-65fd-4257-bf6f-f9b6fc3ec6c4",
   "metadata": {},
   "outputs": [
    {
     "name": "stdout",
     "output_type": "stream",
     "text": [
      "loading tf app ...\n",
      "Data to be zipped:\n",
      "\tOK       app                      (v0.8.2 5843b9)     : ~/github/annotation/mondriaan/app\n",
      "\tOK       main data                (v0.8.2 5843b9)     : ~/github/annotation/mondriaan/tf/0.8.2\n",
      "\tOK       graphics                 (v0.8.2 5843b9)     : ~/github/annotation/mondriaan/illustrations\n",
      "Writing zip file ...\n",
      "Result: ~/Downloads/github/annotation/mondriaan/complete.zip\n"
     ]
    }
   ],
   "source": [
    "!tf-zipall"
   ]
  },
  {
   "cell_type": "markdown",
   "id": "b9014a5e-f720-43b8-a51c-1f0b1c895e11",
   "metadata": {},
   "source": [
    "# Inspect\n",
    "\n",
    "We view the result in the TF browser.\n",
    "\n",
    "To stop the browser, interrupt the kernel (Press `i` twice)."
   ]
  },
  {
   "cell_type": "code",
   "execution_count": null,
   "id": "a5bef615-8396-4c58-a1e9-654716154b38",
   "metadata": {},
   "outputs": [
    {
     "name": "stdout",
     "output_type": "stream",
     "text": [
      "This is Text-Fabric 11.4.3\n",
      "Starting new kernel listening on 10990\n",
      "Loading data for annotation/mondriaan. Please wait ...\n",
      "Setting up TF kernel for annotation/mondriaan  \n",
      "**Locating corpus resources ...**\n",
      "Using app in ~/github/annotation/mondriaan/app:\n",
      "\trepo clone offline under ~/github (local github)\n",
      "Using data in ~/github/annotation/mondriaan/tf/0.8.2:\n",
      "\trepo clone offline under ~/github (local github)\n",
      "Using data in ~/github/annotation/mondriaan/illustrations:\n",
      "\trepo clone offline under ~/github (local github)\n",
      "<IPython.core.display.HTML object>\n",
      "TF setup done.\n",
      "Starting new webserver listening on 20990\n",
      "\u001b[31m\u001b[1mWARNING: This is a development server. Do not use it in a production deployment. Use a production WSGI server instead.\u001b[0m\n",
      " * Running on http://localhost:20990\n",
      "\u001b[33mPress CTRL+C to quit\u001b[0m\n",
      "Opening annotation/mondriaan in browser\n",
      "Press <Ctrl+C> to stop the TF browser\n",
      "Kernel listening at port 10990\n",
      "127.0.0.1 - - [02/May/2023 09:19:04] \"GET / HTTP/1.1\" 200 -\n",
      "127.0.0.1 - - [02/May/2023 09:19:04] \"GET /server/static/display.css HTTP/1.1\" 200 -\n",
      "127.0.0.1 - - [02/May/2023 09:19:04] \"GET /server/static/highlight.css HTTP/1.1\" 200 -\n",
      "127.0.0.1 - - [02/May/2023 09:19:04] \"GET /server/static/fonts.css HTTP/1.1\" 200 -\n",
      "127.0.0.1 - - [02/May/2023 09:19:04] \"\u001b[36mGET /server/static/base.css HTTP/1.1\u001b[0m\" 304 -\n",
      "127.0.0.1 - - [02/May/2023 09:19:04] \"\u001b[36mGET /data/static/logo.png HTTP/1.1\u001b[0m\" 304 -\n",
      "127.0.0.1 - - [02/May/2023 09:19:04] \"\u001b[36mGET /server/static/index.css HTTP/1.1\u001b[0m\" 304 -\n",
      "127.0.0.1 - - [02/May/2023 09:19:04] \"\u001b[36mGET /server/static/fontawesome.css HTTP/1.1\u001b[0m\" 304 -\n",
      "127.0.0.1 - - [02/May/2023 09:19:04] \"\u001b[36mGET /server/static/tf3.0.js HTTP/1.1\u001b[0m\" 304 -\n",
      "127.0.0.1 - - [02/May/2023 09:19:04] \"\u001b[36mGET /server/static/jquery.js HTTP/1.1\u001b[0m\" 304 -\n",
      "127.0.0.1 - - [02/May/2023 09:19:04] \"\u001b[36mGET /server/static/icon.png HTTP/1.1\u001b[0m\" 304 -\n",
      "127.0.0.1 - - [02/May/2023 09:19:04] \"GET /server/static/huc.png HTTP/1.1\" 200 -\n",
      "127.0.0.1 - - [02/May/2023 09:19:04] \"\u001b[36mGET /server/static/fonts/fa-solid-900.woff2 HTTP/1.1\u001b[0m\" 304 -\n",
      "127.0.0.1 - - [02/May/2023 09:19:04] \"POST /passage HTTP/1.1\" 200 -\n",
      "127.0.0.1 - - [02/May/2023 09:19:04] \"\u001b[36mGET /server/static/fonts/fa-regular-400.woff2 HTTP/1.1\u001b[0m\" 304 -\n",
      "127.0.0.1 - - [02/May/2023 09:19:04] \"POST / HTTP/1.1\" 200 -\n",
      "127.0.0.1 - - [02/May/2023 09:19:04] \"\u001b[36mGET /server/static/base.css HTTP/1.1\u001b[0m\" 304 -\n",
      "127.0.0.1 - - [02/May/2023 09:19:04] \"\u001b[36mGET /server/static/display.css HTTP/1.1\u001b[0m\" 304 -\n",
      "127.0.0.1 - - [02/May/2023 09:19:04] \"\u001b[36mGET /server/static/highlight.css HTTP/1.1\u001b[0m\" 304 -\n",
      "127.0.0.1 - - [02/May/2023 09:19:04] \"\u001b[36mGET /server/static/fonts.css HTTP/1.1\u001b[0m\" 304 -\n",
      "127.0.0.1 - - [02/May/2023 09:19:04] \"\u001b[36mGET /server/static/index.css HTTP/1.1\u001b[0m\" 304 -\n",
      "127.0.0.1 - - [02/May/2023 09:19:04] \"\u001b[36mGET /server/static/fontawesome.css HTTP/1.1\u001b[0m\" 304 -\n",
      "127.0.0.1 - - [02/May/2023 09:19:04] \"\u001b[36mGET /server/static/jquery.js HTTP/1.1\u001b[0m\" 304 -\n",
      "127.0.0.1 - - [02/May/2023 09:19:04] \"\u001b[36mGET /server/static/tf3.0.js HTTP/1.1\u001b[0m\" 304 -\n",
      "127.0.0.1 - - [02/May/2023 09:19:04] \"\u001b[36mGET /server/static/icon.png HTTP/1.1\u001b[0m\" 304 -\n",
      "127.0.0.1 - - [02/May/2023 09:19:04] \"\u001b[36mGET /server/static/huc.png HTTP/1.1\u001b[0m\" 304 -\n",
      "127.0.0.1 - - [02/May/2023 09:19:04] \"\u001b[36mGET /data/static/logo.png HTTP/1.1\u001b[0m\" 304 -\n",
      "127.0.0.1 - - [02/May/2023 09:19:04] \"\u001b[36mGET /server/static/fonts/fa-solid-900.woff2 HTTP/1.1\u001b[0m\" 304 -\n",
      "127.0.0.1 - - [02/May/2023 09:19:04] \"\u001b[36mGET /server/static/fonts/fa-regular-400.woff2 HTTP/1.1\u001b[0m\" 304 -\n",
      "127.0.0.1 - - [02/May/2023 09:19:04] \"POST /passage HTTP/1.1\" 200 -\n",
      "127.0.0.1 - - [02/May/2023 09:19:04] \"\u001b[36mGET /server/static/favicon.ico HTTP/1.1\u001b[0m\" 304 -\n",
      "127.0.0.1 - - [02/May/2023 09:19:11] \"POST /passage HTTP/1.1\" 200 -\n",
      "127.0.0.1 - - [02/May/2023 09:19:16] \"POST /passage HTTP/1.1\" 200 -\n",
      "127.0.0.1 - - [02/May/2023 09:19:16] \"GET /local/illustrations/artwork-m-15163.jpg HTTP/1.1\" 200 -\n",
      "127.0.0.1 - - [02/May/2023 09:19:16] \"GET /local/illustrations/artwork-m-15164.jpg HTTP/1.1\" 200 -\n",
      "127.0.0.1 - - [02/May/2023 09:19:31] \"POST /passage/6 HTTP/1.1\" 200 -\n"
     ]
    }
   ],
   "source": [
    "!tf-fromtei browse"
   ]
  },
  {
   "cell_type": "code",
   "execution_count": null,
   "id": "d88d7832-8731-4461-a613-9465eaa8d09a",
   "metadata": {},
   "outputs": [],
   "source": []
  }
 ],
 "metadata": {
  "kernelspec": {
   "display_name": "Python 3 (ipykernel)",
   "language": "python",
   "name": "python3"
  },
  "language_info": {
   "codemirror_mode": {
    "name": "ipython",
    "version": 3
   },
   "file_extension": ".py",
   "mimetype": "text/x-python",
   "name": "python",
   "nbconvert_exporter": "python",
   "pygments_lexer": "ipython3",
   "version": "3.11.1"
  }
 },
 "nbformat": 4,
 "nbformat_minor": 5
}
