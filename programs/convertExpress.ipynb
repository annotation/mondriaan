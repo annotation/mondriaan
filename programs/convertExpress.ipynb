{
 "cells": [
  {
   "cell_type": "markdown",
   "id": "ac4e64e0-51fc-4d51-bd04-435253223bc7",
   "metadata": {},
   "source": [
    "# Convert from TEI to TF\n",
    "\n",
    "We show how to convert a TEI data source into TF.\n",
    "\n",
    "This has two stages:\n",
    "\n",
    "1. make an preliminary TF dataset with the character as slot type\n",
    "1. feed the plain text to a tokenizer, and add tokens and sentences to the datset,\n",
    "   while removing its character and word nodes;\n",
    "   the new slot type is token.\n",
    "   \n",
    "A dataset based on characters is precise, but rather inefficient.\n",
    "The second step makes the dataset much more efficient."
   ]
  },
  {
   "cell_type": "markdown",
   "id": "57b5aeab-5915-4c97-9af9-f07b3e56b996",
   "metadata": {},
   "source": [
    "**More ways to do it!**\n",
    "\n",
    "* *convertExpress* : as few commands/feedback/interaction as possible, \n",
    "* [convertSteps](convertSteps.ipynb): broken down in a few command line commands, more feedback\n",
    "* [convertDetails](convertDetails.ipynb): run from Python with full control"
   ]
  },
  {
   "cell_type": "markdown",
   "id": "d7b0ca6d-4b4d-4e7d-ad6e-31a5e5669d8d",
   "metadata": {},
   "source": [
    "## Preliminary conversion"
   ]
  },
  {
   "cell_type": "code",
   "execution_count": 16,
   "id": "1d6bdcaa-aa4a-4069-beb8-11d899db4941",
   "metadata": {},
   "outputs": [
    {
     "name": "stdout",
     "output_type": "stream",
     "text": [
      "Start folder proeftuin:\n",
      "  14 19100131_SAAL_ARNO_0018.xml                       \n",
      "End   folder proeftuin\n",
      "\n",
      "Validation OK\n",
      "Namespaces OK\n",
      "Start folder proeftuin:\n",
      "  14 19100131_SAAL_ARNO_0018.xml                       \n",
      "End   folder proeftuin\n",
      "\n",
      "App updated\n"
     ]
    }
   ],
   "source": [
    "!python tfFromTei.py check\n",
    "!python tfFromTei.py convert\n",
    "!python tfFromTei.py load\n",
    "!python tfFromTei.py app"
   ]
  },
  {
   "cell_type": "markdown",
   "id": "c4eeeca1-4c40-484f-addb-3073453c3760",
   "metadata": {},
   "source": [
    "## Add tokens and sentences"
   ]
  },
  {
   "cell_type": "code",
   "execution_count": 17,
   "id": "f6eac0a3-dc35-4370-be5c-78ba10f88759",
   "metadata": {},
   "outputs": [
    {
     "name": "stdout",
     "output_type": "stream",
     "text": [
      "App updated\n",
      "  0.11s Using NLP pipeline Spacy (nl) ...\n",
      "  3.55s NLP done\n",
      "allTokenFeatures=['str', 'after']\n",
      "allSentenceFeatures=['nsent']\n",
      "  0.00s Feature overview: 45 for nodes; 1 for edges; 1 configs; 9 computed\n",
      "App updated with tokens and sentences \n"
     ]
    }
   ],
   "source": [
    "!python tfFromTei.py app\n",
    "!addnlp all lang=nl\n",
    "!python tfFromTei.py apptoken"
   ]
  },
  {
   "cell_type": "markdown",
   "id": "b9014a5e-f720-43b8-a51c-1f0b1c895e11",
   "metadata": {},
   "source": [
    "## View the result in the TF browser\n",
    "\n",
    "We view the result in the TF browser right from here:\n",
    "\n",
    "To stop the browser, interrupt the kernel (Press `i` twice)."
   ]
  },
  {
   "cell_type": "code",
   "execution_count": null,
   "id": "a5bef615-8396-4c58-a1e9-654716154b38",
   "metadata": {},
   "outputs": [
    {
     "name": "stdout",
     "output_type": "stream",
     "text": [
      "This is Text-Fabric 11.4.0\n",
      "Starting new kernel listening on 10990\n",
      "Loading data for annotation/mondriaan. Please wait ...\n",
      "Setting up TF kernel for annotation/mondriaan  \n",
      "**Locating corpus resources ...**\n",
      "Using app in ~/github/annotation/mondriaan/app:\n",
      "\trepo clone offline under ~/github (local github)\n",
      "Using data in ~/github/annotation/mondriaan/tf/0.8.2:\n",
      "\trepo clone offline under ~/github (local github)\n",
      "   |     0.00s T otype                from ~/github/annotation/mondriaan/tf/0.8.2\n",
      "   |     0.04s T oslots               from ~/github/annotation/mondriaan/tf/0.8.2\n",
      "   |     0.05s T str                  from ~/github/annotation/mondriaan/tf/0.8.2\n",
      "   |     0.00s T letter               from ~/github/annotation/mondriaan/tf/0.8.2\n",
      "   |     0.00s T folder               from ~/github/annotation/mondriaan/tf/0.8.2\n",
      "   |     0.00s T chunk                from ~/github/annotation/mondriaan/tf/0.8.2\n",
      "   |     0.03s T after                from ~/github/annotation/mondriaan/tf/0.8.2\n",
      "   |      |     0.00s C __levels__           from otype, oslots, otext\n",
      "   |      |     0.09s C __order__            from otype, oslots, __levels__\n",
      "   |      |     0.00s C __rank__             from otype, __order__\n",
      "   |      |     0.09s C __levUp__            from otype, oslots, __rank__\n",
      "   |      |     0.02s C __levDown__          from otype, __levUp__, __rank__\n",
      "   |      |     0.00s C __characters__       from otext\n",
      "   |      |     0.03s C __boundary__         from otype, oslots, __rank__\n",
      "   |      |     0.00s C __sections__         from otype, oslots, otext, __levUp__, __levels__, folder, letter, chunk\n",
      "   |     0.00s T dim                  from ~/github/annotation/mondriaan/tf/0.8.2\n",
      "   |     0.00s T empty                from ~/github/annotation/mondriaan/tf/0.8.2\n",
      "   |     0.00s T extraspace           from ~/github/annotation/mondriaan/tf/0.8.2\n",
      "   |     0.00s T f                    from ~/github/annotation/mondriaan/tf/0.8.2\n",
      "   |     0.00s T facs                 from ~/github/annotation/mondriaan/tf/0.8.2\n",
      "   |     0.00s T form                 from ~/github/annotation/mondriaan/tf/0.8.2\n",
      "   |     0.00s T id                   from ~/github/annotation/mondriaan/tf/0.8.2\n",
      "   |     0.00s T is_meta              from ~/github/annotation/mondriaan/tf/0.8.2\n",
      "   |     0.01s T is_note              from ~/github/annotation/mondriaan/tf/0.8.2\n",
      "   |     0.00s T key                  from ~/github/annotation/mondriaan/tf/0.8.2\n",
      "   |     0.00s T lang                 from ~/github/annotation/mondriaan/tf/0.8.2\n",
      "   |     0.00s T n                    from ~/github/annotation/mondriaan/tf/0.8.2\n",
      "   |     0.00s T nsent                from ~/github/annotation/mondriaan/tf/0.8.2\n",
      "   |     0.00s T quantity             from ~/github/annotation/mondriaan/tf/0.8.2\n",
      "   |     0.00s T reason               from ~/github/annotation/mondriaan/tf/0.8.2\n",
      "   |     0.00s T rend                 from ~/github/annotation/mondriaan/tf/0.8.2\n",
      "   |     0.00s T rend_above           from ~/github/annotation/mondriaan/tf/0.8.2\n",
      "   |     0.00s T rend_below           from ~/github/annotation/mondriaan/tf/0.8.2\n",
      "   |     0.00s T rend_blockletter     from ~/github/annotation/mondriaan/tf/0.8.2\n",
      "   |     0.00s T rend_center          from ~/github/annotation/mondriaan/tf/0.8.2\n",
      "   |     0.00s T rend_inline          from ~/github/annotation/mondriaan/tf/0.8.2\n",
      "   |     0.00s T rend_italics         from ~/github/annotation/mondriaan/tf/0.8.2\n",
      "   |     0.00s T rend_overwritten     from ~/github/annotation/mondriaan/tf/0.8.2\n",
      "   |     0.00s T rend_right           from ~/github/annotation/mondriaan/tf/0.8.2\n",
      "   |     0.00s T rend_right_underline from ~/github/annotation/mondriaan/tf/0.8.2\n",
      "   |     0.00s T rend_spaced          from ~/github/annotation/mondriaan/tf/0.8.2\n",
      "   |     0.00s T rend_super           from ~/github/annotation/mondriaan/tf/0.8.2\n",
      "   |     0.00s T rend_super_underline from ~/github/annotation/mondriaan/tf/0.8.2\n",
      "   |     0.00s T rend_super_underline2 from ~/github/annotation/mondriaan/tf/0.8.2\n",
      "   |     0.00s T rend_underline       from ~/github/annotation/mondriaan/tf/0.8.2\n",
      "   |     0.00s T rend_underline2      from ~/github/annotation/mondriaan/tf/0.8.2\n",
      "   |     0.00s T rend_upsidedown      from ~/github/annotation/mondriaan/tf/0.8.2\n",
      "   |     0.00s T target               from ~/github/annotation/mondriaan/tf/0.8.2\n",
      "   |     0.00s T type                 from ~/github/annotation/mondriaan/tf/0.8.2\n",
      "   |     0.00s T unit                 from ~/github/annotation/mondriaan/tf/0.8.2\n",
      "   |     0.00s T url                  from ~/github/annotation/mondriaan/tf/0.8.2\n",
      "   |     0.00s T when                 from ~/github/annotation/mondriaan/tf/0.8.2\n",
      "   |     0.00s T who                  from ~/github/annotation/mondriaan/tf/0.8.2\n",
      "Using data in ~/github/annotation/mondriaan/illustrations:\n",
      "\trepo clone offline under ~/github (local github)\n",
      "<IPython.core.display.HTML object>\n",
      "TF setup done.\n",
      "Starting new webserver listening on 20990\n",
      "\u001b[31m\u001b[1mWARNING: This is a development server. Do not use it in a production deployment. Use a production WSGI server instead.\u001b[0m\n",
      " * Running on http://localhost:20990\n",
      "\u001b[33mPress CTRL+C to quit\u001b[0m\n",
      "Opening annotation/mondriaan in browser\n",
      "127.0.0.1 - - [24/Apr/2023 20:22:24] \"GET / HTTP/1.1\" 200 -\n",
      "Press <Ctrl+C> to stop the TF browser\n",
      "Kernel listening at port 10990\n",
      "127.0.0.1 - - [24/Apr/2023 20:22:24] \"\u001b[36mGET /server/static/highlight.css HTTP/1.1\u001b[0m\" 304 -\n",
      "127.0.0.1 - - [24/Apr/2023 20:22:24] \"\u001b[36mGET /server/static/fonts.css HTTP/1.1\u001b[0m\" 304 -\n",
      "127.0.0.1 - - [24/Apr/2023 20:22:24] \"\u001b[36mGET /server/static/display.css HTTP/1.1\u001b[0m\" 304 -\n",
      "127.0.0.1 - - [24/Apr/2023 20:22:24] \"\u001b[36mGET /server/static/index.css HTTP/1.1\u001b[0m\" 304 -\n",
      "127.0.0.1 - - [24/Apr/2023 20:22:24] \"\u001b[36mGET /server/static/base.css HTTP/1.1\u001b[0m\" 304 -\n",
      "127.0.0.1 - - [24/Apr/2023 20:22:24] \"\u001b[36mGET /server/static/fontawesome.css HTTP/1.1\u001b[0m\" 304 -\n",
      "127.0.0.1 - - [24/Apr/2023 20:22:24] \"\u001b[36mGET /server/static/jquery.js HTTP/1.1\u001b[0m\" 304 -\n",
      "127.0.0.1 - - [24/Apr/2023 20:22:24] \"\u001b[36mGET /server/static/tf3.0.js HTTP/1.1\u001b[0m\" 304 -\n",
      "127.0.0.1 - - [24/Apr/2023 20:22:24] \"\u001b[36mGET /server/static/fonts/fa-regular-400.woff2 HTTP/1.1\u001b[0m\" 304 -\n",
      "127.0.0.1 - - [24/Apr/2023 20:22:24] \"\u001b[36mGET /server/static/fonts/fa-solid-900.woff2 HTTP/1.1\u001b[0m\" 304 -\n",
      "127.0.0.1 - - [24/Apr/2023 20:22:24] \"\u001b[36mGET /server/static/icon.png HTTP/1.1\u001b[0m\" 304 -\n",
      "127.0.0.1 - - [24/Apr/2023 20:22:24] \"\u001b[36mGET /server/static/huc.png HTTP/1.1\u001b[0m\" 304 -\n",
      "127.0.0.1 - - [24/Apr/2023 20:22:24] \"\u001b[36mGET /data/static/logo.png HTTP/1.1\u001b[0m\" 304 -\n",
      "127.0.0.1 - - [24/Apr/2023 20:22:24] \"POST /passage HTTP/1.1\" 200 -\n",
      "127.0.0.1 - - [24/Apr/2023 20:22:24] \"POST / HTTP/1.1\" 200 -\n",
      "127.0.0.1 - - [24/Apr/2023 20:22:24] \"\u001b[36mGET /server/static/base.css HTTP/1.1\u001b[0m\" 304 -\n",
      "127.0.0.1 - - [24/Apr/2023 20:22:24] \"\u001b[36mGET /server/static/display.css HTTP/1.1\u001b[0m\" 304 -\n",
      "127.0.0.1 - - [24/Apr/2023 20:22:24] \"\u001b[36mGET /server/static/highlight.css HTTP/1.1\u001b[0m\" 304 -\n",
      "127.0.0.1 - - [24/Apr/2023 20:22:24] \"\u001b[36mGET /server/static/fonts.css HTTP/1.1\u001b[0m\" 304 -\n",
      "127.0.0.1 - - [24/Apr/2023 20:22:24] \"\u001b[36mGET /server/static/index.css HTTP/1.1\u001b[0m\" 304 -\n",
      "127.0.0.1 - - [24/Apr/2023 20:22:24] \"\u001b[36mGET /server/static/fontawesome.css HTTP/1.1\u001b[0m\" 304 -\n",
      "127.0.0.1 - - [24/Apr/2023 20:22:24] \"\u001b[36mGET /server/static/jquery.js HTTP/1.1\u001b[0m\" 304 -\n",
      "127.0.0.1 - - [24/Apr/2023 20:22:24] \"\u001b[36mGET /server/static/tf3.0.js HTTP/1.1\u001b[0m\" 304 -\n",
      "127.0.0.1 - - [24/Apr/2023 20:22:24] \"\u001b[36mGET /server/static/icon.png HTTP/1.1\u001b[0m\" 304 -\n",
      "127.0.0.1 - - [24/Apr/2023 20:22:24] \"\u001b[36mGET /server/static/huc.png HTTP/1.1\u001b[0m\" 304 -\n",
      "127.0.0.1 - - [24/Apr/2023 20:22:24] \"\u001b[36mGET /data/static/logo.png HTTP/1.1\u001b[0m\" 304 -\n",
      "127.0.0.1 - - [24/Apr/2023 20:22:24] \"\u001b[36mGET /server/static/fonts/fa-solid-900.woff2 HTTP/1.1\u001b[0m\" 304 -\n",
      "127.0.0.1 - - [24/Apr/2023 20:22:25] \"POST /passage HTTP/1.1\" 200 -\n",
      "127.0.0.1 - - [24/Apr/2023 20:22:25] \"\u001b[36mGET /server/static/fonts/fa-regular-400.woff2 HTTP/1.1\u001b[0m\" 304 -\n"
     ]
    }
   ],
   "source": [
    "!python tfFromTei.py browse"
   ]
  },
  {
   "cell_type": "code",
   "execution_count": null,
   "id": "d88d7832-8731-4461-a613-9465eaa8d09a",
   "metadata": {},
   "outputs": [],
   "source": []
  }
 ],
 "metadata": {
  "kernelspec": {
   "display_name": "Python 3 (ipykernel)",
   "language": "python",
   "name": "python3"
  },
  "language_info": {
   "codemirror_mode": {
    "name": "ipython",
    "version": 3
   },
   "file_extension": ".py",
   "mimetype": "text/x-python",
   "name": "python",
   "nbconvert_exporter": "python",
   "pygments_lexer": "ipython3",
   "version": "3.11.1"
  }
 },
 "nbformat": 4,
 "nbformat_minor": 5
}
